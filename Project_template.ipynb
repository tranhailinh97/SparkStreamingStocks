{
 "cells": [
  {
   "cell_type": "markdown",
   "id": "3b03948a",
   "metadata": {},
   "source": [
    "## Project Template"
   ]
  },
  {
   "cell_type": "code",
   "execution_count": 1,
   "id": "40fb068b",
   "metadata": {},
   "outputs": [
    {
     "name": "stderr",
     "output_type": "stream",
     "text": [
      "Ivy Default Cache set to: /root/.ivy2/cache\n",
      "The jars for the packages stored in: /root/.ivy2/jars\n",
      ":: loading settings :: url = jar:file:/usr/local/lib/python3.9/dist-packages/pyspark/jars/ivy-2.4.0.jar!/org/apache/ivy/core/settings/ivysettings.xml\n",
      "org.apache.spark#spark-sql-kafka-0-10_2.12 added as a dependency\n",
      ":: resolving dependencies :: org.apache.spark#spark-submit-parent-370e96d6-319e-4426-914e-f9664b94a0c2;1.0\n",
      "\tconfs: [default]\n",
      "\tfound org.apache.spark#spark-sql-kafka-0-10_2.12;3.0.0 in central\n",
      "\tfound org.apache.spark#spark-token-provider-kafka-0-10_2.12;3.0.0 in central\n",
      "\tfound org.apache.kafka#kafka-clients;2.4.1 in central\n",
      "\tfound com.github.luben#zstd-jni;1.4.4-3 in central\n",
      "\tfound org.lz4#lz4-java;1.7.1 in central\n",
      "\tfound org.xerial.snappy#snappy-java;1.1.7.5 in central\n",
      "\tfound org.slf4j#slf4j-api;1.7.30 in central\n",
      "\tfound org.spark-project.spark#unused;1.0.0 in central\n",
      "\tfound org.apache.commons#commons-pool2;2.6.2 in central\n",
      ":: resolution report :: resolve 182ms :: artifacts dl 4ms\n",
      "\t:: modules in use:\n",
      "\tcom.github.luben#zstd-jni;1.4.4-3 from central in [default]\n",
      "\torg.apache.commons#commons-pool2;2.6.2 from central in [default]\n",
      "\torg.apache.kafka#kafka-clients;2.4.1 from central in [default]\n",
      "\torg.apache.spark#spark-sql-kafka-0-10_2.12;3.0.0 from central in [default]\n",
      "\torg.apache.spark#spark-token-provider-kafka-0-10_2.12;3.0.0 from central in [default]\n",
      "\torg.lz4#lz4-java;1.7.1 from central in [default]\n",
      "\torg.slf4j#slf4j-api;1.7.30 from central in [default]\n",
      "\torg.spark-project.spark#unused;1.0.0 from central in [default]\n",
      "\torg.xerial.snappy#snappy-java;1.1.7.5 from central in [default]\n",
      "\t---------------------------------------------------------------------\n",
      "\t|                  |            modules            ||   artifacts   |\n",
      "\t|       conf       | number| search|dwnlded|evicted|| number|dwnlded|\n",
      "\t---------------------------------------------------------------------\n",
      "\t|      default     |   9   |   0   |   0   |   0   ||   9   |   0   |\n",
      "\t---------------------------------------------------------------------\n",
      ":: retrieving :: org.apache.spark#spark-submit-parent-370e96d6-319e-4426-914e-f9664b94a0c2\n",
      "\tconfs: [default]\n",
      "\t0 artifacts copied, 9 already retrieved (0kB/4ms)\n",
      "23/11/06 20:17:20 WARN NativeCodeLoader: Unable to load native-hadoop library for your platform... using builtin-java classes where applicable\n",
      "Using Spark's default log4j profile: org/apache/spark/log4j-defaults.properties\n",
      "Setting default log level to \"WARN\".\n",
      "To adjust logging level use sc.setLogLevel(newLevel). For SparkR, use setLogLevel(newLevel).\n"
     ]
    }
   ],
   "source": [
    "from pyspark.sql.functions import explode\n",
    "from pyspark.sql.functions import split\n",
    "\n",
    "from pyspark.context import SparkContext\n",
    "from pyspark.conf import SparkConf\n",
    "from pyspark.sql.session import SparkSession\n",
    "from pyspark.sql.functions import col\n",
    "from pyspark.sql.window import Window\n",
    "\n",
    "spark = SparkSession.builder \\\n",
    "    .appName(\"MyApp\") \\\n",
    "    .config(\"spark.jars.packages\", 'org.apache.spark:spark-sql-kafka-0-10_2.12:3.0.0') \\\n",
    "    .config(\"spark.sql.repl.eagerEval.enabled\", True) \\\n",
    "    .getOrCreate()\n"
   ]
  },
  {
   "cell_type": "markdown",
   "id": "46cdb295",
   "metadata": {},
   "source": [
    "Be sure to start the stream on Kafka!"
   ]
  },
  {
   "cell_type": "code",
   "execution_count": 2,
   "id": "06d4b052",
   "metadata": {},
   "outputs": [],
   "source": [
    "from pyspark.sql.types import StructType, StructField, StringType, IntegerType, DoubleType, BooleanType, TimestampType, DateType\n",
    "\n",
    "schema = StructType(\n",
    "      [\n",
    "        StructField(\"name\", StringType(), False),\n",
    "        StructField(\"price\", DoubleType(), False),\n",
    "        StructField(\"timestamp\", TimestampType(), False),\n",
    "      ]\n",
    "    )\n"
   ]
  },
  {
   "cell_type": "code",
   "execution_count": 3,
   "id": "d55c1b5d",
   "metadata": {},
   "outputs": [],
   "source": [
    "kafka_server = \"kafka1:9092\"   \n",
    "from pyspark.sql.functions import from_json\n",
    "\n",
    "lines = (spark.readStream                        # Get the DataStreamReader\n",
    "  .format(\"kafka\")                                 # Specify the source format as \"kafka\"\n",
    "  .option(\"kafka.bootstrap.servers\", kafka_server) # Configure the Kafka server name and port\n",
    "  .option(\"subscribe\", \"stock\")                       # Subscribe to the \"en\" Kafka topic \n",
    "  .option(\"startingOffsets\", \"earliest\")           # The start point when a query is started\n",
    "  .option(\"maxOffsetsPerTrigger\", 100)             # Rate limit on max offsets per trigger interval\n",
    "  .load()\n",
    "  .select(from_json(col(\"value\").cast(\"string\"), schema).alias(\"parsed_value\"))\n",
    "# Load the DataFrame\n",
    ")\n",
    "df = lines.select(\"parsed_value.*\")\n"
   ]
  },
  {
   "cell_type": "markdown",
   "id": "47b9a83f",
   "metadata": {},
   "source": [
    "## The assignment starts here\n",
    "\n",
    "You can create a"
   ]
  },
  {
   "cell_type": "markdown",
   "id": "8cd635d5",
   "metadata": {},
   "source": [
    "## Select the N most valuable stocks in a window"
   ]
  },
  {
   "cell_type": "code",
   "execution_count": 4,
   "id": "32055e2a",
   "metadata": {
    "scrolled": true
   },
   "outputs": [
    {
     "name": "stderr",
     "output_type": "stream",
     "text": [
      "23/11/06 20:17:30 WARN StreamingQueryManager: Temporary checkpoint location created which is deleted normally when the query didn't fail: /tmp/temporary-30c8155e-b951-491a-bed3-7090ef39033b. If it's required to delete it under any circumstances, please set spark.sql.streaming.forceDeleteTempCheckpointLocation to true. Important to know deleting temp checkpoint folder is best effort.\n",
      "                                                                                \r"
     ]
    }
   ],
   "source": [
    "from pyspark.sql.functions import window, col\n",
    "\n",
    "\n",
    "N = 10\n",
    "\n",
    "windowedDF = df \\\n",
    "        .withWatermark(\"timestamp\", \"30 seconds\") \\\n",
    "        .groupBy(window(\"timestamp\", \"5 minutes\"), \"name\") \\\n",
    "        .agg({\"price\": \"max\"})\n",
    "\n",
    "\n",
    "top_stocks = windowedDF.orderBy(col(\"window\").asc(),  col(\"max(price)\").desc()).limit(N)\n",
    "top_stocks.createOrReplaceTempView(\"top_stocks\")\n",
    "\n",
    "\n",
    "# Save results\n",
    "query_1 = (top_stocks.writeStream\n",
    "         .outputMode(\"complete\")\n",
    "         .format(\"memory\")\n",
    "         .queryName(\"MostValuableStock\")\n",
    "         .option(\"truncate\", False)\n",
    "         .start())\n",
    "\n"
   ]
  },
  {
   "cell_type": "code",
   "execution_count": 5,
   "id": "b5a31c9b",
   "metadata": {},
   "outputs": [
    {
     "name": "stderr",
     "output_type": "stream",
     "text": [
      "                                                                                \r"
     ]
    },
    {
     "name": "stdout",
     "output_type": "stream",
     "text": [
      "+------------------------------------------+-----+----------+\n",
      "|window                                    |name |max(price)|\n",
      "+------------------------------------------+-----+----------+\n",
      "|[2023-11-05 11:05:00, 2023-11-05 11:10:00]|PCLN |819.98    |\n",
      "|[2023-11-05 11:05:00, 2023-11-05 11:10:00]|GOOGL|414.2338  |\n",
      "|[2023-11-05 11:05:00, 2023-11-05 11:10:00]|AZO  |384.01    |\n",
      "|[2023-11-05 11:05:00, 2023-11-05 11:10:00]|CMG  |378.4     |\n",
      "|[2023-11-05 11:05:00, 2023-11-05 11:10:00]|AMZN |269.98    |\n",
      "|[2023-11-05 11:05:00, 2023-11-05 11:10:00]|GWW  |261.34    |\n",
      "|[2023-11-05 11:05:00, 2023-11-05 11:10:00]|EQIX |219.94    |\n",
      "|[2023-11-05 11:05:00, 2023-11-05 11:10:00]|IBM  |211.98    |\n",
      "|[2023-11-05 11:05:00, 2023-11-05 11:10:00]|ISRG |192.6465  |\n",
      "|[2023-11-05 11:05:00, 2023-11-05 11:10:00]|ADS  |180.39    |\n",
      "+------------------------------------------+-----+----------+\n",
      "\n"
     ]
    },
    {
     "data": {
      "image/png": "[encoded data removed]",
      "text/plain": [
       "<Figure size 1000x600 with 1 Axes>"
      ]
     },
     "metadata": {},
     "output_type": "display_data"
    },
    {
     "name": "stderr",
     "output_type": "stream",
     "text": [
      "                                                                                \r"
     ]
    }
   ],
   "source": [
    "from matplotlib import pyplot as plt\n",
    "\n",
    "data = spark.sql(\"SELECT * FROM MostValuableStock\")\n",
    "data.show(truncate=False)\n",
    "\n",
    "name_list = [row[\"name\"] for row in data.collect()]\n",
    "price_list = [row[\"max(price)\"] for row in data.collect()]\n",
    "window_time = data.select(\"window\").first()[\"window\"]\n",
    "\n",
    "# Plot \n",
    "plt.figure(figsize=(10, 6))\n",
    "plt.bar(name_list, price_list)\n",
    "plt.xlabel(\"Name\")\n",
    "plt.ylabel(\"Price\")\n",
    "plt.title(f\"Top 10 Most Valuable Stocks With Window {window_time}\")\n",
    "plt.xticks(rotation=45)\n",
    "\n",
    "plt.show()"
   ]
  },
  {
   "cell_type": "markdown",
   "id": "c1881ab8",
   "metadata": {},
   "source": [
    "## Select the stocks that lost value between two windows"
   ]
  },
  {
   "cell_type": "code",
   "execution_count": 7,
   "id": "7c825c1c",
   "metadata": {
    "scrolled": true
   },
   "outputs": [
    {
     "name": "stderr",
     "output_type": "stream",
     "text": [
      "23/11/06 20:18:59 WARN StreamingQueryManager: Temporary checkpoint location created which is deleted normally when the query didn't fail: /tmp/temporary-2b2ed810-dfff-41a6-bdcf-18924720e0c1. If it's required to delete it under any circumstances, please set spark.sql.streaming.forceDeleteTempCheckpointLocation to true. Important to know deleting temp checkpoint folder is best effort.\n",
      "                                                                                \r"
     ]
    },
    {
     "name": "stdout",
     "output_type": "stream",
     "text": [
      "+------+----+----------+--------------+---------------+\n",
      "|window|name|avg(price)|previous_price|previous_window|\n",
      "+------+----+----------+--------------+---------------+\n",
      "+------+----+----------+--------------+---------------+\n",
      "\n"
     ]
    },
    {
     "name": "stderr",
     "output_type": "stream",
     "text": [
      "                                                                                \r"
     ]
    },
    {
     "name": "stdout",
     "output_type": "stream",
     "text": [
      "+------+----+----------+--------------+---------------+\n",
      "|window|name|avg(price)|previous_price|previous_window|\n",
      "+------+----+----------+--------------+---------------+\n",
      "+------+----+----------+--------------+---------------+\n",
      "\n"
     ]
    },
    {
     "name": "stderr",
     "output_type": "stream",
     "text": [
      "                                                                                \r"
     ]
    },
    {
     "name": "stdout",
     "output_type": "stream",
     "text": [
      "+------+----+----------+--------------+---------------+\n",
      "|window|name|avg(price)|previous_price|previous_window|\n",
      "+------+----+----------+--------------+---------------+\n",
      "+------+----+----------+--------------+---------------+\n",
      "\n"
     ]
    },
    {
     "name": "stderr",
     "output_type": "stream",
     "text": [
      "                                                                                \r"
     ]
    },
    {
     "name": "stdout",
     "output_type": "stream",
     "text": [
      "+------+----+----------+--------------+---------------+\n",
      "|window|name|avg(price)|previous_price|previous_window|\n",
      "+------+----+----------+--------------+---------------+\n",
      "+------+----+----------+--------------+---------------+\n",
      "\n"
     ]
    },
    {
     "name": "stderr",
     "output_type": "stream",
     "text": [
      "                                                                                \r"
     ]
    },
    {
     "name": "stdout",
     "output_type": "stream",
     "text": [
      "+------------------------------------------+----+----------+------------------+------------------------------------------+\n",
      "|window                                    |name|avg(price)|previous_price    |previous_window                           |\n",
      "+------------------------------------------+----+----------+------------------+------------------------------------------+\n",
      "|[2023-11-05 11:10:00, 2023-11-05 11:15:00]|AVY |42.56     |43.17             |[2023-11-05 11:05:00, 2023-11-05 11:10:00]|\n",
      "|[2023-11-05 11:10:00, 2023-11-05 11:15:00]|CLX |84.975    |86.4              |[2023-11-05 11:05:00, 2023-11-05 11:10:00]|\n",
      "|[2023-11-05 11:10:00, 2023-11-05 11:15:00]|COP |60.8      |61.82             |[2023-11-05 11:05:00, 2023-11-05 11:10:00]|\n",
      "|[2023-11-05 11:10:00, 2023-11-05 11:15:00]|LB  |50.34     |51.48             |[2023-11-05 11:05:00, 2023-11-05 11:10:00]|\n",
      "|[2023-11-05 11:10:00, 2023-11-05 11:15:00]|XYL |26.63     |27.835            |[2023-11-05 11:05:00, 2023-11-05 11:10:00]|\n",
      "|[2023-11-05 11:10:00, 2023-11-05 11:15:00]|CAG |33.64     |35.64             |[2023-11-05 11:05:00, 2023-11-05 11:10:00]|\n",
      "|[2023-11-05 11:10:00, 2023-11-05 11:15:00]|HCP |46.78     |50.394999999999996|[2023-11-05 11:05:00, 2023-11-05 11:10:00]|\n",
      "|[2023-11-05 11:10:00, 2023-11-05 11:15:00]|APA |81.94     |85.82             |[2023-11-05 11:05:00, 2023-11-05 11:10:00]|\n",
      "|[2023-11-05 11:10:00, 2023-11-05 11:15:00]|HD  |75.43     |77.0              |[2023-11-05 11:05:00, 2023-11-05 11:10:00]|\n",
      "|[2023-11-05 11:10:00, 2023-11-05 11:15:00]|SLB |76.88     |77.04             |[2023-11-05 11:05:00, 2023-11-05 11:10:00]|\n",
      "|[2023-11-05 11:10:00, 2023-11-05 11:15:00]|GS  |152.77    |156.32333333333332|[2023-11-05 11:05:00, 2023-11-05 11:10:00]|\n",
      "|[2023-11-05 11:10:00, 2023-11-05 11:15:00]|AEE |35.31     |36.25             |[2023-11-05 11:05:00, 2023-11-05 11:10:00]|\n",
      "|[2023-11-05 11:10:00, 2023-11-05 11:15:00]|KO  |41.07     |43.05             |[2023-11-05 11:05:00, 2023-11-05 11:10:00]|\n",
      "|[2023-11-05 11:10:00, 2023-11-05 11:15:00]|SBAC|74.28     |80.1325           |[2023-11-05 11:05:00, 2023-11-05 11:10:00]|\n",
      "|[2023-11-05 11:10:00, 2023-11-05 11:15:00]|BEN |46.235    |47.025            |[2023-11-05 11:05:00, 2023-11-05 11:10:00]|\n",
      "+------------------------------------------+----+----------+------------------+------------------------------------------+\n",
      "\n"
     ]
    },
    {
     "name": "stderr",
     "output_type": "stream",
     "text": [
      "                                                                                \r"
     ]
    },
    {
     "name": "stdout",
     "output_type": "stream",
     "text": [
      "+------------------------------------------+----+----------+------------------+------------------------------------------+\n",
      "|window                                    |name|avg(price)|previous_price    |previous_window                           |\n",
      "+------------------------------------------+----+----------+------------------+------------------------------------------+\n",
      "|[2023-11-05 11:10:00, 2023-11-05 11:15:00]|AVY |42.56     |43.17             |[2023-11-05 11:05:00, 2023-11-05 11:10:00]|\n",
      "|[2023-11-05 11:10:00, 2023-11-05 11:15:00]|CLX |84.975    |86.4              |[2023-11-05 11:05:00, 2023-11-05 11:10:00]|\n",
      "|[2023-11-05 11:10:00, 2023-11-05 11:15:00]|PHM |16.11     |19.69             |[2023-11-05 11:05:00, 2023-11-05 11:10:00]|\n",
      "|[2023-11-05 11:10:00, 2023-11-05 11:15:00]|SCG |52.46     |53.2375           |[2023-11-05 11:05:00, 2023-11-05 11:10:00]|\n",
      "|[2023-11-05 11:10:00, 2023-11-05 11:15:00]|MPC |35.4975   |43.620000000000005|[2023-11-05 11:05:00, 2023-11-05 11:10:00]|\n",
      "|[2023-11-05 11:10:00, 2023-11-05 11:15:00]|ACN |73.7      |77.0              |[2023-11-05 11:05:00, 2023-11-05 11:10:00]|\n",
      "|[2023-11-05 11:10:00, 2023-11-05 11:15:00]|COP |60.8      |61.82             |[2023-11-05 11:05:00, 2023-11-05 11:10:00]|\n",
      "|[2023-11-05 11:10:00, 2023-11-05 11:15:00]|DHI |18.91     |23.97             |[2023-11-05 11:05:00, 2023-11-05 11:10:00]|\n",
      "|[2023-11-05 11:10:00, 2023-11-05 11:15:00]|LB  |50.34     |51.48             |[2023-11-05 11:05:00, 2023-11-05 11:10:00]|\n",
      "|[2023-11-05 11:10:00, 2023-11-05 11:15:00]|XYL |26.63     |27.835            |[2023-11-05 11:05:00, 2023-11-05 11:10:00]|\n",
      "|[2023-11-05 11:10:00, 2023-11-05 11:15:00]|CAG |33.64     |35.64             |[2023-11-05 11:05:00, 2023-11-05 11:10:00]|\n",
      "|[2023-11-05 11:10:00, 2023-11-05 11:15:00]|HCP |46.78     |50.394999999999996|[2023-11-05 11:05:00, 2023-11-05 11:10:00]|\n",
      "|[2023-11-05 11:10:00, 2023-11-05 11:15:00]|APA |81.94     |85.82             |[2023-11-05 11:05:00, 2023-11-05 11:10:00]|\n",
      "|[2023-11-05 11:10:00, 2023-11-05 11:15:00]|TIF |79.38     |79.44             |[2023-11-05 11:05:00, 2023-11-05 11:10:00]|\n",
      "|[2023-11-05 11:10:00, 2023-11-05 11:15:00]|ORCL|32.6      |34.162499999999994|[2023-11-05 11:05:00, 2023-11-05 11:10:00]|\n",
      "|[2023-11-05 11:10:00, 2023-11-05 11:15:00]|SLB |76.88     |77.04             |[2023-11-05 11:05:00, 2023-11-05 11:10:00]|\n",
      "|[2023-11-05 11:10:00, 2023-11-05 11:15:00]|GS  |152.77    |156.32333333333332|[2023-11-05 11:05:00, 2023-11-05 11:10:00]|\n",
      "|[2023-11-05 11:10:00, 2023-11-05 11:15:00]|AEE |35.3      |36.25             |[2023-11-05 11:05:00, 2023-11-05 11:10:00]|\n",
      "|[2023-11-05 11:10:00, 2023-11-05 11:15:00]|KO  |40.875    |43.05             |[2023-11-05 11:05:00, 2023-11-05 11:10:00]|\n",
      "|[2023-11-05 11:10:00, 2023-11-05 11:15:00]|SBAC|74.28     |80.1325           |[2023-11-05 11:05:00, 2023-11-05 11:10:00]|\n",
      "+------------------------------------------+----+----------+------------------+------------------------------------------+\n",
      "only showing top 20 rows\n",
      "\n"
     ]
    },
    {
     "name": "stderr",
     "output_type": "stream",
     "text": [
      "                                                                                \r"
     ]
    },
    {
     "name": "stdout",
     "output_type": "stream",
     "text": [
      "+------------------------------------------+----+----------+------------------+------------------------------------------+\n",
      "|window                                    |name|avg(price)|previous_price    |previous_window                           |\n",
      "+------------------------------------------+----+----------+------------------+------------------------------------------+\n",
      "|[2023-11-05 11:10:00, 2023-11-05 11:15:00]|GIS |49.5      |50.5207           |[2023-11-05 11:05:00, 2023-11-05 11:10:00]|\n",
      "|[2023-11-05 11:10:00, 2023-11-05 11:15:00]|AVY |42.56     |43.17             |[2023-11-05 11:05:00, 2023-11-05 11:10:00]|\n",
      "|[2023-11-05 11:10:00, 2023-11-05 11:15:00]|CLX |84.975    |86.4              |[2023-11-05 11:05:00, 2023-11-05 11:10:00]|\n",
      "|[2023-11-05 11:10:00, 2023-11-05 11:15:00]|PHM |16.11     |19.69             |[2023-11-05 11:05:00, 2023-11-05 11:10:00]|\n",
      "|[2023-11-05 11:10:00, 2023-11-05 11:15:00]|SCG |52.46     |53.2375           |[2023-11-05 11:05:00, 2023-11-05 11:10:00]|\n",
      "|[2023-11-05 11:10:00, 2023-11-05 11:15:00]|MPC |35.4975   |43.620000000000005|[2023-11-05 11:05:00, 2023-11-05 11:10:00]|\n",
      "|[2023-11-05 11:10:00, 2023-11-05 11:15:00]|ACN |73.7      |77.0              |[2023-11-05 11:05:00, 2023-11-05 11:10:00]|\n",
      "|[2023-11-05 11:10:00, 2023-11-05 11:15:00]|DHI |18.91     |23.97             |[2023-11-05 11:05:00, 2023-11-05 11:10:00]|\n",
      "|[2023-11-05 11:10:00, 2023-11-05 11:15:00]|LB  |50.34     |51.48             |[2023-11-05 11:05:00, 2023-11-05 11:10:00]|\n",
      "|[2023-11-05 11:10:00, 2023-11-05 11:15:00]|AMT |75.02     |78.3452           |[2023-11-05 11:05:00, 2023-11-05 11:10:00]|\n",
      "|[2023-11-05 11:10:00, 2023-11-05 11:15:00]|XYL |26.63     |27.835            |[2023-11-05 11:05:00, 2023-11-05 11:10:00]|\n",
      "|[2023-11-05 11:10:00, 2023-11-05 11:15:00]|BXP |107.04    |110.68833333333333|[2023-11-05 11:05:00, 2023-11-05 11:10:00]|\n",
      "|[2023-11-05 11:10:00, 2023-11-05 11:15:00]|CAG |33.64     |35.64             |[2023-11-05 11:05:00, 2023-11-05 11:10:00]|\n",
      "|[2023-11-05 11:10:00, 2023-11-05 11:15:00]|HCP |44.325    |50.394999999999996|[2023-11-05 11:05:00, 2023-11-05 11:10:00]|\n",
      "|[2023-11-05 11:10:00, 2023-11-05 11:15:00]|APA |81.94     |85.82             |[2023-11-05 11:05:00, 2023-11-05 11:10:00]|\n",
      "|[2023-11-05 11:10:00, 2023-11-05 11:15:00]|TIF |79.38     |79.44             |[2023-11-05 11:05:00, 2023-11-05 11:10:00]|\n",
      "|[2023-11-05 11:10:00, 2023-11-05 11:15:00]|ORCL|32.6      |34.162499999999994|[2023-11-05 11:05:00, 2023-11-05 11:10:00]|\n",
      "|[2023-11-05 11:10:00, 2023-11-05 11:15:00]|PPL |30.41     |30.42             |[2023-11-05 11:05:00, 2023-11-05 11:10:00]|\n",
      "|[2023-11-05 11:10:00, 2023-11-05 11:15:00]|SLB |76.88     |77.04             |[2023-11-05 11:05:00, 2023-11-05 11:10:00]|\n",
      "|[2023-11-05 11:10:00, 2023-11-05 11:15:00]|GS  |152.77    |156.32333333333332|[2023-11-05 11:05:00, 2023-11-05 11:10:00]|\n",
      "+------------------------------------------+----+----------+------------------+------------------------------------------+\n",
      "only showing top 20 rows\n",
      "\n"
     ]
    },
    {
     "name": "stderr",
     "output_type": "stream",
     "text": [
      "                                                                                \r"
     ]
    },
    {
     "name": "stdout",
     "output_type": "stream",
     "text": [
      "+------------------------------------------+----+------------------+------------------+------------------------------------------+\n",
      "|window                                    |name|avg(price)        |previous_price    |previous_window                           |\n",
      "+------------------------------------------+----+------------------+------------------+------------------------------------------+\n",
      "|[2023-11-05 11:10:00, 2023-11-05 11:15:00]|GIS |49.635000000000005|50.5207           |[2023-11-05 11:05:00, 2023-11-05 11:10:00]|\n",
      "|[2023-11-05 11:10:00, 2023-11-05 11:15:00]|AVY |42.56             |43.17             |[2023-11-05 11:05:00, 2023-11-05 11:10:00]|\n",
      "|[2023-11-05 11:10:00, 2023-11-05 11:15:00]|CLX |84.975            |86.4              |[2023-11-05 11:05:00, 2023-11-05 11:10:00]|\n",
      "|[2023-11-05 11:10:00, 2023-11-05 11:15:00]|FRT |103.98            |111.75999999999999|[2023-11-05 11:05:00, 2023-11-05 11:10:00]|\n",
      "|[2023-11-05 11:10:00, 2023-11-05 11:15:00]|XOM |86.04             |91.195            |[2023-11-05 11:05:00, 2023-11-05 11:10:00]|\n",
      "|[2023-11-05 11:10:00, 2023-11-05 11:15:00]|PHM |16.11             |19.69             |[2023-11-05 11:05:00, 2023-11-05 11:10:00]|\n",
      "|[2023-11-05 11:10:00, 2023-11-05 11:15:00]|SPG |151.61            |175.05            |[2023-11-05 11:05:00, 2023-11-05 11:10:00]|\n",
      "|[2023-11-05 11:10:00, 2023-11-05 11:15:00]|CCL |32.49505          |33.150000000000006|[2023-11-05 11:05:00, 2023-11-05 11:10:00]|\n",
      "|[2023-11-05 11:10:00, 2023-11-05 11:15:00]|SCG |49.980000000000004|53.2375           |[2023-11-05 11:05:00, 2023-11-05 11:10:00]|\n",
      "|[2023-11-05 11:10:00, 2023-11-05 11:15:00]|MPC |35.4975           |43.620000000000005|[2023-11-05 11:05:00, 2023-11-05 11:10:00]|\n",
      "|[2023-11-05 11:10:00, 2023-11-05 11:15:00]|ACN |73.7              |77.0              |[2023-11-05 11:05:00, 2023-11-05 11:10:00]|\n",
      "|[2023-11-05 11:10:00, 2023-11-05 11:15:00]|T   |33.65             |37.69             |[2023-11-05 11:05:00, 2023-11-05 11:10:00]|\n",
      "|[2023-11-05 11:10:00, 2023-11-05 11:15:00]|DHI |18.91             |23.97             |[2023-11-05 11:05:00, 2023-11-05 11:10:00]|\n",
      "|[2023-11-05 11:10:00, 2023-11-05 11:15:00]|LB  |50.34             |51.48             |[2023-11-05 11:05:00, 2023-11-05 11:10:00]|\n",
      "|[2023-11-05 11:10:00, 2023-11-05 11:15:00]|AMT |75.02             |78.3452           |[2023-11-05 11:05:00, 2023-11-05 11:10:00]|\n",
      "|[2023-11-05 11:10:00, 2023-11-05 11:15:00]|HCN |63.629999999999995|74.235            |[2023-11-05 11:05:00, 2023-11-05 11:10:00]|\n",
      "|[2023-11-05 11:10:00, 2023-11-05 11:15:00]|XYL |26.63             |27.835            |[2023-11-05 11:05:00, 2023-11-05 11:10:00]|\n",
      "|[2023-11-05 11:10:00, 2023-11-05 11:15:00]|BXP |107.04            |110.68833333333333|[2023-11-05 11:05:00, 2023-11-05 11:10:00]|\n",
      "|[2023-11-05 11:10:00, 2023-11-05 11:15:00]|CAG |31.893333333333334|35.64             |[2023-11-05 11:05:00, 2023-11-05 11:10:00]|\n",
      "|[2023-11-05 11:10:00, 2023-11-05 11:15:00]|KMI |35.76             |39.11             |[2023-11-05 11:05:00, 2023-11-05 11:10:00]|\n",
      "+------------------------------------------+----+------------------+------------------+------------------------------------------+\n",
      "only showing top 20 rows\n",
      "\n"
     ]
    },
    {
     "name": "stderr",
     "output_type": "stream",
     "text": [
      "                                                                                \r"
     ]
    },
    {
     "name": "stdout",
     "output_type": "stream",
     "text": [
      "+------------------------------------------+----+------------------+------------------+------------------------------------------+\n",
      "|window                                    |name|avg(price)        |previous_price    |previous_window                           |\n",
      "+------------------------------------------+----+------------------+------------------+------------------------------------------+\n",
      "|[2023-11-05 11:10:00, 2023-11-05 11:15:00]|GIS |49.35666666666666 |50.5207           |[2023-11-05 11:05:00, 2023-11-05 11:10:00]|\n",
      "|[2023-11-05 11:10:00, 2023-11-05 11:15:00]|AIV |28.738            |30.63             |[2023-11-05 11:05:00, 2023-11-05 11:10:00]|\n",
      "|[2023-11-05 11:10:00, 2023-11-05 11:15:00]|AVY |42.56             |43.17             |[2023-11-05 11:05:00, 2023-11-05 11:10:00]|\n",
      "|[2023-11-05 11:10:00, 2023-11-05 11:15:00]|CLX |84.975            |86.4              |[2023-11-05 11:05:00, 2023-11-05 11:10:00]|\n",
      "|[2023-11-05 11:10:00, 2023-11-05 11:15:00]|FRT |105.375           |111.75999999999999|[2023-11-05 11:05:00, 2023-11-05 11:10:00]|\n",
      "|[2023-11-05 11:10:00, 2023-11-05 11:15:00]|XOM |86.04             |91.195            |[2023-11-05 11:05:00, 2023-11-05 11:10:00]|\n",
      "|[2023-11-05 11:10:00, 2023-11-05 11:15:00]|PHM |16.11             |19.69             |[2023-11-05 11:05:00, 2023-11-05 11:10:00]|\n",
      "|[2023-11-05 11:10:00, 2023-11-05 11:15:00]|SPG |151.61            |175.05            |[2023-11-05 11:05:00, 2023-11-05 11:10:00]|\n",
      "|[2023-11-05 11:10:00, 2023-11-05 11:15:00]|CCL |32.49505          |33.150000000000006|[2023-11-05 11:05:00, 2023-11-05 11:10:00]|\n",
      "|[2023-11-05 11:10:00, 2023-11-05 11:15:00]|SCG |49.980000000000004|53.2375           |[2023-11-05 11:05:00, 2023-11-05 11:10:00]|\n",
      "|[2023-11-05 11:10:00, 2023-11-05 11:15:00]|MPC |35.4975           |43.620000000000005|[2023-11-05 11:05:00, 2023-11-05 11:10:00]|\n",
      "|[2023-11-05 11:10:00, 2023-11-05 11:15:00]|ACN |73.93             |77.0              |[2023-11-05 11:05:00, 2023-11-05 11:10:00]|\n",
      "|[2023-11-05 11:10:00, 2023-11-05 11:15:00]|T   |33.65             |37.69             |[2023-11-05 11:05:00, 2023-11-05 11:10:00]|\n",
      "|[2023-11-05 11:10:00, 2023-11-05 11:15:00]|UDR |23.85             |24.45             |[2023-11-05 11:05:00, 2023-11-05 11:10:00]|\n",
      "|[2023-11-05 11:10:00, 2023-11-05 11:15:00]|DHI |18.91             |23.97             |[2023-11-05 11:05:00, 2023-11-05 11:10:00]|\n",
      "|[2023-11-05 11:10:00, 2023-11-05 11:15:00]|LB  |50.34             |51.48             |[2023-11-05 11:05:00, 2023-11-05 11:10:00]|\n",
      "|[2023-11-05 11:10:00, 2023-11-05 11:15:00]|AMT |76.895            |78.3452           |[2023-11-05 11:05:00, 2023-11-05 11:10:00]|\n",
      "|[2023-11-05 11:10:00, 2023-11-05 11:15:00]|HCN |64.67333333333333 |74.235            |[2023-11-05 11:05:00, 2023-11-05 11:10:00]|\n",
      "|[2023-11-05 11:10:00, 2023-11-05 11:15:00]|XYL |26.63             |27.835            |[2023-11-05 11:05:00, 2023-11-05 11:10:00]|\n",
      "|[2023-11-05 11:10:00, 2023-11-05 11:15:00]|BXP |104.915           |110.68833333333333|[2023-11-05 11:05:00, 2023-11-05 11:10:00]|\n",
      "+------------------------------------------+----+------------------+------------------+------------------------------------------+\n",
      "only showing top 20 rows\n",
      "\n"
     ]
    }
   ],
   "source": [
    "from pyspark.sql.functions import col, lag, window\n",
    "\n",
    "def process_batch(df, epoch_id):\n",
    "    \n",
    "    window_spec = Window.partitionBy(\"name\").orderBy(\"window\")\n",
    "\n",
    "    # Create a column \"previous_window\" and \"previous_price\" using the lag function\n",
    "    df = df.withColumn(\"previous_price\", lag(\"avg(price)\").over(window_spec))\n",
    "    df = df.withColumn(\"previous_window\", lag(\"window\").over(window_spec))\n",
    "    df = df.filter(df[\"previous_price\"] > df[\"avg(price)\"])\n",
    "    \n",
    "    # Show data\n",
    "    df.show(truncate=False)\n",
    "    \n",
    "\n",
    "# Apply a time window to the data with a watermark of 30 seconds\n",
    "# Group the data by a 5-minute window and the stock name\n",
    "# Calculate the average price within each window for each stock\n",
    "\n",
    "windowedDF_2 = df \\\n",
    "        .withWatermark(\"timestamp\", \"30 seconds\") \\\n",
    "        .groupBy(window(\"timestamp\", \"5 minutes\"), \"name\") \\\n",
    "        .agg({\"price\": \"avg\"})\n",
    "\n",
    "# Order the results by average price in descending order \n",
    "lost_value_stocks = windowedDF_2.orderBy(\"avg(price)\", ascending=False)\n",
    "\n",
    "\n",
    "# Apply function process_batch, save and show result\n",
    "query_2 = (lost_value_stocks.writeStream\n",
    "           .outputMode(\"complete\")\n",
    "           .format(\"memory\")\n",
    "           .queryName(\"TheStocksThatLostValue\")\n",
    "           .option(\"truncate\", False)\n",
    "           .foreachBatch(process_batch)\n",
    "           .start())\n"
   ]
  },
  {
   "cell_type": "markdown",
   "id": "1e00296b",
   "metadata": {},
   "source": [
    "## Select the stock that gained the most (between windows)"
   ]
  },
  {
   "cell_type": "code",
   "execution_count": 8,
   "id": "8d1ba62a",
   "metadata": {
    "scrolled": true
   },
   "outputs": [
    {
     "name": "stderr",
     "output_type": "stream",
     "text": [
      "23/11/06 20:19:52 WARN StreamingQueryManager: Temporary checkpoint location created which is deleted normally when the query didn't fail: /tmp/temporary-09bb3ee7-7c89-4908-a095-1469f9b05c2c. If it's required to delete it under any circumstances, please set spark.sql.streaming.forceDeleteTempCheckpointLocation to true. Important to know deleting temp checkpoint folder is best effort.\n",
      "                                                                                \r"
     ]
    },
    {
     "name": "stdout",
     "output_type": "stream",
     "text": [
      "+------------------------------------------+----+------------------+------------------+------------------------------------------+\n",
      "|window                                    |name|avg(price)        |previous_price    |previous_window                           |\n",
      "+------------------------------------------+----+------------------+------------------+------------------------------------------+\n",
      "|[2023-11-05 11:10:00, 2023-11-05 11:15:00]|GIS |49.35666666666666 |50.5207           |[2023-11-05 11:05:00, 2023-11-05 11:10:00]|\n",
      "|[2023-11-05 11:10:00, 2023-11-05 11:15:00]|AIV |28.738            |30.63             |[2023-11-05 11:05:00, 2023-11-05 11:10:00]|\n",
      "|[2023-11-05 11:10:00, 2023-11-05 11:15:00]|AVY |42.56             |43.17             |[2023-11-05 11:05:00, 2023-11-05 11:10:00]|\n",
      "|[2023-11-05 11:10:00, 2023-11-05 11:15:00]|FRT |104.77333333333333|111.75999999999999|[2023-11-05 11:05:00, 2023-11-05 11:10:00]|\n",
      "|[2023-11-05 11:10:00, 2023-11-05 11:15:00]|XOM |90.79             |91.195            |[2023-11-05 11:05:00, 2023-11-05 11:10:00]|\n",
      "|[2023-11-05 11:10:00, 2023-11-05 11:15:00]|PHM |16.11             |19.69             |[2023-11-05 11:05:00, 2023-11-05 11:10:00]|\n",
      "|[2023-11-05 11:10:00, 2023-11-05 11:15:00]|SPG |151.61            |175.05            |[2023-11-05 11:05:00, 2023-11-05 11:10:00]|\n",
      "|[2023-11-05 11:10:00, 2023-11-05 11:15:00]|CCL |32.49505          |33.150000000000006|[2023-11-05 11:05:00, 2023-11-05 11:10:00]|\n",
      "|[2023-11-05 11:10:00, 2023-11-05 11:15:00]|SCG |49.980000000000004|53.2375           |[2023-11-05 11:05:00, 2023-11-05 11:10:00]|\n",
      "|[2023-11-05 11:10:00, 2023-11-05 11:15:00]|MPC |35.4975           |43.620000000000005|[2023-11-05 11:05:00, 2023-11-05 11:10:00]|\n",
      "|[2023-11-05 11:10:00, 2023-11-05 11:15:00]|NEM |26.24             |39.43             |[2023-11-05 11:05:00, 2023-11-05 11:10:00]|\n",
      "|[2023-11-05 11:10:00, 2023-11-05 11:15:00]|ACN |73.93             |77.0              |[2023-11-05 11:05:00, 2023-11-05 11:10:00]|\n",
      "|[2023-11-05 11:10:00, 2023-11-05 11:15:00]|T   |33.65             |37.69             |[2023-11-05 11:05:00, 2023-11-05 11:10:00]|\n",
      "|[2023-11-05 11:10:00, 2023-11-05 11:15:00]|UDR |23.85             |24.45             |[2023-11-05 11:05:00, 2023-11-05 11:10:00]|\n",
      "|[2023-11-05 11:10:00, 2023-11-05 11:15:00]|MCD |96.75             |98.16             |[2023-11-05 11:05:00, 2023-11-05 11:10:00]|\n",
      "|[2023-11-05 11:10:00, 2023-11-05 11:15:00]|DHI |18.91             |23.97             |[2023-11-05 11:05:00, 2023-11-05 11:10:00]|\n",
      "|[2023-11-05 11:10:00, 2023-11-05 11:15:00]|AMT |76.895            |78.3452           |[2023-11-05 11:05:00, 2023-11-05 11:10:00]|\n",
      "|[2023-11-05 11:10:00, 2023-11-05 11:15:00]|HCN |64.67333333333333 |74.235            |[2023-11-05 11:05:00, 2023-11-05 11:10:00]|\n",
      "|[2023-11-05 11:10:00, 2023-11-05 11:15:00]|XYL |26.63             |27.835            |[2023-11-05 11:05:00, 2023-11-05 11:10:00]|\n",
      "|[2023-11-05 11:10:00, 2023-11-05 11:15:00]|BXP |104.60000000000001|110.68833333333333|[2023-11-05 11:05:00, 2023-11-05 11:10:00]|\n",
      "+------------------------------------------+----+------------------+------------------+------------------------------------------+\n",
      "only showing top 20 rows\n",
      "\n"
     ]
    },
    {
     "name": "stderr",
     "output_type": "stream",
     "text": [
      "                                                                                \r"
     ]
    },
    {
     "name": "stdout",
     "output_type": "stream",
     "text": [
      "+------+----+----------+--------------+---------------+\n",
      "|window|name|avg(price)|previous_price|previous_window|\n",
      "+------+----+----------+--------------+---------------+\n",
      "+------+----+----------+--------------+---------------+\n",
      "\n"
     ]
    },
    {
     "name": "stderr",
     "output_type": "stream",
     "text": [
      "                                                                                \r"
     ]
    },
    {
     "name": "stdout",
     "output_type": "stream",
     "text": [
      "+------------------------------------------+----+------------------+------------------+------------------------------------------+\n",
      "|window                                    |name|avg(price)        |previous_price    |previous_window                           |\n",
      "+------------------------------------------+----+------------------+------------------+------------------------------------------+\n",
      "|[2023-11-05 11:10:00, 2023-11-05 11:15:00]|GIS |49.35666666666666 |50.5207           |[2023-11-05 11:05:00, 2023-11-05 11:10:00]|\n",
      "|[2023-11-05 11:15:00, 2023-11-05 11:20:00]|GIS |48.6              |49.35666666666666 |[2023-11-05 11:10:00, 2023-11-05 11:15:00]|\n",
      "|[2023-11-05 11:10:00, 2023-11-05 11:15:00]|AIV |28.738            |30.63             |[2023-11-05 11:05:00, 2023-11-05 11:10:00]|\n",
      "|[2023-11-05 11:10:00, 2023-11-05 11:15:00]|AVY |42.56             |43.17             |[2023-11-05 11:05:00, 2023-11-05 11:10:00]|\n",
      "|[2023-11-05 11:15:00, 2023-11-05 11:20:00]|RE  |148.645           |158.115           |[2023-11-05 11:10:00, 2023-11-05 11:15:00]|\n",
      "|[2023-11-05 11:10:00, 2023-11-05 11:15:00]|FRT |104.77333333333333|111.75999999999999|[2023-11-05 11:05:00, 2023-11-05 11:10:00]|\n",
      "|[2023-11-05 11:10:00, 2023-11-05 11:15:00]|XOM |90.79             |91.195            |[2023-11-05 11:05:00, 2023-11-05 11:10:00]|\n",
      "|[2023-11-05 11:10:00, 2023-11-05 11:15:00]|PHM |16.11             |19.69             |[2023-11-05 11:05:00, 2023-11-05 11:10:00]|\n",
      "|[2023-11-05 11:15:00, 2023-11-05 11:20:00]|CHRW|57.76             |61.305            |[2023-11-05 11:10:00, 2023-11-05 11:15:00]|\n",
      "|[2023-11-05 11:10:00, 2023-11-05 11:15:00]|SPG |151.61            |175.05            |[2023-11-05 11:05:00, 2023-11-05 11:10:00]|\n",
      "|[2023-11-05 11:10:00, 2023-11-05 11:15:00]|CCL |32.49505          |33.150000000000006|[2023-11-05 11:05:00, 2023-11-05 11:10:00]|\n",
      "|[2023-11-05 11:10:00, 2023-11-05 11:15:00]|SCG |49.980000000000004|53.2375           |[2023-11-05 11:05:00, 2023-11-05 11:10:00]|\n",
      "|[2023-11-05 11:15:00, 2023-11-05 11:20:00]|CINF|51.39             |52.0475           |[2023-11-05 11:10:00, 2023-11-05 11:15:00]|\n",
      "|[2023-11-05 11:10:00, 2023-11-05 11:15:00]|MPC |35.4975           |43.620000000000005|[2023-11-05 11:05:00, 2023-11-05 11:10:00]|\n",
      "|[2023-11-05 11:15:00, 2023-11-05 11:20:00]|CMS |26.69             |28.189999999999998|[2023-11-05 11:10:00, 2023-11-05 11:15:00]|\n",
      "|[2023-11-05 11:10:00, 2023-11-05 11:15:00]|NEM |26.24             |39.43             |[2023-11-05 11:05:00, 2023-11-05 11:10:00]|\n",
      "|[2023-11-05 11:15:00, 2023-11-05 11:20:00]|NEM |24.88             |26.24             |[2023-11-05 11:10:00, 2023-11-05 11:15:00]|\n",
      "|[2023-11-05 11:10:00, 2023-11-05 11:15:00]|ACN |73.93             |77.0              |[2023-11-05 11:05:00, 2023-11-05 11:10:00]|\n",
      "|[2023-11-05 11:10:00, 2023-11-05 11:15:00]|T   |33.65             |37.69             |[2023-11-05 11:05:00, 2023-11-05 11:10:00]|\n",
      "|[2023-11-05 11:10:00, 2023-11-05 11:15:00]|UDR |23.85             |24.45             |[2023-11-05 11:05:00, 2023-11-05 11:10:00]|\n",
      "+------------------------------------------+----+------------------+------------------+------------------------------------------+\n",
      "only showing top 20 rows\n",
      "\n"
     ]
    },
    {
     "name": "stderr",
     "output_type": "stream",
     "text": [
      "                                                                                \r"
     ]
    },
    {
     "name": "stdout",
     "output_type": "stream",
     "text": [
      "+------+----+----------+--------------+---------------+\n",
      "|window|name|avg(price)|previous_price|previous_window|\n",
      "+------+----+----------+--------------+---------------+\n",
      "+------+----+----------+--------------+---------------+\n",
      "\n"
     ]
    },
    {
     "name": "stderr",
     "output_type": "stream",
     "text": [
      "                                                                                \r"
     ]
    },
    {
     "name": "stdout",
     "output_type": "stream",
     "text": [
      "+------------------------------------------+----+------------------+------------------+------------------------------------------+\n",
      "|window                                    |name|avg(price)        |previous_price    |previous_window                           |\n",
      "+------------------------------------------+----+------------------+------------------+------------------------------------------+\n",
      "|[2023-11-05 11:10:00, 2023-11-05 11:15:00]|GIS |49.35666666666666 |50.5207           |[2023-11-05 11:05:00, 2023-11-05 11:10:00]|\n",
      "|[2023-11-05 11:15:00, 2023-11-05 11:20:00]|GIS |48.6              |49.35666666666666 |[2023-11-05 11:10:00, 2023-11-05 11:15:00]|\n",
      "|[2023-11-05 11:10:00, 2023-11-05 11:15:00]|AIV |28.738            |30.63             |[2023-11-05 11:05:00, 2023-11-05 11:10:00]|\n",
      "|[2023-11-05 11:10:00, 2023-11-05 11:15:00]|AVY |42.56             |43.17             |[2023-11-05 11:05:00, 2023-11-05 11:10:00]|\n",
      "|[2023-11-05 11:15:00, 2023-11-05 11:20:00]|IRM |27.715            |28.79             |[2023-11-05 11:10:00, 2023-11-05 11:15:00]|\n",
      "|[2023-11-05 11:15:00, 2023-11-05 11:20:00]|RE  |148.645           |158.115           |[2023-11-05 11:10:00, 2023-11-05 11:15:00]|\n",
      "|[2023-11-05 11:10:00, 2023-11-05 11:15:00]|FRT |104.77333333333333|111.75999999999999|[2023-11-05 11:05:00, 2023-11-05 11:10:00]|\n",
      "|[2023-11-05 11:10:00, 2023-11-05 11:15:00]|XOM |90.79             |91.195            |[2023-11-05 11:05:00, 2023-11-05 11:10:00]|\n",
      "|[2023-11-05 11:10:00, 2023-11-05 11:15:00]|PHM |16.11             |19.69             |[2023-11-05 11:05:00, 2023-11-05 11:10:00]|\n",
      "|[2023-11-05 11:15:00, 2023-11-05 11:20:00]|CHRW|57.76             |61.305            |[2023-11-05 11:10:00, 2023-11-05 11:15:00]|\n",
      "|[2023-11-05 11:10:00, 2023-11-05 11:15:00]|SPG |151.61            |175.05            |[2023-11-05 11:05:00, 2023-11-05 11:10:00]|\n",
      "|[2023-11-05 11:10:00, 2023-11-05 11:15:00]|CCL |32.49505          |33.150000000000006|[2023-11-05 11:05:00, 2023-11-05 11:10:00]|\n",
      "|[2023-11-05 11:10:00, 2023-11-05 11:15:00]|SCG |49.980000000000004|53.2375           |[2023-11-05 11:05:00, 2023-11-05 11:10:00]|\n",
      "|[2023-11-05 11:15:00, 2023-11-05 11:20:00]|SCG |46.785            |49.980000000000004|[2023-11-05 11:10:00, 2023-11-05 11:15:00]|\n",
      "|[2023-11-05 11:15:00, 2023-11-05 11:20:00]|CINF|51.39             |52.0475           |[2023-11-05 11:10:00, 2023-11-05 11:15:00]|\n",
      "|[2023-11-05 11:10:00, 2023-11-05 11:15:00]|MPC |35.4975           |43.620000000000005|[2023-11-05 11:05:00, 2023-11-05 11:10:00]|\n",
      "|[2023-11-05 11:15:00, 2023-11-05 11:20:00]|CMS |26.69             |28.189999999999998|[2023-11-05 11:10:00, 2023-11-05 11:15:00]|\n",
      "|[2023-11-05 11:15:00, 2023-11-05 11:20:00]|KSU |104.25            |111.175           |[2023-11-05 11:10:00, 2023-11-05 11:15:00]|\n",
      "|[2023-11-05 11:10:00, 2023-11-05 11:15:00]|NEM |26.24             |39.43             |[2023-11-05 11:05:00, 2023-11-05 11:10:00]|\n",
      "|[2023-11-05 11:15:00, 2023-11-05 11:20:00]|NEM |24.88             |26.24             |[2023-11-05 11:10:00, 2023-11-05 11:15:00]|\n",
      "+------------------------------------------+----+------------------+------------------+------------------------------------------+\n",
      "only showing top 20 rows\n",
      "\n"
     ]
    },
    {
     "name": "stderr",
     "output_type": "stream",
     "text": [
      "                                                                                \r"
     ]
    },
    {
     "name": "stdout",
     "output_type": "stream",
     "text": [
      "+------+----+----------+--------------+---------------+\n",
      "|window|name|avg(price)|previous_price|previous_window|\n",
      "+------+----+----------+--------------+---------------+\n",
      "+------+----+----------+--------------+---------------+\n",
      "\n"
     ]
    },
    {
     "name": "stderr",
     "output_type": "stream",
     "text": [
      "                                                                                \r"
     ]
    },
    {
     "name": "stdout",
     "output_type": "stream",
     "text": [
      "+------------------------------------------+----+------------------+------------------+------------------------------------------+\n",
      "|window                                    |name|avg(price)        |previous_price    |previous_window                           |\n",
      "+------------------------------------------+----+------------------+------------------+------------------------------------------+\n",
      "|[2023-11-05 11:10:00, 2023-11-05 11:15:00]|GIS |49.35666666666666 |50.5207           |[2023-11-05 11:05:00, 2023-11-05 11:10:00]|\n",
      "|[2023-11-05 11:15:00, 2023-11-05 11:20:00]|GIS |48.6              |49.35666666666666 |[2023-11-05 11:10:00, 2023-11-05 11:15:00]|\n",
      "|[2023-11-05 11:10:00, 2023-11-05 11:15:00]|AIV |28.738            |30.63             |[2023-11-05 11:05:00, 2023-11-05 11:10:00]|\n",
      "|[2023-11-05 11:10:00, 2023-11-05 11:15:00]|AVY |42.56             |43.17             |[2023-11-05 11:05:00, 2023-11-05 11:10:00]|\n",
      "|[2023-11-05 11:15:00, 2023-11-05 11:20:00]|IRM |27.715            |28.79             |[2023-11-05 11:10:00, 2023-11-05 11:15:00]|\n",
      "|[2023-11-05 11:15:00, 2023-11-05 11:20:00]|RE  |149.1225          |158.115           |[2023-11-05 11:10:00, 2023-11-05 11:15:00]|\n",
      "|[2023-11-05 11:10:00, 2023-11-05 11:15:00]|FRT |104.77333333333333|111.75999999999999|[2023-11-05 11:05:00, 2023-11-05 11:10:00]|\n",
      "|[2023-11-05 11:10:00, 2023-11-05 11:15:00]|XOM |90.79             |91.195            |[2023-11-05 11:05:00, 2023-11-05 11:10:00]|\n",
      "|[2023-11-05 11:10:00, 2023-11-05 11:15:00]|PHM |16.11             |19.69             |[2023-11-05 11:05:00, 2023-11-05 11:10:00]|\n",
      "|[2023-11-05 11:15:00, 2023-11-05 11:20:00]|CHRW|57.76             |61.305            |[2023-11-05 11:10:00, 2023-11-05 11:15:00]|\n",
      "|[2023-11-05 11:10:00, 2023-11-05 11:15:00]|SPG |151.61            |175.05            |[2023-11-05 11:05:00, 2023-11-05 11:10:00]|\n",
      "|[2023-11-05 11:10:00, 2023-11-05 11:15:00]|CCL |32.49505          |33.150000000000006|[2023-11-05 11:05:00, 2023-11-05 11:10:00]|\n",
      "|[2023-11-05 11:10:00, 2023-11-05 11:15:00]|SCG |49.980000000000004|53.2375           |[2023-11-05 11:05:00, 2023-11-05 11:10:00]|\n",
      "|[2023-11-05 11:15:00, 2023-11-05 11:20:00]|SCG |46.785            |49.980000000000004|[2023-11-05 11:10:00, 2023-11-05 11:15:00]|\n",
      "|[2023-11-05 11:15:00, 2023-11-05 11:20:00]|CINF|51.39             |52.0475           |[2023-11-05 11:10:00, 2023-11-05 11:15:00]|\n",
      "|[2023-11-05 11:10:00, 2023-11-05 11:15:00]|MPC |35.4975           |43.620000000000005|[2023-11-05 11:05:00, 2023-11-05 11:10:00]|\n",
      "|[2023-11-05 11:15:00, 2023-11-05 11:20:00]|CMS |26.69             |28.189999999999998|[2023-11-05 11:10:00, 2023-11-05 11:15:00]|\n",
      "|[2023-11-05 11:15:00, 2023-11-05 11:20:00]|KSU |104.25            |111.175           |[2023-11-05 11:10:00, 2023-11-05 11:15:00]|\n",
      "|[2023-11-05 11:10:00, 2023-11-05 11:15:00]|NEM |26.24             |39.43             |[2023-11-05 11:05:00, 2023-11-05 11:10:00]|\n",
      "|[2023-11-05 11:15:00, 2023-11-05 11:20:00]|NEM |24.485            |26.24             |[2023-11-05 11:10:00, 2023-11-05 11:15:00]|\n",
      "+------------------------------------------+----+------------------+------------------+------------------------------------------+\n",
      "only showing top 20 rows\n",
      "\n"
     ]
    }
   ],
   "source": [
    "#remember you can register another stream\n",
    "\n",
    "from pyspark.sql.functions import lag, window\n",
    "\n",
    "# The function processes each batch of data\n",
    "def process_batch(df, epoch_id):\n",
    "    \n",
    "    window_spec = Window.partitionBy(\"name\").orderBy(\"window\")\n",
    "\n",
    "    # Create a column \"previous_window\" and \"previous_price\" using the lag function\n",
    "    df = df.withColumn(\"previous_price\", lag(\"avg(price)\").over(window_spec))\n",
    "    df = df.withColumn(\"previous_window\", lag(\"window\").over(window_spec))\n",
    "    df = df.filter(df[\"previous_price\"] < df[\"avg(price)\"])\n",
    "    \n",
    "    # Show \n",
    "    df.show(truncate=False)\n",
    "    \n",
    "    \n",
    "# Apply a time window to the data with a watermark of 30 seconds\n",
    "# Group the data by a 5-minute window and the stock name\n",
    "# Calculate the average price within each window for each stock\n",
    "windowedDF_3 = df \\\n",
    "        .withWatermark(\"timestamp\", \"30 seconds\") \\\n",
    "        .groupBy(window(\"timestamp\", \"5 minutes\"), \"name\") \\\n",
    "        .agg({\"price\": \"avg\"})\n",
    "\n",
    "gained_value_stocks = windowedDF_3.orderBy(\"avg(price)\", ascending=False)\n",
    "\n",
    "\n",
    "# Apply process_batch function, save and show result\n",
    "query_3 = (gained_value_stocks.writeStream\n",
    "           .outputMode(\"complete\")\n",
    "           .format(\"memory\")\n",
    "           .queryName(\"GainedValueStocks\")\n",
    "           .option(\"truncate\", False)\n",
    "           .foreachBatch(process_batch)\n",
    "           .start())\n",
    "    \n"
   ]
  },
  {
   "cell_type": "markdown",
   "id": "dd249281",
   "metadata": {},
   "source": [
    "## Implement a control that checks if a stock does not lose too much value in a period of time"
   ]
  },
  {
   "cell_type": "code",
   "execution_count": 9,
   "id": "f203fdc2",
   "metadata": {
    "scrolled": true
   },
   "outputs": [
    {
     "name": "stderr",
     "output_type": "stream",
     "text": [
      "23/11/06 20:20:27 WARN StreamingQueryManager: Temporary checkpoint location created which is deleted normally when the query didn't fail: /tmp/temporary-48f0bd15-e6fc-45ae-87ae-1c220b9a9965. If it's required to delete it under any circumstances, please set spark.sql.streaming.forceDeleteTempCheckpointLocation to true. Important to know deleting temp checkpoint folder is best effort.\n",
      "                                                                                \r"
     ]
    },
    {
     "name": "stdout",
     "output_type": "stream",
     "text": [
      "-------------------------------------------\n",
      "Batch: 0\n",
      "-------------------------------------------\n",
      "+------+-----------+----------+-------------+--------------+------------------+\n",
      "|window|first_price|last_price|lastTimeStamp|firstTimeStamp|percent_value_lost|\n",
      "+------+-----------+----------+-------------+--------------+------------------+\n",
      "+------+-----------+----------+-------------+--------------+------------------+\n",
      "\n",
      "+------+----+----------+--------------+---------------+\n",
      "|window|name|avg(price)|previous_price|previous_window|\n",
      "+------+----+----------+--------------+---------------+\n",
      "+------+----+----------+--------------+---------------+\n",
      "\n"
     ]
    },
    {
     "name": "stderr",
     "output_type": "stream",
     "text": [
      "                                                                                \r"
     ]
    },
    {
     "name": "stdout",
     "output_type": "stream",
     "text": [
      "-------------------------------------------\n",
      "Batch: 1\n",
      "-------------------------------------------\n",
      "+------+-----------+----------+-------------+--------------+------------------+\n",
      "|window|first_price|last_price|lastTimeStamp|firstTimeStamp|percent_value_lost|\n",
      "+------+-----------+----------+-------------+--------------+------------------+\n",
      "+------+-----------+----------+-------------+--------------+------------------+\n",
      "\n"
     ]
    },
    {
     "name": "stderr",
     "output_type": "stream",
     "text": [
      "                                                                                \r"
     ]
    },
    {
     "name": "stdout",
     "output_type": "stream",
     "text": [
      "-------------------------------------------\n",
      "Batch: 2\n",
      "-------------------------------------------\n",
      "+------+-----------+----------+-------------+--------------+------------------+\n",
      "|window|first_price|last_price|lastTimeStamp|firstTimeStamp|percent_value_lost|\n",
      "+------+-----------+----------+-------------+--------------+------------------+\n",
      "+------+-----------+----------+-------------+--------------+------------------+\n",
      "\n"
     ]
    },
    {
     "name": "stderr",
     "output_type": "stream",
     "text": [
      "                                                                                \r"
     ]
    },
    {
     "name": "stdout",
     "output_type": "stream",
     "text": [
      "-------------------------------------------\n",
      "Batch: 3\n",
      "-------------------------------------------\n",
      "+------+-----------+----------+-------------+--------------+------------------+\n",
      "|window|first_price|last_price|lastTimeStamp|firstTimeStamp|percent_value_lost|\n",
      "+------+-----------+----------+-------------+--------------+------------------+\n",
      "+------+-----------+----------+-------------+--------------+------------------+\n",
      "\n",
      "+------------------------------------------+----+------------------+------------------+------------------------------------------+\n",
      "|window                                    |name|avg(price)        |previous_price    |previous_window                           |\n",
      "+------------------------------------------+----+------------------+------------------+------------------------------------------+\n",
      "|[2023-11-05 11:10:00, 2023-11-05 11:15:00]|GIS |49.35666666666666 |50.5207           |[2023-11-05 11:05:00, 2023-11-05 11:10:00]|\n",
      "|[2023-11-05 11:15:00, 2023-11-05 11:20:00]|GIS |48.6              |49.35666666666666 |[2023-11-05 11:10:00, 2023-11-05 11:15:00]|\n",
      "|[2023-11-05 11:10:00, 2023-11-05 11:15:00]|AIV |28.738            |30.63             |[2023-11-05 11:05:00, 2023-11-05 11:10:00]|\n",
      "|[2023-11-05 11:10:00, 2023-11-05 11:15:00]|AVY |42.56             |43.17             |[2023-11-05 11:05:00, 2023-11-05 11:10:00]|\n",
      "|[2023-11-05 11:15:00, 2023-11-05 11:20:00]|IRM |27.715            |28.79             |[2023-11-05 11:10:00, 2023-11-05 11:15:00]|\n",
      "|[2023-11-05 11:15:00, 2023-11-05 11:20:00]|RE  |149.1225          |158.115           |[2023-11-05 11:10:00, 2023-11-05 11:15:00]|\n",
      "|[2023-11-05 11:10:00, 2023-11-05 11:15:00]|FRT |104.77333333333333|111.75999999999999|[2023-11-05 11:05:00, 2023-11-05 11:10:00]|\n",
      "|[2023-11-05 11:10:00, 2023-11-05 11:15:00]|XOM |90.79             |91.195            |[2023-11-05 11:05:00, 2023-11-05 11:10:00]|\n",
      "|[2023-11-05 11:10:00, 2023-11-05 11:15:00]|PHM |16.11             |19.69             |[2023-11-05 11:05:00, 2023-11-05 11:10:00]|\n",
      "|[2023-11-05 11:15:00, 2023-11-05 11:20:00]|CHRW|57.76             |61.305            |[2023-11-05 11:10:00, 2023-11-05 11:15:00]|\n",
      "|[2023-11-05 11:10:00, 2023-11-05 11:15:00]|SPG |151.61            |175.05            |[2023-11-05 11:05:00, 2023-11-05 11:10:00]|\n",
      "|[2023-11-05 11:10:00, 2023-11-05 11:15:00]|CCL |32.49505          |33.150000000000006|[2023-11-05 11:05:00, 2023-11-05 11:10:00]|\n",
      "|[2023-11-05 11:10:00, 2023-11-05 11:15:00]|SCG |49.980000000000004|53.2375           |[2023-11-05 11:05:00, 2023-11-05 11:10:00]|\n",
      "|[2023-11-05 11:15:00, 2023-11-05 11:20:00]|SCG |47.81999999999999 |49.980000000000004|[2023-11-05 11:10:00, 2023-11-05 11:15:00]|\n",
      "|[2023-11-05 11:15:00, 2023-11-05 11:20:00]|CINF|51.39             |52.0475           |[2023-11-05 11:10:00, 2023-11-05 11:15:00]|\n",
      "|[2023-11-05 11:10:00, 2023-11-05 11:15:00]|MPC |35.4975           |43.620000000000005|[2023-11-05 11:05:00, 2023-11-05 11:10:00]|\n",
      "|[2023-11-05 11:15:00, 2023-11-05 11:20:00]|CMS |26.69             |28.189999999999998|[2023-11-05 11:10:00, 2023-11-05 11:15:00]|\n",
      "|[2023-11-05 11:15:00, 2023-11-05 11:20:00]|KSU |104.25            |111.175           |[2023-11-05 11:10:00, 2023-11-05 11:15:00]|\n",
      "|[2023-11-05 11:10:00, 2023-11-05 11:15:00]|NEM |26.24             |39.43             |[2023-11-05 11:05:00, 2023-11-05 11:10:00]|\n",
      "|[2023-11-05 11:15:00, 2023-11-05 11:20:00]|NEM |24.5075           |26.24             |[2023-11-05 11:10:00, 2023-11-05 11:15:00]|\n",
      "+------------------------------------------+----+------------------+------------------+------------------------------------------+\n",
      "only showing top 20 rows\n",
      "\n"
     ]
    },
    {
     "name": "stderr",
     "output_type": "stream",
     "text": [
      "[Stage 774:(163 + 4) / 200][Stage 776:>(0 + 0) / 200][Stage 780:>(0 + 0) / 100] \r"
     ]
    },
    {
     "name": "stdout",
     "output_type": "stream",
     "text": [
      "-------------------------------------------\n",
      "Batch: 4\n",
      "-------------------------------------------\n",
      "+------+-----------+----------+-------------+--------------+------------------+\n",
      "|window|first_price|last_price|lastTimeStamp|firstTimeStamp|percent_value_lost|\n",
      "+------+-----------+----------+-------------+--------------+------------------+\n",
      "+------+-----------+----------+-------------+--------------+------------------+\n",
      "\n"
     ]
    },
    {
     "name": "stderr",
     "output_type": "stream",
     "text": [
      "                                                                                \r"
     ]
    },
    {
     "name": "stdout",
     "output_type": "stream",
     "text": [
      "+------------------------------------------+----+----------+------------------+------------------------------------------+\n",
      "|window                                    |name|avg(price)|previous_price    |previous_window                           |\n",
      "+------------------------------------------+----+----------+------------------+------------------------------------------+\n",
      "|[2023-11-05 11:10:00, 2023-11-05 11:15:00]|PRU |72.0      |68.6              |[2023-11-05 11:05:00, 2023-11-05 11:10:00]|\n",
      "|[2023-11-05 11:10:00, 2023-11-05 11:15:00]|AGN |122.38    |93.13             |[2023-11-05 11:05:00, 2023-11-05 11:10:00]|\n",
      "|[2023-11-05 11:10:00, 2023-11-05 11:15:00]|CHRW|60.36     |57.82             |[2023-11-05 11:05:00, 2023-11-05 11:10:00]|\n",
      "|[2023-11-05 11:10:00, 2023-11-05 11:15:00]|NOV |73.1      |69.255            |[2023-11-05 11:05:00, 2023-11-05 11:10:00]|\n",
      "|[2023-11-05 11:10:00, 2023-11-05 11:15:00]|JPM |55.85     |50.19             |[2023-11-05 11:05:00, 2023-11-05 11:10:00]|\n",
      "|[2023-11-05 11:10:00, 2023-11-05 11:15:00]|MNST|20.6133   |17.43665          |[2023-11-05 11:05:00, 2023-11-05 11:10:00]|\n",
      "|[2023-11-05 11:10:00, 2023-11-05 11:15:00]|EOG |64.73     |63.53             |[2023-11-05 11:05:00, 2023-11-05 11:10:00]|\n",
      "|[2023-11-05 11:10:00, 2023-11-05 11:15:00]|SYK |68.28     |65.92             |[2023-11-05 11:05:00, 2023-11-05 11:10:00]|\n",
      "|[2023-11-05 11:10:00, 2023-11-05 11:15:00]|AFL |57.57     |54.8              |[2023-11-05 11:05:00, 2023-11-05 11:10:00]|\n",
      "|[2023-11-05 11:10:00, 2023-11-05 11:15:00]|NEE |84.14     |81.08666666666667 |[2023-11-05 11:05:00, 2023-11-05 11:10:00]|\n",
      "|[2023-11-05 11:10:00, 2023-11-05 11:15:00]|INTU|64.2      |64.14             |[2023-11-05 11:05:00, 2023-11-05 11:10:00]|\n",
      "|[2023-11-05 11:10:00, 2023-11-05 11:15:00]|CTAS|45.58     |45.09             |[2023-11-05 11:05:00, 2023-11-05 11:10:00]|\n",
      "|[2023-11-05 11:10:00, 2023-11-05 11:15:00]|ADP |70.49     |65.46833333333333 |[2023-11-05 11:05:00, 2023-11-05 11:10:00]|\n",
      "|[2023-11-05 11:10:00, 2023-11-05 11:15:00]|COG |36.22     |32.457499999999996|[2023-11-05 11:05:00, 2023-11-05 11:10:00]|\n",
      "|[2023-11-05 11:10:00, 2023-11-05 11:15:00]|PGR |25.74     |25.41             |[2023-11-05 11:05:00, 2023-11-05 11:10:00]|\n",
      "|[2023-11-05 11:10:00, 2023-11-05 11:15:00]|DISH|42.11     |38.175            |[2023-11-05 11:05:00, 2023-11-05 11:10:00]|\n",
      "|[2023-11-05 11:10:00, 2023-11-05 11:15:00]|LLL |87.22     |80.96             |[2023-11-05 11:05:00, 2023-11-05 11:10:00]|\n",
      "|[2023-11-05 11:10:00, 2023-11-05 11:15:00]|SNI |67.61     |67.34             |[2023-11-05 11:05:00, 2023-11-05 11:10:00]|\n",
      "|[2023-11-05 11:10:00, 2023-11-05 11:15:00]|AWK |40.61     |39.895            |[2023-11-05 11:05:00, 2023-11-05 11:10:00]|\n",
      "|[2023-11-05 11:10:00, 2023-11-05 11:15:00]|INCY|23.19     |21.855            |[2023-11-05 11:05:00, 2023-11-05 11:10:00]|\n",
      "+------------------------------------------+----+----------+------------------+------------------------------------------+\n",
      "only showing top 20 rows\n",
      "\n"
     ]
    },
    {
     "name": "stderr",
     "output_type": "stream",
     "text": [
      "                                                                                \r"
     ]
    },
    {
     "name": "stdout",
     "output_type": "stream",
     "text": [
      "-------------------------------------------\n",
      "Batch: 5\n",
      "-------------------------------------------\n",
      "+------+-----------+----------+-------------+--------------+------------------+\n",
      "|window|first_price|last_price|lastTimeStamp|firstTimeStamp|percent_value_lost|\n",
      "+------+-----------+----------+-------------+--------------+------------------+\n",
      "+------+-----------+----------+-------------+--------------+------------------+\n",
      "\n"
     ]
    },
    {
     "name": "stderr",
     "output_type": "stream",
     "text": [
      "                                                                                \r"
     ]
    },
    {
     "name": "stdout",
     "output_type": "stream",
     "text": [
      "-------------------------------------------\n",
      "Batch: 6\n",
      "-------------------------------------------\n",
      "+------+-----------+----------+-------------+--------------+------------------+\n",
      "|window|first_price|last_price|lastTimeStamp|firstTimeStamp|percent_value_lost|\n",
      "+------+-----------+----------+-------------+--------------+------------------+\n",
      "+------+-----------+----------+-------------+--------------+------------------+\n",
      "\n"
     ]
    },
    {
     "name": "stderr",
     "output_type": "stream",
     "text": [
      "                                                                                \r"
     ]
    },
    {
     "name": "stdout",
     "output_type": "stream",
     "text": [
      "-------------------------------------------\n",
      "Batch: 7\n",
      "-------------------------------------------\n",
      "+------+-----------+----------+-------------+--------------+------------------+\n",
      "|window|first_price|last_price|lastTimeStamp|firstTimeStamp|percent_value_lost|\n",
      "+------+-----------+----------+-------------+--------------+------------------+\n",
      "+------+-----------+----------+-------------+--------------+------------------+\n",
      "\n",
      "+------------------------------------------+----+------------------+------------------+------------------------------------------+\n",
      "|window                                    |name|avg(price)        |previous_price    |previous_window                           |\n",
      "+------------------------------------------+----+------------------+------------------+------------------------------------------+\n",
      "|[2023-11-05 11:10:00, 2023-11-05 11:15:00]|GIS |49.35666666666666 |50.5207           |[2023-11-05 11:05:00, 2023-11-05 11:10:00]|\n",
      "|[2023-11-05 11:15:00, 2023-11-05 11:20:00]|GIS |48.6              |49.35666666666666 |[2023-11-05 11:10:00, 2023-11-05 11:15:00]|\n",
      "|[2023-11-05 11:10:00, 2023-11-05 11:15:00]|AIV |28.738            |30.63             |[2023-11-05 11:05:00, 2023-11-05 11:10:00]|\n",
      "|[2023-11-05 11:10:00, 2023-11-05 11:15:00]|AVY |42.56             |43.17             |[2023-11-05 11:05:00, 2023-11-05 11:10:00]|\n",
      "|[2023-11-05 11:15:00, 2023-11-05 11:20:00]|IRM |27.715            |28.79             |[2023-11-05 11:10:00, 2023-11-05 11:15:00]|\n",
      "|[2023-11-05 11:15:00, 2023-11-05 11:20:00]|MAT |38.28             |45.345            |[2023-11-05 11:05:00, 2023-11-05 11:10:00]|\n",
      "|[2023-11-05 11:15:00, 2023-11-05 11:20:00]|RE  |149.1225          |158.115           |[2023-11-05 11:10:00, 2023-11-05 11:15:00]|\n",
      "|[2023-11-05 11:10:00, 2023-11-05 11:15:00]|FRT |104.77333333333333|111.75999999999999|[2023-11-05 11:05:00, 2023-11-05 11:10:00]|\n",
      "|[2023-11-05 11:10:00, 2023-11-05 11:15:00]|XOM |90.79             |91.195            |[2023-11-05 11:05:00, 2023-11-05 11:10:00]|\n",
      "|[2023-11-05 11:10:00, 2023-11-05 11:15:00]|PHM |16.11             |19.69             |[2023-11-05 11:05:00, 2023-11-05 11:10:00]|\n",
      "|[2023-11-05 11:15:00, 2023-11-05 11:20:00]|CHRW|57.76             |61.305            |[2023-11-05 11:10:00, 2023-11-05 11:15:00]|\n",
      "|[2023-11-05 11:10:00, 2023-11-05 11:15:00]|SPG |151.61            |175.05            |[2023-11-05 11:05:00, 2023-11-05 11:10:00]|\n",
      "|[2023-11-05 11:10:00, 2023-11-05 11:15:00]|CCL |32.49505          |33.150000000000006|[2023-11-05 11:05:00, 2023-11-05 11:10:00]|\n",
      "|[2023-11-05 11:10:00, 2023-11-05 11:15:00]|SCG |49.980000000000004|53.2375           |[2023-11-05 11:05:00, 2023-11-05 11:10:00]|\n",
      "|[2023-11-05 11:15:00, 2023-11-05 11:20:00]|SCG |47.81999999999999 |49.980000000000004|[2023-11-05 11:10:00, 2023-11-05 11:15:00]|\n",
      "|[2023-11-05 11:15:00, 2023-11-05 11:20:00]|CINF|51.39             |52.0475           |[2023-11-05 11:10:00, 2023-11-05 11:15:00]|\n",
      "|[2023-11-05 11:10:00, 2023-11-05 11:15:00]|MPC |35.4975           |43.620000000000005|[2023-11-05 11:05:00, 2023-11-05 11:10:00]|\n",
      "|[2023-11-05 11:15:00, 2023-11-05 11:20:00]|KSU |104.25            |111.175           |[2023-11-05 11:10:00, 2023-11-05 11:15:00]|\n",
      "|[2023-11-05 11:10:00, 2023-11-05 11:15:00]|NEM |26.24             |39.43             |[2023-11-05 11:05:00, 2023-11-05 11:10:00]|\n",
      "|[2023-11-05 11:15:00, 2023-11-05 11:20:00]|NEM |24.5075           |26.24             |[2023-11-05 11:10:00, 2023-11-05 11:15:00]|\n",
      "+------------------------------------------+----+------------------+------------------+------------------------------------------+\n",
      "only showing top 20 rows\n",
      "\n"
     ]
    },
    {
     "name": "stderr",
     "output_type": "stream",
     "text": [
      "                                                                                \r"
     ]
    },
    {
     "name": "stdout",
     "output_type": "stream",
     "text": [
      "+------------------------------------------+----+----------+-----------------+------------------------------------------+\n",
      "|window                                    |name|avg(price)|previous_price   |previous_window                           |\n",
      "+------------------------------------------+----+----------+-----------------+------------------------------------------+\n",
      "|[2023-11-05 11:10:00, 2023-11-05 11:15:00]|ULTA|99.21     |86.75            |[2023-11-05 11:05:00, 2023-11-05 11:10:00]|\n",
      "|[2023-11-05 11:10:00, 2023-11-05 11:15:00]|FLIR|33.229    |26.44            |[2023-11-05 11:05:00, 2023-11-05 11:10:00]|\n",
      "|[2023-11-05 11:10:00, 2023-11-05 11:15:00]|PNW |60.05     |54.63            |[2023-11-05 11:05:00, 2023-11-05 11:10:00]|\n",
      "|[2023-11-05 11:10:00, 2023-11-05 11:15:00]|PRU |75.32     |68.6             |[2023-11-05 11:05:00, 2023-11-05 11:10:00]|\n",
      "|[2023-11-05 11:10:00, 2023-11-05 11:15:00]|ADI |48.79     |44.7             |[2023-11-05 11:05:00, 2023-11-05 11:10:00]|\n",
      "|[2023-11-05 11:10:00, 2023-11-05 11:15:00]|AGN |122.38    |93.13            |[2023-11-05 11:05:00, 2023-11-05 11:10:00]|\n",
      "|[2023-11-05 11:10:00, 2023-11-05 11:15:00]|CHRW|60.36     |57.82            |[2023-11-05 11:05:00, 2023-11-05 11:10:00]|\n",
      "|[2023-11-05 11:10:00, 2023-11-05 11:15:00]|NCLH|31.27     |30.855           |[2023-11-05 11:05:00, 2023-11-05 11:10:00]|\n",
      "|[2023-11-05 11:10:00, 2023-11-05 11:15:00]|ANTM|86.61     |73.63            |[2023-11-05 11:05:00, 2023-11-05 11:10:00]|\n",
      "|[2023-11-05 11:10:00, 2023-11-05 11:15:00]|NOV |72.55     |69.255           |[2023-11-05 11:05:00, 2023-11-05 11:10:00]|\n",
      "|[2023-11-05 11:10:00, 2023-11-05 11:15:00]|PNC |76.29     |70.4             |[2023-11-05 11:05:00, 2023-11-05 11:10:00]|\n",
      "|[2023-11-05 11:10:00, 2023-11-05 11:15:00]|JPM |55.85     |50.19            |[2023-11-05 11:05:00, 2023-11-05 11:10:00]|\n",
      "|[2023-11-05 11:10:00, 2023-11-05 11:15:00]|MNST|20.6133   |17.43665         |[2023-11-05 11:05:00, 2023-11-05 11:10:00]|\n",
      "|[2023-11-05 11:10:00, 2023-11-05 11:15:00]|EOG |68.81     |63.53            |[2023-11-05 11:05:00, 2023-11-05 11:10:00]|\n",
      "|[2023-11-05 11:10:00, 2023-11-05 11:15:00]|SYK |68.28     |65.92            |[2023-11-05 11:05:00, 2023-11-05 11:10:00]|\n",
      "|[2023-11-05 11:10:00, 2023-11-05 11:15:00]|AFL |57.57     |54.8             |[2023-11-05 11:05:00, 2023-11-05 11:10:00]|\n",
      "|[2023-11-05 11:10:00, 2023-11-05 11:15:00]|NEE |85.975    |81.08666666666667|[2023-11-05 11:05:00, 2023-11-05 11:10:00]|\n",
      "|[2023-11-05 11:10:00, 2023-11-05 11:15:00]|INTU|64.2      |64.14            |[2023-11-05 11:05:00, 2023-11-05 11:10:00]|\n",
      "|[2023-11-05 11:10:00, 2023-11-05 11:15:00]|CTAS|45.58     |45.09            |[2023-11-05 11:05:00, 2023-11-05 11:10:00]|\n",
      "|[2023-11-05 11:10:00, 2023-11-05 11:15:00]|ADP |70.49     |65.46833333333333|[2023-11-05 11:05:00, 2023-11-05 11:10:00]|\n",
      "+------------------------------------------+----+----------+-----------------+------------------------------------------+\n",
      "only showing top 20 rows\n",
      "\n"
     ]
    },
    {
     "name": "stderr",
     "output_type": "stream",
     "text": [
      "                                                                                \r"
     ]
    },
    {
     "name": "stdout",
     "output_type": "stream",
     "text": [
      "-------------------------------------------\n",
      "Batch: 8\n",
      "-------------------------------------------\n",
      "+------+-----------+----------+-------------+--------------+------------------+\n",
      "|window|first_price|last_price|lastTimeStamp|firstTimeStamp|percent_value_lost|\n",
      "+------+-----------+----------+-------------+--------------+------------------+\n",
      "+------+-----------+----------+-------------+--------------+------------------+\n",
      "\n"
     ]
    },
    {
     "name": "stderr",
     "output_type": "stream",
     "text": [
      "                                                                                \r"
     ]
    },
    {
     "name": "stdout",
     "output_type": "stream",
     "text": [
      "-------------------------------------------\n",
      "Batch: 9\n",
      "-------------------------------------------\n",
      "+------+-----------+----------+-------------+--------------+------------------+\n",
      "|window|first_price|last_price|lastTimeStamp|firstTimeStamp|percent_value_lost|\n",
      "+------+-----------+----------+-------------+--------------+------------------+\n",
      "+------+-----------+----------+-------------+--------------+------------------+\n",
      "\n"
     ]
    },
    {
     "name": "stderr",
     "output_type": "stream",
     "text": [
      "                                                                                \r"
     ]
    },
    {
     "name": "stdout",
     "output_type": "stream",
     "text": [
      "-------------------------------------------\n",
      "Batch: 10\n",
      "-------------------------------------------\n",
      "+------+-----------+----------+-------------+--------------+------------------+\n",
      "|window|first_price|last_price|lastTimeStamp|firstTimeStamp|percent_value_lost|\n",
      "+------+-----------+----------+-------------+--------------+------------------+\n",
      "+------+-----------+----------+-------------+--------------+------------------+\n",
      "\n"
     ]
    },
    {
     "name": "stderr",
     "output_type": "stream",
     "text": [
      "                                                                                \r"
     ]
    },
    {
     "name": "stdout",
     "output_type": "stream",
     "text": [
      "-------------------------------------------\n",
      "Batch: 11\n",
      "-------------------------------------------\n",
      "+------+-----------+----------+-------------+--------------+------------------+\n",
      "|window|first_price|last_price|lastTimeStamp|firstTimeStamp|percent_value_lost|\n",
      "+------+-----------+----------+-------------+--------------+------------------+\n",
      "+------+-----------+----------+-------------+--------------+------------------+\n",
      "\n",
      "+------------------------------------------+----+------------------+------------------+------------------------------------------+\n",
      "|window                                    |name|avg(price)        |previous_price    |previous_window                           |\n",
      "+------------------------------------------+----+------------------+------------------+------------------------------------------+\n",
      "|[2023-11-05 11:10:00, 2023-11-05 11:15:00]|GIS |49.35666666666666 |50.5207           |[2023-11-05 11:05:00, 2023-11-05 11:10:00]|\n",
      "|[2023-11-05 11:15:00, 2023-11-05 11:20:00]|GIS |48.6              |49.35666666666666 |[2023-11-05 11:10:00, 2023-11-05 11:15:00]|\n",
      "|[2023-11-05 11:10:00, 2023-11-05 11:15:00]|AIV |28.738            |30.63             |[2023-11-05 11:05:00, 2023-11-05 11:10:00]|\n",
      "|[2023-11-05 11:10:00, 2023-11-05 11:15:00]|AVY |42.56             |43.17             |[2023-11-05 11:05:00, 2023-11-05 11:10:00]|\n",
      "|[2023-11-05 11:15:00, 2023-11-05 11:20:00]|IRM |27.715            |28.79             |[2023-11-05 11:10:00, 2023-11-05 11:15:00]|\n",
      "|[2023-11-05 11:15:00, 2023-11-05 11:20:00]|ULTA|86.22             |99.21             |[2023-11-05 11:10:00, 2023-11-05 11:15:00]|\n",
      "|[2023-11-05 11:15:00, 2023-11-05 11:20:00]|MAT |38.333333333333336|45.345            |[2023-11-05 11:05:00, 2023-11-05 11:10:00]|\n",
      "|[2023-11-05 11:15:00, 2023-11-05 11:20:00]|RE  |149.1225          |158.115           |[2023-11-05 11:10:00, 2023-11-05 11:15:00]|\n",
      "|[2023-11-05 11:15:00, 2023-11-05 11:20:00]|PNW |55.28             |57.644999999999996|[2023-11-05 11:10:00, 2023-11-05 11:15:00]|\n",
      "|[2023-11-05 11:15:00, 2023-11-05 11:20:00]|CSCO|24.65             |24.69             |[2023-11-05 11:05:00, 2023-11-05 11:10:00]|\n",
      "|[2023-11-05 11:10:00, 2023-11-05 11:15:00]|FRT |104.77333333333333|111.75999999999999|[2023-11-05 11:05:00, 2023-11-05 11:10:00]|\n",
      "|[2023-11-05 11:10:00, 2023-11-05 11:15:00]|XOM |90.79             |91.195            |[2023-11-05 11:05:00, 2023-11-05 11:10:00]|\n",
      "|[2023-11-05 11:10:00, 2023-11-05 11:15:00]|PHM |16.11             |19.69             |[2023-11-05 11:05:00, 2023-11-05 11:10:00]|\n",
      "|[2023-11-05 11:15:00, 2023-11-05 11:20:00]|CHRW|59.49333333333333 |61.305            |[2023-11-05 11:10:00, 2023-11-05 11:15:00]|\n",
      "|[2023-11-05 11:10:00, 2023-11-05 11:15:00]|SPG |151.61            |175.05            |[2023-11-05 11:05:00, 2023-11-05 11:10:00]|\n",
      "|[2023-11-05 11:10:00, 2023-11-05 11:15:00]|CCL |32.49505          |33.150000000000006|[2023-11-05 11:05:00, 2023-11-05 11:10:00]|\n",
      "|[2023-11-05 11:10:00, 2023-11-05 11:15:00]|SCG |49.980000000000004|53.2375           |[2023-11-05 11:05:00, 2023-11-05 11:10:00]|\n",
      "|[2023-11-05 11:15:00, 2023-11-05 11:20:00]|SCG |47.81999999999999 |49.980000000000004|[2023-11-05 11:10:00, 2023-11-05 11:15:00]|\n",
      "|[2023-11-05 11:15:00, 2023-11-05 11:20:00]|CINF|51.39             |52.0475           |[2023-11-05 11:10:00, 2023-11-05 11:15:00]|\n",
      "|[2023-11-05 11:10:00, 2023-11-05 11:15:00]|MPC |35.4975           |43.620000000000005|[2023-11-05 11:05:00, 2023-11-05 11:10:00]|\n",
      "+------------------------------------------+----+------------------+------------------+------------------------------------------+\n",
      "only showing top 20 rows\n",
      "\n",
      "+------------------------------------------+----+----------+--------------+------------------------------------------+\n",
      "|window                                    |name|avg(price)|previous_price|previous_window                           |\n",
      "+------------------------------------------+----+----------+--------------+------------------------------------------+\n",
      "|[2023-11-05 11:10:00, 2023-11-05 11:15:00]|MMM |117.14    |105.88        |[2023-11-05 11:05:00, 2023-11-05 11:10:00]|\n",
      "|[2023-11-05 11:10:00, 2023-11-05 11:15:00]|WEC |41.35     |39.9          |[2023-11-05 11:05:00, 2023-11-05 11:10:00]|\n",
      "|[2023-11-05 11:10:00, 2023-11-05 11:15:00]|ULTA|99.21     |86.75         |[2023-11-05 11:05:00, 2023-11-05 11:10:00]|\n",
      "|[2023-11-05 11:10:00, 2023-11-05 11:15:00]|FLIR|32.5095   |26.44         |[2023-11-05 11:05:00, 2023-11-05 11:10:00]|\n",
      "|[2023-11-05 11:10:00, 2023-11-05 11:15:00]|EMN |77.89     |70.84         |[2023-11-05 11:05:00, 2023-11-05 11:10:00]|\n",
      "|[2023-11-05 11:10:00, 2023-11-05 11:15:00]|PNW |60.05     |54.63         |[2023-11-05 11:05:00, 2023-11-05 11:10:00]|\n",
      "|[2023-11-05 11:10:00, 2023-11-05 11:15:00]|PRU |75.32     |68.6          |[2023-11-05 11:05:00, 2023-11-05 11:10:00]|\n",
      "|[2023-11-05 11:10:00, 2023-11-05 11:15:00]|TSN |31.61     |24.64         |[2023-11-05 11:05:00, 2023-11-05 11:10:00]|\n",
      "|[2023-11-05 11:10:00, 2023-11-05 11:15:00]|ADI |48.79     |44.7          |[2023-11-05 11:05:00, 2023-11-05 11:10:00]|\n",
      "|[2023-11-05 11:10:00, 2023-11-05 11:15:00]|KORS|74.95     |64.04         |[2023-11-05 11:05:00, 2023-11-05 11:10:00]|\n",
      "|[2023-11-05 11:10:00, 2023-11-05 11:15:00]|JNPR|21.2      |20.49         |[2023-11-05 11:05:00, 2023-11-05 11:10:00]|\n",
      "|[2023-11-05 11:10:00, 2023-11-05 11:15:00]|TEL |53.65     |43.065        |[2023-11-05 11:05:00, 2023-11-05 11:10:00]|\n",
      "|[2023-11-05 11:10:00, 2023-11-05 11:15:00]|AGN |122.38    |93.13         |[2023-11-05 11:05:00, 2023-11-05 11:10:00]|\n",
      "|[2023-11-05 11:10:00, 2023-11-05 11:15:00]|CHRW|60.36     |57.82         |[2023-11-05 11:05:00, 2023-11-05 11:10:00]|\n",
      "|[2023-11-05 11:10:00, 2023-11-05 11:15:00]|NCLH|31.27     |30.855        |[2023-11-05 11:05:00, 2023-11-05 11:10:00]|\n",
      "|[2023-11-05 11:10:00, 2023-11-05 11:15:00]|ANTM|86.61     |73.63         |[2023-11-05 11:05:00, 2023-11-05 11:10:00]|\n",
      "|[2023-11-05 11:10:00, 2023-11-05 11:15:00]|NOV |74.56     |69.255        |[2023-11-05 11:05:00, 2023-11-05 11:10:00]|\n",
      "|[2023-11-05 11:10:00, 2023-11-05 11:15:00]|PNC |76.29     |70.4          |[2023-11-05 11:05:00, 2023-11-05 11:10:00]|\n",
      "|[2023-11-05 11:10:00, 2023-11-05 11:15:00]|JPM |55.85     |50.19         |[2023-11-05 11:05:00, 2023-11-05 11:10:00]|\n",
      "|[2023-11-05 11:10:00, 2023-11-05 11:15:00]|MNST|20.6133   |17.43665      |[2023-11-05 11:05:00, 2023-11-05 11:10:00]|\n",
      "+------------------------------------------+----+----------+--------------+------------------------------------------+\n",
      "only showing top 20 rows\n",
      "\n"
     ]
    },
    {
     "name": "stderr",
     "output_type": "stream",
     "text": [
      "                                                                                \r"
     ]
    },
    {
     "name": "stdout",
     "output_type": "stream",
     "text": [
      "-------------------------------------------\n",
      "Batch: 12\n",
      "-------------------------------------------\n",
      "+------+-----------+----------+-------------+--------------+------------------+\n",
      "|window|first_price|last_price|lastTimeStamp|firstTimeStamp|percent_value_lost|\n",
      "+------+-----------+----------+-------------+--------------+------------------+\n",
      "+------+-----------+----------+-------------+--------------+------------------+\n",
      "\n"
     ]
    },
    {
     "name": "stderr",
     "output_type": "stream",
     "text": [
      "                                                                                \r"
     ]
    },
    {
     "name": "stdout",
     "output_type": "stream",
     "text": [
      "-------------------------------------------\n",
      "Batch: 13\n",
      "-------------------------------------------\n",
      "+------+-----------+----------+-------------+--------------+------------------+\n",
      "|window|first_price|last_price|lastTimeStamp|firstTimeStamp|percent_value_lost|\n",
      "+------+-----------+----------+-------------+--------------+------------------+\n",
      "+------+-----------+----------+-------------+--------------+------------------+\n",
      "\n"
     ]
    },
    {
     "name": "stderr",
     "output_type": "stream",
     "text": [
      "                                                                                \r"
     ]
    },
    {
     "name": "stdout",
     "output_type": "stream",
     "text": [
      "-------------------------------------------\n",
      "Batch: 14\n",
      "-------------------------------------------\n",
      "+------+-----------+----------+-------------+--------------+------------------+\n",
      "|window|first_price|last_price|lastTimeStamp|firstTimeStamp|percent_value_lost|\n",
      "+------+-----------+----------+-------------+--------------+------------------+\n",
      "+------+-----------+----------+-------------+--------------+------------------+\n",
      "\n"
     ]
    },
    {
     "name": "stderr",
     "output_type": "stream",
     "text": [
      "                                                                                \r"
     ]
    },
    {
     "name": "stdout",
     "output_type": "stream",
     "text": [
      "+------------------------------------------+----+------------------+------------------+------------------------------------------+\n",
      "|window                                    |name|avg(price)        |previous_price    |previous_window                           |\n",
      "+------------------------------------------+----+------------------+------------------+------------------------------------------+\n",
      "|[2023-11-05 11:10:00, 2023-11-05 11:15:00]|GIS |49.35666666666666 |50.5207           |[2023-11-05 11:05:00, 2023-11-05 11:10:00]|\n",
      "|[2023-11-05 11:15:00, 2023-11-05 11:20:00]|GIS |48.6              |49.35666666666666 |[2023-11-05 11:10:00, 2023-11-05 11:15:00]|\n",
      "|[2023-11-05 11:20:00, 2023-11-05 11:25:00]|K   |66.73             |67.63             |[2023-11-05 11:15:00, 2023-11-05 11:20:00]|\n",
      "|[2023-11-05 11:10:00, 2023-11-05 11:15:00]|AIV |28.738            |30.63             |[2023-11-05 11:05:00, 2023-11-05 11:10:00]|\n",
      "|[2023-11-05 11:10:00, 2023-11-05 11:15:00]|AVY |42.56             |43.17             |[2023-11-05 11:05:00, 2023-11-05 11:10:00]|\n",
      "|[2023-11-05 11:15:00, 2023-11-05 11:20:00]|IRM |27.715            |28.79             |[2023-11-05 11:10:00, 2023-11-05 11:15:00]|\n",
      "|[2023-11-05 11:15:00, 2023-11-05 11:20:00]|ULTA|86.22             |99.21             |[2023-11-05 11:10:00, 2023-11-05 11:15:00]|\n",
      "|[2023-11-05 11:15:00, 2023-11-05 11:20:00]|MAT |38.333333333333336|45.345            |[2023-11-05 11:05:00, 2023-11-05 11:10:00]|\n",
      "|[2023-11-05 11:15:00, 2023-11-05 11:20:00]|RE  |149.1225          |158.115           |[2023-11-05 11:10:00, 2023-11-05 11:15:00]|\n",
      "|[2023-11-05 11:15:00, 2023-11-05 11:20:00]|PNW |55.28             |57.644999999999996|[2023-11-05 11:10:00, 2023-11-05 11:15:00]|\n",
      "|[2023-11-05 11:15:00, 2023-11-05 11:20:00]|CSCO|24.65             |24.69             |[2023-11-05 11:05:00, 2023-11-05 11:10:00]|\n",
      "|[2023-11-05 11:10:00, 2023-11-05 11:15:00]|FRT |104.77333333333333|111.75999999999999|[2023-11-05 11:05:00, 2023-11-05 11:10:00]|\n",
      "|[2023-11-05 11:10:00, 2023-11-05 11:15:00]|XOM |90.79             |91.195            |[2023-11-05 11:05:00, 2023-11-05 11:10:00]|\n",
      "|[2023-11-05 11:10:00, 2023-11-05 11:15:00]|PHM |16.11             |19.69             |[2023-11-05 11:05:00, 2023-11-05 11:10:00]|\n",
      "|[2023-11-05 11:20:00, 2023-11-05 11:25:00]|PHM |20.64             |21.31             |[2023-11-05 11:15:00, 2023-11-05 11:20:00]|\n",
      "|[2023-11-05 11:15:00, 2023-11-05 11:20:00]|CHRW|59.49333333333333 |61.305            |[2023-11-05 11:10:00, 2023-11-05 11:15:00]|\n",
      "|[2023-11-05 11:10:00, 2023-11-05 11:15:00]|SPG |151.61            |175.05            |[2023-11-05 11:05:00, 2023-11-05 11:10:00]|\n",
      "|[2023-11-05 11:10:00, 2023-11-05 11:15:00]|CCL |32.49505          |33.150000000000006|[2023-11-05 11:05:00, 2023-11-05 11:10:00]|\n",
      "|[2023-11-05 11:20:00, 2023-11-05 11:25:00]|NOV |77.42             |77.98             |[2023-11-05 11:15:00, 2023-11-05 11:20:00]|\n",
      "|[2023-11-05 11:20:00, 2023-11-05 11:25:00]|JPM |57.7              |57.96             |[2023-11-05 11:15:00, 2023-11-05 11:20:00]|\n",
      "+------------------------------------------+----+------------------+------------------+------------------------------------------+\n",
      "only showing top 20 rows\n",
      "\n",
      "+------------------------------------------+----+------------------+--------------+------------------------------------------+\n",
      "|window                                    |name|avg(price)        |previous_price|previous_window                           |\n",
      "+------------------------------------------+----+------------------+--------------+------------------------------------------+\n",
      "|[2023-11-05 11:10:00, 2023-11-05 11:15:00]|MMM |117.14            |105.88        |[2023-11-05 11:05:00, 2023-11-05 11:10:00]|\n",
      "|[2023-11-05 11:10:00, 2023-11-05 11:15:00]|WEC |41.245000000000005|39.9          |[2023-11-05 11:05:00, 2023-11-05 11:10:00]|\n",
      "|[2023-11-05 11:10:00, 2023-11-05 11:15:00]|ULTA|99.21             |86.75         |[2023-11-05 11:05:00, 2023-11-05 11:10:00]|\n",
      "|[2023-11-05 11:10:00, 2023-11-05 11:15:00]|FLIR|32.208000000000006|26.44         |[2023-11-05 11:05:00, 2023-11-05 11:10:00]|\n",
      "|[2023-11-05 11:10:00, 2023-11-05 11:15:00]|EMN |77.89             |70.84         |[2023-11-05 11:05:00, 2023-11-05 11:10:00]|\n",
      "|[2023-11-05 11:10:00, 2023-11-05 11:15:00]|PNW |60.05             |54.63         |[2023-11-05 11:05:00, 2023-11-05 11:10:00]|\n",
      "|[2023-11-05 11:10:00, 2023-11-05 11:15:00]|PRU |75.32             |68.6          |[2023-11-05 11:05:00, 2023-11-05 11:10:00]|\n",
      "|[2023-11-05 11:10:00, 2023-11-05 11:15:00]|TSN |31.61             |24.64         |[2023-11-05 11:05:00, 2023-11-05 11:10:00]|\n",
      "|[2023-11-05 11:10:00, 2023-11-05 11:15:00]|ADI |48.79             |44.7          |[2023-11-05 11:05:00, 2023-11-05 11:10:00]|\n",
      "|[2023-11-05 11:10:00, 2023-11-05 11:15:00]|KORS|74.95             |64.04         |[2023-11-05 11:05:00, 2023-11-05 11:10:00]|\n",
      "|[2023-11-05 11:10:00, 2023-11-05 11:15:00]|JNPR|20.73             |20.49         |[2023-11-05 11:05:00, 2023-11-05 11:10:00]|\n",
      "|[2023-11-05 11:10:00, 2023-11-05 11:15:00]|TEL |53.65             |43.065        |[2023-11-05 11:05:00, 2023-11-05 11:10:00]|\n",
      "|[2023-11-05 11:10:00, 2023-11-05 11:15:00]|AGN |122.38            |93.13         |[2023-11-05 11:05:00, 2023-11-05 11:10:00]|\n",
      "|[2023-11-05 11:10:00, 2023-11-05 11:15:00]|CHRW|61.305            |57.82         |[2023-11-05 11:05:00, 2023-11-05 11:10:00]|\n",
      "|[2023-11-05 11:10:00, 2023-11-05 11:15:00]|NCLH|31.27             |30.855        |[2023-11-05 11:05:00, 2023-11-05 11:10:00]|\n",
      "|[2023-11-05 11:10:00, 2023-11-05 11:15:00]|FFIV|89.96             |88.0          |[2023-11-05 11:05:00, 2023-11-05 11:10:00]|\n",
      "|[2023-11-05 11:10:00, 2023-11-05 11:15:00]|NLSN|37.33             |34.31         |[2023-11-05 11:05:00, 2023-11-05 11:10:00]|\n",
      "|[2023-11-05 11:10:00, 2023-11-05 11:15:00]|ANTM|86.61             |73.63         |[2023-11-05 11:05:00, 2023-11-05 11:10:00]|\n",
      "|[2023-11-05 11:10:00, 2023-11-05 11:15:00]|NOV |74.56             |69.255        |[2023-11-05 11:05:00, 2023-11-05 11:10:00]|\n",
      "|[2023-11-05 11:10:00, 2023-11-05 11:15:00]|PNC |76.29             |70.4          |[2023-11-05 11:05:00, 2023-11-05 11:10:00]|\n",
      "+------------------------------------------+----+------------------+--------------+------------------------------------------+\n",
      "only showing top 20 rows\n",
      "\n"
     ]
    },
    {
     "name": "stderr",
     "output_type": "stream",
     "text": [
      "                                                                                \r"
     ]
    },
    {
     "name": "stdout",
     "output_type": "stream",
     "text": [
      "-------------------------------------------\n",
      "Batch: 15\n",
      "-------------------------------------------\n",
      "+------+-----------+----------+-------------+--------------+------------------+\n",
      "|window|first_price|last_price|lastTimeStamp|firstTimeStamp|percent_value_lost|\n",
      "+------+-----------+----------+-------------+--------------+------------------+\n",
      "+------+-----------+----------+-------------+--------------+------------------+\n",
      "\n"
     ]
    },
    {
     "name": "stderr",
     "output_type": "stream",
     "text": [
      "                                                                                \r"
     ]
    },
    {
     "name": "stdout",
     "output_type": "stream",
     "text": [
      "-------------------------------------------\n",
      "Batch: 16\n",
      "-------------------------------------------\n",
      "+------+-----------+----------+-------------+--------------+------------------+\n",
      "|window|first_price|last_price|lastTimeStamp|firstTimeStamp|percent_value_lost|\n",
      "+------+-----------+----------+-------------+--------------+------------------+\n",
      "+------+-----------+----------+-------------+--------------+------------------+\n",
      "\n"
     ]
    },
    {
     "name": "stderr",
     "output_type": "stream",
     "text": [
      "                                                                                \r"
     ]
    },
    {
     "name": "stdout",
     "output_type": "stream",
     "text": [
      "-------------------------------------------\n",
      "Batch: 17\n",
      "-------------------------------------------\n",
      "+------------------------------------------+----+------------------+------------------+------------------------------------------+\n",
      "|window                                    |name|avg(price)        |previous_price    |previous_window                           |\n",
      "+------------------------------------------+----+------------------+------------------+------------------------------------------+\n",
      "|[2023-11-05 11:20:00, 2023-11-05 11:25:00]|ALXN|164.66            |180.2             |[2023-11-05 11:15:00, 2023-11-05 11:20:00]|\n",
      "|[2023-11-05 11:10:00, 2023-11-05 11:15:00]|GIS |49.35666666666666 |50.5207           |[2023-11-05 11:05:00, 2023-11-05 11:10:00]|\n",
      "|[2023-11-05 11:15:00, 2023-11-05 11:20:00]|GIS |48.6              |49.35666666666666 |[2023-11-05 11:10:00, 2023-11-05 11:15:00]|\n",
      "|[2023-11-05 11:20:00, 2023-11-05 11:25:00]|K   |66.23             |67.63             |[2023-11-05 11:15:00, 2023-11-05 11:20:00]|\n",
      "|[2023-11-05 11:20:00, 2023-11-05 11:25:00]|LEN |35.5196           |38.958349999999996|[2023-11-05 11:15:00, 2023-11-05 11:20:00]|\n",
      "|[2023-11-05 11:10:00, 2023-11-05 11:15:00]|AIV |28.738            |30.63             |[2023-11-05 11:05:00, 2023-11-05 11:10:00]|\n",
      "|[2023-11-05 11:10:00, 2023-11-05 11:15:00]|AVY |42.56             |43.17             |[2023-11-05 11:05:00, 2023-11-05 11:10:00]|\n",
      "|[2023-11-05 11:15:00, 2023-11-05 11:20:00]|IRM |27.715            |28.79             |[2023-11-05 11:10:00, 2023-11-05 11:15:00]|\n",
      "|[2023-11-05 11:15:00, 2023-11-05 11:20:00]|ULTA|86.22             |99.21             |[2023-11-05 11:10:00, 2023-11-05 11:15:00]|\n",
      "|[2023-11-05 11:15:00, 2023-11-05 11:20:00]|MAT |38.333333333333336|45.345            |[2023-11-05 11:05:00, 2023-11-05 11:10:00]|\n",
      "|[2023-11-05 11:15:00, 2023-11-05 11:20:00]|RE  |149.1225          |158.115           |[2023-11-05 11:10:00, 2023-11-05 11:15:00]|\n",
      "|[2023-11-05 11:15:00, 2023-11-05 11:20:00]|PNW |55.28             |57.644999999999996|[2023-11-05 11:10:00, 2023-11-05 11:15:00]|\n",
      "|[2023-11-05 11:15:00, 2023-11-05 11:20:00]|CSCO|24.65             |24.69             |[2023-11-05 11:05:00, 2023-11-05 11:10:00]|\n",
      "|[2023-11-05 11:20:00, 2023-11-05 11:25:00]|TSN |37.29             |38.37             |[2023-11-05 11:15:00, 2023-11-05 11:20:00]|\n",
      "|[2023-11-05 11:20:00, 2023-11-05 11:25:00]|BMY |49.185            |50.765            |[2023-11-05 11:15:00, 2023-11-05 11:20:00]|\n",
      "|[2023-11-05 11:10:00, 2023-11-05 11:15:00]|FRT |104.77333333333333|111.75999999999999|[2023-11-05 11:05:00, 2023-11-05 11:10:00]|\n",
      "|[2023-11-05 11:10:00, 2023-11-05 11:15:00]|XOM |90.79             |91.195            |[2023-11-05 11:05:00, 2023-11-05 11:10:00]|\n",
      "|[2023-11-05 11:10:00, 2023-11-05 11:15:00]|PHM |16.11             |19.69             |[2023-11-05 11:05:00, 2023-11-05 11:10:00]|\n",
      "|[2023-11-05 11:20:00, 2023-11-05 11:25:00]|PHM |20.64             |21.31             |[2023-11-05 11:15:00, 2023-11-05 11:20:00]|\n",
      "|[2023-11-05 11:15:00, 2023-11-05 11:20:00]|CHRW|59.49333333333333 |61.305            |[2023-11-05 11:10:00, 2023-11-05 11:15:00]|\n",
      "+------------------------------------------+----+------------------+------------------+------------------------------------------+\n",
      "only showing top 20 rows\n",
      "\n",
      "+------+-----------+----------+-------------+--------------+------------------+\n",
      "|window|first_price|last_price|lastTimeStamp|firstTimeStamp|percent_value_lost|\n",
      "+------+-----------+----------+-------------+--------------+------------------+\n",
      "+------+-----------+----------+-------------+--------------+------------------+\n",
      "\n",
      "+------------------------------------------+----+------------------+--------------+------------------------------------------+\n",
      "|window                                    |name|avg(price)        |previous_price|previous_window                           |\n",
      "+------------------------------------------+----+------------------+--------------+------------------------------------------+\n",
      "|[2023-11-05 11:10:00, 2023-11-05 11:15:00]|MMM |117.14            |105.88        |[2023-11-05 11:05:00, 2023-11-05 11:10:00]|\n",
      "|[2023-11-05 11:10:00, 2023-11-05 11:15:00]|WEC |41.245000000000005|39.9          |[2023-11-05 11:05:00, 2023-11-05 11:10:00]|\n",
      "|[2023-11-05 11:10:00, 2023-11-05 11:15:00]|ULTA|99.21             |86.75         |[2023-11-05 11:05:00, 2023-11-05 11:10:00]|\n",
      "|[2023-11-05 11:10:00, 2023-11-05 11:15:00]|HAS |52.51             |40.93         |[2023-11-05 11:05:00, 2023-11-05 11:10:00]|\n",
      "|[2023-11-05 11:10:00, 2023-11-05 11:15:00]|FLIR|32.208000000000006|26.44         |[2023-11-05 11:05:00, 2023-11-05 11:10:00]|\n",
      "|[2023-11-05 11:10:00, 2023-11-05 11:15:00]|EMN |77.89             |70.84         |[2023-11-05 11:05:00, 2023-11-05 11:10:00]|\n",
      "|[2023-11-05 11:10:00, 2023-11-05 11:15:00]|PNW |57.644999999999996|54.63         |[2023-11-05 11:05:00, 2023-11-05 11:10:00]|\n",
      "|[2023-11-05 11:10:00, 2023-11-05 11:15:00]|PRU |75.32             |68.6          |[2023-11-05 11:05:00, 2023-11-05 11:10:00]|\n",
      "|[2023-11-05 11:10:00, 2023-11-05 11:15:00]|TSN |29.98             |24.64         |[2023-11-05 11:05:00, 2023-11-05 11:10:00]|\n",
      "|[2023-11-05 11:10:00, 2023-11-05 11:15:00]|ADI |48.79             |44.7          |[2023-11-05 11:05:00, 2023-11-05 11:10:00]|\n",
      "|[2023-11-05 11:10:00, 2023-11-05 11:15:00]|KORS|74.95             |64.04         |[2023-11-05 11:05:00, 2023-11-05 11:10:00]|\n",
      "|[2023-11-05 11:10:00, 2023-11-05 11:15:00]|JNPR|20.73             |20.49         |[2023-11-05 11:05:00, 2023-11-05 11:10:00]|\n",
      "|[2023-11-05 11:10:00, 2023-11-05 11:15:00]|TEL |53.65             |43.065        |[2023-11-05 11:05:00, 2023-11-05 11:10:00]|\n",
      "|[2023-11-05 11:10:00, 2023-11-05 11:15:00]|AGN |122.38            |93.13         |[2023-11-05 11:05:00, 2023-11-05 11:10:00]|\n",
      "|[2023-11-05 11:10:00, 2023-11-05 11:15:00]|CHRW|61.305            |57.82         |[2023-11-05 11:05:00, 2023-11-05 11:10:00]|\n",
      "|[2023-11-05 11:10:00, 2023-11-05 11:15:00]|NCLH|31.27             |30.855        |[2023-11-05 11:05:00, 2023-11-05 11:10:00]|\n",
      "|[2023-11-05 11:10:00, 2023-11-05 11:15:00]|FFIV|89.96             |88.0          |[2023-11-05 11:05:00, 2023-11-05 11:10:00]|\n",
      "|[2023-11-05 11:10:00, 2023-11-05 11:15:00]|NLSN|38.78             |34.31         |[2023-11-05 11:05:00, 2023-11-05 11:10:00]|\n",
      "|[2023-11-05 11:10:00, 2023-11-05 11:15:00]|ANTM|86.61             |73.63         |[2023-11-05 11:05:00, 2023-11-05 11:10:00]|\n",
      "|[2023-11-05 11:10:00, 2023-11-05 11:15:00]|NOV |74.56             |69.255        |[2023-11-05 11:05:00, 2023-11-05 11:10:00]|\n",
      "+------------------------------------------+----+------------------+--------------+------------------------------------------+\n",
      "only showing top 20 rows\n",
      "\n"
     ]
    },
    {
     "name": "stderr",
     "output_type": "stream",
     "text": [
      "                                                                                \r"
     ]
    },
    {
     "name": "stdout",
     "output_type": "stream",
     "text": [
      "-------------------------------------------\n",
      "Batch: 18\n",
      "-------------------------------------------\n",
      "+------+-----------+----------+-------------+--------------+------------------+\n",
      "|window|first_price|last_price|lastTimeStamp|firstTimeStamp|percent_value_lost|\n",
      "+------+-----------+----------+-------------+--------------+------------------+\n",
      "+------+-----------+----------+-------------+--------------+------------------+\n",
      "\n"
     ]
    },
    {
     "name": "stderr",
     "output_type": "stream",
     "text": [
      "                                                                                \r"
     ]
    },
    {
     "name": "stdout",
     "output_type": "stream",
     "text": [
      "-------------------------------------------\n",
      "Batch: 19\n",
      "-------------------------------------------\n",
      "+------+-----------+----------+-------------+--------------+------------------+\n",
      "|window|first_price|last_price|lastTimeStamp|firstTimeStamp|percent_value_lost|\n",
      "+------+-----------+----------+-------------+--------------+------------------+\n",
      "+------+-----------+----------+-------------+--------------+------------------+\n",
      "\n"
     ]
    },
    {
     "name": "stderr",
     "output_type": "stream",
     "text": [
      "                                                                                \r"
     ]
    },
    {
     "name": "stdout",
     "output_type": "stream",
     "text": [
      "-------------------------------------------\n",
      "Batch: 20\n",
      "-------------------------------------------\n",
      "+------+-----------+----------+-------------+--------------+------------------+\n",
      "|window|first_price|last_price|lastTimeStamp|firstTimeStamp|percent_value_lost|\n",
      "+------+-----------+----------+-------------+--------------+------------------+\n",
      "+------+-----------+----------+-------------+--------------+------------------+\n",
      "\n",
      "+------------------------------------------+----+------------------+------------------+------------------------------------------+\n",
      "|window                                    |name|avg(price)        |previous_price    |previous_window                           |\n",
      "+------------------------------------------+----+------------------+------------------+------------------------------------------+\n",
      "|[2023-11-05 11:20:00, 2023-11-05 11:25:00]|ALXN|164.66            |180.2             |[2023-11-05 11:15:00, 2023-11-05 11:20:00]|\n",
      "|[2023-11-05 11:10:00, 2023-11-05 11:15:00]|GIS |49.35666666666666 |50.5207           |[2023-11-05 11:05:00, 2023-11-05 11:10:00]|\n",
      "|[2023-11-05 11:15:00, 2023-11-05 11:20:00]|GIS |48.6              |49.35666666666666 |[2023-11-05 11:10:00, 2023-11-05 11:15:00]|\n",
      "|[2023-11-05 11:20:00, 2023-11-05 11:25:00]|K   |66.23             |67.63             |[2023-11-05 11:15:00, 2023-11-05 11:20:00]|\n",
      "|[2023-11-05 11:20:00, 2023-11-05 11:25:00]|LEN |35.5196           |38.958349999999996|[2023-11-05 11:15:00, 2023-11-05 11:20:00]|\n",
      "|[2023-11-05 11:10:00, 2023-11-05 11:15:00]|AIV |28.738            |30.63             |[2023-11-05 11:05:00, 2023-11-05 11:10:00]|\n",
      "|[2023-11-05 11:10:00, 2023-11-05 11:15:00]|AVY |42.56             |43.17             |[2023-11-05 11:05:00, 2023-11-05 11:10:00]|\n",
      "|[2023-11-05 11:15:00, 2023-11-05 11:20:00]|IRM |27.715            |28.79             |[2023-11-05 11:10:00, 2023-11-05 11:15:00]|\n",
      "|[2023-11-05 11:15:00, 2023-11-05 11:20:00]|ULTA|86.22             |99.21             |[2023-11-05 11:10:00, 2023-11-05 11:15:00]|\n",
      "|[2023-11-05 11:15:00, 2023-11-05 11:20:00]|MAT |38.333333333333336|45.345            |[2023-11-05 11:05:00, 2023-11-05 11:10:00]|\n",
      "|[2023-11-05 11:15:00, 2023-11-05 11:20:00]|RE  |149.1225          |158.115           |[2023-11-05 11:10:00, 2023-11-05 11:15:00]|\n",
      "|[2023-11-05 11:15:00, 2023-11-05 11:20:00]|PNW |55.28             |57.644999999999996|[2023-11-05 11:10:00, 2023-11-05 11:15:00]|\n",
      "|[2023-11-05 11:15:00, 2023-11-05 11:20:00]|CSCO|24.65             |24.69             |[2023-11-05 11:05:00, 2023-11-05 11:10:00]|\n",
      "|[2023-11-05 11:20:00, 2023-11-05 11:25:00]|TSN |37.93             |38.37             |[2023-11-05 11:15:00, 2023-11-05 11:20:00]|\n",
      "|[2023-11-05 11:20:00, 2023-11-05 11:25:00]|BMY |49.7175           |50.765            |[2023-11-05 11:15:00, 2023-11-05 11:20:00]|\n",
      "|[2023-11-05 11:10:00, 2023-11-05 11:15:00]|FRT |104.77333333333333|111.75999999999999|[2023-11-05 11:05:00, 2023-11-05 11:10:00]|\n",
      "|[2023-11-05 11:10:00, 2023-11-05 11:15:00]|XOM |90.79             |91.195            |[2023-11-05 11:05:00, 2023-11-05 11:10:00]|\n",
      "|[2023-11-05 11:20:00, 2023-11-05 11:25:00]|ADI |50.8              |53.18             |[2023-11-05 11:15:00, 2023-11-05 11:20:00]|\n",
      "|[2023-11-05 11:10:00, 2023-11-05 11:15:00]|PHM |16.11             |19.69             |[2023-11-05 11:05:00, 2023-11-05 11:10:00]|\n",
      "|[2023-11-05 11:20:00, 2023-11-05 11:25:00]|PHM |20.64             |21.31             |[2023-11-05 11:15:00, 2023-11-05 11:20:00]|\n",
      "+------------------------------------------+----+------------------+------------------+------------------------------------------+\n",
      "only showing top 20 rows\n",
      "\n",
      "+------------------------------------------+----+------------------+--------------+------------------------------------------+\n",
      "|window                                    |name|avg(price)        |previous_price|previous_window                           |\n",
      "+------------------------------------------+----+------------------+--------------+------------------------------------------+\n",
      "|[2023-11-05 11:10:00, 2023-11-05 11:15:00]|MMM |117.14            |105.88        |[2023-11-05 11:05:00, 2023-11-05 11:10:00]|\n",
      "|[2023-11-05 11:10:00, 2023-11-05 11:15:00]|WEC |41.245000000000005|39.9          |[2023-11-05 11:05:00, 2023-11-05 11:10:00]|\n",
      "|[2023-11-05 11:10:00, 2023-11-05 11:15:00]|EA  |22.57             |18.82         |[2023-11-05 11:05:00, 2023-11-05 11:10:00]|\n",
      "|[2023-11-05 11:10:00, 2023-11-05 11:15:00]|OXY |93.2              |84.435        |[2023-11-05 11:05:00, 2023-11-05 11:10:00]|\n",
      "|[2023-11-05 11:10:00, 2023-11-05 11:15:00]|ULTA|99.21             |86.75         |[2023-11-05 11:05:00, 2023-11-05 11:10:00]|\n",
      "|[2023-11-05 11:10:00, 2023-11-05 11:15:00]|HAS |52.51             |40.93         |[2023-11-05 11:05:00, 2023-11-05 11:10:00]|\n",
      "|[2023-11-05 11:10:00, 2023-11-05 11:15:00]|FLIR|32.208000000000006|26.44         |[2023-11-05 11:05:00, 2023-11-05 11:10:00]|\n",
      "|[2023-11-05 11:10:00, 2023-11-05 11:15:00]|EMN |77.89             |70.84         |[2023-11-05 11:05:00, 2023-11-05 11:10:00]|\n",
      "|[2023-11-05 11:10:00, 2023-11-05 11:15:00]|RE  |158.115           |130.675       |[2023-11-05 11:05:00, 2023-11-05 11:10:00]|\n",
      "|[2023-11-05 11:10:00, 2023-11-05 11:15:00]|PNW |57.644999999999996|54.63         |[2023-11-05 11:05:00, 2023-11-05 11:10:00]|\n",
      "|[2023-11-05 11:10:00, 2023-11-05 11:15:00]|PRU |75.32             |68.6          |[2023-11-05 11:05:00, 2023-11-05 11:10:00]|\n",
      "|[2023-11-05 11:10:00, 2023-11-05 11:15:00]|CLX |87.48             |86.4          |[2023-11-05 11:05:00, 2023-11-05 11:10:00]|\n",
      "|[2023-11-05 11:10:00, 2023-11-05 11:15:00]|TSN |29.98             |24.64         |[2023-11-05 11:05:00, 2023-11-05 11:10:00]|\n",
      "|[2023-11-05 11:10:00, 2023-11-05 11:15:00]|ADI |48.79             |44.7          |[2023-11-05 11:05:00, 2023-11-05 11:10:00]|\n",
      "|[2023-11-05 11:10:00, 2023-11-05 11:15:00]|KORS|74.95             |64.04         |[2023-11-05 11:05:00, 2023-11-05 11:10:00]|\n",
      "|[2023-11-05 11:10:00, 2023-11-05 11:15:00]|JNPR|20.73             |20.49         |[2023-11-05 11:05:00, 2023-11-05 11:10:00]|\n",
      "|[2023-11-05 11:10:00, 2023-11-05 11:15:00]|TEL |53.65             |43.065        |[2023-11-05 11:05:00, 2023-11-05 11:10:00]|\n",
      "|[2023-11-05 11:10:00, 2023-11-05 11:15:00]|AGN |122.38            |93.13         |[2023-11-05 11:05:00, 2023-11-05 11:10:00]|\n",
      "|[2023-11-05 11:10:00, 2023-11-05 11:15:00]|CHRW|61.305            |57.82         |[2023-11-05 11:05:00, 2023-11-05 11:10:00]|\n",
      "|[2023-11-05 11:10:00, 2023-11-05 11:15:00]|NCLH|31.27             |30.855        |[2023-11-05 11:05:00, 2023-11-05 11:10:00]|\n",
      "+------------------------------------------+----+------------------+--------------+------------------------------------------+\n",
      "only showing top 20 rows\n",
      "\n"
     ]
    },
    {
     "name": "stderr",
     "output_type": "stream",
     "text": [
      "                                                                                \r"
     ]
    },
    {
     "name": "stdout",
     "output_type": "stream",
     "text": [
      "-------------------------------------------\n",
      "Batch: 21\n",
      "-------------------------------------------\n",
      "+------+-----------+----------+-------------+--------------+------------------+\n",
      "|window|first_price|last_price|lastTimeStamp|firstTimeStamp|percent_value_lost|\n",
      "+------+-----------+----------+-------------+--------------+------------------+\n",
      "+------+-----------+----------+-------------+--------------+------------------+\n",
      "\n"
     ]
    },
    {
     "name": "stderr",
     "output_type": "stream",
     "text": [
      "                                                                                \r"
     ]
    },
    {
     "name": "stdout",
     "output_type": "stream",
     "text": [
      "-------------------------------------------\n",
      "Batch: 22\n",
      "-------------------------------------------\n",
      "+------+-----------+----------+-------------+--------------+------------------+\n",
      "|window|first_price|last_price|lastTimeStamp|firstTimeStamp|percent_value_lost|\n",
      "+------+-----------+----------+-------------+--------------+------------------+\n",
      "+------+-----------+----------+-------------+--------------+------------------+\n",
      "\n"
     ]
    },
    {
     "name": "stderr",
     "output_type": "stream",
     "text": [
      "                                                                                \r"
     ]
    },
    {
     "name": "stdout",
     "output_type": "stream",
     "text": [
      "+------------------------------------------+----+------------------+------------------+------------------------------------------+\n",
      "|window                                    |name|avg(price)        |previous_price    |previous_window                           |\n",
      "+------------------------------------------+----+------------------+------------------+------------------------------------------+\n",
      "|[2023-11-05 11:20:00, 2023-11-05 11:25:00]|ALXN|164.66            |180.2             |[2023-11-05 11:15:00, 2023-11-05 11:20:00]|\n",
      "|[2023-11-05 11:10:00, 2023-11-05 11:15:00]|GIS |49.35666666666666 |50.5207           |[2023-11-05 11:05:00, 2023-11-05 11:10:00]|\n",
      "|[2023-11-05 11:15:00, 2023-11-05 11:20:00]|GIS |48.6              |49.35666666666666 |[2023-11-05 11:10:00, 2023-11-05 11:15:00]|\n",
      "|[2023-11-05 11:20:00, 2023-11-05 11:25:00]|K   |66.23             |67.63             |[2023-11-05 11:15:00, 2023-11-05 11:20:00]|\n",
      "|[2023-11-05 11:20:00, 2023-11-05 11:25:00]|LEN |35.5196           |38.958349999999996|[2023-11-05 11:15:00, 2023-11-05 11:20:00]|\n",
      "|[2023-11-05 11:10:00, 2023-11-05 11:15:00]|AIV |28.738            |30.63             |[2023-11-05 11:05:00, 2023-11-05 11:10:00]|\n",
      "|[2023-11-05 11:10:00, 2023-11-05 11:15:00]|AVY |42.56             |43.17             |[2023-11-05 11:05:00, 2023-11-05 11:10:00]|\n",
      "|[2023-11-05 11:15:00, 2023-11-05 11:20:00]|IRM |27.715            |28.79             |[2023-11-05 11:10:00, 2023-11-05 11:15:00]|\n",
      "|[2023-11-05 11:15:00, 2023-11-05 11:20:00]|ULTA|86.22             |99.21             |[2023-11-05 11:10:00, 2023-11-05 11:15:00]|\n",
      "|[2023-11-05 11:15:00, 2023-11-05 11:20:00]|MAT |38.333333333333336|45.345            |[2023-11-05 11:05:00, 2023-11-05 11:10:00]|\n",
      "|[2023-11-05 11:20:00, 2023-11-05 11:25:00]|MAT |34.3              |38.333333333333336|[2023-11-05 11:15:00, 2023-11-05 11:20:00]|\n",
      "|[2023-11-05 11:20:00, 2023-11-05 11:25:00]|KIM |22.04             |22.4725           |[2023-11-05 11:15:00, 2023-11-05 11:20:00]|\n",
      "|[2023-11-05 11:15:00, 2023-11-05 11:20:00]|RE  |149.1225          |158.115           |[2023-11-05 11:10:00, 2023-11-05 11:15:00]|\n",
      "|[2023-11-05 11:15:00, 2023-11-05 11:20:00]|PNW |55.28             |57.644999999999996|[2023-11-05 11:10:00, 2023-11-05 11:15:00]|\n",
      "|[2023-11-05 11:15:00, 2023-11-05 11:20:00]|CSCO|24.65             |24.69             |[2023-11-05 11:05:00, 2023-11-05 11:10:00]|\n",
      "|[2023-11-05 11:20:00, 2023-11-05 11:25:00]|TSN |37.93             |38.37             |[2023-11-05 11:15:00, 2023-11-05 11:20:00]|\n",
      "|[2023-11-05 11:20:00, 2023-11-05 11:25:00]|BMY |49.7175           |50.765            |[2023-11-05 11:15:00, 2023-11-05 11:20:00]|\n",
      "|[2023-11-05 11:10:00, 2023-11-05 11:15:00]|FRT |104.77333333333333|111.75999999999999|[2023-11-05 11:05:00, 2023-11-05 11:10:00]|\n",
      "|[2023-11-05 11:10:00, 2023-11-05 11:15:00]|XOM |90.79             |91.195            |[2023-11-05 11:05:00, 2023-11-05 11:10:00]|\n",
      "|[2023-11-05 11:20:00, 2023-11-05 11:25:00]|ADI |50.8              |53.18             |[2023-11-05 11:15:00, 2023-11-05 11:20:00]|\n",
      "+------------------------------------------+----+------------------+------------------+------------------------------------------+\n",
      "only showing top 20 rows\n",
      "\n",
      "-------------------------------------------\n",
      "Batch: 23\n",
      "-------------------------------------------\n",
      "+------+-----------+----------+-------------+--------------+------------------+\n",
      "|window|first_price|last_price|lastTimeStamp|firstTimeStamp|percent_value_lost|\n",
      "+------+-----------+----------+-------------+--------------+------------------+\n",
      "+------+-----------+----------+-------------+--------------+------------------+\n",
      "\n",
      "+------------------------------------------+----+------------------+------------------+------------------------------------------+\n",
      "|window                                    |name|avg(price)        |previous_price    |previous_window                           |\n",
      "+------------------------------------------+----+------------------+------------------+------------------------------------------+\n",
      "|[2023-11-05 11:10:00, 2023-11-05 11:15:00]|MMM |117.14            |105.88            |[2023-11-05 11:05:00, 2023-11-05 11:10:00]|\n",
      "|[2023-11-05 11:15:00, 2023-11-05 11:20:00]|PPG |94.995            |69.885            |[2023-11-05 11:05:00, 2023-11-05 11:10:00]|\n",
      "|[2023-11-05 11:10:00, 2023-11-05 11:15:00]|WEC |41.245000000000005|39.9              |[2023-11-05 11:05:00, 2023-11-05 11:10:00]|\n",
      "|[2023-11-05 11:10:00, 2023-11-05 11:15:00]|EA  |22.57             |18.82             |[2023-11-05 11:05:00, 2023-11-05 11:10:00]|\n",
      "|[2023-11-05 11:10:00, 2023-11-05 11:15:00]|OXY |93.2              |84.435            |[2023-11-05 11:05:00, 2023-11-05 11:10:00]|\n",
      "|[2023-11-05 11:15:00, 2023-11-05 11:20:00]|OXY |94.0999           |93.2              |[2023-11-05 11:10:00, 2023-11-05 11:15:00]|\n",
      "|[2023-11-05 11:10:00, 2023-11-05 11:15:00]|ULTA|99.21             |86.75             |[2023-11-05 11:05:00, 2023-11-05 11:10:00]|\n",
      "|[2023-11-05 11:10:00, 2023-11-05 11:15:00]|HAS |52.51             |40.93             |[2023-11-05 11:05:00, 2023-11-05 11:10:00]|\n",
      "|[2023-11-05 11:10:00, 2023-11-05 11:15:00]|FLIR|32.208000000000006|26.44             |[2023-11-05 11:05:00, 2023-11-05 11:10:00]|\n",
      "|[2023-11-05 11:15:00, 2023-11-05 11:20:00]|XL  |31.02             |30.34             |[2023-11-05 11:10:00, 2023-11-05 11:15:00]|\n",
      "|[2023-11-05 11:10:00, 2023-11-05 11:15:00]|EMN |77.89             |70.84             |[2023-11-05 11:05:00, 2023-11-05 11:10:00]|\n",
      "|[2023-11-05 11:10:00, 2023-11-05 11:15:00]|RE  |158.115           |130.675           |[2023-11-05 11:05:00, 2023-11-05 11:10:00]|\n",
      "|[2023-11-05 11:10:00, 2023-11-05 11:15:00]|PNW |57.644999999999996|54.63             |[2023-11-05 11:05:00, 2023-11-05 11:10:00]|\n",
      "|[2023-11-05 11:10:00, 2023-11-05 11:15:00]|PRU |75.32             |68.6              |[2023-11-05 11:05:00, 2023-11-05 11:10:00]|\n",
      "|[2023-11-05 11:10:00, 2023-11-05 11:15:00]|CLX |87.48             |86.4              |[2023-11-05 11:05:00, 2023-11-05 11:10:00]|\n",
      "|[2023-11-05 11:10:00, 2023-11-05 11:15:00]|TSN |29.98             |24.64             |[2023-11-05 11:05:00, 2023-11-05 11:10:00]|\n",
      "|[2023-11-05 11:15:00, 2023-11-05 11:20:00]|TSN |34.9              |29.98             |[2023-11-05 11:10:00, 2023-11-05 11:15:00]|\n",
      "|[2023-11-05 11:15:00, 2023-11-05 11:20:00]|CMG |536.84            |372.7             |[2023-11-05 11:05:00, 2023-11-05 11:10:00]|\n",
      "|[2023-11-05 11:15:00, 2023-11-05 11:20:00]|FRT |105.05            |104.77333333333333|[2023-11-05 11:10:00, 2023-11-05 11:15:00]|\n",
      "|[2023-11-05 11:10:00, 2023-11-05 11:15:00]|ADI |48.79             |44.7              |[2023-11-05 11:05:00, 2023-11-05 11:10:00]|\n",
      "+------------------------------------------+----+------------------+------------------+------------------------------------------+\n",
      "only showing top 20 rows\n",
      "\n"
     ]
    },
    {
     "name": "stderr",
     "output_type": "stream",
     "text": [
      "                                                                                \r"
     ]
    },
    {
     "name": "stdout",
     "output_type": "stream",
     "text": [
      "-------------------------------------------\n",
      "Batch: 24\n",
      "-------------------------------------------\n",
      "+------+-----------+----------+-------------+--------------+------------------+\n",
      "|window|first_price|last_price|lastTimeStamp|firstTimeStamp|percent_value_lost|\n",
      "+------+-----------+----------+-------------+--------------+------------------+\n",
      "+------+-----------+----------+-------------+--------------+------------------+\n",
      "\n"
     ]
    },
    {
     "name": "stderr",
     "output_type": "stream",
     "text": [
      "                                                                                \r"
     ]
    },
    {
     "name": "stdout",
     "output_type": "stream",
     "text": [
      "-------------------------------------------\n",
      "Batch: 25\n",
      "-------------------------------------------\n",
      "+------+-----------+----------+-------------+--------------+------------------+\n",
      "|window|first_price|last_price|lastTimeStamp|firstTimeStamp|percent_value_lost|\n",
      "+------+-----------+----------+-------------+--------------+------------------+\n",
      "+------+-----------+----------+-------------+--------------+------------------+\n",
      "\n"
     ]
    },
    {
     "name": "stderr",
     "output_type": "stream",
     "text": [
      "                                                                                \r"
     ]
    },
    {
     "name": "stdout",
     "output_type": "stream",
     "text": [
      "+------------------------------------------+----+------------------+------------------+------------------------------------------+\n",
      "|window                                    |name|avg(price)        |previous_price    |previous_window                           |\n",
      "+------------------------------------------+----+------------------+------------------+------------------------------------------+\n",
      "|[2023-11-05 11:20:00, 2023-11-05 11:25:00]|ALXN|164.66            |180.2             |[2023-11-05 11:15:00, 2023-11-05 11:20:00]|\n",
      "|[2023-11-05 11:10:00, 2023-11-05 11:15:00]|GIS |49.35666666666666 |50.5207           |[2023-11-05 11:05:00, 2023-11-05 11:10:00]|\n",
      "|[2023-11-05 11:15:00, 2023-11-05 11:20:00]|GIS |48.6              |49.35666666666666 |[2023-11-05 11:10:00, 2023-11-05 11:15:00]|\n",
      "|[2023-11-05 11:20:00, 2023-11-05 11:25:00]|K   |66.23             |67.63             |[2023-11-05 11:15:00, 2023-11-05 11:20:00]|\n",
      "|[2023-11-05 11:20:00, 2023-11-05 11:25:00]|LEN |35.5196           |38.958349999999996|[2023-11-05 11:15:00, 2023-11-05 11:20:00]|\n",
      "|[2023-11-05 11:10:00, 2023-11-05 11:15:00]|AIV |28.738            |30.63             |[2023-11-05 11:05:00, 2023-11-05 11:10:00]|\n",
      "|[2023-11-05 11:10:00, 2023-11-05 11:15:00]|AVY |42.56             |43.17             |[2023-11-05 11:05:00, 2023-11-05 11:10:00]|\n",
      "|[2023-11-05 11:15:00, 2023-11-05 11:20:00]|IRM |27.715            |28.79             |[2023-11-05 11:10:00, 2023-11-05 11:15:00]|\n",
      "|[2023-11-05 11:15:00, 2023-11-05 11:20:00]|ULTA|86.22             |99.21             |[2023-11-05 11:10:00, 2023-11-05 11:15:00]|\n",
      "|[2023-11-05 11:20:00, 2023-11-05 11:25:00]|FLIR|30.3              |36.79             |[2023-11-05 11:15:00, 2023-11-05 11:20:00]|\n",
      "|[2023-11-05 11:15:00, 2023-11-05 11:20:00]|MAT |38.333333333333336|45.345            |[2023-11-05 11:05:00, 2023-11-05 11:10:00]|\n",
      "|[2023-11-05 11:20:00, 2023-11-05 11:25:00]|MAT |34.3              |38.333333333333336|[2023-11-05 11:15:00, 2023-11-05 11:20:00]|\n",
      "|[2023-11-05 11:20:00, 2023-11-05 11:25:00]|EMN |82.48             |85.7              |[2023-11-05 11:15:00, 2023-11-05 11:20:00]|\n",
      "|[2023-11-05 11:20:00, 2023-11-05 11:25:00]|KIM |22.04             |22.4725           |[2023-11-05 11:15:00, 2023-11-05 11:20:00]|\n",
      "|[2023-11-05 11:15:00, 2023-11-05 11:20:00]|RE  |149.1225          |158.115           |[2023-11-05 11:10:00, 2023-11-05 11:15:00]|\n",
      "|[2023-11-05 11:15:00, 2023-11-05 11:20:00]|PNW |55.28             |57.644999999999996|[2023-11-05 11:10:00, 2023-11-05 11:15:00]|\n",
      "|[2023-11-05 11:15:00, 2023-11-05 11:20:00]|CSCO|24.65             |24.69             |[2023-11-05 11:05:00, 2023-11-05 11:10:00]|\n",
      "|[2023-11-05 11:20:00, 2023-11-05 11:25:00]|TSN |37.93             |38.37             |[2023-11-05 11:15:00, 2023-11-05 11:20:00]|\n",
      "|[2023-11-05 11:20:00, 2023-11-05 11:25:00]|BMY |49.7175           |50.765            |[2023-11-05 11:15:00, 2023-11-05 11:20:00]|\n",
      "|[2023-11-05 11:10:00, 2023-11-05 11:15:00]|FRT |104.77333333333333|111.75999999999999|[2023-11-05 11:05:00, 2023-11-05 11:10:00]|\n",
      "+------------------------------------------+----+------------------+------------------+------------------------------------------+\n",
      "only showing top 20 rows\n",
      "\n",
      "-------------------------------------------\n",
      "Batch: 26\n",
      "-------------------------------------------\n",
      "+------+-----------+----------+-------------+--------------+------------------+\n",
      "|window|first_price|last_price|lastTimeStamp|firstTimeStamp|percent_value_lost|\n",
      "+------+-----------+----------+-------------+--------------+------------------+\n",
      "+------+-----------+----------+-------------+--------------+------------------+\n",
      "\n",
      "+------------------------------------------+----+------------------+--------------+------------------------------------------+\n",
      "|window                                    |name|avg(price)        |previous_price|previous_window                           |\n",
      "+------------------------------------------+----+------------------+--------------+------------------------------------------+\n",
      "|[2023-11-05 11:15:00, 2023-11-05 11:20:00]|LEN |39.1716           |33.89705      |[2023-11-05 11:10:00, 2023-11-05 11:15:00]|\n",
      "|[2023-11-05 11:15:00, 2023-11-05 11:20:00]|AIV |29.98             |28.738        |[2023-11-05 11:10:00, 2023-11-05 11:15:00]|\n",
      "|[2023-11-05 11:15:00, 2023-11-05 11:20:00]|BF.B|39.51             |35.775        |[2023-11-05 11:10:00, 2023-11-05 11:15:00]|\n",
      "|[2023-11-05 11:10:00, 2023-11-05 11:15:00]|MMM |117.14            |105.88        |[2023-11-05 11:05:00, 2023-11-05 11:10:00]|\n",
      "|[2023-11-05 11:15:00, 2023-11-05 11:20:00]|MMM |130.59            |117.14        |[2023-11-05 11:10:00, 2023-11-05 11:15:00]|\n",
      "|[2023-11-05 11:15:00, 2023-11-05 11:20:00]|PPG |93.90975          |69.885        |[2023-11-05 11:05:00, 2023-11-05 11:10:00]|\n",
      "|[2023-11-05 11:10:00, 2023-11-05 11:15:00]|WEC |41.245000000000005|39.9          |[2023-11-05 11:05:00, 2023-11-05 11:10:00]|\n",
      "|[2023-11-05 11:10:00, 2023-11-05 11:15:00]|EA  |22.57             |18.82         |[2023-11-05 11:05:00, 2023-11-05 11:10:00]|\n",
      "|[2023-11-05 11:10:00, 2023-11-05 11:15:00]|OXY |93.2              |84.435        |[2023-11-05 11:05:00, 2023-11-05 11:10:00]|\n",
      "|[2023-11-05 11:15:00, 2023-11-05 11:20:00]|OXY |94.0999           |93.2          |[2023-11-05 11:10:00, 2023-11-05 11:15:00]|\n",
      "|[2023-11-05 11:10:00, 2023-11-05 11:15:00]|ULTA|99.21             |86.75         |[2023-11-05 11:05:00, 2023-11-05 11:10:00]|\n",
      "|[2023-11-05 11:10:00, 2023-11-05 11:15:00]|HAS |52.51             |40.93         |[2023-11-05 11:05:00, 2023-11-05 11:10:00]|\n",
      "|[2023-11-05 11:15:00, 2023-11-05 11:20:00]|MTD |251.63            |249.61        |[2023-11-05 11:10:00, 2023-11-05 11:15:00]|\n",
      "|[2023-11-05 11:10:00, 2023-11-05 11:15:00]|FLIR|32.208000000000006|26.44         |[2023-11-05 11:05:00, 2023-11-05 11:10:00]|\n",
      "|[2023-11-05 11:15:00, 2023-11-05 11:20:00]|XL  |31.02             |30.34         |[2023-11-05 11:10:00, 2023-11-05 11:15:00]|\n",
      "|[2023-11-05 11:10:00, 2023-11-05 11:15:00]|EMN |77.89             |70.84         |[2023-11-05 11:05:00, 2023-11-05 11:10:00]|\n",
      "|[2023-11-05 11:10:00, 2023-11-05 11:15:00]|RE  |158.115           |130.675       |[2023-11-05 11:05:00, 2023-11-05 11:10:00]|\n",
      "|[2023-11-05 11:10:00, 2023-11-05 11:15:00]|PNW |57.644999999999996|54.63         |[2023-11-05 11:05:00, 2023-11-05 11:10:00]|\n",
      "|[2023-11-05 11:10:00, 2023-11-05 11:15:00]|PRU |75.32             |68.6          |[2023-11-05 11:05:00, 2023-11-05 11:10:00]|\n",
      "|[2023-11-05 11:10:00, 2023-11-05 11:15:00]|CLX |87.48             |86.4          |[2023-11-05 11:05:00, 2023-11-05 11:10:00]|\n",
      "+------------------------------------------+----+------------------+--------------+------------------------------------------+\n",
      "only showing top 20 rows\n",
      "\n"
     ]
    },
    {
     "name": "stderr",
     "output_type": "stream",
     "text": [
      "                                                                                \r"
     ]
    },
    {
     "name": "stdout",
     "output_type": "stream",
     "text": [
      "-------------------------------------------\n",
      "Batch: 27\n",
      "-------------------------------------------\n",
      "+------+-----------+----------+-------------+--------------+------------------+\n",
      "|window|first_price|last_price|lastTimeStamp|firstTimeStamp|percent_value_lost|\n",
      "+------+-----------+----------+-------------+--------------+------------------+\n",
      "+------+-----------+----------+-------------+--------------+------------------+\n",
      "\n"
     ]
    },
    {
     "name": "stderr",
     "output_type": "stream",
     "text": [
      "                                                                                \r"
     ]
    },
    {
     "name": "stdout",
     "output_type": "stream",
     "text": [
      "-------------------------------------------\n",
      "Batch: 28\n",
      "-------------------------------------------\n",
      "+------+-----------+----------+-------------+--------------+------------------+\n",
      "|window|first_price|last_price|lastTimeStamp|firstTimeStamp|percent_value_lost|\n",
      "+------+-----------+----------+-------------+--------------+------------------+\n",
      "+------+-----------+----------+-------------+--------------+------------------+\n",
      "\n"
     ]
    },
    {
     "name": "stderr",
     "output_type": "stream",
     "text": [
      "                                                                                \r"
     ]
    },
    {
     "name": "stdout",
     "output_type": "stream",
     "text": [
      "-------------------------------------------\n",
      "Batch: 29\n",
      "-------------------------------------------\n",
      "+------+-----------+----------+-------------+--------------+------------------+\n",
      "|window|first_price|last_price|lastTimeStamp|firstTimeStamp|percent_value_lost|\n",
      "+------+-----------+----------+-------------+--------------+------------------+\n",
      "+------+-----------+----------+-------------+--------------+------------------+\n",
      "\n",
      "+------------------------------------------+----+------------------+------------------+------------------------------------------+\n",
      "|window                                    |name|avg(price)        |previous_price    |previous_window                           |\n",
      "+------------------------------------------+----+------------------+------------------+------------------------------------------+\n",
      "|[2023-11-05 11:20:00, 2023-11-05 11:25:00]|ALXN|164.66            |180.2             |[2023-11-05 11:15:00, 2023-11-05 11:20:00]|\n",
      "|[2023-11-05 11:10:00, 2023-11-05 11:15:00]|GIS |49.35666666666666 |50.5207           |[2023-11-05 11:05:00, 2023-11-05 11:10:00]|\n",
      "|[2023-11-05 11:15:00, 2023-11-05 11:20:00]|GIS |48.6              |49.35666666666666 |[2023-11-05 11:10:00, 2023-11-05 11:15:00]|\n",
      "|[2023-11-05 11:20:00, 2023-11-05 11:25:00]|K   |66.23             |67.63             |[2023-11-05 11:15:00, 2023-11-05 11:20:00]|\n",
      "|[2023-11-05 11:20:00, 2023-11-05 11:25:00]|LEN |35.5196           |38.958349999999996|[2023-11-05 11:15:00, 2023-11-05 11:20:00]|\n",
      "|[2023-11-05 11:10:00, 2023-11-05 11:15:00]|AIV |28.738            |30.63             |[2023-11-05 11:05:00, 2023-11-05 11:10:00]|\n",
      "|[2023-11-05 11:10:00, 2023-11-05 11:15:00]|AVY |42.56             |43.17             |[2023-11-05 11:05:00, 2023-11-05 11:10:00]|\n",
      "|[2023-11-05 11:15:00, 2023-11-05 11:20:00]|IRM |27.715            |28.79             |[2023-11-05 11:10:00, 2023-11-05 11:15:00]|\n",
      "|[2023-11-05 11:15:00, 2023-11-05 11:20:00]|ULTA|86.22             |99.21             |[2023-11-05 11:10:00, 2023-11-05 11:15:00]|\n",
      "|[2023-11-05 11:20:00, 2023-11-05 11:25:00]|FLIR|30.3              |36.79             |[2023-11-05 11:15:00, 2023-11-05 11:20:00]|\n",
      "|[2023-11-05 11:15:00, 2023-11-05 11:20:00]|MAT |38.333333333333336|45.345            |[2023-11-05 11:05:00, 2023-11-05 11:10:00]|\n",
      "|[2023-11-05 11:20:00, 2023-11-05 11:25:00]|MAT |34.3              |38.333333333333336|[2023-11-05 11:15:00, 2023-11-05 11:20:00]|\n",
      "|[2023-11-05 11:20:00, 2023-11-05 11:25:00]|EMN |82.48             |85.7              |[2023-11-05 11:15:00, 2023-11-05 11:20:00]|\n",
      "|[2023-11-05 11:20:00, 2023-11-05 11:25:00]|KIM |22.04             |22.4725           |[2023-11-05 11:15:00, 2023-11-05 11:20:00]|\n",
      "|[2023-11-05 11:15:00, 2023-11-05 11:20:00]|RE  |149.1225          |158.115           |[2023-11-05 11:10:00, 2023-11-05 11:15:00]|\n",
      "|[2023-11-05 11:15:00, 2023-11-05 11:20:00]|PNW |55.28             |57.644999999999996|[2023-11-05 11:10:00, 2023-11-05 11:15:00]|\n",
      "|[2023-11-05 11:15:00, 2023-11-05 11:20:00]|CSCO|24.65             |24.69             |[2023-11-05 11:05:00, 2023-11-05 11:10:00]|\n",
      "|[2023-11-05 11:20:00, 2023-11-05 11:25:00]|TSN |37.93             |38.37             |[2023-11-05 11:15:00, 2023-11-05 11:20:00]|\n",
      "|[2023-11-05 11:20:00, 2023-11-05 11:25:00]|BMY |49.7175           |50.765            |[2023-11-05 11:15:00, 2023-11-05 11:20:00]|\n",
      "|[2023-11-05 11:10:00, 2023-11-05 11:15:00]|FRT |104.77333333333333|111.75999999999999|[2023-11-05 11:05:00, 2023-11-05 11:10:00]|\n",
      "+------------------------------------------+----+------------------+------------------+------------------------------------------+\n",
      "only showing top 20 rows\n",
      "\n",
      "+------------------------------------------+----+------------------+--------------+------------------------------------------+\n",
      "|window                                    |name|avg(price)        |previous_price|previous_window                           |\n",
      "+------------------------------------------+----+------------------+--------------+------------------------------------------+\n",
      "|[2023-11-05 11:15:00, 2023-11-05 11:20:00]|ALXN|180.2             |108.02        |[2023-11-05 11:10:00, 2023-11-05 11:15:00]|\n",
      "|[2023-11-05 11:15:00, 2023-11-05 11:20:00]|LEN |39.1716           |33.89705      |[2023-11-05 11:10:00, 2023-11-05 11:15:00]|\n",
      "|[2023-11-05 11:15:00, 2023-11-05 11:20:00]|AIV |29.98             |28.738        |[2023-11-05 11:10:00, 2023-11-05 11:15:00]|\n",
      "|[2023-11-05 11:15:00, 2023-11-05 11:20:00]|BF.B|39.51             |35.775        |[2023-11-05 11:10:00, 2023-11-05 11:15:00]|\n",
      "|[2023-11-05 11:10:00, 2023-11-05 11:15:00]|MMM |117.14            |105.88        |[2023-11-05 11:05:00, 2023-11-05 11:10:00]|\n",
      "|[2023-11-05 11:15:00, 2023-11-05 11:20:00]|MMM |130.59            |117.14        |[2023-11-05 11:10:00, 2023-11-05 11:15:00]|\n",
      "|[2023-11-05 11:15:00, 2023-11-05 11:20:00]|PPG |93.90975          |69.885        |[2023-11-05 11:05:00, 2023-11-05 11:10:00]|\n",
      "|[2023-11-05 11:10:00, 2023-11-05 11:15:00]|WEC |41.245000000000005|39.9          |[2023-11-05 11:05:00, 2023-11-05 11:10:00]|\n",
      "|[2023-11-05 11:15:00, 2023-11-05 11:20:00]|BLK |308.9             |258.94        |[2023-11-05 11:10:00, 2023-11-05 11:15:00]|\n",
      "|[2023-11-05 11:10:00, 2023-11-05 11:15:00]|EA  |22.57             |18.82         |[2023-11-05 11:05:00, 2023-11-05 11:10:00]|\n",
      "|[2023-11-05 11:10:00, 2023-11-05 11:15:00]|OXY |93.2              |84.435        |[2023-11-05 11:05:00, 2023-11-05 11:10:00]|\n",
      "|[2023-11-05 11:15:00, 2023-11-05 11:20:00]|OXY |94.0999           |93.2          |[2023-11-05 11:10:00, 2023-11-05 11:15:00]|\n",
      "|[2023-11-05 11:10:00, 2023-11-05 11:15:00]|ULTA|99.21             |86.75         |[2023-11-05 11:05:00, 2023-11-05 11:10:00]|\n",
      "|[2023-11-05 11:10:00, 2023-11-05 11:15:00]|HAS |52.51             |40.93         |[2023-11-05 11:05:00, 2023-11-05 11:10:00]|\n",
      "|[2023-11-05 11:15:00, 2023-11-05 11:20:00]|MTD |250.05            |249.61        |[2023-11-05 11:10:00, 2023-11-05 11:15:00]|\n",
      "|[2023-11-05 11:10:00, 2023-11-05 11:15:00]|FLIR|32.208000000000006|26.44         |[2023-11-05 11:05:00, 2023-11-05 11:10:00]|\n",
      "|[2023-11-05 11:15:00, 2023-11-05 11:20:00]|XL  |30.795            |30.34         |[2023-11-05 11:10:00, 2023-11-05 11:15:00]|\n",
      "|[2023-11-05 11:10:00, 2023-11-05 11:15:00]|EMN |77.89             |70.84         |[2023-11-05 11:05:00, 2023-11-05 11:10:00]|\n",
      "|[2023-11-05 11:10:00, 2023-11-05 11:15:00]|RE  |158.115           |130.675       |[2023-11-05 11:05:00, 2023-11-05 11:10:00]|\n",
      "|[2023-11-05 11:10:00, 2023-11-05 11:15:00]|PNW |57.644999999999996|54.63         |[2023-11-05 11:05:00, 2023-11-05 11:10:00]|\n",
      "+------------------------------------------+----+------------------+--------------+------------------------------------------+\n",
      "only showing top 20 rows\n",
      "\n"
     ]
    },
    {
     "name": "stderr",
     "output_type": "stream",
     "text": [
      "                                                                                \r"
     ]
    },
    {
     "name": "stdout",
     "output_type": "stream",
     "text": [
      "-------------------------------------------\n",
      "Batch: 30\n",
      "-------------------------------------------\n",
      "+------+-----------+----------+-------------+--------------+------------------+\n",
      "|window|first_price|last_price|lastTimeStamp|firstTimeStamp|percent_value_lost|\n",
      "+------+-----------+----------+-------------+--------------+------------------+\n",
      "+------+-----------+----------+-------------+--------------+------------------+\n",
      "\n"
     ]
    },
    {
     "name": "stderr",
     "output_type": "stream",
     "text": [
      "                                                                                \r"
     ]
    },
    {
     "name": "stdout",
     "output_type": "stream",
     "text": [
      "-------------------------------------------\n",
      "Batch: 31\n",
      "-------------------------------------------\n",
      "+------+-----------+----------+-------------+--------------+------------------+\n",
      "|window|first_price|last_price|lastTimeStamp|firstTimeStamp|percent_value_lost|\n",
      "+------+-----------+----------+-------------+--------------+------------------+\n",
      "+------+-----------+----------+-------------+--------------+------------------+\n",
      "\n"
     ]
    },
    {
     "name": "stderr",
     "output_type": "stream",
     "text": [
      "                                                                                \r"
     ]
    },
    {
     "name": "stdout",
     "output_type": "stream",
     "text": [
      "-------------------------------------------\n",
      "Batch: 32\n",
      "-------------------------------------------\n",
      "+------+-----------+----------+-------------+--------------+------------------+\n",
      "|window|first_price|last_price|lastTimeStamp|firstTimeStamp|percent_value_lost|\n",
      "+------+-----------+----------+-------------+--------------+------------------+\n",
      "+------+-----------+----------+-------------+--------------+------------------+\n",
      "\n",
      "+------------------------------------------+----+------------------+------------------+------------------------------------------+\n",
      "|window                                    |name|avg(price)        |previous_price    |previous_window                           |\n",
      "+------------------------------------------+----+------------------+------------------+------------------------------------------+\n",
      "|[2023-11-05 11:20:00, 2023-11-05 11:25:00]|ALXN|164.66            |180.2             |[2023-11-05 11:15:00, 2023-11-05 11:20:00]|\n",
      "|[2023-11-05 11:10:00, 2023-11-05 11:15:00]|GIS |49.35666666666666 |50.5207           |[2023-11-05 11:05:00, 2023-11-05 11:10:00]|\n",
      "|[2023-11-05 11:15:00, 2023-11-05 11:20:00]|GIS |48.6              |49.35666666666666 |[2023-11-05 11:10:00, 2023-11-05 11:15:00]|\n",
      "|[2023-11-05 11:20:00, 2023-11-05 11:25:00]|K   |66.23             |67.63             |[2023-11-05 11:15:00, 2023-11-05 11:20:00]|\n",
      "|[2023-11-05 11:20:00, 2023-11-05 11:25:00]|LEN |35.5196           |38.958349999999996|[2023-11-05 11:15:00, 2023-11-05 11:20:00]|\n",
      "|[2023-11-05 11:10:00, 2023-11-05 11:15:00]|AIV |28.738            |30.63             |[2023-11-05 11:05:00, 2023-11-05 11:10:00]|\n",
      "|[2023-11-05 11:10:00, 2023-11-05 11:15:00]|AVY |42.56             |43.17             |[2023-11-05 11:05:00, 2023-11-05 11:10:00]|\n",
      "|[2023-11-05 11:15:00, 2023-11-05 11:20:00]|IRM |27.715            |28.79             |[2023-11-05 11:10:00, 2023-11-05 11:15:00]|\n",
      "|[2023-11-05 11:15:00, 2023-11-05 11:20:00]|ULTA|86.22             |99.21             |[2023-11-05 11:10:00, 2023-11-05 11:15:00]|\n",
      "|[2023-11-05 11:20:00, 2023-11-05 11:25:00]|FLIR|30.3              |36.79             |[2023-11-05 11:15:00, 2023-11-05 11:20:00]|\n",
      "|[2023-11-05 11:15:00, 2023-11-05 11:20:00]|MAT |38.333333333333336|45.345            |[2023-11-05 11:05:00, 2023-11-05 11:10:00]|\n",
      "|[2023-11-05 11:20:00, 2023-11-05 11:25:00]|MAT |34.3              |38.333333333333336|[2023-11-05 11:15:00, 2023-11-05 11:20:00]|\n",
      "|[2023-11-05 11:20:00, 2023-11-05 11:25:00]|EMN |82.48             |85.7              |[2023-11-05 11:15:00, 2023-11-05 11:20:00]|\n",
      "|[2023-11-05 11:20:00, 2023-11-05 11:25:00]|KIM |22.04             |22.4725           |[2023-11-05 11:15:00, 2023-11-05 11:20:00]|\n",
      "|[2023-11-05 11:15:00, 2023-11-05 11:20:00]|RE  |149.1225          |158.115           |[2023-11-05 11:10:00, 2023-11-05 11:15:00]|\n",
      "|[2023-11-05 11:15:00, 2023-11-05 11:20:00]|PNW |55.28             |57.644999999999996|[2023-11-05 11:10:00, 2023-11-05 11:15:00]|\n",
      "|[2023-11-05 11:15:00, 2023-11-05 11:20:00]|CSCO|24.65             |24.69             |[2023-11-05 11:05:00, 2023-11-05 11:10:00]|\n",
      "|[2023-11-05 11:20:00, 2023-11-05 11:25:00]|TSN |37.93             |38.37             |[2023-11-05 11:15:00, 2023-11-05 11:20:00]|\n",
      "|[2023-11-05 11:20:00, 2023-11-05 11:25:00]|BMY |49.7175           |50.765            |[2023-11-05 11:15:00, 2023-11-05 11:20:00]|\n",
      "|[2023-11-05 11:10:00, 2023-11-05 11:15:00]|FRT |104.77333333333333|111.75999999999999|[2023-11-05 11:05:00, 2023-11-05 11:10:00]|\n",
      "+------------------------------------------+----+------------------+------------------+------------------------------------------+\n",
      "only showing top 20 rows\n",
      "\n",
      "+------------------------------------------+----+------------------+------------------+------------------------------------------+\n",
      "|window                                    |name|avg(price)        |previous_price    |previous_window                           |\n",
      "+------------------------------------------+----+------------------+------------------+------------------------------------------+\n",
      "|[2023-11-05 11:15:00, 2023-11-05 11:20:00]|ALXN|180.2             |108.02            |[2023-11-05 11:10:00, 2023-11-05 11:15:00]|\n",
      "|[2023-11-05 11:15:00, 2023-11-05 11:20:00]|LEN |38.958349999999996|33.89705          |[2023-11-05 11:10:00, 2023-11-05 11:15:00]|\n",
      "|[2023-11-05 11:15:00, 2023-11-05 11:20:00]|SPGI|77.12             |60.16             |[2023-11-05 11:10:00, 2023-11-05 11:15:00]|\n",
      "|[2023-11-05 11:15:00, 2023-11-05 11:20:00]|AIV |29.98             |28.738            |[2023-11-05 11:10:00, 2023-11-05 11:15:00]|\n",
      "|[2023-11-05 11:15:00, 2023-11-05 11:20:00]|BF.B|39.51             |35.775            |[2023-11-05 11:10:00, 2023-11-05 11:15:00]|\n",
      "|[2023-11-05 11:10:00, 2023-11-05 11:15:00]|MMM |117.14            |105.88            |[2023-11-05 11:05:00, 2023-11-05 11:10:00]|\n",
      "|[2023-11-05 11:15:00, 2023-11-05 11:20:00]|MMM |130.59            |117.14            |[2023-11-05 11:10:00, 2023-11-05 11:15:00]|\n",
      "|[2023-11-05 11:15:00, 2023-11-05 11:20:00]|PPG |93.90975          |69.885            |[2023-11-05 11:05:00, 2023-11-05 11:10:00]|\n",
      "|[2023-11-05 11:10:00, 2023-11-05 11:15:00]|WEC |41.245000000000005|39.9              |[2023-11-05 11:05:00, 2023-11-05 11:10:00]|\n",
      "|[2023-11-05 11:15:00, 2023-11-05 11:20:00]|WEC |47.38             |41.245000000000005|[2023-11-05 11:10:00, 2023-11-05 11:15:00]|\n",
      "|[2023-11-05 11:15:00, 2023-11-05 11:20:00]|BLK |303.94485         |258.94            |[2023-11-05 11:10:00, 2023-11-05 11:15:00]|\n",
      "|[2023-11-05 11:10:00, 2023-11-05 11:15:00]|EA  |22.57             |18.82             |[2023-11-05 11:05:00, 2023-11-05 11:10:00]|\n",
      "|[2023-11-05 11:10:00, 2023-11-05 11:15:00]|OXY |93.2              |84.435            |[2023-11-05 11:05:00, 2023-11-05 11:10:00]|\n",
      "|[2023-11-05 11:15:00, 2023-11-05 11:20:00]|OXY |94.0999           |93.2              |[2023-11-05 11:10:00, 2023-11-05 11:15:00]|\n",
      "|[2023-11-05 11:10:00, 2023-11-05 11:15:00]|ULTA|99.21             |86.75             |[2023-11-05 11:05:00, 2023-11-05 11:10:00]|\n",
      "|[2023-11-05 11:10:00, 2023-11-05 11:15:00]|HAS |52.51             |40.93             |[2023-11-05 11:05:00, 2023-11-05 11:10:00]|\n",
      "|[2023-11-05 11:15:00, 2023-11-05 11:20:00]|MTD |250.05            |249.61            |[2023-11-05 11:10:00, 2023-11-05 11:15:00]|\n",
      "|[2023-11-05 11:10:00, 2023-11-05 11:15:00]|FLIR|32.208000000000006|26.44             |[2023-11-05 11:05:00, 2023-11-05 11:10:00]|\n",
      "|[2023-11-05 11:15:00, 2023-11-05 11:20:00]|FLIR|36.79             |32.208000000000006|[2023-11-05 11:10:00, 2023-11-05 11:15:00]|\n",
      "|[2023-11-05 11:15:00, 2023-11-05 11:20:00]|XL  |30.795            |30.34             |[2023-11-05 11:10:00, 2023-11-05 11:15:00]|\n",
      "+------------------------------------------+----+------------------+------------------+------------------------------------------+\n",
      "only showing top 20 rows\n",
      "\n"
     ]
    },
    {
     "name": "stderr",
     "output_type": "stream",
     "text": [
      "                                                                                \r"
     ]
    },
    {
     "name": "stdout",
     "output_type": "stream",
     "text": [
      "-------------------------------------------\n",
      "Batch: 33\n",
      "-------------------------------------------\n",
      "+------+-----------+----------+-------------+--------------+------------------+\n",
      "|window|first_price|last_price|lastTimeStamp|firstTimeStamp|percent_value_lost|\n",
      "+------+-----------+----------+-------------+--------------+------------------+\n",
      "+------+-----------+----------+-------------+--------------+------------------+\n",
      "\n"
     ]
    },
    {
     "name": "stderr",
     "output_type": "stream",
     "text": [
      "                                                                                \r"
     ]
    },
    {
     "name": "stdout",
     "output_type": "stream",
     "text": [
      "-------------------------------------------\n",
      "Batch: 34\n",
      "-------------------------------------------\n",
      "+------+-----------+----------+-------------+--------------+------------------+\n",
      "|window|first_price|last_price|lastTimeStamp|firstTimeStamp|percent_value_lost|\n",
      "+------+-----------+----------+-------------+--------------+------------------+\n",
      "+------+-----------+----------+-------------+--------------+------------------+\n",
      "\n",
      "+------------------------------------------+----+------------------+------------------+------------------------------------------+\n",
      "|window                                    |name|avg(price)        |previous_price    |previous_window                           |\n",
      "+------------------------------------------+----+------------------+------------------+------------------------------------------+\n",
      "|[2023-11-05 11:20:00, 2023-11-05 11:25:00]|ALXN|164.66            |180.2             |[2023-11-05 11:15:00, 2023-11-05 11:20:00]|\n",
      "|[2023-11-05 11:10:00, 2023-11-05 11:15:00]|GIS |49.35666666666666 |50.5207           |[2023-11-05 11:05:00, 2023-11-05 11:10:00]|\n",
      "|[2023-11-05 11:15:00, 2023-11-05 11:20:00]|GIS |48.6              |49.35666666666666 |[2023-11-05 11:10:00, 2023-11-05 11:15:00]|\n",
      "|[2023-11-05 11:20:00, 2023-11-05 11:25:00]|K   |66.23             |67.63             |[2023-11-05 11:15:00, 2023-11-05 11:20:00]|\n",
      "|[2023-11-05 11:20:00, 2023-11-05 11:25:00]|LEN |35.5196           |38.958349999999996|[2023-11-05 11:15:00, 2023-11-05 11:20:00]|\n",
      "|[2023-11-05 11:10:00, 2023-11-05 11:15:00]|AIV |28.738            |30.63             |[2023-11-05 11:05:00, 2023-11-05 11:10:00]|\n",
      "|[2023-11-05 11:10:00, 2023-11-05 11:15:00]|AVY |42.56             |43.17             |[2023-11-05 11:05:00, 2023-11-05 11:10:00]|\n",
      "|[2023-11-05 11:15:00, 2023-11-05 11:20:00]|IRM |27.715            |28.79             |[2023-11-05 11:10:00, 2023-11-05 11:15:00]|\n",
      "|[2023-11-05 11:15:00, 2023-11-05 11:20:00]|ULTA|86.22             |99.21             |[2023-11-05 11:10:00, 2023-11-05 11:15:00]|\n",
      "|[2023-11-05 11:25:00, 2023-11-05 11:30:00]|HAS |55.18             |57.96             |[2023-11-05 11:20:00, 2023-11-05 11:25:00]|\n",
      "|[2023-11-05 11:20:00, 2023-11-05 11:25:00]|FLIR|30.3              |36.79             |[2023-11-05 11:15:00, 2023-11-05 11:20:00]|\n",
      "|[2023-11-05 11:15:00, 2023-11-05 11:20:00]|MAT |38.333333333333336|45.345            |[2023-11-05 11:05:00, 2023-11-05 11:10:00]|\n",
      "|[2023-11-05 11:20:00, 2023-11-05 11:25:00]|MAT |34.3              |38.333333333333336|[2023-11-05 11:15:00, 2023-11-05 11:20:00]|\n",
      "|[2023-11-05 11:25:00, 2023-11-05 11:30:00]|MAT |27.22             |34.3              |[2023-11-05 11:20:00, 2023-11-05 11:25:00]|\n",
      "|[2023-11-05 11:20:00, 2023-11-05 11:25:00]|EMN |82.48             |85.7              |[2023-11-05 11:15:00, 2023-11-05 11:20:00]|\n",
      "|[2023-11-05 11:20:00, 2023-11-05 11:25:00]|KIM |22.04             |22.4725           |[2023-11-05 11:15:00, 2023-11-05 11:20:00]|\n",
      "|[2023-11-05 11:15:00, 2023-11-05 11:20:00]|RE  |149.1225          |158.115           |[2023-11-05 11:10:00, 2023-11-05 11:15:00]|\n",
      "|[2023-11-05 11:15:00, 2023-11-05 11:20:00]|PNW |55.28             |57.644999999999996|[2023-11-05 11:10:00, 2023-11-05 11:15:00]|\n",
      "|[2023-11-05 11:15:00, 2023-11-05 11:20:00]|CSCO|24.65             |24.69             |[2023-11-05 11:05:00, 2023-11-05 11:10:00]|\n",
      "|[2023-11-05 11:20:00, 2023-11-05 11:25:00]|TSN |37.93             |38.37             |[2023-11-05 11:15:00, 2023-11-05 11:20:00]|\n",
      "+------------------------------------------+----+------------------+------------------+------------------------------------------+\n",
      "only showing top 20 rows\n",
      "\n",
      "+------------------------------------------+----+------------------+------------------+------------------------------------------+\n",
      "|window                                    |name|avg(price)        |previous_price    |previous_window                           |\n",
      "+------------------------------------------+----+------------------+------------------+------------------------------------------+\n",
      "|[2023-11-05 11:15:00, 2023-11-05 11:20:00]|ALXN|180.2             |108.02            |[2023-11-05 11:10:00, 2023-11-05 11:15:00]|\n",
      "|[2023-11-05 11:15:00, 2023-11-05 11:20:00]|LEN |38.958349999999996|33.89705          |[2023-11-05 11:10:00, 2023-11-05 11:15:00]|\n",
      "|[2023-11-05 11:15:00, 2023-11-05 11:20:00]|SPGI|77.12             |60.16             |[2023-11-05 11:10:00, 2023-11-05 11:15:00]|\n",
      "|[2023-11-05 11:15:00, 2023-11-05 11:20:00]|AIV |29.98             |28.738            |[2023-11-05 11:10:00, 2023-11-05 11:15:00]|\n",
      "|[2023-11-05 11:15:00, 2023-11-05 11:20:00]|BF.B|41.9325           |35.775            |[2023-11-05 11:10:00, 2023-11-05 11:15:00]|\n",
      "|[2023-11-05 11:10:00, 2023-11-05 11:15:00]|MMM |117.14            |105.88            |[2023-11-05 11:05:00, 2023-11-05 11:10:00]|\n",
      "|[2023-11-05 11:15:00, 2023-11-05 11:20:00]|MMM |130.59            |117.14            |[2023-11-05 11:10:00, 2023-11-05 11:15:00]|\n",
      "|[2023-11-05 11:15:00, 2023-11-05 11:20:00]|PPG |93.90975          |69.885            |[2023-11-05 11:05:00, 2023-11-05 11:10:00]|\n",
      "|[2023-11-05 11:10:00, 2023-11-05 11:15:00]|WEC |41.245000000000005|39.9              |[2023-11-05 11:05:00, 2023-11-05 11:10:00]|\n",
      "|[2023-11-05 11:15:00, 2023-11-05 11:20:00]|WEC |47.975            |41.245000000000005|[2023-11-05 11:10:00, 2023-11-05 11:15:00]|\n",
      "|[2023-11-05 11:15:00, 2023-11-05 11:20:00]|SNA |116.18            |83.74000000000001 |[2023-11-05 11:05:00, 2023-11-05 11:10:00]|\n",
      "|[2023-11-05 11:15:00, 2023-11-05 11:20:00]|BLK |303.94485         |258.94            |[2023-11-05 11:10:00, 2023-11-05 11:15:00]|\n",
      "|[2023-11-05 11:10:00, 2023-11-05 11:15:00]|EA  |22.57             |18.82             |[2023-11-05 11:05:00, 2023-11-05 11:10:00]|\n",
      "|[2023-11-05 11:15:00, 2023-11-05 11:20:00]|EA  |27.615            |22.57             |[2023-11-05 11:10:00, 2023-11-05 11:15:00]|\n",
      "|[2023-11-05 11:10:00, 2023-11-05 11:15:00]|OXY |93.2              |84.435            |[2023-11-05 11:05:00, 2023-11-05 11:10:00]|\n",
      "|[2023-11-05 11:15:00, 2023-11-05 11:20:00]|OXY |95.4399           |93.2              |[2023-11-05 11:10:00, 2023-11-05 11:15:00]|\n",
      "|[2023-11-05 11:10:00, 2023-11-05 11:15:00]|ULTA|99.21             |86.75             |[2023-11-05 11:05:00, 2023-11-05 11:10:00]|\n",
      "|[2023-11-05 11:10:00, 2023-11-05 11:15:00]|HAS |52.51             |40.93             |[2023-11-05 11:05:00, 2023-11-05 11:10:00]|\n",
      "|[2023-11-05 11:15:00, 2023-11-05 11:20:00]|MTD |250.05            |249.61            |[2023-11-05 11:10:00, 2023-11-05 11:15:00]|\n",
      "|[2023-11-05 11:10:00, 2023-11-05 11:15:00]|FLIR|32.208000000000006|26.44             |[2023-11-05 11:05:00, 2023-11-05 11:10:00]|\n",
      "+------------------------------------------+----+------------------+------------------+------------------------------------------+\n",
      "only showing top 20 rows\n",
      "\n"
     ]
    },
    {
     "name": "stderr",
     "output_type": "stream",
     "text": [
      "                                                                                \r"
     ]
    },
    {
     "name": "stdout",
     "output_type": "stream",
     "text": [
      "-------------------------------------------\n",
      "Batch: 35\n",
      "-------------------------------------------\n",
      "+------+-----------+----------+-------------+--------------+------------------+\n",
      "|window|first_price|last_price|lastTimeStamp|firstTimeStamp|percent_value_lost|\n",
      "+------+-----------+----------+-------------+--------------+------------------+\n",
      "+------+-----------+----------+-------------+--------------+------------------+\n",
      "\n"
     ]
    },
    {
     "name": "stderr",
     "output_type": "stream",
     "text": [
      "                                                                                \r"
     ]
    },
    {
     "name": "stdout",
     "output_type": "stream",
     "text": [
      "-------------------------------------------\n",
      "Batch: 36\n",
      "-------------------------------------------\n",
      "+------+-----------+----------+-------------+--------------+------------------+\n",
      "|window|first_price|last_price|lastTimeStamp|firstTimeStamp|percent_value_lost|\n",
      "+------+-----------+----------+-------------+--------------+------------------+\n",
      "+------+-----------+----------+-------------+--------------+------------------+\n",
      "\n"
     ]
    },
    {
     "name": "stderr",
     "output_type": "stream",
     "text": [
      "                                                                                \r"
     ]
    },
    {
     "name": "stdout",
     "output_type": "stream",
     "text": [
      "+------------------------------------------+----+------------------+------------------+------------------------------------------+\n",
      "|window                                    |name|avg(price)        |previous_price    |previous_window                           |\n",
      "+------------------------------------------+----+------------------+------------------+------------------------------------------+\n",
      "|[2023-11-05 11:20:00, 2023-11-05 11:25:00]|ALXN|164.66            |180.2             |[2023-11-05 11:15:00, 2023-11-05 11:20:00]|\n",
      "|[2023-11-05 11:10:00, 2023-11-05 11:15:00]|GIS |49.35666666666666 |50.5207           |[2023-11-05 11:05:00, 2023-11-05 11:10:00]|\n",
      "|[2023-11-05 11:15:00, 2023-11-05 11:20:00]|GIS |48.6              |49.35666666666666 |[2023-11-05 11:10:00, 2023-11-05 11:15:00]|\n",
      "|[2023-11-05 11:20:00, 2023-11-05 11:25:00]|K   |66.23             |67.63             |[2023-11-05 11:15:00, 2023-11-05 11:20:00]|\n",
      "|[2023-11-05 11:20:00, 2023-11-05 11:25:00]|LEN |35.5196           |38.958349999999996|[2023-11-05 11:15:00, 2023-11-05 11:20:00]|\n",
      "|[2023-11-05 11:10:00, 2023-11-05 11:15:00]|AIV |28.738            |30.63             |[2023-11-05 11:05:00, 2023-11-05 11:10:00]|\n",
      "|[2023-11-05 11:10:00, 2023-11-05 11:15:00]|AVY |42.56             |43.17             |[2023-11-05 11:05:00, 2023-11-05 11:10:00]|\n",
      "|[2023-11-05 11:15:00, 2023-11-05 11:20:00]|IRM |27.715            |28.79             |[2023-11-05 11:10:00, 2023-11-05 11:15:00]|\n",
      "|[2023-11-05 11:15:00, 2023-11-05 11:20:00]|ULTA|86.22             |99.21             |[2023-11-05 11:10:00, 2023-11-05 11:15:00]|\n",
      "|[2023-11-05 11:25:00, 2023-11-05 11:30:00]|HAS |55.18             |57.96             |[2023-11-05 11:20:00, 2023-11-05 11:25:00]|\n",
      "|[2023-11-05 11:20:00, 2023-11-05 11:25:00]|FLIR|30.3              |36.79             |[2023-11-05 11:15:00, 2023-11-05 11:20:00]|\n",
      "|[2023-11-05 11:15:00, 2023-11-05 11:20:00]|MAT |38.333333333333336|45.345            |[2023-11-05 11:05:00, 2023-11-05 11:10:00]|\n",
      "|[2023-11-05 11:20:00, 2023-11-05 11:25:00]|MAT |34.3              |38.333333333333336|[2023-11-05 11:15:00, 2023-11-05 11:20:00]|\n",
      "|[2023-11-05 11:25:00, 2023-11-05 11:30:00]|MAT |27.22             |34.3              |[2023-11-05 11:20:00, 2023-11-05 11:25:00]|\n",
      "|[2023-11-05 11:20:00, 2023-11-05 11:25:00]|EMN |82.48             |85.7              |[2023-11-05 11:15:00, 2023-11-05 11:20:00]|\n",
      "|[2023-11-05 11:25:00, 2023-11-05 11:30:00]|EMN |76.54             |82.48             |[2023-11-05 11:20:00, 2023-11-05 11:25:00]|\n",
      "|[2023-11-05 11:20:00, 2023-11-05 11:25:00]|KIM |22.04             |22.4725           |[2023-11-05 11:15:00, 2023-11-05 11:20:00]|\n",
      "|[2023-11-05 11:15:00, 2023-11-05 11:20:00]|RE  |149.1225          |158.115           |[2023-11-05 11:10:00, 2023-11-05 11:15:00]|\n",
      "|[2023-11-05 11:15:00, 2023-11-05 11:20:00]|PNW |55.28             |57.644999999999996|[2023-11-05 11:10:00, 2023-11-05 11:15:00]|\n",
      "|[2023-11-05 11:25:00, 2023-11-05 11:30:00]|PRU |82.22             |86.805            |[2023-11-05 11:20:00, 2023-11-05 11:25:00]|\n",
      "+------------------------------------------+----+------------------+------------------+------------------------------------------+\n",
      "only showing top 20 rows\n",
      "\n",
      "-------------------------------------------\n",
      "Batch: 37\n",
      "-------------------------------------------\n",
      "+------------------------------------------+----+------------------+------------------+------------------------------------------+\n",
      "|window                                    |name|avg(price)        |previous_price    |previous_window                           |\n",
      "+------------------------------------------+----+------------------+------------------+------------------------------------------+\n",
      "|[2023-11-05 11:15:00, 2023-11-05 11:20:00]|ALXN|180.2             |108.02            |[2023-11-05 11:10:00, 2023-11-05 11:15:00]|\n",
      "|[2023-11-05 11:15:00, 2023-11-05 11:20:00]|K   |67.63             |65.865            |[2023-11-05 11:10:00, 2023-11-05 11:15:00]|\n",
      "|[2023-11-05 11:15:00, 2023-11-05 11:20:00]|LEN |38.958349999999996|33.89705          |[2023-11-05 11:10:00, 2023-11-05 11:15:00]|\n",
      "|[2023-11-05 11:15:00, 2023-11-05 11:20:00]|SPGI|77.12             |60.16             |[2023-11-05 11:10:00, 2023-11-05 11:15:00]|\n",
      "|[2023-11-05 11:15:00, 2023-11-05 11:20:00]|AIV |29.98             |28.738            |[2023-11-05 11:10:00, 2023-11-05 11:15:00]|\n",
      "|[2023-11-05 11:15:00, 2023-11-05 11:20:00]|BF.B|41.9325           |35.775            |[2023-11-05 11:10:00, 2023-11-05 11:15:00]|\n",
      "|[2023-11-05 11:10:00, 2023-11-05 11:15:00]|MMM |117.14            |105.88            |[2023-11-05 11:05:00, 2023-11-05 11:10:00]|\n",
      "|[2023-11-05 11:15:00, 2023-11-05 11:20:00]|MMM |130.59            |117.14            |[2023-11-05 11:10:00, 2023-11-05 11:15:00]|\n",
      "|[2023-11-05 11:15:00, 2023-11-05 11:20:00]|PPG |96.9215           |69.885            |[2023-11-05 11:05:00, 2023-11-05 11:10:00]|\n",
      "|[2023-11-05 11:10:00, 2023-11-05 11:15:00]|WEC |41.245000000000005|39.9              |[2023-11-05 11:05:00, 2023-11-05 11:10:00]|\n",
      "|[2023-11-05 11:15:00, 2023-11-05 11:20:00]|WEC |47.975            |41.245000000000005|[2023-11-05 11:10:00, 2023-11-05 11:15:00]|\n",
      "|[2023-11-05 11:15:00, 2023-11-05 11:20:00]|SNA |116.18            |83.74000000000001 |[2023-11-05 11:05:00, 2023-11-05 11:10:00]|\n",
      "|[2023-11-05 11:15:00, 2023-11-05 11:20:00]|BLK |303.94485         |258.94            |[2023-11-05 11:10:00, 2023-11-05 11:15:00]|\n",
      "|[2023-11-05 11:10:00, 2023-11-05 11:15:00]|EA  |22.57             |18.82             |[2023-11-05 11:05:00, 2023-11-05 11:10:00]|\n",
      "|[2023-11-05 11:15:00, 2023-11-05 11:20:00]|EA  |27.615            |22.57             |[2023-11-05 11:10:00, 2023-11-05 11:15:00]|\n",
      "|[2023-11-05 11:10:00, 2023-11-05 11:15:00]|OXY |93.2              |84.435            |[2023-11-05 11:05:00, 2023-11-05 11:10:00]|\n",
      "|[2023-11-05 11:15:00, 2023-11-05 11:20:00]|OXY |95.4399           |93.2              |[2023-11-05 11:10:00, 2023-11-05 11:15:00]|\n",
      "|[2023-11-05 11:10:00, 2023-11-05 11:15:00]|ULTA|99.21             |86.75             |[2023-11-05 11:05:00, 2023-11-05 11:10:00]|\n",
      "|[2023-11-05 11:10:00, 2023-11-05 11:15:00]|HAS |52.51             |40.93             |[2023-11-05 11:05:00, 2023-11-05 11:10:00]|\n",
      "|[2023-11-05 11:15:00, 2023-11-05 11:20:00]|HAS |53.88             |52.51             |[2023-11-05 11:10:00, 2023-11-05 11:15:00]|\n",
      "+------------------------------------------+----+------------------+------------------+------------------------------------------+\n",
      "only showing top 20 rows\n",
      "\n",
      "+------+-----------+----------+-------------+--------------+------------------+\n",
      "|window|first_price|last_price|lastTimeStamp|firstTimeStamp|percent_value_lost|\n",
      "+------+-----------+----------+-------------+--------------+------------------+\n",
      "+------+-----------+----------+-------------+--------------+------------------+\n",
      "\n"
     ]
    },
    {
     "name": "stderr",
     "output_type": "stream",
     "text": [
      "                                                                                \r"
     ]
    },
    {
     "name": "stdout",
     "output_type": "stream",
     "text": [
      "-------------------------------------------\n",
      "Batch: 38\n",
      "-------------------------------------------\n",
      "+------+-----------+----------+-------------+--------------+------------------+\n",
      "|window|first_price|last_price|lastTimeStamp|firstTimeStamp|percent_value_lost|\n",
      "+------+-----------+----------+-------------+--------------+------------------+\n",
      "+------+-----------+----------+-------------+--------------+------------------+\n",
      "\n"
     ]
    },
    {
     "name": "stderr",
     "output_type": "stream",
     "text": [
      "                                                                                \r"
     ]
    },
    {
     "name": "stdout",
     "output_type": "stream",
     "text": [
      "-------------------------------------------\n",
      "Batch: 39\n",
      "-------------------------------------------\n",
      "+------+-----------+----------+-------------+--------------+------------------+\n",
      "|window|first_price|last_price|lastTimeStamp|firstTimeStamp|percent_value_lost|\n",
      "+------+-----------+----------+-------------+--------------+------------------+\n",
      "+------+-----------+----------+-------------+--------------+------------------+\n",
      "\n",
      "+------------------------------------------+----+------------------+------------------+------------------------------------------+\n",
      "|window                                    |name|avg(price)        |previous_price    |previous_window                           |\n",
      "+------------------------------------------+----+------------------+------------------+------------------------------------------+\n",
      "|[2023-11-05 11:20:00, 2023-11-05 11:25:00]|ALXN|164.66            |180.2             |[2023-11-05 11:15:00, 2023-11-05 11:20:00]|\n",
      "|[2023-11-05 11:10:00, 2023-11-05 11:15:00]|GIS |49.35666666666666 |50.5207           |[2023-11-05 11:05:00, 2023-11-05 11:10:00]|\n",
      "|[2023-11-05 11:15:00, 2023-11-05 11:20:00]|GIS |48.6              |49.35666666666666 |[2023-11-05 11:10:00, 2023-11-05 11:15:00]|\n",
      "|[2023-11-05 11:20:00, 2023-11-05 11:25:00]|K   |66.23             |67.63             |[2023-11-05 11:15:00, 2023-11-05 11:20:00]|\n",
      "|[2023-11-05 11:20:00, 2023-11-05 11:25:00]|LEN |35.5196           |38.958349999999996|[2023-11-05 11:15:00, 2023-11-05 11:20:00]|\n",
      "|[2023-11-05 11:10:00, 2023-11-05 11:15:00]|AIV |28.738            |30.63             |[2023-11-05 11:05:00, 2023-11-05 11:10:00]|\n",
      "|[2023-11-05 11:10:00, 2023-11-05 11:15:00]|AVY |42.56             |43.17             |[2023-11-05 11:05:00, 2023-11-05 11:10:00]|\n",
      "|[2023-11-05 11:15:00, 2023-11-05 11:20:00]|IRM |27.715            |28.79             |[2023-11-05 11:10:00, 2023-11-05 11:15:00]|\n",
      "|[2023-11-05 11:25:00, 2023-11-05 11:30:00]|PM  |80.1541           |83.49333333333333 |[2023-11-05 11:15:00, 2023-11-05 11:20:00]|\n",
      "|[2023-11-05 11:15:00, 2023-11-05 11:20:00]|ULTA|86.22             |99.21             |[2023-11-05 11:10:00, 2023-11-05 11:15:00]|\n",
      "|[2023-11-05 11:25:00, 2023-11-05 11:30:00]|HAS |55.18             |57.96             |[2023-11-05 11:20:00, 2023-11-05 11:25:00]|\n",
      "|[2023-11-05 11:20:00, 2023-11-05 11:25:00]|FLIR|30.3              |36.79             |[2023-11-05 11:15:00, 2023-11-05 11:20:00]|\n",
      "|[2023-11-05 11:15:00, 2023-11-05 11:20:00]|MAT |38.333333333333336|45.345            |[2023-11-05 11:05:00, 2023-11-05 11:10:00]|\n",
      "|[2023-11-05 11:20:00, 2023-11-05 11:25:00]|MAT |34.3              |38.333333333333336|[2023-11-05 11:15:00, 2023-11-05 11:20:00]|\n",
      "|[2023-11-05 11:25:00, 2023-11-05 11:30:00]|MAT |27.22             |34.3              |[2023-11-05 11:20:00, 2023-11-05 11:25:00]|\n",
      "|[2023-11-05 11:20:00, 2023-11-05 11:25:00]|EMN |82.48             |85.7              |[2023-11-05 11:15:00, 2023-11-05 11:20:00]|\n",
      "|[2023-11-05 11:25:00, 2023-11-05 11:30:00]|EMN |76.54             |82.48             |[2023-11-05 11:20:00, 2023-11-05 11:25:00]|\n",
      "|[2023-11-05 11:20:00, 2023-11-05 11:25:00]|KIM |22.04             |22.4725           |[2023-11-05 11:15:00, 2023-11-05 11:20:00]|\n",
      "|[2023-11-05 11:15:00, 2023-11-05 11:20:00]|RE  |149.1225          |158.115           |[2023-11-05 11:10:00, 2023-11-05 11:15:00]|\n",
      "|[2023-11-05 11:15:00, 2023-11-05 11:20:00]|PNW |55.28             |57.644999999999996|[2023-11-05 11:10:00, 2023-11-05 11:15:00]|\n",
      "+------------------------------------------+----+------------------+------------------+------------------------------------------+\n",
      "only showing top 20 rows\n",
      "\n",
      "+------------------------------------------+----+------------------+------------------+------------------------------------------+\n",
      "|window                                    |name|avg(price)        |previous_price    |previous_window                           |\n",
      "+------------------------------------------+----+------------------+------------------+------------------------------------------+\n",
      "|[2023-11-05 11:15:00, 2023-11-05 11:20:00]|ALXN|180.2             |108.02            |[2023-11-05 11:10:00, 2023-11-05 11:15:00]|\n",
      "|[2023-11-05 11:15:00, 2023-11-05 11:20:00]|K   |67.63             |65.865            |[2023-11-05 11:10:00, 2023-11-05 11:15:00]|\n",
      "|[2023-11-05 11:15:00, 2023-11-05 11:20:00]|LEN |38.958349999999996|33.89705          |[2023-11-05 11:10:00, 2023-11-05 11:15:00]|\n",
      "|[2023-11-05 11:15:00, 2023-11-05 11:20:00]|SPGI|77.12             |60.16             |[2023-11-05 11:10:00, 2023-11-05 11:15:00]|\n",
      "|[2023-11-05 11:15:00, 2023-11-05 11:20:00]|AIV |29.98             |28.738            |[2023-11-05 11:10:00, 2023-11-05 11:15:00]|\n",
      "|[2023-11-05 11:15:00, 2023-11-05 11:20:00]|BF.B|41.9325           |35.775            |[2023-11-05 11:10:00, 2023-11-05 11:15:00]|\n",
      "|[2023-11-05 11:10:00, 2023-11-05 11:15:00]|MMM |117.14            |105.88            |[2023-11-05 11:05:00, 2023-11-05 11:10:00]|\n",
      "|[2023-11-05 11:15:00, 2023-11-05 11:20:00]|MMM |130.59            |117.14            |[2023-11-05 11:10:00, 2023-11-05 11:15:00]|\n",
      "|[2023-11-05 11:15:00, 2023-11-05 11:20:00]|PPG |96.9215           |69.885            |[2023-11-05 11:05:00, 2023-11-05 11:10:00]|\n",
      "|[2023-11-05 11:10:00, 2023-11-05 11:15:00]|WEC |41.245000000000005|39.9              |[2023-11-05 11:05:00, 2023-11-05 11:10:00]|\n",
      "|[2023-11-05 11:15:00, 2023-11-05 11:20:00]|WEC |47.975            |41.245000000000005|[2023-11-05 11:10:00, 2023-11-05 11:15:00]|\n",
      "|[2023-11-05 11:15:00, 2023-11-05 11:20:00]|SNA |116.18            |83.74000000000001 |[2023-11-05 11:05:00, 2023-11-05 11:10:00]|\n",
      "|[2023-11-05 11:15:00, 2023-11-05 11:20:00]|BLK |303.94485         |258.94            |[2023-11-05 11:10:00, 2023-11-05 11:15:00]|\n",
      "|[2023-11-05 11:10:00, 2023-11-05 11:15:00]|EA  |22.57             |18.82             |[2023-11-05 11:05:00, 2023-11-05 11:10:00]|\n",
      "|[2023-11-05 11:15:00, 2023-11-05 11:20:00]|EA  |27.615            |22.57             |[2023-11-05 11:10:00, 2023-11-05 11:15:00]|\n",
      "|[2023-11-05 11:20:00, 2023-11-05 11:25:00]|ESRX|69.64             |66.35666666666667 |[2023-11-05 11:10:00, 2023-11-05 11:15:00]|\n",
      "|[2023-11-05 11:10:00, 2023-11-05 11:15:00]|OXY |93.2              |84.435            |[2023-11-05 11:05:00, 2023-11-05 11:10:00]|\n",
      "|[2023-11-05 11:15:00, 2023-11-05 11:20:00]|OXY |95.4399           |93.2              |[2023-11-05 11:10:00, 2023-11-05 11:15:00]|\n",
      "|[2023-11-05 11:20:00, 2023-11-05 11:25:00]|OXY |102.32            |95.4399           |[2023-11-05 11:15:00, 2023-11-05 11:20:00]|\n",
      "|[2023-11-05 11:10:00, 2023-11-05 11:15:00]|ULTA|99.21             |86.75             |[2023-11-05 11:05:00, 2023-11-05 11:10:00]|\n",
      "+------------------------------------------+----+------------------+------------------+------------------------------------------+\n",
      "only showing top 20 rows\n",
      "\n"
     ]
    },
    {
     "name": "stderr",
     "output_type": "stream",
     "text": [
      "                                                                                \r"
     ]
    },
    {
     "name": "stdout",
     "output_type": "stream",
     "text": [
      "-------------------------------------------\n",
      "Batch: 40\n",
      "-------------------------------------------\n",
      "+------+-----------+----------+-------------+--------------+------------------+\n",
      "|window|first_price|last_price|lastTimeStamp|firstTimeStamp|percent_value_lost|\n",
      "+------+-----------+----------+-------------+--------------+------------------+\n",
      "+------+-----------+----------+-------------+--------------+------------------+\n",
      "\n"
     ]
    },
    {
     "name": "stderr",
     "output_type": "stream",
     "text": [
      "                                                                                \r"
     ]
    },
    {
     "name": "stdout",
     "output_type": "stream",
     "text": [
      "-------------------------------------------\n",
      "Batch: 41\n",
      "-------------------------------------------\n",
      "+------+-----------+----------+-------------+--------------+------------------+\n",
      "|window|first_price|last_price|lastTimeStamp|firstTimeStamp|percent_value_lost|\n",
      "+------+-----------+----------+-------------+--------------+------------------+\n",
      "+------+-----------+----------+-------------+--------------+------------------+\n",
      "\n"
     ]
    },
    {
     "name": "stderr",
     "output_type": "stream",
     "text": [
      "                                                                                \r"
     ]
    },
    {
     "name": "stdout",
     "output_type": "stream",
     "text": [
      "+------------------------------------------+----+------------------+------------------+------------------------------------------+\n",
      "|window                                    |name|avg(price)        |previous_price    |previous_window                           |\n",
      "+------------------------------------------+----+------------------+------------------+------------------------------------------+\n",
      "|[2023-11-05 11:15:00, 2023-11-05 11:20:00]|ALXN|180.2             |108.02            |[2023-11-05 11:10:00, 2023-11-05 11:15:00]|\n",
      "|[2023-11-05 11:15:00, 2023-11-05 11:20:00]|K   |67.63             |65.865            |[2023-11-05 11:10:00, 2023-11-05 11:15:00]|\n",
      "|[2023-11-05 11:15:00, 2023-11-05 11:20:00]|LEN |38.958349999999996|33.89705          |[2023-11-05 11:10:00, 2023-11-05 11:15:00]|\n",
      "|[2023-11-05 11:15:00, 2023-11-05 11:20:00]|SPGI|77.12             |60.16             |[2023-11-05 11:10:00, 2023-11-05 11:15:00]|\n",
      "|[2023-11-05 11:15:00, 2023-11-05 11:20:00]|AIV |29.98             |28.738            |[2023-11-05 11:10:00, 2023-11-05 11:15:00]|\n",
      "|[2023-11-05 11:15:00, 2023-11-05 11:20:00]|BF.B|41.9325           |35.775            |[2023-11-05 11:10:00, 2023-11-05 11:15:00]|\n",
      "|[2023-11-05 11:10:00, 2023-11-05 11:15:00]|MMM |117.14            |105.88            |[2023-11-05 11:05:00, 2023-11-05 11:10:00]|\n",
      "|[2023-11-05 11:15:00, 2023-11-05 11:20:00]|MMM |130.59            |117.14            |[2023-11-05 11:10:00, 2023-11-05 11:15:00]|\n",
      "|[2023-11-05 11:20:00, 2023-11-05 11:25:00]|PKI |45.22             |42.77             |[2023-11-05 11:15:00, 2023-11-05 11:20:00]|\n",
      "|[2023-11-05 11:15:00, 2023-11-05 11:20:00]|PPG |96.9215           |69.885            |[2023-11-05 11:05:00, 2023-11-05 11:10:00]|\n",
      "|[2023-11-05 11:10:00, 2023-11-05 11:15:00]|WEC |41.245000000000005|39.9              |[2023-11-05 11:05:00, 2023-11-05 11:10:00]|\n",
      "|[2023-11-05 11:15:00, 2023-11-05 11:20:00]|WEC |47.975            |41.245000000000005|[2023-11-05 11:10:00, 2023-11-05 11:15:00]|\n",
      "|[2023-11-05 11:15:00, 2023-11-05 11:20:00]|SNA |116.18            |83.74000000000001 |[2023-11-05 11:05:00, 2023-11-05 11:10:00]|\n",
      "|[2023-11-05 11:20:00, 2023-11-05 11:25:00]|SNA |124.02000000000001|116.18            |[2023-11-05 11:15:00, 2023-11-05 11:20:00]|\n",
      "|[2023-11-05 11:15:00, 2023-11-05 11:20:00]|BLK |303.94485         |258.94            |[2023-11-05 11:10:00, 2023-11-05 11:15:00]|\n",
      "|[2023-11-05 11:10:00, 2023-11-05 11:15:00]|EA  |22.57             |18.82             |[2023-11-05 11:05:00, 2023-11-05 11:10:00]|\n",
      "|[2023-11-05 11:15:00, 2023-11-05 11:20:00]|EA  |27.615            |22.57             |[2023-11-05 11:10:00, 2023-11-05 11:15:00]|\n",
      "|[2023-11-05 11:20:00, 2023-11-05 11:25:00]|ESRX|69.64             |66.35666666666667 |[2023-11-05 11:10:00, 2023-11-05 11:15:00]|\n",
      "|[2023-11-05 11:10:00, 2023-11-05 11:15:00]|OXY |93.2              |84.435            |[2023-11-05 11:05:00, 2023-11-05 11:10:00]|\n",
      "|[2023-11-05 11:15:00, 2023-11-05 11:20:00]|OXY |95.4399           |93.2              |[2023-11-05 11:10:00, 2023-11-05 11:15:00]|\n",
      "+------------------------------------------+----+------------------+------------------+------------------------------------------+\n",
      "only showing top 20 rows\n",
      "\n",
      "-------------------------------------------\n",
      "Batch: 42\n",
      "-------------------------------------------\n",
      "+------+-----------+----------+-------------+--------------+------------------+\n",
      "|window|first_price|last_price|lastTimeStamp|firstTimeStamp|percent_value_lost|\n",
      "+------+-----------+----------+-------------+--------------+------------------+\n",
      "+------+-----------+----------+-------------+--------------+------------------+\n",
      "\n",
      "+------------------------------------------+----+------------------+------------------+------------------------------------------+\n",
      "|window                                    |name|avg(price)        |previous_price    |previous_window                           |\n",
      "+------------------------------------------+----+------------------+------------------+------------------------------------------+\n",
      "|[2023-11-05 11:20:00, 2023-11-05 11:25:00]|ALXN|164.66            |180.2             |[2023-11-05 11:15:00, 2023-11-05 11:20:00]|\n",
      "|[2023-11-05 11:10:00, 2023-11-05 11:15:00]|GIS |49.35666666666666 |50.5207           |[2023-11-05 11:05:00, 2023-11-05 11:10:00]|\n",
      "|[2023-11-05 11:15:00, 2023-11-05 11:20:00]|GIS |48.6              |49.35666666666666 |[2023-11-05 11:10:00, 2023-11-05 11:15:00]|\n",
      "|[2023-11-05 11:20:00, 2023-11-05 11:25:00]|K   |66.23             |67.63             |[2023-11-05 11:15:00, 2023-11-05 11:20:00]|\n",
      "|[2023-11-05 11:20:00, 2023-11-05 11:25:00]|LEN |35.5196           |38.958349999999996|[2023-11-05 11:15:00, 2023-11-05 11:20:00]|\n",
      "|[2023-11-05 11:10:00, 2023-11-05 11:15:00]|AIV |28.738            |30.63             |[2023-11-05 11:05:00, 2023-11-05 11:10:00]|\n",
      "|[2023-11-05 11:10:00, 2023-11-05 11:15:00]|AVY |42.56             |43.17             |[2023-11-05 11:05:00, 2023-11-05 11:10:00]|\n",
      "|[2023-11-05 11:25:00, 2023-11-05 11:30:00]|RF  |9.89              |10.489999999999998|[2023-11-05 11:15:00, 2023-11-05 11:20:00]|\n",
      "|[2023-11-05 11:15:00, 2023-11-05 11:20:00]|IRM |27.715            |28.79             |[2023-11-05 11:10:00, 2023-11-05 11:15:00]|\n",
      "|[2023-11-05 11:25:00, 2023-11-05 11:30:00]|PM  |82.76205          |83.49333333333333 |[2023-11-05 11:15:00, 2023-11-05 11:20:00]|\n",
      "|[2023-11-05 11:25:00, 2023-11-05 11:30:00]|OXY |82.02             |102.32            |[2023-11-05 11:20:00, 2023-11-05 11:25:00]|\n",
      "|[2023-11-05 11:15:00, 2023-11-05 11:20:00]|ULTA|86.22             |99.21             |[2023-11-05 11:10:00, 2023-11-05 11:15:00]|\n",
      "|[2023-11-05 11:20:00, 2023-11-05 11:25:00]|FLIR|30.3              |36.79             |[2023-11-05 11:15:00, 2023-11-05 11:20:00]|\n",
      "|[2023-11-05 11:15:00, 2023-11-05 11:20:00]|MAT |38.333333333333336|45.345            |[2023-11-05 11:05:00, 2023-11-05 11:10:00]|\n",
      "|[2023-11-05 11:20:00, 2023-11-05 11:25:00]|MAT |34.3              |38.333333333333336|[2023-11-05 11:15:00, 2023-11-05 11:20:00]|\n",
      "|[2023-11-05 11:25:00, 2023-11-05 11:30:00]|MAT |27.22             |34.3              |[2023-11-05 11:20:00, 2023-11-05 11:25:00]|\n",
      "|[2023-11-05 11:20:00, 2023-11-05 11:25:00]|EMN |82.48             |85.7              |[2023-11-05 11:15:00, 2023-11-05 11:20:00]|\n",
      "|[2023-11-05 11:25:00, 2023-11-05 11:30:00]|EMN |76.54             |82.48             |[2023-11-05 11:20:00, 2023-11-05 11:25:00]|\n",
      "|[2023-11-05 11:20:00, 2023-11-05 11:25:00]|KIM |22.04             |22.4725           |[2023-11-05 11:15:00, 2023-11-05 11:20:00]|\n",
      "|[2023-11-05 11:15:00, 2023-11-05 11:20:00]|RE  |149.1225          |158.115           |[2023-11-05 11:10:00, 2023-11-05 11:15:00]|\n",
      "+------------------------------------------+----+------------------+------------------+------------------------------------------+\n",
      "only showing top 20 rows\n",
      "\n"
     ]
    },
    {
     "name": "stderr",
     "output_type": "stream",
     "text": [
      "                                                                                \r"
     ]
    },
    {
     "name": "stdout",
     "output_type": "stream",
     "text": [
      "-------------------------------------------\n",
      "Batch: 43\n",
      "-------------------------------------------\n",
      "+------+-----------+----------+-------------+--------------+------------------+\n",
      "|window|first_price|last_price|lastTimeStamp|firstTimeStamp|percent_value_lost|\n",
      "+------+-----------+----------+-------------+--------------+------------------+\n",
      "+------+-----------+----------+-------------+--------------+------------------+\n",
      "\n"
     ]
    },
    {
     "name": "stderr",
     "output_type": "stream",
     "text": [
      "                                                                                \r"
     ]
    },
    {
     "name": "stdout",
     "output_type": "stream",
     "text": [
      "-------------------------------------------\n",
      "Batch: 44\n",
      "-------------------------------------------\n",
      "+------+-----------+----------+-------------+--------------+------------------+\n",
      "|window|first_price|last_price|lastTimeStamp|firstTimeStamp|percent_value_lost|\n",
      "+------+-----------+----------+-------------+--------------+------------------+\n",
      "+------+-----------+----------+-------------+--------------+------------------+\n",
      "\n"
     ]
    },
    {
     "name": "stderr",
     "output_type": "stream",
     "text": [
      "                                                                                \r"
     ]
    },
    {
     "name": "stdout",
     "output_type": "stream",
     "text": [
      "+------------------------------------------+----+------------------+------------------+------------------------------------------+\n",
      "|window                                    |name|avg(price)        |previous_price    |previous_window                           |\n",
      "+------------------------------------------+----+------------------+------------------+------------------------------------------+\n",
      "|[2023-11-05 11:15:00, 2023-11-05 11:20:00]|ALXN|180.2             |108.02            |[2023-11-05 11:10:00, 2023-11-05 11:15:00]|\n",
      "|[2023-11-05 11:15:00, 2023-11-05 11:20:00]|K   |67.63             |65.865            |[2023-11-05 11:10:00, 2023-11-05 11:15:00]|\n",
      "|[2023-11-05 11:15:00, 2023-11-05 11:20:00]|LEN |38.958349999999996|33.89705          |[2023-11-05 11:10:00, 2023-11-05 11:15:00]|\n",
      "|[2023-11-05 11:15:00, 2023-11-05 11:20:00]|SPGI|77.12             |60.16             |[2023-11-05 11:10:00, 2023-11-05 11:15:00]|\n",
      "|[2023-11-05 11:15:00, 2023-11-05 11:20:00]|AIV |29.98             |28.738            |[2023-11-05 11:10:00, 2023-11-05 11:15:00]|\n",
      "|[2023-11-05 11:15:00, 2023-11-05 11:20:00]|BF.B|41.9325           |35.775            |[2023-11-05 11:10:00, 2023-11-05 11:15:00]|\n",
      "|[2023-11-05 11:10:00, 2023-11-05 11:15:00]|MMM |117.14            |105.88            |[2023-11-05 11:05:00, 2023-11-05 11:10:00]|\n",
      "|[2023-11-05 11:15:00, 2023-11-05 11:20:00]|MMM |130.59            |117.14            |[2023-11-05 11:10:00, 2023-11-05 11:15:00]|\n",
      "|[2023-11-05 11:20:00, 2023-11-05 11:25:00]|PKI |45.22             |42.77             |[2023-11-05 11:15:00, 2023-11-05 11:20:00]|\n",
      "|[2023-11-05 11:15:00, 2023-11-05 11:20:00]|PPG |96.9215           |69.885            |[2023-11-05 11:05:00, 2023-11-05 11:10:00]|\n",
      "|[2023-11-05 11:10:00, 2023-11-05 11:15:00]|WEC |41.245000000000005|39.9              |[2023-11-05 11:05:00, 2023-11-05 11:10:00]|\n",
      "|[2023-11-05 11:15:00, 2023-11-05 11:20:00]|WEC |47.975            |41.245000000000005|[2023-11-05 11:10:00, 2023-11-05 11:15:00]|\n",
      "|[2023-11-05 11:15:00, 2023-11-05 11:20:00]|SNA |116.18            |83.74000000000001 |[2023-11-05 11:05:00, 2023-11-05 11:10:00]|\n",
      "|[2023-11-05 11:20:00, 2023-11-05 11:25:00]|SNA |124.02000000000001|116.18            |[2023-11-05 11:15:00, 2023-11-05 11:20:00]|\n",
      "|[2023-11-05 11:15:00, 2023-11-05 11:20:00]|BLK |303.94485         |258.94            |[2023-11-05 11:10:00, 2023-11-05 11:15:00]|\n",
      "|[2023-11-05 11:10:00, 2023-11-05 11:15:00]|EA  |22.57             |18.82             |[2023-11-05 11:05:00, 2023-11-05 11:10:00]|\n",
      "|[2023-11-05 11:15:00, 2023-11-05 11:20:00]|EA  |27.615            |22.57             |[2023-11-05 11:10:00, 2023-11-05 11:15:00]|\n",
      "|[2023-11-05 11:20:00, 2023-11-05 11:25:00]|EA  |37.59             |27.615            |[2023-11-05 11:15:00, 2023-11-05 11:20:00]|\n",
      "|[2023-11-05 11:20:00, 2023-11-05 11:25:00]|ESRX|69.64             |66.35666666666667 |[2023-11-05 11:10:00, 2023-11-05 11:15:00]|\n",
      "|[2023-11-05 11:10:00, 2023-11-05 11:15:00]|OXY |93.2              |84.435            |[2023-11-05 11:05:00, 2023-11-05 11:10:00]|\n",
      "+------------------------------------------+----+------------------+------------------+------------------------------------------+\n",
      "only showing top 20 rows\n",
      "\n"
     ]
    },
    {
     "name": "stderr",
     "output_type": "stream",
     "text": [
      "                                                                                \r"
     ]
    },
    {
     "name": "stdout",
     "output_type": "stream",
     "text": [
      "-------------------------------------------\n",
      "Batch: 45\n",
      "-------------------------------------------\n",
      "+------+-----------+----------+-------------+--------------+------------------+\n",
      "|window|first_price|last_price|lastTimeStamp|firstTimeStamp|percent_value_lost|\n",
      "+------+-----------+----------+-------------+--------------+------------------+\n",
      "+------+-----------+----------+-------------+--------------+------------------+\n",
      "\n"
     ]
    },
    {
     "name": "stderr",
     "output_type": "stream",
     "text": [
      "                                                                                \r"
     ]
    },
    {
     "name": "stdout",
     "output_type": "stream",
     "text": [
      "+------------------------------------------+----+------------------+------------------+------------------------------------------+\n",
      "|window                                    |name|avg(price)        |previous_price    |previous_window                           |\n",
      "+------------------------------------------+----+------------------+------------------+------------------------------------------+\n",
      "|[2023-11-05 11:20:00, 2023-11-05 11:25:00]|ALXN|164.66            |180.2             |[2023-11-05 11:15:00, 2023-11-05 11:20:00]|\n",
      "|[2023-11-05 11:10:00, 2023-11-05 11:15:00]|GIS |49.35666666666666 |50.5207           |[2023-11-05 11:05:00, 2023-11-05 11:10:00]|\n",
      "|[2023-11-05 11:15:00, 2023-11-05 11:20:00]|GIS |48.6              |49.35666666666666 |[2023-11-05 11:10:00, 2023-11-05 11:15:00]|\n",
      "|[2023-11-05 11:20:00, 2023-11-05 11:25:00]|K   |66.23             |67.63             |[2023-11-05 11:15:00, 2023-11-05 11:20:00]|\n",
      "|[2023-11-05 11:25:00, 2023-11-05 11:30:00]|K   |62.1798           |66.23             |[2023-11-05 11:20:00, 2023-11-05 11:25:00]|\n",
      "|[2023-11-05 11:20:00, 2023-11-05 11:25:00]|LEN |35.5196           |38.958349999999996|[2023-11-05 11:15:00, 2023-11-05 11:20:00]|\n",
      "|[2023-11-05 11:10:00, 2023-11-05 11:15:00]|AIV |28.738            |30.63             |[2023-11-05 11:05:00, 2023-11-05 11:10:00]|\n",
      "|[2023-11-05 11:10:00, 2023-11-05 11:15:00]|AVY |42.56             |43.17             |[2023-11-05 11:05:00, 2023-11-05 11:10:00]|\n",
      "|[2023-11-05 11:25:00, 2023-11-05 11:30:00]|RF  |9.89              |10.489999999999998|[2023-11-05 11:15:00, 2023-11-05 11:20:00]|\n",
      "|[2023-11-05 11:15:00, 2023-11-05 11:20:00]|IRM |27.715            |28.79             |[2023-11-05 11:10:00, 2023-11-05 11:15:00]|\n",
      "|[2023-11-05 11:25:00, 2023-11-05 11:30:00]|OXY |82.02             |102.32            |[2023-11-05 11:20:00, 2023-11-05 11:25:00]|\n",
      "|[2023-11-05 11:30:00, 2023-11-05 11:35:00]|OXY |78.61             |82.02             |[2023-11-05 11:25:00, 2023-11-05 11:30:00]|\n",
      "|[2023-11-05 11:15:00, 2023-11-05 11:20:00]|ULTA|86.22             |99.21             |[2023-11-05 11:10:00, 2023-11-05 11:15:00]|\n",
      "|[2023-11-05 11:20:00, 2023-11-05 11:25:00]|FLIR|30.3              |36.79             |[2023-11-05 11:15:00, 2023-11-05 11:20:00]|\n",
      "|[2023-11-05 11:15:00, 2023-11-05 11:20:00]|MAT |38.333333333333336|45.345            |[2023-11-05 11:05:00, 2023-11-05 11:10:00]|\n",
      "|[2023-11-05 11:20:00, 2023-11-05 11:25:00]|MAT |34.3              |38.333333333333336|[2023-11-05 11:15:00, 2023-11-05 11:20:00]|\n",
      "|[2023-11-05 11:25:00, 2023-11-05 11:30:00]|MAT |26.953333333333333|34.3              |[2023-11-05 11:20:00, 2023-11-05 11:25:00]|\n",
      "|[2023-11-05 11:20:00, 2023-11-05 11:25:00]|EMN |82.48             |85.7              |[2023-11-05 11:15:00, 2023-11-05 11:20:00]|\n",
      "|[2023-11-05 11:25:00, 2023-11-05 11:30:00]|EMN |76.54             |82.48             |[2023-11-05 11:20:00, 2023-11-05 11:25:00]|\n",
      "|[2023-11-05 11:20:00, 2023-11-05 11:25:00]|KIM |22.04             |22.4725           |[2023-11-05 11:15:00, 2023-11-05 11:20:00]|\n",
      "+------------------------------------------+----+------------------+------------------+------------------------------------------+\n",
      "only showing top 20 rows\n",
      "\n"
     ]
    },
    {
     "name": "stderr",
     "output_type": "stream",
     "text": [
      "                                                                                \r"
     ]
    },
    {
     "name": "stdout",
     "output_type": "stream",
     "text": [
      "-------------------------------------------\n",
      "Batch: 46\n",
      "-------------------------------------------\n",
      "+------+-----------+----------+-------------+--------------+------------------+\n",
      "|window|first_price|last_price|lastTimeStamp|firstTimeStamp|percent_value_lost|\n",
      "+------+-----------+----------+-------------+--------------+------------------+\n",
      "+------+-----------+----------+-------------+--------------+------------------+\n",
      "\n"
     ]
    },
    {
     "name": "stderr",
     "output_type": "stream",
     "text": [
      "                                                                                \r"
     ]
    },
    {
     "name": "stdout",
     "output_type": "stream",
     "text": [
      "-------------------------------------------\n",
      "Batch: 47\n",
      "-------------------------------------------\n",
      "+------+-----------+----------+-------------+--------------+------------------+\n",
      "|window|first_price|last_price|lastTimeStamp|firstTimeStamp|percent_value_lost|\n",
      "+------+-----------+----------+-------------+--------------+------------------+\n",
      "+------+-----------+----------+-------------+--------------+------------------+\n",
      "\n"
     ]
    },
    {
     "name": "stderr",
     "output_type": "stream",
     "text": [
      "                                                                                \r"
     ]
    },
    {
     "name": "stdout",
     "output_type": "stream",
     "text": [
      "+------------------------------------------+----+------------------+------------------+------------------------------------------+\n",
      "|window                                    |name|avg(price)        |previous_price    |previous_window                           |\n",
      "+------------------------------------------+----+------------------+------------------+------------------------------------------+\n",
      "|[2023-11-05 11:15:00, 2023-11-05 11:20:00]|ALXN|180.2             |108.02            |[2023-11-05 11:10:00, 2023-11-05 11:15:00]|\n",
      "|[2023-11-05 11:15:00, 2023-11-05 11:20:00]|K   |67.63             |65.865            |[2023-11-05 11:10:00, 2023-11-05 11:15:00]|\n",
      "|[2023-11-05 11:15:00, 2023-11-05 11:20:00]|LEN |38.958349999999996|33.89705          |[2023-11-05 11:10:00, 2023-11-05 11:15:00]|\n",
      "|[2023-11-05 11:15:00, 2023-11-05 11:20:00]|SPGI|77.12             |60.16             |[2023-11-05 11:10:00, 2023-11-05 11:15:00]|\n",
      "|[2023-11-05 11:20:00, 2023-11-05 11:25:00]|SPGI|86.69             |77.12             |[2023-11-05 11:15:00, 2023-11-05 11:20:00]|\n",
      "|[2023-11-05 11:15:00, 2023-11-05 11:20:00]|AIV |29.98             |28.738            |[2023-11-05 11:10:00, 2023-11-05 11:15:00]|\n",
      "|[2023-11-05 11:15:00, 2023-11-05 11:20:00]|BF.B|41.9325           |35.775            |[2023-11-05 11:10:00, 2023-11-05 11:15:00]|\n",
      "|[2023-11-05 11:10:00, 2023-11-05 11:15:00]|MMM |117.14            |105.88            |[2023-11-05 11:05:00, 2023-11-05 11:10:00]|\n",
      "|[2023-11-05 11:15:00, 2023-11-05 11:20:00]|MMM |130.59            |117.14            |[2023-11-05 11:10:00, 2023-11-05 11:15:00]|\n",
      "|[2023-11-05 11:20:00, 2023-11-05 11:25:00]|PKI |45.22             |42.77             |[2023-11-05 11:15:00, 2023-11-05 11:20:00]|\n",
      "|[2023-11-05 11:15:00, 2023-11-05 11:20:00]|PPG |96.9215           |69.885            |[2023-11-05 11:05:00, 2023-11-05 11:10:00]|\n",
      "|[2023-11-05 11:10:00, 2023-11-05 11:15:00]|WEC |41.245000000000005|39.9              |[2023-11-05 11:05:00, 2023-11-05 11:10:00]|\n",
      "|[2023-11-05 11:15:00, 2023-11-05 11:20:00]|WEC |47.975            |41.245000000000005|[2023-11-05 11:10:00, 2023-11-05 11:15:00]|\n",
      "|[2023-11-05 11:15:00, 2023-11-05 11:20:00]|SNA |116.18            |83.74000000000001 |[2023-11-05 11:05:00, 2023-11-05 11:10:00]|\n",
      "|[2023-11-05 11:20:00, 2023-11-05 11:25:00]|SNA |124.02000000000001|116.18            |[2023-11-05 11:15:00, 2023-11-05 11:20:00]|\n",
      "|[2023-11-05 11:15:00, 2023-11-05 11:20:00]|BLK |303.94485         |258.94            |[2023-11-05 11:10:00, 2023-11-05 11:15:00]|\n",
      "|[2023-11-05 11:10:00, 2023-11-05 11:15:00]|EA  |22.57             |18.82             |[2023-11-05 11:05:00, 2023-11-05 11:10:00]|\n",
      "|[2023-11-05 11:15:00, 2023-11-05 11:20:00]|EA  |27.615            |22.57             |[2023-11-05 11:10:00, 2023-11-05 11:15:00]|\n",
      "|[2023-11-05 11:20:00, 2023-11-05 11:25:00]|EA  |37.59             |27.615            |[2023-11-05 11:15:00, 2023-11-05 11:20:00]|\n",
      "|[2023-11-05 11:20:00, 2023-11-05 11:25:00]|ESRX|69.64             |66.35666666666667 |[2023-11-05 11:10:00, 2023-11-05 11:15:00]|\n",
      "+------------------------------------------+----+------------------+------------------+------------------------------------------+\n",
      "only showing top 20 rows\n",
      "\n"
     ]
    },
    {
     "name": "stderr",
     "output_type": "stream",
     "text": [
      "                                                                                \r"
     ]
    },
    {
     "name": "stdout",
     "output_type": "stream",
     "text": [
      "-------------------------------------------\n",
      "Batch: 48\n",
      "-------------------------------------------\n",
      "+------+-----------+----------+-------------+--------------+------------------+\n",
      "|window|first_price|last_price|lastTimeStamp|firstTimeStamp|percent_value_lost|\n",
      "+------+-----------+----------+-------------+--------------+------------------+\n",
      "+------+-----------+----------+-------------+--------------+------------------+\n",
      "\n"
     ]
    },
    {
     "name": "stderr",
     "output_type": "stream",
     "text": [
      "                                                                                \r"
     ]
    },
    {
     "name": "stdout",
     "output_type": "stream",
     "text": [
      "+------------------------------------------+----+------------------+------------------+------------------------------------------+\n",
      "|window                                    |name|avg(price)        |previous_price    |previous_window                           |\n",
      "+------------------------------------------+----+------------------+------------------+------------------------------------------+\n",
      "|[2023-11-05 11:20:00, 2023-11-05 11:25:00]|ALXN|164.66            |180.2             |[2023-11-05 11:15:00, 2023-11-05 11:20:00]|\n",
      "|[2023-11-05 11:10:00, 2023-11-05 11:15:00]|GIS |49.35666666666666 |50.5207           |[2023-11-05 11:05:00, 2023-11-05 11:10:00]|\n",
      "|[2023-11-05 11:15:00, 2023-11-05 11:20:00]|GIS |48.6              |49.35666666666666 |[2023-11-05 11:10:00, 2023-11-05 11:15:00]|\n",
      "|[2023-11-05 11:20:00, 2023-11-05 11:25:00]|K   |66.23             |67.63             |[2023-11-05 11:15:00, 2023-11-05 11:20:00]|\n",
      "|[2023-11-05 11:25:00, 2023-11-05 11:30:00]|K   |62.1798           |66.23             |[2023-11-05 11:20:00, 2023-11-05 11:25:00]|\n",
      "|[2023-11-05 11:20:00, 2023-11-05 11:25:00]|LEN |35.5196           |38.958349999999996|[2023-11-05 11:15:00, 2023-11-05 11:20:00]|\n",
      "|[2023-11-05 11:10:00, 2023-11-05 11:15:00]|AIV |28.738            |30.63             |[2023-11-05 11:05:00, 2023-11-05 11:10:00]|\n",
      "|[2023-11-05 11:10:00, 2023-11-05 11:15:00]|AVY |42.56             |43.17             |[2023-11-05 11:05:00, 2023-11-05 11:10:00]|\n",
      "|[2023-11-05 11:25:00, 2023-11-05 11:30:00]|RF  |9.89              |10.489999999999998|[2023-11-05 11:15:00, 2023-11-05 11:20:00]|\n",
      "|[2023-11-05 11:15:00, 2023-11-05 11:20:00]|IRM |27.715            |28.79             |[2023-11-05 11:10:00, 2023-11-05 11:15:00]|\n",
      "|[2023-11-05 11:25:00, 2023-11-05 11:30:00]|OXY |82.02             |102.32            |[2023-11-05 11:20:00, 2023-11-05 11:25:00]|\n",
      "|[2023-11-05 11:30:00, 2023-11-05 11:35:00]|OXY |78.61             |82.02             |[2023-11-05 11:25:00, 2023-11-05 11:30:00]|\n",
      "|[2023-11-05 11:15:00, 2023-11-05 11:20:00]|ULTA|86.22             |99.21             |[2023-11-05 11:10:00, 2023-11-05 11:15:00]|\n",
      "|[2023-11-05 11:20:00, 2023-11-05 11:25:00]|FLIR|30.3              |36.79             |[2023-11-05 11:15:00, 2023-11-05 11:20:00]|\n",
      "|[2023-11-05 11:15:00, 2023-11-05 11:20:00]|MAT |38.333333333333336|45.345            |[2023-11-05 11:05:00, 2023-11-05 11:10:00]|\n",
      "|[2023-11-05 11:20:00, 2023-11-05 11:25:00]|MAT |34.3              |38.333333333333336|[2023-11-05 11:15:00, 2023-11-05 11:20:00]|\n",
      "|[2023-11-05 11:25:00, 2023-11-05 11:30:00]|MAT |26.953333333333333|34.3              |[2023-11-05 11:20:00, 2023-11-05 11:25:00]|\n",
      "|[2023-11-05 11:20:00, 2023-11-05 11:25:00]|EMN |82.48             |85.7              |[2023-11-05 11:15:00, 2023-11-05 11:20:00]|\n",
      "|[2023-11-05 11:25:00, 2023-11-05 11:30:00]|EMN |76.54             |82.48             |[2023-11-05 11:20:00, 2023-11-05 11:25:00]|\n",
      "|[2023-11-05 11:20:00, 2023-11-05 11:25:00]|KIM |22.04             |22.4725           |[2023-11-05 11:15:00, 2023-11-05 11:20:00]|\n",
      "+------------------------------------------+----+------------------+------------------+------------------------------------------+\n",
      "only showing top 20 rows\n",
      "\n"
     ]
    },
    {
     "name": "stderr",
     "output_type": "stream",
     "text": [
      "                                                                                \r"
     ]
    },
    {
     "name": "stdout",
     "output_type": "stream",
     "text": [
      "-------------------------------------------\n",
      "Batch: 49\n",
      "-------------------------------------------\n",
      "+------+-----------+----------+-------------+--------------+------------------+\n",
      "|window|first_price|last_price|lastTimeStamp|firstTimeStamp|percent_value_lost|\n",
      "+------+-----------+----------+-------------+--------------+------------------+\n",
      "+------+-----------+----------+-------------+--------------+------------------+\n",
      "\n"
     ]
    },
    {
     "name": "stderr",
     "output_type": "stream",
     "text": [
      "                                                                                \r"
     ]
    },
    {
     "name": "stdout",
     "output_type": "stream",
     "text": [
      "-------------------------------------------\n",
      "Batch: 50\n",
      "-------------------------------------------\n",
      "+------+-----------+----------+-------------+--------------+------------------+\n",
      "|window|first_price|last_price|lastTimeStamp|firstTimeStamp|percent_value_lost|\n",
      "+------+-----------+----------+-------------+--------------+------------------+\n",
      "+------+-----------+----------+-------------+--------------+------------------+\n",
      "\n"
     ]
    },
    {
     "name": "stderr",
     "output_type": "stream",
     "text": [
      "                                                                                \r"
     ]
    },
    {
     "name": "stdout",
     "output_type": "stream",
     "text": [
      "+------------------------------------------+----+------------------+------------------+------------------------------------------+\n",
      "|window                                    |name|avg(price)        |previous_price    |previous_window                           |\n",
      "+------------------------------------------+----+------------------+------------------+------------------------------------------+\n",
      "|[2023-11-05 11:15:00, 2023-11-05 11:20:00]|ALXN|180.2             |108.02            |[2023-11-05 11:10:00, 2023-11-05 11:15:00]|\n",
      "|[2023-11-05 11:20:00, 2023-11-05 11:25:00]|GIS |50.92             |48.6              |[2023-11-05 11:15:00, 2023-11-05 11:20:00]|\n",
      "|[2023-11-05 11:15:00, 2023-11-05 11:20:00]|K   |67.63             |65.865            |[2023-11-05 11:10:00, 2023-11-05 11:15:00]|\n",
      "|[2023-11-05 11:15:00, 2023-11-05 11:20:00]|LEN |38.958349999999996|33.89705          |[2023-11-05 11:10:00, 2023-11-05 11:15:00]|\n",
      "|[2023-11-05 11:15:00, 2023-11-05 11:20:00]|SPGI|77.12             |60.16             |[2023-11-05 11:10:00, 2023-11-05 11:15:00]|\n",
      "|[2023-11-05 11:20:00, 2023-11-05 11:25:00]|SPGI|86.69             |77.12             |[2023-11-05 11:15:00, 2023-11-05 11:20:00]|\n",
      "|[2023-11-05 11:15:00, 2023-11-05 11:20:00]|AIV |29.98             |28.738            |[2023-11-05 11:10:00, 2023-11-05 11:15:00]|\n",
      "|[2023-11-05 11:15:00, 2023-11-05 11:20:00]|BF.B|41.9325           |35.775            |[2023-11-05 11:10:00, 2023-11-05 11:15:00]|\n",
      "|[2023-11-05 11:10:00, 2023-11-05 11:15:00]|MMM |117.14            |105.88            |[2023-11-05 11:05:00, 2023-11-05 11:10:00]|\n",
      "|[2023-11-05 11:15:00, 2023-11-05 11:20:00]|MMM |130.59            |117.14            |[2023-11-05 11:10:00, 2023-11-05 11:15:00]|\n",
      "|[2023-11-05 11:20:00, 2023-11-05 11:25:00]|PKI |44.72             |42.77             |[2023-11-05 11:15:00, 2023-11-05 11:20:00]|\n",
      "|[2023-11-05 11:15:00, 2023-11-05 11:20:00]|PPG |96.9215           |69.885            |[2023-11-05 11:05:00, 2023-11-05 11:10:00]|\n",
      "|[2023-11-05 11:10:00, 2023-11-05 11:15:00]|WEC |41.245000000000005|39.9              |[2023-11-05 11:05:00, 2023-11-05 11:10:00]|\n",
      "|[2023-11-05 11:15:00, 2023-11-05 11:20:00]|WEC |47.975            |41.245000000000005|[2023-11-05 11:10:00, 2023-11-05 11:15:00]|\n",
      "|[2023-11-05 11:15:00, 2023-11-05 11:20:00]|SNA |116.18            |83.74000000000001 |[2023-11-05 11:05:00, 2023-11-05 11:10:00]|\n",
      "|[2023-11-05 11:20:00, 2023-11-05 11:25:00]|SNA |124.02000000000001|116.18            |[2023-11-05 11:15:00, 2023-11-05 11:20:00]|\n",
      "|[2023-11-05 11:15:00, 2023-11-05 11:20:00]|BLK |303.94485         |258.94            |[2023-11-05 11:10:00, 2023-11-05 11:15:00]|\n",
      "|[2023-11-05 11:10:00, 2023-11-05 11:15:00]|EA  |22.57             |18.82             |[2023-11-05 11:05:00, 2023-11-05 11:10:00]|\n",
      "|[2023-11-05 11:15:00, 2023-11-05 11:20:00]|EA  |27.615            |22.57             |[2023-11-05 11:10:00, 2023-11-05 11:15:00]|\n",
      "|[2023-11-05 11:20:00, 2023-11-05 11:25:00]|EA  |37.59             |27.615            |[2023-11-05 11:15:00, 2023-11-05 11:20:00]|\n",
      "+------------------------------------------+----+------------------+------------------+------------------------------------------+\n",
      "only showing top 20 rows\n",
      "\n"
     ]
    },
    {
     "name": "stderr",
     "output_type": "stream",
     "text": [
      "                                                                                \r"
     ]
    },
    {
     "name": "stdout",
     "output_type": "stream",
     "text": [
      "-------------------------------------------\n",
      "Batch: 51\n",
      "-------------------------------------------\n",
      "+------------------------------------------+----+------------------+------------------+------------------------------------------+\n",
      "|window                                    |name|avg(price)        |previous_price    |previous_window                           |\n",
      "+------------------------------------------+----+------------------+------------------+------------------------------------------+\n",
      "|[2023-11-05 11:20:00, 2023-11-05 11:25:00]|ALXN|164.66            |180.2             |[2023-11-05 11:15:00, 2023-11-05 11:20:00]|\n",
      "|[2023-11-05 11:10:00, 2023-11-05 11:15:00]|GIS |49.35666666666666 |50.5207           |[2023-11-05 11:05:00, 2023-11-05 11:10:00]|\n",
      "|[2023-11-05 11:15:00, 2023-11-05 11:20:00]|GIS |48.6              |49.35666666666666 |[2023-11-05 11:10:00, 2023-11-05 11:15:00]|\n",
      "|[2023-11-05 11:20:00, 2023-11-05 11:25:00]|K   |66.23             |67.63             |[2023-11-05 11:15:00, 2023-11-05 11:20:00]|\n",
      "|[2023-11-05 11:25:00, 2023-11-05 11:30:00]|K   |62.1798           |66.23             |[2023-11-05 11:20:00, 2023-11-05 11:25:00]|\n",
      "|[2023-11-05 11:20:00, 2023-11-05 11:25:00]|LEN |35.5196           |38.958349999999996|[2023-11-05 11:15:00, 2023-11-05 11:20:00]|\n",
      "|[2023-11-05 11:10:00, 2023-11-05 11:15:00]|AIV |28.738            |30.63             |[2023-11-05 11:05:00, 2023-11-05 11:10:00]|\n",
      "|[2023-11-05 11:10:00, 2023-11-05 11:15:00]|AVY |42.56             |43.17             |[2023-11-05 11:05:00, 2023-11-05 11:10:00]|\n",
      "|[2023-11-05 11:25:00, 2023-11-05 11:30:00]|RF  |9.89              |10.489999999999998|[2023-11-05 11:15:00, 2023-11-05 11:20:00]|\n",
      "|[2023-11-05 11:15:00, 2023-11-05 11:20:00]|IRM |27.715            |28.79             |[2023-11-05 11:10:00, 2023-11-05 11:15:00]|\n",
      "|[2023-11-05 11:30:00, 2023-11-05 11:35:00]|BLK |345.94            |378.03            |[2023-11-05 11:25:00, 2023-11-05 11:30:00]|\n",
      "|[2023-11-05 11:25:00, 2023-11-05 11:30:00]|OXY |82.02             |102.32            |[2023-11-05 11:20:00, 2023-11-05 11:25:00]|\n",
      "|[2023-11-05 11:30:00, 2023-11-05 11:35:00]|OXY |78.61             |82.02             |[2023-11-05 11:25:00, 2023-11-05 11:30:00]|\n",
      "|[2023-11-05 11:15:00, 2023-11-05 11:20:00]|ULTA|86.22             |99.21             |[2023-11-05 11:10:00, 2023-11-05 11:15:00]|\n",
      "|[2023-11-05 11:20:00, 2023-11-05 11:25:00]|FLIR|30.3              |36.79             |[2023-11-05 11:15:00, 2023-11-05 11:20:00]|\n",
      "|[2023-11-05 11:15:00, 2023-11-05 11:20:00]|MAT |38.333333333333336|45.345            |[2023-11-05 11:05:00, 2023-11-05 11:10:00]|\n",
      "|[2023-11-05 11:20:00, 2023-11-05 11:25:00]|MAT |34.3              |38.333333333333336|[2023-11-05 11:15:00, 2023-11-05 11:20:00]|\n",
      "|[2023-11-05 11:25:00, 2023-11-05 11:30:00]|MAT |26.953333333333333|34.3              |[2023-11-05 11:20:00, 2023-11-05 11:25:00]|\n",
      "|[2023-11-05 11:30:00, 2023-11-05 11:35:00]|MAT |22.92             |26.953333333333333|[2023-11-05 11:25:00, 2023-11-05 11:30:00]|\n",
      "|[2023-11-05 11:20:00, 2023-11-05 11:25:00]|EMN |82.48             |85.7              |[2023-11-05 11:15:00, 2023-11-05 11:20:00]|\n",
      "+------------------------------------------+----+------------------+------------------+------------------------------------------+\n",
      "only showing top 20 rows\n",
      "\n",
      "+------+-----------+----------+-------------+--------------+------------------+\n",
      "|window|first_price|last_price|lastTimeStamp|firstTimeStamp|percent_value_lost|\n",
      "+------+-----------+----------+-------------+--------------+------------------+\n",
      "+------+-----------+----------+-------------+--------------+------------------+\n",
      "\n"
     ]
    },
    {
     "name": "stderr",
     "output_type": "stream",
     "text": [
      "                                                                                \r"
     ]
    },
    {
     "name": "stdout",
     "output_type": "stream",
     "text": [
      "-------------------------------------------\n",
      "Batch: 52\n",
      "-------------------------------------------\n",
      "+------+-----------+----------+-------------+--------------+------------------+\n",
      "|window|first_price|last_price|lastTimeStamp|firstTimeStamp|percent_value_lost|\n",
      "+------+-----------+----------+-------------+--------------+------------------+\n",
      "+------+-----------+----------+-------------+--------------+------------------+\n",
      "\n"
     ]
    },
    {
     "name": "stderr",
     "output_type": "stream",
     "text": [
      "                                                                                \r"
     ]
    },
    {
     "name": "stdout",
     "output_type": "stream",
     "text": [
      "-------------------------------------------\n",
      "Batch: 53\n",
      "-------------------------------------------\n",
      "+------+-----------+----------+-------------+--------------+------------------+\n",
      "|window|first_price|last_price|lastTimeStamp|firstTimeStamp|percent_value_lost|\n",
      "+------+-----------+----------+-------------+--------------+------------------+\n",
      "+------+-----------+----------+-------------+--------------+------------------+\n",
      "\n"
     ]
    },
    {
     "name": "stderr",
     "output_type": "stream",
     "text": [
      "                                                                                \r"
     ]
    },
    {
     "name": "stdout",
     "output_type": "stream",
     "text": [
      "+------------------------------------------+----+------------------+------------------+------------------------------------------+\n",
      "|window                                    |name|avg(price)        |previous_price    |previous_window                           |\n",
      "+------------------------------------------+----+------------------+------------------+------------------------------------------+\n",
      "|[2023-11-05 11:15:00, 2023-11-05 11:20:00]|ALXN|180.2             |108.02            |[2023-11-05 11:10:00, 2023-11-05 11:15:00]|\n",
      "|[2023-11-05 11:20:00, 2023-11-05 11:25:00]|GIS |50.92             |48.6              |[2023-11-05 11:15:00, 2023-11-05 11:20:00]|\n",
      "|[2023-11-05 11:15:00, 2023-11-05 11:20:00]|K   |67.63             |65.865            |[2023-11-05 11:10:00, 2023-11-05 11:15:00]|\n",
      "|[2023-11-05 11:15:00, 2023-11-05 11:20:00]|LEN |38.958349999999996|33.89705          |[2023-11-05 11:10:00, 2023-11-05 11:15:00]|\n",
      "|[2023-11-05 11:15:00, 2023-11-05 11:20:00]|SPGI|77.12             |60.16             |[2023-11-05 11:10:00, 2023-11-05 11:15:00]|\n",
      "|[2023-11-05 11:20:00, 2023-11-05 11:25:00]|SPGI|86.69             |77.12             |[2023-11-05 11:15:00, 2023-11-05 11:20:00]|\n",
      "|[2023-11-05 11:15:00, 2023-11-05 11:20:00]|AIV |29.98             |28.738            |[2023-11-05 11:10:00, 2023-11-05 11:15:00]|\n",
      "|[2023-11-05 11:15:00, 2023-11-05 11:20:00]|BF.B|41.9325           |35.775            |[2023-11-05 11:10:00, 2023-11-05 11:15:00]|\n",
      "|[2023-11-05 11:10:00, 2023-11-05 11:15:00]|MMM |117.14            |105.88            |[2023-11-05 11:05:00, 2023-11-05 11:10:00]|\n",
      "|[2023-11-05 11:15:00, 2023-11-05 11:20:00]|MMM |130.59            |117.14            |[2023-11-05 11:10:00, 2023-11-05 11:15:00]|\n",
      "|[2023-11-05 11:20:00, 2023-11-05 11:25:00]|PKI |44.43666666666667 |42.77             |[2023-11-05 11:15:00, 2023-11-05 11:20:00]|\n",
      "|[2023-11-05 11:15:00, 2023-11-05 11:20:00]|PPG |96.9215           |69.885            |[2023-11-05 11:05:00, 2023-11-05 11:10:00]|\n",
      "|[2023-11-05 11:20:00, 2023-11-05 11:25:00]|PPG |109.47749999999999|96.9215           |[2023-11-05 11:15:00, 2023-11-05 11:20:00]|\n",
      "|[2023-11-05 11:10:00, 2023-11-05 11:15:00]|WEC |41.245000000000005|39.9              |[2023-11-05 11:05:00, 2023-11-05 11:10:00]|\n",
      "|[2023-11-05 11:15:00, 2023-11-05 11:20:00]|WEC |47.975            |41.245000000000005|[2023-11-05 11:10:00, 2023-11-05 11:15:00]|\n",
      "|[2023-11-05 11:15:00, 2023-11-05 11:20:00]|SNA |116.18            |83.74000000000001 |[2023-11-05 11:05:00, 2023-11-05 11:10:00]|\n",
      "|[2023-11-05 11:20:00, 2023-11-05 11:25:00]|SNA |128.15166666666667|116.18            |[2023-11-05 11:15:00, 2023-11-05 11:20:00]|\n",
      "|[2023-11-05 11:15:00, 2023-11-05 11:20:00]|BLK |303.94485         |258.94            |[2023-11-05 11:10:00, 2023-11-05 11:15:00]|\n",
      "|[2023-11-05 11:20:00, 2023-11-05 11:25:00]|BLK |347.725           |303.94485         |[2023-11-05 11:15:00, 2023-11-05 11:20:00]|\n",
      "|[2023-11-05 11:10:00, 2023-11-05 11:15:00]|EA  |22.57             |18.82             |[2023-11-05 11:05:00, 2023-11-05 11:10:00]|\n",
      "+------------------------------------------+----+------------------+------------------+------------------------------------------+\n",
      "only showing top 20 rows\n",
      "\n"
     ]
    },
    {
     "name": "stderr",
     "output_type": "stream",
     "text": [
      "                                                                                \r"
     ]
    },
    {
     "name": "stdout",
     "output_type": "stream",
     "text": [
      "-------------------------------------------\n",
      "Batch: 54\n",
      "-------------------------------------------\n",
      "+------+-----------+----------+-------------+--------------+------------------+\n",
      "|window|first_price|last_price|lastTimeStamp|firstTimeStamp|percent_value_lost|\n",
      "+------+-----------+----------+-------------+--------------+------------------+\n",
      "+------+-----------+----------+-------------+--------------+------------------+\n",
      "\n"
     ]
    },
    {
     "name": "stderr",
     "output_type": "stream",
     "text": [
      "                                                                                \r"
     ]
    },
    {
     "name": "stdout",
     "output_type": "stream",
     "text": [
      "+------------------------------------------+----+------------------+------------------+------------------------------------------+\n",
      "|window                                    |name|avg(price)        |previous_price    |previous_window                           |\n",
      "+------------------------------------------+----+------------------+------------------+------------------------------------------+\n",
      "|[2023-11-05 11:20:00, 2023-11-05 11:25:00]|ALXN|164.66            |180.2             |[2023-11-05 11:15:00, 2023-11-05 11:20:00]|\n",
      "|[2023-11-05 11:10:00, 2023-11-05 11:15:00]|GIS |49.35666666666666 |50.5207           |[2023-11-05 11:05:00, 2023-11-05 11:10:00]|\n",
      "|[2023-11-05 11:15:00, 2023-11-05 11:20:00]|GIS |48.6              |49.35666666666666 |[2023-11-05 11:10:00, 2023-11-05 11:15:00]|\n",
      "|[2023-11-05 11:20:00, 2023-11-05 11:25:00]|K   |66.23             |67.63             |[2023-11-05 11:15:00, 2023-11-05 11:20:00]|\n",
      "|[2023-11-05 11:25:00, 2023-11-05 11:30:00]|K   |62.1798           |66.23             |[2023-11-05 11:20:00, 2023-11-05 11:25:00]|\n",
      "|[2023-11-05 11:20:00, 2023-11-05 11:25:00]|LEN |35.5196           |38.958349999999996|[2023-11-05 11:15:00, 2023-11-05 11:20:00]|\n",
      "|[2023-11-05 11:10:00, 2023-11-05 11:15:00]|AIV |28.738            |30.63             |[2023-11-05 11:05:00, 2023-11-05 11:10:00]|\n",
      "|[2023-11-05 11:10:00, 2023-11-05 11:15:00]|AVY |42.56             |43.17             |[2023-11-05 11:05:00, 2023-11-05 11:10:00]|\n",
      "|[2023-11-05 11:30:00, 2023-11-05 11:35:00]|PPG |104.09            |113.25999999999999|[2023-11-05 11:25:00, 2023-11-05 11:30:00]|\n",
      "|[2023-11-05 11:25:00, 2023-11-05 11:30:00]|RF  |9.89              |10.489999999999998|[2023-11-05 11:15:00, 2023-11-05 11:20:00]|\n",
      "|[2023-11-05 11:15:00, 2023-11-05 11:20:00]|IRM |27.715            |28.79             |[2023-11-05 11:10:00, 2023-11-05 11:15:00]|\n",
      "|[2023-11-05 11:30:00, 2023-11-05 11:35:00]|IRM |30.62             |37.01             |[2023-11-05 11:25:00, 2023-11-05 11:30:00]|\n",
      "|[2023-11-05 11:30:00, 2023-11-05 11:35:00]|WEC |49.695            |50.11             |[2023-11-05 11:25:00, 2023-11-05 11:30:00]|\n",
      "|[2023-11-05 11:30:00, 2023-11-05 11:35:00]|BLK |345.94            |378.03            |[2023-11-05 11:25:00, 2023-11-05 11:30:00]|\n",
      "|[2023-11-05 11:25:00, 2023-11-05 11:30:00]|OXY |82.02             |102.32            |[2023-11-05 11:20:00, 2023-11-05 11:25:00]|\n",
      "|[2023-11-05 11:30:00, 2023-11-05 11:35:00]|OXY |78.61             |82.02             |[2023-11-05 11:25:00, 2023-11-05 11:30:00]|\n",
      "|[2023-11-05 11:15:00, 2023-11-05 11:20:00]|ULTA|86.22             |99.21             |[2023-11-05 11:10:00, 2023-11-05 11:15:00]|\n",
      "|[2023-11-05 11:20:00, 2023-11-05 11:25:00]|FLIR|30.3              |36.79             |[2023-11-05 11:15:00, 2023-11-05 11:20:00]|\n",
      "|[2023-11-05 11:15:00, 2023-11-05 11:20:00]|MAT |38.333333333333336|45.345            |[2023-11-05 11:05:00, 2023-11-05 11:10:00]|\n",
      "|[2023-11-05 11:20:00, 2023-11-05 11:25:00]|MAT |34.3              |38.333333333333336|[2023-11-05 11:15:00, 2023-11-05 11:20:00]|\n",
      "+------------------------------------------+----+------------------+------------------+------------------------------------------+\n",
      "only showing top 20 rows\n",
      "\n"
     ]
    },
    {
     "name": "stderr",
     "output_type": "stream",
     "text": [
      "                                                                                \r"
     ]
    },
    {
     "name": "stdout",
     "output_type": "stream",
     "text": [
      "-------------------------------------------\n",
      "Batch: 55\n",
      "-------------------------------------------\n",
      "+------+-----------+----------+-------------+--------------+------------------+\n",
      "|window|first_price|last_price|lastTimeStamp|firstTimeStamp|percent_value_lost|\n",
      "+------+-----------+----------+-------------+--------------+------------------+\n",
      "+------+-----------+----------+-------------+--------------+------------------+\n",
      "\n"
     ]
    },
    {
     "name": "stderr",
     "output_type": "stream",
     "text": [
      "                                                                                \r"
     ]
    },
    {
     "name": "stdout",
     "output_type": "stream",
     "text": [
      "+------------------------------------------+----+------------------+------------------+------------------------------------------+\n",
      "|window                                    |name|avg(price)        |previous_price    |previous_window                           |\n",
      "+------------------------------------------+----+------------------+------------------+------------------------------------------+\n",
      "|[2023-11-05 11:15:00, 2023-11-05 11:20:00]|ALXN|180.2             |108.02            |[2023-11-05 11:10:00, 2023-11-05 11:15:00]|\n",
      "|[2023-11-05 11:20:00, 2023-11-05 11:25:00]|GIS |50.92             |48.6              |[2023-11-05 11:15:00, 2023-11-05 11:20:00]|\n",
      "|[2023-11-05 11:15:00, 2023-11-05 11:20:00]|K   |67.63             |65.865            |[2023-11-05 11:10:00, 2023-11-05 11:15:00]|\n",
      "|[2023-11-05 11:15:00, 2023-11-05 11:20:00]|LEN |38.958349999999996|33.89705          |[2023-11-05 11:10:00, 2023-11-05 11:15:00]|\n",
      "|[2023-11-05 11:15:00, 2023-11-05 11:20:00]|SPGI|77.12             |60.16             |[2023-11-05 11:10:00, 2023-11-05 11:15:00]|\n",
      "|[2023-11-05 11:20:00, 2023-11-05 11:25:00]|SPGI|86.69             |77.12             |[2023-11-05 11:15:00, 2023-11-05 11:20:00]|\n",
      "|[2023-11-05 11:15:00, 2023-11-05 11:20:00]|AIV |29.98             |28.738            |[2023-11-05 11:10:00, 2023-11-05 11:15:00]|\n",
      "|[2023-11-05 11:25:00, 2023-11-05 11:30:00]|AIV |37.57             |29.98             |[2023-11-05 11:15:00, 2023-11-05 11:20:00]|\n",
      "|[2023-11-05 11:15:00, 2023-11-05 11:20:00]|BF.B|41.9325           |35.775            |[2023-11-05 11:10:00, 2023-11-05 11:15:00]|\n",
      "|[2023-11-05 11:10:00, 2023-11-05 11:15:00]|MMM |117.14            |105.88            |[2023-11-05 11:05:00, 2023-11-05 11:10:00]|\n",
      "|[2023-11-05 11:15:00, 2023-11-05 11:20:00]|MMM |130.59            |117.14            |[2023-11-05 11:10:00, 2023-11-05 11:15:00]|\n",
      "|[2023-11-05 11:25:00, 2023-11-05 11:30:00]|MMM |167.81            |130.59            |[2023-11-05 11:15:00, 2023-11-05 11:20:00]|\n",
      "|[2023-11-05 11:20:00, 2023-11-05 11:25:00]|PKI |44.43666666666667 |42.77             |[2023-11-05 11:15:00, 2023-11-05 11:20:00]|\n",
      "|[2023-11-05 11:15:00, 2023-11-05 11:20:00]|PPG |96.9215           |69.885            |[2023-11-05 11:05:00, 2023-11-05 11:10:00]|\n",
      "|[2023-11-05 11:20:00, 2023-11-05 11:25:00]|PPG |109.47749999999999|96.9215           |[2023-11-05 11:15:00, 2023-11-05 11:20:00]|\n",
      "|[2023-11-05 11:25:00, 2023-11-05 11:30:00]|PPG |112.65            |109.47749999999999|[2023-11-05 11:20:00, 2023-11-05 11:25:00]|\n",
      "|[2023-11-05 11:10:00, 2023-11-05 11:15:00]|WEC |41.245000000000005|39.9              |[2023-11-05 11:05:00, 2023-11-05 11:10:00]|\n",
      "|[2023-11-05 11:15:00, 2023-11-05 11:20:00]|WEC |47.975            |41.245000000000005|[2023-11-05 11:10:00, 2023-11-05 11:15:00]|\n",
      "|[2023-11-05 11:25:00, 2023-11-05 11:30:00]|WEC |52.66             |47.975            |[2023-11-05 11:15:00, 2023-11-05 11:20:00]|\n",
      "|[2023-11-05 11:25:00, 2023-11-05 11:30:00]|PFG |53.08             |43.79             |[2023-11-05 11:10:00, 2023-11-05 11:15:00]|\n",
      "+------------------------------------------+----+------------------+------------------+------------------------------------------+\n",
      "only showing top 20 rows\n",
      "\n",
      "-------------------------------------------\n",
      "Batch: 56\n",
      "-------------------------------------------\n",
      "+------+-----------+----------+-------------+--------------+------------------+\n",
      "|window|first_price|last_price|lastTimeStamp|firstTimeStamp|percent_value_lost|\n",
      "+------+-----------+----------+-------------+--------------+------------------+\n",
      "+------+-----------+----------+-------------+--------------+------------------+\n",
      "\n"
     ]
    },
    {
     "name": "stderr",
     "output_type": "stream",
     "text": [
      "                                                                                \r"
     ]
    },
    {
     "name": "stdout",
     "output_type": "stream",
     "text": [
      "-------------------------------------------\n",
      "Batch: 57\n",
      "-------------------------------------------\n",
      "+------+-----------+----------+-------------+--------------+------------------+\n",
      "|window|first_price|last_price|lastTimeStamp|firstTimeStamp|percent_value_lost|\n",
      "+------+-----------+----------+-------------+--------------+------------------+\n",
      "+------+-----------+----------+-------------+--------------+------------------+\n",
      "\n"
     ]
    },
    {
     "name": "stderr",
     "output_type": "stream",
     "text": [
      "                                                                                \r"
     ]
    },
    {
     "name": "stdout",
     "output_type": "stream",
     "text": [
      "+------------------------------------------+----+------------------+------------------+------------------------------------------+\n",
      "|window                                    |name|avg(price)        |previous_price    |previous_window                           |\n",
      "+------------------------------------------+----+------------------+------------------+------------------------------------------+\n",
      "|[2023-11-05 11:20:00, 2023-11-05 11:25:00]|ALXN|164.66            |180.2             |[2023-11-05 11:15:00, 2023-11-05 11:20:00]|\n",
      "|[2023-11-05 11:10:00, 2023-11-05 11:15:00]|GIS |49.35666666666666 |50.5207           |[2023-11-05 11:05:00, 2023-11-05 11:10:00]|\n",
      "|[2023-11-05 11:15:00, 2023-11-05 11:20:00]|GIS |48.6              |49.35666666666666 |[2023-11-05 11:10:00, 2023-11-05 11:15:00]|\n",
      "|[2023-11-05 11:20:00, 2023-11-05 11:25:00]|K   |66.23             |67.63             |[2023-11-05 11:15:00, 2023-11-05 11:20:00]|\n",
      "|[2023-11-05 11:25:00, 2023-11-05 11:30:00]|K   |62.1798           |66.23             |[2023-11-05 11:20:00, 2023-11-05 11:25:00]|\n",
      "|[2023-11-05 11:20:00, 2023-11-05 11:25:00]|LEN |35.5196           |38.958349999999996|[2023-11-05 11:15:00, 2023-11-05 11:20:00]|\n",
      "|[2023-11-05 11:10:00, 2023-11-05 11:15:00]|AIV |28.738            |30.63             |[2023-11-05 11:05:00, 2023-11-05 11:10:00]|\n",
      "|[2023-11-05 11:10:00, 2023-11-05 11:15:00]|AVY |42.56             |43.17             |[2023-11-05 11:05:00, 2023-11-05 11:10:00]|\n",
      "|[2023-11-05 11:30:00, 2023-11-05 11:35:00]|AVY |59.358            |62.78             |[2023-11-05 11:25:00, 2023-11-05 11:30:00]|\n",
      "|[2023-11-05 11:30:00, 2023-11-05 11:35:00]|PPG |104.09            |113.25999999999999|[2023-11-05 11:25:00, 2023-11-05 11:30:00]|\n",
      "|[2023-11-05 11:25:00, 2023-11-05 11:30:00]|RF  |9.89              |10.489999999999998|[2023-11-05 11:15:00, 2023-11-05 11:20:00]|\n",
      "|[2023-11-05 11:15:00, 2023-11-05 11:20:00]|IRM |27.715            |28.79             |[2023-11-05 11:10:00, 2023-11-05 11:15:00]|\n",
      "|[2023-11-05 11:30:00, 2023-11-05 11:35:00]|IRM |30.62             |37.01             |[2023-11-05 11:25:00, 2023-11-05 11:30:00]|\n",
      "|[2023-11-05 11:30:00, 2023-11-05 11:35:00]|WEC |49.695            |50.11             |[2023-11-05 11:25:00, 2023-11-05 11:30:00]|\n",
      "|[2023-11-05 11:30:00, 2023-11-05 11:35:00]|BLK |336.8566666666666 |378.03            |[2023-11-05 11:25:00, 2023-11-05 11:30:00]|\n",
      "|[2023-11-05 11:25:00, 2023-11-05 11:30:00]|OXY |82.02             |102.32            |[2023-11-05 11:20:00, 2023-11-05 11:25:00]|\n",
      "|[2023-11-05 11:30:00, 2023-11-05 11:35:00]|OXY |78.61             |82.02             |[2023-11-05 11:25:00, 2023-11-05 11:30:00]|\n",
      "|[2023-11-05 11:15:00, 2023-11-05 11:20:00]|ULTA|86.22             |99.21             |[2023-11-05 11:10:00, 2023-11-05 11:15:00]|\n",
      "|[2023-11-05 11:30:00, 2023-11-05 11:35:00]|MTD |317.51475000000005|318.03499999999997|[2023-11-05 11:25:00, 2023-11-05 11:30:00]|\n",
      "|[2023-11-05 11:20:00, 2023-11-05 11:25:00]|FLIR|30.3              |36.79             |[2023-11-05 11:15:00, 2023-11-05 11:20:00]|\n",
      "+------------------------------------------+----+------------------+------------------+------------------------------------------+\n",
      "only showing top 20 rows\n",
      "\n"
     ]
    },
    {
     "name": "stderr",
     "output_type": "stream",
     "text": [
      "                                                                                \r"
     ]
    },
    {
     "name": "stdout",
     "output_type": "stream",
     "text": [
      "-------------------------------------------\n",
      "Batch: 58\n",
      "-------------------------------------------\n",
      "+------------------------------------------+----+------------------+------------------+------------------------------------------+\n",
      "|window                                    |name|avg(price)        |previous_price    |previous_window                           |\n",
      "+------------------------------------------+----+------------------+------------------+------------------------------------------+\n",
      "|[2023-11-05 11:15:00, 2023-11-05 11:20:00]|ALXN|180.2             |108.02            |[2023-11-05 11:10:00, 2023-11-05 11:15:00]|\n",
      "|[2023-11-05 11:20:00, 2023-11-05 11:25:00]|GIS |50.92             |48.6              |[2023-11-05 11:15:00, 2023-11-05 11:20:00]|\n",
      "|[2023-11-05 11:15:00, 2023-11-05 11:20:00]|K   |67.63             |65.865            |[2023-11-05 11:10:00, 2023-11-05 11:15:00]|\n",
      "|[2023-11-05 11:15:00, 2023-11-05 11:20:00]|LEN |38.958349999999996|33.89705          |[2023-11-05 11:10:00, 2023-11-05 11:15:00]|\n",
      "|[2023-11-05 11:15:00, 2023-11-05 11:20:00]|SPGI|77.12             |60.16             |[2023-11-05 11:10:00, 2023-11-05 11:15:00]|\n",
      "|[2023-11-05 11:20:00, 2023-11-05 11:25:00]|SPGI|86.69             |77.12             |[2023-11-05 11:15:00, 2023-11-05 11:20:00]|\n",
      "|[2023-11-05 11:25:00, 2023-11-05 11:30:00]|SPGI|90.47             |86.69             |[2023-11-05 11:20:00, 2023-11-05 11:25:00]|\n",
      "|[2023-11-05 11:15:00, 2023-11-05 11:20:00]|AIV |29.98             |28.738            |[2023-11-05 11:10:00, 2023-11-05 11:15:00]|\n",
      "|[2023-11-05 11:25:00, 2023-11-05 11:30:00]|AIV |37.57             |29.98             |[2023-11-05 11:15:00, 2023-11-05 11:20:00]|\n",
      "|[2023-11-05 11:15:00, 2023-11-05 11:20:00]|BF.B|41.9325           |35.775            |[2023-11-05 11:10:00, 2023-11-05 11:15:00]|\n",
      "|[2023-11-05 11:25:00, 2023-11-05 11:30:00]|BF.B|45.9699           |41.9325           |[2023-11-05 11:15:00, 2023-11-05 11:20:00]|\n",
      "|[2023-11-05 11:10:00, 2023-11-05 11:15:00]|MMM |117.14            |105.88            |[2023-11-05 11:05:00, 2023-11-05 11:10:00]|\n",
      "|[2023-11-05 11:15:00, 2023-11-05 11:20:00]|MMM |130.59            |117.14            |[2023-11-05 11:10:00, 2023-11-05 11:15:00]|\n",
      "|[2023-11-05 11:25:00, 2023-11-05 11:30:00]|MMM |167.81            |130.59            |[2023-11-05 11:15:00, 2023-11-05 11:20:00]|\n",
      "|[2023-11-05 11:20:00, 2023-11-05 11:25:00]|PKI |44.43666666666667 |42.77             |[2023-11-05 11:15:00, 2023-11-05 11:20:00]|\n",
      "|[2023-11-05 11:15:00, 2023-11-05 11:20:00]|PPG |96.9215           |69.885            |[2023-11-05 11:05:00, 2023-11-05 11:10:00]|\n",
      "|[2023-11-05 11:20:00, 2023-11-05 11:25:00]|PPG |109.47749999999999|96.9215           |[2023-11-05 11:15:00, 2023-11-05 11:20:00]|\n",
      "|[2023-11-05 11:25:00, 2023-11-05 11:30:00]|PPG |112.65            |109.47749999999999|[2023-11-05 11:20:00, 2023-11-05 11:25:00]|\n",
      "|[2023-11-05 11:10:00, 2023-11-05 11:15:00]|WEC |41.245000000000005|39.9              |[2023-11-05 11:05:00, 2023-11-05 11:10:00]|\n",
      "|[2023-11-05 11:15:00, 2023-11-05 11:20:00]|WEC |47.975            |41.245000000000005|[2023-11-05 11:10:00, 2023-11-05 11:15:00]|\n",
      "+------------------------------------------+----+------------------+------------------+------------------------------------------+\n",
      "only showing top 20 rows\n",
      "\n",
      "+------+-----------+----------+-------------+--------------+------------------+\n",
      "|window|first_price|last_price|lastTimeStamp|firstTimeStamp|percent_value_lost|\n",
      "+------+-----------+----------+-------------+--------------+------------------+\n",
      "+------+-----------+----------+-------------+--------------+------------------+\n",
      "\n"
     ]
    },
    {
     "name": "stderr",
     "output_type": "stream",
     "text": [
      "                                                                                \r"
     ]
    },
    {
     "name": "stdout",
     "output_type": "stream",
     "text": [
      "-------------------------------------------\n",
      "Batch: 59\n",
      "-------------------------------------------\n",
      "+------+-----------+----------+-------------+--------------+------------------+\n",
      "|window|first_price|last_price|lastTimeStamp|firstTimeStamp|percent_value_lost|\n",
      "+------+-----------+----------+-------------+--------------+------------------+\n",
      "+------+-----------+----------+-------------+--------------+------------------+\n",
      "\n"
     ]
    },
    {
     "name": "stderr",
     "output_type": "stream",
     "text": [
      "                                                                                \r"
     ]
    },
    {
     "name": "stdout",
     "output_type": "stream",
     "text": [
      "-------------------------------------------\n",
      "Batch: 60\n",
      "-------------------------------------------\n",
      "+------+-----------+----------+-------------+--------------+------------------+\n",
      "|window|first_price|last_price|lastTimeStamp|firstTimeStamp|percent_value_lost|\n",
      "+------+-----------+----------+-------------+--------------+------------------+\n",
      "+------+-----------+----------+-------------+--------------+------------------+\n",
      "\n"
     ]
    },
    {
     "name": "stderr",
     "output_type": "stream",
     "text": [
      "                                                                                \r"
     ]
    },
    {
     "name": "stdout",
     "output_type": "stream",
     "text": [
      "+------------------------------------------+----+------------------+------------------+------------------------------------------+\n",
      "|window                                    |name|avg(price)        |previous_price    |previous_window                           |\n",
      "+------------------------------------------+----+------------------+------------------+------------------------------------------+\n",
      "|[2023-11-05 11:15:00, 2023-11-05 11:20:00]|ALXN|180.2             |108.02            |[2023-11-05 11:10:00, 2023-11-05 11:15:00]|\n",
      "|[2023-11-05 11:20:00, 2023-11-05 11:25:00]|GIS |50.92             |48.6              |[2023-11-05 11:15:00, 2023-11-05 11:20:00]|\n",
      "|[2023-11-05 11:15:00, 2023-11-05 11:20:00]|K   |67.63             |65.865            |[2023-11-05 11:10:00, 2023-11-05 11:15:00]|\n",
      "|[2023-11-05 11:15:00, 2023-11-05 11:20:00]|LEN |38.958349999999996|33.89705          |[2023-11-05 11:10:00, 2023-11-05 11:15:00]|\n",
      "|[2023-11-05 11:25:00, 2023-11-05 11:30:00]|LEN |49.1569           |35.5196           |[2023-11-05 11:20:00, 2023-11-05 11:25:00]|\n",
      "|[2023-11-05 11:15:00, 2023-11-05 11:20:00]|SPGI|77.12             |60.16             |[2023-11-05 11:10:00, 2023-11-05 11:15:00]|\n",
      "|[2023-11-05 11:20:00, 2023-11-05 11:25:00]|SPGI|86.69             |77.12             |[2023-11-05 11:15:00, 2023-11-05 11:20:00]|\n",
      "|[2023-11-05 11:25:00, 2023-11-05 11:30:00]|SPGI|90.47             |86.69             |[2023-11-05 11:20:00, 2023-11-05 11:25:00]|\n",
      "|[2023-11-05 11:15:00, 2023-11-05 11:20:00]|AIV |29.98             |28.738            |[2023-11-05 11:10:00, 2023-11-05 11:15:00]|\n",
      "|[2023-11-05 11:25:00, 2023-11-05 11:30:00]|AIV |37.57             |29.98             |[2023-11-05 11:15:00, 2023-11-05 11:20:00]|\n",
      "|[2023-11-05 11:15:00, 2023-11-05 11:20:00]|BF.B|41.9325           |35.775            |[2023-11-05 11:10:00, 2023-11-05 11:15:00]|\n",
      "|[2023-11-05 11:25:00, 2023-11-05 11:30:00]|BF.B|45.9699           |41.9325           |[2023-11-05 11:15:00, 2023-11-05 11:20:00]|\n",
      "|[2023-11-05 11:10:00, 2023-11-05 11:15:00]|MMM |117.14            |105.88            |[2023-11-05 11:05:00, 2023-11-05 11:10:00]|\n",
      "|[2023-11-05 11:15:00, 2023-11-05 11:20:00]|MMM |130.59            |117.14            |[2023-11-05 11:10:00, 2023-11-05 11:15:00]|\n",
      "|[2023-11-05 11:25:00, 2023-11-05 11:30:00]|MMM |167.81            |130.59            |[2023-11-05 11:15:00, 2023-11-05 11:20:00]|\n",
      "|[2023-11-05 11:20:00, 2023-11-05 11:25:00]|PKI |44.43666666666667 |42.77             |[2023-11-05 11:15:00, 2023-11-05 11:20:00]|\n",
      "|[2023-11-05 11:15:00, 2023-11-05 11:20:00]|PPG |96.9215           |69.885            |[2023-11-05 11:05:00, 2023-11-05 11:10:00]|\n",
      "|[2023-11-05 11:20:00, 2023-11-05 11:25:00]|PPG |109.47749999999999|96.9215           |[2023-11-05 11:15:00, 2023-11-05 11:20:00]|\n",
      "|[2023-11-05 11:25:00, 2023-11-05 11:30:00]|PPG |112.65            |109.47749999999999|[2023-11-05 11:20:00, 2023-11-05 11:25:00]|\n",
      "|[2023-11-05 11:10:00, 2023-11-05 11:15:00]|WEC |41.245000000000005|39.9              |[2023-11-05 11:05:00, 2023-11-05 11:10:00]|\n",
      "+------------------------------------------+----+------------------+------------------+------------------------------------------+\n",
      "only showing top 20 rows\n",
      "\n",
      "+------------------------------------------+----+------------------+------------------+------------------------------------------+\n",
      "|window                                    |name|avg(price)        |previous_price    |previous_window                           |\n",
      "+------------------------------------------+----+------------------+------------------+------------------------------------------+\n",
      "|[2023-11-05 11:20:00, 2023-11-05 11:25:00]|ALXN|164.66            |180.2             |[2023-11-05 11:15:00, 2023-11-05 11:20:00]|\n",
      "|[2023-11-05 11:10:00, 2023-11-05 11:15:00]|GIS |49.35666666666666 |50.5207           |[2023-11-05 11:05:00, 2023-11-05 11:10:00]|\n",
      "|[2023-11-05 11:15:00, 2023-11-05 11:20:00]|GIS |48.6              |49.35666666666666 |[2023-11-05 11:10:00, 2023-11-05 11:15:00]|\n",
      "|[2023-11-05 11:20:00, 2023-11-05 11:25:00]|K   |66.23             |67.63             |[2023-11-05 11:15:00, 2023-11-05 11:20:00]|\n",
      "|[2023-11-05 11:25:00, 2023-11-05 11:30:00]|K   |62.1798           |66.23             |[2023-11-05 11:20:00, 2023-11-05 11:25:00]|\n",
      "|[2023-11-05 11:20:00, 2023-11-05 11:25:00]|LEN |35.5196           |38.958349999999996|[2023-11-05 11:15:00, 2023-11-05 11:20:00]|\n",
      "|[2023-11-05 11:30:00, 2023-11-05 11:35:00]|LEN |49.5392           |49.676500000000004|[2023-11-05 11:25:00, 2023-11-05 11:30:00]|\n",
      "|[2023-11-05 11:10:00, 2023-11-05 11:15:00]|AIV |28.738            |30.63             |[2023-11-05 11:05:00, 2023-11-05 11:10:00]|\n",
      "|[2023-11-05 11:10:00, 2023-11-05 11:15:00]|AVY |42.56             |43.17             |[2023-11-05 11:05:00, 2023-11-05 11:10:00]|\n",
      "|[2023-11-05 11:30:00, 2023-11-05 11:35:00]|AVY |59.358            |62.78             |[2023-11-05 11:25:00, 2023-11-05 11:30:00]|\n",
      "|[2023-11-05 11:30:00, 2023-11-05 11:35:00]|PPG |104.09            |113.25999999999999|[2023-11-05 11:25:00, 2023-11-05 11:30:00]|\n",
      "|[2023-11-05 11:25:00, 2023-11-05 11:30:00]|RF  |9.89              |10.489999999999998|[2023-11-05 11:15:00, 2023-11-05 11:20:00]|\n",
      "|[2023-11-05 11:15:00, 2023-11-05 11:20:00]|IRM |27.715            |28.79             |[2023-11-05 11:10:00, 2023-11-05 11:15:00]|\n",
      "|[2023-11-05 11:30:00, 2023-11-05 11:35:00]|IRM |30.62             |37.01             |[2023-11-05 11:25:00, 2023-11-05 11:30:00]|\n",
      "|[2023-11-05 11:30:00, 2023-11-05 11:35:00]|WEC |49.695            |50.11             |[2023-11-05 11:25:00, 2023-11-05 11:30:00]|\n",
      "|[2023-11-05 11:30:00, 2023-11-05 11:35:00]|BLK |337.74            |378.03            |[2023-11-05 11:25:00, 2023-11-05 11:30:00]|\n",
      "|[2023-11-05 11:25:00, 2023-11-05 11:30:00]|OXY |82.02             |102.32            |[2023-11-05 11:20:00, 2023-11-05 11:25:00]|\n",
      "|[2023-11-05 11:30:00, 2023-11-05 11:35:00]|OXY |78.61             |82.02             |[2023-11-05 11:25:00, 2023-11-05 11:30:00]|\n",
      "|[2023-11-05 11:15:00, 2023-11-05 11:20:00]|ULTA|86.22             |99.21             |[2023-11-05 11:10:00, 2023-11-05 11:15:00]|\n",
      "|[2023-11-05 11:30:00, 2023-11-05 11:35:00]|MTD |317.51475000000005|318.03499999999997|[2023-11-05 11:25:00, 2023-11-05 11:30:00]|\n",
      "+------------------------------------------+----+------------------+------------------+------------------------------------------+\n",
      "only showing top 20 rows\n",
      "\n",
      "-------------------------------------------\n",
      "Batch: 61\n",
      "-------------------------------------------\n",
      "+------+-----------+----------+-------------+--------------+------------------+\n",
      "|window|first_price|last_price|lastTimeStamp|firstTimeStamp|percent_value_lost|\n",
      "+------+-----------+----------+-------------+--------------+------------------+\n",
      "+------+-----------+----------+-------------+--------------+------------------+\n",
      "\n"
     ]
    },
    {
     "name": "stderr",
     "output_type": "stream",
     "text": [
      "                                                                                \r"
     ]
    },
    {
     "name": "stdout",
     "output_type": "stream",
     "text": [
      "-------------------------------------------\n",
      "Batch: 62\n",
      "-------------------------------------------\n",
      "+------+-----------+----------+-------------+--------------+------------------+\n",
      "|window|first_price|last_price|lastTimeStamp|firstTimeStamp|percent_value_lost|\n",
      "+------+-----------+----------+-------------+--------------+------------------+\n",
      "+------+-----------+----------+-------------+--------------+------------------+\n",
      "\n"
     ]
    },
    {
     "name": "stderr",
     "output_type": "stream",
     "text": [
      "                                                                                \r"
     ]
    },
    {
     "name": "stdout",
     "output_type": "stream",
     "text": [
      "+------------------------------------------+----+------------------+------------------+------------------------------------------+\n",
      "|window                                    |name|avg(price)        |previous_price    |previous_window                           |\n",
      "+------------------------------------------+----+------------------+------------------+------------------------------------------+\n",
      "|[2023-11-05 11:15:00, 2023-11-05 11:20:00]|ALXN|180.2             |108.02            |[2023-11-05 11:10:00, 2023-11-05 11:15:00]|\n",
      "|[2023-11-05 11:20:00, 2023-11-05 11:25:00]|GIS |50.92             |48.6              |[2023-11-05 11:15:00, 2023-11-05 11:20:00]|\n",
      "|[2023-11-05 11:15:00, 2023-11-05 11:20:00]|K   |67.63             |65.865            |[2023-11-05 11:10:00, 2023-11-05 11:15:00]|\n",
      "|[2023-11-05 11:15:00, 2023-11-05 11:20:00]|LEN |38.958349999999996|33.89705          |[2023-11-05 11:10:00, 2023-11-05 11:15:00]|\n",
      "|[2023-11-05 11:25:00, 2023-11-05 11:30:00]|LEN |49.676500000000004|35.5196           |[2023-11-05 11:20:00, 2023-11-05 11:25:00]|\n",
      "|[2023-11-05 11:15:00, 2023-11-05 11:20:00]|SPGI|77.12             |60.16             |[2023-11-05 11:10:00, 2023-11-05 11:15:00]|\n",
      "|[2023-11-05 11:20:00, 2023-11-05 11:25:00]|SPGI|86.69             |77.12             |[2023-11-05 11:15:00, 2023-11-05 11:20:00]|\n",
      "|[2023-11-05 11:25:00, 2023-11-05 11:30:00]|SPGI|90.47             |86.69             |[2023-11-05 11:20:00, 2023-11-05 11:25:00]|\n",
      "|[2023-11-05 11:15:00, 2023-11-05 11:20:00]|AIV |29.98             |28.738            |[2023-11-05 11:10:00, 2023-11-05 11:15:00]|\n",
      "|[2023-11-05 11:25:00, 2023-11-05 11:30:00]|AIV |37.57             |29.98             |[2023-11-05 11:15:00, 2023-11-05 11:20:00]|\n",
      "|[2023-11-05 11:15:00, 2023-11-05 11:20:00]|BF.B|41.9325           |35.775            |[2023-11-05 11:10:00, 2023-11-05 11:15:00]|\n",
      "|[2023-11-05 11:25:00, 2023-11-05 11:30:00]|BF.B|45.22495          |41.9325           |[2023-11-05 11:15:00, 2023-11-05 11:20:00]|\n",
      "|[2023-11-05 11:10:00, 2023-11-05 11:15:00]|MMM |117.14            |105.88            |[2023-11-05 11:05:00, 2023-11-05 11:10:00]|\n",
      "|[2023-11-05 11:15:00, 2023-11-05 11:20:00]|MMM |130.59            |117.14            |[2023-11-05 11:10:00, 2023-11-05 11:15:00]|\n",
      "|[2023-11-05 11:25:00, 2023-11-05 11:30:00]|MMM |167.81            |130.59            |[2023-11-05 11:15:00, 2023-11-05 11:20:00]|\n",
      "|[2023-11-05 11:20:00, 2023-11-05 11:25:00]|PKI |44.43666666666667 |42.77             |[2023-11-05 11:15:00, 2023-11-05 11:20:00]|\n",
      "|[2023-11-05 11:15:00, 2023-11-05 11:20:00]|PPG |96.9215           |69.885            |[2023-11-05 11:05:00, 2023-11-05 11:10:00]|\n",
      "|[2023-11-05 11:20:00, 2023-11-05 11:25:00]|PPG |109.47749999999999|96.9215           |[2023-11-05 11:15:00, 2023-11-05 11:20:00]|\n",
      "|[2023-11-05 11:25:00, 2023-11-05 11:30:00]|PPG |112.325           |109.47749999999999|[2023-11-05 11:20:00, 2023-11-05 11:25:00]|\n",
      "|[2023-11-05 11:25:00, 2023-11-05 11:30:00]|CI  |130.02            |83.03999999999999 |[2023-11-05 11:10:00, 2023-11-05 11:15:00]|\n",
      "+------------------------------------------+----+------------------+------------------+------------------------------------------+\n",
      "only showing top 20 rows\n",
      "\n"
     ]
    },
    {
     "name": "stderr",
     "output_type": "stream",
     "text": [
      "                                                                                \r"
     ]
    },
    {
     "name": "stdout",
     "output_type": "stream",
     "text": [
      "-------------------------------------------\n",
      "Batch: 63\n",
      "-------------------------------------------\n",
      "+------+-----------+----------+-------------+--------------+------------------+\n",
      "|window|first_price|last_price|lastTimeStamp|firstTimeStamp|percent_value_lost|\n",
      "+------+-----------+----------+-------------+--------------+------------------+\n",
      "+------+-----------+----------+-------------+--------------+------------------+\n",
      "\n"
     ]
    },
    {
     "name": "stderr",
     "output_type": "stream",
     "text": [
      "                                                                                \r"
     ]
    },
    {
     "name": "stdout",
     "output_type": "stream",
     "text": [
      "+------------------------------------------+----+-----------------+------------------+------------------------------------------+\n",
      "|window                                    |name|avg(price)       |previous_price    |previous_window                           |\n",
      "+------------------------------------------+----+-----------------+------------------+------------------------------------------+\n",
      "|[2023-11-05 11:20:00, 2023-11-05 11:25:00]|ALXN|164.66           |180.2             |[2023-11-05 11:15:00, 2023-11-05 11:20:00]|\n",
      "|[2023-11-05 11:10:00, 2023-11-05 11:15:00]|GIS |49.35666666666666|50.5207           |[2023-11-05 11:05:00, 2023-11-05 11:10:00]|\n",
      "|[2023-11-05 11:15:00, 2023-11-05 11:20:00]|GIS |48.6             |49.35666666666666 |[2023-11-05 11:10:00, 2023-11-05 11:15:00]|\n",
      "|[2023-11-05 11:20:00, 2023-11-05 11:25:00]|K   |66.23            |67.63             |[2023-11-05 11:15:00, 2023-11-05 11:20:00]|\n",
      "|[2023-11-05 11:25:00, 2023-11-05 11:30:00]|K   |62.1798          |66.23             |[2023-11-05 11:20:00, 2023-11-05 11:25:00]|\n",
      "|[2023-11-05 11:20:00, 2023-11-05 11:25:00]|LEN |35.5196          |38.958349999999996|[2023-11-05 11:15:00, 2023-11-05 11:20:00]|\n",
      "|[2023-11-05 11:30:00, 2023-11-05 11:35:00]|LEN |49.5392          |49.676500000000004|[2023-11-05 11:25:00, 2023-11-05 11:30:00]|\n",
      "|[2023-11-05 11:10:00, 2023-11-05 11:15:00]|AIV |28.738           |30.63             |[2023-11-05 11:05:00, 2023-11-05 11:10:00]|\n",
      "|[2023-11-05 11:10:00, 2023-11-05 11:15:00]|AVY |42.56            |43.17             |[2023-11-05 11:05:00, 2023-11-05 11:10:00]|\n",
      "|[2023-11-05 11:30:00, 2023-11-05 11:35:00]|AVY |59.358           |62.78             |[2023-11-05 11:25:00, 2023-11-05 11:30:00]|\n",
      "|[2023-11-05 11:30:00, 2023-11-05 11:35:00]|PPG |104.09           |113.25999999999999|[2023-11-05 11:25:00, 2023-11-05 11:30:00]|\n",
      "|[2023-11-05 11:25:00, 2023-11-05 11:30:00]|RF  |9.89             |10.489999999999998|[2023-11-05 11:15:00, 2023-11-05 11:20:00]|\n",
      "|[2023-11-05 11:15:00, 2023-11-05 11:20:00]|IRM |27.715           |28.79             |[2023-11-05 11:10:00, 2023-11-05 11:15:00]|\n",
      "|[2023-11-05 11:30:00, 2023-11-05 11:35:00]|IRM |30.62            |37.01             |[2023-11-05 11:25:00, 2023-11-05 11:30:00]|\n",
      "|[2023-11-05 11:30:00, 2023-11-05 11:35:00]|WEC |49.695           |50.11             |[2023-11-05 11:25:00, 2023-11-05 11:30:00]|\n",
      "|[2023-11-05 11:30:00, 2023-11-05 11:35:00]|PFG |51.45            |52.0425           |[2023-11-05 11:25:00, 2023-11-05 11:30:00]|\n",
      "|[2023-11-05 11:30:00, 2023-11-05 11:35:00]|BLK |337.74           |378.03            |[2023-11-05 11:25:00, 2023-11-05 11:30:00]|\n",
      "|[2023-11-05 11:25:00, 2023-11-05 11:30:00]|OXY |82.02            |102.32            |[2023-11-05 11:20:00, 2023-11-05 11:25:00]|\n",
      "|[2023-11-05 11:30:00, 2023-11-05 11:35:00]|OXY |78.61            |82.02             |[2023-11-05 11:25:00, 2023-11-05 11:30:00]|\n",
      "|[2023-11-05 11:15:00, 2023-11-05 11:20:00]|ULTA|86.22            |99.21             |[2023-11-05 11:10:00, 2023-11-05 11:15:00]|\n",
      "+------------------------------------------+----+-----------------+------------------+------------------------------------------+\n",
      "only showing top 20 rows\n",
      "\n"
     ]
    },
    {
     "name": "stderr",
     "output_type": "stream",
     "text": [
      "                                                                                \r"
     ]
    },
    {
     "name": "stdout",
     "output_type": "stream",
     "text": [
      "-------------------------------------------\n",
      "Batch: 64\n",
      "-------------------------------------------\n",
      "+------+-----------+----------+-------------+--------------+------------------+\n",
      "|window|first_price|last_price|lastTimeStamp|firstTimeStamp|percent_value_lost|\n",
      "+------+-----------+----------+-------------+--------------+------------------+\n",
      "+------+-----------+----------+-------------+--------------+------------------+\n",
      "\n"
     ]
    },
    {
     "name": "stderr",
     "output_type": "stream",
     "text": [
      "                                                                                \r"
     ]
    },
    {
     "name": "stdout",
     "output_type": "stream",
     "text": [
      "-------------------------------------------\n",
      "Batch: 65\n",
      "-------------------------------------------\n",
      "+------+-----------+----------+-------------+--------------+------------------+\n",
      "|window|first_price|last_price|lastTimeStamp|firstTimeStamp|percent_value_lost|\n",
      "+------+-----------+----------+-------------+--------------+------------------+\n",
      "+------+-----------+----------+-------------+--------------+------------------+\n",
      "\n"
     ]
    },
    {
     "name": "stderr",
     "output_type": "stream",
     "text": [
      "                                                                                \r"
     ]
    },
    {
     "name": "stdout",
     "output_type": "stream",
     "text": [
      "+------------------------------------------+----+------------------+------------------+------------------------------------------+\n",
      "|window                                    |name|avg(price)        |previous_price    |previous_window                           |\n",
      "+------------------------------------------+----+------------------+------------------+------------------------------------------+\n",
      "|[2023-11-05 11:15:00, 2023-11-05 11:20:00]|ALXN|180.2             |108.02            |[2023-11-05 11:10:00, 2023-11-05 11:15:00]|\n",
      "|[2023-11-05 11:25:00, 2023-11-05 11:30:00]|ALXN|186.99            |164.66            |[2023-11-05 11:20:00, 2023-11-05 11:25:00]|\n",
      "|[2023-11-05 11:20:00, 2023-11-05 11:25:00]|GIS |50.92             |48.6              |[2023-11-05 11:15:00, 2023-11-05 11:20:00]|\n",
      "|[2023-11-05 11:15:00, 2023-11-05 11:20:00]|K   |67.63             |65.865            |[2023-11-05 11:10:00, 2023-11-05 11:15:00]|\n",
      "|[2023-11-05 11:15:00, 2023-11-05 11:20:00]|LEN |38.958349999999996|33.89705          |[2023-11-05 11:10:00, 2023-11-05 11:15:00]|\n",
      "|[2023-11-05 11:25:00, 2023-11-05 11:30:00]|LEN |49.676500000000004|35.5196           |[2023-11-05 11:20:00, 2023-11-05 11:25:00]|\n",
      "|[2023-11-05 11:15:00, 2023-11-05 11:20:00]|SPGI|77.12             |60.16             |[2023-11-05 11:10:00, 2023-11-05 11:15:00]|\n",
      "|[2023-11-05 11:20:00, 2023-11-05 11:25:00]|SPGI|86.69             |77.12             |[2023-11-05 11:15:00, 2023-11-05 11:20:00]|\n",
      "|[2023-11-05 11:25:00, 2023-11-05 11:30:00]|SPGI|90.47             |86.69             |[2023-11-05 11:20:00, 2023-11-05 11:25:00]|\n",
      "|[2023-11-05 11:15:00, 2023-11-05 11:20:00]|AIV |29.98             |28.738            |[2023-11-05 11:10:00, 2023-11-05 11:15:00]|\n",
      "|[2023-11-05 11:25:00, 2023-11-05 11:30:00]|AIV |37.57             |29.98             |[2023-11-05 11:15:00, 2023-11-05 11:20:00]|\n",
      "|[2023-11-05 11:15:00, 2023-11-05 11:20:00]|BF.B|41.9325           |35.775            |[2023-11-05 11:10:00, 2023-11-05 11:15:00]|\n",
      "|[2023-11-05 11:25:00, 2023-11-05 11:30:00]|BF.B|45.39163333333334 |41.9325           |[2023-11-05 11:15:00, 2023-11-05 11:20:00]|\n",
      "|[2023-11-05 11:10:00, 2023-11-05 11:15:00]|MMM |117.14            |105.88            |[2023-11-05 11:05:00, 2023-11-05 11:10:00]|\n",
      "|[2023-11-05 11:15:00, 2023-11-05 11:20:00]|MMM |130.59            |117.14            |[2023-11-05 11:10:00, 2023-11-05 11:15:00]|\n",
      "|[2023-11-05 11:25:00, 2023-11-05 11:30:00]|MMM |167.81            |130.59            |[2023-11-05 11:15:00, 2023-11-05 11:20:00]|\n",
      "|[2023-11-05 11:20:00, 2023-11-05 11:25:00]|PKI |44.43666666666667 |42.77             |[2023-11-05 11:15:00, 2023-11-05 11:20:00]|\n",
      "|[2023-11-05 11:15:00, 2023-11-05 11:20:00]|PPG |96.9215           |69.885            |[2023-11-05 11:05:00, 2023-11-05 11:10:00]|\n",
      "|[2023-11-05 11:20:00, 2023-11-05 11:25:00]|PPG |109.47749999999999|96.9215           |[2023-11-05 11:15:00, 2023-11-05 11:20:00]|\n",
      "|[2023-11-05 11:25:00, 2023-11-05 11:30:00]|PPG |112.325           |109.47749999999999|[2023-11-05 11:20:00, 2023-11-05 11:25:00]|\n",
      "+------------------------------------------+----+------------------+------------------+------------------------------------------+\n",
      "only showing top 20 rows\n",
      "\n"
     ]
    },
    {
     "name": "stderr",
     "output_type": "stream",
     "text": [
      "                                                                                \r"
     ]
    },
    {
     "name": "stdout",
     "output_type": "stream",
     "text": [
      "-------------------------------------------\n",
      "Batch: 66\n",
      "-------------------------------------------\n",
      "+------+-----------+----------+-------------+--------------+------------------+\n",
      "|window|first_price|last_price|lastTimeStamp|firstTimeStamp|percent_value_lost|\n",
      "+------+-----------+----------+-------------+--------------+------------------+\n",
      "+------+-----------+----------+-------------+--------------+------------------+\n",
      "\n"
     ]
    },
    {
     "name": "stderr",
     "output_type": "stream",
     "text": [
      "                                                                                \r"
     ]
    },
    {
     "name": "stdout",
     "output_type": "stream",
     "text": [
      "+------------------------------------------+----+-----------------+------------------+------------------------------------------+\n",
      "|window                                    |name|avg(price)       |previous_price    |previous_window                           |\n",
      "+------------------------------------------+----+-----------------+------------------+------------------------------------------+\n",
      "|[2023-11-05 11:20:00, 2023-11-05 11:25:00]|ALXN|164.66           |180.2             |[2023-11-05 11:15:00, 2023-11-05 11:20:00]|\n",
      "|[2023-11-05 11:10:00, 2023-11-05 11:15:00]|GIS |49.35666666666666|50.5207           |[2023-11-05 11:05:00, 2023-11-05 11:10:00]|\n",
      "|[2023-11-05 11:15:00, 2023-11-05 11:20:00]|GIS |48.6             |49.35666666666666 |[2023-11-05 11:10:00, 2023-11-05 11:15:00]|\n",
      "|[2023-11-05 11:20:00, 2023-11-05 11:25:00]|K   |66.23            |67.63             |[2023-11-05 11:15:00, 2023-11-05 11:20:00]|\n",
      "|[2023-11-05 11:25:00, 2023-11-05 11:30:00]|K   |62.1798          |66.23             |[2023-11-05 11:20:00, 2023-11-05 11:25:00]|\n",
      "|[2023-11-05 11:20:00, 2023-11-05 11:25:00]|LEN |35.5196          |38.958349999999996|[2023-11-05 11:15:00, 2023-11-05 11:20:00]|\n",
      "|[2023-11-05 11:30:00, 2023-11-05 11:35:00]|LEN |49.5392          |49.676500000000004|[2023-11-05 11:25:00, 2023-11-05 11:30:00]|\n",
      "|[2023-11-05 11:10:00, 2023-11-05 11:15:00]|AIV |28.738           |30.63             |[2023-11-05 11:05:00, 2023-11-05 11:10:00]|\n",
      "|[2023-11-05 11:10:00, 2023-11-05 11:15:00]|AVY |42.56            |43.17             |[2023-11-05 11:05:00, 2023-11-05 11:10:00]|\n",
      "|[2023-11-05 11:30:00, 2023-11-05 11:35:00]|AVY |59.358           |62.78             |[2023-11-05 11:25:00, 2023-11-05 11:30:00]|\n",
      "|[2023-11-05 11:30:00, 2023-11-05 11:35:00]|PPG |104.09           |113.25999999999999|[2023-11-05 11:25:00, 2023-11-05 11:30:00]|\n",
      "|[2023-11-05 11:25:00, 2023-11-05 11:30:00]|RF  |9.89             |10.489999999999998|[2023-11-05 11:15:00, 2023-11-05 11:20:00]|\n",
      "|[2023-11-05 11:15:00, 2023-11-05 11:20:00]|IRM |27.715           |28.79             |[2023-11-05 11:10:00, 2023-11-05 11:15:00]|\n",
      "|[2023-11-05 11:30:00, 2023-11-05 11:35:00]|IRM |30.62            |37.01             |[2023-11-05 11:25:00, 2023-11-05 11:30:00]|\n",
      "|[2023-11-05 11:30:00, 2023-11-05 11:35:00]|WEC |49.695           |50.11             |[2023-11-05 11:25:00, 2023-11-05 11:30:00]|\n",
      "|[2023-11-05 11:30:00, 2023-11-05 11:35:00]|PFG |51.45            |52.0425           |[2023-11-05 11:25:00, 2023-11-05 11:30:00]|\n",
      "|[2023-11-05 11:30:00, 2023-11-05 11:35:00]|BLK |337.74           |378.03            |[2023-11-05 11:25:00, 2023-11-05 11:30:00]|\n",
      "|[2023-11-05 11:25:00, 2023-11-05 11:30:00]|OXY |82.02            |102.32            |[2023-11-05 11:20:00, 2023-11-05 11:25:00]|\n",
      "|[2023-11-05 11:30:00, 2023-11-05 11:35:00]|OXY |78.61            |82.02             |[2023-11-05 11:25:00, 2023-11-05 11:30:00]|\n",
      "|[2023-11-05 11:35:00, 2023-11-05 11:40:00]|OXY |68.15            |78.61             |[2023-11-05 11:30:00, 2023-11-05 11:35:00]|\n",
      "+------------------------------------------+----+-----------------+------------------+------------------------------------------+\n",
      "only showing top 20 rows\n",
      "\n"
     ]
    },
    {
     "name": "stderr",
     "output_type": "stream",
     "text": [
      "                                                                                \r"
     ]
    },
    {
     "name": "stdout",
     "output_type": "stream",
     "text": [
      "-------------------------------------------\n",
      "Batch: 67\n",
      "-------------------------------------------\n",
      "+------+-----------+----------+-------------+--------------+------------------+\n",
      "|window|first_price|last_price|lastTimeStamp|firstTimeStamp|percent_value_lost|\n",
      "+------+-----------+----------+-------------+--------------+------------------+\n",
      "+------+-----------+----------+-------------+--------------+------------------+\n",
      "\n"
     ]
    },
    {
     "name": "stderr",
     "output_type": "stream",
     "text": [
      "                                                                                \r"
     ]
    },
    {
     "name": "stdout",
     "output_type": "stream",
     "text": [
      "+------------------------------------------+----+------------------+--------------+------------------------------------------+\n",
      "|window                                    |name|avg(price)        |previous_price|previous_window                           |\n",
      "+------------------------------------------+----+------------------+--------------+------------------------------------------+\n",
      "|[2023-11-05 11:15:00, 2023-11-05 11:20:00]|ALXN|180.2             |108.02        |[2023-11-05 11:10:00, 2023-11-05 11:15:00]|\n",
      "|[2023-11-05 11:25:00, 2023-11-05 11:30:00]|ALXN|186.99            |164.66        |[2023-11-05 11:20:00, 2023-11-05 11:25:00]|\n",
      "|[2023-11-05 11:20:00, 2023-11-05 11:25:00]|GIS |50.92             |48.6          |[2023-11-05 11:15:00, 2023-11-05 11:20:00]|\n",
      "|[2023-11-05 11:15:00, 2023-11-05 11:20:00]|K   |67.63             |65.865        |[2023-11-05 11:10:00, 2023-11-05 11:15:00]|\n",
      "|[2023-11-05 11:15:00, 2023-11-05 11:20:00]|LEN |38.958349999999996|33.89705      |[2023-11-05 11:10:00, 2023-11-05 11:15:00]|\n",
      "|[2023-11-05 11:25:00, 2023-11-05 11:30:00]|LEN |49.676500000000004|35.5196       |[2023-11-05 11:20:00, 2023-11-05 11:25:00]|\n",
      "|[2023-11-05 11:15:00, 2023-11-05 11:20:00]|SPGI|77.12             |60.16         |[2023-11-05 11:10:00, 2023-11-05 11:15:00]|\n",
      "|[2023-11-05 11:20:00, 2023-11-05 11:25:00]|SPGI|86.69             |77.12         |[2023-11-05 11:15:00, 2023-11-05 11:20:00]|\n",
      "|[2023-11-05 11:25:00, 2023-11-05 11:30:00]|SPGI|90.47             |86.69         |[2023-11-05 11:20:00, 2023-11-05 11:25:00]|\n",
      "|[2023-11-05 11:15:00, 2023-11-05 11:20:00]|AIV |29.98             |28.738        |[2023-11-05 11:10:00, 2023-11-05 11:15:00]|\n",
      "|[2023-11-05 11:25:00, 2023-11-05 11:30:00]|AIV |37.57             |29.98         |[2023-11-05 11:15:00, 2023-11-05 11:20:00]|\n",
      "|[2023-11-05 11:25:00, 2023-11-05 11:30:00]|AVY |62.78             |42.56         |[2023-11-05 11:10:00, 2023-11-05 11:15:00]|\n",
      "|[2023-11-05 11:15:00, 2023-11-05 11:20:00]|BF.B|41.9325           |35.775        |[2023-11-05 11:10:00, 2023-11-05 11:15:00]|\n",
      "|[2023-11-05 11:25:00, 2023-11-05 11:30:00]|BF.B|45.39163333333334 |41.9325       |[2023-11-05 11:15:00, 2023-11-05 11:20:00]|\n",
      "|[2023-11-05 11:10:00, 2023-11-05 11:15:00]|MMM |117.14            |105.88        |[2023-11-05 11:05:00, 2023-11-05 11:10:00]|\n",
      "|[2023-11-05 11:15:00, 2023-11-05 11:20:00]|MMM |130.59            |117.14        |[2023-11-05 11:10:00, 2023-11-05 11:15:00]|\n",
      "|[2023-11-05 11:25:00, 2023-11-05 11:30:00]|MMM |167.81            |130.59        |[2023-11-05 11:15:00, 2023-11-05 11:20:00]|\n",
      "|[2023-11-05 11:20:00, 2023-11-05 11:25:00]|PKI |44.43666666666667 |42.77         |[2023-11-05 11:15:00, 2023-11-05 11:20:00]|\n",
      "|[2023-11-05 11:15:00, 2023-11-05 11:20:00]|PPG |96.9215           |69.885        |[2023-11-05 11:05:00, 2023-11-05 11:10:00]|\n",
      "|[2023-11-05 11:20:00, 2023-11-05 11:25:00]|PPG |109.47749999999999|96.9215       |[2023-11-05 11:15:00, 2023-11-05 11:20:00]|\n",
      "+------------------------------------------+----+------------------+--------------+------------------------------------------+\n",
      "only showing top 20 rows\n",
      "\n",
      "-------------------------------------------\n",
      "Batch: 68\n",
      "-------------------------------------------\n",
      "+------+-----------+----------+-------------+--------------+------------------+\n",
      "|window|first_price|last_price|lastTimeStamp|firstTimeStamp|percent_value_lost|\n",
      "+------+-----------+----------+-------------+--------------+------------------+\n",
      "+------+-----------+----------+-------------+--------------+------------------+\n",
      "\n"
     ]
    },
    {
     "name": "stderr",
     "output_type": "stream",
     "text": [
      "                                                                                \r"
     ]
    },
    {
     "name": "stdout",
     "output_type": "stream",
     "text": [
      "-------------------------------------------\n",
      "Batch: 69\n",
      "-------------------------------------------\n",
      "+------+-----------+----------+-------------+--------------+------------------+\n",
      "|window|first_price|last_price|lastTimeStamp|firstTimeStamp|percent_value_lost|\n",
      "+------+-----------+----------+-------------+--------------+------------------+\n",
      "+------+-----------+----------+-------------+--------------+------------------+\n",
      "\n"
     ]
    },
    {
     "name": "stderr",
     "output_type": "stream",
     "text": [
      "                                                                                \r"
     ]
    },
    {
     "name": "stdout",
     "output_type": "stream",
     "text": [
      "+------------------------------------------+----+-----------------+------------------+------------------------------------------+\n",
      "|window                                    |name|avg(price)       |previous_price    |previous_window                           |\n",
      "+------------------------------------------+----+-----------------+------------------+------------------------------------------+\n",
      "|[2023-11-05 11:20:00, 2023-11-05 11:25:00]|ALXN|164.66           |180.2             |[2023-11-05 11:15:00, 2023-11-05 11:20:00]|\n",
      "|[2023-11-05 11:10:00, 2023-11-05 11:15:00]|GIS |49.35666666666666|50.5207           |[2023-11-05 11:05:00, 2023-11-05 11:10:00]|\n",
      "|[2023-11-05 11:15:00, 2023-11-05 11:20:00]|GIS |48.6             |49.35666666666666 |[2023-11-05 11:10:00, 2023-11-05 11:15:00]|\n",
      "|[2023-11-05 11:20:00, 2023-11-05 11:25:00]|K   |66.23            |67.63             |[2023-11-05 11:15:00, 2023-11-05 11:20:00]|\n",
      "|[2023-11-05 11:25:00, 2023-11-05 11:30:00]|K   |62.1798          |66.23             |[2023-11-05 11:20:00, 2023-11-05 11:25:00]|\n",
      "|[2023-11-05 11:20:00, 2023-11-05 11:25:00]|LEN |35.5196          |38.958349999999996|[2023-11-05 11:15:00, 2023-11-05 11:20:00]|\n",
      "|[2023-11-05 11:30:00, 2023-11-05 11:35:00]|LEN |49.5392          |49.676500000000004|[2023-11-05 11:25:00, 2023-11-05 11:30:00]|\n",
      "|[2023-11-05 11:10:00, 2023-11-05 11:15:00]|AIV |28.738           |30.63             |[2023-11-05 11:05:00, 2023-11-05 11:10:00]|\n",
      "|[2023-11-05 11:10:00, 2023-11-05 11:15:00]|AVY |42.56            |43.17             |[2023-11-05 11:05:00, 2023-11-05 11:10:00]|\n",
      "|[2023-11-05 11:30:00, 2023-11-05 11:35:00]|AVY |59.358           |62.78             |[2023-11-05 11:25:00, 2023-11-05 11:30:00]|\n",
      "|[2023-11-05 11:35:00, 2023-11-05 11:40:00]|BF.B|48.2725          |51.205            |[2023-11-05 11:30:00, 2023-11-05 11:35:00]|\n",
      "|[2023-11-05 11:30:00, 2023-11-05 11:35:00]|PPG |104.09           |113.25999999999999|[2023-11-05 11:25:00, 2023-11-05 11:30:00]|\n",
      "|[2023-11-05 11:25:00, 2023-11-05 11:30:00]|RF  |9.89             |10.489999999999998|[2023-11-05 11:15:00, 2023-11-05 11:20:00]|\n",
      "|[2023-11-05 11:15:00, 2023-11-05 11:20:00]|IRM |27.715           |28.79             |[2023-11-05 11:10:00, 2023-11-05 11:15:00]|\n",
      "|[2023-11-05 11:30:00, 2023-11-05 11:35:00]|IRM |30.62            |37.01             |[2023-11-05 11:25:00, 2023-11-05 11:30:00]|\n",
      "|[2023-11-05 11:30:00, 2023-11-05 11:35:00]|WEC |49.695           |50.11             |[2023-11-05 11:25:00, 2023-11-05 11:30:00]|\n",
      "|[2023-11-05 11:30:00, 2023-11-05 11:35:00]|PFG |51.45            |52.0425           |[2023-11-05 11:25:00, 2023-11-05 11:30:00]|\n",
      "|[2023-11-05 11:30:00, 2023-11-05 11:35:00]|BLK |337.74           |378.03            |[2023-11-05 11:25:00, 2023-11-05 11:30:00]|\n",
      "|[2023-11-05 11:25:00, 2023-11-05 11:30:00]|OXY |82.02            |102.32            |[2023-11-05 11:20:00, 2023-11-05 11:25:00]|\n",
      "|[2023-11-05 11:30:00, 2023-11-05 11:35:00]|OXY |78.61            |82.02             |[2023-11-05 11:25:00, 2023-11-05 11:30:00]|\n",
      "+------------------------------------------+----+-----------------+------------------+------------------------------------------+\n",
      "only showing top 20 rows\n",
      "\n"
     ]
    },
    {
     "name": "stderr",
     "output_type": "stream",
     "text": [
      "                                                                                \r"
     ]
    },
    {
     "name": "stdout",
     "output_type": "stream",
     "text": [
      "+------------------------------------------+----+------------------+-----------------+------------------------------------------+\n",
      "|window                                    |name|avg(price)        |previous_price   |previous_window                           |\n",
      "+------------------------------------------+----+------------------+-----------------+------------------------------------------+\n",
      "|[2023-11-05 11:15:00, 2023-11-05 11:20:00]|ALXN|180.2             |108.02           |[2023-11-05 11:10:00, 2023-11-05 11:15:00]|\n",
      "|[2023-11-05 11:25:00, 2023-11-05 11:30:00]|ALXN|186.99            |164.66           |[2023-11-05 11:20:00, 2023-11-05 11:25:00]|\n",
      "|[2023-11-05 11:20:00, 2023-11-05 11:25:00]|GIS |50.92             |48.6             |[2023-11-05 11:15:00, 2023-11-05 11:20:00]|\n",
      "|[2023-11-05 11:15:00, 2023-11-05 11:20:00]|K   |67.63             |65.865           |[2023-11-05 11:10:00, 2023-11-05 11:15:00]|\n",
      "|[2023-11-05 11:15:00, 2023-11-05 11:20:00]|LEN |38.958349999999996|33.89705         |[2023-11-05 11:10:00, 2023-11-05 11:15:00]|\n",
      "|[2023-11-05 11:25:00, 2023-11-05 11:30:00]|LEN |49.676500000000004|35.5196          |[2023-11-05 11:20:00, 2023-11-05 11:25:00]|\n",
      "|[2023-11-05 11:15:00, 2023-11-05 11:20:00]|SPGI|77.12             |60.16            |[2023-11-05 11:10:00, 2023-11-05 11:15:00]|\n",
      "|[2023-11-05 11:20:00, 2023-11-05 11:25:00]|SPGI|86.69             |77.12            |[2023-11-05 11:15:00, 2023-11-05 11:20:00]|\n",
      "|[2023-11-05 11:25:00, 2023-11-05 11:30:00]|SPGI|90.47             |86.69            |[2023-11-05 11:20:00, 2023-11-05 11:25:00]|\n",
      "|[2023-11-05 11:15:00, 2023-11-05 11:20:00]|AIV |29.98             |28.738           |[2023-11-05 11:10:00, 2023-11-05 11:15:00]|\n",
      "|[2023-11-05 11:25:00, 2023-11-05 11:30:00]|AIV |37.57             |29.98            |[2023-11-05 11:15:00, 2023-11-05 11:20:00]|\n",
      "|[2023-11-05 11:25:00, 2023-11-05 11:30:00]|AVY |62.78             |42.56            |[2023-11-05 11:10:00, 2023-11-05 11:15:00]|\n",
      "|[2023-11-05 11:15:00, 2023-11-05 11:20:00]|BF.B|41.9325           |35.775           |[2023-11-05 11:10:00, 2023-11-05 11:15:00]|\n",
      "|[2023-11-05 11:25:00, 2023-11-05 11:30:00]|BF.B|45.39163333333334 |41.9325          |[2023-11-05 11:15:00, 2023-11-05 11:20:00]|\n",
      "|[2023-11-05 11:30:00, 2023-11-05 11:35:00]|BF.B|51.205            |45.39163333333334|[2023-11-05 11:25:00, 2023-11-05 11:30:00]|\n",
      "|[2023-11-05 11:10:00, 2023-11-05 11:15:00]|MMM |117.14            |105.88           |[2023-11-05 11:05:00, 2023-11-05 11:10:00]|\n",
      "|[2023-11-05 11:15:00, 2023-11-05 11:20:00]|MMM |130.59            |117.14           |[2023-11-05 11:10:00, 2023-11-05 11:15:00]|\n",
      "|[2023-11-05 11:25:00, 2023-11-05 11:30:00]|MMM |167.81            |130.59           |[2023-11-05 11:15:00, 2023-11-05 11:20:00]|\n",
      "|[2023-11-05 11:20:00, 2023-11-05 11:25:00]|PKI |44.43666666666667 |42.77            |[2023-11-05 11:15:00, 2023-11-05 11:20:00]|\n",
      "|[2023-11-05 11:30:00, 2023-11-05 11:35:00]|PKI |53.745            |44.43666666666667|[2023-11-05 11:20:00, 2023-11-05 11:25:00]|\n",
      "+------------------------------------------+----+------------------+-----------------+------------------------------------------+\n",
      "only showing top 20 rows\n",
      "\n",
      "-------------------------------------------\n",
      "Batch: 70\n",
      "-------------------------------------------\n",
      "+------+-----------+----------+-------------+--------------+------------------+\n",
      "|window|first_price|last_price|lastTimeStamp|firstTimeStamp|percent_value_lost|\n",
      "+------+-----------+----------+-------------+--------------+------------------+\n",
      "+------+-----------+----------+-------------+--------------+------------------+\n",
      "\n"
     ]
    },
    {
     "name": "stderr",
     "output_type": "stream",
     "text": [
      "                                                                                \r"
     ]
    },
    {
     "name": "stdout",
     "output_type": "stream",
     "text": [
      "-------------------------------------------\n",
      "Batch: 71\n",
      "-------------------------------------------\n",
      "+------+-----------+----------+-------------+--------------+------------------+\n",
      "|window|first_price|last_price|lastTimeStamp|firstTimeStamp|percent_value_lost|\n",
      "+------+-----------+----------+-------------+--------------+------------------+\n",
      "+------+-----------+----------+-------------+--------------+------------------+\n",
      "\n"
     ]
    },
    {
     "name": "stderr",
     "output_type": "stream",
     "text": [
      "                                                                                \r"
     ]
    },
    {
     "name": "stdout",
     "output_type": "stream",
     "text": [
      "+------------------------------------------+----+-----------------+------------------+------------------------------------------+\n",
      "|window                                    |name|avg(price)       |previous_price    |previous_window                           |\n",
      "+------------------------------------------+----+-----------------+------------------+------------------------------------------+\n",
      "|[2023-11-05 11:20:00, 2023-11-05 11:25:00]|ALXN|164.66           |180.2             |[2023-11-05 11:15:00, 2023-11-05 11:20:00]|\n",
      "|[2023-11-05 11:10:00, 2023-11-05 11:15:00]|GIS |49.35666666666666|50.5207           |[2023-11-05 11:05:00, 2023-11-05 11:10:00]|\n",
      "|[2023-11-05 11:15:00, 2023-11-05 11:20:00]|GIS |48.6             |49.35666666666666 |[2023-11-05 11:10:00, 2023-11-05 11:15:00]|\n",
      "|[2023-11-05 11:20:00, 2023-11-05 11:25:00]|K   |66.23            |67.63             |[2023-11-05 11:15:00, 2023-11-05 11:20:00]|\n",
      "|[2023-11-05 11:25:00, 2023-11-05 11:30:00]|K   |62.1798          |66.23             |[2023-11-05 11:20:00, 2023-11-05 11:25:00]|\n",
      "|[2023-11-05 11:20:00, 2023-11-05 11:25:00]|LEN |35.5196          |38.958349999999996|[2023-11-05 11:15:00, 2023-11-05 11:20:00]|\n",
      "|[2023-11-05 11:30:00, 2023-11-05 11:35:00]|LEN |49.5392          |49.676500000000004|[2023-11-05 11:25:00, 2023-11-05 11:30:00]|\n",
      "|[2023-11-05 11:35:00, 2023-11-05 11:40:00]|SPGI|92.65            |97.46             |[2023-11-05 11:30:00, 2023-11-05 11:35:00]|\n",
      "|[2023-11-05 11:10:00, 2023-11-05 11:15:00]|AIV |28.738           |30.63             |[2023-11-05 11:05:00, 2023-11-05 11:10:00]|\n",
      "|[2023-11-05 11:10:00, 2023-11-05 11:15:00]|AVY |42.56            |43.17             |[2023-11-05 11:05:00, 2023-11-05 11:10:00]|\n",
      "|[2023-11-05 11:30:00, 2023-11-05 11:35:00]|AVY |59.358           |62.78             |[2023-11-05 11:25:00, 2023-11-05 11:30:00]|\n",
      "|[2023-11-05 11:35:00, 2023-11-05 11:40:00]|BF.B|48.2725          |51.205            |[2023-11-05 11:30:00, 2023-11-05 11:35:00]|\n",
      "|[2023-11-05 11:30:00, 2023-11-05 11:35:00]|PPG |104.09           |113.25999999999999|[2023-11-05 11:25:00, 2023-11-05 11:30:00]|\n",
      "|[2023-11-05 11:25:00, 2023-11-05 11:30:00]|RF  |9.89             |10.489999999999998|[2023-11-05 11:15:00, 2023-11-05 11:20:00]|\n",
      "|[2023-11-05 11:15:00, 2023-11-05 11:20:00]|IRM |27.715           |28.79             |[2023-11-05 11:10:00, 2023-11-05 11:15:00]|\n",
      "|[2023-11-05 11:30:00, 2023-11-05 11:35:00]|IRM |30.62            |37.01             |[2023-11-05 11:25:00, 2023-11-05 11:30:00]|\n",
      "|[2023-11-05 11:30:00, 2023-11-05 11:35:00]|WEC |49.695           |50.11             |[2023-11-05 11:25:00, 2023-11-05 11:30:00]|\n",
      "|[2023-11-05 11:30:00, 2023-11-05 11:35:00]|PFG |51.45            |52.0425           |[2023-11-05 11:25:00, 2023-11-05 11:30:00]|\n",
      "|[2023-11-05 11:30:00, 2023-11-05 11:35:00]|BLK |337.74           |378.03            |[2023-11-05 11:25:00, 2023-11-05 11:30:00]|\n",
      "|[2023-11-05 11:25:00, 2023-11-05 11:30:00]|OXY |82.02            |102.32            |[2023-11-05 11:20:00, 2023-11-05 11:25:00]|\n",
      "+------------------------------------------+----+-----------------+------------------+------------------------------------------+\n",
      "only showing top 20 rows\n",
      "\n",
      "+------------------------------------------+----+------------------+------------------+------------------------------------------+\n",
      "|window                                    |name|avg(price)        |previous_price    |previous_window                           |\n",
      "+------------------------------------------+----+------------------+------------------+------------------------------------------+\n",
      "|[2023-11-05 11:15:00, 2023-11-05 11:20:00]|ALXN|180.2             |108.02            |[2023-11-05 11:10:00, 2023-11-05 11:15:00]|\n",
      "|[2023-11-05 11:25:00, 2023-11-05 11:30:00]|ALXN|186.99            |164.66            |[2023-11-05 11:20:00, 2023-11-05 11:25:00]|\n",
      "|[2023-11-05 11:30:00, 2023-11-05 11:35:00]|ALXN|201.66995         |186.99            |[2023-11-05 11:25:00, 2023-11-05 11:30:00]|\n",
      "|[2023-11-05 11:20:00, 2023-11-05 11:25:00]|GIS |50.92             |48.6              |[2023-11-05 11:15:00, 2023-11-05 11:20:00]|\n",
      "|[2023-11-05 11:15:00, 2023-11-05 11:20:00]|K   |67.63             |65.865            |[2023-11-05 11:10:00, 2023-11-05 11:15:00]|\n",
      "|[2023-11-05 11:15:00, 2023-11-05 11:20:00]|LEN |38.958349999999996|33.89705          |[2023-11-05 11:10:00, 2023-11-05 11:15:00]|\n",
      "|[2023-11-05 11:25:00, 2023-11-05 11:30:00]|LEN |49.676500000000004|35.5196           |[2023-11-05 11:20:00, 2023-11-05 11:25:00]|\n",
      "|[2023-11-05 11:30:00, 2023-11-05 11:35:00]|LEN |50.7353           |49.676500000000004|[2023-11-05 11:25:00, 2023-11-05 11:30:00]|\n",
      "|[2023-11-05 11:15:00, 2023-11-05 11:20:00]|SPGI|77.12             |60.16             |[2023-11-05 11:10:00, 2023-11-05 11:15:00]|\n",
      "|[2023-11-05 11:20:00, 2023-11-05 11:25:00]|SPGI|86.69             |77.12             |[2023-11-05 11:15:00, 2023-11-05 11:20:00]|\n",
      "|[2023-11-05 11:25:00, 2023-11-05 11:30:00]|SPGI|90.47             |86.69             |[2023-11-05 11:20:00, 2023-11-05 11:25:00]|\n",
      "|[2023-11-05 11:15:00, 2023-11-05 11:20:00]|AIV |29.98             |28.738            |[2023-11-05 11:10:00, 2023-11-05 11:15:00]|\n",
      "|[2023-11-05 11:25:00, 2023-11-05 11:30:00]|AIV |37.57             |29.98             |[2023-11-05 11:15:00, 2023-11-05 11:20:00]|\n",
      "|[2023-11-05 11:25:00, 2023-11-05 11:30:00]|AVY |62.78             |42.56             |[2023-11-05 11:10:00, 2023-11-05 11:15:00]|\n",
      "|[2023-11-05 11:15:00, 2023-11-05 11:20:00]|BF.B|41.9325           |35.775            |[2023-11-05 11:10:00, 2023-11-05 11:15:00]|\n",
      "|[2023-11-05 11:25:00, 2023-11-05 11:30:00]|BF.B|45.39163333333334 |41.9325           |[2023-11-05 11:15:00, 2023-11-05 11:20:00]|\n",
      "|[2023-11-05 11:30:00, 2023-11-05 11:35:00]|BF.B|51.205            |45.39163333333334 |[2023-11-05 11:25:00, 2023-11-05 11:30:00]|\n",
      "|[2023-11-05 11:10:00, 2023-11-05 11:15:00]|MMM |117.14            |105.88            |[2023-11-05 11:05:00, 2023-11-05 11:10:00]|\n",
      "|[2023-11-05 11:15:00, 2023-11-05 11:20:00]|MMM |130.59            |117.14            |[2023-11-05 11:10:00, 2023-11-05 11:15:00]|\n",
      "|[2023-11-05 11:25:00, 2023-11-05 11:30:00]|MMM |167.81            |130.59            |[2023-11-05 11:15:00, 2023-11-05 11:20:00]|\n",
      "+------------------------------------------+----+------------------+------------------+------------------------------------------+\n",
      "only showing top 20 rows\n",
      "\n",
      "-------------------------------------------\n",
      "Batch: 72\n",
      "-------------------------------------------\n",
      "+------+-----------+----------+-------------+--------------+------------------+\n",
      "|window|first_price|last_price|lastTimeStamp|firstTimeStamp|percent_value_lost|\n",
      "+------+-----------+----------+-------------+--------------+------------------+\n",
      "+------+-----------+----------+-------------+--------------+------------------+\n",
      "\n"
     ]
    },
    {
     "name": "stderr",
     "output_type": "stream",
     "text": [
      "                                                                                \r"
     ]
    },
    {
     "name": "stdout",
     "output_type": "stream",
     "text": [
      "-------------------------------------------\n",
      "Batch: 73\n",
      "-------------------------------------------\n",
      "+------+-----------+----------+-------------+--------------+------------------+\n",
      "|window|first_price|last_price|lastTimeStamp|firstTimeStamp|percent_value_lost|\n",
      "+------+-----------+----------+-------------+--------------+------------------+\n",
      "+------+-----------+----------+-------------+--------------+------------------+\n",
      "\n"
     ]
    },
    {
     "name": "stderr",
     "output_type": "stream",
     "text": [
      "                                                                                \r"
     ]
    },
    {
     "name": "stdout",
     "output_type": "stream",
     "text": [
      "+------------------------------------------+----+------------------+------------------+------------------------------------------+\n",
      "|window                                    |name|avg(price)        |previous_price    |previous_window                           |\n",
      "+------------------------------------------+----+------------------+------------------+------------------------------------------+\n",
      "|[2023-11-05 11:15:00, 2023-11-05 11:20:00]|ALXN|180.2             |108.02            |[2023-11-05 11:10:00, 2023-11-05 11:15:00]|\n",
      "|[2023-11-05 11:25:00, 2023-11-05 11:30:00]|ALXN|186.99            |164.66            |[2023-11-05 11:20:00, 2023-11-05 11:25:00]|\n",
      "|[2023-11-05 11:30:00, 2023-11-05 11:35:00]|ALXN|201.66995         |186.99            |[2023-11-05 11:25:00, 2023-11-05 11:30:00]|\n",
      "|[2023-11-05 11:20:00, 2023-11-05 11:25:00]|GIS |50.92             |48.6              |[2023-11-05 11:15:00, 2023-11-05 11:20:00]|\n",
      "|[2023-11-05 11:15:00, 2023-11-05 11:20:00]|K   |67.63             |65.865            |[2023-11-05 11:10:00, 2023-11-05 11:15:00]|\n",
      "|[2023-11-05 11:30:00, 2023-11-05 11:35:00]|K   |66.81             |62.1798           |[2023-11-05 11:25:00, 2023-11-05 11:30:00]|\n",
      "|[2023-11-05 11:15:00, 2023-11-05 11:20:00]|LEN |38.958349999999996|33.89705          |[2023-11-05 11:10:00, 2023-11-05 11:15:00]|\n",
      "|[2023-11-05 11:25:00, 2023-11-05 11:30:00]|LEN |49.676500000000004|35.5196           |[2023-11-05 11:20:00, 2023-11-05 11:25:00]|\n",
      "|[2023-11-05 11:30:00, 2023-11-05 11:35:00]|LEN |50.7353           |49.676500000000004|[2023-11-05 11:25:00, 2023-11-05 11:30:00]|\n",
      "|[2023-11-05 11:15:00, 2023-11-05 11:20:00]|SPGI|77.12             |60.16             |[2023-11-05 11:10:00, 2023-11-05 11:15:00]|\n",
      "|[2023-11-05 11:20:00, 2023-11-05 11:25:00]|SPGI|86.69             |77.12             |[2023-11-05 11:15:00, 2023-11-05 11:20:00]|\n",
      "|[2023-11-05 11:25:00, 2023-11-05 11:30:00]|SPGI|90.47             |86.69             |[2023-11-05 11:20:00, 2023-11-05 11:25:00]|\n",
      "|[2023-11-05 11:15:00, 2023-11-05 11:20:00]|AIV |29.98             |28.738            |[2023-11-05 11:10:00, 2023-11-05 11:15:00]|\n",
      "|[2023-11-05 11:25:00, 2023-11-05 11:30:00]|AIV |37.57             |29.98             |[2023-11-05 11:15:00, 2023-11-05 11:20:00]|\n",
      "|[2023-11-05 11:25:00, 2023-11-05 11:30:00]|AVY |62.78             |42.56             |[2023-11-05 11:10:00, 2023-11-05 11:15:00]|\n",
      "|[2023-11-05 11:15:00, 2023-11-05 11:20:00]|BF.B|41.9325           |35.775            |[2023-11-05 11:10:00, 2023-11-05 11:15:00]|\n",
      "|[2023-11-05 11:25:00, 2023-11-05 11:30:00]|BF.B|45.39163333333334 |41.9325           |[2023-11-05 11:15:00, 2023-11-05 11:20:00]|\n",
      "|[2023-11-05 11:30:00, 2023-11-05 11:35:00]|BF.B|51.205            |45.39163333333334 |[2023-11-05 11:25:00, 2023-11-05 11:30:00]|\n",
      "|[2023-11-05 11:10:00, 2023-11-05 11:15:00]|MMM |117.14            |105.88            |[2023-11-05 11:05:00, 2023-11-05 11:10:00]|\n",
      "|[2023-11-05 11:15:00, 2023-11-05 11:20:00]|MMM |130.59            |117.14            |[2023-11-05 11:10:00, 2023-11-05 11:15:00]|\n",
      "+------------------------------------------+----+------------------+------------------+------------------------------------------+\n",
      "only showing top 20 rows\n",
      "\n",
      "+------------------------------------------+----+-----------------+------------------+------------------------------------------+\n",
      "|window                                    |name|avg(price)       |previous_price    |previous_window                           |\n",
      "+------------------------------------------+----+-----------------+------------------+------------------------------------------+\n",
      "|[2023-11-05 11:20:00, 2023-11-05 11:25:00]|ALXN|164.66           |180.2             |[2023-11-05 11:15:00, 2023-11-05 11:20:00]|\n",
      "|[2023-11-05 11:10:00, 2023-11-05 11:15:00]|GIS |49.35666666666666|50.5207           |[2023-11-05 11:05:00, 2023-11-05 11:10:00]|\n",
      "|[2023-11-05 11:15:00, 2023-11-05 11:20:00]|GIS |48.6             |49.35666666666666 |[2023-11-05 11:10:00, 2023-11-05 11:15:00]|\n",
      "|[2023-11-05 11:20:00, 2023-11-05 11:25:00]|K   |66.23            |67.63             |[2023-11-05 11:15:00, 2023-11-05 11:20:00]|\n",
      "|[2023-11-05 11:25:00, 2023-11-05 11:30:00]|K   |62.1798          |66.23             |[2023-11-05 11:20:00, 2023-11-05 11:25:00]|\n",
      "|[2023-11-05 11:20:00, 2023-11-05 11:25:00]|LEN |35.5196          |38.958349999999996|[2023-11-05 11:15:00, 2023-11-05 11:20:00]|\n",
      "|[2023-11-05 11:30:00, 2023-11-05 11:35:00]|LEN |49.5392          |49.676500000000004|[2023-11-05 11:25:00, 2023-11-05 11:30:00]|\n",
      "|[2023-11-05 11:35:00, 2023-11-05 11:40:00]|LEN |47.4216          |49.5392           |[2023-11-05 11:30:00, 2023-11-05 11:35:00]|\n",
      "|[2023-11-05 11:35:00, 2023-11-05 11:40:00]|SPGI|92.65            |97.46             |[2023-11-05 11:30:00, 2023-11-05 11:35:00]|\n",
      "|[2023-11-05 11:10:00, 2023-11-05 11:15:00]|AIV |28.738           |30.63             |[2023-11-05 11:05:00, 2023-11-05 11:10:00]|\n",
      "|[2023-11-05 11:10:00, 2023-11-05 11:15:00]|AVY |42.56            |43.17             |[2023-11-05 11:05:00, 2023-11-05 11:10:00]|\n",
      "|[2023-11-05 11:30:00, 2023-11-05 11:35:00]|AVY |59.358           |62.78             |[2023-11-05 11:25:00, 2023-11-05 11:30:00]|\n",
      "|[2023-11-05 11:35:00, 2023-11-05 11:40:00]|BF.B|48.2725          |51.205            |[2023-11-05 11:30:00, 2023-11-05 11:35:00]|\n",
      "|[2023-11-05 11:30:00, 2023-11-05 11:35:00]|PPG |104.09           |113.25999999999999|[2023-11-05 11:25:00, 2023-11-05 11:30:00]|\n",
      "|[2023-11-05 11:25:00, 2023-11-05 11:30:00]|RF  |9.89             |10.489999999999998|[2023-11-05 11:15:00, 2023-11-05 11:20:00]|\n",
      "|[2023-11-05 11:15:00, 2023-11-05 11:20:00]|IRM |27.715           |28.79             |[2023-11-05 11:10:00, 2023-11-05 11:15:00]|\n",
      "|[2023-11-05 11:30:00, 2023-11-05 11:35:00]|IRM |30.62            |37.01             |[2023-11-05 11:25:00, 2023-11-05 11:30:00]|\n",
      "|[2023-11-05 11:30:00, 2023-11-05 11:35:00]|WEC |49.695           |50.11             |[2023-11-05 11:25:00, 2023-11-05 11:30:00]|\n",
      "|[2023-11-05 11:30:00, 2023-11-05 11:35:00]|PFG |51.45            |52.0425           |[2023-11-05 11:25:00, 2023-11-05 11:30:00]|\n",
      "|[2023-11-05 11:30:00, 2023-11-05 11:35:00]|BLK |337.74           |378.03            |[2023-11-05 11:25:00, 2023-11-05 11:30:00]|\n",
      "+------------------------------------------+----+-----------------+------------------+------------------------------------------+\n",
      "only showing top 20 rows\n",
      "\n",
      "-------------------------------------------\n",
      "Batch: 74\n",
      "-------------------------------------------\n",
      "+------+-----------+----------+-------------+--------------+------------------+\n",
      "|window|first_price|last_price|lastTimeStamp|firstTimeStamp|percent_value_lost|\n",
      "+------+-----------+----------+-------------+--------------+------------------+\n",
      "+------+-----------+----------+-------------+--------------+------------------+\n",
      "\n"
     ]
    },
    {
     "name": "stderr",
     "output_type": "stream",
     "text": [
      "                                                                                \r"
     ]
    },
    {
     "name": "stdout",
     "output_type": "stream",
     "text": [
      "-------------------------------------------\n",
      "Batch: 75\n",
      "-------------------------------------------\n",
      "+------+-----------+----------+-------------+--------------+------------------+\n",
      "|window|first_price|last_price|lastTimeStamp|firstTimeStamp|percent_value_lost|\n",
      "+------+-----------+----------+-------------+--------------+------------------+\n",
      "+------+-----------+----------+-------------+--------------+------------------+\n",
      "\n"
     ]
    },
    {
     "name": "stderr",
     "output_type": "stream",
     "text": [
      "                                                                                \r"
     ]
    },
    {
     "name": "stdout",
     "output_type": "stream",
     "text": [
      "+------------------------------------------+----+------------------+------------------+------------------------------------------+\n",
      "|window                                    |name|avg(price)        |previous_price    |previous_window                           |\n",
      "+------------------------------------------+----+------------------+------------------+------------------------------------------+\n",
      "|[2023-11-05 11:15:00, 2023-11-05 11:20:00]|ALXN|180.2             |108.02            |[2023-11-05 11:10:00, 2023-11-05 11:15:00]|\n",
      "|[2023-11-05 11:25:00, 2023-11-05 11:30:00]|ALXN|186.99            |164.66            |[2023-11-05 11:20:00, 2023-11-05 11:25:00]|\n",
      "|[2023-11-05 11:30:00, 2023-11-05 11:35:00]|ALXN|201.66995         |186.99            |[2023-11-05 11:25:00, 2023-11-05 11:30:00]|\n",
      "|[2023-11-05 11:20:00, 2023-11-05 11:25:00]|GIS |50.92             |48.6              |[2023-11-05 11:15:00, 2023-11-05 11:20:00]|\n",
      "|[2023-11-05 11:15:00, 2023-11-05 11:20:00]|K   |67.63             |65.865            |[2023-11-05 11:10:00, 2023-11-05 11:15:00]|\n",
      "|[2023-11-05 11:30:00, 2023-11-05 11:35:00]|K   |66.81             |62.1798           |[2023-11-05 11:25:00, 2023-11-05 11:30:00]|\n",
      "|[2023-11-05 11:15:00, 2023-11-05 11:20:00]|LEN |38.958349999999996|33.89705          |[2023-11-05 11:10:00, 2023-11-05 11:15:00]|\n",
      "|[2023-11-05 11:25:00, 2023-11-05 11:30:00]|LEN |49.676500000000004|35.5196           |[2023-11-05 11:20:00, 2023-11-05 11:25:00]|\n",
      "|[2023-11-05 11:30:00, 2023-11-05 11:35:00]|LEN |50.7353           |49.676500000000004|[2023-11-05 11:25:00, 2023-11-05 11:30:00]|\n",
      "|[2023-11-05 11:15:00, 2023-11-05 11:20:00]|SPGI|77.12             |60.16             |[2023-11-05 11:10:00, 2023-11-05 11:15:00]|\n",
      "|[2023-11-05 11:20:00, 2023-11-05 11:25:00]|SPGI|86.69             |77.12             |[2023-11-05 11:15:00, 2023-11-05 11:20:00]|\n",
      "|[2023-11-05 11:25:00, 2023-11-05 11:30:00]|SPGI|90.47             |86.69             |[2023-11-05 11:20:00, 2023-11-05 11:25:00]|\n",
      "|[2023-11-05 11:15:00, 2023-11-05 11:20:00]|AIV |29.98             |28.738            |[2023-11-05 11:10:00, 2023-11-05 11:15:00]|\n",
      "|[2023-11-05 11:25:00, 2023-11-05 11:30:00]|AIV |37.57             |29.98             |[2023-11-05 11:15:00, 2023-11-05 11:20:00]|\n",
      "|[2023-11-05 11:25:00, 2023-11-05 11:30:00]|AVY |62.78             |42.56             |[2023-11-05 11:10:00, 2023-11-05 11:15:00]|\n",
      "|[2023-11-05 11:15:00, 2023-11-05 11:20:00]|BF.B|41.9325           |35.775            |[2023-11-05 11:10:00, 2023-11-05 11:15:00]|\n",
      "|[2023-11-05 11:25:00, 2023-11-05 11:30:00]|BF.B|45.39163333333334 |41.9325           |[2023-11-05 11:15:00, 2023-11-05 11:20:00]|\n",
      "|[2023-11-05 11:30:00, 2023-11-05 11:35:00]|BF.B|51.205            |45.39163333333334 |[2023-11-05 11:25:00, 2023-11-05 11:30:00]|\n",
      "|[2023-11-05 11:10:00, 2023-11-05 11:15:00]|MMM |117.14            |105.88            |[2023-11-05 11:05:00, 2023-11-05 11:10:00]|\n",
      "|[2023-11-05 11:15:00, 2023-11-05 11:20:00]|MMM |130.59            |117.14            |[2023-11-05 11:10:00, 2023-11-05 11:15:00]|\n",
      "+------------------------------------------+----+------------------+------------------+------------------------------------------+\n",
      "only showing top 20 rows\n",
      "\n"
     ]
    },
    {
     "name": "stderr",
     "output_type": "stream",
     "text": [
      "                                                                                \r"
     ]
    },
    {
     "name": "stdout",
     "output_type": "stream",
     "text": [
      "-------------------------------------------\n",
      "Batch: 76\n",
      "-------------------------------------------\n",
      "+------+-----------+----------+-------------+--------------+------------------+\n",
      "|window|first_price|last_price|lastTimeStamp|firstTimeStamp|percent_value_lost|\n",
      "+------+-----------+----------+-------------+--------------+------------------+\n",
      "+------+-----------+----------+-------------+--------------+------------------+\n",
      "\n"
     ]
    },
    {
     "name": "stderr",
     "output_type": "stream",
     "text": [
      "                                                                                \r"
     ]
    },
    {
     "name": "stdout",
     "output_type": "stream",
     "text": [
      "+------------------------------------------+----+-----------------+------------------+------------------------------------------+\n",
      "|window                                    |name|avg(price)       |previous_price    |previous_window                           |\n",
      "+------------------------------------------+----+-----------------+------------------+------------------------------------------+\n",
      "|[2023-11-05 11:20:00, 2023-11-05 11:25:00]|ALXN|164.66           |180.2             |[2023-11-05 11:15:00, 2023-11-05 11:20:00]|\n",
      "|[2023-11-05 11:10:00, 2023-11-05 11:15:00]|GIS |49.35666666666666|50.5207           |[2023-11-05 11:05:00, 2023-11-05 11:10:00]|\n",
      "|[2023-11-05 11:15:00, 2023-11-05 11:20:00]|GIS |48.6             |49.35666666666666 |[2023-11-05 11:10:00, 2023-11-05 11:15:00]|\n",
      "|[2023-11-05 11:20:00, 2023-11-05 11:25:00]|K   |66.23            |67.63             |[2023-11-05 11:15:00, 2023-11-05 11:20:00]|\n",
      "|[2023-11-05 11:25:00, 2023-11-05 11:30:00]|K   |62.1798          |66.23             |[2023-11-05 11:20:00, 2023-11-05 11:25:00]|\n",
      "|[2023-11-05 11:20:00, 2023-11-05 11:25:00]|LEN |35.5196          |38.958349999999996|[2023-11-05 11:15:00, 2023-11-05 11:20:00]|\n",
      "|[2023-11-05 11:30:00, 2023-11-05 11:35:00]|LEN |49.5392          |49.676500000000004|[2023-11-05 11:25:00, 2023-11-05 11:30:00]|\n",
      "|[2023-11-05 11:35:00, 2023-11-05 11:40:00]|LEN |47.4216          |49.5392           |[2023-11-05 11:30:00, 2023-11-05 11:35:00]|\n",
      "|[2023-11-05 11:35:00, 2023-11-05 11:40:00]|SPGI|92.65            |97.46             |[2023-11-05 11:30:00, 2023-11-05 11:35:00]|\n",
      "|[2023-11-05 11:10:00, 2023-11-05 11:15:00]|AIV |28.738           |30.63             |[2023-11-05 11:05:00, 2023-11-05 11:10:00]|\n",
      "|[2023-11-05 11:10:00, 2023-11-05 11:15:00]|AVY |42.56            |43.17             |[2023-11-05 11:05:00, 2023-11-05 11:10:00]|\n",
      "|[2023-11-05 11:30:00, 2023-11-05 11:35:00]|AVY |59.358           |62.78             |[2023-11-05 11:25:00, 2023-11-05 11:30:00]|\n",
      "|[2023-11-05 11:35:00, 2023-11-05 11:40:00]|BF.B|48.2725          |51.205            |[2023-11-05 11:30:00, 2023-11-05 11:35:00]|\n",
      "|[2023-11-05 11:30:00, 2023-11-05 11:35:00]|PPG |104.09           |113.25999999999999|[2023-11-05 11:25:00, 2023-11-05 11:30:00]|\n",
      "|[2023-11-05 11:25:00, 2023-11-05 11:30:00]|RF  |9.89             |10.489999999999998|[2023-11-05 11:15:00, 2023-11-05 11:20:00]|\n",
      "|[2023-11-05 11:15:00, 2023-11-05 11:20:00]|IRM |27.715           |28.79             |[2023-11-05 11:10:00, 2023-11-05 11:15:00]|\n",
      "|[2023-11-05 11:30:00, 2023-11-05 11:35:00]|IRM |30.62            |37.01             |[2023-11-05 11:25:00, 2023-11-05 11:30:00]|\n",
      "|[2023-11-05 11:30:00, 2023-11-05 11:35:00]|WEC |49.695           |50.11             |[2023-11-05 11:25:00, 2023-11-05 11:30:00]|\n",
      "|[2023-11-05 11:30:00, 2023-11-05 11:35:00]|PFG |51.45            |52.0425           |[2023-11-05 11:25:00, 2023-11-05 11:30:00]|\n",
      "|[2023-11-05 11:30:00, 2023-11-05 11:35:00]|BLK |337.74           |378.03            |[2023-11-05 11:25:00, 2023-11-05 11:30:00]|\n",
      "+------------------------------------------+----+-----------------+------------------+------------------------------------------+\n",
      "only showing top 20 rows\n",
      "\n"
     ]
    },
    {
     "name": "stderr",
     "output_type": "stream",
     "text": [
      "                                                                                \r"
     ]
    },
    {
     "name": "stdout",
     "output_type": "stream",
     "text": [
      "-------------------------------------------\n",
      "Batch: 77\n",
      "-------------------------------------------\n",
      "+------+-----------+----------+-------------+--------------+------------------+\n",
      "|window|first_price|last_price|lastTimeStamp|firstTimeStamp|percent_value_lost|\n",
      "+------+-----------+----------+-------------+--------------+------------------+\n",
      "+------+-----------+----------+-------------+--------------+------------------+\n",
      "\n"
     ]
    },
    {
     "name": "stderr",
     "output_type": "stream",
     "text": [
      "                                                                                \r"
     ]
    },
    {
     "name": "stdout",
     "output_type": "stream",
     "text": [
      "-------------------------------------------\n",
      "Batch: 78\n",
      "-------------------------------------------\n",
      "+------+-----------+----------+-------------+--------------+------------------+\n",
      "|window|first_price|last_price|lastTimeStamp|firstTimeStamp|percent_value_lost|\n",
      "+------+-----------+----------+-------------+--------------+------------------+\n",
      "+------+-----------+----------+-------------+--------------+------------------+\n",
      "\n"
     ]
    },
    {
     "name": "stderr",
     "output_type": "stream",
     "text": [
      "[Stage 1776:(196 + 4) / 200][Stage 1782:> (0 + 0) / 2][Stage 1783:> (0 + 0) / 1]\r"
     ]
    },
    {
     "name": "stdout",
     "output_type": "stream",
     "text": [
      "+------------------------------------------+----+------------------+-----------------+------------------------------------------+\n",
      "|window                                    |name|avg(price)        |previous_price   |previous_window                           |\n",
      "+------------------------------------------+----+------------------+-----------------+------------------------------------------+\n",
      "|[2023-11-05 11:15:00, 2023-11-05 11:20:00]|ALXN|180.2             |108.02           |[2023-11-05 11:10:00, 2023-11-05 11:15:00]|\n",
      "|[2023-11-05 11:25:00, 2023-11-05 11:30:00]|ALXN|186.99            |164.66           |[2023-11-05 11:20:00, 2023-11-05 11:25:00]|\n",
      "|[2023-11-05 11:30:00, 2023-11-05 11:35:00]|ALXN|201.66995         |186.99           |[2023-11-05 11:25:00, 2023-11-05 11:30:00]|\n",
      "|[2023-11-05 11:20:00, 2023-11-05 11:25:00]|GIS |50.92             |48.6             |[2023-11-05 11:15:00, 2023-11-05 11:20:00]|\n",
      "|[2023-11-05 11:15:00, 2023-11-05 11:20:00]|K   |67.63             |65.865           |[2023-11-05 11:10:00, 2023-11-05 11:15:00]|\n",
      "|[2023-11-05 11:30:00, 2023-11-05 11:35:00]|K   |66.81             |62.1798          |[2023-11-05 11:25:00, 2023-11-05 11:30:00]|\n",
      "|[2023-11-05 11:15:00, 2023-11-05 11:20:00]|LEN |38.958349999999996|33.89705         |[2023-11-05 11:10:00, 2023-11-05 11:15:00]|\n",
      "|[2023-11-05 11:25:00, 2023-11-05 11:30:00]|LEN |49.676500000000004|35.5196          |[2023-11-05 11:20:00, 2023-11-05 11:25:00]|\n",
      "|[2023-11-05 11:15:00, 2023-11-05 11:20:00]|SPGI|77.12             |60.16            |[2023-11-05 11:10:00, 2023-11-05 11:15:00]|\n",
      "|[2023-11-05 11:20:00, 2023-11-05 11:25:00]|SPGI|86.69             |77.12            |[2023-11-05 11:15:00, 2023-11-05 11:20:00]|\n",
      "|[2023-11-05 11:25:00, 2023-11-05 11:30:00]|SPGI|90.47             |86.69            |[2023-11-05 11:20:00, 2023-11-05 11:25:00]|\n",
      "|[2023-11-05 11:30:00, 2023-11-05 11:35:00]|SPGI|97.46             |90.47            |[2023-11-05 11:25:00, 2023-11-05 11:30:00]|\n",
      "|[2023-11-05 11:15:00, 2023-11-05 11:20:00]|AIV |29.98             |28.738           |[2023-11-05 11:10:00, 2023-11-05 11:15:00]|\n",
      "|[2023-11-05 11:25:00, 2023-11-05 11:30:00]|AIV |37.57             |29.98            |[2023-11-05 11:15:00, 2023-11-05 11:20:00]|\n",
      "|[2023-11-05 11:25:00, 2023-11-05 11:30:00]|AVY |62.78             |42.56            |[2023-11-05 11:10:00, 2023-11-05 11:15:00]|\n",
      "|[2023-11-05 11:15:00, 2023-11-05 11:20:00]|BF.B|41.9325           |35.775           |[2023-11-05 11:10:00, 2023-11-05 11:15:00]|\n",
      "|[2023-11-05 11:25:00, 2023-11-05 11:30:00]|BF.B|45.39163333333334 |41.9325          |[2023-11-05 11:15:00, 2023-11-05 11:20:00]|\n",
      "|[2023-11-05 11:30:00, 2023-11-05 11:35:00]|BF.B|51.205            |45.39163333333334|[2023-11-05 11:25:00, 2023-11-05 11:30:00]|\n",
      "|[2023-11-05 11:10:00, 2023-11-05 11:15:00]|MMM |117.14            |105.88           |[2023-11-05 11:05:00, 2023-11-05 11:10:00]|\n",
      "|[2023-11-05 11:15:00, 2023-11-05 11:20:00]|MMM |130.59            |117.14           |[2023-11-05 11:10:00, 2023-11-05 11:15:00]|\n",
      "+------------------------------------------+----+------------------+-----------------+------------------------------------------+\n",
      "only showing top 20 rows\n",
      "\n"
     ]
    },
    {
     "name": "stderr",
     "output_type": "stream",
     "text": [
      "                                                                                \r"
     ]
    },
    {
     "name": "stdout",
     "output_type": "stream",
     "text": [
      "-------------------------------------------\n",
      "Batch: 79\n",
      "-------------------------------------------\n",
      "+------+-----------+----------+-------------+--------------+------------------+\n",
      "|window|first_price|last_price|lastTimeStamp|firstTimeStamp|percent_value_lost|\n",
      "+------+-----------+----------+-------------+--------------+------------------+\n",
      "+------+-----------+----------+-------------+--------------+------------------+\n",
      "\n"
     ]
    },
    {
     "name": "stderr",
     "output_type": "stream",
     "text": [
      "                                                                                \r"
     ]
    },
    {
     "name": "stdout",
     "output_type": "stream",
     "text": [
      "+------------------------------------------+----+-----------------+------------------+------------------------------------------+\n",
      "|window                                    |name|avg(price)       |previous_price    |previous_window                           |\n",
      "+------------------------------------------+----+-----------------+------------------+------------------------------------------+\n",
      "|[2023-11-05 11:20:00, 2023-11-05 11:25:00]|ALXN|164.66           |180.2             |[2023-11-05 11:15:00, 2023-11-05 11:20:00]|\n",
      "|[2023-11-05 11:10:00, 2023-11-05 11:15:00]|GIS |49.35666666666666|50.5207           |[2023-11-05 11:05:00, 2023-11-05 11:10:00]|\n",
      "|[2023-11-05 11:15:00, 2023-11-05 11:20:00]|GIS |48.6             |49.35666666666666 |[2023-11-05 11:10:00, 2023-11-05 11:15:00]|\n",
      "|[2023-11-05 11:20:00, 2023-11-05 11:25:00]|K   |66.23            |67.63             |[2023-11-05 11:15:00, 2023-11-05 11:20:00]|\n",
      "|[2023-11-05 11:25:00, 2023-11-05 11:30:00]|K   |62.1798          |66.23             |[2023-11-05 11:20:00, 2023-11-05 11:25:00]|\n",
      "|[2023-11-05 11:20:00, 2023-11-05 11:25:00]|LEN |35.5196          |38.958349999999996|[2023-11-05 11:15:00, 2023-11-05 11:20:00]|\n",
      "|[2023-11-05 11:30:00, 2023-11-05 11:35:00]|LEN |49.5392          |49.676500000000004|[2023-11-05 11:25:00, 2023-11-05 11:30:00]|\n",
      "|[2023-11-05 11:35:00, 2023-11-05 11:40:00]|LEN |47.4216          |49.5392           |[2023-11-05 11:30:00, 2023-11-05 11:35:00]|\n",
      "|[2023-11-05 11:35:00, 2023-11-05 11:40:00]|SPGI|92.65            |97.46             |[2023-11-05 11:30:00, 2023-11-05 11:35:00]|\n",
      "|[2023-11-05 11:10:00, 2023-11-05 11:15:00]|AIV |28.738           |30.63             |[2023-11-05 11:05:00, 2023-11-05 11:10:00]|\n",
      "|[2023-11-05 11:10:00, 2023-11-05 11:15:00]|AVY |42.56            |43.17             |[2023-11-05 11:05:00, 2023-11-05 11:10:00]|\n",
      "|[2023-11-05 11:30:00, 2023-11-05 11:35:00]|AVY |59.358           |62.78             |[2023-11-05 11:25:00, 2023-11-05 11:30:00]|\n",
      "|[2023-11-05 11:35:00, 2023-11-05 11:40:00]|BF.B|48.2725          |51.205            |[2023-11-05 11:30:00, 2023-11-05 11:35:00]|\n",
      "|[2023-11-05 11:30:00, 2023-11-05 11:35:00]|PPG |104.09           |113.25999999999999|[2023-11-05 11:25:00, 2023-11-05 11:30:00]|\n",
      "|[2023-11-05 11:25:00, 2023-11-05 11:30:00]|RF  |9.89             |10.489999999999998|[2023-11-05 11:15:00, 2023-11-05 11:20:00]|\n",
      "|[2023-11-05 11:15:00, 2023-11-05 11:20:00]|IRM |27.715           |28.79             |[2023-11-05 11:10:00, 2023-11-05 11:15:00]|\n",
      "|[2023-11-05 11:30:00, 2023-11-05 11:35:00]|IRM |30.62            |37.01             |[2023-11-05 11:25:00, 2023-11-05 11:30:00]|\n",
      "|[2023-11-05 11:30:00, 2023-11-05 11:35:00]|WEC |49.695           |50.11             |[2023-11-05 11:25:00, 2023-11-05 11:30:00]|\n",
      "|[2023-11-05 11:30:00, 2023-11-05 11:35:00]|PFG |51.45            |52.0425           |[2023-11-05 11:25:00, 2023-11-05 11:30:00]|\n",
      "|[2023-11-05 11:30:00, 2023-11-05 11:35:00]|BLK |337.74           |378.03            |[2023-11-05 11:25:00, 2023-11-05 11:30:00]|\n",
      "+------------------------------------------+----+-----------------+------------------+------------------------------------------+\n",
      "only showing top 20 rows\n",
      "\n"
     ]
    },
    {
     "name": "stderr",
     "output_type": "stream",
     "text": [
      "                                                                                \r"
     ]
    },
    {
     "name": "stdout",
     "output_type": "stream",
     "text": [
      "-------------------------------------------\n",
      "Batch: 80\n",
      "-------------------------------------------\n",
      "+------+-----------+----------+-------------+--------------+------------------+\n",
      "|window|first_price|last_price|lastTimeStamp|firstTimeStamp|percent_value_lost|\n",
      "+------+-----------+----------+-------------+--------------+------------------+\n",
      "+------+-----------+----------+-------------+--------------+------------------+\n",
      "\n"
     ]
    },
    {
     "name": "stderr",
     "output_type": "stream",
     "text": [
      "                                                                                \r"
     ]
    },
    {
     "name": "stdout",
     "output_type": "stream",
     "text": [
      "-------------------------------------------\n",
      "Batch: 81\n",
      "-------------------------------------------\n",
      "+------+-----------+----------+-------------+--------------+------------------+\n",
      "|window|first_price|last_price|lastTimeStamp|firstTimeStamp|percent_value_lost|\n",
      "+------+-----------+----------+-------------+--------------+------------------+\n",
      "+------+-----------+----------+-------------+--------------+------------------+\n",
      "\n"
     ]
    },
    {
     "name": "stderr",
     "output_type": "stream",
     "text": [
      "                                                                                \r"
     ]
    },
    {
     "name": "stdout",
     "output_type": "stream",
     "text": [
      "+------------------------------------------+----+------------------+-----------------+------------------------------------------+\n",
      "|window                                    |name|avg(price)        |previous_price   |previous_window                           |\n",
      "+------------------------------------------+----+------------------+-----------------+------------------------------------------+\n",
      "|[2023-11-05 11:15:00, 2023-11-05 11:20:00]|ALXN|180.2             |108.02           |[2023-11-05 11:10:00, 2023-11-05 11:15:00]|\n",
      "|[2023-11-05 11:25:00, 2023-11-05 11:30:00]|ALXN|186.99            |164.66           |[2023-11-05 11:20:00, 2023-11-05 11:25:00]|\n",
      "|[2023-11-05 11:30:00, 2023-11-05 11:35:00]|ALXN|201.66995         |186.99           |[2023-11-05 11:25:00, 2023-11-05 11:30:00]|\n",
      "|[2023-11-05 11:20:00, 2023-11-05 11:25:00]|GIS |50.92             |48.6             |[2023-11-05 11:15:00, 2023-11-05 11:20:00]|\n",
      "|[2023-11-05 11:30:00, 2023-11-05 11:35:00]|GIS |57.61             |50.92            |[2023-11-05 11:20:00, 2023-11-05 11:25:00]|\n",
      "|[2023-11-05 11:15:00, 2023-11-05 11:20:00]|K   |67.63             |65.865           |[2023-11-05 11:10:00, 2023-11-05 11:15:00]|\n",
      "|[2023-11-05 11:30:00, 2023-11-05 11:35:00]|K   |66.81             |62.1798          |[2023-11-05 11:25:00, 2023-11-05 11:30:00]|\n",
      "|[2023-11-05 11:15:00, 2023-11-05 11:20:00]|LEN |38.958349999999996|33.89705         |[2023-11-05 11:10:00, 2023-11-05 11:15:00]|\n",
      "|[2023-11-05 11:25:00, 2023-11-05 11:30:00]|LEN |49.676500000000004|35.5196          |[2023-11-05 11:20:00, 2023-11-05 11:25:00]|\n",
      "|[2023-11-05 11:15:00, 2023-11-05 11:20:00]|SPGI|77.12             |60.16            |[2023-11-05 11:10:00, 2023-11-05 11:15:00]|\n",
      "|[2023-11-05 11:20:00, 2023-11-05 11:25:00]|SPGI|86.69             |77.12            |[2023-11-05 11:15:00, 2023-11-05 11:20:00]|\n",
      "|[2023-11-05 11:25:00, 2023-11-05 11:30:00]|SPGI|90.47             |86.69            |[2023-11-05 11:20:00, 2023-11-05 11:25:00]|\n",
      "|[2023-11-05 11:30:00, 2023-11-05 11:35:00]|SPGI|97.46             |90.47            |[2023-11-05 11:25:00, 2023-11-05 11:30:00]|\n",
      "|[2023-11-05 11:15:00, 2023-11-05 11:20:00]|AIV |29.98             |28.738           |[2023-11-05 11:10:00, 2023-11-05 11:15:00]|\n",
      "|[2023-11-05 11:25:00, 2023-11-05 11:30:00]|AIV |37.57             |29.98            |[2023-11-05 11:15:00, 2023-11-05 11:20:00]|\n",
      "|[2023-11-05 11:25:00, 2023-11-05 11:30:00]|AVY |62.78             |42.56            |[2023-11-05 11:10:00, 2023-11-05 11:15:00]|\n",
      "|[2023-11-05 11:15:00, 2023-11-05 11:20:00]|BF.B|41.9325           |35.775           |[2023-11-05 11:10:00, 2023-11-05 11:15:00]|\n",
      "|[2023-11-05 11:25:00, 2023-11-05 11:30:00]|BF.B|45.39163333333334 |41.9325          |[2023-11-05 11:15:00, 2023-11-05 11:20:00]|\n",
      "|[2023-11-05 11:30:00, 2023-11-05 11:35:00]|BF.B|51.205            |45.39163333333334|[2023-11-05 11:25:00, 2023-11-05 11:30:00]|\n",
      "|[2023-11-05 11:10:00, 2023-11-05 11:15:00]|MMM |117.14            |105.88           |[2023-11-05 11:05:00, 2023-11-05 11:10:00]|\n",
      "+------------------------------------------+----+------------------+-----------------+------------------------------------------+\n",
      "only showing top 20 rows\n",
      "\n"
     ]
    },
    {
     "name": "stderr",
     "output_type": "stream",
     "text": [
      "                                                                                \r"
     ]
    },
    {
     "name": "stdout",
     "output_type": "stream",
     "text": [
      "-------------------------------------------\n",
      "Batch: 82\n",
      "-------------------------------------------\n",
      "+------+-----------+----------+-------------+--------------+------------------+\n",
      "|window|first_price|last_price|lastTimeStamp|firstTimeStamp|percent_value_lost|\n",
      "+------+-----------+----------+-------------+--------------+------------------+\n",
      "+------+-----------+----------+-------------+--------------+------------------+\n",
      "\n"
     ]
    },
    {
     "name": "stderr",
     "output_type": "stream",
     "text": [
      "                                                                                \r"
     ]
    },
    {
     "name": "stdout",
     "output_type": "stream",
     "text": [
      "+------------------------------------------+----+-----------------+------------------+------------------------------------------+\n",
      "|window                                    |name|avg(price)       |previous_price    |previous_window                           |\n",
      "+------------------------------------------+----+-----------------+------------------+------------------------------------------+\n",
      "|[2023-11-05 11:20:00, 2023-11-05 11:25:00]|ALXN|164.66           |180.2             |[2023-11-05 11:15:00, 2023-11-05 11:20:00]|\n",
      "|[2023-11-05 11:10:00, 2023-11-05 11:15:00]|GIS |49.35666666666666|50.5207           |[2023-11-05 11:05:00, 2023-11-05 11:10:00]|\n",
      "|[2023-11-05 11:15:00, 2023-11-05 11:20:00]|GIS |48.6             |49.35666666666666 |[2023-11-05 11:10:00, 2023-11-05 11:15:00]|\n",
      "|[2023-11-05 11:20:00, 2023-11-05 11:25:00]|K   |66.23            |67.63             |[2023-11-05 11:15:00, 2023-11-05 11:20:00]|\n",
      "|[2023-11-05 11:25:00, 2023-11-05 11:30:00]|K   |62.1798          |66.23             |[2023-11-05 11:20:00, 2023-11-05 11:25:00]|\n",
      "|[2023-11-05 11:20:00, 2023-11-05 11:25:00]|LEN |35.5196          |38.958349999999996|[2023-11-05 11:15:00, 2023-11-05 11:20:00]|\n",
      "|[2023-11-05 11:30:00, 2023-11-05 11:35:00]|LEN |49.5392          |49.676500000000004|[2023-11-05 11:25:00, 2023-11-05 11:30:00]|\n",
      "|[2023-11-05 11:35:00, 2023-11-05 11:40:00]|LEN |47.4216          |49.5392           |[2023-11-05 11:30:00, 2023-11-05 11:35:00]|\n",
      "|[2023-11-05 11:35:00, 2023-11-05 11:40:00]|SPGI|92.65            |97.46             |[2023-11-05 11:30:00, 2023-11-05 11:35:00]|\n",
      "|[2023-11-05 11:10:00, 2023-11-05 11:15:00]|AIV |28.738           |30.63             |[2023-11-05 11:05:00, 2023-11-05 11:10:00]|\n",
      "|[2023-11-05 11:10:00, 2023-11-05 11:15:00]|AVY |42.56            |43.17             |[2023-11-05 11:05:00, 2023-11-05 11:10:00]|\n",
      "|[2023-11-05 11:30:00, 2023-11-05 11:35:00]|AVY |59.358           |62.78             |[2023-11-05 11:25:00, 2023-11-05 11:30:00]|\n",
      "|[2023-11-05 11:35:00, 2023-11-05 11:40:00]|BF.B|48.2725          |51.205            |[2023-11-05 11:30:00, 2023-11-05 11:35:00]|\n",
      "|[2023-11-05 11:30:00, 2023-11-05 11:35:00]|PPG |104.09           |113.25999999999999|[2023-11-05 11:25:00, 2023-11-05 11:30:00]|\n",
      "|[2023-11-05 11:25:00, 2023-11-05 11:30:00]|RF  |9.89             |10.489999999999998|[2023-11-05 11:15:00, 2023-11-05 11:20:00]|\n",
      "|[2023-11-05 11:15:00, 2023-11-05 11:20:00]|IRM |27.715           |28.79             |[2023-11-05 11:10:00, 2023-11-05 11:15:00]|\n",
      "|[2023-11-05 11:30:00, 2023-11-05 11:35:00]|IRM |30.62            |37.01             |[2023-11-05 11:25:00, 2023-11-05 11:30:00]|\n",
      "|[2023-11-05 11:30:00, 2023-11-05 11:35:00]|WEC |49.695           |50.11             |[2023-11-05 11:25:00, 2023-11-05 11:30:00]|\n",
      "|[2023-11-05 11:30:00, 2023-11-05 11:35:00]|PFG |51.45            |52.0425           |[2023-11-05 11:25:00, 2023-11-05 11:30:00]|\n",
      "|[2023-11-05 11:30:00, 2023-11-05 11:35:00]|BLK |337.74           |378.03            |[2023-11-05 11:25:00, 2023-11-05 11:30:00]|\n",
      "+------------------------------------------+----+-----------------+------------------+------------------------------------------+\n",
      "only showing top 20 rows\n",
      "\n"
     ]
    },
    {
     "name": "stderr",
     "output_type": "stream",
     "text": [
      "                                                                                \r"
     ]
    },
    {
     "name": "stdout",
     "output_type": "stream",
     "text": [
      "-------------------------------------------\n",
      "Batch: 83\n",
      "-------------------------------------------\n",
      "+------------------------------------------+-----------+----------+-------------------+-------------------+-------------------+\n",
      "|window                                    |first_price|last_price|lastTimeStamp      |firstTimeStamp     |percent_value_lost |\n",
      "+------------------------------------------+-----------+----------+-------------------+-------------------+-------------------+\n",
      "|[2023-11-05 12:10:00, 2023-11-05 12:20:00]|20.67      |18.31     |2023-11-05 12:16:44|2023-11-05 12:15:14|0.11417513304305771|\n",
      "+------------------------------------------+-----------+----------+-------------------+-------------------+-------------------+\n",
      "\n"
     ]
    },
    {
     "name": "stderr",
     "output_type": "stream",
     "text": [
      "                                                                                \r"
     ]
    },
    {
     "name": "stdout",
     "output_type": "stream",
     "text": [
      "-------------------------------------------\n",
      "Batch: 84\n",
      "-------------------------------------------\n",
      "+------------------------------------------+-----------+----------+-------------------+-------------------+-------------------+\n",
      "|window                                    |first_price|last_price|lastTimeStamp      |firstTimeStamp     |percent_value_lost |\n",
      "+------------------------------------------+-----------+----------+-------------------+-------------------+-------------------+\n",
      "|[2023-11-05 12:10:00, 2023-11-05 12:20:00]|20.67      |19.525    |2023-11-05 12:17:23|2023-11-05 12:15:14|0.05539429124334799|\n",
      "+------------------------------------------+-----------+----------+-------------------+-------------------+-------------------+\n",
      "\n"
     ]
    },
    {
     "name": "stderr",
     "output_type": "stream",
     "text": [
      "                                                                                \r"
     ]
    },
    {
     "name": "stdout",
     "output_type": "stream",
     "text": [
      "+------------------------------------------+----+------------------+--------------+------------------------------------------+\n",
      "|window                                    |name|avg(price)        |previous_price|previous_window                           |\n",
      "+------------------------------------------+----+------------------+--------------+------------------------------------------+\n",
      "|[2023-11-05 11:15:00, 2023-11-05 11:20:00]|ALXN|180.2             |108.02        |[2023-11-05 11:10:00, 2023-11-05 11:15:00]|\n",
      "|[2023-11-05 11:25:00, 2023-11-05 11:30:00]|ALXN|186.99            |164.66        |[2023-11-05 11:20:00, 2023-11-05 11:25:00]|\n",
      "|[2023-11-05 11:30:00, 2023-11-05 11:35:00]|ALXN|201.66995         |186.99        |[2023-11-05 11:25:00, 2023-11-05 11:30:00]|\n",
      "|[2023-11-05 11:20:00, 2023-11-05 11:25:00]|GIS |50.92             |48.6          |[2023-11-05 11:15:00, 2023-11-05 11:20:00]|\n",
      "|[2023-11-05 11:30:00, 2023-11-05 11:35:00]|GIS |57.61             |50.92         |[2023-11-05 11:20:00, 2023-11-05 11:25:00]|\n",
      "|[2023-11-05 11:15:00, 2023-11-05 11:20:00]|K   |67.63             |65.865        |[2023-11-05 11:10:00, 2023-11-05 11:15:00]|\n",
      "|[2023-11-05 11:30:00, 2023-11-05 11:35:00]|K   |66.81             |62.1798       |[2023-11-05 11:25:00, 2023-11-05 11:30:00]|\n",
      "|[2023-11-05 11:15:00, 2023-11-05 11:20:00]|LEN |38.958349999999996|33.89705      |[2023-11-05 11:10:00, 2023-11-05 11:15:00]|\n",
      "|[2023-11-05 11:25:00, 2023-11-05 11:30:00]|LEN |49.676500000000004|35.5196       |[2023-11-05 11:20:00, 2023-11-05 11:25:00]|\n",
      "|[2023-11-05 11:15:00, 2023-11-05 11:20:00]|SPGI|77.12             |60.16         |[2023-11-05 11:10:00, 2023-11-05 11:15:00]|\n",
      "|[2023-11-05 11:20:00, 2023-11-05 11:25:00]|SPGI|86.69             |77.12         |[2023-11-05 11:15:00, 2023-11-05 11:20:00]|\n",
      "|[2023-11-05 11:25:00, 2023-11-05 11:30:00]|SPGI|90.47             |86.69         |[2023-11-05 11:20:00, 2023-11-05 11:25:00]|\n",
      "|[2023-11-05 11:30:00, 2023-11-05 11:35:00]|SPGI|97.46             |90.47         |[2023-11-05 11:25:00, 2023-11-05 11:30:00]|\n",
      "|[2023-11-05 11:15:00, 2023-11-05 11:20:00]|AIV |29.98             |28.738        |[2023-11-05 11:10:00, 2023-11-05 11:15:00]|\n",
      "|[2023-11-05 11:25:00, 2023-11-05 11:30:00]|AIV |37.57             |29.98         |[2023-11-05 11:15:00, 2023-11-05 11:20:00]|\n",
      "|[2023-11-05 11:35:00, 2023-11-05 11:40:00]|AIV |39.7              |37.57         |[2023-11-05 11:25:00, 2023-11-05 11:30:00]|\n",
      "|[2023-11-05 11:25:00, 2023-11-05 11:30:00]|AVY |62.78             |42.56         |[2023-11-05 11:10:00, 2023-11-05 11:15:00]|\n",
      "|[2023-11-05 11:35:00, 2023-11-05 11:40:00]|AVY |64.64             |59.358        |[2023-11-05 11:30:00, 2023-11-05 11:35:00]|\n",
      "|[2023-11-05 11:15:00, 2023-11-05 11:20:00]|BF.B|41.9325           |35.775        |[2023-11-05 11:10:00, 2023-11-05 11:15:00]|\n",
      "|[2023-11-05 11:25:00, 2023-11-05 11:30:00]|BF.B|45.39163333333334 |41.9325       |[2023-11-05 11:15:00, 2023-11-05 11:20:00]|\n",
      "+------------------------------------------+----+------------------+--------------+------------------------------------------+\n",
      "only showing top 20 rows\n",
      "\n"
     ]
    },
    {
     "name": "stderr",
     "output_type": "stream",
     "text": [
      "                                                                                \r"
     ]
    },
    {
     "name": "stdout",
     "output_type": "stream",
     "text": [
      "-------------------------------------------\n",
      "Batch: 85\n",
      "-------------------------------------------\n",
      "+------------------------------------------+-----------+----------+-------------------+-------------------+-------------------+\n",
      "|window                                    |first_price|last_price|lastTimeStamp      |firstTimeStamp     |percent_value_lost |\n",
      "+------------------------------------------+-----------+----------+-------------------+-------------------+-------------------+\n",
      "|[2023-11-05 12:10:00, 2023-11-05 12:20:00]|20.67      |19.525    |2023-11-05 12:17:23|2023-11-05 12:15:14|0.05539429124334799|\n",
      "+------------------------------------------+-----------+----------+-------------------+-------------------+-------------------+\n",
      "\n"
     ]
    },
    {
     "name": "stderr",
     "output_type": "stream",
     "text": [
      "                                                                                \r"
     ]
    },
    {
     "name": "stdout",
     "output_type": "stream",
     "text": [
      "+------------------------------------------+----+-----------------+------------------+------------------------------------------+\n",
      "|window                                    |name|avg(price)       |previous_price    |previous_window                           |\n",
      "+------------------------------------------+----+-----------------+------------------+------------------------------------------+\n",
      "|[2023-11-05 11:20:00, 2023-11-05 11:25:00]|ALXN|164.66           |180.2             |[2023-11-05 11:15:00, 2023-11-05 11:20:00]|\n",
      "|[2023-11-05 11:10:00, 2023-11-05 11:15:00]|GIS |49.35666666666666|50.5207           |[2023-11-05 11:05:00, 2023-11-05 11:10:00]|\n",
      "|[2023-11-05 11:15:00, 2023-11-05 11:20:00]|GIS |48.6             |49.35666666666666 |[2023-11-05 11:10:00, 2023-11-05 11:15:00]|\n",
      "|[2023-11-05 11:20:00, 2023-11-05 11:25:00]|K   |66.23            |67.63             |[2023-11-05 11:15:00, 2023-11-05 11:20:00]|\n",
      "|[2023-11-05 11:25:00, 2023-11-05 11:30:00]|K   |62.1798          |66.23             |[2023-11-05 11:20:00, 2023-11-05 11:25:00]|\n",
      "|[2023-11-05 11:20:00, 2023-11-05 11:25:00]|LEN |35.5196          |38.958349999999996|[2023-11-05 11:15:00, 2023-11-05 11:20:00]|\n",
      "|[2023-11-05 11:30:00, 2023-11-05 11:35:00]|LEN |49.5392          |49.676500000000004|[2023-11-05 11:25:00, 2023-11-05 11:30:00]|\n",
      "|[2023-11-05 11:35:00, 2023-11-05 11:40:00]|LEN |47.4216          |49.5392           |[2023-11-05 11:30:00, 2023-11-05 11:35:00]|\n",
      "|[2023-11-05 11:40:00, 2023-11-05 11:45:00]|LEN |46.4265          |47.4216           |[2023-11-05 11:35:00, 2023-11-05 11:40:00]|\n",
      "|[2023-11-05 11:35:00, 2023-11-05 11:40:00]|SPGI|92.65            |97.46             |[2023-11-05 11:30:00, 2023-11-05 11:35:00]|\n",
      "|[2023-11-05 11:10:00, 2023-11-05 11:15:00]|AIV |28.738           |30.63             |[2023-11-05 11:05:00, 2023-11-05 11:10:00]|\n",
      "|[2023-11-05 11:10:00, 2023-11-05 11:15:00]|AVY |42.56            |43.17             |[2023-11-05 11:05:00, 2023-11-05 11:10:00]|\n",
      "|[2023-11-05 11:30:00, 2023-11-05 11:35:00]|AVY |59.358           |62.78             |[2023-11-05 11:25:00, 2023-11-05 11:30:00]|\n",
      "|[2023-11-05 11:35:00, 2023-11-05 11:40:00]|BF.B|48.2725          |51.205            |[2023-11-05 11:30:00, 2023-11-05 11:35:00]|\n",
      "|[2023-11-05 11:30:00, 2023-11-05 11:35:00]|PPG |104.09           |113.25999999999999|[2023-11-05 11:25:00, 2023-11-05 11:30:00]|\n",
      "|[2023-11-05 11:25:00, 2023-11-05 11:30:00]|RF  |9.89             |10.489999999999998|[2023-11-05 11:15:00, 2023-11-05 11:20:00]|\n",
      "|[2023-11-05 11:15:00, 2023-11-05 11:20:00]|IRM |27.715           |28.79             |[2023-11-05 11:10:00, 2023-11-05 11:15:00]|\n",
      "|[2023-11-05 11:30:00, 2023-11-05 11:35:00]|IRM |30.62            |37.01             |[2023-11-05 11:25:00, 2023-11-05 11:30:00]|\n",
      "|[2023-11-05 11:30:00, 2023-11-05 11:35:00]|WEC |49.695           |50.11             |[2023-11-05 11:25:00, 2023-11-05 11:30:00]|\n",
      "|[2023-11-05 11:30:00, 2023-11-05 11:35:00]|PFG |51.45            |52.0425           |[2023-11-05 11:25:00, 2023-11-05 11:30:00]|\n",
      "+------------------------------------------+----+-----------------+------------------+------------------------------------------+\n",
      "only showing top 20 rows\n",
      "\n"
     ]
    },
    {
     "name": "stderr",
     "output_type": "stream",
     "text": [
      "                                                                                \r"
     ]
    },
    {
     "name": "stdout",
     "output_type": "stream",
     "text": [
      "-------------------------------------------\n",
      "Batch: 86\n",
      "-------------------------------------------\n",
      "+------------------------------------------+-----------+----------+-------------------+-------------------+-------------------+\n",
      "|window                                    |first_price|last_price|lastTimeStamp      |firstTimeStamp     |percent_value_lost |\n",
      "+------------------------------------------+-----------+----------+-------------------+-------------------+-------------------+\n",
      "|[2023-11-05 12:10:00, 2023-11-05 12:20:00]|20.67      |19.525    |2023-11-05 12:17:23|2023-11-05 12:15:14|0.05539429124334799|\n",
      "+------------------------------------------+-----------+----------+-------------------+-------------------+-------------------+\n",
      "\n"
     ]
    },
    {
     "name": "stderr",
     "output_type": "stream",
     "text": [
      "                                                                                \r"
     ]
    },
    {
     "name": "stdout",
     "output_type": "stream",
     "text": [
      "-------------------------------------------\n",
      "Batch: 87\n",
      "-------------------------------------------\n",
      "+------------------------------------------+-----------+----------+-------------------+-------------------+-------------------+\n",
      "|window                                    |first_price|last_price|lastTimeStamp      |firstTimeStamp     |percent_value_lost |\n",
      "+------------------------------------------+-----------+----------+-------------------+-------------------+-------------------+\n",
      "|[2023-11-05 12:10:00, 2023-11-05 12:20:00]|20.67      |19.525    |2023-11-05 12:17:23|2023-11-05 12:15:14|0.05539429124334799|\n",
      "+------------------------------------------+-----------+----------+-------------------+-------------------+-------------------+\n",
      "\n"
     ]
    },
    {
     "name": "stderr",
     "output_type": "stream",
     "text": [
      "                                                                                \r"
     ]
    },
    {
     "name": "stdout",
     "output_type": "stream",
     "text": [
      "+------------------------------------------+----+------------------+--------------+------------------------------------------+\n",
      "|window                                    |name|avg(price)        |previous_price|previous_window                           |\n",
      "+------------------------------------------+----+------------------+--------------+------------------------------------------+\n",
      "|[2023-11-05 11:15:00, 2023-11-05 11:20:00]|ALXN|180.2             |108.02        |[2023-11-05 11:10:00, 2023-11-05 11:15:00]|\n",
      "|[2023-11-05 11:25:00, 2023-11-05 11:30:00]|ALXN|186.99            |164.66        |[2023-11-05 11:20:00, 2023-11-05 11:25:00]|\n",
      "|[2023-11-05 11:30:00, 2023-11-05 11:35:00]|ALXN|201.66995         |186.99        |[2023-11-05 11:25:00, 2023-11-05 11:30:00]|\n",
      "|[2023-11-05 11:20:00, 2023-11-05 11:25:00]|GIS |50.92             |48.6          |[2023-11-05 11:15:00, 2023-11-05 11:20:00]|\n",
      "|[2023-11-05 11:30:00, 2023-11-05 11:35:00]|GIS |57.61             |50.92         |[2023-11-05 11:20:00, 2023-11-05 11:25:00]|\n",
      "|[2023-11-05 11:15:00, 2023-11-05 11:20:00]|K   |67.63             |65.865        |[2023-11-05 11:10:00, 2023-11-05 11:15:00]|\n",
      "|[2023-11-05 11:30:00, 2023-11-05 11:35:00]|K   |66.81             |62.1798       |[2023-11-05 11:25:00, 2023-11-05 11:30:00]|\n",
      "|[2023-11-05 11:15:00, 2023-11-05 11:20:00]|LEN |38.958349999999996|33.89705      |[2023-11-05 11:10:00, 2023-11-05 11:15:00]|\n",
      "|[2023-11-05 11:25:00, 2023-11-05 11:30:00]|LEN |49.676500000000004|35.5196       |[2023-11-05 11:20:00, 2023-11-05 11:25:00]|\n",
      "|[2023-11-05 11:15:00, 2023-11-05 11:20:00]|SPGI|77.12             |60.16         |[2023-11-05 11:10:00, 2023-11-05 11:15:00]|\n",
      "|[2023-11-05 11:20:00, 2023-11-05 11:25:00]|SPGI|86.69             |77.12         |[2023-11-05 11:15:00, 2023-11-05 11:20:00]|\n",
      "|[2023-11-05 11:25:00, 2023-11-05 11:30:00]|SPGI|90.47             |86.69         |[2023-11-05 11:20:00, 2023-11-05 11:25:00]|\n",
      "|[2023-11-05 11:30:00, 2023-11-05 11:35:00]|SPGI|97.46             |90.47         |[2023-11-05 11:25:00, 2023-11-05 11:30:00]|\n",
      "|[2023-11-05 11:15:00, 2023-11-05 11:20:00]|AIV |29.98             |28.738        |[2023-11-05 11:10:00, 2023-11-05 11:15:00]|\n",
      "|[2023-11-05 11:25:00, 2023-11-05 11:30:00]|AIV |37.57             |29.98         |[2023-11-05 11:15:00, 2023-11-05 11:20:00]|\n",
      "|[2023-11-05 11:35:00, 2023-11-05 11:40:00]|AIV |39.7              |37.57         |[2023-11-05 11:25:00, 2023-11-05 11:30:00]|\n",
      "|[2023-11-05 11:25:00, 2023-11-05 11:30:00]|AVY |62.78             |42.56         |[2023-11-05 11:10:00, 2023-11-05 11:15:00]|\n",
      "|[2023-11-05 11:35:00, 2023-11-05 11:40:00]|AVY |64.64             |59.358        |[2023-11-05 11:30:00, 2023-11-05 11:35:00]|\n",
      "|[2023-11-05 11:15:00, 2023-11-05 11:20:00]|BF.B|41.9325           |35.775        |[2023-11-05 11:10:00, 2023-11-05 11:15:00]|\n",
      "|[2023-11-05 11:25:00, 2023-11-05 11:30:00]|BF.B|45.39163333333334 |41.9325       |[2023-11-05 11:15:00, 2023-11-05 11:20:00]|\n",
      "+------------------------------------------+----+------------------+--------------+------------------------------------------+\n",
      "only showing top 20 rows\n",
      "\n"
     ]
    },
    {
     "name": "stderr",
     "output_type": "stream",
     "text": [
      "                                                                                \r"
     ]
    },
    {
     "name": "stdout",
     "output_type": "stream",
     "text": [
      "-------------------------------------------\n",
      "Batch: 88\n",
      "-------------------------------------------\n",
      "+------------------------------------------+----+-----------------+------------------+------------------------------------------+\n",
      "|window                                    |name|avg(price)       |previous_price    |previous_window                           |\n",
      "+------------------------------------------+----+-----------------+------------------+------------------------------------------+\n",
      "|[2023-11-05 11:20:00, 2023-11-05 11:25:00]|ALXN|164.66           |180.2             |[2023-11-05 11:15:00, 2023-11-05 11:20:00]|\n",
      "|[2023-11-05 11:10:00, 2023-11-05 11:15:00]|GIS |49.35666666666666|50.5207           |[2023-11-05 11:05:00, 2023-11-05 11:10:00]|\n",
      "|[2023-11-05 11:15:00, 2023-11-05 11:20:00]|GIS |48.6             |49.35666666666666 |[2023-11-05 11:10:00, 2023-11-05 11:15:00]|\n",
      "|[2023-11-05 11:20:00, 2023-11-05 11:25:00]|K   |66.23            |67.63             |[2023-11-05 11:15:00, 2023-11-05 11:20:00]|\n",
      "|[2023-11-05 11:25:00, 2023-11-05 11:30:00]|K   |62.1798          |66.23             |[2023-11-05 11:20:00, 2023-11-05 11:25:00]|\n",
      "|[2023-11-05 11:20:00, 2023-11-05 11:25:00]|LEN |35.5196          |38.958349999999996|[2023-11-05 11:15:00, 2023-11-05 11:20:00]|\n",
      "|[2023-11-05 11:30:00, 2023-11-05 11:35:00]|LEN |49.5392          |49.676500000000004|[2023-11-05 11:25:00, 2023-11-05 11:30:00]|\n",
      "|[2023-11-05 11:35:00, 2023-11-05 11:40:00]|LEN |47.4216          |49.5392           |[2023-11-05 11:30:00, 2023-11-05 11:35:00]|\n",
      "|[2023-11-05 11:40:00, 2023-11-05 11:45:00]|LEN |46.4265          |47.4216           |[2023-11-05 11:35:00, 2023-11-05 11:40:00]|\n",
      "|[2023-11-05 11:35:00, 2023-11-05 11:40:00]|SPGI|92.65            |97.46             |[2023-11-05 11:30:00, 2023-11-05 11:35:00]|\n",
      "|[2023-11-05 11:10:00, 2023-11-05 11:15:00]|AIV |28.738           |30.63             |[2023-11-05 11:05:00, 2023-11-05 11:10:00]|\n",
      "|[2023-11-05 11:10:00, 2023-11-05 11:15:00]|AVY |42.56            |43.17             |[2023-11-05 11:05:00, 2023-11-05 11:10:00]|\n",
      "|[2023-11-05 11:30:00, 2023-11-05 11:35:00]|AVY |59.358           |62.78             |[2023-11-05 11:25:00, 2023-11-05 11:30:00]|\n",
      "|[2023-11-05 11:35:00, 2023-11-05 11:40:00]|BF.B|48.2725          |51.205            |[2023-11-05 11:30:00, 2023-11-05 11:35:00]|\n",
      "|[2023-11-05 11:40:00, 2023-11-05 11:45:00]|BF.B|47.435           |48.2725           |[2023-11-05 11:35:00, 2023-11-05 11:40:00]|\n",
      "|[2023-11-05 11:30:00, 2023-11-05 11:35:00]|PPG |104.09           |113.25999999999999|[2023-11-05 11:25:00, 2023-11-05 11:30:00]|\n",
      "|[2023-11-05 11:25:00, 2023-11-05 11:30:00]|RF  |9.89             |10.489999999999998|[2023-11-05 11:15:00, 2023-11-05 11:20:00]|\n",
      "|[2023-11-05 11:15:00, 2023-11-05 11:20:00]|IRM |27.715           |28.79             |[2023-11-05 11:10:00, 2023-11-05 11:15:00]|\n",
      "|[2023-11-05 11:30:00, 2023-11-05 11:35:00]|IRM |30.62            |37.01             |[2023-11-05 11:25:00, 2023-11-05 11:30:00]|\n",
      "|[2023-11-05 11:30:00, 2023-11-05 11:35:00]|WEC |49.695           |50.11             |[2023-11-05 11:25:00, 2023-11-05 11:30:00]|\n",
      "+------------------------------------------+----+-----------------+------------------+------------------------------------------+\n",
      "only showing top 20 rows\n",
      "\n",
      "+------------------------------------------+-----------+----------+-------------------+-------------------+-------------------+\n",
      "|window                                    |first_price|last_price|lastTimeStamp      |firstTimeStamp     |percent_value_lost |\n",
      "+------------------------------------------+-----------+----------+-------------------+-------------------+-------------------+\n",
      "|[2023-11-05 12:10:00, 2023-11-05 12:20:00]|20.67      |19.525    |2023-11-05 12:17:23|2023-11-05 12:15:14|0.05539429124334799|\n",
      "+------------------------------------------+-----------+----------+-------------------+-------------------+-------------------+\n",
      "\n"
     ]
    },
    {
     "name": "stderr",
     "output_type": "stream",
     "text": [
      "                                                                                \r"
     ]
    },
    {
     "name": "stdout",
     "output_type": "stream",
     "text": [
      "-------------------------------------------\n",
      "Batch: 89\n",
      "-------------------------------------------\n",
      "+------------------------------------------+-----------+----------+-------------------+-------------------+-------------------+\n",
      "|window                                    |first_price|last_price|lastTimeStamp      |firstTimeStamp     |percent_value_lost |\n",
      "+------------------------------------------+-----------+----------+-------------------+-------------------+-------------------+\n",
      "|[2023-11-05 12:10:00, 2023-11-05 12:20:00]|20.67      |19.525    |2023-11-05 12:17:23|2023-11-05 12:15:14|0.05539429124334799|\n",
      "+------------------------------------------+-----------+----------+-------------------+-------------------+-------------------+\n",
      "\n"
     ]
    },
    {
     "name": "stderr",
     "output_type": "stream",
     "text": [
      "                                                                                \r"
     ]
    },
    {
     "name": "stdout",
     "output_type": "stream",
     "text": [
      "+------------------------------------------+----+------------------+--------------+------------------------------------------+\n",
      "|window                                    |name|avg(price)        |previous_price|previous_window                           |\n",
      "+------------------------------------------+----+------------------+--------------+------------------------------------------+\n",
      "|[2023-11-05 11:15:00, 2023-11-05 11:20:00]|ALXN|180.2             |108.02        |[2023-11-05 11:10:00, 2023-11-05 11:15:00]|\n",
      "|[2023-11-05 11:25:00, 2023-11-05 11:30:00]|ALXN|186.99            |164.66        |[2023-11-05 11:20:00, 2023-11-05 11:25:00]|\n",
      "|[2023-11-05 11:30:00, 2023-11-05 11:35:00]|ALXN|201.66995         |186.99        |[2023-11-05 11:25:00, 2023-11-05 11:30:00]|\n",
      "|[2023-11-05 11:20:00, 2023-11-05 11:25:00]|GIS |50.92             |48.6          |[2023-11-05 11:15:00, 2023-11-05 11:20:00]|\n",
      "|[2023-11-05 11:30:00, 2023-11-05 11:35:00]|GIS |57.61             |50.92         |[2023-11-05 11:20:00, 2023-11-05 11:25:00]|\n",
      "|[2023-11-05 11:15:00, 2023-11-05 11:20:00]|K   |67.63             |65.865        |[2023-11-05 11:10:00, 2023-11-05 11:15:00]|\n",
      "|[2023-11-05 11:30:00, 2023-11-05 11:35:00]|K   |66.81             |62.1798       |[2023-11-05 11:25:00, 2023-11-05 11:30:00]|\n",
      "|[2023-11-05 11:15:00, 2023-11-05 11:20:00]|LEN |38.958349999999996|33.89705      |[2023-11-05 11:10:00, 2023-11-05 11:15:00]|\n",
      "|[2023-11-05 11:25:00, 2023-11-05 11:30:00]|LEN |49.676500000000004|35.5196       |[2023-11-05 11:20:00, 2023-11-05 11:25:00]|\n",
      "|[2023-11-05 11:15:00, 2023-11-05 11:20:00]|SPGI|77.12             |60.16         |[2023-11-05 11:10:00, 2023-11-05 11:15:00]|\n",
      "|[2023-11-05 11:20:00, 2023-11-05 11:25:00]|SPGI|86.69             |77.12         |[2023-11-05 11:15:00, 2023-11-05 11:20:00]|\n",
      "|[2023-11-05 11:25:00, 2023-11-05 11:30:00]|SPGI|90.47             |86.69         |[2023-11-05 11:20:00, 2023-11-05 11:25:00]|\n",
      "|[2023-11-05 11:30:00, 2023-11-05 11:35:00]|SPGI|97.46             |90.47         |[2023-11-05 11:25:00, 2023-11-05 11:30:00]|\n",
      "|[2023-11-05 11:15:00, 2023-11-05 11:20:00]|AIV |29.98             |28.738        |[2023-11-05 11:10:00, 2023-11-05 11:15:00]|\n",
      "|[2023-11-05 11:25:00, 2023-11-05 11:30:00]|AIV |37.57             |29.98         |[2023-11-05 11:15:00, 2023-11-05 11:20:00]|\n",
      "|[2023-11-05 11:35:00, 2023-11-05 11:40:00]|AIV |39.7              |37.57         |[2023-11-05 11:25:00, 2023-11-05 11:30:00]|\n",
      "|[2023-11-05 11:25:00, 2023-11-05 11:30:00]|AVY |62.78             |42.56         |[2023-11-05 11:10:00, 2023-11-05 11:15:00]|\n",
      "|[2023-11-05 11:35:00, 2023-11-05 11:40:00]|AVY |65.58500000000001 |59.358        |[2023-11-05 11:30:00, 2023-11-05 11:35:00]|\n",
      "|[2023-11-05 11:15:00, 2023-11-05 11:20:00]|BF.B|41.9325           |35.775        |[2023-11-05 11:10:00, 2023-11-05 11:15:00]|\n",
      "|[2023-11-05 11:25:00, 2023-11-05 11:30:00]|BF.B|45.39163333333334 |41.9325       |[2023-11-05 11:15:00, 2023-11-05 11:20:00]|\n",
      "+------------------------------------------+----+------------------+--------------+------------------------------------------+\n",
      "only showing top 20 rows\n",
      "\n",
      "+------------------------------------------+----+-----------------+------------------+------------------------------------------+\n",
      "|window                                    |name|avg(price)       |previous_price    |previous_window                           |\n",
      "+------------------------------------------+----+-----------------+------------------+------------------------------------------+\n",
      "|[2023-11-05 11:20:00, 2023-11-05 11:25:00]|ALXN|164.66           |180.2             |[2023-11-05 11:15:00, 2023-11-05 11:20:00]|\n",
      "|[2023-11-05 11:10:00, 2023-11-05 11:15:00]|GIS |49.35666666666666|50.5207           |[2023-11-05 11:05:00, 2023-11-05 11:10:00]|\n",
      "|[2023-11-05 11:15:00, 2023-11-05 11:20:00]|GIS |48.6             |49.35666666666666 |[2023-11-05 11:10:00, 2023-11-05 11:15:00]|\n",
      "|[2023-11-05 11:20:00, 2023-11-05 11:25:00]|K   |66.23            |67.63             |[2023-11-05 11:15:00, 2023-11-05 11:20:00]|\n",
      "|[2023-11-05 11:25:00, 2023-11-05 11:30:00]|K   |62.1798          |66.23             |[2023-11-05 11:20:00, 2023-11-05 11:25:00]|\n",
      "|[2023-11-05 11:20:00, 2023-11-05 11:25:00]|LEN |35.5196          |38.958349999999996|[2023-11-05 11:15:00, 2023-11-05 11:20:00]|\n",
      "|[2023-11-05 11:30:00, 2023-11-05 11:35:00]|LEN |49.5392          |49.676500000000004|[2023-11-05 11:25:00, 2023-11-05 11:30:00]|\n",
      "|[2023-11-05 11:35:00, 2023-11-05 11:40:00]|LEN |47.4216          |49.5392           |[2023-11-05 11:30:00, 2023-11-05 11:35:00]|\n",
      "|[2023-11-05 11:40:00, 2023-11-05 11:45:00]|LEN |46.4265          |47.4216           |[2023-11-05 11:35:00, 2023-11-05 11:40:00]|\n",
      "|[2023-11-05 11:35:00, 2023-11-05 11:40:00]|SPGI|92.65            |97.46             |[2023-11-05 11:30:00, 2023-11-05 11:35:00]|\n",
      "|[2023-11-05 11:10:00, 2023-11-05 11:15:00]|AIV |28.738           |30.63             |[2023-11-05 11:05:00, 2023-11-05 11:10:00]|\n",
      "|[2023-11-05 11:10:00, 2023-11-05 11:15:00]|AVY |42.56            |43.17             |[2023-11-05 11:05:00, 2023-11-05 11:10:00]|\n",
      "|[2023-11-05 11:30:00, 2023-11-05 11:35:00]|AVY |59.358           |62.78             |[2023-11-05 11:25:00, 2023-11-05 11:30:00]|\n",
      "|[2023-11-05 11:35:00, 2023-11-05 11:40:00]|BF.B|48.2725          |51.205            |[2023-11-05 11:30:00, 2023-11-05 11:35:00]|\n",
      "|[2023-11-05 11:40:00, 2023-11-05 11:45:00]|BF.B|46.98415         |48.2725           |[2023-11-05 11:35:00, 2023-11-05 11:40:00]|\n",
      "|[2023-11-05 11:30:00, 2023-11-05 11:35:00]|PPG |104.09           |113.25999999999999|[2023-11-05 11:25:00, 2023-11-05 11:30:00]|\n",
      "|[2023-11-05 11:25:00, 2023-11-05 11:30:00]|RF  |9.89             |10.489999999999998|[2023-11-05 11:15:00, 2023-11-05 11:20:00]|\n",
      "|[2023-11-05 11:40:00, 2023-11-05 11:45:00]|RF  |9.79             |9.956666666666667 |[2023-11-05 11:30:00, 2023-11-05 11:35:00]|\n",
      "|[2023-11-05 11:15:00, 2023-11-05 11:20:00]|IRM |27.715           |28.79             |[2023-11-05 11:10:00, 2023-11-05 11:15:00]|\n",
      "|[2023-11-05 11:30:00, 2023-11-05 11:35:00]|IRM |30.62            |37.01             |[2023-11-05 11:25:00, 2023-11-05 11:30:00]|\n",
      "+------------------------------------------+----+-----------------+------------------+------------------------------------------+\n",
      "only showing top 20 rows\n",
      "\n",
      "-------------------------------------------\n",
      "Batch: 90\n",
      "-------------------------------------------\n",
      "+------------------------------------------+-----------+----------+-------------------+-------------------+-------------------+\n",
      "|window                                    |first_price|last_price|lastTimeStamp      |firstTimeStamp     |percent_value_lost |\n",
      "+------------------------------------------+-----------+----------+-------------------+-------------------+-------------------+\n",
      "|[2023-11-05 12:10:00, 2023-11-05 12:20:00]|20.67      |19.525    |2023-11-05 12:17:23|2023-11-05 12:15:14|0.05539429124334799|\n",
      "+------------------------------------------+-----------+----------+-------------------+-------------------+-------------------+\n",
      "\n"
     ]
    },
    {
     "name": "stderr",
     "output_type": "stream",
     "text": [
      "                                                                                \r"
     ]
    },
    {
     "name": "stdout",
     "output_type": "stream",
     "text": [
      "-------------------------------------------\n",
      "Batch: 91\n",
      "-------------------------------------------\n",
      "+------------------------------------------+-----------+----------+-------------------+-------------------+-------------------+\n",
      "|window                                    |first_price|last_price|lastTimeStamp      |firstTimeStamp     |percent_value_lost |\n",
      "+------------------------------------------+-----------+----------+-------------------+-------------------+-------------------+\n",
      "|[2023-11-05 12:10:00, 2023-11-05 12:20:00]|20.67      |19.525    |2023-11-05 12:17:23|2023-11-05 12:15:14|0.05539429124334799|\n",
      "+------------------------------------------+-----------+----------+-------------------+-------------------+-------------------+\n",
      "\n"
     ]
    },
    {
     "name": "stderr",
     "output_type": "stream",
     "text": [
      "                                                                                \r"
     ]
    },
    {
     "name": "stdout",
     "output_type": "stream",
     "text": [
      "+------------------------------------------+----+------------------+--------------+------------------------------------------+\n",
      "|window                                    |name|avg(price)        |previous_price|previous_window                           |\n",
      "+------------------------------------------+----+------------------+--------------+------------------------------------------+\n",
      "|[2023-11-05 11:15:00, 2023-11-05 11:20:00]|ALXN|180.2             |108.02        |[2023-11-05 11:10:00, 2023-11-05 11:15:00]|\n",
      "|[2023-11-05 11:25:00, 2023-11-05 11:30:00]|ALXN|186.99            |164.66        |[2023-11-05 11:20:00, 2023-11-05 11:25:00]|\n",
      "|[2023-11-05 11:30:00, 2023-11-05 11:35:00]|ALXN|201.66995         |186.99        |[2023-11-05 11:25:00, 2023-11-05 11:30:00]|\n",
      "|[2023-11-05 11:20:00, 2023-11-05 11:25:00]|GIS |50.92             |48.6          |[2023-11-05 11:15:00, 2023-11-05 11:20:00]|\n",
      "|[2023-11-05 11:30:00, 2023-11-05 11:35:00]|GIS |57.61             |50.92         |[2023-11-05 11:20:00, 2023-11-05 11:25:00]|\n",
      "|[2023-11-05 11:15:00, 2023-11-05 11:20:00]|K   |67.63             |65.865        |[2023-11-05 11:10:00, 2023-11-05 11:15:00]|\n",
      "|[2023-11-05 11:30:00, 2023-11-05 11:35:00]|K   |66.81             |62.1798       |[2023-11-05 11:25:00, 2023-11-05 11:30:00]|\n",
      "|[2023-11-05 11:15:00, 2023-11-05 11:20:00]|LEN |38.958349999999996|33.89705      |[2023-11-05 11:10:00, 2023-11-05 11:15:00]|\n",
      "|[2023-11-05 11:25:00, 2023-11-05 11:30:00]|LEN |49.676500000000004|35.5196       |[2023-11-05 11:20:00, 2023-11-05 11:25:00]|\n",
      "|[2023-11-05 11:15:00, 2023-11-05 11:20:00]|SPGI|77.12             |60.16         |[2023-11-05 11:10:00, 2023-11-05 11:15:00]|\n",
      "|[2023-11-05 11:20:00, 2023-11-05 11:25:00]|SPGI|86.69             |77.12         |[2023-11-05 11:15:00, 2023-11-05 11:20:00]|\n",
      "|[2023-11-05 11:25:00, 2023-11-05 11:30:00]|SPGI|90.47             |86.69         |[2023-11-05 11:20:00, 2023-11-05 11:25:00]|\n",
      "|[2023-11-05 11:30:00, 2023-11-05 11:35:00]|SPGI|97.46             |90.47         |[2023-11-05 11:25:00, 2023-11-05 11:30:00]|\n",
      "|[2023-11-05 11:15:00, 2023-11-05 11:20:00]|AIV |29.98             |28.738        |[2023-11-05 11:10:00, 2023-11-05 11:15:00]|\n",
      "|[2023-11-05 11:25:00, 2023-11-05 11:30:00]|AIV |37.57             |29.98         |[2023-11-05 11:15:00, 2023-11-05 11:20:00]|\n",
      "|[2023-11-05 11:35:00, 2023-11-05 11:40:00]|AIV |39.7              |37.57         |[2023-11-05 11:25:00, 2023-11-05 11:30:00]|\n",
      "|[2023-11-05 11:25:00, 2023-11-05 11:30:00]|AVY |62.78             |42.56         |[2023-11-05 11:10:00, 2023-11-05 11:15:00]|\n",
      "|[2023-11-05 11:35:00, 2023-11-05 11:40:00]|AVY |65.58500000000001 |59.358        |[2023-11-05 11:30:00, 2023-11-05 11:35:00]|\n",
      "|[2023-11-05 11:15:00, 2023-11-05 11:20:00]|BF.B|41.9325           |35.775        |[2023-11-05 11:10:00, 2023-11-05 11:15:00]|\n",
      "|[2023-11-05 11:25:00, 2023-11-05 11:30:00]|BF.B|45.39163333333334 |41.9325       |[2023-11-05 11:15:00, 2023-11-05 11:20:00]|\n",
      "+------------------------------------------+----+------------------+--------------+------------------------------------------+\n",
      "only showing top 20 rows\n",
      "\n"
     ]
    },
    {
     "name": "stderr",
     "output_type": "stream",
     "text": [
      "                                                                                \r"
     ]
    },
    {
     "name": "stdout",
     "output_type": "stream",
     "text": [
      "-------------------------------------------\n",
      "Batch: 92\n",
      "-------------------------------------------\n",
      "+------------------------------------------+-----------+----------+-------------------+-------------------+-------------------+\n",
      "|window                                    |first_price|last_price|lastTimeStamp      |firstTimeStamp     |percent_value_lost |\n",
      "+------------------------------------------+-----------+----------+-------------------+-------------------+-------------------+\n",
      "|[2023-11-05 12:10:00, 2023-11-05 12:20:00]|20.67      |19.525    |2023-11-05 12:17:23|2023-11-05 12:15:14|0.05539429124334799|\n",
      "+------------------------------------------+-----------+----------+-------------------+-------------------+-------------------+\n",
      "\n"
     ]
    },
    {
     "name": "stderr",
     "output_type": "stream",
     "text": [
      "                                                                                \r"
     ]
    },
    {
     "name": "stdout",
     "output_type": "stream",
     "text": [
      "+------------------------------------------+----+-----------------+------------------+------------------------------------------+\n",
      "|window                                    |name|avg(price)       |previous_price    |previous_window                           |\n",
      "+------------------------------------------+----+-----------------+------------------+------------------------------------------+\n",
      "|[2023-11-05 11:20:00, 2023-11-05 11:25:00]|ALXN|164.66           |180.2             |[2023-11-05 11:15:00, 2023-11-05 11:20:00]|\n",
      "|[2023-11-05 11:10:00, 2023-11-05 11:15:00]|GIS |49.35666666666666|50.5207           |[2023-11-05 11:05:00, 2023-11-05 11:10:00]|\n",
      "|[2023-11-05 11:15:00, 2023-11-05 11:20:00]|GIS |48.6             |49.35666666666666 |[2023-11-05 11:10:00, 2023-11-05 11:15:00]|\n",
      "|[2023-11-05 11:20:00, 2023-11-05 11:25:00]|K   |66.23            |67.63             |[2023-11-05 11:15:00, 2023-11-05 11:20:00]|\n",
      "|[2023-11-05 11:25:00, 2023-11-05 11:30:00]|K   |62.1798          |66.23             |[2023-11-05 11:20:00, 2023-11-05 11:25:00]|\n",
      "|[2023-11-05 11:20:00, 2023-11-05 11:25:00]|LEN |35.5196          |38.958349999999996|[2023-11-05 11:15:00, 2023-11-05 11:20:00]|\n",
      "|[2023-11-05 11:30:00, 2023-11-05 11:35:00]|LEN |49.5392          |49.676500000000004|[2023-11-05 11:25:00, 2023-11-05 11:30:00]|\n",
      "|[2023-11-05 11:35:00, 2023-11-05 11:40:00]|LEN |47.4216          |49.5392           |[2023-11-05 11:30:00, 2023-11-05 11:35:00]|\n",
      "|[2023-11-05 11:40:00, 2023-11-05 11:45:00]|LEN |46.4265          |47.4216           |[2023-11-05 11:35:00, 2023-11-05 11:40:00]|\n",
      "|[2023-11-05 11:35:00, 2023-11-05 11:40:00]|SPGI|92.65            |97.46             |[2023-11-05 11:30:00, 2023-11-05 11:35:00]|\n",
      "|[2023-11-05 11:10:00, 2023-11-05 11:15:00]|AIV |28.738           |30.63             |[2023-11-05 11:05:00, 2023-11-05 11:10:00]|\n",
      "|[2023-11-05 11:10:00, 2023-11-05 11:15:00]|AVY |42.56            |43.17             |[2023-11-05 11:05:00, 2023-11-05 11:10:00]|\n",
      "|[2023-11-05 11:30:00, 2023-11-05 11:35:00]|AVY |59.358           |62.78             |[2023-11-05 11:25:00, 2023-11-05 11:30:00]|\n",
      "|[2023-11-05 11:35:00, 2023-11-05 11:40:00]|BF.B|48.2725          |51.205            |[2023-11-05 11:30:00, 2023-11-05 11:35:00]|\n",
      "|[2023-11-05 11:40:00, 2023-11-05 11:45:00]|BF.B|46.98415         |48.2725           |[2023-11-05 11:35:00, 2023-11-05 11:40:00]|\n",
      "|[2023-11-05 11:30:00, 2023-11-05 11:35:00]|PPG |104.09           |113.25999999999999|[2023-11-05 11:25:00, 2023-11-05 11:30:00]|\n",
      "|[2023-11-05 11:25:00, 2023-11-05 11:30:00]|RF  |9.89             |10.489999999999998|[2023-11-05 11:15:00, 2023-11-05 11:20:00]|\n",
      "|[2023-11-05 11:40:00, 2023-11-05 11:45:00]|RF  |9.79             |9.956666666666667 |[2023-11-05 11:30:00, 2023-11-05 11:35:00]|\n",
      "|[2023-11-05 11:15:00, 2023-11-05 11:20:00]|IRM |27.715           |28.79             |[2023-11-05 11:10:00, 2023-11-05 11:15:00]|\n",
      "|[2023-11-05 11:30:00, 2023-11-05 11:35:00]|IRM |30.62            |37.01             |[2023-11-05 11:25:00, 2023-11-05 11:30:00]|\n",
      "+------------------------------------------+----+-----------------+------------------+------------------------------------------+\n",
      "only showing top 20 rows\n",
      "\n"
     ]
    },
    {
     "name": "stderr",
     "output_type": "stream",
     "text": [
      "                                                                                \r"
     ]
    },
    {
     "name": "stdout",
     "output_type": "stream",
     "text": [
      "-------------------------------------------\n",
      "Batch: 93\n",
      "-------------------------------------------\n",
      "+------------------------------------------+-----------+----------+-------------------+-------------------+-------------------+\n",
      "|window                                    |first_price|last_price|lastTimeStamp      |firstTimeStamp     |percent_value_lost |\n",
      "+------------------------------------------+-----------+----------+-------------------+-------------------+-------------------+\n",
      "|[2023-11-05 12:10:00, 2023-11-05 12:20:00]|20.67      |19.525    |2023-11-05 12:17:23|2023-11-05 12:15:14|0.05539429124334799|\n",
      "+------------------------------------------+-----------+----------+-------------------+-------------------+-------------------+\n",
      "\n"
     ]
    },
    {
     "name": "stderr",
     "output_type": "stream",
     "text": [
      "                                                                                \r"
     ]
    },
    {
     "name": "stdout",
     "output_type": "stream",
     "text": [
      "-------------------------------------------\n",
      "Batch: 94\n",
      "-------------------------------------------\n",
      "+------------------------------------------+-----------+----------+-------------------+-------------------+-------------------+\n",
      "|window                                    |first_price|last_price|lastTimeStamp      |firstTimeStamp     |percent_value_lost |\n",
      "+------------------------------------------+-----------+----------+-------------------+-------------------+-------------------+\n",
      "|[2023-11-05 12:10:00, 2023-11-05 12:20:00]|20.67      |19.525    |2023-11-05 12:17:23|2023-11-05 12:15:14|0.05539429124334799|\n",
      "+------------------------------------------+-----------+----------+-------------------+-------------------+-------------------+\n",
      "\n"
     ]
    },
    {
     "name": "stderr",
     "output_type": "stream",
     "text": [
      "                                                                                \r"
     ]
    },
    {
     "name": "stdout",
     "output_type": "stream",
     "text": [
      "+------------------------------------------+----+------------------+--------------+------------------------------------------+\n",
      "|window                                    |name|avg(price)        |previous_price|previous_window                           |\n",
      "+------------------------------------------+----+------------------+--------------+------------------------------------------+\n",
      "|[2023-11-05 11:15:00, 2023-11-05 11:20:00]|ALXN|180.2             |108.02        |[2023-11-05 11:10:00, 2023-11-05 11:15:00]|\n",
      "|[2023-11-05 11:25:00, 2023-11-05 11:30:00]|ALXN|186.99            |164.66        |[2023-11-05 11:20:00, 2023-11-05 11:25:00]|\n",
      "|[2023-11-05 11:30:00, 2023-11-05 11:35:00]|ALXN|201.66995         |186.99        |[2023-11-05 11:25:00, 2023-11-05 11:30:00]|\n",
      "|[2023-11-05 11:20:00, 2023-11-05 11:25:00]|GIS |50.92             |48.6          |[2023-11-05 11:15:00, 2023-11-05 11:20:00]|\n",
      "|[2023-11-05 11:30:00, 2023-11-05 11:35:00]|GIS |57.61             |50.92         |[2023-11-05 11:20:00, 2023-11-05 11:25:00]|\n",
      "|[2023-11-05 11:15:00, 2023-11-05 11:20:00]|K   |67.63             |65.865        |[2023-11-05 11:10:00, 2023-11-05 11:15:00]|\n",
      "|[2023-11-05 11:30:00, 2023-11-05 11:35:00]|K   |66.81             |62.1798       |[2023-11-05 11:25:00, 2023-11-05 11:30:00]|\n",
      "|[2023-11-05 11:15:00, 2023-11-05 11:20:00]|LEN |38.958349999999996|33.89705      |[2023-11-05 11:10:00, 2023-11-05 11:15:00]|\n",
      "|[2023-11-05 11:25:00, 2023-11-05 11:30:00]|LEN |49.676500000000004|35.5196       |[2023-11-05 11:20:00, 2023-11-05 11:25:00]|\n",
      "|[2023-11-05 11:15:00, 2023-11-05 11:20:00]|SPGI|77.12             |60.16         |[2023-11-05 11:10:00, 2023-11-05 11:15:00]|\n",
      "|[2023-11-05 11:20:00, 2023-11-05 11:25:00]|SPGI|86.69             |77.12         |[2023-11-05 11:15:00, 2023-11-05 11:20:00]|\n",
      "|[2023-11-05 11:25:00, 2023-11-05 11:30:00]|SPGI|90.47             |86.69         |[2023-11-05 11:20:00, 2023-11-05 11:25:00]|\n",
      "|[2023-11-05 11:30:00, 2023-11-05 11:35:00]|SPGI|97.46             |90.47         |[2023-11-05 11:25:00, 2023-11-05 11:30:00]|\n",
      "|[2023-11-05 11:15:00, 2023-11-05 11:20:00]|AIV |29.98             |28.738        |[2023-11-05 11:10:00, 2023-11-05 11:15:00]|\n",
      "|[2023-11-05 11:25:00, 2023-11-05 11:30:00]|AIV |37.57             |29.98         |[2023-11-05 11:15:00, 2023-11-05 11:20:00]|\n",
      "|[2023-11-05 11:35:00, 2023-11-05 11:40:00]|AIV |40.975            |37.57         |[2023-11-05 11:25:00, 2023-11-05 11:30:00]|\n",
      "|[2023-11-05 11:25:00, 2023-11-05 11:30:00]|AVY |62.78             |42.56         |[2023-11-05 11:10:00, 2023-11-05 11:15:00]|\n",
      "|[2023-11-05 11:35:00, 2023-11-05 11:40:00]|AVY |68.55000000000001 |59.358        |[2023-11-05 11:30:00, 2023-11-05 11:35:00]|\n",
      "|[2023-11-05 11:15:00, 2023-11-05 11:20:00]|BF.B|41.9325           |35.775        |[2023-11-05 11:10:00, 2023-11-05 11:15:00]|\n",
      "|[2023-11-05 11:25:00, 2023-11-05 11:30:00]|BF.B|45.39163333333334 |41.9325       |[2023-11-05 11:15:00, 2023-11-05 11:20:00]|\n",
      "+------------------------------------------+----+------------------+--------------+------------------------------------------+\n",
      "only showing top 20 rows\n",
      "\n"
     ]
    },
    {
     "name": "stderr",
     "output_type": "stream",
     "text": [
      "                                                                                \r"
     ]
    },
    {
     "name": "stdout",
     "output_type": "stream",
     "text": [
      "-------------------------------------------\n",
      "Batch: 95\n",
      "-------------------------------------------\n",
      "+------------------------------------------+-----------+----------+-------------------+-------------------+-------------------+\n",
      "|window                                    |first_price|last_price|lastTimeStamp      |firstTimeStamp     |percent_value_lost |\n",
      "+------------------------------------------+-----------+----------+-------------------+-------------------+-------------------+\n",
      "|[2023-11-05 12:10:00, 2023-11-05 12:20:00]|20.67      |19.525    |2023-11-05 12:17:23|2023-11-05 12:15:14|0.05539429124334799|\n",
      "+------------------------------------------+-----------+----------+-------------------+-------------------+-------------------+\n",
      "\n",
      "+------------------------------------------+----+-----------------+------------------+------------------------------------------+\n",
      "|window                                    |name|avg(price)       |previous_price    |previous_window                           |\n",
      "+------------------------------------------+----+-----------------+------------------+------------------------------------------+\n",
      "|[2023-11-05 11:20:00, 2023-11-05 11:25:00]|ALXN|164.66           |180.2             |[2023-11-05 11:15:00, 2023-11-05 11:20:00]|\n",
      "|[2023-11-05 11:10:00, 2023-11-05 11:15:00]|GIS |49.35666666666666|50.5207           |[2023-11-05 11:05:00, 2023-11-05 11:10:00]|\n",
      "|[2023-11-05 11:15:00, 2023-11-05 11:20:00]|GIS |48.6             |49.35666666666666 |[2023-11-05 11:10:00, 2023-11-05 11:15:00]|\n",
      "|[2023-11-05 11:20:00, 2023-11-05 11:25:00]|K   |66.23            |67.63             |[2023-11-05 11:15:00, 2023-11-05 11:20:00]|\n",
      "|[2023-11-05 11:25:00, 2023-11-05 11:30:00]|K   |62.1798          |66.23             |[2023-11-05 11:20:00, 2023-11-05 11:25:00]|\n",
      "|[2023-11-05 11:20:00, 2023-11-05 11:25:00]|LEN |35.5196          |38.958349999999996|[2023-11-05 11:15:00, 2023-11-05 11:20:00]|\n",
      "|[2023-11-05 11:30:00, 2023-11-05 11:35:00]|LEN |49.5392          |49.676500000000004|[2023-11-05 11:25:00, 2023-11-05 11:30:00]|\n",
      "|[2023-11-05 11:35:00, 2023-11-05 11:40:00]|LEN |47.4216          |49.5392           |[2023-11-05 11:30:00, 2023-11-05 11:35:00]|\n",
      "|[2023-11-05 11:40:00, 2023-11-05 11:45:00]|LEN |46.4265          |47.4216           |[2023-11-05 11:35:00, 2023-11-05 11:40:00]|\n",
      "|[2023-11-05 11:35:00, 2023-11-05 11:40:00]|SPGI|92.65            |97.46             |[2023-11-05 11:30:00, 2023-11-05 11:35:00]|\n",
      "|[2023-11-05 11:10:00, 2023-11-05 11:15:00]|AIV |28.738           |30.63             |[2023-11-05 11:05:00, 2023-11-05 11:10:00]|\n",
      "|[2023-11-05 11:10:00, 2023-11-05 11:15:00]|AVY |42.56            |43.17             |[2023-11-05 11:05:00, 2023-11-05 11:10:00]|\n",
      "|[2023-11-05 11:30:00, 2023-11-05 11:35:00]|AVY |59.358           |62.78             |[2023-11-05 11:25:00, 2023-11-05 11:30:00]|\n",
      "|[2023-11-05 11:35:00, 2023-11-05 11:40:00]|BF.B|48.2725          |51.205            |[2023-11-05 11:30:00, 2023-11-05 11:35:00]|\n",
      "|[2023-11-05 11:40:00, 2023-11-05 11:45:00]|BF.B|46.98415         |48.2725           |[2023-11-05 11:35:00, 2023-11-05 11:40:00]|\n",
      "|[2023-11-05 11:30:00, 2023-11-05 11:35:00]|PPG |104.09           |113.25999999999999|[2023-11-05 11:25:00, 2023-11-05 11:30:00]|\n",
      "|[2023-11-05 11:25:00, 2023-11-05 11:30:00]|RF  |9.89             |10.489999999999998|[2023-11-05 11:15:00, 2023-11-05 11:20:00]|\n",
      "|[2023-11-05 11:15:00, 2023-11-05 11:20:00]|IRM |27.715           |28.79             |[2023-11-05 11:10:00, 2023-11-05 11:15:00]|\n",
      "|[2023-11-05 11:30:00, 2023-11-05 11:35:00]|IRM |30.62            |37.01             |[2023-11-05 11:25:00, 2023-11-05 11:30:00]|\n",
      "|[2023-11-05 11:30:00, 2023-11-05 11:35:00]|WEC |49.695           |50.11             |[2023-11-05 11:25:00, 2023-11-05 11:30:00]|\n",
      "+------------------------------------------+----+-----------------+------------------+------------------------------------------+\n",
      "only showing top 20 rows\n",
      "\n"
     ]
    },
    {
     "name": "stderr",
     "output_type": "stream",
     "text": [
      "                                                                                \r"
     ]
    },
    {
     "name": "stdout",
     "output_type": "stream",
     "text": [
      "-------------------------------------------\n",
      "Batch: 96\n",
      "-------------------------------------------\n",
      "+------------------------------------------+-----------+----------+-------------------+-------------------+-------------------+\n",
      "|window                                    |first_price|last_price|lastTimeStamp      |firstTimeStamp     |percent_value_lost |\n",
      "+------------------------------------------+-----------+----------+-------------------+-------------------+-------------------+\n",
      "|[2023-11-05 12:10:00, 2023-11-05 12:20:00]|20.67      |19.525    |2023-11-05 12:17:23|2023-11-05 12:15:14|0.05539429124334799|\n",
      "+------------------------------------------+-----------+----------+-------------------+-------------------+-------------------+\n",
      "\n"
     ]
    },
    {
     "name": "stderr",
     "output_type": "stream",
     "text": [
      "[Stage 2016:(166 + 4) / 200][Stage 2018:(3 + 0) / 200][Stage 2024:> (0 + 0) / 1]\r"
     ]
    },
    {
     "name": "stdout",
     "output_type": "stream",
     "text": [
      "-------------------------------------------\n",
      "Batch: 97\n",
      "-------------------------------------------\n",
      "+------------------------------------------+-----------+----------+-------------------+-------------------+-------------------+\n",
      "|window                                    |first_price|last_price|lastTimeStamp      |firstTimeStamp     |percent_value_lost |\n",
      "+------------------------------------------+-----------+----------+-------------------+-------------------+-------------------+\n",
      "|[2023-11-05 12:10:00, 2023-11-05 12:20:00]|20.67      |19.525    |2023-11-05 12:17:23|2023-11-05 12:15:14|0.05539429124334799|\n",
      "+------------------------------------------+-----------+----------+-------------------+-------------------+-------------------+\n",
      "\n"
     ]
    },
    {
     "name": "stderr",
     "output_type": "stream",
     "text": [
      "                                                                                \r"
     ]
    },
    {
     "name": "stdout",
     "output_type": "stream",
     "text": [
      "+------------------------------------------+----+------------------+--------------+------------------------------------------+\n",
      "|window                                    |name|avg(price)        |previous_price|previous_window                           |\n",
      "+------------------------------------------+----+------------------+--------------+------------------------------------------+\n",
      "|[2023-11-05 11:15:00, 2023-11-05 11:20:00]|ALXN|180.2             |108.02        |[2023-11-05 11:10:00, 2023-11-05 11:15:00]|\n",
      "|[2023-11-05 11:25:00, 2023-11-05 11:30:00]|ALXN|186.99            |164.66        |[2023-11-05 11:20:00, 2023-11-05 11:25:00]|\n",
      "|[2023-11-05 11:30:00, 2023-11-05 11:35:00]|ALXN|201.66995         |186.99        |[2023-11-05 11:25:00, 2023-11-05 11:30:00]|\n",
      "|[2023-11-05 11:20:00, 2023-11-05 11:25:00]|GIS |50.92             |48.6          |[2023-11-05 11:15:00, 2023-11-05 11:20:00]|\n",
      "|[2023-11-05 11:30:00, 2023-11-05 11:35:00]|GIS |57.61             |50.92         |[2023-11-05 11:20:00, 2023-11-05 11:25:00]|\n",
      "|[2023-11-05 11:15:00, 2023-11-05 11:20:00]|K   |67.63             |65.865        |[2023-11-05 11:10:00, 2023-11-05 11:15:00]|\n",
      "|[2023-11-05 11:30:00, 2023-11-05 11:35:00]|K   |66.81             |62.1798       |[2023-11-05 11:25:00, 2023-11-05 11:30:00]|\n",
      "|[2023-11-05 11:15:00, 2023-11-05 11:20:00]|LEN |38.958349999999996|33.89705      |[2023-11-05 11:10:00, 2023-11-05 11:15:00]|\n",
      "|[2023-11-05 11:25:00, 2023-11-05 11:30:00]|LEN |49.676500000000004|35.5196       |[2023-11-05 11:20:00, 2023-11-05 11:25:00]|\n",
      "|[2023-11-05 11:15:00, 2023-11-05 11:20:00]|SPGI|77.12             |60.16         |[2023-11-05 11:10:00, 2023-11-05 11:15:00]|\n",
      "|[2023-11-05 11:20:00, 2023-11-05 11:25:00]|SPGI|86.69             |77.12         |[2023-11-05 11:15:00, 2023-11-05 11:20:00]|\n",
      "|[2023-11-05 11:25:00, 2023-11-05 11:30:00]|SPGI|90.47             |86.69         |[2023-11-05 11:20:00, 2023-11-05 11:25:00]|\n",
      "|[2023-11-05 11:30:00, 2023-11-05 11:35:00]|SPGI|97.46             |90.47         |[2023-11-05 11:25:00, 2023-11-05 11:30:00]|\n",
      "|[2023-11-05 11:15:00, 2023-11-05 11:20:00]|AIV |29.98             |28.738        |[2023-11-05 11:10:00, 2023-11-05 11:15:00]|\n",
      "|[2023-11-05 11:25:00, 2023-11-05 11:30:00]|AIV |37.57             |29.98         |[2023-11-05 11:15:00, 2023-11-05 11:20:00]|\n",
      "|[2023-11-05 11:35:00, 2023-11-05 11:40:00]|AIV |40.975            |37.57         |[2023-11-05 11:25:00, 2023-11-05 11:30:00]|\n",
      "|[2023-11-05 11:25:00, 2023-11-05 11:30:00]|AVY |62.78             |42.56         |[2023-11-05 11:10:00, 2023-11-05 11:15:00]|\n",
      "|[2023-11-05 11:35:00, 2023-11-05 11:40:00]|AVY |68.55000000000001 |59.358        |[2023-11-05 11:30:00, 2023-11-05 11:35:00]|\n",
      "|[2023-11-05 11:15:00, 2023-11-05 11:20:00]|BF.B|41.9325           |35.775        |[2023-11-05 11:10:00, 2023-11-05 11:15:00]|\n",
      "|[2023-11-05 11:25:00, 2023-11-05 11:30:00]|BF.B|45.39163333333334 |41.9325       |[2023-11-05 11:15:00, 2023-11-05 11:20:00]|\n",
      "+------------------------------------------+----+------------------+--------------+------------------------------------------+\n",
      "only showing top 20 rows\n",
      "\n",
      "-------------------------------------------\n",
      "Batch: 98\n",
      "-------------------------------------------\n",
      "+------------------------------------------+----+-----------------+------------------+------------------------------------------+\n",
      "|window                                    |name|avg(price)       |previous_price    |previous_window                           |\n",
      "+------------------------------------------+----+-----------------+------------------+------------------------------------------+\n",
      "|[2023-11-05 11:20:00, 2023-11-05 11:25:00]|ALXN|164.66           |180.2             |[2023-11-05 11:15:00, 2023-11-05 11:20:00]|\n",
      "|[2023-11-05 11:10:00, 2023-11-05 11:15:00]|GIS |49.35666666666666|50.5207           |[2023-11-05 11:05:00, 2023-11-05 11:10:00]|\n",
      "|[2023-11-05 11:15:00, 2023-11-05 11:20:00]|GIS |48.6             |49.35666666666666 |[2023-11-05 11:10:00, 2023-11-05 11:15:00]|\n",
      "|[2023-11-05 11:20:00, 2023-11-05 11:25:00]|K   |66.23            |67.63             |[2023-11-05 11:15:00, 2023-11-05 11:20:00]|\n",
      "|[2023-11-05 11:25:00, 2023-11-05 11:30:00]|K   |62.1798          |66.23             |[2023-11-05 11:20:00, 2023-11-05 11:25:00]|\n",
      "|[2023-11-05 11:20:00, 2023-11-05 11:25:00]|LEN |35.5196          |38.958349999999996|[2023-11-05 11:15:00, 2023-11-05 11:20:00]|\n",
      "|[2023-11-05 11:30:00, 2023-11-05 11:35:00]|LEN |49.5392          |49.676500000000004|[2023-11-05 11:25:00, 2023-11-05 11:30:00]|\n",
      "|[2023-11-05 11:35:00, 2023-11-05 11:40:00]|LEN |47.4216          |49.5392           |[2023-11-05 11:30:00, 2023-11-05 11:35:00]|\n",
      "|[2023-11-05 11:40:00, 2023-11-05 11:45:00]|LEN |46.4265          |47.4216           |[2023-11-05 11:35:00, 2023-11-05 11:40:00]|\n",
      "|[2023-11-05 11:35:00, 2023-11-05 11:40:00]|SPGI|92.65            |97.46             |[2023-11-05 11:30:00, 2023-11-05 11:35:00]|\n",
      "|[2023-11-05 11:10:00, 2023-11-05 11:15:00]|AIV |28.738           |30.63             |[2023-11-05 11:05:00, 2023-11-05 11:10:00]|\n",
      "|[2023-11-05 11:10:00, 2023-11-05 11:15:00]|AVY |42.56            |43.17             |[2023-11-05 11:05:00, 2023-11-05 11:10:00]|\n",
      "|[2023-11-05 11:30:00, 2023-11-05 11:35:00]|AVY |59.358           |62.78             |[2023-11-05 11:25:00, 2023-11-05 11:30:00]|\n",
      "|[2023-11-05 11:35:00, 2023-11-05 11:40:00]|BF.B|48.2725          |51.205            |[2023-11-05 11:30:00, 2023-11-05 11:35:00]|\n",
      "|[2023-11-05 11:40:00, 2023-11-05 11:45:00]|BF.B|46.98415         |48.2725           |[2023-11-05 11:35:00, 2023-11-05 11:40:00]|\n",
      "|[2023-11-05 11:30:00, 2023-11-05 11:35:00]|PPG |104.09           |113.25999999999999|[2023-11-05 11:25:00, 2023-11-05 11:30:00]|\n",
      "|[2023-11-05 11:25:00, 2023-11-05 11:30:00]|RF  |9.89             |10.489999999999998|[2023-11-05 11:15:00, 2023-11-05 11:20:00]|\n",
      "|[2023-11-05 11:15:00, 2023-11-05 11:20:00]|IRM |27.715           |28.79             |[2023-11-05 11:10:00, 2023-11-05 11:15:00]|\n",
      "|[2023-11-05 11:30:00, 2023-11-05 11:35:00]|IRM |30.62            |37.01             |[2023-11-05 11:25:00, 2023-11-05 11:30:00]|\n",
      "|[2023-11-05 11:30:00, 2023-11-05 11:35:00]|WEC |49.695           |50.11             |[2023-11-05 11:25:00, 2023-11-05 11:30:00]|\n",
      "+------------------------------------------+----+-----------------+------------------+------------------------------------------+\n",
      "only showing top 20 rows\n",
      "\n",
      "+------------------------------------------+-----------+----------+-------------------+-------------------+-------------------+\n",
      "|window                                    |first_price|last_price|lastTimeStamp      |firstTimeStamp     |percent_value_lost |\n",
      "+------------------------------------------+-----------+----------+-------------------+-------------------+-------------------+\n",
      "|[2023-11-05 12:10:00, 2023-11-05 12:20:00]|20.67      |19.525    |2023-11-05 12:17:23|2023-11-05 12:15:14|0.05539429124334799|\n",
      "+------------------------------------------+-----------+----------+-------------------+-------------------+-------------------+\n",
      "\n"
     ]
    },
    {
     "name": "stderr",
     "output_type": "stream",
     "text": [
      "                                                                                \r"
     ]
    },
    {
     "name": "stdout",
     "output_type": "stream",
     "text": [
      "-------------------------------------------\n",
      "Batch: 99\n",
      "-------------------------------------------\n",
      "+------------------------------------------+-----------+----------+-------------------+-------------------+-------------------+\n",
      "|window                                    |first_price|last_price|lastTimeStamp      |firstTimeStamp     |percent_value_lost |\n",
      "+------------------------------------------+-----------+----------+-------------------+-------------------+-------------------+\n",
      "|[2023-11-05 12:10:00, 2023-11-05 12:20:00]|20.67      |19.525    |2023-11-05 12:17:23|2023-11-05 12:15:14|0.05539429124334799|\n",
      "|[2023-11-05 12:20:00, 2023-11-05 12:30:00]|18.99      |17.48     |2023-11-05 12:29:47|2023-11-05 12:24:16|0.07951553449183771|\n",
      "+------------------------------------------+-----------+----------+-------------------+-------------------+-------------------+\n",
      "\n"
     ]
    },
    {
     "name": "stderr",
     "output_type": "stream",
     "text": [
      "                                                                                \r"
     ]
    },
    {
     "name": "stdout",
     "output_type": "stream",
     "text": [
      "-------------------------------------------\n",
      "Batch: 100\n",
      "-------------------------------------------\n",
      "+------------------------------------------+----+------------------+--------------+------------------------------------------+\n",
      "|window                                    |name|avg(price)        |previous_price|previous_window                           |\n",
      "+------------------------------------------+----+------------------+--------------+------------------------------------------+\n",
      "|[2023-11-05 11:15:00, 2023-11-05 11:20:00]|ALXN|180.2             |108.02        |[2023-11-05 11:10:00, 2023-11-05 11:15:00]|\n",
      "|[2023-11-05 11:25:00, 2023-11-05 11:30:00]|ALXN|186.99            |164.66        |[2023-11-05 11:20:00, 2023-11-05 11:25:00]|\n",
      "|[2023-11-05 11:30:00, 2023-11-05 11:35:00]|ALXN|201.66995         |186.99        |[2023-11-05 11:25:00, 2023-11-05 11:30:00]|\n",
      "|[2023-11-05 11:20:00, 2023-11-05 11:25:00]|GIS |50.92             |48.6          |[2023-11-05 11:15:00, 2023-11-05 11:20:00]|\n",
      "|[2023-11-05 11:30:00, 2023-11-05 11:35:00]|GIS |57.61             |50.92         |[2023-11-05 11:20:00, 2023-11-05 11:25:00]|\n",
      "|[2023-11-05 11:15:00, 2023-11-05 11:20:00]|K   |67.63             |65.865        |[2023-11-05 11:10:00, 2023-11-05 11:15:00]|\n",
      "|[2023-11-05 11:30:00, 2023-11-05 11:35:00]|K   |66.81             |62.1798       |[2023-11-05 11:25:00, 2023-11-05 11:30:00]|\n",
      "|[2023-11-05 11:15:00, 2023-11-05 11:20:00]|LEN |38.958349999999996|33.89705      |[2023-11-05 11:10:00, 2023-11-05 11:15:00]|\n",
      "|[2023-11-05 11:25:00, 2023-11-05 11:30:00]|LEN |49.676500000000004|35.5196       |[2023-11-05 11:20:00, 2023-11-05 11:25:00]|\n",
      "|[2023-11-05 11:15:00, 2023-11-05 11:20:00]|SPGI|77.12             |60.16         |[2023-11-05 11:10:00, 2023-11-05 11:15:00]|\n",
      "|[2023-11-05 11:20:00, 2023-11-05 11:25:00]|SPGI|86.69             |77.12         |[2023-11-05 11:15:00, 2023-11-05 11:20:00]|\n",
      "|[2023-11-05 11:25:00, 2023-11-05 11:30:00]|SPGI|90.47             |86.69         |[2023-11-05 11:20:00, 2023-11-05 11:25:00]|\n",
      "|[2023-11-05 11:30:00, 2023-11-05 11:35:00]|SPGI|97.46             |90.47         |[2023-11-05 11:25:00, 2023-11-05 11:30:00]|\n",
      "|[2023-11-05 11:15:00, 2023-11-05 11:20:00]|AIV |29.98             |28.738        |[2023-11-05 11:10:00, 2023-11-05 11:15:00]|\n",
      "|[2023-11-05 11:25:00, 2023-11-05 11:30:00]|AIV |37.57             |29.98         |[2023-11-05 11:15:00, 2023-11-05 11:20:00]|\n",
      "|[2023-11-05 11:35:00, 2023-11-05 11:40:00]|AIV |40.975            |37.57         |[2023-11-05 11:25:00, 2023-11-05 11:30:00]|\n",
      "|[2023-11-05 11:25:00, 2023-11-05 11:30:00]|AVY |62.78             |42.56         |[2023-11-05 11:10:00, 2023-11-05 11:15:00]|\n",
      "|[2023-11-05 11:35:00, 2023-11-05 11:40:00]|AVY |68.55000000000001 |59.358        |[2023-11-05 11:30:00, 2023-11-05 11:35:00]|\n",
      "|[2023-11-05 11:15:00, 2023-11-05 11:20:00]|BF.B|41.9325           |35.775        |[2023-11-05 11:10:00, 2023-11-05 11:15:00]|\n",
      "|[2023-11-05 11:25:00, 2023-11-05 11:30:00]|BF.B|45.39163333333334 |41.9325       |[2023-11-05 11:15:00, 2023-11-05 11:20:00]|\n",
      "+------------------------------------------+----+------------------+--------------+------------------------------------------+\n",
      "only showing top 20 rows\n",
      "\n",
      "+------------------------------------------+-----------+----------+-------------------+-------------------+-------------------+\n",
      "|window                                    |first_price|last_price|lastTimeStamp      |firstTimeStamp     |percent_value_lost |\n",
      "+------------------------------------------+-----------+----------+-------------------+-------------------+-------------------+\n",
      "|[2023-11-05 12:10:00, 2023-11-05 12:20:00]|20.67      |19.525    |2023-11-05 12:17:23|2023-11-05 12:15:14|0.05539429124334799|\n",
      "|[2023-11-05 12:20:00, 2023-11-05 12:30:00]|18.99      |17.48     |2023-11-05 12:29:47|2023-11-05 12:24:16|0.07951553449183771|\n",
      "+------------------------------------------+-----------+----------+-------------------+-------------------+-------------------+\n",
      "\n",
      "+------------------------------------------+----+-----------------+------------------+------------------------------------------+\n",
      "|window                                    |name|avg(price)       |previous_price    |previous_window                           |\n",
      "+------------------------------------------+----+-----------------+------------------+------------------------------------------+\n",
      "|[2023-11-05 11:20:00, 2023-11-05 11:25:00]|ALXN|164.66           |180.2             |[2023-11-05 11:15:00, 2023-11-05 11:20:00]|\n",
      "|[2023-11-05 11:10:00, 2023-11-05 11:15:00]|GIS |49.35666666666666|50.5207           |[2023-11-05 11:05:00, 2023-11-05 11:10:00]|\n",
      "|[2023-11-05 11:15:00, 2023-11-05 11:20:00]|GIS |48.6             |49.35666666666666 |[2023-11-05 11:10:00, 2023-11-05 11:15:00]|\n",
      "|[2023-11-05 11:20:00, 2023-11-05 11:25:00]|K   |66.23            |67.63             |[2023-11-05 11:15:00, 2023-11-05 11:20:00]|\n",
      "|[2023-11-05 11:25:00, 2023-11-05 11:30:00]|K   |62.1798          |66.23             |[2023-11-05 11:20:00, 2023-11-05 11:25:00]|\n",
      "|[2023-11-05 11:20:00, 2023-11-05 11:25:00]|LEN |35.5196          |38.958349999999996|[2023-11-05 11:15:00, 2023-11-05 11:20:00]|\n",
      "|[2023-11-05 11:30:00, 2023-11-05 11:35:00]|LEN |49.5392          |49.676500000000004|[2023-11-05 11:25:00, 2023-11-05 11:30:00]|\n",
      "|[2023-11-05 11:35:00, 2023-11-05 11:40:00]|LEN |47.4216          |49.5392           |[2023-11-05 11:30:00, 2023-11-05 11:35:00]|\n",
      "|[2023-11-05 11:40:00, 2023-11-05 11:45:00]|LEN |46.4265          |47.4216           |[2023-11-05 11:35:00, 2023-11-05 11:40:00]|\n",
      "|[2023-11-05 11:35:00, 2023-11-05 11:40:00]|SPGI|92.65            |97.46             |[2023-11-05 11:30:00, 2023-11-05 11:35:00]|\n",
      "|[2023-11-05 11:10:00, 2023-11-05 11:15:00]|AIV |28.738           |30.63             |[2023-11-05 11:05:00, 2023-11-05 11:10:00]|\n",
      "|[2023-11-05 11:10:00, 2023-11-05 11:15:00]|AVY |42.56            |43.17             |[2023-11-05 11:05:00, 2023-11-05 11:10:00]|\n",
      "|[2023-11-05 11:30:00, 2023-11-05 11:35:00]|AVY |59.358           |62.78             |[2023-11-05 11:25:00, 2023-11-05 11:30:00]|\n",
      "|[2023-11-05 11:35:00, 2023-11-05 11:40:00]|BF.B|48.2725          |51.205            |[2023-11-05 11:30:00, 2023-11-05 11:35:00]|\n",
      "|[2023-11-05 11:40:00, 2023-11-05 11:45:00]|BF.B|46.98415         |48.2725           |[2023-11-05 11:35:00, 2023-11-05 11:40:00]|\n",
      "|[2023-11-05 11:30:00, 2023-11-05 11:35:00]|PPG |104.09           |113.25999999999999|[2023-11-05 11:25:00, 2023-11-05 11:30:00]|\n",
      "|[2023-11-05 11:25:00, 2023-11-05 11:30:00]|RF  |9.89             |10.489999999999998|[2023-11-05 11:15:00, 2023-11-05 11:20:00]|\n",
      "|[2023-11-05 11:15:00, 2023-11-05 11:20:00]|IRM |27.715           |28.79             |[2023-11-05 11:10:00, 2023-11-05 11:15:00]|\n",
      "|[2023-11-05 11:30:00, 2023-11-05 11:35:00]|IRM |30.62            |37.01             |[2023-11-05 11:25:00, 2023-11-05 11:30:00]|\n",
      "|[2023-11-05 11:30:00, 2023-11-05 11:35:00]|WEC |49.695           |50.11             |[2023-11-05 11:25:00, 2023-11-05 11:30:00]|\n",
      "+------------------------------------------+----+-----------------+------------------+------------------------------------------+\n",
      "only showing top 20 rows\n",
      "\n"
     ]
    },
    {
     "name": "stderr",
     "output_type": "stream",
     "text": [
      "                                                                                \r"
     ]
    },
    {
     "name": "stdout",
     "output_type": "stream",
     "text": [
      "-------------------------------------------\n",
      "Batch: 101\n",
      "-------------------------------------------\n",
      "+------------------------------------------+-----------+----------+-------------------+-------------------+-------------------+\n",
      "|window                                    |first_price|last_price|lastTimeStamp      |firstTimeStamp     |percent_value_lost |\n",
      "+------------------------------------------+-----------+----------+-------------------+-------------------+-------------------+\n",
      "|[2023-11-05 12:10:00, 2023-11-05 12:20:00]|20.67      |19.525    |2023-11-05 12:17:23|2023-11-05 12:15:14|0.05539429124334799|\n",
      "|[2023-11-05 12:20:00, 2023-11-05 12:30:00]|18.99      |17.48     |2023-11-05 12:29:47|2023-11-05 12:24:16|0.07951553449183771|\n",
      "+------------------------------------------+-----------+----------+-------------------+-------------------+-------------------+\n",
      "\n"
     ]
    },
    {
     "name": "stderr",
     "output_type": "stream",
     "text": [
      "                                                                                \r"
     ]
    },
    {
     "name": "stdout",
     "output_type": "stream",
     "text": [
      "-------------------------------------------\n",
      "Batch: 102\n",
      "-------------------------------------------\n",
      "+------------------------------------------+-----------+----------+-------------------+-------------------+-------------------+\n",
      "|window                                    |first_price|last_price|lastTimeStamp      |firstTimeStamp     |percent_value_lost |\n",
      "+------------------------------------------+-----------+----------+-------------------+-------------------+-------------------+\n",
      "|[2023-11-05 12:10:00, 2023-11-05 12:20:00]|20.67      |19.525    |2023-11-05 12:17:23|2023-11-05 12:15:14|0.05539429124334799|\n",
      "|[2023-11-05 12:20:00, 2023-11-05 12:30:00]|18.99      |17.48     |2023-11-05 12:29:47|2023-11-05 12:24:16|0.07951553449183771|\n",
      "+------------------------------------------+-----------+----------+-------------------+-------------------+-------------------+\n",
      "\n"
     ]
    },
    {
     "name": "stderr",
     "output_type": "stream",
     "text": [
      "                                                                                \r"
     ]
    },
    {
     "name": "stdout",
     "output_type": "stream",
     "text": [
      "+------------------------------------------+----+-----------------+------------------+------------------------------------------+\n",
      "|window                                    |name|avg(price)       |previous_price    |previous_window                           |\n",
      "+------------------------------------------+----+-----------------+------------------+------------------------------------------+\n",
      "|[2023-11-05 11:20:00, 2023-11-05 11:25:00]|ALXN|164.66           |180.2             |[2023-11-05 11:15:00, 2023-11-05 11:20:00]|\n",
      "|[2023-11-05 11:45:00, 2023-11-05 11:50:00]|ALXN|127.81           |201.66995         |[2023-11-05 11:30:00, 2023-11-05 11:35:00]|\n",
      "|[2023-11-05 11:10:00, 2023-11-05 11:15:00]|GIS |49.35666666666666|50.5207           |[2023-11-05 11:05:00, 2023-11-05 11:10:00]|\n",
      "|[2023-11-05 11:15:00, 2023-11-05 11:20:00]|GIS |48.6             |49.35666666666666 |[2023-11-05 11:10:00, 2023-11-05 11:15:00]|\n",
      "|[2023-11-05 11:20:00, 2023-11-05 11:25:00]|K   |66.23            |67.63             |[2023-11-05 11:15:00, 2023-11-05 11:20:00]|\n",
      "|[2023-11-05 11:25:00, 2023-11-05 11:30:00]|K   |62.1798          |66.23             |[2023-11-05 11:20:00, 2023-11-05 11:25:00]|\n",
      "|[2023-11-05 11:20:00, 2023-11-05 11:25:00]|LEN |35.5196          |38.958349999999996|[2023-11-05 11:15:00, 2023-11-05 11:20:00]|\n",
      "|[2023-11-05 11:30:00, 2023-11-05 11:35:00]|LEN |49.5392          |49.676500000000004|[2023-11-05 11:25:00, 2023-11-05 11:30:00]|\n",
      "|[2023-11-05 11:35:00, 2023-11-05 11:40:00]|LEN |47.4216          |49.5392           |[2023-11-05 11:30:00, 2023-11-05 11:35:00]|\n",
      "|[2023-11-05 11:40:00, 2023-11-05 11:45:00]|LEN |46.4265          |47.4216           |[2023-11-05 11:35:00, 2023-11-05 11:40:00]|\n",
      "|[2023-11-05 11:35:00, 2023-11-05 11:40:00]|SPGI|92.65            |97.46             |[2023-11-05 11:30:00, 2023-11-05 11:35:00]|\n",
      "|[2023-11-05 11:10:00, 2023-11-05 11:15:00]|AIV |28.738           |30.63             |[2023-11-05 11:05:00, 2023-11-05 11:10:00]|\n",
      "|[2023-11-05 11:10:00, 2023-11-05 11:15:00]|AVY |42.56            |43.17             |[2023-11-05 11:05:00, 2023-11-05 11:10:00]|\n",
      "|[2023-11-05 11:30:00, 2023-11-05 11:35:00]|AVY |59.358           |62.78             |[2023-11-05 11:25:00, 2023-11-05 11:30:00]|\n",
      "|[2023-11-05 11:35:00, 2023-11-05 11:40:00]|BF.B|48.2725          |51.205            |[2023-11-05 11:30:00, 2023-11-05 11:35:00]|\n",
      "|[2023-11-05 11:40:00, 2023-11-05 11:45:00]|BF.B|46.98415         |48.2725           |[2023-11-05 11:35:00, 2023-11-05 11:40:00]|\n",
      "|[2023-11-05 11:30:00, 2023-11-05 11:35:00]|PPG |104.09           |113.25999999999999|[2023-11-05 11:25:00, 2023-11-05 11:30:00]|\n",
      "|[2023-11-05 11:45:00, 2023-11-05 11:50:00]|PPG |103.82           |112.035           |[2023-11-05 11:35:00, 2023-11-05 11:40:00]|\n",
      "|[2023-11-05 11:25:00, 2023-11-05 11:30:00]|RF  |9.89             |10.489999999999998|[2023-11-05 11:15:00, 2023-11-05 11:20:00]|\n",
      "|[2023-11-05 11:15:00, 2023-11-05 11:20:00]|IRM |27.715           |28.79             |[2023-11-05 11:10:00, 2023-11-05 11:15:00]|\n",
      "+------------------------------------------+----+-----------------+------------------+------------------------------------------+\n",
      "only showing top 20 rows\n",
      "\n",
      "+------------------------------------------+----+------------------+--------------+------------------------------------------+\n",
      "|window                                    |name|avg(price)        |previous_price|previous_window                           |\n",
      "+------------------------------------------+----+------------------+--------------+------------------------------------------+\n",
      "|[2023-11-05 11:15:00, 2023-11-05 11:20:00]|ALXN|180.2             |108.02        |[2023-11-05 11:10:00, 2023-11-05 11:15:00]|\n",
      "|[2023-11-05 11:25:00, 2023-11-05 11:30:00]|ALXN|186.99            |164.66        |[2023-11-05 11:20:00, 2023-11-05 11:25:00]|\n",
      "|[2023-11-05 11:30:00, 2023-11-05 11:35:00]|ALXN|201.66995         |186.99        |[2023-11-05 11:25:00, 2023-11-05 11:30:00]|\n",
      "|[2023-11-05 11:20:00, 2023-11-05 11:25:00]|GIS |50.92             |48.6          |[2023-11-05 11:15:00, 2023-11-05 11:20:00]|\n",
      "|[2023-11-05 11:30:00, 2023-11-05 11:35:00]|GIS |57.61             |50.92         |[2023-11-05 11:20:00, 2023-11-05 11:25:00]|\n",
      "|[2023-11-05 11:15:00, 2023-11-05 11:20:00]|K   |67.63             |65.865        |[2023-11-05 11:10:00, 2023-11-05 11:15:00]|\n",
      "|[2023-11-05 11:30:00, 2023-11-05 11:35:00]|K   |66.81             |62.1798       |[2023-11-05 11:25:00, 2023-11-05 11:30:00]|\n",
      "|[2023-11-05 11:15:00, 2023-11-05 11:20:00]|LEN |38.958349999999996|33.89705      |[2023-11-05 11:10:00, 2023-11-05 11:15:00]|\n",
      "|[2023-11-05 11:25:00, 2023-11-05 11:30:00]|LEN |49.676500000000004|35.5196       |[2023-11-05 11:20:00, 2023-11-05 11:25:00]|\n",
      "|[2023-11-05 11:15:00, 2023-11-05 11:20:00]|SPGI|77.12             |60.16         |[2023-11-05 11:10:00, 2023-11-05 11:15:00]|\n",
      "|[2023-11-05 11:20:00, 2023-11-05 11:25:00]|SPGI|86.69             |77.12         |[2023-11-05 11:15:00, 2023-11-05 11:20:00]|\n",
      "|[2023-11-05 11:25:00, 2023-11-05 11:30:00]|SPGI|90.47             |86.69         |[2023-11-05 11:20:00, 2023-11-05 11:25:00]|\n",
      "|[2023-11-05 11:30:00, 2023-11-05 11:35:00]|SPGI|97.46             |90.47         |[2023-11-05 11:25:00, 2023-11-05 11:30:00]|\n",
      "|[2023-11-05 11:15:00, 2023-11-05 11:20:00]|AIV |29.98             |28.738        |[2023-11-05 11:10:00, 2023-11-05 11:15:00]|\n",
      "|[2023-11-05 11:25:00, 2023-11-05 11:30:00]|AIV |37.57             |29.98         |[2023-11-05 11:15:00, 2023-11-05 11:20:00]|\n",
      "|[2023-11-05 11:35:00, 2023-11-05 11:40:00]|AIV |40.975            |37.57         |[2023-11-05 11:25:00, 2023-11-05 11:30:00]|\n",
      "|[2023-11-05 11:25:00, 2023-11-05 11:30:00]|AVY |62.78             |42.56         |[2023-11-05 11:10:00, 2023-11-05 11:15:00]|\n",
      "|[2023-11-05 11:35:00, 2023-11-05 11:40:00]|AVY |68.55000000000001 |59.358        |[2023-11-05 11:30:00, 2023-11-05 11:35:00]|\n",
      "|[2023-11-05 11:15:00, 2023-11-05 11:20:00]|BF.B|41.9325           |35.775        |[2023-11-05 11:10:00, 2023-11-05 11:15:00]|\n",
      "|[2023-11-05 11:25:00, 2023-11-05 11:30:00]|BF.B|45.39163333333334 |41.9325       |[2023-11-05 11:15:00, 2023-11-05 11:20:00]|\n",
      "+------------------------------------------+----+------------------+--------------+------------------------------------------+\n",
      "only showing top 20 rows\n",
      "\n",
      "-------------------------------------------\n",
      "Batch: 103\n",
      "-------------------------------------------\n",
      "+------------------------------------------+-----------+----------+-------------------+-------------------+-------------------+\n",
      "|window                                    |first_price|last_price|lastTimeStamp      |firstTimeStamp     |percent_value_lost |\n",
      "+------------------------------------------+-----------+----------+-------------------+-------------------+-------------------+\n",
      "|[2023-11-05 12:10:00, 2023-11-05 12:20:00]|20.67      |19.525    |2023-11-05 12:17:23|2023-11-05 12:15:14|0.05539429124334799|\n",
      "|[2023-11-05 12:20:00, 2023-11-05 12:30:00]|18.99      |17.48     |2023-11-05 12:29:47|2023-11-05 12:24:16|0.07951553449183771|\n",
      "+------------------------------------------+-----------+----------+-------------------+-------------------+-------------------+\n",
      "\n"
     ]
    },
    {
     "name": "stderr",
     "output_type": "stream",
     "text": [
      "                                                                                \r"
     ]
    },
    {
     "name": "stdout",
     "output_type": "stream",
     "text": [
      "-------------------------------------------\n",
      "Batch: 104\n",
      "-------------------------------------------\n",
      "+------------------------------------------+-----------+----------+-------------------+-------------------+-------------------+\n",
      "|window                                    |first_price|last_price|lastTimeStamp      |firstTimeStamp     |percent_value_lost |\n",
      "+------------------------------------------+-----------+----------+-------------------+-------------------+-------------------+\n",
      "|[2023-11-05 12:10:00, 2023-11-05 12:20:00]|20.67      |19.525    |2023-11-05 12:17:23|2023-11-05 12:15:14|0.05539429124334799|\n",
      "|[2023-11-05 12:20:00, 2023-11-05 12:30:00]|18.99      |17.48     |2023-11-05 12:29:47|2023-11-05 12:24:16|0.07951553449183771|\n",
      "+------------------------------------------+-----------+----------+-------------------+-------------------+-------------------+\n",
      "\n"
     ]
    },
    {
     "name": "stderr",
     "output_type": "stream",
     "text": [
      "                                                                                \r"
     ]
    },
    {
     "name": "stdout",
     "output_type": "stream",
     "text": [
      "+------------------------------------------+----+------------------+------------------+------------------------------------------+\n",
      "|window                                    |name|avg(price)        |previous_price    |previous_window                           |\n",
      "+------------------------------------------+----+------------------+------------------+------------------------------------------+\n",
      "|[2023-11-05 11:20:00, 2023-11-05 11:25:00]|ALXN|164.66            |180.2             |[2023-11-05 11:15:00, 2023-11-05 11:20:00]|\n",
      "|[2023-11-05 11:45:00, 2023-11-05 11:50:00]|ALXN|127.81            |201.66995         |[2023-11-05 11:30:00, 2023-11-05 11:35:00]|\n",
      "|[2023-11-05 11:10:00, 2023-11-05 11:15:00]|GIS |49.35666666666666 |50.5207           |[2023-11-05 11:05:00, 2023-11-05 11:10:00]|\n",
      "|[2023-11-05 11:15:00, 2023-11-05 11:20:00]|GIS |48.6              |49.35666666666666 |[2023-11-05 11:10:00, 2023-11-05 11:15:00]|\n",
      "|[2023-11-05 11:20:00, 2023-11-05 11:25:00]|K   |66.23             |67.63             |[2023-11-05 11:15:00, 2023-11-05 11:20:00]|\n",
      "|[2023-11-05 11:25:00, 2023-11-05 11:30:00]|K   |62.1798           |66.23             |[2023-11-05 11:20:00, 2023-11-05 11:25:00]|\n",
      "|[2023-11-05 11:20:00, 2023-11-05 11:25:00]|LEN |35.5196           |38.958349999999996|[2023-11-05 11:15:00, 2023-11-05 11:20:00]|\n",
      "|[2023-11-05 11:30:00, 2023-11-05 11:35:00]|LEN |49.5392           |49.676500000000004|[2023-11-05 11:25:00, 2023-11-05 11:30:00]|\n",
      "|[2023-11-05 11:35:00, 2023-11-05 11:40:00]|LEN |47.4216           |49.5392           |[2023-11-05 11:30:00, 2023-11-05 11:35:00]|\n",
      "|[2023-11-05 11:40:00, 2023-11-05 11:45:00]|LEN |46.4265           |47.4216           |[2023-11-05 11:35:00, 2023-11-05 11:40:00]|\n",
      "|[2023-11-05 11:35:00, 2023-11-05 11:40:00]|SPGI|92.65             |97.46             |[2023-11-05 11:30:00, 2023-11-05 11:35:00]|\n",
      "|[2023-11-05 11:10:00, 2023-11-05 11:15:00]|AIV |28.738            |30.63             |[2023-11-05 11:05:00, 2023-11-05 11:10:00]|\n",
      "|[2023-11-05 11:10:00, 2023-11-05 11:15:00]|AVY |42.56             |43.17             |[2023-11-05 11:05:00, 2023-11-05 11:10:00]|\n",
      "|[2023-11-05 11:30:00, 2023-11-05 11:35:00]|AVY |59.358            |62.78             |[2023-11-05 11:25:00, 2023-11-05 11:30:00]|\n",
      "|[2023-11-05 11:35:00, 2023-11-05 11:40:00]|BF.B|48.2725           |51.205            |[2023-11-05 11:30:00, 2023-11-05 11:35:00]|\n",
      "|[2023-11-05 11:40:00, 2023-11-05 11:45:00]|BF.B|46.98415          |48.2725           |[2023-11-05 11:35:00, 2023-11-05 11:40:00]|\n",
      "|[2023-11-05 11:30:00, 2023-11-05 11:35:00]|PPG |104.09            |113.25999999999999|[2023-11-05 11:25:00, 2023-11-05 11:30:00]|\n",
      "|[2023-11-05 11:45:00, 2023-11-05 11:50:00]|PPG |105.00999999999999|112.035           |[2023-11-05 11:35:00, 2023-11-05 11:40:00]|\n",
      "|[2023-11-05 11:25:00, 2023-11-05 11:30:00]|RF  |9.89              |10.489999999999998|[2023-11-05 11:15:00, 2023-11-05 11:20:00]|\n",
      "|[2023-11-05 11:15:00, 2023-11-05 11:20:00]|IRM |27.715            |28.79             |[2023-11-05 11:10:00, 2023-11-05 11:15:00]|\n",
      "+------------------------------------------+----+------------------+------------------+------------------------------------------+\n",
      "only showing top 20 rows\n",
      "\n",
      "+------------------------------------------+----+------------------+--------------+------------------------------------------+\n",
      "|window                                    |name|avg(price)        |previous_price|previous_window                           |\n",
      "+------------------------------------------+----+------------------+--------------+------------------------------------------+\n",
      "|[2023-11-05 11:15:00, 2023-11-05 11:20:00]|ALXN|180.2             |108.02        |[2023-11-05 11:10:00, 2023-11-05 11:15:00]|\n",
      "|[2023-11-05 11:25:00, 2023-11-05 11:30:00]|ALXN|186.99            |164.66        |[2023-11-05 11:20:00, 2023-11-05 11:25:00]|\n",
      "|[2023-11-05 11:30:00, 2023-11-05 11:35:00]|ALXN|201.66995         |186.99        |[2023-11-05 11:25:00, 2023-11-05 11:30:00]|\n",
      "|[2023-11-05 11:20:00, 2023-11-05 11:25:00]|GIS |50.92             |48.6          |[2023-11-05 11:15:00, 2023-11-05 11:20:00]|\n",
      "|[2023-11-05 11:30:00, 2023-11-05 11:35:00]|GIS |57.61             |50.92         |[2023-11-05 11:20:00, 2023-11-05 11:25:00]|\n",
      "|[2023-11-05 11:15:00, 2023-11-05 11:20:00]|K   |67.63             |65.865        |[2023-11-05 11:10:00, 2023-11-05 11:15:00]|\n",
      "|[2023-11-05 11:30:00, 2023-11-05 11:35:00]|K   |66.81             |62.1798       |[2023-11-05 11:25:00, 2023-11-05 11:30:00]|\n",
      "|[2023-11-05 11:15:00, 2023-11-05 11:20:00]|LEN |38.958349999999996|33.89705      |[2023-11-05 11:10:00, 2023-11-05 11:15:00]|\n",
      "|[2023-11-05 11:25:00, 2023-11-05 11:30:00]|LEN |49.676500000000004|35.5196       |[2023-11-05 11:20:00, 2023-11-05 11:25:00]|\n",
      "|[2023-11-05 11:15:00, 2023-11-05 11:20:00]|SPGI|77.12             |60.16         |[2023-11-05 11:10:00, 2023-11-05 11:15:00]|\n",
      "|[2023-11-05 11:20:00, 2023-11-05 11:25:00]|SPGI|86.69             |77.12         |[2023-11-05 11:15:00, 2023-11-05 11:20:00]|\n",
      "|[2023-11-05 11:25:00, 2023-11-05 11:30:00]|SPGI|90.47             |86.69         |[2023-11-05 11:20:00, 2023-11-05 11:25:00]|\n",
      "|[2023-11-05 11:30:00, 2023-11-05 11:35:00]|SPGI|97.46             |90.47         |[2023-11-05 11:25:00, 2023-11-05 11:30:00]|\n",
      "|[2023-11-05 11:15:00, 2023-11-05 11:20:00]|AIV |29.98             |28.738        |[2023-11-05 11:10:00, 2023-11-05 11:15:00]|\n",
      "|[2023-11-05 11:25:00, 2023-11-05 11:30:00]|AIV |37.57             |29.98         |[2023-11-05 11:15:00, 2023-11-05 11:20:00]|\n",
      "|[2023-11-05 11:35:00, 2023-11-05 11:40:00]|AIV |40.975            |37.57         |[2023-11-05 11:25:00, 2023-11-05 11:30:00]|\n",
      "|[2023-11-05 11:25:00, 2023-11-05 11:30:00]|AVY |62.78             |42.56         |[2023-11-05 11:10:00, 2023-11-05 11:15:00]|\n",
      "|[2023-11-05 11:35:00, 2023-11-05 11:40:00]|AVY |68.55000000000001 |59.358        |[2023-11-05 11:30:00, 2023-11-05 11:35:00]|\n",
      "|[2023-11-05 11:15:00, 2023-11-05 11:20:00]|BF.B|41.9325           |35.775        |[2023-11-05 11:10:00, 2023-11-05 11:15:00]|\n",
      "|[2023-11-05 11:25:00, 2023-11-05 11:30:00]|BF.B|45.39163333333334 |41.9325       |[2023-11-05 11:15:00, 2023-11-05 11:20:00]|\n",
      "+------------------------------------------+----+------------------+--------------+------------------------------------------+\n",
      "only showing top 20 rows\n",
      "\n",
      "-------------------------------------------\n",
      "Batch: 105\n",
      "-------------------------------------------\n",
      "+------------------------------------------+-----------+----------+-------------------+-------------------+-------------------+\n",
      "|window                                    |first_price|last_price|lastTimeStamp      |firstTimeStamp     |percent_value_lost |\n",
      "+------------------------------------------+-----------+----------+-------------------+-------------------+-------------------+\n",
      "|[2023-11-05 12:10:00, 2023-11-05 12:20:00]|20.67      |19.525    |2023-11-05 12:17:23|2023-11-05 12:15:14|0.05539429124334799|\n",
      "|[2023-11-05 12:20:00, 2023-11-05 12:30:00]|18.99      |17.48     |2023-11-05 12:29:47|2023-11-05 12:24:16|0.07951553449183771|\n",
      "+------------------------------------------+-----------+----------+-------------------+-------------------+-------------------+\n",
      "\n"
     ]
    },
    {
     "name": "stderr",
     "output_type": "stream",
     "text": [
      "                                                                                \r"
     ]
    },
    {
     "name": "stdout",
     "output_type": "stream",
     "text": [
      "-------------------------------------------\n",
      "Batch: 106\n",
      "-------------------------------------------\n",
      "+------------------------------------------+-----------+----------+-------------------+-------------------+-------------------+\n",
      "|window                                    |first_price|last_price|lastTimeStamp      |firstTimeStamp     |percent_value_lost |\n",
      "+------------------------------------------+-----------+----------+-------------------+-------------------+-------------------+\n",
      "|[2023-11-05 12:10:00, 2023-11-05 12:20:00]|20.67      |19.525    |2023-11-05 12:17:23|2023-11-05 12:15:14|0.05539429124334799|\n",
      "|[2023-11-05 12:20:00, 2023-11-05 12:30:00]|18.99      |17.48     |2023-11-05 12:29:47|2023-11-05 12:24:16|0.07951553449183771|\n",
      "+------------------------------------------+-----------+----------+-------------------+-------------------+-------------------+\n",
      "\n"
     ]
    },
    {
     "name": "stderr",
     "output_type": "stream",
     "text": [
      "[Stage 2152:(165 + 4) / 200][Stage 2160:> (0 + 0) / 1][Stage 2164:> (0 + 0) / 1]\r"
     ]
    },
    {
     "name": "stdout",
     "output_type": "stream",
     "text": [
      "+------------------------------------------+----+------------------+------------------+------------------------------------------+\n",
      "|window                                    |name|avg(price)        |previous_price    |previous_window                           |\n",
      "+------------------------------------------+----+------------------+------------------+------------------------------------------+\n",
      "|[2023-11-05 11:20:00, 2023-11-05 11:25:00]|ALXN|164.66            |180.2             |[2023-11-05 11:15:00, 2023-11-05 11:20:00]|\n",
      "|[2023-11-05 11:45:00, 2023-11-05 11:50:00]|ALXN|127.81            |201.66995         |[2023-11-05 11:30:00, 2023-11-05 11:35:00]|\n",
      "|[2023-11-05 11:10:00, 2023-11-05 11:15:00]|GIS |49.35666666666666 |50.5207           |[2023-11-05 11:05:00, 2023-11-05 11:10:00]|\n",
      "|[2023-11-05 11:15:00, 2023-11-05 11:20:00]|GIS |48.6              |49.35666666666666 |[2023-11-05 11:10:00, 2023-11-05 11:15:00]|\n",
      "|[2023-11-05 11:20:00, 2023-11-05 11:25:00]|K   |66.23             |67.63             |[2023-11-05 11:15:00, 2023-11-05 11:20:00]|\n",
      "|[2023-11-05 11:25:00, 2023-11-05 11:30:00]|K   |62.1798           |66.23             |[2023-11-05 11:20:00, 2023-11-05 11:25:00]|\n",
      "|[2023-11-05 11:20:00, 2023-11-05 11:25:00]|LEN |35.5196           |38.958349999999996|[2023-11-05 11:15:00, 2023-11-05 11:20:00]|\n",
      "|[2023-11-05 11:30:00, 2023-11-05 11:35:00]|LEN |49.5392           |49.676500000000004|[2023-11-05 11:25:00, 2023-11-05 11:30:00]|\n",
      "|[2023-11-05 11:35:00, 2023-11-05 11:40:00]|LEN |47.4216           |49.5392           |[2023-11-05 11:30:00, 2023-11-05 11:35:00]|\n",
      "|[2023-11-05 11:40:00, 2023-11-05 11:45:00]|LEN |46.4265           |47.4216           |[2023-11-05 11:35:00, 2023-11-05 11:40:00]|\n",
      "|[2023-11-05 11:35:00, 2023-11-05 11:40:00]|SPGI|92.65             |97.46             |[2023-11-05 11:30:00, 2023-11-05 11:35:00]|\n",
      "|[2023-11-05 11:10:00, 2023-11-05 11:15:00]|AIV |28.738            |30.63             |[2023-11-05 11:05:00, 2023-11-05 11:10:00]|\n",
      "|[2023-11-05 11:10:00, 2023-11-05 11:15:00]|AVY |42.56             |43.17             |[2023-11-05 11:05:00, 2023-11-05 11:10:00]|\n",
      "|[2023-11-05 11:30:00, 2023-11-05 11:35:00]|AVY |59.358            |62.78             |[2023-11-05 11:25:00, 2023-11-05 11:30:00]|\n",
      "|[2023-11-05 11:35:00, 2023-11-05 11:40:00]|BF.B|48.2725           |51.205            |[2023-11-05 11:30:00, 2023-11-05 11:35:00]|\n",
      "|[2023-11-05 11:40:00, 2023-11-05 11:45:00]|BF.B|46.98415          |48.2725           |[2023-11-05 11:35:00, 2023-11-05 11:40:00]|\n",
      "|[2023-11-05 11:30:00, 2023-11-05 11:35:00]|PPG |104.09            |113.25999999999999|[2023-11-05 11:25:00, 2023-11-05 11:30:00]|\n",
      "|[2023-11-05 11:45:00, 2023-11-05 11:50:00]|PPG |105.00999999999999|112.035           |[2023-11-05 11:35:00, 2023-11-05 11:40:00]|\n",
      "|[2023-11-05 11:25:00, 2023-11-05 11:30:00]|RF  |9.89              |10.489999999999998|[2023-11-05 11:15:00, 2023-11-05 11:20:00]|\n",
      "|[2023-11-05 11:15:00, 2023-11-05 11:20:00]|IRM |27.715            |28.79             |[2023-11-05 11:10:00, 2023-11-05 11:15:00]|\n",
      "+------------------------------------------+----+------------------+------------------+------------------------------------------+\n",
      "only showing top 20 rows\n",
      "\n",
      "+------------------------------------------+----+------------------+-----------------+------------------------------------------+\n",
      "|window                                    |name|avg(price)        |previous_price   |previous_window                           |\n",
      "+------------------------------------------+----+------------------+-----------------+------------------------------------------+\n",
      "|[2023-11-05 11:15:00, 2023-11-05 11:20:00]|ALXN|180.2             |108.02           |[2023-11-05 11:10:00, 2023-11-05 11:15:00]|\n",
      "|[2023-11-05 11:25:00, 2023-11-05 11:30:00]|ALXN|186.99            |164.66           |[2023-11-05 11:20:00, 2023-11-05 11:25:00]|\n",
      "|[2023-11-05 11:30:00, 2023-11-05 11:35:00]|ALXN|201.66995         |186.99           |[2023-11-05 11:25:00, 2023-11-05 11:30:00]|\n",
      "|[2023-11-05 11:20:00, 2023-11-05 11:25:00]|GIS |50.92             |48.6             |[2023-11-05 11:15:00, 2023-11-05 11:20:00]|\n",
      "|[2023-11-05 11:30:00, 2023-11-05 11:35:00]|GIS |57.61             |50.92            |[2023-11-05 11:20:00, 2023-11-05 11:25:00]|\n",
      "|[2023-11-05 11:15:00, 2023-11-05 11:20:00]|K   |67.63             |65.865           |[2023-11-05 11:10:00, 2023-11-05 11:15:00]|\n",
      "|[2023-11-05 11:30:00, 2023-11-05 11:35:00]|K   |66.81             |62.1798          |[2023-11-05 11:25:00, 2023-11-05 11:30:00]|\n",
      "|[2023-11-05 11:15:00, 2023-11-05 11:20:00]|LEN |38.958349999999996|33.89705         |[2023-11-05 11:10:00, 2023-11-05 11:15:00]|\n",
      "|[2023-11-05 11:25:00, 2023-11-05 11:30:00]|LEN |49.676500000000004|35.5196          |[2023-11-05 11:20:00, 2023-11-05 11:25:00]|\n",
      "|[2023-11-05 11:15:00, 2023-11-05 11:20:00]|SPGI|77.12             |60.16            |[2023-11-05 11:10:00, 2023-11-05 11:15:00]|\n",
      "|[2023-11-05 11:20:00, 2023-11-05 11:25:00]|SPGI|86.69             |77.12            |[2023-11-05 11:15:00, 2023-11-05 11:20:00]|\n",
      "|[2023-11-05 11:25:00, 2023-11-05 11:30:00]|SPGI|90.47             |86.69            |[2023-11-05 11:20:00, 2023-11-05 11:25:00]|\n",
      "|[2023-11-05 11:30:00, 2023-11-05 11:35:00]|SPGI|97.46             |90.47            |[2023-11-05 11:25:00, 2023-11-05 11:30:00]|\n",
      "|[2023-11-05 11:15:00, 2023-11-05 11:20:00]|AIV |29.98             |28.738           |[2023-11-05 11:10:00, 2023-11-05 11:15:00]|\n",
      "|[2023-11-05 11:25:00, 2023-11-05 11:30:00]|AIV |37.57             |29.98            |[2023-11-05 11:15:00, 2023-11-05 11:20:00]|\n",
      "|[2023-11-05 11:35:00, 2023-11-05 11:40:00]|AIV |40.975            |37.57            |[2023-11-05 11:25:00, 2023-11-05 11:30:00]|\n",
      "|[2023-11-05 11:40:00, 2023-11-05 11:45:00]|AIV |47.36             |40.975           |[2023-11-05 11:35:00, 2023-11-05 11:40:00]|\n",
      "|[2023-11-05 11:25:00, 2023-11-05 11:30:00]|AVY |62.78             |42.56            |[2023-11-05 11:10:00, 2023-11-05 11:15:00]|\n",
      "|[2023-11-05 11:35:00, 2023-11-05 11:40:00]|AVY |68.55000000000001 |59.358           |[2023-11-05 11:30:00, 2023-11-05 11:35:00]|\n",
      "|[2023-11-05 11:40:00, 2023-11-05 11:45:00]|AVY |78.45             |68.55000000000001|[2023-11-05 11:35:00, 2023-11-05 11:40:00]|\n",
      "+------------------------------------------+----+------------------+-----------------+------------------------------------------+\n",
      "only showing top 20 rows\n",
      "\n",
      "-------------------------------------------\n",
      "Batch: 107\n",
      "-------------------------------------------\n",
      "+------------------------------------------+-----------+----------+-------------------+-------------------+-------------------+\n",
      "|window                                    |first_price|last_price|lastTimeStamp      |firstTimeStamp     |percent_value_lost |\n",
      "+------------------------------------------+-----------+----------+-------------------+-------------------+-------------------+\n",
      "|[2023-11-05 12:10:00, 2023-11-05 12:20:00]|20.67      |19.525    |2023-11-05 12:17:23|2023-11-05 12:15:14|0.05539429124334799|\n",
      "|[2023-11-05 12:20:00, 2023-11-05 12:30:00]|18.99      |17.48     |2023-11-05 12:29:47|2023-11-05 12:24:16|0.07951553449183771|\n",
      "+------------------------------------------+-----------+----------+-------------------+-------------------+-------------------+\n",
      "\n"
     ]
    },
    {
     "name": "stderr",
     "output_type": "stream",
     "text": [
      "                                                                                \r"
     ]
    },
    {
     "name": "stdout",
     "output_type": "stream",
     "text": [
      "-------------------------------------------\n",
      "Batch: 108\n",
      "-------------------------------------------\n",
      "+------------------------------------------+-----------+----------+-------------------+-------------------+-------------------+\n",
      "|window                                    |first_price|last_price|lastTimeStamp      |firstTimeStamp     |percent_value_lost |\n",
      "+------------------------------------------+-----------+----------+-------------------+-------------------+-------------------+\n",
      "|[2023-11-05 12:10:00, 2023-11-05 12:20:00]|20.67      |19.525    |2023-11-05 12:17:23|2023-11-05 12:15:14|0.05539429124334799|\n",
      "|[2023-11-05 12:20:00, 2023-11-05 12:30:00]|18.99      |17.48     |2023-11-05 12:29:47|2023-11-05 12:24:16|0.07951553449183771|\n",
      "+------------------------------------------+-----------+----------+-------------------+-------------------+-------------------+\n",
      "\n"
     ]
    },
    {
     "name": "stderr",
     "output_type": "stream",
     "text": [
      "                                                                                \r"
     ]
    },
    {
     "name": "stdout",
     "output_type": "stream",
     "text": [
      "+------------------------------------------+----+------------------+------------------+------------------------------------------+\n",
      "|window                                    |name|avg(price)        |previous_price    |previous_window                           |\n",
      "+------------------------------------------+----+------------------+------------------+------------------------------------------+\n",
      "|[2023-11-05 11:20:00, 2023-11-05 11:25:00]|ALXN|164.66            |180.2             |[2023-11-05 11:15:00, 2023-11-05 11:20:00]|\n",
      "|[2023-11-05 11:45:00, 2023-11-05 11:50:00]|ALXN|127.81            |201.66995         |[2023-11-05 11:30:00, 2023-11-05 11:35:00]|\n",
      "|[2023-11-05 11:10:00, 2023-11-05 11:15:00]|GIS |49.35666666666666 |50.5207           |[2023-11-05 11:05:00, 2023-11-05 11:10:00]|\n",
      "|[2023-11-05 11:15:00, 2023-11-05 11:20:00]|GIS |48.6              |49.35666666666666 |[2023-11-05 11:10:00, 2023-11-05 11:15:00]|\n",
      "|[2023-11-05 11:20:00, 2023-11-05 11:25:00]|K   |66.23             |67.63             |[2023-11-05 11:15:00, 2023-11-05 11:20:00]|\n",
      "|[2023-11-05 11:25:00, 2023-11-05 11:30:00]|K   |62.1798           |66.23             |[2023-11-05 11:20:00, 2023-11-05 11:25:00]|\n",
      "|[2023-11-05 11:20:00, 2023-11-05 11:25:00]|LEN |35.5196           |38.958349999999996|[2023-11-05 11:15:00, 2023-11-05 11:20:00]|\n",
      "|[2023-11-05 11:30:00, 2023-11-05 11:35:00]|LEN |49.5392           |49.676500000000004|[2023-11-05 11:25:00, 2023-11-05 11:30:00]|\n",
      "|[2023-11-05 11:35:00, 2023-11-05 11:40:00]|LEN |47.4216           |49.5392           |[2023-11-05 11:30:00, 2023-11-05 11:35:00]|\n",
      "|[2023-11-05 11:40:00, 2023-11-05 11:45:00]|LEN |46.4265           |47.4216           |[2023-11-05 11:35:00, 2023-11-05 11:40:00]|\n",
      "|[2023-11-05 11:35:00, 2023-11-05 11:40:00]|SPGI|92.65             |97.46             |[2023-11-05 11:30:00, 2023-11-05 11:35:00]|\n",
      "|[2023-11-05 11:10:00, 2023-11-05 11:15:00]|AIV |28.738            |30.63             |[2023-11-05 11:05:00, 2023-11-05 11:10:00]|\n",
      "|[2023-11-05 11:10:00, 2023-11-05 11:15:00]|AVY |42.56             |43.17             |[2023-11-05 11:05:00, 2023-11-05 11:10:00]|\n",
      "|[2023-11-05 11:30:00, 2023-11-05 11:35:00]|AVY |59.358            |62.78             |[2023-11-05 11:25:00, 2023-11-05 11:30:00]|\n",
      "|[2023-11-05 11:35:00, 2023-11-05 11:40:00]|BF.B|48.2725           |51.205            |[2023-11-05 11:30:00, 2023-11-05 11:35:00]|\n",
      "|[2023-11-05 11:40:00, 2023-11-05 11:45:00]|BF.B|46.98415          |48.2725           |[2023-11-05 11:35:00, 2023-11-05 11:40:00]|\n",
      "|[2023-11-05 11:30:00, 2023-11-05 11:35:00]|PPG |104.09            |113.25999999999999|[2023-11-05 11:25:00, 2023-11-05 11:30:00]|\n",
      "|[2023-11-05 11:45:00, 2023-11-05 11:50:00]|PPG |106.64999999999999|112.035           |[2023-11-05 11:35:00, 2023-11-05 11:40:00]|\n",
      "|[2023-11-05 11:25:00, 2023-11-05 11:30:00]|RF  |9.89              |10.489999999999998|[2023-11-05 11:15:00, 2023-11-05 11:20:00]|\n",
      "|[2023-11-05 11:15:00, 2023-11-05 11:20:00]|IRM |27.715            |28.79             |[2023-11-05 11:10:00, 2023-11-05 11:15:00]|\n",
      "+------------------------------------------+----+------------------+------------------+------------------------------------------+\n",
      "only showing top 20 rows\n",
      "\n",
      "+------------------------------------------+----+------------------+-----------------+------------------------------------------+\n",
      "|window                                    |name|avg(price)        |previous_price   |previous_window                           |\n",
      "+------------------------------------------+----+------------------+-----------------+------------------------------------------+\n",
      "|[2023-11-05 11:15:00, 2023-11-05 11:20:00]|ALXN|180.2             |108.02           |[2023-11-05 11:10:00, 2023-11-05 11:15:00]|\n",
      "|[2023-11-05 11:25:00, 2023-11-05 11:30:00]|ALXN|186.99            |164.66           |[2023-11-05 11:20:00, 2023-11-05 11:25:00]|\n",
      "|[2023-11-05 11:30:00, 2023-11-05 11:35:00]|ALXN|201.66995         |186.99           |[2023-11-05 11:25:00, 2023-11-05 11:30:00]|\n",
      "|[2023-11-05 11:20:00, 2023-11-05 11:25:00]|GIS |50.92             |48.6             |[2023-11-05 11:15:00, 2023-11-05 11:20:00]|\n",
      "|[2023-11-05 11:30:00, 2023-11-05 11:35:00]|GIS |57.61             |50.92            |[2023-11-05 11:20:00, 2023-11-05 11:25:00]|\n",
      "|[2023-11-05 11:15:00, 2023-11-05 11:20:00]|K   |67.63             |65.865           |[2023-11-05 11:10:00, 2023-11-05 11:15:00]|\n",
      "|[2023-11-05 11:30:00, 2023-11-05 11:35:00]|K   |66.81             |62.1798          |[2023-11-05 11:25:00, 2023-11-05 11:30:00]|\n",
      "|[2023-11-05 11:15:00, 2023-11-05 11:20:00]|LEN |38.958349999999996|33.89705         |[2023-11-05 11:10:00, 2023-11-05 11:15:00]|\n",
      "|[2023-11-05 11:25:00, 2023-11-05 11:30:00]|LEN |49.676500000000004|35.5196          |[2023-11-05 11:20:00, 2023-11-05 11:25:00]|\n",
      "|[2023-11-05 11:15:00, 2023-11-05 11:20:00]|SPGI|77.12             |60.16            |[2023-11-05 11:10:00, 2023-11-05 11:15:00]|\n",
      "|[2023-11-05 11:20:00, 2023-11-05 11:25:00]|SPGI|86.69             |77.12            |[2023-11-05 11:15:00, 2023-11-05 11:20:00]|\n",
      "|[2023-11-05 11:25:00, 2023-11-05 11:30:00]|SPGI|90.47             |86.69            |[2023-11-05 11:20:00, 2023-11-05 11:25:00]|\n",
      "|[2023-11-05 11:30:00, 2023-11-05 11:35:00]|SPGI|97.46             |90.47            |[2023-11-05 11:25:00, 2023-11-05 11:30:00]|\n",
      "|[2023-11-05 11:15:00, 2023-11-05 11:20:00]|AIV |29.98             |28.738           |[2023-11-05 11:10:00, 2023-11-05 11:15:00]|\n",
      "|[2023-11-05 11:25:00, 2023-11-05 11:30:00]|AIV |37.57             |29.98            |[2023-11-05 11:15:00, 2023-11-05 11:20:00]|\n",
      "|[2023-11-05 11:35:00, 2023-11-05 11:40:00]|AIV |40.975            |37.57            |[2023-11-05 11:25:00, 2023-11-05 11:30:00]|\n",
      "|[2023-11-05 11:40:00, 2023-11-05 11:45:00]|AIV |45.335            |40.975           |[2023-11-05 11:35:00, 2023-11-05 11:40:00]|\n",
      "|[2023-11-05 11:25:00, 2023-11-05 11:30:00]|AVY |62.78             |42.56            |[2023-11-05 11:10:00, 2023-11-05 11:15:00]|\n",
      "|[2023-11-05 11:35:00, 2023-11-05 11:40:00]|AVY |68.55000000000001 |59.358           |[2023-11-05 11:30:00, 2023-11-05 11:35:00]|\n",
      "|[2023-11-05 11:40:00, 2023-11-05 11:45:00]|AVY |78.45             |68.55000000000001|[2023-11-05 11:35:00, 2023-11-05 11:40:00]|\n",
      "+------------------------------------------+----+------------------+-----------------+------------------------------------------+\n",
      "only showing top 20 rows\n",
      "\n",
      "-------------------------------------------\n",
      "Batch: 109\n",
      "-------------------------------------------\n",
      "+------------------------------------------+-----------+----------+-------------------+-------------------+-------------------+\n",
      "|window                                    |first_price|last_price|lastTimeStamp      |firstTimeStamp     |percent_value_lost |\n",
      "+------------------------------------------+-----------+----------+-------------------+-------------------+-------------------+\n",
      "|[2023-11-05 12:10:00, 2023-11-05 12:20:00]|20.67      |19.525    |2023-11-05 12:17:23|2023-11-05 12:15:14|0.05539429124334799|\n",
      "|[2023-11-05 12:20:00, 2023-11-05 12:30:00]|18.99      |17.48     |2023-11-05 12:29:47|2023-11-05 12:24:16|0.07951553449183771|\n",
      "+------------------------------------------+-----------+----------+-------------------+-------------------+-------------------+\n",
      "\n"
     ]
    },
    {
     "name": "stderr",
     "output_type": "stream",
     "text": [
      "                                                                                \r"
     ]
    },
    {
     "name": "stdout",
     "output_type": "stream",
     "text": [
      "-------------------------------------------\n",
      "Batch: 110\n",
      "-------------------------------------------\n",
      "+------------------------------------------+-----------+----------+-------------------+-------------------+-------------------+\n",
      "|window                                    |first_price|last_price|lastTimeStamp      |firstTimeStamp     |percent_value_lost |\n",
      "+------------------------------------------+-----------+----------+-------------------+-------------------+-------------------+\n",
      "|[2023-11-05 12:10:00, 2023-11-05 12:20:00]|20.67      |19.525    |2023-11-05 12:17:23|2023-11-05 12:15:14|0.05539429124334799|\n",
      "|[2023-11-05 12:20:00, 2023-11-05 12:30:00]|18.99      |17.48     |2023-11-05 12:29:47|2023-11-05 12:24:16|0.07951553449183771|\n",
      "+------------------------------------------+-----------+----------+-------------------+-------------------+-------------------+\n",
      "\n"
     ]
    },
    {
     "name": "stderr",
     "output_type": "stream",
     "text": [
      "                                                                                \r"
     ]
    },
    {
     "name": "stdout",
     "output_type": "stream",
     "text": [
      "+------------------------------------------+----+------------------+-----------------+------------------------------------------+\n",
      "|window                                    |name|avg(price)        |previous_price   |previous_window                           |\n",
      "+------------------------------------------+----+------------------+-----------------+------------------------------------------+\n",
      "|[2023-11-05 11:15:00, 2023-11-05 11:20:00]|ALXN|180.2             |108.02           |[2023-11-05 11:10:00, 2023-11-05 11:15:00]|\n",
      "|[2023-11-05 11:25:00, 2023-11-05 11:30:00]|ALXN|186.99            |164.66           |[2023-11-05 11:20:00, 2023-11-05 11:25:00]|\n",
      "|[2023-11-05 11:30:00, 2023-11-05 11:35:00]|ALXN|201.66995         |186.99           |[2023-11-05 11:25:00, 2023-11-05 11:30:00]|\n",
      "|[2023-11-05 11:20:00, 2023-11-05 11:25:00]|GIS |50.92             |48.6             |[2023-11-05 11:15:00, 2023-11-05 11:20:00]|\n",
      "|[2023-11-05 11:30:00, 2023-11-05 11:35:00]|GIS |57.61             |50.92            |[2023-11-05 11:20:00, 2023-11-05 11:25:00]|\n",
      "|[2023-11-05 11:15:00, 2023-11-05 11:20:00]|K   |67.63             |65.865           |[2023-11-05 11:10:00, 2023-11-05 11:15:00]|\n",
      "|[2023-11-05 11:30:00, 2023-11-05 11:35:00]|K   |66.81             |62.1798          |[2023-11-05 11:25:00, 2023-11-05 11:30:00]|\n",
      "|[2023-11-05 11:15:00, 2023-11-05 11:20:00]|LEN |38.958349999999996|33.89705         |[2023-11-05 11:10:00, 2023-11-05 11:15:00]|\n",
      "|[2023-11-05 11:25:00, 2023-11-05 11:30:00]|LEN |49.676500000000004|35.5196          |[2023-11-05 11:20:00, 2023-11-05 11:25:00]|\n",
      "|[2023-11-05 11:15:00, 2023-11-05 11:20:00]|SPGI|77.12             |60.16            |[2023-11-05 11:10:00, 2023-11-05 11:15:00]|\n",
      "|[2023-11-05 11:20:00, 2023-11-05 11:25:00]|SPGI|86.69             |77.12            |[2023-11-05 11:15:00, 2023-11-05 11:20:00]|\n",
      "|[2023-11-05 11:25:00, 2023-11-05 11:30:00]|SPGI|90.47             |86.69            |[2023-11-05 11:20:00, 2023-11-05 11:25:00]|\n",
      "|[2023-11-05 11:30:00, 2023-11-05 11:35:00]|SPGI|97.46             |90.47            |[2023-11-05 11:25:00, 2023-11-05 11:30:00]|\n",
      "|[2023-11-05 11:15:00, 2023-11-05 11:20:00]|AIV |29.98             |28.738           |[2023-11-05 11:10:00, 2023-11-05 11:15:00]|\n",
      "|[2023-11-05 11:25:00, 2023-11-05 11:30:00]|AIV |37.57             |29.98            |[2023-11-05 11:15:00, 2023-11-05 11:20:00]|\n",
      "|[2023-11-05 11:35:00, 2023-11-05 11:40:00]|AIV |40.975            |37.57            |[2023-11-05 11:25:00, 2023-11-05 11:30:00]|\n",
      "|[2023-11-05 11:40:00, 2023-11-05 11:45:00]|AIV |45.335            |40.975           |[2023-11-05 11:35:00, 2023-11-05 11:40:00]|\n",
      "|[2023-11-05 11:25:00, 2023-11-05 11:30:00]|AVY |62.78             |42.56            |[2023-11-05 11:10:00, 2023-11-05 11:15:00]|\n",
      "|[2023-11-05 11:35:00, 2023-11-05 11:40:00]|AVY |68.55000000000001 |59.358           |[2023-11-05 11:30:00, 2023-11-05 11:35:00]|\n",
      "|[2023-11-05 11:40:00, 2023-11-05 11:45:00]|AVY |78.45             |68.55000000000001|[2023-11-05 11:35:00, 2023-11-05 11:40:00]|\n",
      "+------------------------------------------+----+------------------+-----------------+------------------------------------------+\n",
      "only showing top 20 rows\n",
      "\n",
      "+------------------------------------------+----+------------------+------------------+------------------------------------------+\n",
      "|window                                    |name|avg(price)        |previous_price    |previous_window                           |\n",
      "+------------------------------------------+----+------------------+------------------+------------------------------------------+\n",
      "|[2023-11-05 11:20:00, 2023-11-05 11:25:00]|ALXN|164.66            |180.2             |[2023-11-05 11:15:00, 2023-11-05 11:20:00]|\n",
      "|[2023-11-05 11:45:00, 2023-11-05 11:50:00]|ALXN|127.81            |201.66995         |[2023-11-05 11:30:00, 2023-11-05 11:35:00]|\n",
      "|[2023-11-05 11:10:00, 2023-11-05 11:15:00]|GIS |49.35666666666666 |50.5207           |[2023-11-05 11:05:00, 2023-11-05 11:10:00]|\n",
      "|[2023-11-05 11:15:00, 2023-11-05 11:20:00]|GIS |48.6              |49.35666666666666 |[2023-11-05 11:10:00, 2023-11-05 11:15:00]|\n",
      "|[2023-11-05 11:20:00, 2023-11-05 11:25:00]|K   |66.23             |67.63             |[2023-11-05 11:15:00, 2023-11-05 11:20:00]|\n",
      "|[2023-11-05 11:25:00, 2023-11-05 11:30:00]|K   |62.1798           |66.23             |[2023-11-05 11:20:00, 2023-11-05 11:25:00]|\n",
      "|[2023-11-05 11:20:00, 2023-11-05 11:25:00]|LEN |35.5196           |38.958349999999996|[2023-11-05 11:15:00, 2023-11-05 11:20:00]|\n",
      "|[2023-11-05 11:30:00, 2023-11-05 11:35:00]|LEN |49.5392           |49.676500000000004|[2023-11-05 11:25:00, 2023-11-05 11:30:00]|\n",
      "|[2023-11-05 11:35:00, 2023-11-05 11:40:00]|LEN |47.4216           |49.5392           |[2023-11-05 11:30:00, 2023-11-05 11:35:00]|\n",
      "|[2023-11-05 11:40:00, 2023-11-05 11:45:00]|LEN |46.4265           |47.4216           |[2023-11-05 11:35:00, 2023-11-05 11:40:00]|\n",
      "|[2023-11-05 11:35:00, 2023-11-05 11:40:00]|SPGI|92.65             |97.46             |[2023-11-05 11:30:00, 2023-11-05 11:35:00]|\n",
      "|[2023-11-05 11:10:00, 2023-11-05 11:15:00]|AIV |28.738            |30.63             |[2023-11-05 11:05:00, 2023-11-05 11:10:00]|\n",
      "|[2023-11-05 11:50:00, 2023-11-05 11:55:00]|AIV |42.645            |45.54             |[2023-11-05 11:45:00, 2023-11-05 11:50:00]|\n",
      "|[2023-11-05 11:10:00, 2023-11-05 11:15:00]|AVY |42.56             |43.17             |[2023-11-05 11:05:00, 2023-11-05 11:10:00]|\n",
      "|[2023-11-05 11:30:00, 2023-11-05 11:35:00]|AVY |59.358            |62.78             |[2023-11-05 11:25:00, 2023-11-05 11:30:00]|\n",
      "|[2023-11-05 11:35:00, 2023-11-05 11:40:00]|BF.B|48.2725           |51.205            |[2023-11-05 11:30:00, 2023-11-05 11:35:00]|\n",
      "|[2023-11-05 11:40:00, 2023-11-05 11:45:00]|BF.B|46.98415          |48.2725           |[2023-11-05 11:35:00, 2023-11-05 11:40:00]|\n",
      "|[2023-11-05 11:30:00, 2023-11-05 11:35:00]|PPG |104.09            |113.25999999999999|[2023-11-05 11:25:00, 2023-11-05 11:30:00]|\n",
      "|[2023-11-05 11:45:00, 2023-11-05 11:50:00]|PPG |106.64999999999999|112.035           |[2023-11-05 11:35:00, 2023-11-05 11:40:00]|\n",
      "|[2023-11-05 11:25:00, 2023-11-05 11:30:00]|RF  |9.89              |10.489999999999998|[2023-11-05 11:15:00, 2023-11-05 11:20:00]|\n",
      "+------------------------------------------+----+------------------+------------------+------------------------------------------+\n",
      "only showing top 20 rows\n",
      "\n",
      "-------------------------------------------\n",
      "Batch: 111\n",
      "-------------------------------------------\n",
      "+------------------------------------------+-----------+----------+-------------------+-------------------+-------------------+\n",
      "|window                                    |first_price|last_price|lastTimeStamp      |firstTimeStamp     |percent_value_lost |\n",
      "+------------------------------------------+-----------+----------+-------------------+-------------------+-------------------+\n",
      "|[2023-11-05 12:10:00, 2023-11-05 12:20:00]|20.67      |19.525    |2023-11-05 12:17:23|2023-11-05 12:15:14|0.05539429124334799|\n",
      "|[2023-11-05 12:20:00, 2023-11-05 12:30:00]|18.99      |17.48     |2023-11-05 12:29:47|2023-11-05 12:24:16|0.07951553449183771|\n",
      "+------------------------------------------+-----------+----------+-------------------+-------------------+-------------------+\n",
      "\n"
     ]
    },
    {
     "name": "stderr",
     "output_type": "stream",
     "text": [
      "                                                                                \r"
     ]
    },
    {
     "name": "stdout",
     "output_type": "stream",
     "text": [
      "-------------------------------------------\n",
      "Batch: 112\n",
      "-------------------------------------------\n",
      "+------------------------------------------+-----------+----------+-------------------+-------------------+-------------------+\n",
      "|window                                    |first_price|last_price|lastTimeStamp      |firstTimeStamp     |percent_value_lost |\n",
      "+------------------------------------------+-----------+----------+-------------------+-------------------+-------------------+\n",
      "|[2023-11-05 12:10:00, 2023-11-05 12:20:00]|20.67      |19.525    |2023-11-05 12:17:23|2023-11-05 12:15:14|0.05539429124334799|\n",
      "|[2023-11-05 12:20:00, 2023-11-05 12:30:00]|18.99      |17.48     |2023-11-05 12:29:47|2023-11-05 12:24:16|0.07951553449183771|\n",
      "+------------------------------------------+-----------+----------+-------------------+-------------------+-------------------+\n",
      "\n"
     ]
    },
    {
     "name": "stderr",
     "output_type": "stream",
     "text": [
      "                                                                                \r"
     ]
    },
    {
     "name": "stdout",
     "output_type": "stream",
     "text": [
      "+------------------------------------------+----+------------------+--------------+------------------------------------------+\n",
      "|window                                    |name|avg(price)        |previous_price|previous_window                           |\n",
      "+------------------------------------------+----+------------------+--------------+------------------------------------------+\n",
      "|[2023-11-05 11:15:00, 2023-11-05 11:20:00]|ALXN|180.2             |108.02        |[2023-11-05 11:10:00, 2023-11-05 11:15:00]|\n",
      "|[2023-11-05 11:25:00, 2023-11-05 11:30:00]|ALXN|186.99            |164.66        |[2023-11-05 11:20:00, 2023-11-05 11:25:00]|\n",
      "|[2023-11-05 11:30:00, 2023-11-05 11:35:00]|ALXN|201.66995         |186.99        |[2023-11-05 11:25:00, 2023-11-05 11:30:00]|\n",
      "|[2023-11-05 11:20:00, 2023-11-05 11:25:00]|GIS |50.92             |48.6          |[2023-11-05 11:15:00, 2023-11-05 11:20:00]|\n",
      "|[2023-11-05 11:30:00, 2023-11-05 11:35:00]|GIS |57.61             |50.92         |[2023-11-05 11:20:00, 2023-11-05 11:25:00]|\n",
      "|[2023-11-05 11:15:00, 2023-11-05 11:20:00]|K   |67.63             |65.865        |[2023-11-05 11:10:00, 2023-11-05 11:15:00]|\n",
      "|[2023-11-05 11:30:00, 2023-11-05 11:35:00]|K   |66.81             |62.1798       |[2023-11-05 11:25:00, 2023-11-05 11:30:00]|\n",
      "|[2023-11-05 11:45:00, 2023-11-05 11:50:00]|K   |72.35             |66.81         |[2023-11-05 11:30:00, 2023-11-05 11:35:00]|\n",
      "|[2023-11-05 11:15:00, 2023-11-05 11:20:00]|LEN |38.958349999999996|33.89705      |[2023-11-05 11:10:00, 2023-11-05 11:15:00]|\n",
      "|[2023-11-05 11:25:00, 2023-11-05 11:30:00]|LEN |49.676500000000004|35.5196       |[2023-11-05 11:20:00, 2023-11-05 11:25:00]|\n",
      "|[2023-11-05 11:15:00, 2023-11-05 11:20:00]|SPGI|77.12             |60.16         |[2023-11-05 11:10:00, 2023-11-05 11:15:00]|\n",
      "|[2023-11-05 11:20:00, 2023-11-05 11:25:00]|SPGI|86.69             |77.12         |[2023-11-05 11:15:00, 2023-11-05 11:20:00]|\n",
      "|[2023-11-05 11:25:00, 2023-11-05 11:30:00]|SPGI|90.47             |86.69         |[2023-11-05 11:20:00, 2023-11-05 11:25:00]|\n",
      "|[2023-11-05 11:30:00, 2023-11-05 11:35:00]|SPGI|97.46             |90.47         |[2023-11-05 11:25:00, 2023-11-05 11:30:00]|\n",
      "|[2023-11-05 11:45:00, 2023-11-05 11:50:00]|SPGI|116.16            |92.65         |[2023-11-05 11:35:00, 2023-11-05 11:40:00]|\n",
      "|[2023-11-05 11:15:00, 2023-11-05 11:20:00]|AIV |29.98             |28.738        |[2023-11-05 11:10:00, 2023-11-05 11:15:00]|\n",
      "|[2023-11-05 11:25:00, 2023-11-05 11:30:00]|AIV |37.57             |29.98         |[2023-11-05 11:15:00, 2023-11-05 11:20:00]|\n",
      "|[2023-11-05 11:35:00, 2023-11-05 11:40:00]|AIV |40.975            |37.57         |[2023-11-05 11:25:00, 2023-11-05 11:30:00]|\n",
      "|[2023-11-05 11:40:00, 2023-11-05 11:45:00]|AIV |45.335            |40.975        |[2023-11-05 11:35:00, 2023-11-05 11:40:00]|\n",
      "|[2023-11-05 11:25:00, 2023-11-05 11:30:00]|AVY |62.78             |42.56         |[2023-11-05 11:10:00, 2023-11-05 11:15:00]|\n",
      "+------------------------------------------+----+------------------+--------------+------------------------------------------+\n",
      "only showing top 20 rows\n",
      "\n"
     ]
    },
    {
     "name": "stderr",
     "output_type": "stream",
     "text": [
      "                                                                                \r"
     ]
    },
    {
     "name": "stdout",
     "output_type": "stream",
     "text": [
      "-------------------------------------------\n",
      "Batch: 113\n",
      "-------------------------------------------\n",
      "+------------------------------------------+----+------------------+------------------+------------------------------------------+\n",
      "|window                                    |name|avg(price)        |previous_price    |previous_window                           |\n",
      "+------------------------------------------+----+------------------+------------------+------------------------------------------+\n",
      "|[2023-11-05 11:20:00, 2023-11-05 11:25:00]|ALXN|164.66            |180.2             |[2023-11-05 11:15:00, 2023-11-05 11:20:00]|\n",
      "|[2023-11-05 11:45:00, 2023-11-05 11:50:00]|ALXN|127.81            |201.66995         |[2023-11-05 11:30:00, 2023-11-05 11:35:00]|\n",
      "|[2023-11-05 11:10:00, 2023-11-05 11:15:00]|GIS |49.35666666666666 |50.5207           |[2023-11-05 11:05:00, 2023-11-05 11:10:00]|\n",
      "|[2023-11-05 11:15:00, 2023-11-05 11:20:00]|GIS |48.6              |49.35666666666666 |[2023-11-05 11:10:00, 2023-11-05 11:15:00]|\n",
      "|[2023-11-05 11:20:00, 2023-11-05 11:25:00]|K   |66.23             |67.63             |[2023-11-05 11:15:00, 2023-11-05 11:20:00]|\n",
      "|[2023-11-05 11:25:00, 2023-11-05 11:30:00]|K   |62.1798           |66.23             |[2023-11-05 11:20:00, 2023-11-05 11:25:00]|\n",
      "|[2023-11-05 11:50:00, 2023-11-05 11:55:00]|K   |71.255            |73.32             |[2023-11-05 11:45:00, 2023-11-05 11:50:00]|\n",
      "|[2023-11-05 11:20:00, 2023-11-05 11:25:00]|LEN |35.5196           |38.958349999999996|[2023-11-05 11:15:00, 2023-11-05 11:20:00]|\n",
      "|[2023-11-05 11:30:00, 2023-11-05 11:35:00]|LEN |49.5392           |49.676500000000004|[2023-11-05 11:25:00, 2023-11-05 11:30:00]|\n",
      "|[2023-11-05 11:35:00, 2023-11-05 11:40:00]|LEN |47.4216           |49.5392           |[2023-11-05 11:30:00, 2023-11-05 11:35:00]|\n",
      "|[2023-11-05 11:40:00, 2023-11-05 11:45:00]|LEN |46.4265           |47.4216           |[2023-11-05 11:35:00, 2023-11-05 11:40:00]|\n",
      "|[2023-11-05 11:35:00, 2023-11-05 11:40:00]|SPGI|92.65             |97.46             |[2023-11-05 11:30:00, 2023-11-05 11:35:00]|\n",
      "|[2023-11-05 11:10:00, 2023-11-05 11:15:00]|AIV |28.738            |30.63             |[2023-11-05 11:05:00, 2023-11-05 11:10:00]|\n",
      "|[2023-11-05 11:50:00, 2023-11-05 11:55:00]|AIV |42.645            |45.54             |[2023-11-05 11:45:00, 2023-11-05 11:50:00]|\n",
      "|[2023-11-05 11:10:00, 2023-11-05 11:15:00]|AVY |42.56             |43.17             |[2023-11-05 11:05:00, 2023-11-05 11:10:00]|\n",
      "|[2023-11-05 11:30:00, 2023-11-05 11:35:00]|AVY |59.358            |62.78             |[2023-11-05 11:25:00, 2023-11-05 11:30:00]|\n",
      "|[2023-11-05 11:35:00, 2023-11-05 11:40:00]|BF.B|48.2725           |51.205            |[2023-11-05 11:30:00, 2023-11-05 11:35:00]|\n",
      "|[2023-11-05 11:40:00, 2023-11-05 11:45:00]|BF.B|46.98415          |48.2725           |[2023-11-05 11:35:00, 2023-11-05 11:40:00]|\n",
      "|[2023-11-05 11:30:00, 2023-11-05 11:35:00]|PPG |104.09            |113.25999999999999|[2023-11-05 11:25:00, 2023-11-05 11:30:00]|\n",
      "|[2023-11-05 11:45:00, 2023-11-05 11:50:00]|PPG |106.64999999999999|112.035           |[2023-11-05 11:35:00, 2023-11-05 11:40:00]|\n",
      "+------------------------------------------+----+------------------+------------------+------------------------------------------+\n",
      "only showing top 20 rows\n",
      "\n",
      "+------------------------------------------+-----------+----------+-------------------+-------------------+-------------------+\n",
      "|window                                    |first_price|last_price|lastTimeStamp      |firstTimeStamp     |percent_value_lost |\n",
      "+------------------------------------------+-----------+----------+-------------------+-------------------+-------------------+\n",
      "|[2023-11-05 12:10:00, 2023-11-05 12:20:00]|20.67      |19.525    |2023-11-05 12:17:23|2023-11-05 12:15:14|0.05539429124334799|\n",
      "|[2023-11-05 12:20:00, 2023-11-05 12:30:00]|18.99      |17.48     |2023-11-05 12:29:47|2023-11-05 12:24:16|0.07951553449183771|\n",
      "+------------------------------------------+-----------+----------+-------------------+-------------------+-------------------+\n",
      "\n"
     ]
    },
    {
     "name": "stderr",
     "output_type": "stream",
     "text": [
      "                                                                                \r"
     ]
    },
    {
     "name": "stdout",
     "output_type": "stream",
     "text": [
      "-------------------------------------------\n",
      "Batch: 114\n",
      "-------------------------------------------\n",
      "+------------------------------------------+-----------+----------+-------------------+-------------------+-------------------+\n",
      "|window                                    |first_price|last_price|lastTimeStamp      |firstTimeStamp     |percent_value_lost |\n",
      "+------------------------------------------+-----------+----------+-------------------+-------------------+-------------------+\n",
      "|[2023-11-05 12:10:00, 2023-11-05 12:20:00]|20.67      |19.525    |2023-11-05 12:17:23|2023-11-05 12:15:14|0.05539429124334799|\n",
      "|[2023-11-05 12:20:00, 2023-11-05 12:30:00]|18.99      |17.48     |2023-11-05 12:29:47|2023-11-05 12:24:16|0.07951553449183771|\n",
      "+------------------------------------------+-----------+----------+-------------------+-------------------+-------------------+\n",
      "\n"
     ]
    },
    {
     "name": "stderr",
     "output_type": "stream",
     "text": [
      "                                                                                \r"
     ]
    },
    {
     "name": "stdout",
     "output_type": "stream",
     "text": [
      "+------------------------------------------+----+------------------+--------------+------------------------------------------+\n",
      "|window                                    |name|avg(price)        |previous_price|previous_window                           |\n",
      "+------------------------------------------+----+------------------+--------------+------------------------------------------+\n",
      "|[2023-11-05 11:15:00, 2023-11-05 11:20:00]|ALXN|180.2             |108.02        |[2023-11-05 11:10:00, 2023-11-05 11:15:00]|\n",
      "|[2023-11-05 11:25:00, 2023-11-05 11:30:00]|ALXN|186.99            |164.66        |[2023-11-05 11:20:00, 2023-11-05 11:25:00]|\n",
      "|[2023-11-05 11:30:00, 2023-11-05 11:35:00]|ALXN|201.66995         |186.99        |[2023-11-05 11:25:00, 2023-11-05 11:30:00]|\n",
      "|[2023-11-05 11:20:00, 2023-11-05 11:25:00]|GIS |50.92             |48.6          |[2023-11-05 11:15:00, 2023-11-05 11:20:00]|\n",
      "|[2023-11-05 11:30:00, 2023-11-05 11:35:00]|GIS |57.61             |50.92         |[2023-11-05 11:20:00, 2023-11-05 11:25:00]|\n",
      "|[2023-11-05 11:15:00, 2023-11-05 11:20:00]|K   |67.63             |65.865        |[2023-11-05 11:10:00, 2023-11-05 11:15:00]|\n",
      "|[2023-11-05 11:30:00, 2023-11-05 11:35:00]|K   |66.81             |62.1798       |[2023-11-05 11:25:00, 2023-11-05 11:30:00]|\n",
      "|[2023-11-05 11:45:00, 2023-11-05 11:50:00]|K   |72.35             |66.81         |[2023-11-05 11:30:00, 2023-11-05 11:35:00]|\n",
      "|[2023-11-05 11:15:00, 2023-11-05 11:20:00]|LEN |38.958349999999996|33.89705      |[2023-11-05 11:10:00, 2023-11-05 11:15:00]|\n",
      "|[2023-11-05 11:25:00, 2023-11-05 11:30:00]|LEN |49.676500000000004|35.5196       |[2023-11-05 11:20:00, 2023-11-05 11:25:00]|\n",
      "|[2023-11-05 11:15:00, 2023-11-05 11:20:00]|SPGI|77.12             |60.16         |[2023-11-05 11:10:00, 2023-11-05 11:15:00]|\n",
      "|[2023-11-05 11:20:00, 2023-11-05 11:25:00]|SPGI|86.69             |77.12         |[2023-11-05 11:15:00, 2023-11-05 11:20:00]|\n",
      "|[2023-11-05 11:25:00, 2023-11-05 11:30:00]|SPGI|90.47             |86.69         |[2023-11-05 11:20:00, 2023-11-05 11:25:00]|\n",
      "|[2023-11-05 11:30:00, 2023-11-05 11:35:00]|SPGI|97.46             |90.47         |[2023-11-05 11:25:00, 2023-11-05 11:30:00]|\n",
      "|[2023-11-05 11:45:00, 2023-11-05 11:50:00]|SPGI|123.705           |92.65         |[2023-11-05 11:35:00, 2023-11-05 11:40:00]|\n",
      "|[2023-11-05 11:15:00, 2023-11-05 11:20:00]|AIV |29.98             |28.738        |[2023-11-05 11:10:00, 2023-11-05 11:15:00]|\n",
      "|[2023-11-05 11:25:00, 2023-11-05 11:30:00]|AIV |37.57             |29.98         |[2023-11-05 11:15:00, 2023-11-05 11:20:00]|\n",
      "|[2023-11-05 11:35:00, 2023-11-05 11:40:00]|AIV |40.975            |37.57         |[2023-11-05 11:25:00, 2023-11-05 11:30:00]|\n",
      "|[2023-11-05 11:40:00, 2023-11-05 11:45:00]|AIV |45.335            |40.975        |[2023-11-05 11:35:00, 2023-11-05 11:40:00]|\n",
      "|[2023-11-05 11:25:00, 2023-11-05 11:30:00]|AVY |62.78             |42.56         |[2023-11-05 11:10:00, 2023-11-05 11:15:00]|\n",
      "+------------------------------------------+----+------------------+--------------+------------------------------------------+\n",
      "only showing top 20 rows\n",
      "\n"
     ]
    },
    {
     "name": "stderr",
     "output_type": "stream",
     "text": [
      "                                                                                \r"
     ]
    },
    {
     "name": "stdout",
     "output_type": "stream",
     "text": [
      "+------------------------------------------+----+------------------+------------------+------------------------------------------+\n",
      "|window                                    |name|avg(price)        |previous_price    |previous_window                           |\n",
      "+------------------------------------------+----+------------------+------------------+------------------------------------------+\n",
      "|[2023-11-05 11:20:00, 2023-11-05 11:25:00]|ALXN|164.66            |180.2             |[2023-11-05 11:15:00, 2023-11-05 11:20:00]|\n",
      "|[2023-11-05 11:45:00, 2023-11-05 11:50:00]|ALXN|127.81            |201.66995         |[2023-11-05 11:30:00, 2023-11-05 11:35:00]|\n",
      "|[2023-11-05 11:10:00, 2023-11-05 11:15:00]|GIS |49.35666666666666 |50.5207           |[2023-11-05 11:05:00, 2023-11-05 11:10:00]|\n",
      "|[2023-11-05 11:15:00, 2023-11-05 11:20:00]|GIS |48.6              |49.35666666666666 |[2023-11-05 11:10:00, 2023-11-05 11:15:00]|\n",
      "|[2023-11-05 11:20:00, 2023-11-05 11:25:00]|K   |66.23             |67.63             |[2023-11-05 11:15:00, 2023-11-05 11:20:00]|\n",
      "|[2023-11-05 11:25:00, 2023-11-05 11:30:00]|K   |62.1798           |66.23             |[2023-11-05 11:20:00, 2023-11-05 11:25:00]|\n",
      "|[2023-11-05 11:50:00, 2023-11-05 11:55:00]|K   |71.255            |73.32             |[2023-11-05 11:45:00, 2023-11-05 11:50:00]|\n",
      "|[2023-11-05 11:20:00, 2023-11-05 11:25:00]|LEN |35.5196           |38.958349999999996|[2023-11-05 11:15:00, 2023-11-05 11:20:00]|\n",
      "|[2023-11-05 11:30:00, 2023-11-05 11:35:00]|LEN |49.5392           |49.676500000000004|[2023-11-05 11:25:00, 2023-11-05 11:30:00]|\n",
      "|[2023-11-05 11:35:00, 2023-11-05 11:40:00]|LEN |47.4216           |49.5392           |[2023-11-05 11:30:00, 2023-11-05 11:35:00]|\n",
      "|[2023-11-05 11:40:00, 2023-11-05 11:45:00]|LEN |46.4265           |47.4216           |[2023-11-05 11:35:00, 2023-11-05 11:40:00]|\n",
      "|[2023-11-05 11:35:00, 2023-11-05 11:40:00]|SPGI|92.65             |97.46             |[2023-11-05 11:30:00, 2023-11-05 11:35:00]|\n",
      "|[2023-11-05 11:10:00, 2023-11-05 11:15:00]|AIV |28.738            |30.63             |[2023-11-05 11:05:00, 2023-11-05 11:10:00]|\n",
      "|[2023-11-05 11:50:00, 2023-11-05 11:55:00]|AIV |42.645            |45.54             |[2023-11-05 11:45:00, 2023-11-05 11:50:00]|\n",
      "|[2023-11-05 11:10:00, 2023-11-05 11:15:00]|AVY |42.56             |43.17             |[2023-11-05 11:05:00, 2023-11-05 11:10:00]|\n",
      "|[2023-11-05 11:30:00, 2023-11-05 11:35:00]|AVY |59.358            |62.78             |[2023-11-05 11:25:00, 2023-11-05 11:30:00]|\n",
      "|[2023-11-05 11:35:00, 2023-11-05 11:40:00]|BF.B|48.2725           |51.205            |[2023-11-05 11:30:00, 2023-11-05 11:35:00]|\n",
      "|[2023-11-05 11:40:00, 2023-11-05 11:45:00]|BF.B|46.98415          |48.2725           |[2023-11-05 11:35:00, 2023-11-05 11:40:00]|\n",
      "|[2023-11-05 11:30:00, 2023-11-05 11:35:00]|PPG |104.09            |113.25999999999999|[2023-11-05 11:25:00, 2023-11-05 11:30:00]|\n",
      "|[2023-11-05 11:45:00, 2023-11-05 11:50:00]|PPG |106.64999999999999|112.035           |[2023-11-05 11:35:00, 2023-11-05 11:40:00]|\n",
      "+------------------------------------------+----+------------------+------------------+------------------------------------------+\n",
      "only showing top 20 rows\n",
      "\n",
      "-------------------------------------------\n",
      "Batch: 115\n",
      "-------------------------------------------\n",
      "+------------------------------------------+-----------+----------+-------------------+-------------------+-------------------+\n",
      "|window                                    |first_price|last_price|lastTimeStamp      |firstTimeStamp     |percent_value_lost |\n",
      "+------------------------------------------+-----------+----------+-------------------+-------------------+-------------------+\n",
      "|[2023-11-05 12:10:00, 2023-11-05 12:20:00]|20.67      |19.525    |2023-11-05 12:17:23|2023-11-05 12:15:14|0.05539429124334799|\n",
      "|[2023-11-05 12:20:00, 2023-11-05 12:30:00]|18.99      |17.48     |2023-11-05 12:29:47|2023-11-05 12:24:16|0.07951553449183771|\n",
      "+------------------------------------------+-----------+----------+-------------------+-------------------+-------------------+\n",
      "\n"
     ]
    },
    {
     "name": "stderr",
     "output_type": "stream",
     "text": [
      "                                                                                \r"
     ]
    },
    {
     "name": "stdout",
     "output_type": "stream",
     "text": [
      "-------------------------------------------\n",
      "Batch: 116\n",
      "-------------------------------------------\n",
      "+------------------------------------------+-----------+----------+-------------------+-------------------+-------------------+\n",
      "|window                                    |first_price|last_price|lastTimeStamp      |firstTimeStamp     |percent_value_lost |\n",
      "+------------------------------------------+-----------+----------+-------------------+-------------------+-------------------+\n",
      "|[2023-11-05 12:10:00, 2023-11-05 12:20:00]|20.67      |19.525    |2023-11-05 12:17:23|2023-11-05 12:15:14|0.05539429124334799|\n",
      "|[2023-11-05 12:20:00, 2023-11-05 12:30:00]|18.99      |17.48     |2023-11-05 12:29:47|2023-11-05 12:24:16|0.07951553449183771|\n",
      "+------------------------------------------+-----------+----------+-------------------+-------------------+-------------------+\n",
      "\n"
     ]
    },
    {
     "name": "stderr",
     "output_type": "stream",
     "text": [
      "                                                                                \r"
     ]
    },
    {
     "name": "stdout",
     "output_type": "stream",
     "text": [
      "+------------------------------------------+----+------------------+--------------+------------------------------------------+\n",
      "|window                                    |name|avg(price)        |previous_price|previous_window                           |\n",
      "+------------------------------------------+----+------------------+--------------+------------------------------------------+\n",
      "|[2023-11-05 11:15:00, 2023-11-05 11:20:00]|ALXN|180.2             |108.02        |[2023-11-05 11:10:00, 2023-11-05 11:15:00]|\n",
      "|[2023-11-05 11:25:00, 2023-11-05 11:30:00]|ALXN|186.99            |164.66        |[2023-11-05 11:20:00, 2023-11-05 11:25:00]|\n",
      "|[2023-11-05 11:30:00, 2023-11-05 11:35:00]|ALXN|201.66995         |186.99        |[2023-11-05 11:25:00, 2023-11-05 11:30:00]|\n",
      "|[2023-11-05 11:20:00, 2023-11-05 11:25:00]|GIS |50.92             |48.6          |[2023-11-05 11:15:00, 2023-11-05 11:20:00]|\n",
      "|[2023-11-05 11:30:00, 2023-11-05 11:35:00]|GIS |57.61             |50.92         |[2023-11-05 11:20:00, 2023-11-05 11:25:00]|\n",
      "|[2023-11-05 11:45:00, 2023-11-05 11:50:00]|GIS |60.67             |57.61         |[2023-11-05 11:30:00, 2023-11-05 11:35:00]|\n",
      "|[2023-11-05 11:15:00, 2023-11-05 11:20:00]|K   |67.63             |65.865        |[2023-11-05 11:10:00, 2023-11-05 11:15:00]|\n",
      "|[2023-11-05 11:30:00, 2023-11-05 11:35:00]|K   |66.81             |62.1798       |[2023-11-05 11:25:00, 2023-11-05 11:30:00]|\n",
      "|[2023-11-05 11:45:00, 2023-11-05 11:50:00]|K   |73.32             |66.81         |[2023-11-05 11:30:00, 2023-11-05 11:35:00]|\n",
      "|[2023-11-05 11:15:00, 2023-11-05 11:20:00]|LEN |38.958349999999996|33.89705      |[2023-11-05 11:10:00, 2023-11-05 11:15:00]|\n",
      "|[2023-11-05 11:25:00, 2023-11-05 11:30:00]|LEN |49.676500000000004|35.5196       |[2023-11-05 11:20:00, 2023-11-05 11:25:00]|\n",
      "|[2023-11-05 11:45:00, 2023-11-05 11:50:00]|LEN |51.2647           |46.4265       |[2023-11-05 11:40:00, 2023-11-05 11:45:00]|\n",
      "|[2023-11-05 11:15:00, 2023-11-05 11:20:00]|SPGI|77.12             |60.16         |[2023-11-05 11:10:00, 2023-11-05 11:15:00]|\n",
      "|[2023-11-05 11:20:00, 2023-11-05 11:25:00]|SPGI|86.69             |77.12         |[2023-11-05 11:15:00, 2023-11-05 11:20:00]|\n",
      "|[2023-11-05 11:25:00, 2023-11-05 11:30:00]|SPGI|90.47             |86.69         |[2023-11-05 11:20:00, 2023-11-05 11:25:00]|\n",
      "|[2023-11-05 11:30:00, 2023-11-05 11:35:00]|SPGI|97.46             |90.47         |[2023-11-05 11:25:00, 2023-11-05 11:30:00]|\n",
      "|[2023-11-05 11:45:00, 2023-11-05 11:50:00]|SPGI|123.705           |92.65         |[2023-11-05 11:35:00, 2023-11-05 11:40:00]|\n",
      "|[2023-11-05 11:15:00, 2023-11-05 11:20:00]|AIV |29.98             |28.738        |[2023-11-05 11:10:00, 2023-11-05 11:15:00]|\n",
      "|[2023-11-05 11:25:00, 2023-11-05 11:30:00]|AIV |37.57             |29.98         |[2023-11-05 11:15:00, 2023-11-05 11:20:00]|\n",
      "|[2023-11-05 11:35:00, 2023-11-05 11:40:00]|AIV |40.975            |37.57         |[2023-11-05 11:25:00, 2023-11-05 11:30:00]|\n",
      "+------------------------------------------+----+------------------+--------------+------------------------------------------+\n",
      "only showing top 20 rows\n",
      "\n"
     ]
    },
    {
     "name": "stderr",
     "output_type": "stream",
     "text": [
      "                                                                                \r"
     ]
    },
    {
     "name": "stdout",
     "output_type": "stream",
     "text": [
      "-------------------------------------------\n",
      "Batch: 117\n",
      "-------------------------------------------\n",
      "+------------------------------------------+-----------+----------+-------------------+-------------------+-------------------+\n",
      "|window                                    |first_price|last_price|lastTimeStamp      |firstTimeStamp     |percent_value_lost |\n",
      "+------------------------------------------+-----------+----------+-------------------+-------------------+-------------------+\n",
      "|[2023-11-05 12:10:00, 2023-11-05 12:20:00]|20.67      |19.525    |2023-11-05 12:17:23|2023-11-05 12:15:14|0.05539429124334799|\n",
      "|[2023-11-05 12:20:00, 2023-11-05 12:30:00]|18.99      |17.48     |2023-11-05 12:29:47|2023-11-05 12:24:16|0.07951553449183771|\n",
      "+------------------------------------------+-----------+----------+-------------------+-------------------+-------------------+\n",
      "\n",
      "+------------------------------------------+----+-----------------+------------------+------------------------------------------+\n",
      "|window                                    |name|avg(price)       |previous_price    |previous_window                           |\n",
      "+------------------------------------------+----+-----------------+------------------+------------------------------------------+\n",
      "|[2023-11-05 11:20:00, 2023-11-05 11:25:00]|ALXN|164.66           |180.2             |[2023-11-05 11:15:00, 2023-11-05 11:20:00]|\n",
      "|[2023-11-05 11:45:00, 2023-11-05 11:50:00]|ALXN|127.81           |201.66995         |[2023-11-05 11:30:00, 2023-11-05 11:35:00]|\n",
      "|[2023-11-05 11:10:00, 2023-11-05 11:15:00]|GIS |49.35666666666666|50.5207           |[2023-11-05 11:05:00, 2023-11-05 11:10:00]|\n",
      "|[2023-11-05 11:15:00, 2023-11-05 11:20:00]|GIS |48.6             |49.35666666666666 |[2023-11-05 11:10:00, 2023-11-05 11:15:00]|\n",
      "|[2023-11-05 11:50:00, 2023-11-05 11:55:00]|GIS |51.2701          |60.67             |[2023-11-05 11:45:00, 2023-11-05 11:50:00]|\n",
      "|[2023-11-05 11:20:00, 2023-11-05 11:25:00]|K   |66.23            |67.63             |[2023-11-05 11:15:00, 2023-11-05 11:20:00]|\n",
      "|[2023-11-05 11:25:00, 2023-11-05 11:30:00]|K   |62.1798          |66.23             |[2023-11-05 11:20:00, 2023-11-05 11:25:00]|\n",
      "|[2023-11-05 11:50:00, 2023-11-05 11:55:00]|K   |71.255           |73.32             |[2023-11-05 11:45:00, 2023-11-05 11:50:00]|\n",
      "|[2023-11-05 11:20:00, 2023-11-05 11:25:00]|LEN |35.5196          |38.958349999999996|[2023-11-05 11:15:00, 2023-11-05 11:20:00]|\n",
      "|[2023-11-05 11:30:00, 2023-11-05 11:35:00]|LEN |49.5392          |49.676500000000004|[2023-11-05 11:25:00, 2023-11-05 11:30:00]|\n",
      "|[2023-11-05 11:35:00, 2023-11-05 11:40:00]|LEN |47.4216          |49.5392           |[2023-11-05 11:30:00, 2023-11-05 11:35:00]|\n",
      "|[2023-11-05 11:40:00, 2023-11-05 11:45:00]|LEN |46.4265          |47.4216           |[2023-11-05 11:35:00, 2023-11-05 11:40:00]|\n",
      "|[2023-11-05 11:35:00, 2023-11-05 11:40:00]|SPGI|92.65            |97.46             |[2023-11-05 11:30:00, 2023-11-05 11:35:00]|\n",
      "|[2023-11-05 11:10:00, 2023-11-05 11:15:00]|AIV |28.738           |30.63             |[2023-11-05 11:05:00, 2023-11-05 11:10:00]|\n",
      "|[2023-11-05 11:50:00, 2023-11-05 11:55:00]|AIV |42.645           |45.54             |[2023-11-05 11:45:00, 2023-11-05 11:50:00]|\n",
      "|[2023-11-05 11:10:00, 2023-11-05 11:15:00]|AVY |42.56            |43.17             |[2023-11-05 11:05:00, 2023-11-05 11:10:00]|\n",
      "|[2023-11-05 11:30:00, 2023-11-05 11:35:00]|AVY |59.358           |62.78             |[2023-11-05 11:25:00, 2023-11-05 11:30:00]|\n",
      "|[2023-11-05 11:35:00, 2023-11-05 11:40:00]|BF.B|48.2725          |51.205            |[2023-11-05 11:30:00, 2023-11-05 11:35:00]|\n",
      "|[2023-11-05 11:40:00, 2023-11-05 11:45:00]|BF.B|46.98415         |48.2725           |[2023-11-05 11:35:00, 2023-11-05 11:40:00]|\n",
      "|[2023-11-05 11:30:00, 2023-11-05 11:35:00]|PPG |104.09           |113.25999999999999|[2023-11-05 11:25:00, 2023-11-05 11:30:00]|\n",
      "+------------------------------------------+----+-----------------+------------------+------------------------------------------+\n",
      "only showing top 20 rows\n",
      "\n"
     ]
    },
    {
     "name": "stderr",
     "output_type": "stream",
     "text": [
      "                                                                                \r"
     ]
    },
    {
     "name": "stdout",
     "output_type": "stream",
     "text": [
      "-------------------------------------------\n",
      "Batch: 118\n",
      "-------------------------------------------\n",
      "+------------------------------------------+-----------+----------+-------------------+-------------------+-------------------+\n",
      "|window                                    |first_price|last_price|lastTimeStamp      |firstTimeStamp     |percent_value_lost |\n",
      "+------------------------------------------+-----------+----------+-------------------+-------------------+-------------------+\n",
      "|[2023-11-05 12:10:00, 2023-11-05 12:20:00]|20.67      |19.525    |2023-11-05 12:17:23|2023-11-05 12:15:14|0.05539429124334799|\n",
      "|[2023-11-05 12:20:00, 2023-11-05 12:30:00]|18.99      |17.48     |2023-11-05 12:29:47|2023-11-05 12:24:16|0.07951553449183771|\n",
      "+------------------------------------------+-----------+----------+-------------------+-------------------+-------------------+\n",
      "\n"
     ]
    },
    {
     "name": "stderr",
     "output_type": "stream",
     "text": [
      "                                                                                \r"
     ]
    },
    {
     "name": "stdout",
     "output_type": "stream",
     "text": [
      "+------------------------------------------+----+------------------+--------------+------------------------------------------+\n",
      "|window                                    |name|avg(price)        |previous_price|previous_window                           |\n",
      "+------------------------------------------+----+------------------+--------------+------------------------------------------+\n",
      "|[2023-11-05 11:15:00, 2023-11-05 11:20:00]|ALXN|180.2             |108.02        |[2023-11-05 11:10:00, 2023-11-05 11:15:00]|\n",
      "|[2023-11-05 11:25:00, 2023-11-05 11:30:00]|ALXN|186.99            |164.66        |[2023-11-05 11:20:00, 2023-11-05 11:25:00]|\n",
      "|[2023-11-05 11:30:00, 2023-11-05 11:35:00]|ALXN|201.66995         |186.99        |[2023-11-05 11:25:00, 2023-11-05 11:30:00]|\n",
      "|[2023-11-05 11:20:00, 2023-11-05 11:25:00]|GIS |50.92             |48.6          |[2023-11-05 11:15:00, 2023-11-05 11:20:00]|\n",
      "|[2023-11-05 11:30:00, 2023-11-05 11:35:00]|GIS |57.61             |50.92         |[2023-11-05 11:20:00, 2023-11-05 11:25:00]|\n",
      "|[2023-11-05 11:45:00, 2023-11-05 11:50:00]|GIS |60.67             |57.61         |[2023-11-05 11:30:00, 2023-11-05 11:35:00]|\n",
      "|[2023-11-05 11:15:00, 2023-11-05 11:20:00]|K   |67.63             |65.865        |[2023-11-05 11:10:00, 2023-11-05 11:15:00]|\n",
      "|[2023-11-05 11:30:00, 2023-11-05 11:35:00]|K   |66.81             |62.1798       |[2023-11-05 11:25:00, 2023-11-05 11:30:00]|\n",
      "|[2023-11-05 11:45:00, 2023-11-05 11:50:00]|K   |73.32             |66.81         |[2023-11-05 11:30:00, 2023-11-05 11:35:00]|\n",
      "|[2023-11-05 11:15:00, 2023-11-05 11:20:00]|LEN |38.958349999999996|33.89705      |[2023-11-05 11:10:00, 2023-11-05 11:15:00]|\n",
      "|[2023-11-05 11:25:00, 2023-11-05 11:30:00]|LEN |49.676500000000004|35.5196       |[2023-11-05 11:20:00, 2023-11-05 11:25:00]|\n",
      "|[2023-11-05 11:45:00, 2023-11-05 11:50:00]|LEN |51.2647           |46.4265       |[2023-11-05 11:40:00, 2023-11-05 11:45:00]|\n",
      "|[2023-11-05 11:15:00, 2023-11-05 11:20:00]|SPGI|77.12             |60.16         |[2023-11-05 11:10:00, 2023-11-05 11:15:00]|\n",
      "|[2023-11-05 11:20:00, 2023-11-05 11:25:00]|SPGI|86.69             |77.12         |[2023-11-05 11:15:00, 2023-11-05 11:20:00]|\n",
      "|[2023-11-05 11:25:00, 2023-11-05 11:30:00]|SPGI|90.47             |86.69         |[2023-11-05 11:20:00, 2023-11-05 11:25:00]|\n",
      "|[2023-11-05 11:30:00, 2023-11-05 11:35:00]|SPGI|97.46             |90.47         |[2023-11-05 11:25:00, 2023-11-05 11:30:00]|\n",
      "|[2023-11-05 11:45:00, 2023-11-05 11:50:00]|SPGI|123.705           |92.65         |[2023-11-05 11:35:00, 2023-11-05 11:40:00]|\n",
      "|[2023-11-05 11:15:00, 2023-11-05 11:20:00]|AIV |29.98             |28.738        |[2023-11-05 11:10:00, 2023-11-05 11:15:00]|\n",
      "|[2023-11-05 11:25:00, 2023-11-05 11:30:00]|AIV |37.57             |29.98         |[2023-11-05 11:15:00, 2023-11-05 11:20:00]|\n",
      "|[2023-11-05 11:35:00, 2023-11-05 11:40:00]|AIV |40.975            |37.57         |[2023-11-05 11:25:00, 2023-11-05 11:30:00]|\n",
      "+------------------------------------------+----+------------------+--------------+------------------------------------------+\n",
      "only showing top 20 rows\n",
      "\n"
     ]
    },
    {
     "name": "stderr",
     "output_type": "stream",
     "text": [
      "                                                                                \r"
     ]
    },
    {
     "name": "stdout",
     "output_type": "stream",
     "text": [
      "+------------------------------------------+----+-----------------+------------------+------------------------------------------+\n",
      "|window                                    |name|avg(price)       |previous_price    |previous_window                           |\n",
      "+------------------------------------------+----+-----------------+------------------+------------------------------------------+\n",
      "|[2023-11-05 11:20:00, 2023-11-05 11:25:00]|ALXN|164.66           |180.2             |[2023-11-05 11:15:00, 2023-11-05 11:20:00]|\n",
      "|[2023-11-05 11:45:00, 2023-11-05 11:50:00]|ALXN|127.81           |201.66995         |[2023-11-05 11:30:00, 2023-11-05 11:35:00]|\n",
      "|[2023-11-05 11:10:00, 2023-11-05 11:15:00]|GIS |49.35666666666666|50.5207           |[2023-11-05 11:05:00, 2023-11-05 11:10:00]|\n",
      "|[2023-11-05 11:15:00, 2023-11-05 11:20:00]|GIS |48.6             |49.35666666666666 |[2023-11-05 11:10:00, 2023-11-05 11:15:00]|\n",
      "|[2023-11-05 11:50:00, 2023-11-05 11:55:00]|GIS |51.80505         |60.67             |[2023-11-05 11:45:00, 2023-11-05 11:50:00]|\n",
      "|[2023-11-05 11:20:00, 2023-11-05 11:25:00]|K   |66.23            |67.63             |[2023-11-05 11:15:00, 2023-11-05 11:20:00]|\n",
      "|[2023-11-05 11:25:00, 2023-11-05 11:30:00]|K   |62.1798          |66.23             |[2023-11-05 11:20:00, 2023-11-05 11:25:00]|\n",
      "|[2023-11-05 11:50:00, 2023-11-05 11:55:00]|K   |71.255           |73.32             |[2023-11-05 11:45:00, 2023-11-05 11:50:00]|\n",
      "|[2023-11-05 11:20:00, 2023-11-05 11:25:00]|LEN |35.5196          |38.958349999999996|[2023-11-05 11:15:00, 2023-11-05 11:20:00]|\n",
      "|[2023-11-05 11:30:00, 2023-11-05 11:35:00]|LEN |49.5392          |49.676500000000004|[2023-11-05 11:25:00, 2023-11-05 11:30:00]|\n",
      "|[2023-11-05 11:35:00, 2023-11-05 11:40:00]|LEN |47.4216          |49.5392           |[2023-11-05 11:30:00, 2023-11-05 11:35:00]|\n",
      "|[2023-11-05 11:40:00, 2023-11-05 11:45:00]|LEN |46.4265          |47.4216           |[2023-11-05 11:35:00, 2023-11-05 11:40:00]|\n",
      "|[2023-11-05 11:35:00, 2023-11-05 11:40:00]|SPGI|92.65            |97.46             |[2023-11-05 11:30:00, 2023-11-05 11:35:00]|\n",
      "|[2023-11-05 11:10:00, 2023-11-05 11:15:00]|AIV |28.738           |30.63             |[2023-11-05 11:05:00, 2023-11-05 11:10:00]|\n",
      "|[2023-11-05 11:50:00, 2023-11-05 11:55:00]|AIV |43.5275          |45.54             |[2023-11-05 11:45:00, 2023-11-05 11:50:00]|\n",
      "|[2023-11-05 11:10:00, 2023-11-05 11:15:00]|AVY |42.56            |43.17             |[2023-11-05 11:05:00, 2023-11-05 11:10:00]|\n",
      "|[2023-11-05 11:30:00, 2023-11-05 11:35:00]|AVY |59.358           |62.78             |[2023-11-05 11:25:00, 2023-11-05 11:30:00]|\n",
      "|[2023-11-05 11:35:00, 2023-11-05 11:40:00]|BF.B|48.2725          |51.205            |[2023-11-05 11:30:00, 2023-11-05 11:35:00]|\n",
      "|[2023-11-05 11:40:00, 2023-11-05 11:45:00]|BF.B|46.98415         |48.2725           |[2023-11-05 11:35:00, 2023-11-05 11:40:00]|\n",
      "|[2023-11-05 11:30:00, 2023-11-05 11:35:00]|PPG |104.09           |113.25999999999999|[2023-11-05 11:25:00, 2023-11-05 11:30:00]|\n",
      "+------------------------------------------+----+-----------------+------------------+------------------------------------------+\n",
      "only showing top 20 rows\n",
      "\n",
      "-------------------------------------------\n",
      "Batch: 119\n",
      "-------------------------------------------\n",
      "+------------------------------------------+-----------+----------+-------------------+-------------------+-------------------+\n",
      "|window                                    |first_price|last_price|lastTimeStamp      |firstTimeStamp     |percent_value_lost |\n",
      "+------------------------------------------+-----------+----------+-------------------+-------------------+-------------------+\n",
      "|[2023-11-05 12:10:00, 2023-11-05 12:20:00]|20.67      |19.525    |2023-11-05 12:17:23|2023-11-05 12:15:14|0.05539429124334799|\n",
      "|[2023-11-05 12:20:00, 2023-11-05 12:30:00]|18.99      |17.48     |2023-11-05 12:29:47|2023-11-05 12:24:16|0.07951553449183771|\n",
      "+------------------------------------------+-----------+----------+-------------------+-------------------+-------------------+\n",
      "\n"
     ]
    },
    {
     "name": "stderr",
     "output_type": "stream",
     "text": [
      "                                                                                \r"
     ]
    },
    {
     "name": "stdout",
     "output_type": "stream",
     "text": [
      "-------------------------------------------\n",
      "Batch: 120\n",
      "-------------------------------------------\n",
      "+------------------------------------------+-----------+----------+-------------------+-------------------+-------------------+\n",
      "|window                                    |first_price|last_price|lastTimeStamp      |firstTimeStamp     |percent_value_lost |\n",
      "+------------------------------------------+-----------+----------+-------------------+-------------------+-------------------+\n",
      "|[2023-11-05 12:10:00, 2023-11-05 12:20:00]|20.67      |19.525    |2023-11-05 12:17:23|2023-11-05 12:15:14|0.05539429124334799|\n",
      "|[2023-11-05 12:20:00, 2023-11-05 12:30:00]|18.99      |17.48     |2023-11-05 12:29:47|2023-11-05 12:24:16|0.07951553449183771|\n",
      "+------------------------------------------+-----------+----------+-------------------+-------------------+-------------------+\n",
      "\n"
     ]
    },
    {
     "name": "stderr",
     "output_type": "stream",
     "text": [
      "                                                                                \r"
     ]
    },
    {
     "name": "stdout",
     "output_type": "stream",
     "text": [
      "+------------------------------------------+----+------------------+--------------+------------------------------------------+\n",
      "|window                                    |name|avg(price)        |previous_price|previous_window                           |\n",
      "+------------------------------------------+----+------------------+--------------+------------------------------------------+\n",
      "|[2023-11-05 11:15:00, 2023-11-05 11:20:00]|ALXN|180.2             |108.02        |[2023-11-05 11:10:00, 2023-11-05 11:15:00]|\n",
      "|[2023-11-05 11:25:00, 2023-11-05 11:30:00]|ALXN|186.99            |164.66        |[2023-11-05 11:20:00, 2023-11-05 11:25:00]|\n",
      "|[2023-11-05 11:30:00, 2023-11-05 11:35:00]|ALXN|201.66995         |186.99        |[2023-11-05 11:25:00, 2023-11-05 11:30:00]|\n",
      "|[2023-11-05 11:20:00, 2023-11-05 11:25:00]|GIS |50.92             |48.6          |[2023-11-05 11:15:00, 2023-11-05 11:20:00]|\n",
      "|[2023-11-05 11:30:00, 2023-11-05 11:35:00]|GIS |57.61             |50.92         |[2023-11-05 11:20:00, 2023-11-05 11:25:00]|\n",
      "|[2023-11-05 11:45:00, 2023-11-05 11:50:00]|GIS |60.67             |57.61         |[2023-11-05 11:30:00, 2023-11-05 11:35:00]|\n",
      "|[2023-11-05 11:15:00, 2023-11-05 11:20:00]|K   |67.63             |65.865        |[2023-11-05 11:10:00, 2023-11-05 11:15:00]|\n",
      "|[2023-11-05 11:30:00, 2023-11-05 11:35:00]|K   |66.81             |62.1798       |[2023-11-05 11:25:00, 2023-11-05 11:30:00]|\n",
      "|[2023-11-05 11:45:00, 2023-11-05 11:50:00]|K   |73.32             |66.81         |[2023-11-05 11:30:00, 2023-11-05 11:35:00]|\n",
      "|[2023-11-05 11:15:00, 2023-11-05 11:20:00]|LEN |38.958349999999996|33.89705      |[2023-11-05 11:10:00, 2023-11-05 11:15:00]|\n",
      "|[2023-11-05 11:25:00, 2023-11-05 11:30:00]|LEN |49.676500000000004|35.5196       |[2023-11-05 11:20:00, 2023-11-05 11:25:00]|\n",
      "|[2023-11-05 11:45:00, 2023-11-05 11:50:00]|LEN |51.2647           |46.4265       |[2023-11-05 11:40:00, 2023-11-05 11:45:00]|\n",
      "|[2023-11-05 11:15:00, 2023-11-05 11:20:00]|SPGI|77.12             |60.16         |[2023-11-05 11:10:00, 2023-11-05 11:15:00]|\n",
      "|[2023-11-05 11:20:00, 2023-11-05 11:25:00]|SPGI|86.69             |77.12         |[2023-11-05 11:15:00, 2023-11-05 11:20:00]|\n",
      "|[2023-11-05 11:25:00, 2023-11-05 11:30:00]|SPGI|90.47             |86.69         |[2023-11-05 11:20:00, 2023-11-05 11:25:00]|\n",
      "|[2023-11-05 11:30:00, 2023-11-05 11:35:00]|SPGI|97.46             |90.47         |[2023-11-05 11:25:00, 2023-11-05 11:30:00]|\n",
      "|[2023-11-05 11:45:00, 2023-11-05 11:50:00]|SPGI|123.705           |92.65         |[2023-11-05 11:35:00, 2023-11-05 11:40:00]|\n",
      "|[2023-11-05 11:15:00, 2023-11-05 11:20:00]|AIV |29.98             |28.738        |[2023-11-05 11:10:00, 2023-11-05 11:15:00]|\n",
      "|[2023-11-05 11:25:00, 2023-11-05 11:30:00]|AIV |37.57             |29.98         |[2023-11-05 11:15:00, 2023-11-05 11:20:00]|\n",
      "|[2023-11-05 11:35:00, 2023-11-05 11:40:00]|AIV |40.975            |37.57         |[2023-11-05 11:25:00, 2023-11-05 11:30:00]|\n",
      "+------------------------------------------+----+------------------+--------------+------------------------------------------+\n",
      "only showing top 20 rows\n",
      "\n"
     ]
    },
    {
     "name": "stderr",
     "output_type": "stream",
     "text": [
      "                                                                                \r"
     ]
    },
    {
     "name": "stdout",
     "output_type": "stream",
     "text": [
      "-------------------------------------------\n",
      "Batch: 121\n",
      "-------------------------------------------\n",
      "+------------------------------------------+-----------+----------+-------------------+-------------------+-------------------+\n",
      "|window                                    |first_price|last_price|lastTimeStamp      |firstTimeStamp     |percent_value_lost |\n",
      "+------------------------------------------+-----------+----------+-------------------+-------------------+-------------------+\n",
      "|[2023-11-05 12:10:00, 2023-11-05 12:20:00]|20.67      |19.525    |2023-11-05 12:17:23|2023-11-05 12:15:14|0.05539429124334799|\n",
      "|[2023-11-05 12:20:00, 2023-11-05 12:30:00]|18.99      |17.48     |2023-11-05 12:29:47|2023-11-05 12:24:16|0.07951553449183771|\n",
      "+------------------------------------------+-----------+----------+-------------------+-------------------+-------------------+\n",
      "\n"
     ]
    },
    {
     "name": "stderr",
     "output_type": "stream",
     "text": [
      "                                                                                \r"
     ]
    },
    {
     "name": "stdout",
     "output_type": "stream",
     "text": [
      "+------------------------------------------+----+-----------------+------------------+------------------------------------------+\n",
      "|window                                    |name|avg(price)       |previous_price    |previous_window                           |\n",
      "+------------------------------------------+----+-----------------+------------------+------------------------------------------+\n",
      "|[2023-11-05 11:20:00, 2023-11-05 11:25:00]|ALXN|164.66           |180.2             |[2023-11-05 11:15:00, 2023-11-05 11:20:00]|\n",
      "|[2023-11-05 11:45:00, 2023-11-05 11:50:00]|ALXN|127.81           |201.66995         |[2023-11-05 11:30:00, 2023-11-05 11:35:00]|\n",
      "|[2023-11-05 11:10:00, 2023-11-05 11:15:00]|GIS |49.35666666666666|50.5207           |[2023-11-05 11:05:00, 2023-11-05 11:10:00]|\n",
      "|[2023-11-05 11:15:00, 2023-11-05 11:20:00]|GIS |48.6             |49.35666666666666 |[2023-11-05 11:10:00, 2023-11-05 11:15:00]|\n",
      "|[2023-11-05 11:50:00, 2023-11-05 11:55:00]|GIS |51.80505         |60.67             |[2023-11-05 11:45:00, 2023-11-05 11:50:00]|\n",
      "|[2023-11-05 11:20:00, 2023-11-05 11:25:00]|K   |66.23            |67.63             |[2023-11-05 11:15:00, 2023-11-05 11:20:00]|\n",
      "|[2023-11-05 11:25:00, 2023-11-05 11:30:00]|K   |62.1798          |66.23             |[2023-11-05 11:20:00, 2023-11-05 11:25:00]|\n",
      "|[2023-11-05 11:50:00, 2023-11-05 11:55:00]|K   |71.255           |73.32             |[2023-11-05 11:45:00, 2023-11-05 11:50:00]|\n",
      "|[2023-11-05 11:20:00, 2023-11-05 11:25:00]|LEN |35.5196          |38.958349999999996|[2023-11-05 11:15:00, 2023-11-05 11:20:00]|\n",
      "|[2023-11-05 11:30:00, 2023-11-05 11:35:00]|LEN |49.5392          |49.676500000000004|[2023-11-05 11:25:00, 2023-11-05 11:30:00]|\n",
      "|[2023-11-05 11:35:00, 2023-11-05 11:40:00]|LEN |47.4216          |49.5392           |[2023-11-05 11:30:00, 2023-11-05 11:35:00]|\n",
      "|[2023-11-05 11:40:00, 2023-11-05 11:45:00]|LEN |46.4265          |47.4216           |[2023-11-05 11:35:00, 2023-11-05 11:40:00]|\n",
      "|[2023-11-05 11:35:00, 2023-11-05 11:40:00]|SPGI|92.65            |97.46             |[2023-11-05 11:30:00, 2023-11-05 11:35:00]|\n",
      "|[2023-11-05 11:10:00, 2023-11-05 11:15:00]|AIV |28.738           |30.63             |[2023-11-05 11:05:00, 2023-11-05 11:10:00]|\n",
      "|[2023-11-05 11:50:00, 2023-11-05 11:55:00]|AIV |43.5275          |45.54             |[2023-11-05 11:45:00, 2023-11-05 11:50:00]|\n",
      "|[2023-11-05 11:10:00, 2023-11-05 11:15:00]|AVY |42.56            |43.17             |[2023-11-05 11:05:00, 2023-11-05 11:10:00]|\n",
      "|[2023-11-05 11:30:00, 2023-11-05 11:35:00]|AVY |59.358           |62.78             |[2023-11-05 11:25:00, 2023-11-05 11:30:00]|\n",
      "|[2023-11-05 11:35:00, 2023-11-05 11:40:00]|BF.B|48.2725          |51.205            |[2023-11-05 11:30:00, 2023-11-05 11:35:00]|\n",
      "|[2023-11-05 11:40:00, 2023-11-05 11:45:00]|BF.B|46.98415         |48.2725           |[2023-11-05 11:35:00, 2023-11-05 11:40:00]|\n",
      "|[2023-11-05 11:30:00, 2023-11-05 11:35:00]|PPG |104.09           |113.25999999999999|[2023-11-05 11:25:00, 2023-11-05 11:30:00]|\n",
      "+------------------------------------------+----+-----------------+------------------+------------------------------------------+\n",
      "only showing top 20 rows\n",
      "\n"
     ]
    },
    {
     "name": "stderr",
     "output_type": "stream",
     "text": [
      "                                                                                \r"
     ]
    },
    {
     "name": "stdout",
     "output_type": "stream",
     "text": [
      "-------------------------------------------\n",
      "Batch: 122\n",
      "-------------------------------------------\n",
      "+------------------------------------------+-----------+----------+-------------------+-------------------+-------------------+\n",
      "|window                                    |first_price|last_price|lastTimeStamp      |firstTimeStamp     |percent_value_lost |\n",
      "+------------------------------------------+-----------+----------+-------------------+-------------------+-------------------+\n",
      "|[2023-11-05 12:10:00, 2023-11-05 12:20:00]|20.67      |19.525    |2023-11-05 12:17:23|2023-11-05 12:15:14|0.05539429124334799|\n",
      "|[2023-11-05 12:20:00, 2023-11-05 12:30:00]|18.99      |17.48     |2023-11-05 12:29:47|2023-11-05 12:24:16|0.07951553449183771|\n",
      "+------------------------------------------+-----------+----------+-------------------+-------------------+-------------------+\n",
      "\n"
     ]
    },
    {
     "name": "stderr",
     "output_type": "stream",
     "text": [
      "                                                                                \r"
     ]
    },
    {
     "name": "stdout",
     "output_type": "stream",
     "text": [
      "-------------------------------------------\n",
      "Batch: 123\n",
      "-------------------------------------------\n",
      "+------------------------------------------+-----------+----------+-------------------+-------------------+-------------------+\n",
      "|window                                    |first_price|last_price|lastTimeStamp      |firstTimeStamp     |percent_value_lost |\n",
      "+------------------------------------------+-----------+----------+-------------------+-------------------+-------------------+\n",
      "|[2023-11-05 12:10:00, 2023-11-05 12:20:00]|20.67      |19.525    |2023-11-05 12:17:23|2023-11-05 12:15:14|0.05539429124334799|\n",
      "|[2023-11-05 12:20:00, 2023-11-05 12:30:00]|18.99      |17.48     |2023-11-05 12:29:47|2023-11-05 12:24:16|0.07951553449183771|\n",
      "+------------------------------------------+-----------+----------+-------------------+-------------------+-------------------+\n",
      "\n"
     ]
    },
    {
     "name": "stderr",
     "output_type": "stream",
     "text": [
      "                                                                                \r"
     ]
    },
    {
     "name": "stdout",
     "output_type": "stream",
     "text": [
      "+------------------------------------------+----+------------------+--------------+------------------------------------------+\n",
      "|window                                    |name|avg(price)        |previous_price|previous_window                           |\n",
      "+------------------------------------------+----+------------------+--------------+------------------------------------------+\n",
      "|[2023-11-05 11:15:00, 2023-11-05 11:20:00]|ALXN|180.2             |108.02        |[2023-11-05 11:10:00, 2023-11-05 11:15:00]|\n",
      "|[2023-11-05 11:25:00, 2023-11-05 11:30:00]|ALXN|186.99            |164.66        |[2023-11-05 11:20:00, 2023-11-05 11:25:00]|\n",
      "|[2023-11-05 11:30:00, 2023-11-05 11:35:00]|ALXN|201.66995         |186.99        |[2023-11-05 11:25:00, 2023-11-05 11:30:00]|\n",
      "|[2023-11-05 11:20:00, 2023-11-05 11:25:00]|GIS |50.92             |48.6          |[2023-11-05 11:15:00, 2023-11-05 11:20:00]|\n",
      "|[2023-11-05 11:30:00, 2023-11-05 11:35:00]|GIS |57.61             |50.92         |[2023-11-05 11:20:00, 2023-11-05 11:25:00]|\n",
      "|[2023-11-05 11:45:00, 2023-11-05 11:50:00]|GIS |60.67             |57.61         |[2023-11-05 11:30:00, 2023-11-05 11:35:00]|\n",
      "|[2023-11-05 11:15:00, 2023-11-05 11:20:00]|K   |67.63             |65.865        |[2023-11-05 11:10:00, 2023-11-05 11:15:00]|\n",
      "|[2023-11-05 11:30:00, 2023-11-05 11:35:00]|K   |66.81             |62.1798       |[2023-11-05 11:25:00, 2023-11-05 11:30:00]|\n",
      "|[2023-11-05 11:45:00, 2023-11-05 11:50:00]|K   |73.32             |66.81         |[2023-11-05 11:30:00, 2023-11-05 11:35:00]|\n",
      "|[2023-11-05 11:50:00, 2023-11-05 11:55:00]|K   |73.47             |73.32         |[2023-11-05 11:45:00, 2023-11-05 11:50:00]|\n",
      "|[2023-11-05 11:15:00, 2023-11-05 11:20:00]|LEN |38.958349999999996|33.89705      |[2023-11-05 11:10:00, 2023-11-05 11:15:00]|\n",
      "|[2023-11-05 11:25:00, 2023-11-05 11:30:00]|LEN |49.676500000000004|35.5196       |[2023-11-05 11:20:00, 2023-11-05 11:25:00]|\n",
      "|[2023-11-05 11:45:00, 2023-11-05 11:50:00]|LEN |51.2647           |46.4265       |[2023-11-05 11:40:00, 2023-11-05 11:45:00]|\n",
      "|[2023-11-05 11:15:00, 2023-11-05 11:20:00]|SPGI|77.12             |60.16         |[2023-11-05 11:10:00, 2023-11-05 11:15:00]|\n",
      "|[2023-11-05 11:20:00, 2023-11-05 11:25:00]|SPGI|86.69             |77.12         |[2023-11-05 11:15:00, 2023-11-05 11:20:00]|\n",
      "|[2023-11-05 11:25:00, 2023-11-05 11:30:00]|SPGI|90.47             |86.69         |[2023-11-05 11:20:00, 2023-11-05 11:25:00]|\n",
      "|[2023-11-05 11:30:00, 2023-11-05 11:35:00]|SPGI|97.46             |90.47         |[2023-11-05 11:25:00, 2023-11-05 11:30:00]|\n",
      "|[2023-11-05 11:45:00, 2023-11-05 11:50:00]|SPGI|123.705           |92.65         |[2023-11-05 11:35:00, 2023-11-05 11:40:00]|\n",
      "|[2023-11-05 11:15:00, 2023-11-05 11:20:00]|AIV |29.98             |28.738        |[2023-11-05 11:10:00, 2023-11-05 11:15:00]|\n",
      "|[2023-11-05 11:25:00, 2023-11-05 11:30:00]|AIV |37.57             |29.98         |[2023-11-05 11:15:00, 2023-11-05 11:20:00]|\n",
      "+------------------------------------------+----+------------------+--------------+------------------------------------------+\n",
      "only showing top 20 rows\n",
      "\n"
     ]
    },
    {
     "name": "stderr",
     "output_type": "stream",
     "text": [
      "                                                                                \r"
     ]
    },
    {
     "name": "stdout",
     "output_type": "stream",
     "text": [
      "-------------------------------------------\n",
      "Batch: 124\n",
      "-------------------------------------------\n",
      "+------------------------------------------+-----------+----------+-------------------+-------------------+-------------------+\n",
      "|window                                    |first_price|last_price|lastTimeStamp      |firstTimeStamp     |percent_value_lost |\n",
      "+------------------------------------------+-----------+----------+-------------------+-------------------+-------------------+\n",
      "|[2023-11-05 12:10:00, 2023-11-05 12:20:00]|20.67      |19.525    |2023-11-05 12:17:23|2023-11-05 12:15:14|0.05539429124334799|\n",
      "|[2023-11-05 12:20:00, 2023-11-05 12:30:00]|18.99      |17.48     |2023-11-05 12:29:47|2023-11-05 12:24:16|0.07951553449183771|\n",
      "+------------------------------------------+-----------+----------+-------------------+-------------------+-------------------+\n",
      "\n"
     ]
    },
    {
     "name": "stderr",
     "output_type": "stream",
     "text": [
      "                                                                                \r"
     ]
    },
    {
     "name": "stdout",
     "output_type": "stream",
     "text": [
      "+------------------------------------------+----+-----------------+------------------+------------------------------------------+\n",
      "|window                                    |name|avg(price)       |previous_price    |previous_window                           |\n",
      "+------------------------------------------+----+-----------------+------------------+------------------------------------------+\n",
      "|[2023-11-05 11:20:00, 2023-11-05 11:25:00]|ALXN|164.66           |180.2             |[2023-11-05 11:15:00, 2023-11-05 11:20:00]|\n",
      "|[2023-11-05 11:45:00, 2023-11-05 11:50:00]|ALXN|127.81           |201.66995         |[2023-11-05 11:30:00, 2023-11-05 11:35:00]|\n",
      "|[2023-11-05 11:55:00, 2023-11-05 12:00:00]|ALXN|118.62           |139.99            |[2023-11-05 11:50:00, 2023-11-05 11:55:00]|\n",
      "|[2023-11-05 11:10:00, 2023-11-05 11:15:00]|GIS |49.35666666666666|50.5207           |[2023-11-05 11:05:00, 2023-11-05 11:10:00]|\n",
      "|[2023-11-05 11:15:00, 2023-11-05 11:20:00]|GIS |48.6             |49.35666666666666 |[2023-11-05 11:10:00, 2023-11-05 11:15:00]|\n",
      "|[2023-11-05 11:50:00, 2023-11-05 11:55:00]|GIS |51.80505         |60.67             |[2023-11-05 11:45:00, 2023-11-05 11:50:00]|\n",
      "|[2023-11-05 11:20:00, 2023-11-05 11:25:00]|K   |66.23            |67.63             |[2023-11-05 11:15:00, 2023-11-05 11:20:00]|\n",
      "|[2023-11-05 11:25:00, 2023-11-05 11:30:00]|K   |62.1798          |66.23             |[2023-11-05 11:20:00, 2023-11-05 11:25:00]|\n",
      "|[2023-11-05 11:50:00, 2023-11-05 11:55:00]|K   |71.255           |73.32             |[2023-11-05 11:45:00, 2023-11-05 11:50:00]|\n",
      "|[2023-11-05 11:55:00, 2023-11-05 12:00:00]|K   |66.625           |71.255            |[2023-11-05 11:50:00, 2023-11-05 11:55:00]|\n",
      "|[2023-11-05 11:20:00, 2023-11-05 11:25:00]|LEN |35.5196          |38.958349999999996|[2023-11-05 11:15:00, 2023-11-05 11:20:00]|\n",
      "|[2023-11-05 11:30:00, 2023-11-05 11:35:00]|LEN |49.5392          |49.676500000000004|[2023-11-05 11:25:00, 2023-11-05 11:30:00]|\n",
      "|[2023-11-05 11:35:00, 2023-11-05 11:40:00]|LEN |47.4216          |49.5392           |[2023-11-05 11:30:00, 2023-11-05 11:35:00]|\n",
      "|[2023-11-05 11:40:00, 2023-11-05 11:45:00]|LEN |46.4265          |47.4216           |[2023-11-05 11:35:00, 2023-11-05 11:40:00]|\n",
      "|[2023-11-05 11:35:00, 2023-11-05 11:40:00]|SPGI|92.65            |97.46             |[2023-11-05 11:30:00, 2023-11-05 11:35:00]|\n",
      "|[2023-11-05 11:10:00, 2023-11-05 11:15:00]|AIV |28.738           |30.63             |[2023-11-05 11:05:00, 2023-11-05 11:10:00]|\n",
      "|[2023-11-05 11:50:00, 2023-11-05 11:55:00]|AIV |43.5275          |45.54             |[2023-11-05 11:45:00, 2023-11-05 11:50:00]|\n",
      "|[2023-11-05 11:10:00, 2023-11-05 11:15:00]|AVY |42.56            |43.17             |[2023-11-05 11:05:00, 2023-11-05 11:10:00]|\n",
      "|[2023-11-05 11:30:00, 2023-11-05 11:35:00]|AVY |59.358           |62.78             |[2023-11-05 11:25:00, 2023-11-05 11:30:00]|\n",
      "|[2023-11-05 11:35:00, 2023-11-05 11:40:00]|BF.B|48.2725          |51.205            |[2023-11-05 11:30:00, 2023-11-05 11:35:00]|\n",
      "+------------------------------------------+----+-----------------+------------------+------------------------------------------+\n",
      "only showing top 20 rows\n",
      "\n"
     ]
    },
    {
     "name": "stderr",
     "output_type": "stream",
     "text": [
      "                                                                                \r"
     ]
    },
    {
     "name": "stdout",
     "output_type": "stream",
     "text": [
      "-------------------------------------------\n",
      "Batch: 125\n",
      "-------------------------------------------\n",
      "+------------------------------------------+-----------+----------+-------------------+-------------------+-------------------+\n",
      "|window                                    |first_price|last_price|lastTimeStamp      |firstTimeStamp     |percent_value_lost |\n",
      "+------------------------------------------+-----------+----------+-------------------+-------------------+-------------------+\n",
      "|[2023-11-05 12:10:00, 2023-11-05 12:20:00]|20.67      |19.525    |2023-11-05 12:17:23|2023-11-05 12:15:14|0.05539429124334799|\n",
      "|[2023-11-05 12:20:00, 2023-11-05 12:30:00]|18.99      |17.48     |2023-11-05 12:29:47|2023-11-05 12:24:16|0.07951553449183771|\n",
      "+------------------------------------------+-----------+----------+-------------------+-------------------+-------------------+\n",
      "\n"
     ]
    },
    {
     "name": "stderr",
     "output_type": "stream",
     "text": [
      "[Stage 2406:(173 + 4) / 200][Stage 2408:(3 + 0) / 200][Stage 2414:> (0 + 0) / 1]\r"
     ]
    },
    {
     "name": "stdout",
     "output_type": "stream",
     "text": [
      "-------------------------------------------\n",
      "Batch: 126\n",
      "-------------------------------------------\n",
      "+------------------------------------------+-----------+----------+-------------------+-------------------+-------------------+\n",
      "|window                                    |first_price|last_price|lastTimeStamp      |firstTimeStamp     |percent_value_lost |\n",
      "+------------------------------------------+-----------+----------+-------------------+-------------------+-------------------+\n",
      "|[2023-11-05 12:10:00, 2023-11-05 12:20:00]|20.67      |19.525    |2023-11-05 12:17:23|2023-11-05 12:15:14|0.05539429124334799|\n",
      "|[2023-11-05 12:20:00, 2023-11-05 12:30:00]|18.99      |17.48     |2023-11-05 12:29:47|2023-11-05 12:24:16|0.07951553449183771|\n",
      "+------------------------------------------+-----------+----------+-------------------+-------------------+-------------------+\n",
      "\n"
     ]
    },
    {
     "name": "stderr",
     "output_type": "stream",
     "text": [
      "                                                                                \r"
     ]
    },
    {
     "name": "stdout",
     "output_type": "stream",
     "text": [
      "+------------------------------------------+----+------------------+--------------+------------------------------------------+\n",
      "|window                                    |name|avg(price)        |previous_price|previous_window                           |\n",
      "+------------------------------------------+----+------------------+--------------+------------------------------------------+\n",
      "|[2023-11-05 11:15:00, 2023-11-05 11:20:00]|ALXN|180.2             |108.02        |[2023-11-05 11:10:00, 2023-11-05 11:15:00]|\n",
      "|[2023-11-05 11:25:00, 2023-11-05 11:30:00]|ALXN|186.99            |164.66        |[2023-11-05 11:20:00, 2023-11-05 11:25:00]|\n",
      "|[2023-11-05 11:30:00, 2023-11-05 11:35:00]|ALXN|201.66995         |186.99        |[2023-11-05 11:25:00, 2023-11-05 11:30:00]|\n",
      "|[2023-11-05 11:20:00, 2023-11-05 11:25:00]|GIS |50.92             |48.6          |[2023-11-05 11:15:00, 2023-11-05 11:20:00]|\n",
      "|[2023-11-05 11:30:00, 2023-11-05 11:35:00]|GIS |57.61             |50.92         |[2023-11-05 11:20:00, 2023-11-05 11:25:00]|\n",
      "|[2023-11-05 11:45:00, 2023-11-05 11:50:00]|GIS |60.67             |57.61         |[2023-11-05 11:30:00, 2023-11-05 11:35:00]|\n",
      "|[2023-11-05 11:15:00, 2023-11-05 11:20:00]|K   |67.63             |65.865        |[2023-11-05 11:10:00, 2023-11-05 11:15:00]|\n",
      "|[2023-11-05 11:30:00, 2023-11-05 11:35:00]|K   |66.81             |62.1798       |[2023-11-05 11:25:00, 2023-11-05 11:30:00]|\n",
      "|[2023-11-05 11:45:00, 2023-11-05 11:50:00]|K   |73.32             |66.81         |[2023-11-05 11:30:00, 2023-11-05 11:35:00]|\n",
      "|[2023-11-05 11:50:00, 2023-11-05 11:55:00]|K   |73.47             |73.32         |[2023-11-05 11:45:00, 2023-11-05 11:50:00]|\n",
      "|[2023-11-05 11:15:00, 2023-11-05 11:20:00]|LEN |38.958349999999996|33.89705      |[2023-11-05 11:10:00, 2023-11-05 11:15:00]|\n",
      "|[2023-11-05 11:25:00, 2023-11-05 11:30:00]|LEN |49.676500000000004|35.5196       |[2023-11-05 11:20:00, 2023-11-05 11:25:00]|\n",
      "|[2023-11-05 11:45:00, 2023-11-05 11:50:00]|LEN |51.2647           |46.4265       |[2023-11-05 11:40:00, 2023-11-05 11:45:00]|\n",
      "|[2023-11-05 11:15:00, 2023-11-05 11:20:00]|SPGI|77.12             |60.16         |[2023-11-05 11:10:00, 2023-11-05 11:15:00]|\n",
      "|[2023-11-05 11:20:00, 2023-11-05 11:25:00]|SPGI|86.69             |77.12         |[2023-11-05 11:15:00, 2023-11-05 11:20:00]|\n",
      "|[2023-11-05 11:25:00, 2023-11-05 11:30:00]|SPGI|90.47             |86.69         |[2023-11-05 11:20:00, 2023-11-05 11:25:00]|\n",
      "|[2023-11-05 11:30:00, 2023-11-05 11:35:00]|SPGI|97.46             |90.47         |[2023-11-05 11:25:00, 2023-11-05 11:30:00]|\n",
      "|[2023-11-05 11:45:00, 2023-11-05 11:50:00]|SPGI|123.705           |92.65         |[2023-11-05 11:35:00, 2023-11-05 11:40:00]|\n",
      "|[2023-11-05 11:15:00, 2023-11-05 11:20:00]|AIV |29.98             |28.738        |[2023-11-05 11:10:00, 2023-11-05 11:15:00]|\n",
      "|[2023-11-05 11:25:00, 2023-11-05 11:30:00]|AIV |37.57             |29.98         |[2023-11-05 11:15:00, 2023-11-05 11:20:00]|\n",
      "+------------------------------------------+----+------------------+--------------+------------------------------------------+\n",
      "only showing top 20 rows\n",
      "\n"
     ]
    },
    {
     "name": "stderr",
     "output_type": "stream",
     "text": [
      "                                                                                \r"
     ]
    },
    {
     "name": "stdout",
     "output_type": "stream",
     "text": [
      "-------------------------------------------\n",
      "Batch: 127\n",
      "-------------------------------------------\n",
      "+------------------------------------------+-----------+----------+-------------------+-------------------+-------------------+\n",
      "|window                                    |first_price|last_price|lastTimeStamp      |firstTimeStamp     |percent_value_lost |\n",
      "+------------------------------------------+-----------+----------+-------------------+-------------------+-------------------+\n",
      "|[2023-11-05 12:10:00, 2023-11-05 12:20:00]|20.67      |19.525    |2023-11-05 12:17:23|2023-11-05 12:15:14|0.05539429124334799|\n",
      "|[2023-11-05 12:20:00, 2023-11-05 12:30:00]|18.99      |17.48     |2023-11-05 12:29:47|2023-11-05 12:24:16|0.07951553449183771|\n",
      "+------------------------------------------+-----------+----------+-------------------+-------------------+-------------------+\n",
      "\n"
     ]
    },
    {
     "name": "stderr",
     "output_type": "stream",
     "text": [
      "                                                                                \r"
     ]
    },
    {
     "name": "stdout",
     "output_type": "stream",
     "text": [
      "+------------------------------------------+----+-----------------+------------------+------------------------------------------+\n",
      "|window                                    |name|avg(price)       |previous_price    |previous_window                           |\n",
      "+------------------------------------------+----+-----------------+------------------+------------------------------------------+\n",
      "|[2023-11-05 11:20:00, 2023-11-05 11:25:00]|ALXN|164.66           |180.2             |[2023-11-05 11:15:00, 2023-11-05 11:20:00]|\n",
      "|[2023-11-05 11:45:00, 2023-11-05 11:50:00]|ALXN|127.81           |201.66995         |[2023-11-05 11:30:00, 2023-11-05 11:35:00]|\n",
      "|[2023-11-05 11:55:00, 2023-11-05 12:00:00]|ALXN|118.62           |139.99            |[2023-11-05 11:50:00, 2023-11-05 11:55:00]|\n",
      "|[2023-11-05 11:10:00, 2023-11-05 11:15:00]|GIS |49.35666666666666|50.5207           |[2023-11-05 11:05:00, 2023-11-05 11:10:00]|\n",
      "|[2023-11-05 11:15:00, 2023-11-05 11:20:00]|GIS |48.6             |49.35666666666666 |[2023-11-05 11:10:00, 2023-11-05 11:15:00]|\n",
      "|[2023-11-05 11:50:00, 2023-11-05 11:55:00]|GIS |51.80505         |60.67             |[2023-11-05 11:45:00, 2023-11-05 11:50:00]|\n",
      "|[2023-11-05 11:20:00, 2023-11-05 11:25:00]|K   |66.23            |67.63             |[2023-11-05 11:15:00, 2023-11-05 11:20:00]|\n",
      "|[2023-11-05 11:25:00, 2023-11-05 11:30:00]|K   |62.1798          |66.23             |[2023-11-05 11:20:00, 2023-11-05 11:25:00]|\n",
      "|[2023-11-05 11:50:00, 2023-11-05 11:55:00]|K   |71.255           |73.32             |[2023-11-05 11:45:00, 2023-11-05 11:50:00]|\n",
      "|[2023-11-05 11:55:00, 2023-11-05 12:00:00]|K   |66.625           |71.255            |[2023-11-05 11:50:00, 2023-11-05 11:55:00]|\n",
      "|[2023-11-05 11:20:00, 2023-11-05 11:25:00]|LEN |35.5196          |38.958349999999996|[2023-11-05 11:15:00, 2023-11-05 11:20:00]|\n",
      "|[2023-11-05 11:30:00, 2023-11-05 11:35:00]|LEN |49.5392          |49.676500000000004|[2023-11-05 11:25:00, 2023-11-05 11:30:00]|\n",
      "|[2023-11-05 11:35:00, 2023-11-05 11:40:00]|LEN |47.4216          |49.5392           |[2023-11-05 11:30:00, 2023-11-05 11:35:00]|\n",
      "|[2023-11-05 11:40:00, 2023-11-05 11:45:00]|LEN |46.4265          |47.4216           |[2023-11-05 11:35:00, 2023-11-05 11:40:00]|\n",
      "|[2023-11-05 11:35:00, 2023-11-05 11:40:00]|SPGI|92.65            |97.46             |[2023-11-05 11:30:00, 2023-11-05 11:35:00]|\n",
      "|[2023-11-05 11:10:00, 2023-11-05 11:15:00]|AIV |28.738           |30.63             |[2023-11-05 11:05:00, 2023-11-05 11:10:00]|\n",
      "|[2023-11-05 11:50:00, 2023-11-05 11:55:00]|AIV |43.5275          |45.54             |[2023-11-05 11:45:00, 2023-11-05 11:50:00]|\n",
      "|[2023-11-05 11:10:00, 2023-11-05 11:15:00]|AVY |42.56            |43.17             |[2023-11-05 11:05:00, 2023-11-05 11:10:00]|\n",
      "|[2023-11-05 11:30:00, 2023-11-05 11:35:00]|AVY |59.358           |62.78             |[2023-11-05 11:25:00, 2023-11-05 11:30:00]|\n",
      "|[2023-11-05 11:35:00, 2023-11-05 11:40:00]|BF.B|48.2725          |51.205            |[2023-11-05 11:30:00, 2023-11-05 11:35:00]|\n",
      "+------------------------------------------+----+-----------------+------------------+------------------------------------------+\n",
      "only showing top 20 rows\n",
      "\n"
     ]
    },
    {
     "name": "stderr",
     "output_type": "stream",
     "text": [
      "                                                                                \r"
     ]
    },
    {
     "name": "stdout",
     "output_type": "stream",
     "text": [
      "-------------------------------------------\n",
      "Batch: 128\n",
      "-------------------------------------------\n",
      "+------------------------------------------+-----------+----------+-------------------+-------------------+-------------------+\n",
      "|window                                    |first_price|last_price|lastTimeStamp      |firstTimeStamp     |percent_value_lost |\n",
      "+------------------------------------------+-----------+----------+-------------------+-------------------+-------------------+\n",
      "|[2023-11-05 12:10:00, 2023-11-05 12:20:00]|20.67      |19.525    |2023-11-05 12:17:23|2023-11-05 12:15:14|0.05539429124334799|\n",
      "|[2023-11-05 12:20:00, 2023-11-05 12:30:00]|18.99      |17.48     |2023-11-05 12:29:47|2023-11-05 12:24:16|0.07951553449183771|\n",
      "+------------------------------------------+-----------+----------+-------------------+-------------------+-------------------+\n",
      "\n"
     ]
    },
    {
     "name": "stderr",
     "output_type": "stream",
     "text": [
      "                                                                                \r"
     ]
    },
    {
     "name": "stdout",
     "output_type": "stream",
     "text": [
      "+------------------------------------------+----+------------------+--------------+------------------------------------------+\n",
      "|window                                    |name|avg(price)        |previous_price|previous_window                           |\n",
      "+------------------------------------------+----+------------------+--------------+------------------------------------------+\n",
      "|[2023-11-05 11:15:00, 2023-11-05 11:20:00]|ALXN|180.2             |108.02        |[2023-11-05 11:10:00, 2023-11-05 11:15:00]|\n",
      "|[2023-11-05 11:25:00, 2023-11-05 11:30:00]|ALXN|186.99            |164.66        |[2023-11-05 11:20:00, 2023-11-05 11:25:00]|\n",
      "|[2023-11-05 11:30:00, 2023-11-05 11:35:00]|ALXN|201.66995         |186.99        |[2023-11-05 11:25:00, 2023-11-05 11:30:00]|\n",
      "|[2023-11-05 11:50:00, 2023-11-05 11:55:00]|ALXN|138.77            |127.81        |[2023-11-05 11:45:00, 2023-11-05 11:50:00]|\n",
      "|[2023-11-05 11:20:00, 2023-11-05 11:25:00]|GIS |50.92             |48.6          |[2023-11-05 11:15:00, 2023-11-05 11:20:00]|\n",
      "|[2023-11-05 11:30:00, 2023-11-05 11:35:00]|GIS |57.61             |50.92         |[2023-11-05 11:20:00, 2023-11-05 11:25:00]|\n",
      "|[2023-11-05 11:45:00, 2023-11-05 11:50:00]|GIS |60.67             |57.61         |[2023-11-05 11:30:00, 2023-11-05 11:35:00]|\n",
      "|[2023-11-05 11:15:00, 2023-11-05 11:20:00]|K   |67.63             |65.865        |[2023-11-05 11:10:00, 2023-11-05 11:15:00]|\n",
      "|[2023-11-05 11:30:00, 2023-11-05 11:35:00]|K   |66.81             |62.1798       |[2023-11-05 11:25:00, 2023-11-05 11:30:00]|\n",
      "|[2023-11-05 11:45:00, 2023-11-05 11:50:00]|K   |73.32             |66.81         |[2023-11-05 11:30:00, 2023-11-05 11:35:00]|\n",
      "|[2023-11-05 11:15:00, 2023-11-05 11:20:00]|LEN |38.958349999999996|33.89705      |[2023-11-05 11:10:00, 2023-11-05 11:15:00]|\n",
      "|[2023-11-05 11:25:00, 2023-11-05 11:30:00]|LEN |49.676500000000004|35.5196       |[2023-11-05 11:20:00, 2023-11-05 11:25:00]|\n",
      "|[2023-11-05 11:45:00, 2023-11-05 11:50:00]|LEN |51.2647           |46.4265       |[2023-11-05 11:40:00, 2023-11-05 11:45:00]|\n",
      "|[2023-11-05 11:15:00, 2023-11-05 11:20:00]|SPGI|77.12             |60.16         |[2023-11-05 11:10:00, 2023-11-05 11:15:00]|\n",
      "|[2023-11-05 11:20:00, 2023-11-05 11:25:00]|SPGI|86.69             |77.12         |[2023-11-05 11:15:00, 2023-11-05 11:20:00]|\n",
      "|[2023-11-05 11:25:00, 2023-11-05 11:30:00]|SPGI|90.47             |86.69         |[2023-11-05 11:20:00, 2023-11-05 11:25:00]|\n",
      "|[2023-11-05 11:30:00, 2023-11-05 11:35:00]|SPGI|97.46             |90.47         |[2023-11-05 11:25:00, 2023-11-05 11:30:00]|\n",
      "|[2023-11-05 11:45:00, 2023-11-05 11:50:00]|SPGI|123.705           |92.65         |[2023-11-05 11:35:00, 2023-11-05 11:40:00]|\n",
      "|[2023-11-05 11:50:00, 2023-11-05 11:55:00]|SPGI|154.8399          |123.705       |[2023-11-05 11:45:00, 2023-11-05 11:50:00]|\n",
      "|[2023-11-05 11:15:00, 2023-11-05 11:20:00]|AIV |29.98             |28.738        |[2023-11-05 11:10:00, 2023-11-05 11:15:00]|\n",
      "+------------------------------------------+----+------------------+--------------+------------------------------------------+\n",
      "only showing top 20 rows\n",
      "\n",
      "-------------------------------------------\n",
      "Batch: 129\n",
      "-------------------------------------------\n",
      "+------------------------------------------+-----------+----------+-------------------+-------------------+-------------------+\n",
      "|window                                    |first_price|last_price|lastTimeStamp      |firstTimeStamp     |percent_value_lost |\n",
      "+------------------------------------------+-----------+----------+-------------------+-------------------+-------------------+\n",
      "|[2023-11-05 12:10:00, 2023-11-05 12:20:00]|20.67      |19.525    |2023-11-05 12:17:23|2023-11-05 12:15:14|0.05539429124334799|\n",
      "|[2023-11-05 12:20:00, 2023-11-05 12:30:00]|18.99      |17.48     |2023-11-05 12:29:47|2023-11-05 12:24:16|0.07951553449183771|\n",
      "+------------------------------------------+-----------+----------+-------------------+-------------------+-------------------+\n",
      "\n"
     ]
    },
    {
     "name": "stderr",
     "output_type": "stream",
     "text": [
      "                                                                                \r"
     ]
    },
    {
     "name": "stdout",
     "output_type": "stream",
     "text": [
      "-------------------------------------------\n",
      "Batch: 130\n",
      "-------------------------------------------\n",
      "+------------------------------------------+-----------+----------+-------------------+-------------------+-------------------+\n",
      "|window                                    |first_price|last_price|lastTimeStamp      |firstTimeStamp     |percent_value_lost |\n",
      "+------------------------------------------+-----------+----------+-------------------+-------------------+-------------------+\n",
      "|[2023-11-05 12:10:00, 2023-11-05 12:20:00]|20.67      |19.525    |2023-11-05 12:17:23|2023-11-05 12:15:14|0.05539429124334799|\n",
      "|[2023-11-05 12:20:00, 2023-11-05 12:30:00]|18.99      |17.48     |2023-11-05 12:29:47|2023-11-05 12:24:16|0.07951553449183771|\n",
      "+------------------------------------------+-----------+----------+-------------------+-------------------+-------------------+\n",
      "\n"
     ]
    },
    {
     "name": "stderr",
     "output_type": "stream",
     "text": [
      "                                                                                \r"
     ]
    },
    {
     "name": "stdout",
     "output_type": "stream",
     "text": [
      "+------------------------------------------+----+-----------------+------------------+------------------------------------------+\n",
      "|window                                    |name|avg(price)       |previous_price    |previous_window                           |\n",
      "+------------------------------------------+----+-----------------+------------------+------------------------------------------+\n",
      "|[2023-11-05 11:20:00, 2023-11-05 11:25:00]|ALXN|164.66           |180.2             |[2023-11-05 11:15:00, 2023-11-05 11:20:00]|\n",
      "|[2023-11-05 11:45:00, 2023-11-05 11:50:00]|ALXN|127.81           |201.66995         |[2023-11-05 11:30:00, 2023-11-05 11:35:00]|\n",
      "|[2023-11-05 11:55:00, 2023-11-05 12:00:00]|ALXN|118.62           |139.99            |[2023-11-05 11:50:00, 2023-11-05 11:55:00]|\n",
      "|[2023-11-05 11:10:00, 2023-11-05 11:15:00]|GIS |49.35666666666666|50.5207           |[2023-11-05 11:05:00, 2023-11-05 11:10:00]|\n",
      "|[2023-11-05 11:15:00, 2023-11-05 11:20:00]|GIS |48.6             |49.35666666666666 |[2023-11-05 11:10:00, 2023-11-05 11:15:00]|\n",
      "|[2023-11-05 11:50:00, 2023-11-05 11:55:00]|GIS |51.80505         |60.67             |[2023-11-05 11:45:00, 2023-11-05 11:50:00]|\n",
      "|[2023-11-05 11:20:00, 2023-11-05 11:25:00]|K   |66.23            |67.63             |[2023-11-05 11:15:00, 2023-11-05 11:20:00]|\n",
      "|[2023-11-05 11:25:00, 2023-11-05 11:30:00]|K   |62.1798          |66.23             |[2023-11-05 11:20:00, 2023-11-05 11:25:00]|\n",
      "|[2023-11-05 11:50:00, 2023-11-05 11:55:00]|K   |71.255           |73.32             |[2023-11-05 11:45:00, 2023-11-05 11:50:00]|\n",
      "|[2023-11-05 11:55:00, 2023-11-05 12:00:00]|K   |66.625           |71.255            |[2023-11-05 11:50:00, 2023-11-05 11:55:00]|\n",
      "|[2023-11-05 11:20:00, 2023-11-05 11:25:00]|LEN |35.5196          |38.958349999999996|[2023-11-05 11:15:00, 2023-11-05 11:20:00]|\n",
      "|[2023-11-05 11:30:00, 2023-11-05 11:35:00]|LEN |49.5392          |49.676500000000004|[2023-11-05 11:25:00, 2023-11-05 11:30:00]|\n",
      "|[2023-11-05 11:35:00, 2023-11-05 11:40:00]|LEN |47.4216          |49.5392           |[2023-11-05 11:30:00, 2023-11-05 11:35:00]|\n",
      "|[2023-11-05 11:40:00, 2023-11-05 11:45:00]|LEN |46.4265          |47.4216           |[2023-11-05 11:35:00, 2023-11-05 11:40:00]|\n",
      "|[2023-11-05 11:35:00, 2023-11-05 11:40:00]|SPGI|92.65            |97.46             |[2023-11-05 11:30:00, 2023-11-05 11:35:00]|\n",
      "|[2023-11-05 11:10:00, 2023-11-05 11:15:00]|AIV |28.738           |30.63             |[2023-11-05 11:05:00, 2023-11-05 11:10:00]|\n",
      "|[2023-11-05 11:50:00, 2023-11-05 11:55:00]|AIV |43.5275          |45.54             |[2023-11-05 11:45:00, 2023-11-05 11:50:00]|\n",
      "|[2023-11-05 11:10:00, 2023-11-05 11:15:00]|AVY |42.56            |43.17             |[2023-11-05 11:05:00, 2023-11-05 11:10:00]|\n",
      "|[2023-11-05 11:30:00, 2023-11-05 11:35:00]|AVY |59.358           |62.78             |[2023-11-05 11:25:00, 2023-11-05 11:30:00]|\n",
      "|[2023-11-05 11:35:00, 2023-11-05 11:40:00]|BF.B|48.2725          |51.205            |[2023-11-05 11:30:00, 2023-11-05 11:35:00]|\n",
      "+------------------------------------------+----+-----------------+------------------+------------------------------------------+\n",
      "only showing top 20 rows\n",
      "\n"
     ]
    },
    {
     "name": "stderr",
     "output_type": "stream",
     "text": [
      "[Stage 2462:(181 + 4) / 200][Stage 2463:> (0 + 0) / 1][Stage 2468:> (0 + 0) / 1]\r"
     ]
    },
    {
     "name": "stdout",
     "output_type": "stream",
     "text": [
      "+------------------------------------------+----+------------------+--------------+------------------------------------------+\n",
      "|window                                    |name|avg(price)        |previous_price|previous_window                           |\n",
      "+------------------------------------------+----+------------------+--------------+------------------------------------------+\n",
      "|[2023-11-05 11:15:00, 2023-11-05 11:20:00]|ALXN|180.2             |108.02        |[2023-11-05 11:10:00, 2023-11-05 11:15:00]|\n",
      "|[2023-11-05 11:25:00, 2023-11-05 11:30:00]|ALXN|186.99            |164.66        |[2023-11-05 11:20:00, 2023-11-05 11:25:00]|\n",
      "|[2023-11-05 11:30:00, 2023-11-05 11:35:00]|ALXN|201.66995         |186.99        |[2023-11-05 11:25:00, 2023-11-05 11:30:00]|\n",
      "|[2023-11-05 11:50:00, 2023-11-05 11:55:00]|ALXN|138.8166666666667 |127.81        |[2023-11-05 11:45:00, 2023-11-05 11:50:00]|\n",
      "|[2023-11-05 11:20:00, 2023-11-05 11:25:00]|GIS |50.92             |48.6          |[2023-11-05 11:15:00, 2023-11-05 11:20:00]|\n",
      "|[2023-11-05 11:30:00, 2023-11-05 11:35:00]|GIS |57.61             |50.92         |[2023-11-05 11:20:00, 2023-11-05 11:25:00]|\n",
      "|[2023-11-05 11:45:00, 2023-11-05 11:50:00]|GIS |60.67             |57.61         |[2023-11-05 11:30:00, 2023-11-05 11:35:00]|\n",
      "|[2023-11-05 11:15:00, 2023-11-05 11:20:00]|K   |67.63             |65.865        |[2023-11-05 11:10:00, 2023-11-05 11:15:00]|\n",
      "|[2023-11-05 11:30:00, 2023-11-05 11:35:00]|K   |66.81             |62.1798       |[2023-11-05 11:25:00, 2023-11-05 11:30:00]|\n",
      "|[2023-11-05 11:45:00, 2023-11-05 11:50:00]|K   |73.32             |66.81         |[2023-11-05 11:30:00, 2023-11-05 11:35:00]|\n",
      "|[2023-11-05 11:15:00, 2023-11-05 11:20:00]|LEN |38.958349999999996|33.89705      |[2023-11-05 11:10:00, 2023-11-05 11:15:00]|\n",
      "|[2023-11-05 11:25:00, 2023-11-05 11:30:00]|LEN |49.676500000000004|35.5196       |[2023-11-05 11:20:00, 2023-11-05 11:25:00]|\n",
      "|[2023-11-05 11:45:00, 2023-11-05 11:50:00]|LEN |51.2647           |46.4265       |[2023-11-05 11:40:00, 2023-11-05 11:45:00]|\n",
      "|[2023-11-05 11:15:00, 2023-11-05 11:20:00]|SPGI|77.12             |60.16         |[2023-11-05 11:10:00, 2023-11-05 11:15:00]|\n",
      "|[2023-11-05 11:20:00, 2023-11-05 11:25:00]|SPGI|86.69             |77.12         |[2023-11-05 11:15:00, 2023-11-05 11:20:00]|\n",
      "|[2023-11-05 11:25:00, 2023-11-05 11:30:00]|SPGI|90.47             |86.69         |[2023-11-05 11:20:00, 2023-11-05 11:25:00]|\n",
      "|[2023-11-05 11:30:00, 2023-11-05 11:35:00]|SPGI|97.46             |90.47         |[2023-11-05 11:25:00, 2023-11-05 11:30:00]|\n",
      "|[2023-11-05 11:45:00, 2023-11-05 11:50:00]|SPGI|123.705           |92.65         |[2023-11-05 11:35:00, 2023-11-05 11:40:00]|\n",
      "|[2023-11-05 11:50:00, 2023-11-05 11:55:00]|SPGI|154.8399          |123.705       |[2023-11-05 11:45:00, 2023-11-05 11:50:00]|\n",
      "|[2023-11-05 11:15:00, 2023-11-05 11:20:00]|AIV |29.98             |28.738        |[2023-11-05 11:10:00, 2023-11-05 11:15:00]|\n",
      "+------------------------------------------+----+------------------+--------------+------------------------------------------+\n",
      "only showing top 20 rows\n",
      "\n",
      "-------------------------------------------\n",
      "Batch: 131\n",
      "-------------------------------------------\n",
      "+------------------------------------------+-----------+----------+-------------------+-------------------+-------------------+\n",
      "|window                                    |first_price|last_price|lastTimeStamp      |firstTimeStamp     |percent_value_lost |\n",
      "+------------------------------------------+-----------+----------+-------------------+-------------------+-------------------+\n",
      "|[2023-11-05 12:10:00, 2023-11-05 12:20:00]|20.67      |19.525    |2023-11-05 12:17:23|2023-11-05 12:15:14|0.05539429124334799|\n",
      "|[2023-11-05 12:20:00, 2023-11-05 12:30:00]|18.99      |17.48     |2023-11-05 12:29:47|2023-11-05 12:24:16|0.07951553449183771|\n",
      "+------------------------------------------+-----------+----------+-------------------+-------------------+-------------------+\n",
      "\n"
     ]
    },
    {
     "name": "stderr",
     "output_type": "stream",
     "text": [
      "                                                                                \r"
     ]
    },
    {
     "name": "stdout",
     "output_type": "stream",
     "text": [
      "-------------------------------------------\n",
      "Batch: 132\n",
      "-------------------------------------------\n",
      "+------------------------------------------+-----------+----------+-------------------+-------------------+-------------------+\n",
      "|window                                    |first_price|last_price|lastTimeStamp      |firstTimeStamp     |percent_value_lost |\n",
      "+------------------------------------------+-----------+----------+-------------------+-------------------+-------------------+\n",
      "|[2023-11-05 12:10:00, 2023-11-05 12:20:00]|20.67      |19.525    |2023-11-05 12:17:23|2023-11-05 12:15:14|0.05539429124334799|\n",
      "|[2023-11-05 12:20:00, 2023-11-05 12:30:00]|18.99      |17.48     |2023-11-05 12:29:47|2023-11-05 12:24:16|0.07951553449183771|\n",
      "+------------------------------------------+-----------+----------+-------------------+-------------------+-------------------+\n",
      "\n"
     ]
    },
    {
     "name": "stderr",
     "output_type": "stream",
     "text": [
      "                                                                                \r"
     ]
    },
    {
     "name": "stdout",
     "output_type": "stream",
     "text": [
      "-------------------------------------------\n",
      "Batch: 133\n",
      "-------------------------------------------\n",
      "+------------------------------------------+----+-----------------+------------------+------------------------------------------+\n",
      "|window                                    |name|avg(price)       |previous_price    |previous_window                           |\n",
      "+------------------------------------------+----+-----------------+------------------+------------------------------------------+\n",
      "|[2023-11-05 11:20:00, 2023-11-05 11:25:00]|ALXN|164.66           |180.2             |[2023-11-05 11:15:00, 2023-11-05 11:20:00]|\n",
      "|[2023-11-05 11:45:00, 2023-11-05 11:50:00]|ALXN|127.81           |201.66995         |[2023-11-05 11:30:00, 2023-11-05 11:35:00]|\n",
      "|[2023-11-05 11:55:00, 2023-11-05 12:00:00]|ALXN|106.06           |139.99            |[2023-11-05 11:50:00, 2023-11-05 11:55:00]|\n",
      "|[2023-11-05 11:10:00, 2023-11-05 11:15:00]|GIS |49.35666666666666|50.5207           |[2023-11-05 11:05:00, 2023-11-05 11:10:00]|\n",
      "|[2023-11-05 11:15:00, 2023-11-05 11:20:00]|GIS |48.6             |49.35666666666666 |[2023-11-05 11:10:00, 2023-11-05 11:15:00]|\n",
      "|[2023-11-05 11:50:00, 2023-11-05 11:55:00]|GIS |51.80505         |60.67             |[2023-11-05 11:45:00, 2023-11-05 11:50:00]|\n",
      "|[2023-11-05 11:20:00, 2023-11-05 11:25:00]|K   |66.23            |67.63             |[2023-11-05 11:15:00, 2023-11-05 11:20:00]|\n",
      "|[2023-11-05 11:25:00, 2023-11-05 11:30:00]|K   |62.1798          |66.23             |[2023-11-05 11:20:00, 2023-11-05 11:25:00]|\n",
      "|[2023-11-05 11:50:00, 2023-11-05 11:55:00]|K   |71.255           |73.32             |[2023-11-05 11:45:00, 2023-11-05 11:50:00]|\n",
      "|[2023-11-05 11:55:00, 2023-11-05 12:00:00]|K   |66.625           |71.255            |[2023-11-05 11:50:00, 2023-11-05 11:55:00]|\n",
      "|[2023-11-05 11:20:00, 2023-11-05 11:25:00]|LEN |35.5196          |38.958349999999996|[2023-11-05 11:15:00, 2023-11-05 11:20:00]|\n",
      "|[2023-11-05 11:30:00, 2023-11-05 11:35:00]|LEN |49.5392          |49.676500000000004|[2023-11-05 11:25:00, 2023-11-05 11:30:00]|\n",
      "|[2023-11-05 11:35:00, 2023-11-05 11:40:00]|LEN |47.4216          |49.5392           |[2023-11-05 11:30:00, 2023-11-05 11:35:00]|\n",
      "|[2023-11-05 11:40:00, 2023-11-05 11:45:00]|LEN |46.4265          |47.4216           |[2023-11-05 11:35:00, 2023-11-05 11:40:00]|\n",
      "|[2023-11-05 11:35:00, 2023-11-05 11:40:00]|SPGI|92.65            |97.46             |[2023-11-05 11:30:00, 2023-11-05 11:35:00]|\n",
      "|[2023-11-05 11:10:00, 2023-11-05 11:15:00]|AIV |28.738           |30.63             |[2023-11-05 11:05:00, 2023-11-05 11:10:00]|\n",
      "|[2023-11-05 11:50:00, 2023-11-05 11:55:00]|AIV |43.5275          |45.54             |[2023-11-05 11:45:00, 2023-11-05 11:50:00]|\n",
      "|[2023-11-05 11:10:00, 2023-11-05 11:15:00]|AVY |42.56            |43.17             |[2023-11-05 11:05:00, 2023-11-05 11:10:00]|\n",
      "|[2023-11-05 11:30:00, 2023-11-05 11:35:00]|AVY |59.358           |62.78             |[2023-11-05 11:25:00, 2023-11-05 11:30:00]|\n",
      "|[2023-11-05 11:35:00, 2023-11-05 11:40:00]|BF.B|48.2725          |51.205            |[2023-11-05 11:30:00, 2023-11-05 11:35:00]|\n",
      "+------------------------------------------+----+-----------------+------------------+------------------------------------------+\n",
      "only showing top 20 rows\n",
      "\n",
      "+------------------------------------------+----+------------------+--------------+------------------------------------------+\n",
      "|window                                    |name|avg(price)        |previous_price|previous_window                           |\n",
      "+------------------------------------------+----+------------------+--------------+------------------------------------------+\n",
      "|[2023-11-05 11:15:00, 2023-11-05 11:20:00]|ALXN|180.2             |108.02        |[2023-11-05 11:10:00, 2023-11-05 11:15:00]|\n",
      "|[2023-11-05 11:25:00, 2023-11-05 11:30:00]|ALXN|186.99            |164.66        |[2023-11-05 11:20:00, 2023-11-05 11:25:00]|\n",
      "|[2023-11-05 11:30:00, 2023-11-05 11:35:00]|ALXN|201.66995         |186.99        |[2023-11-05 11:25:00, 2023-11-05 11:30:00]|\n",
      "|[2023-11-05 11:50:00, 2023-11-05 11:55:00]|ALXN|139.99            |127.81        |[2023-11-05 11:45:00, 2023-11-05 11:50:00]|\n",
      "|[2023-11-05 11:20:00, 2023-11-05 11:25:00]|GIS |50.92             |48.6          |[2023-11-05 11:15:00, 2023-11-05 11:20:00]|\n",
      "|[2023-11-05 11:30:00, 2023-11-05 11:35:00]|GIS |57.61             |50.92         |[2023-11-05 11:20:00, 2023-11-05 11:25:00]|\n",
      "|[2023-11-05 11:45:00, 2023-11-05 11:50:00]|GIS |60.67             |57.61         |[2023-11-05 11:30:00, 2023-11-05 11:35:00]|\n",
      "|[2023-11-05 11:15:00, 2023-11-05 11:20:00]|K   |67.63             |65.865        |[2023-11-05 11:10:00, 2023-11-05 11:15:00]|\n",
      "|[2023-11-05 11:30:00, 2023-11-05 11:35:00]|K   |66.81             |62.1798       |[2023-11-05 11:25:00, 2023-11-05 11:30:00]|\n",
      "|[2023-11-05 11:45:00, 2023-11-05 11:50:00]|K   |73.32             |66.81         |[2023-11-05 11:30:00, 2023-11-05 11:35:00]|\n",
      "|[2023-11-05 11:15:00, 2023-11-05 11:20:00]|LEN |38.958349999999996|33.89705      |[2023-11-05 11:10:00, 2023-11-05 11:15:00]|\n",
      "|[2023-11-05 11:25:00, 2023-11-05 11:30:00]|LEN |49.676500000000004|35.5196       |[2023-11-05 11:20:00, 2023-11-05 11:25:00]|\n",
      "|[2023-11-05 11:45:00, 2023-11-05 11:50:00]|LEN |51.2647           |46.4265       |[2023-11-05 11:40:00, 2023-11-05 11:45:00]|\n",
      "|[2023-11-05 11:15:00, 2023-11-05 11:20:00]|SPGI|77.12             |60.16         |[2023-11-05 11:10:00, 2023-11-05 11:15:00]|\n",
      "|[2023-11-05 11:20:00, 2023-11-05 11:25:00]|SPGI|86.69             |77.12         |[2023-11-05 11:15:00, 2023-11-05 11:20:00]|\n",
      "|[2023-11-05 11:25:00, 2023-11-05 11:30:00]|SPGI|90.47             |86.69         |[2023-11-05 11:20:00, 2023-11-05 11:25:00]|\n",
      "|[2023-11-05 11:30:00, 2023-11-05 11:35:00]|SPGI|97.46             |90.47         |[2023-11-05 11:25:00, 2023-11-05 11:30:00]|\n",
      "|[2023-11-05 11:45:00, 2023-11-05 11:50:00]|SPGI|123.705           |92.65         |[2023-11-05 11:35:00, 2023-11-05 11:40:00]|\n",
      "|[2023-11-05 11:50:00, 2023-11-05 11:55:00]|SPGI|154.8399          |123.705       |[2023-11-05 11:45:00, 2023-11-05 11:50:00]|\n",
      "|[2023-11-05 11:15:00, 2023-11-05 11:20:00]|AIV |29.98             |28.738        |[2023-11-05 11:10:00, 2023-11-05 11:15:00]|\n",
      "+------------------------------------------+----+------------------+--------------+------------------------------------------+\n",
      "only showing top 20 rows\n",
      "\n",
      "+------------------------------------------+-----------+----------+-------------------+-------------------+-------------------+\n",
      "|window                                    |first_price|last_price|lastTimeStamp      |firstTimeStamp     |percent_value_lost |\n",
      "+------------------------------------------+-----------+----------+-------------------+-------------------+-------------------+\n",
      "|[2023-11-05 12:10:00, 2023-11-05 12:20:00]|20.67      |19.525    |2023-11-05 12:17:23|2023-11-05 12:15:14|0.05539429124334799|\n",
      "|[2023-11-05 12:20:00, 2023-11-05 12:30:00]|18.99      |17.48     |2023-11-05 12:29:47|2023-11-05 12:24:16|0.07951553449183771|\n",
      "+------------------------------------------+-----------+----------+-------------------+-------------------+-------------------+\n",
      "\n"
     ]
    },
    {
     "name": "stderr",
     "output_type": "stream",
     "text": [
      "                                                                                \r"
     ]
    },
    {
     "name": "stdout",
     "output_type": "stream",
     "text": [
      "+------------------------------------------+----+------------------+--------------+------------------------------------------+\n",
      "|window                                    |name|avg(price)        |previous_price|previous_window                           |\n",
      "+------------------------------------------+----+------------------+--------------+------------------------------------------+\n",
      "|[2023-11-05 11:15:00, 2023-11-05 11:20:00]|ALXN|180.2             |108.02        |[2023-11-05 11:10:00, 2023-11-05 11:15:00]|\n",
      "|[2023-11-05 11:25:00, 2023-11-05 11:30:00]|ALXN|186.99            |164.66        |[2023-11-05 11:20:00, 2023-11-05 11:25:00]|\n",
      "|[2023-11-05 11:30:00, 2023-11-05 11:35:00]|ALXN|201.66995         |186.99        |[2023-11-05 11:25:00, 2023-11-05 11:30:00]|\n",
      "|[2023-11-05 11:50:00, 2023-11-05 11:55:00]|ALXN|139.99            |127.81        |[2023-11-05 11:45:00, 2023-11-05 11:50:00]|\n",
      "|[2023-11-05 11:20:00, 2023-11-05 11:25:00]|GIS |50.92             |48.6          |[2023-11-05 11:15:00, 2023-11-05 11:20:00]|\n",
      "|[2023-11-05 11:30:00, 2023-11-05 11:35:00]|GIS |57.61             |50.92         |[2023-11-05 11:20:00, 2023-11-05 11:25:00]|\n",
      "|[2023-11-05 11:45:00, 2023-11-05 11:50:00]|GIS |60.67             |57.61         |[2023-11-05 11:30:00, 2023-11-05 11:35:00]|\n",
      "|[2023-11-05 11:15:00, 2023-11-05 11:20:00]|K   |67.63             |65.865        |[2023-11-05 11:10:00, 2023-11-05 11:15:00]|\n",
      "|[2023-11-05 11:30:00, 2023-11-05 11:35:00]|K   |66.81             |62.1798       |[2023-11-05 11:25:00, 2023-11-05 11:30:00]|\n",
      "|[2023-11-05 11:45:00, 2023-11-05 11:50:00]|K   |73.32             |66.81         |[2023-11-05 11:30:00, 2023-11-05 11:35:00]|\n",
      "|[2023-11-05 11:15:00, 2023-11-05 11:20:00]|LEN |38.958349999999996|33.89705      |[2023-11-05 11:10:00, 2023-11-05 11:15:00]|\n",
      "|[2023-11-05 11:25:00, 2023-11-05 11:30:00]|LEN |49.676500000000004|35.5196       |[2023-11-05 11:20:00, 2023-11-05 11:25:00]|\n",
      "|[2023-11-05 11:45:00, 2023-11-05 11:50:00]|LEN |51.2647           |46.4265       |[2023-11-05 11:40:00, 2023-11-05 11:45:00]|\n",
      "|[2023-11-05 11:15:00, 2023-11-05 11:20:00]|SPGI|77.12             |60.16         |[2023-11-05 11:10:00, 2023-11-05 11:15:00]|\n",
      "|[2023-11-05 11:20:00, 2023-11-05 11:25:00]|SPGI|86.69             |77.12         |[2023-11-05 11:15:00, 2023-11-05 11:20:00]|\n",
      "|[2023-11-05 11:25:00, 2023-11-05 11:30:00]|SPGI|90.47             |86.69         |[2023-11-05 11:20:00, 2023-11-05 11:25:00]|\n",
      "|[2023-11-05 11:30:00, 2023-11-05 11:35:00]|SPGI|97.46             |90.47         |[2023-11-05 11:25:00, 2023-11-05 11:30:00]|\n",
      "|[2023-11-05 11:45:00, 2023-11-05 11:50:00]|SPGI|123.705           |92.65         |[2023-11-05 11:35:00, 2023-11-05 11:40:00]|\n",
      "|[2023-11-05 11:50:00, 2023-11-05 11:55:00]|SPGI|154.8399          |123.705       |[2023-11-05 11:45:00, 2023-11-05 11:50:00]|\n",
      "|[2023-11-05 11:15:00, 2023-11-05 11:20:00]|AIV |29.98             |28.738        |[2023-11-05 11:10:00, 2023-11-05 11:15:00]|\n",
      "+------------------------------------------+----+------------------+--------------+------------------------------------------+\n",
      "only showing top 20 rows\n",
      "\n"
     ]
    },
    {
     "name": "stderr",
     "output_type": "stream",
     "text": [
      "                                                                                \r"
     ]
    },
    {
     "name": "stdout",
     "output_type": "stream",
     "text": [
      "+------------------------------------------+----+------------------+------------------+------------------------------------------+\n",
      "|window                                    |name|avg(price)        |previous_price    |previous_window                           |\n",
      "+------------------------------------------+----+------------------+------------------+------------------------------------------+\n",
      "|[2023-11-05 11:20:00, 2023-11-05 11:25:00]|ALXN|164.66            |180.2             |[2023-11-05 11:15:00, 2023-11-05 11:20:00]|\n",
      "|[2023-11-05 11:45:00, 2023-11-05 11:50:00]|ALXN|127.81            |201.66995         |[2023-11-05 11:30:00, 2023-11-05 11:35:00]|\n",
      "|[2023-11-05 11:55:00, 2023-11-05 12:00:00]|ALXN|104.12333333333333|139.99            |[2023-11-05 11:50:00, 2023-11-05 11:55:00]|\n",
      "|[2023-11-05 11:10:00, 2023-11-05 11:15:00]|GIS |49.35666666666666 |50.5207           |[2023-11-05 11:05:00, 2023-11-05 11:10:00]|\n",
      "|[2023-11-05 11:15:00, 2023-11-05 11:20:00]|GIS |48.6              |49.35666666666666 |[2023-11-05 11:10:00, 2023-11-05 11:15:00]|\n",
      "|[2023-11-05 11:50:00, 2023-11-05 11:55:00]|GIS |51.80505          |60.67             |[2023-11-05 11:45:00, 2023-11-05 11:50:00]|\n",
      "|[2023-11-05 11:20:00, 2023-11-05 11:25:00]|K   |66.23             |67.63             |[2023-11-05 11:15:00, 2023-11-05 11:20:00]|\n",
      "|[2023-11-05 11:25:00, 2023-11-05 11:30:00]|K   |62.1798           |66.23             |[2023-11-05 11:20:00, 2023-11-05 11:25:00]|\n",
      "|[2023-11-05 11:50:00, 2023-11-05 11:55:00]|K   |71.255            |73.32             |[2023-11-05 11:45:00, 2023-11-05 11:50:00]|\n",
      "|[2023-11-05 11:55:00, 2023-11-05 12:00:00]|K   |66.625            |71.255            |[2023-11-05 11:50:00, 2023-11-05 11:55:00]|\n",
      "|[2023-11-05 11:20:00, 2023-11-05 11:25:00]|LEN |35.5196           |38.958349999999996|[2023-11-05 11:15:00, 2023-11-05 11:20:00]|\n",
      "|[2023-11-05 11:30:00, 2023-11-05 11:35:00]|LEN |49.5392           |49.676500000000004|[2023-11-05 11:25:00, 2023-11-05 11:30:00]|\n",
      "|[2023-11-05 11:35:00, 2023-11-05 11:40:00]|LEN |47.4216           |49.5392           |[2023-11-05 11:30:00, 2023-11-05 11:35:00]|\n",
      "|[2023-11-05 11:40:00, 2023-11-05 11:45:00]|LEN |46.4265           |47.4216           |[2023-11-05 11:35:00, 2023-11-05 11:40:00]|\n",
      "|[2023-11-05 11:35:00, 2023-11-05 11:40:00]|SPGI|92.65             |97.46             |[2023-11-05 11:30:00, 2023-11-05 11:35:00]|\n",
      "|[2023-11-05 11:10:00, 2023-11-05 11:15:00]|AIV |28.738            |30.63             |[2023-11-05 11:05:00, 2023-11-05 11:10:00]|\n",
      "|[2023-11-05 11:50:00, 2023-11-05 11:55:00]|AIV |43.5275           |45.54             |[2023-11-05 11:45:00, 2023-11-05 11:50:00]|\n",
      "|[2023-11-05 11:10:00, 2023-11-05 11:15:00]|AVY |42.56             |43.17             |[2023-11-05 11:05:00, 2023-11-05 11:10:00]|\n",
      "|[2023-11-05 11:30:00, 2023-11-05 11:35:00]|AVY |59.358            |62.78             |[2023-11-05 11:25:00, 2023-11-05 11:30:00]|\n",
      "|[2023-11-05 11:35:00, 2023-11-05 11:40:00]|BF.B|48.2725           |51.205            |[2023-11-05 11:30:00, 2023-11-05 11:35:00]|\n",
      "+------------------------------------------+----+------------------+------------------+------------------------------------------+\n",
      "only showing top 20 rows\n",
      "\n"
     ]
    },
    {
     "name": "stderr",
     "output_type": "stream",
     "text": [
      "                                                                                \r"
     ]
    },
    {
     "name": "stdout",
     "output_type": "stream",
     "text": [
      "+------------------------------------------+----+------------------+--------------+------------------------------------------+\n",
      "|window                                    |name|avg(price)        |previous_price|previous_window                           |\n",
      "+------------------------------------------+----+------------------+--------------+------------------------------------------+\n",
      "|[2023-11-05 11:15:00, 2023-11-05 11:20:00]|ALXN|180.2             |108.02        |[2023-11-05 11:10:00, 2023-11-05 11:15:00]|\n",
      "|[2023-11-05 11:25:00, 2023-11-05 11:30:00]|ALXN|186.99            |164.66        |[2023-11-05 11:20:00, 2023-11-05 11:25:00]|\n",
      "|[2023-11-05 11:30:00, 2023-11-05 11:35:00]|ALXN|201.66995         |186.99        |[2023-11-05 11:25:00, 2023-11-05 11:30:00]|\n",
      "|[2023-11-05 11:50:00, 2023-11-05 11:55:00]|ALXN|139.99            |127.81        |[2023-11-05 11:45:00, 2023-11-05 11:50:00]|\n",
      "|[2023-11-05 11:20:00, 2023-11-05 11:25:00]|GIS |50.92             |48.6          |[2023-11-05 11:15:00, 2023-11-05 11:20:00]|\n",
      "|[2023-11-05 11:30:00, 2023-11-05 11:35:00]|GIS |57.61             |50.92         |[2023-11-05 11:20:00, 2023-11-05 11:25:00]|\n",
      "|[2023-11-05 11:45:00, 2023-11-05 11:50:00]|GIS |60.67             |57.61         |[2023-11-05 11:30:00, 2023-11-05 11:35:00]|\n",
      "|[2023-11-05 11:15:00, 2023-11-05 11:20:00]|K   |67.63             |65.865        |[2023-11-05 11:10:00, 2023-11-05 11:15:00]|\n",
      "|[2023-11-05 11:30:00, 2023-11-05 11:35:00]|K   |66.81             |62.1798       |[2023-11-05 11:25:00, 2023-11-05 11:30:00]|\n",
      "|[2023-11-05 11:45:00, 2023-11-05 11:50:00]|K   |73.32             |66.81         |[2023-11-05 11:30:00, 2023-11-05 11:35:00]|\n",
      "|[2023-11-05 11:15:00, 2023-11-05 11:20:00]|LEN |38.958349999999996|33.89705      |[2023-11-05 11:10:00, 2023-11-05 11:15:00]|\n",
      "|[2023-11-05 11:25:00, 2023-11-05 11:30:00]|LEN |49.676500000000004|35.5196       |[2023-11-05 11:20:00, 2023-11-05 11:25:00]|\n",
      "|[2023-11-05 11:45:00, 2023-11-05 11:50:00]|LEN |51.2647           |46.4265       |[2023-11-05 11:40:00, 2023-11-05 11:45:00]|\n",
      "|[2023-11-05 11:15:00, 2023-11-05 11:20:00]|SPGI|77.12             |60.16         |[2023-11-05 11:10:00, 2023-11-05 11:15:00]|\n",
      "|[2023-11-05 11:20:00, 2023-11-05 11:25:00]|SPGI|86.69             |77.12         |[2023-11-05 11:15:00, 2023-11-05 11:20:00]|\n",
      "|[2023-11-05 11:25:00, 2023-11-05 11:30:00]|SPGI|90.47             |86.69         |[2023-11-05 11:20:00, 2023-11-05 11:25:00]|\n",
      "|[2023-11-05 11:30:00, 2023-11-05 11:35:00]|SPGI|97.46             |90.47         |[2023-11-05 11:25:00, 2023-11-05 11:30:00]|\n",
      "|[2023-11-05 11:45:00, 2023-11-05 11:50:00]|SPGI|123.705           |92.65         |[2023-11-05 11:35:00, 2023-11-05 11:40:00]|\n",
      "|[2023-11-05 11:50:00, 2023-11-05 11:55:00]|SPGI|154.8399          |123.705       |[2023-11-05 11:45:00, 2023-11-05 11:50:00]|\n",
      "|[2023-11-05 11:15:00, 2023-11-05 11:20:00]|AIV |29.98             |28.738        |[2023-11-05 11:10:00, 2023-11-05 11:15:00]|\n",
      "+------------------------------------------+----+------------------+--------------+------------------------------------------+\n",
      "only showing top 20 rows\n",
      "\n"
     ]
    },
    {
     "name": "stderr",
     "output_type": "stream",
     "text": [
      "                                                                                \r"
     ]
    },
    {
     "name": "stdout",
     "output_type": "stream",
     "text": [
      "+------------------------------------------+----+------------------+------------------+------------------------------------------+\n",
      "|window                                    |name|avg(price)        |previous_price    |previous_window                           |\n",
      "+------------------------------------------+----+------------------+------------------+------------------------------------------+\n",
      "|[2023-11-05 11:20:00, 2023-11-05 11:25:00]|ALXN|164.66            |180.2             |[2023-11-05 11:15:00, 2023-11-05 11:20:00]|\n",
      "|[2023-11-05 11:45:00, 2023-11-05 11:50:00]|ALXN|127.81            |201.66995         |[2023-11-05 11:30:00, 2023-11-05 11:35:00]|\n",
      "|[2023-11-05 11:55:00, 2023-11-05 12:00:00]|ALXN|104.12333333333333|139.99            |[2023-11-05 11:50:00, 2023-11-05 11:55:00]|\n",
      "|[2023-11-05 11:10:00, 2023-11-05 11:15:00]|GIS |49.35666666666666 |50.5207           |[2023-11-05 11:05:00, 2023-11-05 11:10:00]|\n",
      "|[2023-11-05 11:15:00, 2023-11-05 11:20:00]|GIS |48.6              |49.35666666666666 |[2023-11-05 11:10:00, 2023-11-05 11:15:00]|\n",
      "|[2023-11-05 11:50:00, 2023-11-05 11:55:00]|GIS |51.80505          |60.67             |[2023-11-05 11:45:00, 2023-11-05 11:50:00]|\n",
      "|[2023-11-05 11:20:00, 2023-11-05 11:25:00]|K   |66.23             |67.63             |[2023-11-05 11:15:00, 2023-11-05 11:20:00]|\n",
      "|[2023-11-05 11:25:00, 2023-11-05 11:30:00]|K   |62.1798           |66.23             |[2023-11-05 11:20:00, 2023-11-05 11:25:00]|\n",
      "|[2023-11-05 11:50:00, 2023-11-05 11:55:00]|K   |71.255            |73.32             |[2023-11-05 11:45:00, 2023-11-05 11:50:00]|\n",
      "|[2023-11-05 11:55:00, 2023-11-05 12:00:00]|K   |66.625            |71.255            |[2023-11-05 11:50:00, 2023-11-05 11:55:00]|\n",
      "|[2023-11-05 11:20:00, 2023-11-05 11:25:00]|LEN |35.5196           |38.958349999999996|[2023-11-05 11:15:00, 2023-11-05 11:20:00]|\n",
      "|[2023-11-05 11:30:00, 2023-11-05 11:35:00]|LEN |49.5392           |49.676500000000004|[2023-11-05 11:25:00, 2023-11-05 11:30:00]|\n",
      "|[2023-11-05 11:35:00, 2023-11-05 11:40:00]|LEN |47.4216           |49.5392           |[2023-11-05 11:30:00, 2023-11-05 11:35:00]|\n",
      "|[2023-11-05 11:40:00, 2023-11-05 11:45:00]|LEN |46.4265           |47.4216           |[2023-11-05 11:35:00, 2023-11-05 11:40:00]|\n",
      "|[2023-11-05 11:35:00, 2023-11-05 11:40:00]|SPGI|92.65             |97.46             |[2023-11-05 11:30:00, 2023-11-05 11:35:00]|\n",
      "|[2023-11-05 11:10:00, 2023-11-05 11:15:00]|AIV |28.738            |30.63             |[2023-11-05 11:05:00, 2023-11-05 11:10:00]|\n",
      "|[2023-11-05 11:50:00, 2023-11-05 11:55:00]|AIV |43.5275           |45.54             |[2023-11-05 11:45:00, 2023-11-05 11:50:00]|\n",
      "|[2023-11-05 11:10:00, 2023-11-05 11:15:00]|AVY |42.56             |43.17             |[2023-11-05 11:05:00, 2023-11-05 11:10:00]|\n",
      "|[2023-11-05 11:30:00, 2023-11-05 11:35:00]|AVY |59.358            |62.78             |[2023-11-05 11:25:00, 2023-11-05 11:30:00]|\n",
      "|[2023-11-05 11:35:00, 2023-11-05 11:40:00]|BF.B|48.2725           |51.205            |[2023-11-05 11:30:00, 2023-11-05 11:35:00]|\n",
      "+------------------------------------------+----+------------------+------------------+------------------------------------------+\n",
      "only showing top 20 rows\n",
      "\n"
     ]
    },
    {
     "name": "stderr",
     "output_type": "stream",
     "text": [
      "                                                                                \r"
     ]
    },
    {
     "name": "stdout",
     "output_type": "stream",
     "text": [
      "+------------------------------------------+----+------------------+--------------+------------------------------------------+\n",
      "|window                                    |name|avg(price)        |previous_price|previous_window                           |\n",
      "+------------------------------------------+----+------------------+--------------+------------------------------------------+\n",
      "|[2023-11-05 11:15:00, 2023-11-05 11:20:00]|ALXN|180.2             |108.02        |[2023-11-05 11:10:00, 2023-11-05 11:15:00]|\n",
      "|[2023-11-05 11:25:00, 2023-11-05 11:30:00]|ALXN|186.99            |164.66        |[2023-11-05 11:20:00, 2023-11-05 11:25:00]|\n",
      "|[2023-11-05 11:30:00, 2023-11-05 11:35:00]|ALXN|201.66995         |186.99        |[2023-11-05 11:25:00, 2023-11-05 11:30:00]|\n",
      "|[2023-11-05 11:50:00, 2023-11-05 11:55:00]|ALXN|139.99            |127.81        |[2023-11-05 11:45:00, 2023-11-05 11:50:00]|\n",
      "|[2023-11-05 11:20:00, 2023-11-05 11:25:00]|GIS |50.92             |48.6          |[2023-11-05 11:15:00, 2023-11-05 11:20:00]|\n",
      "|[2023-11-05 11:30:00, 2023-11-05 11:35:00]|GIS |57.61             |50.92         |[2023-11-05 11:20:00, 2023-11-05 11:25:00]|\n",
      "|[2023-11-05 11:45:00, 2023-11-05 11:50:00]|GIS |60.67             |57.61         |[2023-11-05 11:30:00, 2023-11-05 11:35:00]|\n",
      "|[2023-11-05 11:15:00, 2023-11-05 11:20:00]|K   |67.63             |65.865        |[2023-11-05 11:10:00, 2023-11-05 11:15:00]|\n",
      "|[2023-11-05 11:30:00, 2023-11-05 11:35:00]|K   |66.81             |62.1798       |[2023-11-05 11:25:00, 2023-11-05 11:30:00]|\n",
      "|[2023-11-05 11:45:00, 2023-11-05 11:50:00]|K   |73.32             |66.81         |[2023-11-05 11:30:00, 2023-11-05 11:35:00]|\n",
      "|[2023-11-05 11:15:00, 2023-11-05 11:20:00]|LEN |38.958349999999996|33.89705      |[2023-11-05 11:10:00, 2023-11-05 11:15:00]|\n",
      "|[2023-11-05 11:25:00, 2023-11-05 11:30:00]|LEN |49.676500000000004|35.5196       |[2023-11-05 11:20:00, 2023-11-05 11:25:00]|\n",
      "|[2023-11-05 11:45:00, 2023-11-05 11:50:00]|LEN |51.2647           |46.4265       |[2023-11-05 11:40:00, 2023-11-05 11:45:00]|\n",
      "|[2023-11-05 11:55:00, 2023-11-05 12:00:00]|LEN |61.82             |51.2647       |[2023-11-05 11:45:00, 2023-11-05 11:50:00]|\n",
      "|[2023-11-05 11:15:00, 2023-11-05 11:20:00]|SPGI|77.12             |60.16         |[2023-11-05 11:10:00, 2023-11-05 11:15:00]|\n",
      "|[2023-11-05 11:20:00, 2023-11-05 11:25:00]|SPGI|86.69             |77.12         |[2023-11-05 11:15:00, 2023-11-05 11:20:00]|\n",
      "|[2023-11-05 11:25:00, 2023-11-05 11:30:00]|SPGI|90.47             |86.69         |[2023-11-05 11:20:00, 2023-11-05 11:25:00]|\n",
      "|[2023-11-05 11:30:00, 2023-11-05 11:35:00]|SPGI|97.46             |90.47         |[2023-11-05 11:25:00, 2023-11-05 11:30:00]|\n",
      "|[2023-11-05 11:45:00, 2023-11-05 11:50:00]|SPGI|123.705           |92.65         |[2023-11-05 11:35:00, 2023-11-05 11:40:00]|\n",
      "|[2023-11-05 11:50:00, 2023-11-05 11:55:00]|SPGI|154.8399          |123.705       |[2023-11-05 11:45:00, 2023-11-05 11:50:00]|\n",
      "+------------------------------------------+----+------------------+--------------+------------------------------------------+\n",
      "only showing top 20 rows\n",
      "\n"
     ]
    },
    {
     "name": "stderr",
     "output_type": "stream",
     "text": [
      "                                                                                \r"
     ]
    },
    {
     "name": "stdout",
     "output_type": "stream",
     "text": [
      "+------------------------------------------+----+------------------+------------------+------------------------------------------+\n",
      "|window                                    |name|avg(price)        |previous_price    |previous_window                           |\n",
      "+------------------------------------------+----+------------------+------------------+------------------------------------------+\n",
      "|[2023-11-05 11:20:00, 2023-11-05 11:25:00]|ALXN|164.66            |180.2             |[2023-11-05 11:15:00, 2023-11-05 11:20:00]|\n",
      "|[2023-11-05 11:45:00, 2023-11-05 11:50:00]|ALXN|127.81            |201.66995         |[2023-11-05 11:30:00, 2023-11-05 11:35:00]|\n",
      "|[2023-11-05 11:55:00, 2023-11-05 12:00:00]|ALXN|104.12333333333333|139.99            |[2023-11-05 11:50:00, 2023-11-05 11:55:00]|\n",
      "|[2023-11-05 11:10:00, 2023-11-05 11:15:00]|GIS |49.35666666666666 |50.5207           |[2023-11-05 11:05:00, 2023-11-05 11:10:00]|\n",
      "|[2023-11-05 11:15:00, 2023-11-05 11:20:00]|GIS |48.6              |49.35666666666666 |[2023-11-05 11:10:00, 2023-11-05 11:15:00]|\n",
      "|[2023-11-05 11:50:00, 2023-11-05 11:55:00]|GIS |51.80505          |60.67             |[2023-11-05 11:45:00, 2023-11-05 11:50:00]|\n",
      "|[2023-11-05 11:20:00, 2023-11-05 11:25:00]|K   |66.23             |67.63             |[2023-11-05 11:15:00, 2023-11-05 11:20:00]|\n",
      "|[2023-11-05 11:25:00, 2023-11-05 11:30:00]|K   |62.1798           |66.23             |[2023-11-05 11:20:00, 2023-11-05 11:25:00]|\n",
      "|[2023-11-05 11:50:00, 2023-11-05 11:55:00]|K   |71.255            |73.32             |[2023-11-05 11:45:00, 2023-11-05 11:50:00]|\n",
      "|[2023-11-05 11:55:00, 2023-11-05 12:00:00]|K   |66.625            |71.255            |[2023-11-05 11:50:00, 2023-11-05 11:55:00]|\n",
      "|[2023-11-05 11:20:00, 2023-11-05 11:25:00]|LEN |35.5196           |38.958349999999996|[2023-11-05 11:15:00, 2023-11-05 11:20:00]|\n",
      "|[2023-11-05 11:30:00, 2023-11-05 11:35:00]|LEN |49.5392           |49.676500000000004|[2023-11-05 11:25:00, 2023-11-05 11:30:00]|\n",
      "|[2023-11-05 11:35:00, 2023-11-05 11:40:00]|LEN |47.4216           |49.5392           |[2023-11-05 11:30:00, 2023-11-05 11:35:00]|\n",
      "|[2023-11-05 11:40:00, 2023-11-05 11:45:00]|LEN |46.4265           |47.4216           |[2023-11-05 11:35:00, 2023-11-05 11:40:00]|\n",
      "|[2023-11-05 11:35:00, 2023-11-05 11:40:00]|SPGI|92.65             |97.46             |[2023-11-05 11:30:00, 2023-11-05 11:35:00]|\n",
      "|[2023-11-05 11:10:00, 2023-11-05 11:15:00]|AIV |28.738            |30.63             |[2023-11-05 11:05:00, 2023-11-05 11:10:00]|\n",
      "|[2023-11-05 11:50:00, 2023-11-05 11:55:00]|AIV |43.5275           |45.54             |[2023-11-05 11:45:00, 2023-11-05 11:50:00]|\n",
      "|[2023-11-05 11:10:00, 2023-11-05 11:15:00]|AVY |42.56             |43.17             |[2023-11-05 11:05:00, 2023-11-05 11:10:00]|\n",
      "|[2023-11-05 11:30:00, 2023-11-05 11:35:00]|AVY |59.358            |62.78             |[2023-11-05 11:25:00, 2023-11-05 11:30:00]|\n",
      "|[2023-11-05 11:35:00, 2023-11-05 11:40:00]|BF.B|48.2725           |51.205            |[2023-11-05 11:30:00, 2023-11-05 11:35:00]|\n",
      "+------------------------------------------+----+------------------+------------------+------------------------------------------+\n",
      "only showing top 20 rows\n",
      "\n"
     ]
    },
    {
     "name": "stderr",
     "output_type": "stream",
     "text": [
      "                                                                                \r"
     ]
    },
    {
     "name": "stdout",
     "output_type": "stream",
     "text": [
      "+------------------------------------------+----+------------------+--------------+------------------------------------------+\n",
      "|window                                    |name|avg(price)        |previous_price|previous_window                           |\n",
      "+------------------------------------------+----+------------------+--------------+------------------------------------------+\n",
      "|[2023-11-05 11:15:00, 2023-11-05 11:20:00]|ALXN|180.2             |108.02        |[2023-11-05 11:10:00, 2023-11-05 11:15:00]|\n",
      "|[2023-11-05 11:25:00, 2023-11-05 11:30:00]|ALXN|186.99            |164.66        |[2023-11-05 11:20:00, 2023-11-05 11:25:00]|\n",
      "|[2023-11-05 11:30:00, 2023-11-05 11:35:00]|ALXN|201.66995         |186.99        |[2023-11-05 11:25:00, 2023-11-05 11:30:00]|\n",
      "|[2023-11-05 11:50:00, 2023-11-05 11:55:00]|ALXN|139.99            |127.81        |[2023-11-05 11:45:00, 2023-11-05 11:50:00]|\n",
      "|[2023-11-05 11:20:00, 2023-11-05 11:25:00]|GIS |50.92             |48.6          |[2023-11-05 11:15:00, 2023-11-05 11:20:00]|\n",
      "|[2023-11-05 11:30:00, 2023-11-05 11:35:00]|GIS |57.61             |50.92         |[2023-11-05 11:20:00, 2023-11-05 11:25:00]|\n",
      "|[2023-11-05 11:45:00, 2023-11-05 11:50:00]|GIS |60.67             |57.61         |[2023-11-05 11:30:00, 2023-11-05 11:35:00]|\n",
      "|[2023-11-05 11:55:00, 2023-11-05 12:00:00]|GIS |60.2              |51.80505      |[2023-11-05 11:50:00, 2023-11-05 11:55:00]|\n",
      "|[2023-11-05 11:15:00, 2023-11-05 11:20:00]|K   |67.63             |65.865        |[2023-11-05 11:10:00, 2023-11-05 11:15:00]|\n",
      "|[2023-11-05 11:30:00, 2023-11-05 11:35:00]|K   |66.81             |62.1798       |[2023-11-05 11:25:00, 2023-11-05 11:30:00]|\n",
      "|[2023-11-05 11:45:00, 2023-11-05 11:50:00]|K   |73.32             |66.81         |[2023-11-05 11:30:00, 2023-11-05 11:35:00]|\n",
      "|[2023-11-05 11:15:00, 2023-11-05 11:20:00]|LEN |38.958349999999996|33.89705      |[2023-11-05 11:10:00, 2023-11-05 11:15:00]|\n",
      "|[2023-11-05 11:25:00, 2023-11-05 11:30:00]|LEN |49.676500000000004|35.5196       |[2023-11-05 11:20:00, 2023-11-05 11:25:00]|\n",
      "|[2023-11-05 11:45:00, 2023-11-05 11:50:00]|LEN |51.2647           |46.4265       |[2023-11-05 11:40:00, 2023-11-05 11:45:00]|\n",
      "|[2023-11-05 11:55:00, 2023-11-05 12:00:00]|LEN |61.82             |51.2647       |[2023-11-05 11:45:00, 2023-11-05 11:50:00]|\n",
      "|[2023-11-05 11:15:00, 2023-11-05 11:20:00]|SPGI|77.12             |60.16         |[2023-11-05 11:10:00, 2023-11-05 11:15:00]|\n",
      "|[2023-11-05 11:20:00, 2023-11-05 11:25:00]|SPGI|86.69             |77.12         |[2023-11-05 11:15:00, 2023-11-05 11:20:00]|\n",
      "|[2023-11-05 11:25:00, 2023-11-05 11:30:00]|SPGI|90.47             |86.69         |[2023-11-05 11:20:00, 2023-11-05 11:25:00]|\n",
      "|[2023-11-05 11:30:00, 2023-11-05 11:35:00]|SPGI|97.46             |90.47         |[2023-11-05 11:25:00, 2023-11-05 11:30:00]|\n",
      "|[2023-11-05 11:45:00, 2023-11-05 11:50:00]|SPGI|123.705           |92.65         |[2023-11-05 11:35:00, 2023-11-05 11:40:00]|\n",
      "+------------------------------------------+----+------------------+--------------+------------------------------------------+\n",
      "only showing top 20 rows\n",
      "\n"
     ]
    },
    {
     "name": "stderr",
     "output_type": "stream",
     "text": [
      "                                                                                \r"
     ]
    },
    {
     "name": "stdout",
     "output_type": "stream",
     "text": [
      "+------------------------------------------+----+------------------+------------------+------------------------------------------+\n",
      "|window                                    |name|avg(price)        |previous_price    |previous_window                           |\n",
      "+------------------------------------------+----+------------------+------------------+------------------------------------------+\n",
      "|[2023-11-05 11:20:00, 2023-11-05 11:25:00]|ALXN|164.66            |180.2             |[2023-11-05 11:15:00, 2023-11-05 11:20:00]|\n",
      "|[2023-11-05 11:45:00, 2023-11-05 11:50:00]|ALXN|127.81            |201.66995         |[2023-11-05 11:30:00, 2023-11-05 11:35:00]|\n",
      "|[2023-11-05 11:55:00, 2023-11-05 12:00:00]|ALXN|104.12333333333333|139.99            |[2023-11-05 11:50:00, 2023-11-05 11:55:00]|\n",
      "|[2023-11-05 11:10:00, 2023-11-05 11:15:00]|GIS |49.35666666666666 |50.5207           |[2023-11-05 11:05:00, 2023-11-05 11:10:00]|\n",
      "|[2023-11-05 11:15:00, 2023-11-05 11:20:00]|GIS |48.6              |49.35666666666666 |[2023-11-05 11:10:00, 2023-11-05 11:15:00]|\n",
      "|[2023-11-05 11:50:00, 2023-11-05 11:55:00]|GIS |51.80505          |60.67             |[2023-11-05 11:45:00, 2023-11-05 11:50:00]|\n",
      "|[2023-11-05 11:20:00, 2023-11-05 11:25:00]|K   |66.23             |67.63             |[2023-11-05 11:15:00, 2023-11-05 11:20:00]|\n",
      "|[2023-11-05 11:25:00, 2023-11-05 11:30:00]|K   |62.1798           |66.23             |[2023-11-05 11:20:00, 2023-11-05 11:25:00]|\n",
      "|[2023-11-05 11:50:00, 2023-11-05 11:55:00]|K   |71.255            |73.32             |[2023-11-05 11:45:00, 2023-11-05 11:50:00]|\n",
      "|[2023-11-05 11:55:00, 2023-11-05 12:00:00]|K   |66.625            |71.255            |[2023-11-05 11:50:00, 2023-11-05 11:55:00]|\n",
      "|[2023-11-05 11:20:00, 2023-11-05 11:25:00]|LEN |35.5196           |38.958349999999996|[2023-11-05 11:15:00, 2023-11-05 11:20:00]|\n",
      "|[2023-11-05 11:30:00, 2023-11-05 11:35:00]|LEN |49.5392           |49.676500000000004|[2023-11-05 11:25:00, 2023-11-05 11:30:00]|\n",
      "|[2023-11-05 11:35:00, 2023-11-05 11:40:00]|LEN |47.4216           |49.5392           |[2023-11-05 11:30:00, 2023-11-05 11:35:00]|\n",
      "|[2023-11-05 11:40:00, 2023-11-05 11:45:00]|LEN |46.4265           |47.4216           |[2023-11-05 11:35:00, 2023-11-05 11:40:00]|\n",
      "|[2023-11-05 11:35:00, 2023-11-05 11:40:00]|SPGI|92.65             |97.46             |[2023-11-05 11:30:00, 2023-11-05 11:35:00]|\n",
      "|[2023-11-05 11:10:00, 2023-11-05 11:15:00]|AIV |28.738            |30.63             |[2023-11-05 11:05:00, 2023-11-05 11:10:00]|\n",
      "|[2023-11-05 11:50:00, 2023-11-05 11:55:00]|AIV |43.5275           |45.54             |[2023-11-05 11:45:00, 2023-11-05 11:50:00]|\n",
      "|[2023-11-05 11:10:00, 2023-11-05 11:15:00]|AVY |42.56             |43.17             |[2023-11-05 11:05:00, 2023-11-05 11:10:00]|\n",
      "|[2023-11-05 11:30:00, 2023-11-05 11:35:00]|AVY |59.358            |62.78             |[2023-11-05 11:25:00, 2023-11-05 11:30:00]|\n",
      "|[2023-11-05 11:35:00, 2023-11-05 11:40:00]|BF.B|48.2725           |51.205            |[2023-11-05 11:30:00, 2023-11-05 11:35:00]|\n",
      "+------------------------------------------+----+------------------+------------------+------------------------------------------+\n",
      "only showing top 20 rows\n",
      "\n",
      "+------------------------------------------+----+------------------+--------------+------------------------------------------+\n",
      "|window                                    |name|avg(price)        |previous_price|previous_window                           |\n",
      "+------------------------------------------+----+------------------+--------------+------------------------------------------+\n",
      "|[2023-11-05 11:15:00, 2023-11-05 11:20:00]|ALXN|180.2             |108.02        |[2023-11-05 11:10:00, 2023-11-05 11:15:00]|\n",
      "|[2023-11-05 11:25:00, 2023-11-05 11:30:00]|ALXN|186.99            |164.66        |[2023-11-05 11:20:00, 2023-11-05 11:25:00]|\n",
      "|[2023-11-05 11:30:00, 2023-11-05 11:35:00]|ALXN|201.66995         |186.99        |[2023-11-05 11:25:00, 2023-11-05 11:30:00]|\n",
      "|[2023-11-05 11:50:00, 2023-11-05 11:55:00]|ALXN|139.99            |127.81        |[2023-11-05 11:45:00, 2023-11-05 11:50:00]|\n",
      "|[2023-11-05 11:20:00, 2023-11-05 11:25:00]|GIS |50.92             |48.6          |[2023-11-05 11:15:00, 2023-11-05 11:20:00]|\n",
      "|[2023-11-05 11:30:00, 2023-11-05 11:35:00]|GIS |57.61             |50.92         |[2023-11-05 11:20:00, 2023-11-05 11:25:00]|\n",
      "|[2023-11-05 11:45:00, 2023-11-05 11:50:00]|GIS |60.67             |57.61         |[2023-11-05 11:30:00, 2023-11-05 11:35:00]|\n",
      "|[2023-11-05 11:55:00, 2023-11-05 12:00:00]|GIS |60.2              |51.80505      |[2023-11-05 11:50:00, 2023-11-05 11:55:00]|\n",
      "|[2023-11-05 11:15:00, 2023-11-05 11:20:00]|K   |67.63             |65.865        |[2023-11-05 11:10:00, 2023-11-05 11:15:00]|\n",
      "|[2023-11-05 11:30:00, 2023-11-05 11:35:00]|K   |66.81             |62.1798       |[2023-11-05 11:25:00, 2023-11-05 11:30:00]|\n",
      "|[2023-11-05 11:45:00, 2023-11-05 11:50:00]|K   |73.32             |66.81         |[2023-11-05 11:30:00, 2023-11-05 11:35:00]|\n",
      "|[2023-11-05 11:15:00, 2023-11-05 11:20:00]|LEN |38.958349999999996|33.89705      |[2023-11-05 11:10:00, 2023-11-05 11:15:00]|\n",
      "|[2023-11-05 11:25:00, 2023-11-05 11:30:00]|LEN |49.676500000000004|35.5196       |[2023-11-05 11:20:00, 2023-11-05 11:25:00]|\n",
      "|[2023-11-05 11:45:00, 2023-11-05 11:50:00]|LEN |51.2647           |46.4265       |[2023-11-05 11:40:00, 2023-11-05 11:45:00]|\n",
      "|[2023-11-05 11:55:00, 2023-11-05 12:00:00]|LEN |61.82             |51.2647       |[2023-11-05 11:45:00, 2023-11-05 11:50:00]|\n",
      "|[2023-11-05 11:15:00, 2023-11-05 11:20:00]|SPGI|77.12             |60.16         |[2023-11-05 11:10:00, 2023-11-05 11:15:00]|\n",
      "|[2023-11-05 11:20:00, 2023-11-05 11:25:00]|SPGI|86.69             |77.12         |[2023-11-05 11:15:00, 2023-11-05 11:20:00]|\n",
      "|[2023-11-05 11:25:00, 2023-11-05 11:30:00]|SPGI|90.47             |86.69         |[2023-11-05 11:20:00, 2023-11-05 11:25:00]|\n",
      "|[2023-11-05 11:30:00, 2023-11-05 11:35:00]|SPGI|97.46             |90.47         |[2023-11-05 11:25:00, 2023-11-05 11:30:00]|\n",
      "|[2023-11-05 11:45:00, 2023-11-05 11:50:00]|SPGI|123.705           |92.65         |[2023-11-05 11:35:00, 2023-11-05 11:40:00]|\n",
      "+------------------------------------------+----+------------------+--------------+------------------------------------------+\n",
      "only showing top 20 rows\n",
      "\n"
     ]
    },
    {
     "name": "stderr",
     "output_type": "stream",
     "text": [
      "                                                                                \r"
     ]
    },
    {
     "name": "stdout",
     "output_type": "stream",
     "text": [
      "+------------------------------------------+----+------------------+------------------+------------------------------------------+\n",
      "|window                                    |name|avg(price)        |previous_price    |previous_window                           |\n",
      "+------------------------------------------+----+------------------+------------------+------------------------------------------+\n",
      "|[2023-11-05 11:20:00, 2023-11-05 11:25:00]|ALXN|164.66            |180.2             |[2023-11-05 11:15:00, 2023-11-05 11:20:00]|\n",
      "|[2023-11-05 11:45:00, 2023-11-05 11:50:00]|ALXN|127.81            |201.66995         |[2023-11-05 11:30:00, 2023-11-05 11:35:00]|\n",
      "|[2023-11-05 11:55:00, 2023-11-05 12:00:00]|ALXN|104.12333333333333|139.99            |[2023-11-05 11:50:00, 2023-11-05 11:55:00]|\n",
      "|[2023-11-05 11:10:00, 2023-11-05 11:15:00]|GIS |49.35666666666666 |50.5207           |[2023-11-05 11:05:00, 2023-11-05 11:10:00]|\n",
      "|[2023-11-05 11:15:00, 2023-11-05 11:20:00]|GIS |48.6              |49.35666666666666 |[2023-11-05 11:10:00, 2023-11-05 11:15:00]|\n",
      "|[2023-11-05 11:50:00, 2023-11-05 11:55:00]|GIS |51.80505          |60.67             |[2023-11-05 11:45:00, 2023-11-05 11:50:00]|\n",
      "|[2023-11-05 12:00:00, 2023-11-05 12:05:00]|GIS |51.05             |53.275000000000006|[2023-11-05 11:55:00, 2023-11-05 12:00:00]|\n",
      "|[2023-11-05 11:20:00, 2023-11-05 11:25:00]|K   |66.23             |67.63             |[2023-11-05 11:15:00, 2023-11-05 11:20:00]|\n",
      "|[2023-11-05 11:25:00, 2023-11-05 11:30:00]|K   |62.1798           |66.23             |[2023-11-05 11:20:00, 2023-11-05 11:25:00]|\n",
      "|[2023-11-05 11:50:00, 2023-11-05 11:55:00]|K   |71.255            |73.32             |[2023-11-05 11:45:00, 2023-11-05 11:50:00]|\n",
      "|[2023-11-05 11:55:00, 2023-11-05 12:00:00]|K   |66.625            |71.255            |[2023-11-05 11:50:00, 2023-11-05 11:55:00]|\n",
      "|[2023-11-05 11:20:00, 2023-11-05 11:25:00]|LEN |35.5196           |38.958349999999996|[2023-11-05 11:15:00, 2023-11-05 11:20:00]|\n",
      "|[2023-11-05 11:30:00, 2023-11-05 11:35:00]|LEN |49.5392           |49.676500000000004|[2023-11-05 11:25:00, 2023-11-05 11:30:00]|\n",
      "|[2023-11-05 11:35:00, 2023-11-05 11:40:00]|LEN |47.4216           |49.5392           |[2023-11-05 11:30:00, 2023-11-05 11:35:00]|\n",
      "|[2023-11-05 11:40:00, 2023-11-05 11:45:00]|LEN |46.4265           |47.4216           |[2023-11-05 11:35:00, 2023-11-05 11:40:00]|\n",
      "|[2023-11-05 11:35:00, 2023-11-05 11:40:00]|SPGI|92.65             |97.46             |[2023-11-05 11:30:00, 2023-11-05 11:35:00]|\n",
      "|[2023-11-05 11:10:00, 2023-11-05 11:15:00]|AIV |28.738            |30.63             |[2023-11-05 11:05:00, 2023-11-05 11:10:00]|\n",
      "|[2023-11-05 11:50:00, 2023-11-05 11:55:00]|AIV |43.5275           |45.54             |[2023-11-05 11:45:00, 2023-11-05 11:50:00]|\n",
      "|[2023-11-05 11:10:00, 2023-11-05 11:15:00]|AVY |42.56             |43.17             |[2023-11-05 11:05:00, 2023-11-05 11:10:00]|\n",
      "|[2023-11-05 11:30:00, 2023-11-05 11:35:00]|AVY |59.358            |62.78             |[2023-11-05 11:25:00, 2023-11-05 11:30:00]|\n",
      "+------------------------------------------+----+------------------+------------------+------------------------------------------+\n",
      "only showing top 20 rows\n",
      "\n",
      "+------------------------------------------+----+------------------+--------------+------------------------------------------+\n",
      "|window                                    |name|avg(price)        |previous_price|previous_window                           |\n",
      "+------------------------------------------+----+------------------+--------------+------------------------------------------+\n",
      "|[2023-11-05 11:15:00, 2023-11-05 11:20:00]|ALXN|180.2             |108.02        |[2023-11-05 11:10:00, 2023-11-05 11:15:00]|\n",
      "|[2023-11-05 11:25:00, 2023-11-05 11:30:00]|ALXN|186.99            |164.66        |[2023-11-05 11:20:00, 2023-11-05 11:25:00]|\n",
      "|[2023-11-05 11:30:00, 2023-11-05 11:35:00]|ALXN|201.66995         |186.99        |[2023-11-05 11:25:00, 2023-11-05 11:30:00]|\n",
      "|[2023-11-05 11:50:00, 2023-11-05 11:55:00]|ALXN|139.99            |127.81        |[2023-11-05 11:45:00, 2023-11-05 11:50:00]|\n",
      "|[2023-11-05 11:20:00, 2023-11-05 11:25:00]|GIS |50.92             |48.6          |[2023-11-05 11:15:00, 2023-11-05 11:20:00]|\n",
      "|[2023-11-05 11:30:00, 2023-11-05 11:35:00]|GIS |57.61             |50.92         |[2023-11-05 11:20:00, 2023-11-05 11:25:00]|\n",
      "|[2023-11-05 11:45:00, 2023-11-05 11:50:00]|GIS |60.67             |57.61         |[2023-11-05 11:30:00, 2023-11-05 11:35:00]|\n",
      "|[2023-11-05 11:55:00, 2023-11-05 12:00:00]|GIS |53.275000000000006|51.80505      |[2023-11-05 11:50:00, 2023-11-05 11:55:00]|\n",
      "|[2023-11-05 11:15:00, 2023-11-05 11:20:00]|K   |67.63             |65.865        |[2023-11-05 11:10:00, 2023-11-05 11:15:00]|\n",
      "|[2023-11-05 11:30:00, 2023-11-05 11:35:00]|K   |66.81             |62.1798       |[2023-11-05 11:25:00, 2023-11-05 11:30:00]|\n",
      "|[2023-11-05 11:45:00, 2023-11-05 11:50:00]|K   |73.32             |66.81         |[2023-11-05 11:30:00, 2023-11-05 11:35:00]|\n",
      "|[2023-11-05 11:15:00, 2023-11-05 11:20:00]|LEN |38.958349999999996|33.89705      |[2023-11-05 11:10:00, 2023-11-05 11:15:00]|\n",
      "|[2023-11-05 11:25:00, 2023-11-05 11:30:00]|LEN |49.676500000000004|35.5196       |[2023-11-05 11:20:00, 2023-11-05 11:25:00]|\n",
      "|[2023-11-05 11:45:00, 2023-11-05 11:50:00]|LEN |51.2647           |46.4265       |[2023-11-05 11:40:00, 2023-11-05 11:45:00]|\n",
      "|[2023-11-05 11:55:00, 2023-11-05 12:00:00]|LEN |61.82             |51.2647       |[2023-11-05 11:45:00, 2023-11-05 11:50:00]|\n",
      "|[2023-11-05 11:15:00, 2023-11-05 11:20:00]|SPGI|77.12             |60.16         |[2023-11-05 11:10:00, 2023-11-05 11:15:00]|\n",
      "|[2023-11-05 11:20:00, 2023-11-05 11:25:00]|SPGI|86.69             |77.12         |[2023-11-05 11:15:00, 2023-11-05 11:20:00]|\n",
      "|[2023-11-05 11:25:00, 2023-11-05 11:30:00]|SPGI|90.47             |86.69         |[2023-11-05 11:20:00, 2023-11-05 11:25:00]|\n",
      "|[2023-11-05 11:30:00, 2023-11-05 11:35:00]|SPGI|97.46             |90.47         |[2023-11-05 11:25:00, 2023-11-05 11:30:00]|\n",
      "|[2023-11-05 11:45:00, 2023-11-05 11:50:00]|SPGI|123.705           |92.65         |[2023-11-05 11:35:00, 2023-11-05 11:40:00]|\n",
      "+------------------------------------------+----+------------------+--------------+------------------------------------------+\n",
      "only showing top 20 rows\n",
      "\n"
     ]
    },
    {
     "name": "stderr",
     "output_type": "stream",
     "text": [
      "                                                                                \r"
     ]
    },
    {
     "name": "stdout",
     "output_type": "stream",
     "text": [
      "+------------------------------------------+----+------------------+------------------+------------------------------------------+\n",
      "|window                                    |name|avg(price)        |previous_price    |previous_window                           |\n",
      "+------------------------------------------+----+------------------+------------------+------------------------------------------+\n",
      "|[2023-11-05 11:20:00, 2023-11-05 11:25:00]|ALXN|164.66            |180.2             |[2023-11-05 11:15:00, 2023-11-05 11:20:00]|\n",
      "|[2023-11-05 11:45:00, 2023-11-05 11:50:00]|ALXN|127.81            |201.66995         |[2023-11-05 11:30:00, 2023-11-05 11:35:00]|\n",
      "|[2023-11-05 11:55:00, 2023-11-05 12:00:00]|ALXN|104.12333333333333|139.99            |[2023-11-05 11:50:00, 2023-11-05 11:55:00]|\n",
      "|[2023-11-05 11:10:00, 2023-11-05 11:15:00]|GIS |49.35666666666666 |50.5207           |[2023-11-05 11:05:00, 2023-11-05 11:10:00]|\n",
      "|[2023-11-05 11:15:00, 2023-11-05 11:20:00]|GIS |48.6              |49.35666666666666 |[2023-11-05 11:10:00, 2023-11-05 11:15:00]|\n",
      "|[2023-11-05 11:50:00, 2023-11-05 11:55:00]|GIS |51.80505          |60.67             |[2023-11-05 11:45:00, 2023-11-05 11:50:00]|\n",
      "|[2023-11-05 12:00:00, 2023-11-05 12:05:00]|GIS |51.05             |53.275000000000006|[2023-11-05 11:55:00, 2023-11-05 12:00:00]|\n",
      "|[2023-11-05 11:20:00, 2023-11-05 11:25:00]|K   |66.23             |67.63             |[2023-11-05 11:15:00, 2023-11-05 11:20:00]|\n",
      "|[2023-11-05 11:25:00, 2023-11-05 11:30:00]|K   |62.1798           |66.23             |[2023-11-05 11:20:00, 2023-11-05 11:25:00]|\n",
      "|[2023-11-05 11:50:00, 2023-11-05 11:55:00]|K   |71.255            |73.32             |[2023-11-05 11:45:00, 2023-11-05 11:50:00]|\n",
      "|[2023-11-05 11:55:00, 2023-11-05 12:00:00]|K   |66.625            |71.255            |[2023-11-05 11:50:00, 2023-11-05 11:55:00]|\n",
      "|[2023-11-05 11:20:00, 2023-11-05 11:25:00]|LEN |35.5196           |38.958349999999996|[2023-11-05 11:15:00, 2023-11-05 11:20:00]|\n",
      "|[2023-11-05 11:30:00, 2023-11-05 11:35:00]|LEN |49.5392           |49.676500000000004|[2023-11-05 11:25:00, 2023-11-05 11:30:00]|\n",
      "|[2023-11-05 11:35:00, 2023-11-05 11:40:00]|LEN |47.4216           |49.5392           |[2023-11-05 11:30:00, 2023-11-05 11:35:00]|\n",
      "|[2023-11-05 11:40:00, 2023-11-05 11:45:00]|LEN |46.4265           |47.4216           |[2023-11-05 11:35:00, 2023-11-05 11:40:00]|\n",
      "|[2023-11-05 11:35:00, 2023-11-05 11:40:00]|SPGI|92.65             |97.46             |[2023-11-05 11:30:00, 2023-11-05 11:35:00]|\n",
      "|[2023-11-05 11:10:00, 2023-11-05 11:15:00]|AIV |28.738            |30.63             |[2023-11-05 11:05:00, 2023-11-05 11:10:00]|\n",
      "|[2023-11-05 11:50:00, 2023-11-05 11:55:00]|AIV |43.5275           |45.54             |[2023-11-05 11:45:00, 2023-11-05 11:50:00]|\n",
      "|[2023-11-05 11:10:00, 2023-11-05 11:15:00]|AVY |42.56             |43.17             |[2023-11-05 11:05:00, 2023-11-05 11:10:00]|\n",
      "|[2023-11-05 11:30:00, 2023-11-05 11:35:00]|AVY |59.358            |62.78             |[2023-11-05 11:25:00, 2023-11-05 11:30:00]|\n",
      "+------------------------------------------+----+------------------+------------------+------------------------------------------+\n",
      "only showing top 20 rows\n",
      "\n",
      "+------------------------------------------+----+------------------+--------------+------------------------------------------+\n",
      "|window                                    |name|avg(price)        |previous_price|previous_window                           |\n",
      "+------------------------------------------+----+------------------+--------------+------------------------------------------+\n",
      "|[2023-11-05 11:15:00, 2023-11-05 11:20:00]|ALXN|180.2             |108.02        |[2023-11-05 11:10:00, 2023-11-05 11:15:00]|\n",
      "|[2023-11-05 11:25:00, 2023-11-05 11:30:00]|ALXN|186.99            |164.66        |[2023-11-05 11:20:00, 2023-11-05 11:25:00]|\n",
      "|[2023-11-05 11:30:00, 2023-11-05 11:35:00]|ALXN|201.66995         |186.99        |[2023-11-05 11:25:00, 2023-11-05 11:30:00]|\n",
      "|[2023-11-05 11:50:00, 2023-11-05 11:55:00]|ALXN|139.99            |127.81        |[2023-11-05 11:45:00, 2023-11-05 11:50:00]|\n",
      "|[2023-11-05 11:20:00, 2023-11-05 11:25:00]|GIS |50.92             |48.6          |[2023-11-05 11:15:00, 2023-11-05 11:20:00]|\n",
      "|[2023-11-05 11:30:00, 2023-11-05 11:35:00]|GIS |57.61             |50.92         |[2023-11-05 11:20:00, 2023-11-05 11:25:00]|\n",
      "|[2023-11-05 11:45:00, 2023-11-05 11:50:00]|GIS |60.67             |57.61         |[2023-11-05 11:30:00, 2023-11-05 11:35:00]|\n",
      "|[2023-11-05 11:55:00, 2023-11-05 12:00:00]|GIS |53.275000000000006|51.80505      |[2023-11-05 11:50:00, 2023-11-05 11:55:00]|\n",
      "|[2023-11-05 11:15:00, 2023-11-05 11:20:00]|K   |67.63             |65.865        |[2023-11-05 11:10:00, 2023-11-05 11:15:00]|\n",
      "|[2023-11-05 11:30:00, 2023-11-05 11:35:00]|K   |66.81             |62.1798       |[2023-11-05 11:25:00, 2023-11-05 11:30:00]|\n",
      "|[2023-11-05 11:45:00, 2023-11-05 11:50:00]|K   |73.32             |66.81         |[2023-11-05 11:30:00, 2023-11-05 11:35:00]|\n",
      "|[2023-11-05 11:15:00, 2023-11-05 11:20:00]|LEN |38.958349999999996|33.89705      |[2023-11-05 11:10:00, 2023-11-05 11:15:00]|\n",
      "|[2023-11-05 11:25:00, 2023-11-05 11:30:00]|LEN |49.676500000000004|35.5196       |[2023-11-05 11:20:00, 2023-11-05 11:25:00]|\n",
      "|[2023-11-05 11:45:00, 2023-11-05 11:50:00]|LEN |51.2647           |46.4265       |[2023-11-05 11:40:00, 2023-11-05 11:45:00]|\n",
      "|[2023-11-05 11:55:00, 2023-11-05 12:00:00]|LEN |61.82             |51.2647       |[2023-11-05 11:45:00, 2023-11-05 11:50:00]|\n",
      "|[2023-11-05 11:15:00, 2023-11-05 11:20:00]|SPGI|77.12             |60.16         |[2023-11-05 11:10:00, 2023-11-05 11:15:00]|\n",
      "|[2023-11-05 11:20:00, 2023-11-05 11:25:00]|SPGI|86.69             |77.12         |[2023-11-05 11:15:00, 2023-11-05 11:20:00]|\n",
      "|[2023-11-05 11:25:00, 2023-11-05 11:30:00]|SPGI|90.47             |86.69         |[2023-11-05 11:20:00, 2023-11-05 11:25:00]|\n",
      "|[2023-11-05 11:30:00, 2023-11-05 11:35:00]|SPGI|97.46             |90.47         |[2023-11-05 11:25:00, 2023-11-05 11:30:00]|\n",
      "|[2023-11-05 11:45:00, 2023-11-05 11:50:00]|SPGI|123.705           |92.65         |[2023-11-05 11:35:00, 2023-11-05 11:40:00]|\n",
      "+------------------------------------------+----+------------------+--------------+------------------------------------------+\n",
      "only showing top 20 rows\n",
      "\n"
     ]
    },
    {
     "name": "stderr",
     "output_type": "stream",
     "text": [
      "[Stage 2638:========>   (141 + 4) / 200][Stage 2642:>             (0 + 0) / 200]\r"
     ]
    }
   ],
   "source": [
    "from pyspark.sql.functions import window, col\n",
    "from pyspark.sql import functions as F\n",
    "\n",
    "# Set the price loss threshold and the name of the stock you are interested in\n",
    "loss_threshold = 0.05 #5%\n",
    "# Replace with the name of the stock ticker you want to track\n",
    "stock_name = \"FITB\"  \n",
    "\n",
    "    \n",
    "# Apply a time window and calculate the price change during that period\n",
    "windowedDF_4 = df \\\n",
    "    .withWatermark(\"timestamp\", \"1 minutes\") \\\n",
    "    .filter(col(\"name\") == stock_name) \\\n",
    "    .groupBy(window(\"timestamp\", \"10 minutes\")) \\\n",
    "    .agg(\n",
    "        F.expr(\"min_by(price, timestamp)\").alias('first_price'),\n",
    "        F.expr(\"max_by(price, timestamp)\").alias('last_price'),\n",
    "        F.max('timestamp').alias('lastTimeStamp'),\n",
    "        F.min('timestamp').alias('firstTimeStamp')\n",
    "        ) \n",
    "\n",
    "\n",
    "# Check if the price change exceeds the threshold\n",
    "result_df = windowedDF_4.withColumn(\"percent_value_lost\", ((col(\"first_price\") - col(\"last_price\"))/col(\"first_price\")))\n",
    "result_final = result_df.filter((col(\"last_price\") < col(\"first_price\")) & \n",
    "                                (col(\"percent_value_lost\") > loss_threshold))\n",
    "\n",
    "# Save and show\n",
    "query_4 = (result_final.writeStream\n",
    "         .outputMode(\"complete\")\n",
    "         .option(\"truncate\", False)\n",
    "         .format(\"console\")\n",
    "         .start())\n"
   ]
  },
  {
   "cell_type": "markdown",
   "id": "2f52c3d1",
   "metadata": {},
   "source": [
    "## Compute your assets"
   ]
  },
  {
   "cell_type": "code",
   "execution_count": 14,
   "id": "2a023e32",
   "metadata": {
    "scrolled": true
   },
   "outputs": [
    {
     "name": "stderr",
     "output_type": "stream",
     "text": [
      "                                                                                \r"
     ]
    },
    {
     "name": "stdout",
     "output_type": "stream",
     "text": [
      "+------------------------------------------+----+------------------+------------------+------------------------------------------+\n",
      "|window                                    |name|avg(price)        |previous_price    |previous_window                           |\n",
      "+------------------------------------------+----+------------------+------------------+------------------------------------------+\n",
      "|[2023-11-05 11:20:00, 2023-11-05 11:25:00]|ALXN|164.66            |180.2             |[2023-11-05 11:15:00, 2023-11-05 11:20:00]|\n",
      "|[2023-11-05 11:45:00, 2023-11-05 11:50:00]|ALXN|127.81            |201.66995         |[2023-11-05 11:30:00, 2023-11-05 11:35:00]|\n",
      "|[2023-11-05 11:55:00, 2023-11-05 12:00:00]|ALXN|104.12333333333333|139.99            |[2023-11-05 11:50:00, 2023-11-05 11:55:00]|\n",
      "|[2023-11-05 11:10:00, 2023-11-05 11:15:00]|GIS |49.35666666666666 |50.5207           |[2023-11-05 11:05:00, 2023-11-05 11:10:00]|\n",
      "|[2023-11-05 11:15:00, 2023-11-05 11:20:00]|GIS |48.6              |49.35666666666666 |[2023-11-05 11:10:00, 2023-11-05 11:15:00]|\n",
      "|[2023-11-05 11:50:00, 2023-11-05 11:55:00]|GIS |51.80505          |60.67             |[2023-11-05 11:45:00, 2023-11-05 11:50:00]|\n",
      "|[2023-11-05 12:00:00, 2023-11-05 12:05:00]|GIS |51.05             |53.275000000000006|[2023-11-05 11:55:00, 2023-11-05 12:00:00]|\n",
      "|[2023-11-05 12:05:00, 2023-11-05 12:10:00]|GIS |51.010000000000005|51.05             |[2023-11-05 12:00:00, 2023-11-05 12:05:00]|\n",
      "|[2023-11-05 11:20:00, 2023-11-05 11:25:00]|K   |66.23             |67.63             |[2023-11-05 11:15:00, 2023-11-05 11:20:00]|\n",
      "|[2023-11-05 11:25:00, 2023-11-05 11:30:00]|K   |62.1798           |66.23             |[2023-11-05 11:20:00, 2023-11-05 11:25:00]|\n",
      "|[2023-11-05 11:50:00, 2023-11-05 11:55:00]|K   |71.255            |73.32             |[2023-11-05 11:45:00, 2023-11-05 11:50:00]|\n",
      "|[2023-11-05 11:55:00, 2023-11-05 12:00:00]|K   |66.625            |71.255            |[2023-11-05 11:50:00, 2023-11-05 11:55:00]|\n",
      "|[2023-11-05 12:00:00, 2023-11-05 12:05:00]|K   |61.11             |66.625            |[2023-11-05 11:55:00, 2023-11-05 12:00:00]|\n",
      "|[2023-11-05 12:05:00, 2023-11-05 12:10:00]|K   |60.77             |61.11             |[2023-11-05 12:00:00, 2023-11-05 12:05:00]|\n",
      "|[2023-11-05 11:20:00, 2023-11-05 11:25:00]|LEN |35.5196           |38.958349999999996|[2023-11-05 11:15:00, 2023-11-05 11:20:00]|\n",
      "|[2023-11-05 11:30:00, 2023-11-05 11:35:00]|LEN |49.5392           |49.676500000000004|[2023-11-05 11:25:00, 2023-11-05 11:30:00]|\n",
      "|[2023-11-05 11:35:00, 2023-11-05 11:40:00]|LEN |47.4216           |49.5392           |[2023-11-05 11:30:00, 2023-11-05 11:35:00]|\n",
      "|[2023-11-05 11:40:00, 2023-11-05 11:45:00]|LEN |46.4265           |47.4216           |[2023-11-05 11:35:00, 2023-11-05 11:40:00]|\n",
      "|[2023-11-05 12:00:00, 2023-11-05 12:05:00]|LEN |33.66013333333333 |61.82             |[2023-11-05 11:55:00, 2023-11-05 12:00:00]|\n",
      "|[2023-11-05 11:35:00, 2023-11-05 11:40:00]|SPGI|92.65             |97.46             |[2023-11-05 11:30:00, 2023-11-05 11:35:00]|\n",
      "+------------------------------------------+----+------------------+------------------+------------------------------------------+\n",
      "only showing top 20 rows\n",
      "\n"
     ]
    },
    {
     "name": "stderr",
     "output_type": "stream",
     "text": [
      "[Stage 2759:(176 + 4) / 200][Stage 2760:> (0 + 0) / 3][Stage 2761:> (0 + 0) / 4]\r"
     ]
    },
    {
     "name": "stdout",
     "output_type": "stream",
     "text": [
      "+----+----------------------+\n",
      "|name|amount_of_stocks_owned|\n",
      "+----+----------------------+\n",
      "|ISRG|                  10.0|\n",
      "| BBT|                  15.0|\n",
      "|FITB|                  15.0|\n",
      "|ZION|                   5.0|\n",
      "|  CL|                  15.0|\n",
      "|  KR|                  90.0|\n",
      "| WEC|                  80.0|\n",
      "|VRTX|                  40.0|\n",
      "| PNW|                  15.0|\n",
      "| DTE|                  16.0|\n",
      "+----+----------------------+\n",
      "\n"
     ]
    },
    {
     "name": "stderr",
     "output_type": "stream",
     "text": [
      "23/11/06 20:29:27 WARN StreamingQueryManager: Temporary checkpoint location created which is deleted normally when the query didn't fail: /tmp/temporary-1039028c-3ccc-4b9a-bc98-bea9b66b9bad. If it's required to delete it under any circumstances, please set spark.sql.streaming.forceDeleteTempCheckpointLocation to true. Important to know deleting temp checkpoint folder is best effort.\n",
      "                                                                                \r"
     ]
    },
    {
     "name": "stdout",
     "output_type": "stream",
     "text": [
      "+------------------------------------------+----+------------------+------------------+------------------------------------------+\n",
      "|window                                    |name|avg(price)        |previous_price    |previous_window                           |\n",
      "+------------------------------------------+----+------------------+------------------+------------------------------------------+\n",
      "|[2023-11-05 11:15:00, 2023-11-05 11:20:00]|ALXN|180.2             |108.02            |[2023-11-05 11:10:00, 2023-11-05 11:15:00]|\n",
      "|[2023-11-05 11:25:00, 2023-11-05 11:30:00]|ALXN|186.99            |164.66            |[2023-11-05 11:20:00, 2023-11-05 11:25:00]|\n",
      "|[2023-11-05 11:30:00, 2023-11-05 11:35:00]|ALXN|201.66995         |186.99            |[2023-11-05 11:25:00, 2023-11-05 11:30:00]|\n",
      "|[2023-11-05 11:50:00, 2023-11-05 11:55:00]|ALXN|139.99            |127.81            |[2023-11-05 11:45:00, 2023-11-05 11:50:00]|\n",
      "|[2023-11-05 12:00:00, 2023-11-05 12:05:00]|ALXN|116.72            |104.12333333333333|[2023-11-05 11:55:00, 2023-11-05 12:00:00]|\n",
      "|[2023-11-05 11:20:00, 2023-11-05 11:25:00]|GIS |50.92             |48.6              |[2023-11-05 11:15:00, 2023-11-05 11:20:00]|\n",
      "|[2023-11-05 11:30:00, 2023-11-05 11:35:00]|GIS |57.61             |50.92             |[2023-11-05 11:20:00, 2023-11-05 11:25:00]|\n",
      "|[2023-11-05 11:45:00, 2023-11-05 11:50:00]|GIS |60.67             |57.61             |[2023-11-05 11:30:00, 2023-11-05 11:35:00]|\n",
      "|[2023-11-05 11:55:00, 2023-11-05 12:00:00]|GIS |53.275000000000006|51.80505          |[2023-11-05 11:50:00, 2023-11-05 11:55:00]|\n",
      "|[2023-11-05 11:15:00, 2023-11-05 11:20:00]|K   |67.63             |65.865            |[2023-11-05 11:10:00, 2023-11-05 11:15:00]|\n",
      "|[2023-11-05 11:30:00, 2023-11-05 11:35:00]|K   |66.81             |62.1798           |[2023-11-05 11:25:00, 2023-11-05 11:30:00]|\n",
      "|[2023-11-05 11:45:00, 2023-11-05 11:50:00]|K   |73.32             |66.81             |[2023-11-05 11:30:00, 2023-11-05 11:35:00]|\n",
      "|[2023-11-05 11:15:00, 2023-11-05 11:20:00]|LEN |38.958349999999996|33.89705          |[2023-11-05 11:10:00, 2023-11-05 11:15:00]|\n",
      "|[2023-11-05 11:25:00, 2023-11-05 11:30:00]|LEN |49.676500000000004|35.5196           |[2023-11-05 11:20:00, 2023-11-05 11:25:00]|\n",
      "|[2023-11-05 11:45:00, 2023-11-05 11:50:00]|LEN |51.2647           |46.4265           |[2023-11-05 11:40:00, 2023-11-05 11:45:00]|\n",
      "|[2023-11-05 11:55:00, 2023-11-05 12:00:00]|LEN |61.82             |51.2647           |[2023-11-05 11:45:00, 2023-11-05 11:50:00]|\n",
      "|[2023-11-05 11:15:00, 2023-11-05 11:20:00]|SPGI|77.12             |60.16             |[2023-11-05 11:10:00, 2023-11-05 11:15:00]|\n",
      "|[2023-11-05 11:20:00, 2023-11-05 11:25:00]|SPGI|86.69             |77.12             |[2023-11-05 11:15:00, 2023-11-05 11:20:00]|\n",
      "|[2023-11-05 11:25:00, 2023-11-05 11:30:00]|SPGI|90.47             |86.69             |[2023-11-05 11:20:00, 2023-11-05 11:25:00]|\n",
      "|[2023-11-05 11:30:00, 2023-11-05 11:35:00]|SPGI|97.46             |90.47             |[2023-11-05 11:25:00, 2023-11-05 11:30:00]|\n",
      "+------------------------------------------+----+------------------+------------------+------------------------------------------+\n",
      "only showing top 20 rows\n",
      "\n"
     ]
    },
    {
     "name": "stderr",
     "output_type": "stream",
     "text": [
      "                                                                                \r"
     ]
    },
    {
     "name": "stdout",
     "output_type": "stream",
     "text": [
      "+------------------------------------------+----+------------------+------------------+------------------------------------------+\n",
      "|window                                    |name|avg(price)        |previous_price    |previous_window                           |\n",
      "+------------------------------------------+----+------------------+------------------+------------------------------------------+\n",
      "|[2023-11-05 11:20:00, 2023-11-05 11:25:00]|ALXN|164.66            |180.2             |[2023-11-05 11:15:00, 2023-11-05 11:20:00]|\n",
      "|[2023-11-05 11:45:00, 2023-11-05 11:50:00]|ALXN|127.81            |201.66995         |[2023-11-05 11:30:00, 2023-11-05 11:35:00]|\n",
      "|[2023-11-05 11:55:00, 2023-11-05 12:00:00]|ALXN|104.12333333333333|139.99            |[2023-11-05 11:50:00, 2023-11-05 11:55:00]|\n",
      "|[2023-11-05 11:10:00, 2023-11-05 11:15:00]|GIS |49.35666666666666 |50.5207           |[2023-11-05 11:05:00, 2023-11-05 11:10:00]|\n",
      "|[2023-11-05 11:15:00, 2023-11-05 11:20:00]|GIS |48.6              |49.35666666666666 |[2023-11-05 11:10:00, 2023-11-05 11:15:00]|\n",
      "|[2023-11-05 11:50:00, 2023-11-05 11:55:00]|GIS |51.80505          |60.67             |[2023-11-05 11:45:00, 2023-11-05 11:50:00]|\n",
      "|[2023-11-05 12:00:00, 2023-11-05 12:05:00]|GIS |51.05             |53.275000000000006|[2023-11-05 11:55:00, 2023-11-05 12:00:00]|\n",
      "|[2023-11-05 12:05:00, 2023-11-05 12:10:00]|GIS |51.010000000000005|51.05             |[2023-11-05 12:00:00, 2023-11-05 12:05:00]|\n",
      "|[2023-11-05 11:20:00, 2023-11-05 11:25:00]|K   |66.23             |67.63             |[2023-11-05 11:15:00, 2023-11-05 11:20:00]|\n",
      "|[2023-11-05 11:25:00, 2023-11-05 11:30:00]|K   |62.1798           |66.23             |[2023-11-05 11:20:00, 2023-11-05 11:25:00]|\n",
      "|[2023-11-05 11:50:00, 2023-11-05 11:55:00]|K   |71.255            |73.32             |[2023-11-05 11:45:00, 2023-11-05 11:50:00]|\n",
      "|[2023-11-05 11:55:00, 2023-11-05 12:00:00]|K   |66.625            |71.255            |[2023-11-05 11:50:00, 2023-11-05 11:55:00]|\n",
      "|[2023-11-05 12:00:00, 2023-11-05 12:05:00]|K   |61.11             |66.625            |[2023-11-05 11:55:00, 2023-11-05 12:00:00]|\n",
      "|[2023-11-05 12:05:00, 2023-11-05 12:10:00]|K   |60.77             |61.11             |[2023-11-05 12:00:00, 2023-11-05 12:05:00]|\n",
      "|[2023-11-05 11:20:00, 2023-11-05 11:25:00]|LEN |35.5196           |38.958349999999996|[2023-11-05 11:15:00, 2023-11-05 11:20:00]|\n",
      "|[2023-11-05 11:30:00, 2023-11-05 11:35:00]|LEN |49.5392           |49.676500000000004|[2023-11-05 11:25:00, 2023-11-05 11:30:00]|\n",
      "|[2023-11-05 11:35:00, 2023-11-05 11:40:00]|LEN |47.4216           |49.5392           |[2023-11-05 11:30:00, 2023-11-05 11:35:00]|\n",
      "|[2023-11-05 11:40:00, 2023-11-05 11:45:00]|LEN |46.4265           |47.4216           |[2023-11-05 11:35:00, 2023-11-05 11:40:00]|\n",
      "|[2023-11-05 12:00:00, 2023-11-05 12:05:00]|LEN |33.66013333333333 |61.82             |[2023-11-05 11:55:00, 2023-11-05 12:00:00]|\n",
      "|[2023-11-05 11:35:00, 2023-11-05 11:40:00]|SPGI|92.65             |97.46             |[2023-11-05 11:30:00, 2023-11-05 11:35:00]|\n",
      "+------------------------------------------+----+------------------+------------------+------------------------------------------+\n",
      "only showing top 20 rows\n",
      "\n"
     ]
    },
    {
     "name": "stderr",
     "output_type": "stream",
     "text": [
      "                                                                                \r"
     ]
    },
    {
     "name": "stdout",
     "output_type": "stream",
     "text": [
      "+------------------------------------------+----+------------------+------------------+------------------------------------------+\n",
      "|window                                    |name|avg(price)        |previous_price    |previous_window                           |\n",
      "+------------------------------------------+----+------------------+------------------+------------------------------------------+\n",
      "|[2023-11-05 11:15:00, 2023-11-05 11:20:00]|ALXN|180.2             |108.02            |[2023-11-05 11:10:00, 2023-11-05 11:15:00]|\n",
      "|[2023-11-05 11:25:00, 2023-11-05 11:30:00]|ALXN|186.99            |164.66            |[2023-11-05 11:20:00, 2023-11-05 11:25:00]|\n",
      "|[2023-11-05 11:30:00, 2023-11-05 11:35:00]|ALXN|201.66995         |186.99            |[2023-11-05 11:25:00, 2023-11-05 11:30:00]|\n",
      "|[2023-11-05 11:50:00, 2023-11-05 11:55:00]|ALXN|139.99            |127.81            |[2023-11-05 11:45:00, 2023-11-05 11:50:00]|\n",
      "|[2023-11-05 12:00:00, 2023-11-05 12:05:00]|ALXN|116.72            |104.12333333333333|[2023-11-05 11:55:00, 2023-11-05 12:00:00]|\n",
      "|[2023-11-05 11:20:00, 2023-11-05 11:25:00]|GIS |50.92             |48.6              |[2023-11-05 11:15:00, 2023-11-05 11:20:00]|\n",
      "|[2023-11-05 11:30:00, 2023-11-05 11:35:00]|GIS |57.61             |50.92             |[2023-11-05 11:20:00, 2023-11-05 11:25:00]|\n",
      "|[2023-11-05 11:45:00, 2023-11-05 11:50:00]|GIS |60.67             |57.61             |[2023-11-05 11:30:00, 2023-11-05 11:35:00]|\n",
      "|[2023-11-05 11:55:00, 2023-11-05 12:00:00]|GIS |53.275000000000006|51.80505          |[2023-11-05 11:50:00, 2023-11-05 11:55:00]|\n",
      "|[2023-11-05 11:15:00, 2023-11-05 11:20:00]|K   |67.63             |65.865            |[2023-11-05 11:10:00, 2023-11-05 11:15:00]|\n",
      "|[2023-11-05 11:30:00, 2023-11-05 11:35:00]|K   |66.81             |62.1798           |[2023-11-05 11:25:00, 2023-11-05 11:30:00]|\n",
      "|[2023-11-05 11:45:00, 2023-11-05 11:50:00]|K   |73.32             |66.81             |[2023-11-05 11:30:00, 2023-11-05 11:35:00]|\n",
      "|[2023-11-05 11:15:00, 2023-11-05 11:20:00]|LEN |38.958349999999996|33.89705          |[2023-11-05 11:10:00, 2023-11-05 11:15:00]|\n",
      "|[2023-11-05 11:25:00, 2023-11-05 11:30:00]|LEN |49.676500000000004|35.5196           |[2023-11-05 11:20:00, 2023-11-05 11:25:00]|\n",
      "|[2023-11-05 11:45:00, 2023-11-05 11:50:00]|LEN |51.2647           |46.4265           |[2023-11-05 11:40:00, 2023-11-05 11:45:00]|\n",
      "|[2023-11-05 11:55:00, 2023-11-05 12:00:00]|LEN |61.82             |51.2647           |[2023-11-05 11:45:00, 2023-11-05 11:50:00]|\n",
      "|[2023-11-05 11:15:00, 2023-11-05 11:20:00]|SPGI|77.12             |60.16             |[2023-11-05 11:10:00, 2023-11-05 11:15:00]|\n",
      "|[2023-11-05 11:20:00, 2023-11-05 11:25:00]|SPGI|86.69             |77.12             |[2023-11-05 11:15:00, 2023-11-05 11:20:00]|\n",
      "|[2023-11-05 11:25:00, 2023-11-05 11:30:00]|SPGI|90.47             |86.69             |[2023-11-05 11:20:00, 2023-11-05 11:25:00]|\n",
      "|[2023-11-05 11:30:00, 2023-11-05 11:35:00]|SPGI|97.46             |90.47             |[2023-11-05 11:25:00, 2023-11-05 11:30:00]|\n",
      "+------------------------------------------+----+------------------+------------------+------------------------------------------+\n",
      "only showing top 20 rows\n",
      "\n"
     ]
    },
    {
     "name": "stderr",
     "output_type": "stream",
     "text": [
      "                                                                                \r"
     ]
    },
    {
     "name": "stdout",
     "output_type": "stream",
     "text": [
      "+------------------------------------------+----+------------------+------------------+------------------------------------------+\n",
      "|window                                    |name|avg(price)        |previous_price    |previous_window                           |\n",
      "+------------------------------------------+----+------------------+------------------+------------------------------------------+\n",
      "|[2023-11-05 11:20:00, 2023-11-05 11:25:00]|ALXN|164.66            |180.2             |[2023-11-05 11:15:00, 2023-11-05 11:20:00]|\n",
      "|[2023-11-05 11:45:00, 2023-11-05 11:50:00]|ALXN|127.81            |201.66995         |[2023-11-05 11:30:00, 2023-11-05 11:35:00]|\n",
      "|[2023-11-05 11:55:00, 2023-11-05 12:00:00]|ALXN|104.12333333333333|139.99            |[2023-11-05 11:50:00, 2023-11-05 11:55:00]|\n",
      "|[2023-11-05 11:10:00, 2023-11-05 11:15:00]|GIS |49.35666666666666 |50.5207           |[2023-11-05 11:05:00, 2023-11-05 11:10:00]|\n",
      "|[2023-11-05 11:15:00, 2023-11-05 11:20:00]|GIS |48.6              |49.35666666666666 |[2023-11-05 11:10:00, 2023-11-05 11:15:00]|\n",
      "|[2023-11-05 11:50:00, 2023-11-05 11:55:00]|GIS |51.80505          |60.67             |[2023-11-05 11:45:00, 2023-11-05 11:50:00]|\n",
      "|[2023-11-05 12:00:00, 2023-11-05 12:05:00]|GIS |51.05             |53.275000000000006|[2023-11-05 11:55:00, 2023-11-05 12:00:00]|\n",
      "|[2023-11-05 12:05:00, 2023-11-05 12:10:00]|GIS |51.010000000000005|51.05             |[2023-11-05 12:00:00, 2023-11-05 12:05:00]|\n",
      "|[2023-11-05 11:20:00, 2023-11-05 11:25:00]|K   |66.23             |67.63             |[2023-11-05 11:15:00, 2023-11-05 11:20:00]|\n",
      "|[2023-11-05 11:25:00, 2023-11-05 11:30:00]|K   |62.1798           |66.23             |[2023-11-05 11:20:00, 2023-11-05 11:25:00]|\n",
      "|[2023-11-05 11:50:00, 2023-11-05 11:55:00]|K   |71.255            |73.32             |[2023-11-05 11:45:00, 2023-11-05 11:50:00]|\n",
      "|[2023-11-05 11:55:00, 2023-11-05 12:00:00]|K   |66.625            |71.255            |[2023-11-05 11:50:00, 2023-11-05 11:55:00]|\n",
      "|[2023-11-05 12:00:00, 2023-11-05 12:05:00]|K   |61.11             |66.625            |[2023-11-05 11:55:00, 2023-11-05 12:00:00]|\n",
      "|[2023-11-05 11:20:00, 2023-11-05 11:25:00]|LEN |35.5196           |38.958349999999996|[2023-11-05 11:15:00, 2023-11-05 11:20:00]|\n",
      "|[2023-11-05 11:30:00, 2023-11-05 11:35:00]|LEN |49.5392           |49.676500000000004|[2023-11-05 11:25:00, 2023-11-05 11:30:00]|\n",
      "|[2023-11-05 11:35:00, 2023-11-05 11:40:00]|LEN |47.4216           |49.5392           |[2023-11-05 11:30:00, 2023-11-05 11:35:00]|\n",
      "|[2023-11-05 11:40:00, 2023-11-05 11:45:00]|LEN |46.4265           |47.4216           |[2023-11-05 11:35:00, 2023-11-05 11:40:00]|\n",
      "|[2023-11-05 12:00:00, 2023-11-05 12:05:00]|LEN |33.66013333333333 |61.82             |[2023-11-05 11:55:00, 2023-11-05 12:00:00]|\n",
      "|[2023-11-05 11:35:00, 2023-11-05 11:40:00]|SPGI|92.65             |97.46             |[2023-11-05 11:30:00, 2023-11-05 11:35:00]|\n",
      "|[2023-11-05 12:05:00, 2023-11-05 12:10:00]|SPGI|77.875            |154.8399          |[2023-11-05 11:50:00, 2023-11-05 11:55:00]|\n",
      "+------------------------------------------+----+------------------+------------------+------------------------------------------+\n",
      "only showing top 20 rows\n",
      "\n"
     ]
    },
    {
     "name": "stderr",
     "output_type": "stream",
     "text": [
      "                                                                                \r"
     ]
    },
    {
     "name": "stdout",
     "output_type": "stream",
     "text": [
      "+------------------------------------------+----+------------------+------------------+------------------------------------------+\n",
      "|window                                    |name|avg(price)        |previous_price    |previous_window                           |\n",
      "+------------------------------------------+----+------------------+------------------+------------------------------------------+\n",
      "|[2023-11-05 11:15:00, 2023-11-05 11:20:00]|ALXN|180.2             |108.02            |[2023-11-05 11:10:00, 2023-11-05 11:15:00]|\n",
      "|[2023-11-05 11:25:00, 2023-11-05 11:30:00]|ALXN|186.99            |164.66            |[2023-11-05 11:20:00, 2023-11-05 11:25:00]|\n",
      "|[2023-11-05 11:30:00, 2023-11-05 11:35:00]|ALXN|201.66995         |186.99            |[2023-11-05 11:25:00, 2023-11-05 11:30:00]|\n",
      "|[2023-11-05 11:50:00, 2023-11-05 11:55:00]|ALXN|139.99            |127.81            |[2023-11-05 11:45:00, 2023-11-05 11:50:00]|\n",
      "|[2023-11-05 12:00:00, 2023-11-05 12:05:00]|ALXN|116.72            |104.12333333333333|[2023-11-05 11:55:00, 2023-11-05 12:00:00]|\n",
      "|[2023-11-05 12:05:00, 2023-11-05 12:10:00]|ALXN|149.325           |116.72            |[2023-11-05 12:00:00, 2023-11-05 12:05:00]|\n",
      "|[2023-11-05 11:20:00, 2023-11-05 11:25:00]|GIS |50.92             |48.6              |[2023-11-05 11:15:00, 2023-11-05 11:20:00]|\n",
      "|[2023-11-05 11:30:00, 2023-11-05 11:35:00]|GIS |57.61             |50.92             |[2023-11-05 11:20:00, 2023-11-05 11:25:00]|\n",
      "|[2023-11-05 11:45:00, 2023-11-05 11:50:00]|GIS |60.67             |57.61             |[2023-11-05 11:30:00, 2023-11-05 11:35:00]|\n",
      "|[2023-11-05 11:55:00, 2023-11-05 12:00:00]|GIS |53.275000000000006|51.80505          |[2023-11-05 11:50:00, 2023-11-05 11:55:00]|\n",
      "|[2023-11-05 11:15:00, 2023-11-05 11:20:00]|K   |67.63             |65.865            |[2023-11-05 11:10:00, 2023-11-05 11:15:00]|\n",
      "|[2023-11-05 11:30:00, 2023-11-05 11:35:00]|K   |66.81             |62.1798           |[2023-11-05 11:25:00, 2023-11-05 11:30:00]|\n",
      "|[2023-11-05 11:45:00, 2023-11-05 11:50:00]|K   |73.32             |66.81             |[2023-11-05 11:30:00, 2023-11-05 11:35:00]|\n",
      "|[2023-11-05 11:15:00, 2023-11-05 11:20:00]|LEN |38.958349999999996|33.89705          |[2023-11-05 11:10:00, 2023-11-05 11:15:00]|\n",
      "|[2023-11-05 11:25:00, 2023-11-05 11:30:00]|LEN |49.676500000000004|35.5196           |[2023-11-05 11:20:00, 2023-11-05 11:25:00]|\n",
      "|[2023-11-05 11:45:00, 2023-11-05 11:50:00]|LEN |51.2647           |46.4265           |[2023-11-05 11:40:00, 2023-11-05 11:45:00]|\n",
      "|[2023-11-05 11:55:00, 2023-11-05 12:00:00]|LEN |61.82             |51.2647           |[2023-11-05 11:45:00, 2023-11-05 11:50:00]|\n",
      "|[2023-11-05 11:15:00, 2023-11-05 11:20:00]|SPGI|77.12             |60.16             |[2023-11-05 11:10:00, 2023-11-05 11:15:00]|\n",
      "|[2023-11-05 11:20:00, 2023-11-05 11:25:00]|SPGI|86.69             |77.12             |[2023-11-05 11:15:00, 2023-11-05 11:20:00]|\n",
      "|[2023-11-05 11:25:00, 2023-11-05 11:30:00]|SPGI|90.47             |86.69             |[2023-11-05 11:20:00, 2023-11-05 11:25:00]|\n",
      "+------------------------------------------+----+------------------+------------------+------------------------------------------+\n",
      "only showing top 20 rows\n",
      "\n"
     ]
    },
    {
     "name": "stderr",
     "output_type": "stream",
     "text": [
      "                                                                                \r"
     ]
    },
    {
     "name": "stdout",
     "output_type": "stream",
     "text": [
      "+------------------------------------------+----+------------------+------------------+------------------------------------------+\n",
      "|window                                    |name|avg(price)        |previous_price    |previous_window                           |\n",
      "+------------------------------------------+----+------------------+------------------+------------------------------------------+\n",
      "|[2023-11-05 11:20:00, 2023-11-05 11:25:00]|ALXN|164.66            |180.2             |[2023-11-05 11:15:00, 2023-11-05 11:20:00]|\n",
      "|[2023-11-05 11:45:00, 2023-11-05 11:50:00]|ALXN|127.81            |201.66995         |[2023-11-05 11:30:00, 2023-11-05 11:35:00]|\n",
      "|[2023-11-05 11:55:00, 2023-11-05 12:00:00]|ALXN|104.12333333333333|139.99            |[2023-11-05 11:50:00, 2023-11-05 11:55:00]|\n",
      "|[2023-11-05 11:10:00, 2023-11-05 11:15:00]|GIS |49.35666666666666 |50.5207           |[2023-11-05 11:05:00, 2023-11-05 11:10:00]|\n",
      "|[2023-11-05 11:15:00, 2023-11-05 11:20:00]|GIS |48.6              |49.35666666666666 |[2023-11-05 11:10:00, 2023-11-05 11:15:00]|\n",
      "|[2023-11-05 11:50:00, 2023-11-05 11:55:00]|GIS |51.80505          |60.67             |[2023-11-05 11:45:00, 2023-11-05 11:50:00]|\n",
      "|[2023-11-05 12:00:00, 2023-11-05 12:05:00]|GIS |51.05             |53.275000000000006|[2023-11-05 11:55:00, 2023-11-05 12:00:00]|\n",
      "|[2023-11-05 12:05:00, 2023-11-05 12:10:00]|GIS |51.010000000000005|51.05             |[2023-11-05 12:00:00, 2023-11-05 12:05:00]|\n",
      "|[2023-11-05 11:20:00, 2023-11-05 11:25:00]|K   |66.23             |67.63             |[2023-11-05 11:15:00, 2023-11-05 11:20:00]|\n",
      "|[2023-11-05 11:25:00, 2023-11-05 11:30:00]|K   |62.1798           |66.23             |[2023-11-05 11:20:00, 2023-11-05 11:25:00]|\n",
      "|[2023-11-05 11:50:00, 2023-11-05 11:55:00]|K   |71.255            |73.32             |[2023-11-05 11:45:00, 2023-11-05 11:50:00]|\n",
      "|[2023-11-05 11:55:00, 2023-11-05 12:00:00]|K   |66.625            |71.255            |[2023-11-05 11:50:00, 2023-11-05 11:55:00]|\n",
      "|[2023-11-05 12:00:00, 2023-11-05 12:05:00]|K   |61.11             |66.625            |[2023-11-05 11:55:00, 2023-11-05 12:00:00]|\n",
      "|[2023-11-05 11:20:00, 2023-11-05 11:25:00]|LEN |35.5196           |38.958349999999996|[2023-11-05 11:15:00, 2023-11-05 11:20:00]|\n",
      "|[2023-11-05 11:30:00, 2023-11-05 11:35:00]|LEN |49.5392           |49.676500000000004|[2023-11-05 11:25:00, 2023-11-05 11:30:00]|\n",
      "|[2023-11-05 11:35:00, 2023-11-05 11:40:00]|LEN |47.4216           |49.5392           |[2023-11-05 11:30:00, 2023-11-05 11:35:00]|\n",
      "|[2023-11-05 11:40:00, 2023-11-05 11:45:00]|LEN |46.4265           |47.4216           |[2023-11-05 11:35:00, 2023-11-05 11:40:00]|\n",
      "|[2023-11-05 12:00:00, 2023-11-05 12:05:00]|LEN |33.66013333333333 |61.82             |[2023-11-05 11:55:00, 2023-11-05 12:00:00]|\n",
      "|[2023-11-05 11:35:00, 2023-11-05 11:40:00]|SPGI|92.65             |97.46             |[2023-11-05 11:30:00, 2023-11-05 11:35:00]|\n",
      "|[2023-11-05 12:05:00, 2023-11-05 12:10:00]|SPGI|77.875            |154.8399          |[2023-11-05 11:50:00, 2023-11-05 11:55:00]|\n",
      "+------------------------------------------+----+------------------+------------------+------------------------------------------+\n",
      "only showing top 20 rows\n",
      "\n"
     ]
    },
    {
     "name": "stderr",
     "output_type": "stream",
     "text": [
      "                                                                                \r"
     ]
    },
    {
     "name": "stdout",
     "output_type": "stream",
     "text": [
      "+------------------------------------------+----+------------------+------------------+------------------------------------------+\n",
      "|window                                    |name|avg(price)        |previous_price    |previous_window                           |\n",
      "+------------------------------------------+----+------------------+------------------+------------------------------------------+\n",
      "|[2023-11-05 11:15:00, 2023-11-05 11:20:00]|ALXN|180.2             |108.02            |[2023-11-05 11:10:00, 2023-11-05 11:15:00]|\n",
      "|[2023-11-05 11:25:00, 2023-11-05 11:30:00]|ALXN|186.99            |164.66            |[2023-11-05 11:20:00, 2023-11-05 11:25:00]|\n",
      "|[2023-11-05 11:30:00, 2023-11-05 11:35:00]|ALXN|201.66995         |186.99            |[2023-11-05 11:25:00, 2023-11-05 11:30:00]|\n",
      "|[2023-11-05 11:50:00, 2023-11-05 11:55:00]|ALXN|139.99            |127.81            |[2023-11-05 11:45:00, 2023-11-05 11:50:00]|\n",
      "|[2023-11-05 12:00:00, 2023-11-05 12:05:00]|ALXN|116.72            |104.12333333333333|[2023-11-05 11:55:00, 2023-11-05 12:00:00]|\n",
      "|[2023-11-05 12:05:00, 2023-11-05 12:10:00]|ALXN|161.12666666666667|116.72            |[2023-11-05 12:00:00, 2023-11-05 12:05:00]|\n",
      "|[2023-11-05 11:20:00, 2023-11-05 11:25:00]|GIS |50.92             |48.6              |[2023-11-05 11:15:00, 2023-11-05 11:20:00]|\n",
      "|[2023-11-05 11:30:00, 2023-11-05 11:35:00]|GIS |57.61             |50.92             |[2023-11-05 11:20:00, 2023-11-05 11:25:00]|\n",
      "|[2023-11-05 11:45:00, 2023-11-05 11:50:00]|GIS |60.67             |57.61             |[2023-11-05 11:30:00, 2023-11-05 11:35:00]|\n",
      "|[2023-11-05 11:55:00, 2023-11-05 12:00:00]|GIS |53.275000000000006|51.80505          |[2023-11-05 11:50:00, 2023-11-05 11:55:00]|\n",
      "|[2023-11-05 11:15:00, 2023-11-05 11:20:00]|K   |67.63             |65.865            |[2023-11-05 11:10:00, 2023-11-05 11:15:00]|\n",
      "|[2023-11-05 11:30:00, 2023-11-05 11:35:00]|K   |66.81             |62.1798           |[2023-11-05 11:25:00, 2023-11-05 11:30:00]|\n",
      "|[2023-11-05 11:45:00, 2023-11-05 11:50:00]|K   |73.32             |66.81             |[2023-11-05 11:30:00, 2023-11-05 11:35:00]|\n",
      "|[2023-11-05 11:15:00, 2023-11-05 11:20:00]|LEN |38.958349999999996|33.89705          |[2023-11-05 11:10:00, 2023-11-05 11:15:00]|\n",
      "|[2023-11-05 11:25:00, 2023-11-05 11:30:00]|LEN |49.676500000000004|35.5196           |[2023-11-05 11:20:00, 2023-11-05 11:25:00]|\n",
      "|[2023-11-05 11:45:00, 2023-11-05 11:50:00]|LEN |51.2647           |46.4265           |[2023-11-05 11:40:00, 2023-11-05 11:45:00]|\n",
      "|[2023-11-05 11:55:00, 2023-11-05 12:00:00]|LEN |61.82             |51.2647           |[2023-11-05 11:45:00, 2023-11-05 11:50:00]|\n",
      "|[2023-11-05 11:15:00, 2023-11-05 11:20:00]|SPGI|77.12             |60.16             |[2023-11-05 11:10:00, 2023-11-05 11:15:00]|\n",
      "|[2023-11-05 11:20:00, 2023-11-05 11:25:00]|SPGI|86.69             |77.12             |[2023-11-05 11:15:00, 2023-11-05 11:20:00]|\n",
      "|[2023-11-05 11:25:00, 2023-11-05 11:30:00]|SPGI|90.47             |86.69             |[2023-11-05 11:20:00, 2023-11-05 11:25:00]|\n",
      "+------------------------------------------+----+------------------+------------------+------------------------------------------+\n",
      "only showing top 20 rows\n",
      "\n"
     ]
    },
    {
     "name": "stderr",
     "output_type": "stream",
     "text": [
      "                                                                                \r"
     ]
    },
    {
     "name": "stdout",
     "output_type": "stream",
     "text": [
      "+------------------------------------------+----+------------------+------------------+------------------------------------------+\n",
      "|window                                    |name|avg(price)        |previous_price    |previous_window                           |\n",
      "+------------------------------------------+----+------------------+------------------+------------------------------------------+\n",
      "|[2023-11-05 11:20:00, 2023-11-05 11:25:00]|ALXN|164.66            |180.2             |[2023-11-05 11:15:00, 2023-11-05 11:20:00]|\n",
      "|[2023-11-05 11:45:00, 2023-11-05 11:50:00]|ALXN|127.81            |201.66995         |[2023-11-05 11:30:00, 2023-11-05 11:35:00]|\n",
      "|[2023-11-05 11:55:00, 2023-11-05 12:00:00]|ALXN|104.12333333333333|139.99            |[2023-11-05 11:50:00, 2023-11-05 11:55:00]|\n",
      "|[2023-11-05 11:10:00, 2023-11-05 11:15:00]|GIS |49.35666666666666 |50.5207           |[2023-11-05 11:05:00, 2023-11-05 11:10:00]|\n",
      "|[2023-11-05 11:15:00, 2023-11-05 11:20:00]|GIS |48.6              |49.35666666666666 |[2023-11-05 11:10:00, 2023-11-05 11:15:00]|\n",
      "|[2023-11-05 11:50:00, 2023-11-05 11:55:00]|GIS |51.80505          |60.67             |[2023-11-05 11:45:00, 2023-11-05 11:50:00]|\n",
      "|[2023-11-05 12:00:00, 2023-11-05 12:05:00]|GIS |51.05             |53.275000000000006|[2023-11-05 11:55:00, 2023-11-05 12:00:00]|\n",
      "|[2023-11-05 12:05:00, 2023-11-05 12:10:00]|GIS |51.010000000000005|51.05             |[2023-11-05 12:00:00, 2023-11-05 12:05:00]|\n",
      "|[2023-11-05 11:20:00, 2023-11-05 11:25:00]|K   |66.23             |67.63             |[2023-11-05 11:15:00, 2023-11-05 11:20:00]|\n",
      "|[2023-11-05 11:25:00, 2023-11-05 11:30:00]|K   |62.1798           |66.23             |[2023-11-05 11:20:00, 2023-11-05 11:25:00]|\n",
      "|[2023-11-05 11:50:00, 2023-11-05 11:55:00]|K   |71.255            |73.32             |[2023-11-05 11:45:00, 2023-11-05 11:50:00]|\n",
      "|[2023-11-05 11:55:00, 2023-11-05 12:00:00]|K   |66.625            |71.255            |[2023-11-05 11:50:00, 2023-11-05 11:55:00]|\n",
      "|[2023-11-05 12:00:00, 2023-11-05 12:05:00]|K   |61.11             |66.625            |[2023-11-05 11:55:00, 2023-11-05 12:00:00]|\n",
      "|[2023-11-05 11:20:00, 2023-11-05 11:25:00]|LEN |35.5196           |38.958349999999996|[2023-11-05 11:15:00, 2023-11-05 11:20:00]|\n",
      "|[2023-11-05 11:30:00, 2023-11-05 11:35:00]|LEN |49.5392           |49.676500000000004|[2023-11-05 11:25:00, 2023-11-05 11:30:00]|\n",
      "|[2023-11-05 11:35:00, 2023-11-05 11:40:00]|LEN |47.4216           |49.5392           |[2023-11-05 11:30:00, 2023-11-05 11:35:00]|\n",
      "|[2023-11-05 11:40:00, 2023-11-05 11:45:00]|LEN |46.4265           |47.4216           |[2023-11-05 11:35:00, 2023-11-05 11:40:00]|\n",
      "|[2023-11-05 12:00:00, 2023-11-05 12:05:00]|LEN |33.66013333333333 |61.82             |[2023-11-05 11:55:00, 2023-11-05 12:00:00]|\n",
      "|[2023-11-05 11:35:00, 2023-11-05 11:40:00]|SPGI|92.65             |97.46             |[2023-11-05 11:30:00, 2023-11-05 11:35:00]|\n",
      "|[2023-11-05 12:05:00, 2023-11-05 12:10:00]|SPGI|77.875            |154.8399          |[2023-11-05 11:50:00, 2023-11-05 11:55:00]|\n",
      "+------------------------------------------+----+------------------+------------------+------------------------------------------+\n",
      "only showing top 20 rows\n",
      "\n"
     ]
    },
    {
     "name": "stderr",
     "output_type": "stream",
     "text": [
      "                                                                                \r"
     ]
    },
    {
     "name": "stdout",
     "output_type": "stream",
     "text": [
      "+------------------------------------------+----+------------------+------------------+------------------------------------------+\n",
      "|window                                    |name|avg(price)        |previous_price    |previous_window                           |\n",
      "+------------------------------------------+----+------------------+------------------+------------------------------------------+\n",
      "|[2023-11-05 11:15:00, 2023-11-05 11:20:00]|ALXN|180.2             |108.02            |[2023-11-05 11:10:00, 2023-11-05 11:15:00]|\n",
      "|[2023-11-05 11:25:00, 2023-11-05 11:30:00]|ALXN|186.99            |164.66            |[2023-11-05 11:20:00, 2023-11-05 11:25:00]|\n",
      "|[2023-11-05 11:30:00, 2023-11-05 11:35:00]|ALXN|201.66995         |186.99            |[2023-11-05 11:25:00, 2023-11-05 11:30:00]|\n",
      "|[2023-11-05 11:50:00, 2023-11-05 11:55:00]|ALXN|139.99            |127.81            |[2023-11-05 11:45:00, 2023-11-05 11:50:00]|\n",
      "|[2023-11-05 12:00:00, 2023-11-05 12:05:00]|ALXN|116.72            |104.12333333333333|[2023-11-05 11:55:00, 2023-11-05 12:00:00]|\n",
      "|[2023-11-05 12:05:00, 2023-11-05 12:10:00]|ALXN|161.12666666666667|116.72            |[2023-11-05 12:00:00, 2023-11-05 12:05:00]|\n",
      "|[2023-11-05 11:20:00, 2023-11-05 11:25:00]|GIS |50.92             |48.6              |[2023-11-05 11:15:00, 2023-11-05 11:20:00]|\n",
      "|[2023-11-05 11:30:00, 2023-11-05 11:35:00]|GIS |57.61             |50.92             |[2023-11-05 11:20:00, 2023-11-05 11:25:00]|\n",
      "|[2023-11-05 11:45:00, 2023-11-05 11:50:00]|GIS |60.67             |57.61             |[2023-11-05 11:30:00, 2023-11-05 11:35:00]|\n",
      "|[2023-11-05 11:55:00, 2023-11-05 12:00:00]|GIS |53.275000000000006|51.80505          |[2023-11-05 11:50:00, 2023-11-05 11:55:00]|\n",
      "|[2023-11-05 11:15:00, 2023-11-05 11:20:00]|K   |67.63             |65.865            |[2023-11-05 11:10:00, 2023-11-05 11:15:00]|\n",
      "|[2023-11-05 11:30:00, 2023-11-05 11:35:00]|K   |66.81             |62.1798           |[2023-11-05 11:25:00, 2023-11-05 11:30:00]|\n",
      "|[2023-11-05 11:45:00, 2023-11-05 11:50:00]|K   |73.32             |66.81             |[2023-11-05 11:30:00, 2023-11-05 11:35:00]|\n",
      "|[2023-11-05 11:15:00, 2023-11-05 11:20:00]|LEN |38.958349999999996|33.89705          |[2023-11-05 11:10:00, 2023-11-05 11:15:00]|\n",
      "|[2023-11-05 11:25:00, 2023-11-05 11:30:00]|LEN |49.676500000000004|35.5196           |[2023-11-05 11:20:00, 2023-11-05 11:25:00]|\n",
      "|[2023-11-05 11:45:00, 2023-11-05 11:50:00]|LEN |51.2647           |46.4265           |[2023-11-05 11:40:00, 2023-11-05 11:45:00]|\n",
      "|[2023-11-05 11:55:00, 2023-11-05 12:00:00]|LEN |61.82             |51.2647           |[2023-11-05 11:45:00, 2023-11-05 11:50:00]|\n",
      "|[2023-11-05 12:05:00, 2023-11-05 12:10:00]|LEN |39.098            |33.66013333333333 |[2023-11-05 12:00:00, 2023-11-05 12:05:00]|\n",
      "|[2023-11-05 11:15:00, 2023-11-05 11:20:00]|SPGI|77.12             |60.16             |[2023-11-05 11:10:00, 2023-11-05 11:15:00]|\n",
      "|[2023-11-05 11:20:00, 2023-11-05 11:25:00]|SPGI|86.69             |77.12             |[2023-11-05 11:15:00, 2023-11-05 11:20:00]|\n",
      "+------------------------------------------+----+------------------+------------------+------------------------------------------+\n",
      "only showing top 20 rows\n",
      "\n"
     ]
    },
    {
     "name": "stderr",
     "output_type": "stream",
     "text": [
      "                                                                                \r"
     ]
    },
    {
     "name": "stdout",
     "output_type": "stream",
     "text": [
      "+------------------------------------------+----+------------------+------------------+------------------------------------------+\n",
      "|window                                    |name|avg(price)        |previous_price    |previous_window                           |\n",
      "+------------------------------------------+----+------------------+------------------+------------------------------------------+\n",
      "|[2023-11-05 11:20:00, 2023-11-05 11:25:00]|ALXN|164.66            |180.2             |[2023-11-05 11:15:00, 2023-11-05 11:20:00]|\n",
      "|[2023-11-05 11:45:00, 2023-11-05 11:50:00]|ALXN|127.81            |201.66995         |[2023-11-05 11:30:00, 2023-11-05 11:35:00]|\n",
      "|[2023-11-05 11:55:00, 2023-11-05 12:00:00]|ALXN|104.12333333333333|139.99            |[2023-11-05 11:50:00, 2023-11-05 11:55:00]|\n",
      "|[2023-11-05 11:10:00, 2023-11-05 11:15:00]|GIS |49.35666666666666 |50.5207           |[2023-11-05 11:05:00, 2023-11-05 11:10:00]|\n",
      "|[2023-11-05 11:15:00, 2023-11-05 11:20:00]|GIS |48.6              |49.35666666666666 |[2023-11-05 11:10:00, 2023-11-05 11:15:00]|\n",
      "|[2023-11-05 11:50:00, 2023-11-05 11:55:00]|GIS |51.80505          |60.67             |[2023-11-05 11:45:00, 2023-11-05 11:50:00]|\n",
      "|[2023-11-05 12:00:00, 2023-11-05 12:05:00]|GIS |51.05             |53.275000000000006|[2023-11-05 11:55:00, 2023-11-05 12:00:00]|\n",
      "|[2023-11-05 12:05:00, 2023-11-05 12:10:00]|GIS |51.010000000000005|51.05             |[2023-11-05 12:00:00, 2023-11-05 12:05:00]|\n",
      "|[2023-11-05 11:20:00, 2023-11-05 11:25:00]|K   |66.23             |67.63             |[2023-11-05 11:15:00, 2023-11-05 11:20:00]|\n",
      "|[2023-11-05 11:25:00, 2023-11-05 11:30:00]|K   |62.1798           |66.23             |[2023-11-05 11:20:00, 2023-11-05 11:25:00]|\n",
      "|[2023-11-05 11:50:00, 2023-11-05 11:55:00]|K   |71.255            |73.32             |[2023-11-05 11:45:00, 2023-11-05 11:50:00]|\n",
      "|[2023-11-05 11:55:00, 2023-11-05 12:00:00]|K   |66.625            |71.255            |[2023-11-05 11:50:00, 2023-11-05 11:55:00]|\n",
      "|[2023-11-05 12:00:00, 2023-11-05 12:05:00]|K   |61.11             |66.625            |[2023-11-05 11:55:00, 2023-11-05 12:00:00]|\n",
      "|[2023-11-05 11:20:00, 2023-11-05 11:25:00]|LEN |35.5196           |38.958349999999996|[2023-11-05 11:15:00, 2023-11-05 11:20:00]|\n",
      "|[2023-11-05 11:30:00, 2023-11-05 11:35:00]|LEN |49.5392           |49.676500000000004|[2023-11-05 11:25:00, 2023-11-05 11:30:00]|\n",
      "|[2023-11-05 11:35:00, 2023-11-05 11:40:00]|LEN |47.4216           |49.5392           |[2023-11-05 11:30:00, 2023-11-05 11:35:00]|\n",
      "|[2023-11-05 11:40:00, 2023-11-05 11:45:00]|LEN |46.4265           |47.4216           |[2023-11-05 11:35:00, 2023-11-05 11:40:00]|\n",
      "|[2023-11-05 12:00:00, 2023-11-05 12:05:00]|LEN |33.66013333333333 |61.82             |[2023-11-05 11:55:00, 2023-11-05 12:00:00]|\n",
      "|[2023-11-05 11:35:00, 2023-11-05 11:40:00]|SPGI|92.65             |97.46             |[2023-11-05 11:30:00, 2023-11-05 11:35:00]|\n",
      "|[2023-11-05 12:05:00, 2023-11-05 12:10:00]|SPGI|77.875            |154.8399          |[2023-11-05 11:50:00, 2023-11-05 11:55:00]|\n",
      "+------------------------------------------+----+------------------+------------------+------------------------------------------+\n",
      "only showing top 20 rows\n",
      "\n"
     ]
    },
    {
     "name": "stderr",
     "output_type": "stream",
     "text": [
      "                                                                                \r"
     ]
    },
    {
     "name": "stdout",
     "output_type": "stream",
     "text": [
      "+------------------------------------------+----+------------------+------------------+------------------------------------------+\n",
      "|window                                    |name|avg(price)        |previous_price    |previous_window                           |\n",
      "+------------------------------------------+----+------------------+------------------+------------------------------------------+\n",
      "|[2023-11-05 11:15:00, 2023-11-05 11:20:00]|ALXN|180.2             |108.02            |[2023-11-05 11:10:00, 2023-11-05 11:15:00]|\n",
      "|[2023-11-05 11:25:00, 2023-11-05 11:30:00]|ALXN|186.99            |164.66            |[2023-11-05 11:20:00, 2023-11-05 11:25:00]|\n",
      "|[2023-11-05 11:30:00, 2023-11-05 11:35:00]|ALXN|201.66995         |186.99            |[2023-11-05 11:25:00, 2023-11-05 11:30:00]|\n",
      "|[2023-11-05 11:50:00, 2023-11-05 11:55:00]|ALXN|139.99            |127.81            |[2023-11-05 11:45:00, 2023-11-05 11:50:00]|\n",
      "|[2023-11-05 12:00:00, 2023-11-05 12:05:00]|ALXN|116.72            |104.12333333333333|[2023-11-05 11:55:00, 2023-11-05 12:00:00]|\n",
      "|[2023-11-05 12:05:00, 2023-11-05 12:10:00]|ALXN|161.12666666666667|116.72            |[2023-11-05 12:00:00, 2023-11-05 12:05:00]|\n",
      "|[2023-11-05 11:20:00, 2023-11-05 11:25:00]|GIS |50.92             |48.6              |[2023-11-05 11:15:00, 2023-11-05 11:20:00]|\n",
      "|[2023-11-05 11:30:00, 2023-11-05 11:35:00]|GIS |57.61             |50.92             |[2023-11-05 11:20:00, 2023-11-05 11:25:00]|\n",
      "|[2023-11-05 11:45:00, 2023-11-05 11:50:00]|GIS |60.67             |57.61             |[2023-11-05 11:30:00, 2023-11-05 11:35:00]|\n",
      "|[2023-11-05 11:55:00, 2023-11-05 12:00:00]|GIS |53.275000000000006|51.80505          |[2023-11-05 11:50:00, 2023-11-05 11:55:00]|\n",
      "|[2023-11-05 11:15:00, 2023-11-05 11:20:00]|K   |67.63             |65.865            |[2023-11-05 11:10:00, 2023-11-05 11:15:00]|\n",
      "|[2023-11-05 11:30:00, 2023-11-05 11:35:00]|K   |66.81             |62.1798           |[2023-11-05 11:25:00, 2023-11-05 11:30:00]|\n",
      "|[2023-11-05 11:45:00, 2023-11-05 11:50:00]|K   |73.32             |66.81             |[2023-11-05 11:30:00, 2023-11-05 11:35:00]|\n",
      "|[2023-11-05 11:15:00, 2023-11-05 11:20:00]|LEN |38.958349999999996|33.89705          |[2023-11-05 11:10:00, 2023-11-05 11:15:00]|\n",
      "|[2023-11-05 11:25:00, 2023-11-05 11:30:00]|LEN |49.676500000000004|35.5196           |[2023-11-05 11:20:00, 2023-11-05 11:25:00]|\n",
      "|[2023-11-05 11:45:00, 2023-11-05 11:50:00]|LEN |51.2647           |46.4265           |[2023-11-05 11:40:00, 2023-11-05 11:45:00]|\n",
      "|[2023-11-05 11:55:00, 2023-11-05 12:00:00]|LEN |61.82             |51.2647           |[2023-11-05 11:45:00, 2023-11-05 11:50:00]|\n",
      "|[2023-11-05 12:05:00, 2023-11-05 12:10:00]|LEN |39.098            |33.66013333333333 |[2023-11-05 12:00:00, 2023-11-05 12:05:00]|\n",
      "|[2023-11-05 11:15:00, 2023-11-05 11:20:00]|SPGI|77.12             |60.16             |[2023-11-05 11:10:00, 2023-11-05 11:15:00]|\n",
      "|[2023-11-05 11:20:00, 2023-11-05 11:25:00]|SPGI|86.69             |77.12             |[2023-11-05 11:15:00, 2023-11-05 11:20:00]|\n",
      "+------------------------------------------+----+------------------+------------------+------------------------------------------+\n",
      "only showing top 20 rows\n",
      "\n"
     ]
    },
    {
     "name": "stderr",
     "output_type": "stream",
     "text": [
      "                                                                                \r"
     ]
    },
    {
     "name": "stdout",
     "output_type": "stream",
     "text": [
      "+------------------------------------------+----+------------------+------------------+------------------------------------------+\n",
      "|window                                    |name|avg(price)        |previous_price    |previous_window                           |\n",
      "+------------------------------------------+----+------------------+------------------+------------------------------------------+\n",
      "|[2023-11-05 11:20:00, 2023-11-05 11:25:00]|ALXN|164.66            |180.2             |[2023-11-05 11:15:00, 2023-11-05 11:20:00]|\n",
      "|[2023-11-05 11:45:00, 2023-11-05 11:50:00]|ALXN|127.81            |201.66995         |[2023-11-05 11:30:00, 2023-11-05 11:35:00]|\n",
      "|[2023-11-05 11:55:00, 2023-11-05 12:00:00]|ALXN|104.12333333333333|139.99            |[2023-11-05 11:50:00, 2023-11-05 11:55:00]|\n",
      "|[2023-11-05 11:10:00, 2023-11-05 11:15:00]|GIS |49.35666666666666 |50.5207           |[2023-11-05 11:05:00, 2023-11-05 11:10:00]|\n",
      "|[2023-11-05 11:15:00, 2023-11-05 11:20:00]|GIS |48.6              |49.35666666666666 |[2023-11-05 11:10:00, 2023-11-05 11:15:00]|\n",
      "|[2023-11-05 11:50:00, 2023-11-05 11:55:00]|GIS |51.80505          |60.67             |[2023-11-05 11:45:00, 2023-11-05 11:50:00]|\n",
      "|[2023-11-05 12:00:00, 2023-11-05 12:05:00]|GIS |51.05             |53.275000000000006|[2023-11-05 11:55:00, 2023-11-05 12:00:00]|\n",
      "|[2023-11-05 12:05:00, 2023-11-05 12:10:00]|GIS |51.010000000000005|51.05             |[2023-11-05 12:00:00, 2023-11-05 12:05:00]|\n",
      "|[2023-11-05 11:20:00, 2023-11-05 11:25:00]|K   |66.23             |67.63             |[2023-11-05 11:15:00, 2023-11-05 11:20:00]|\n",
      "|[2023-11-05 11:25:00, 2023-11-05 11:30:00]|K   |62.1798           |66.23             |[2023-11-05 11:20:00, 2023-11-05 11:25:00]|\n",
      "|[2023-11-05 11:50:00, 2023-11-05 11:55:00]|K   |71.255            |73.32             |[2023-11-05 11:45:00, 2023-11-05 11:50:00]|\n",
      "|[2023-11-05 11:55:00, 2023-11-05 12:00:00]|K   |66.625            |71.255            |[2023-11-05 11:50:00, 2023-11-05 11:55:00]|\n",
      "|[2023-11-05 12:00:00, 2023-11-05 12:05:00]|K   |61.11             |66.625            |[2023-11-05 11:55:00, 2023-11-05 12:00:00]|\n",
      "|[2023-11-05 11:20:00, 2023-11-05 11:25:00]|LEN |35.5196           |38.958349999999996|[2023-11-05 11:15:00, 2023-11-05 11:20:00]|\n",
      "|[2023-11-05 11:30:00, 2023-11-05 11:35:00]|LEN |49.5392           |49.676500000000004|[2023-11-05 11:25:00, 2023-11-05 11:30:00]|\n",
      "|[2023-11-05 11:35:00, 2023-11-05 11:40:00]|LEN |47.4216           |49.5392           |[2023-11-05 11:30:00, 2023-11-05 11:35:00]|\n",
      "|[2023-11-05 11:40:00, 2023-11-05 11:45:00]|LEN |46.4265           |47.4216           |[2023-11-05 11:35:00, 2023-11-05 11:40:00]|\n",
      "|[2023-11-05 12:00:00, 2023-11-05 12:05:00]|LEN |33.66013333333333 |61.82             |[2023-11-05 11:55:00, 2023-11-05 12:00:00]|\n",
      "|[2023-11-05 11:35:00, 2023-11-05 11:40:00]|SPGI|92.65             |97.46             |[2023-11-05 11:30:00, 2023-11-05 11:35:00]|\n",
      "|[2023-11-05 12:05:00, 2023-11-05 12:10:00]|SPGI|77.875            |154.8399          |[2023-11-05 11:50:00, 2023-11-05 11:55:00]|\n",
      "+------------------------------------------+----+------------------+------------------+------------------------------------------+\n",
      "only showing top 20 rows\n",
      "\n",
      "+------------------------------------------+----+------------------+------------------+------------------------------------------+\n",
      "|window                                    |name|avg(price)        |previous_price    |previous_window                           |\n",
      "+------------------------------------------+----+------------------+------------------+------------------------------------------+\n",
      "|[2023-11-05 11:15:00, 2023-11-05 11:20:00]|ALXN|180.2             |108.02            |[2023-11-05 11:10:00, 2023-11-05 11:15:00]|\n",
      "|[2023-11-05 11:25:00, 2023-11-05 11:30:00]|ALXN|186.99            |164.66            |[2023-11-05 11:20:00, 2023-11-05 11:25:00]|\n",
      "|[2023-11-05 11:30:00, 2023-11-05 11:35:00]|ALXN|201.66995         |186.99            |[2023-11-05 11:25:00, 2023-11-05 11:30:00]|\n",
      "|[2023-11-05 11:50:00, 2023-11-05 11:55:00]|ALXN|139.99            |127.81            |[2023-11-05 11:45:00, 2023-11-05 11:50:00]|\n",
      "|[2023-11-05 12:00:00, 2023-11-05 12:05:00]|ALXN|116.72            |104.12333333333333|[2023-11-05 11:55:00, 2023-11-05 12:00:00]|\n",
      "|[2023-11-05 12:05:00, 2023-11-05 12:10:00]|ALXN|161.12666666666667|116.72            |[2023-11-05 12:00:00, 2023-11-05 12:05:00]|\n",
      "|[2023-11-05 11:20:00, 2023-11-05 11:25:00]|GIS |50.92             |48.6              |[2023-11-05 11:15:00, 2023-11-05 11:20:00]|\n",
      "|[2023-11-05 11:30:00, 2023-11-05 11:35:00]|GIS |57.61             |50.92             |[2023-11-05 11:20:00, 2023-11-05 11:25:00]|\n",
      "|[2023-11-05 11:45:00, 2023-11-05 11:50:00]|GIS |60.67             |57.61             |[2023-11-05 11:30:00, 2023-11-05 11:35:00]|\n",
      "|[2023-11-05 11:55:00, 2023-11-05 12:00:00]|GIS |53.275000000000006|51.80505          |[2023-11-05 11:50:00, 2023-11-05 11:55:00]|\n",
      "|[2023-11-05 11:15:00, 2023-11-05 11:20:00]|K   |67.63             |65.865            |[2023-11-05 11:10:00, 2023-11-05 11:15:00]|\n",
      "|[2023-11-05 11:30:00, 2023-11-05 11:35:00]|K   |66.81             |62.1798           |[2023-11-05 11:25:00, 2023-11-05 11:30:00]|\n",
      "|[2023-11-05 11:45:00, 2023-11-05 11:50:00]|K   |73.32             |66.81             |[2023-11-05 11:30:00, 2023-11-05 11:35:00]|\n",
      "|[2023-11-05 12:05:00, 2023-11-05 12:10:00]|K   |64.26             |61.11             |[2023-11-05 12:00:00, 2023-11-05 12:05:00]|\n",
      "|[2023-11-05 11:15:00, 2023-11-05 11:20:00]|LEN |38.958349999999996|33.89705          |[2023-11-05 11:10:00, 2023-11-05 11:15:00]|\n",
      "|[2023-11-05 11:25:00, 2023-11-05 11:30:00]|LEN |49.676500000000004|35.5196           |[2023-11-05 11:20:00, 2023-11-05 11:25:00]|\n",
      "|[2023-11-05 11:45:00, 2023-11-05 11:50:00]|LEN |51.2647           |46.4265           |[2023-11-05 11:40:00, 2023-11-05 11:45:00]|\n",
      "|[2023-11-05 11:55:00, 2023-11-05 12:00:00]|LEN |61.82             |51.2647           |[2023-11-05 11:45:00, 2023-11-05 11:50:00]|\n",
      "|[2023-11-05 12:05:00, 2023-11-05 12:10:00]|LEN |39.098            |33.66013333333333 |[2023-11-05 12:00:00, 2023-11-05 12:05:00]|\n",
      "|[2023-11-05 11:15:00, 2023-11-05 11:20:00]|SPGI|77.12             |60.16             |[2023-11-05 11:10:00, 2023-11-05 11:15:00]|\n",
      "+------------------------------------------+----+------------------+------------------+------------------------------------------+\n",
      "only showing top 20 rows\n",
      "\n"
     ]
    },
    {
     "name": "stderr",
     "output_type": "stream",
     "text": [
      "                                                                                \r"
     ]
    },
    {
     "name": "stdout",
     "output_type": "stream",
     "text": [
      "+------------------------------------------+----+------------------+------------------+------------------------------------------+\n",
      "|window                                    |name|avg(price)        |previous_price    |previous_window                           |\n",
      "+------------------------------------------+----+------------------+------------------+------------------------------------------+\n",
      "|[2023-11-05 11:15:00, 2023-11-05 11:20:00]|ALXN|180.2             |108.02            |[2023-11-05 11:10:00, 2023-11-05 11:15:00]|\n",
      "|[2023-11-05 11:25:00, 2023-11-05 11:30:00]|ALXN|186.99            |164.66            |[2023-11-05 11:20:00, 2023-11-05 11:25:00]|\n",
      "|[2023-11-05 11:30:00, 2023-11-05 11:35:00]|ALXN|201.66995         |186.99            |[2023-11-05 11:25:00, 2023-11-05 11:30:00]|\n",
      "|[2023-11-05 11:50:00, 2023-11-05 11:55:00]|ALXN|139.99            |127.81            |[2023-11-05 11:45:00, 2023-11-05 11:50:00]|\n",
      "|[2023-11-05 12:00:00, 2023-11-05 12:05:00]|ALXN|116.72            |104.12333333333333|[2023-11-05 11:55:00, 2023-11-05 12:00:00]|\n",
      "|[2023-11-05 12:05:00, 2023-11-05 12:10:00]|ALXN|161.12666666666667|116.72            |[2023-11-05 12:00:00, 2023-11-05 12:05:00]|\n",
      "|[2023-11-05 11:20:00, 2023-11-05 11:25:00]|GIS |50.92             |48.6              |[2023-11-05 11:15:00, 2023-11-05 11:20:00]|\n",
      "|[2023-11-05 11:30:00, 2023-11-05 11:35:00]|GIS |57.61             |50.92             |[2023-11-05 11:20:00, 2023-11-05 11:25:00]|\n",
      "|[2023-11-05 11:45:00, 2023-11-05 11:50:00]|GIS |60.67             |57.61             |[2023-11-05 11:30:00, 2023-11-05 11:35:00]|\n",
      "|[2023-11-05 11:55:00, 2023-11-05 12:00:00]|GIS |53.275000000000006|51.80505          |[2023-11-05 11:50:00, 2023-11-05 11:55:00]|\n",
      "|[2023-11-05 12:10:00, 2023-11-05 12:15:00]|GIS |53.3              |51.010000000000005|[2023-11-05 12:05:00, 2023-11-05 12:10:00]|\n",
      "|[2023-11-05 11:15:00, 2023-11-05 11:20:00]|K   |67.63             |65.865            |[2023-11-05 11:10:00, 2023-11-05 11:15:00]|\n",
      "|[2023-11-05 11:30:00, 2023-11-05 11:35:00]|K   |66.81             |62.1798           |[2023-11-05 11:25:00, 2023-11-05 11:30:00]|\n",
      "|[2023-11-05 11:45:00, 2023-11-05 11:50:00]|K   |73.32             |66.81             |[2023-11-05 11:30:00, 2023-11-05 11:35:00]|\n",
      "|[2023-11-05 12:05:00, 2023-11-05 12:10:00]|K   |64.26             |61.11             |[2023-11-05 12:00:00, 2023-11-05 12:05:00]|\n",
      "|[2023-11-05 11:15:00, 2023-11-05 11:20:00]|LEN |38.958349999999996|33.89705          |[2023-11-05 11:10:00, 2023-11-05 11:15:00]|\n",
      "|[2023-11-05 11:25:00, 2023-11-05 11:30:00]|LEN |49.676500000000004|35.5196           |[2023-11-05 11:20:00, 2023-11-05 11:25:00]|\n",
      "|[2023-11-05 11:45:00, 2023-11-05 11:50:00]|LEN |51.2647           |46.4265           |[2023-11-05 11:40:00, 2023-11-05 11:45:00]|\n",
      "|[2023-11-05 11:55:00, 2023-11-05 12:00:00]|LEN |61.82             |51.2647           |[2023-11-05 11:45:00, 2023-11-05 11:50:00]|\n",
      "|[2023-11-05 12:05:00, 2023-11-05 12:10:00]|LEN |39.098            |33.66013333333333 |[2023-11-05 12:00:00, 2023-11-05 12:05:00]|\n",
      "+------------------------------------------+----+------------------+------------------+------------------------------------------+\n",
      "only showing top 20 rows\n",
      "\n",
      "+------------------------------------------+----+------------------+------------------+------------------------------------------+\n",
      "|window                                    |name|avg(price)        |previous_price    |previous_window                           |\n",
      "+------------------------------------------+----+------------------+------------------+------------------------------------------+\n",
      "|[2023-11-05 11:20:00, 2023-11-05 11:25:00]|ALXN|164.66            |180.2             |[2023-11-05 11:15:00, 2023-11-05 11:20:00]|\n",
      "|[2023-11-05 11:45:00, 2023-11-05 11:50:00]|ALXN|127.81            |201.66995         |[2023-11-05 11:30:00, 2023-11-05 11:35:00]|\n",
      "|[2023-11-05 11:55:00, 2023-11-05 12:00:00]|ALXN|104.12333333333333|139.99            |[2023-11-05 11:50:00, 2023-11-05 11:55:00]|\n",
      "|[2023-11-05 11:10:00, 2023-11-05 11:15:00]|GIS |49.35666666666666 |50.5207           |[2023-11-05 11:05:00, 2023-11-05 11:10:00]|\n",
      "|[2023-11-05 11:15:00, 2023-11-05 11:20:00]|GIS |48.6              |49.35666666666666 |[2023-11-05 11:10:00, 2023-11-05 11:15:00]|\n",
      "|[2023-11-05 11:50:00, 2023-11-05 11:55:00]|GIS |51.80505          |60.67             |[2023-11-05 11:45:00, 2023-11-05 11:50:00]|\n",
      "|[2023-11-05 12:00:00, 2023-11-05 12:05:00]|GIS |51.05             |53.275000000000006|[2023-11-05 11:55:00, 2023-11-05 12:00:00]|\n",
      "|[2023-11-05 12:05:00, 2023-11-05 12:10:00]|GIS |51.010000000000005|51.05             |[2023-11-05 12:00:00, 2023-11-05 12:05:00]|\n",
      "|[2023-11-05 11:20:00, 2023-11-05 11:25:00]|K   |66.23             |67.63             |[2023-11-05 11:15:00, 2023-11-05 11:20:00]|\n",
      "|[2023-11-05 11:25:00, 2023-11-05 11:30:00]|K   |62.1798           |66.23             |[2023-11-05 11:20:00, 2023-11-05 11:25:00]|\n",
      "|[2023-11-05 11:50:00, 2023-11-05 11:55:00]|K   |71.255            |73.32             |[2023-11-05 11:45:00, 2023-11-05 11:50:00]|\n",
      "|[2023-11-05 11:55:00, 2023-11-05 12:00:00]|K   |66.625            |71.255            |[2023-11-05 11:50:00, 2023-11-05 11:55:00]|\n",
      "|[2023-11-05 12:00:00, 2023-11-05 12:05:00]|K   |61.11             |66.625            |[2023-11-05 11:55:00, 2023-11-05 12:00:00]|\n",
      "|[2023-11-05 11:20:00, 2023-11-05 11:25:00]|LEN |35.5196           |38.958349999999996|[2023-11-05 11:15:00, 2023-11-05 11:20:00]|\n",
      "|[2023-11-05 11:30:00, 2023-11-05 11:35:00]|LEN |49.5392           |49.676500000000004|[2023-11-05 11:25:00, 2023-11-05 11:30:00]|\n",
      "|[2023-11-05 11:35:00, 2023-11-05 11:40:00]|LEN |47.4216           |49.5392           |[2023-11-05 11:30:00, 2023-11-05 11:35:00]|\n",
      "|[2023-11-05 11:40:00, 2023-11-05 11:45:00]|LEN |46.4265           |47.4216           |[2023-11-05 11:35:00, 2023-11-05 11:40:00]|\n",
      "|[2023-11-05 12:00:00, 2023-11-05 12:05:00]|LEN |33.66013333333333 |61.82             |[2023-11-05 11:55:00, 2023-11-05 12:00:00]|\n",
      "|[2023-11-05 11:35:00, 2023-11-05 11:40:00]|SPGI|92.65             |97.46             |[2023-11-05 11:30:00, 2023-11-05 11:35:00]|\n",
      "|[2023-11-05 12:05:00, 2023-11-05 12:10:00]|SPGI|77.875            |154.8399          |[2023-11-05 11:50:00, 2023-11-05 11:55:00]|\n",
      "+------------------------------------------+----+------------------+------------------+------------------------------------------+\n",
      "only showing top 20 rows\n",
      "\n"
     ]
    },
    {
     "name": "stderr",
     "output_type": "stream",
     "text": [
      "                                                                                \r"
     ]
    },
    {
     "name": "stdout",
     "output_type": "stream",
     "text": [
      "+------------------------------------------+----+------------------+------------------+------------------------------------------+\n",
      "|window                                    |name|avg(price)        |previous_price    |previous_window                           |\n",
      "+------------------------------------------+----+------------------+------------------+------------------------------------------+\n",
      "|[2023-11-05 11:15:00, 2023-11-05 11:20:00]|ALXN|180.2             |108.02            |[2023-11-05 11:10:00, 2023-11-05 11:15:00]|\n",
      "|[2023-11-05 11:25:00, 2023-11-05 11:30:00]|ALXN|186.99            |164.66            |[2023-11-05 11:20:00, 2023-11-05 11:25:00]|\n",
      "|[2023-11-05 11:30:00, 2023-11-05 11:35:00]|ALXN|201.66995         |186.99            |[2023-11-05 11:25:00, 2023-11-05 11:30:00]|\n",
      "|[2023-11-05 11:50:00, 2023-11-05 11:55:00]|ALXN|139.99            |127.81            |[2023-11-05 11:45:00, 2023-11-05 11:50:00]|\n",
      "|[2023-11-05 12:00:00, 2023-11-05 12:05:00]|ALXN|116.72            |104.12333333333333|[2023-11-05 11:55:00, 2023-11-05 12:00:00]|\n",
      "|[2023-11-05 12:05:00, 2023-11-05 12:10:00]|ALXN|161.12666666666667|116.72            |[2023-11-05 12:00:00, 2023-11-05 12:05:00]|\n",
      "|[2023-11-05 11:20:00, 2023-11-05 11:25:00]|GIS |50.92             |48.6              |[2023-11-05 11:15:00, 2023-11-05 11:20:00]|\n",
      "|[2023-11-05 11:30:00, 2023-11-05 11:35:00]|GIS |57.61             |50.92             |[2023-11-05 11:20:00, 2023-11-05 11:25:00]|\n",
      "|[2023-11-05 11:45:00, 2023-11-05 11:50:00]|GIS |60.67             |57.61             |[2023-11-05 11:30:00, 2023-11-05 11:35:00]|\n",
      "|[2023-11-05 11:55:00, 2023-11-05 12:00:00]|GIS |53.275000000000006|51.80505          |[2023-11-05 11:50:00, 2023-11-05 11:55:00]|\n",
      "|[2023-11-05 12:10:00, 2023-11-05 12:15:00]|GIS |53.3              |51.010000000000005|[2023-11-05 12:05:00, 2023-11-05 12:10:00]|\n",
      "|[2023-11-05 11:15:00, 2023-11-05 11:20:00]|K   |67.63             |65.865            |[2023-11-05 11:10:00, 2023-11-05 11:15:00]|\n",
      "|[2023-11-05 11:30:00, 2023-11-05 11:35:00]|K   |66.81             |62.1798           |[2023-11-05 11:25:00, 2023-11-05 11:30:00]|\n",
      "|[2023-11-05 11:45:00, 2023-11-05 11:50:00]|K   |73.32             |66.81             |[2023-11-05 11:30:00, 2023-11-05 11:35:00]|\n",
      "|[2023-11-05 12:05:00, 2023-11-05 12:10:00]|K   |64.26             |61.11             |[2023-11-05 12:00:00, 2023-11-05 12:05:00]|\n",
      "|[2023-11-05 11:15:00, 2023-11-05 11:20:00]|LEN |38.958349999999996|33.89705          |[2023-11-05 11:10:00, 2023-11-05 11:15:00]|\n",
      "|[2023-11-05 11:25:00, 2023-11-05 11:30:00]|LEN |49.676500000000004|35.5196           |[2023-11-05 11:20:00, 2023-11-05 11:25:00]|\n",
      "|[2023-11-05 11:45:00, 2023-11-05 11:50:00]|LEN |51.2647           |46.4265           |[2023-11-05 11:40:00, 2023-11-05 11:45:00]|\n",
      "|[2023-11-05 11:55:00, 2023-11-05 12:00:00]|LEN |61.82             |51.2647           |[2023-11-05 11:45:00, 2023-11-05 11:50:00]|\n",
      "|[2023-11-05 12:05:00, 2023-11-05 12:10:00]|LEN |39.098            |33.66013333333333 |[2023-11-05 12:00:00, 2023-11-05 12:05:00]|\n",
      "+------------------------------------------+----+------------------+------------------+------------------------------------------+\n",
      "only showing top 20 rows\n",
      "\n"
     ]
    },
    {
     "name": "stderr",
     "output_type": "stream",
     "text": [
      "                                                                                \r"
     ]
    },
    {
     "name": "stdout",
     "output_type": "stream",
     "text": [
      "+------------------------------------------+----+------------------+------------------+------------------------------------------+\n",
      "|window                                    |name|avg(price)        |previous_price    |previous_window                           |\n",
      "+------------------------------------------+----+------------------+------------------+------------------------------------------+\n",
      "|[2023-11-05 11:20:00, 2023-11-05 11:25:00]|ALXN|164.66            |180.2             |[2023-11-05 11:15:00, 2023-11-05 11:20:00]|\n",
      "|[2023-11-05 11:45:00, 2023-11-05 11:50:00]|ALXN|127.81            |201.66995         |[2023-11-05 11:30:00, 2023-11-05 11:35:00]|\n",
      "|[2023-11-05 11:55:00, 2023-11-05 12:00:00]|ALXN|104.12333333333333|139.99            |[2023-11-05 11:50:00, 2023-11-05 11:55:00]|\n",
      "|[2023-11-05 11:10:00, 2023-11-05 11:15:00]|GIS |49.35666666666666 |50.5207           |[2023-11-05 11:05:00, 2023-11-05 11:10:00]|\n",
      "|[2023-11-05 11:15:00, 2023-11-05 11:20:00]|GIS |48.6              |49.35666666666666 |[2023-11-05 11:10:00, 2023-11-05 11:15:00]|\n",
      "|[2023-11-05 11:50:00, 2023-11-05 11:55:00]|GIS |51.80505          |60.67             |[2023-11-05 11:45:00, 2023-11-05 11:50:00]|\n",
      "|[2023-11-05 12:00:00, 2023-11-05 12:05:00]|GIS |51.05             |53.275000000000006|[2023-11-05 11:55:00, 2023-11-05 12:00:00]|\n",
      "|[2023-11-05 12:05:00, 2023-11-05 12:10:00]|GIS |51.010000000000005|51.05             |[2023-11-05 12:00:00, 2023-11-05 12:05:00]|\n",
      "|[2023-11-05 11:20:00, 2023-11-05 11:25:00]|K   |66.23             |67.63             |[2023-11-05 11:15:00, 2023-11-05 11:20:00]|\n",
      "|[2023-11-05 11:25:00, 2023-11-05 11:30:00]|K   |62.1798           |66.23             |[2023-11-05 11:20:00, 2023-11-05 11:25:00]|\n",
      "|[2023-11-05 11:50:00, 2023-11-05 11:55:00]|K   |71.255            |73.32             |[2023-11-05 11:45:00, 2023-11-05 11:50:00]|\n",
      "|[2023-11-05 11:55:00, 2023-11-05 12:00:00]|K   |66.625            |71.255            |[2023-11-05 11:50:00, 2023-11-05 11:55:00]|\n",
      "|[2023-11-05 12:00:00, 2023-11-05 12:05:00]|K   |61.11             |66.625            |[2023-11-05 11:55:00, 2023-11-05 12:00:00]|\n",
      "|[2023-11-05 11:20:00, 2023-11-05 11:25:00]|LEN |35.5196           |38.958349999999996|[2023-11-05 11:15:00, 2023-11-05 11:20:00]|\n",
      "|[2023-11-05 11:30:00, 2023-11-05 11:35:00]|LEN |49.5392           |49.676500000000004|[2023-11-05 11:25:00, 2023-11-05 11:30:00]|\n",
      "|[2023-11-05 11:35:00, 2023-11-05 11:40:00]|LEN |47.4216           |49.5392           |[2023-11-05 11:30:00, 2023-11-05 11:35:00]|\n",
      "|[2023-11-05 11:40:00, 2023-11-05 11:45:00]|LEN |46.4265           |47.4216           |[2023-11-05 11:35:00, 2023-11-05 11:40:00]|\n",
      "|[2023-11-05 12:00:00, 2023-11-05 12:05:00]|LEN |33.66013333333333 |61.82             |[2023-11-05 11:55:00, 2023-11-05 12:00:00]|\n",
      "|[2023-11-05 11:35:00, 2023-11-05 11:40:00]|SPGI|92.65             |97.46             |[2023-11-05 11:30:00, 2023-11-05 11:35:00]|\n",
      "|[2023-11-05 12:05:00, 2023-11-05 12:10:00]|SPGI|77.875            |154.8399          |[2023-11-05 11:50:00, 2023-11-05 11:55:00]|\n",
      "+------------------------------------------+----+------------------+------------------+------------------------------------------+\n",
      "only showing top 20 rows\n",
      "\n"
     ]
    },
    {
     "name": "stderr",
     "output_type": "stream",
     "text": [
      "                                                                                \r"
     ]
    },
    {
     "name": "stdout",
     "output_type": "stream",
     "text": [
      "+------------------------------------------+----+------------------+------------------+------------------------------------------+\n",
      "|window                                    |name|avg(price)        |previous_price    |previous_window                           |\n",
      "+------------------------------------------+----+------------------+------------------+------------------------------------------+\n",
      "|[2023-11-05 11:15:00, 2023-11-05 11:20:00]|ALXN|180.2             |108.02            |[2023-11-05 11:10:00, 2023-11-05 11:15:00]|\n",
      "|[2023-11-05 11:25:00, 2023-11-05 11:30:00]|ALXN|186.99            |164.66            |[2023-11-05 11:20:00, 2023-11-05 11:25:00]|\n",
      "|[2023-11-05 11:30:00, 2023-11-05 11:35:00]|ALXN|201.66995         |186.99            |[2023-11-05 11:25:00, 2023-11-05 11:30:00]|\n",
      "|[2023-11-05 11:50:00, 2023-11-05 11:55:00]|ALXN|139.99            |127.81            |[2023-11-05 11:45:00, 2023-11-05 11:50:00]|\n",
      "|[2023-11-05 12:00:00, 2023-11-05 12:05:00]|ALXN|116.72            |104.12333333333333|[2023-11-05 11:55:00, 2023-11-05 12:00:00]|\n",
      "|[2023-11-05 12:05:00, 2023-11-05 12:10:00]|ALXN|161.12666666666667|116.72            |[2023-11-05 12:00:00, 2023-11-05 12:05:00]|\n",
      "|[2023-11-05 11:20:00, 2023-11-05 11:25:00]|GIS |50.92             |48.6              |[2023-11-05 11:15:00, 2023-11-05 11:20:00]|\n",
      "|[2023-11-05 11:30:00, 2023-11-05 11:35:00]|GIS |57.61             |50.92             |[2023-11-05 11:20:00, 2023-11-05 11:25:00]|\n",
      "|[2023-11-05 11:45:00, 2023-11-05 11:50:00]|GIS |60.67             |57.61             |[2023-11-05 11:30:00, 2023-11-05 11:35:00]|\n",
      "|[2023-11-05 11:55:00, 2023-11-05 12:00:00]|GIS |53.275000000000006|51.80505          |[2023-11-05 11:50:00, 2023-11-05 11:55:00]|\n",
      "|[2023-11-05 12:10:00, 2023-11-05 12:15:00]|GIS |53.3              |51.010000000000005|[2023-11-05 12:05:00, 2023-11-05 12:10:00]|\n",
      "|[2023-11-05 11:15:00, 2023-11-05 11:20:00]|K   |67.63             |65.865            |[2023-11-05 11:10:00, 2023-11-05 11:15:00]|\n",
      "|[2023-11-05 11:30:00, 2023-11-05 11:35:00]|K   |66.81             |62.1798           |[2023-11-05 11:25:00, 2023-11-05 11:30:00]|\n",
      "|[2023-11-05 11:45:00, 2023-11-05 11:50:00]|K   |73.32             |66.81             |[2023-11-05 11:30:00, 2023-11-05 11:35:00]|\n",
      "|[2023-11-05 12:05:00, 2023-11-05 12:10:00]|K   |64.26             |61.11             |[2023-11-05 12:00:00, 2023-11-05 12:05:00]|\n",
      "|[2023-11-05 11:15:00, 2023-11-05 11:20:00]|LEN |38.958349999999996|33.89705          |[2023-11-05 11:10:00, 2023-11-05 11:15:00]|\n",
      "|[2023-11-05 11:25:00, 2023-11-05 11:30:00]|LEN |49.676500000000004|35.5196           |[2023-11-05 11:20:00, 2023-11-05 11:25:00]|\n",
      "|[2023-11-05 11:45:00, 2023-11-05 11:50:00]|LEN |51.2647           |46.4265           |[2023-11-05 11:40:00, 2023-11-05 11:45:00]|\n",
      "|[2023-11-05 11:55:00, 2023-11-05 12:00:00]|LEN |61.82             |51.2647           |[2023-11-05 11:45:00, 2023-11-05 11:50:00]|\n",
      "|[2023-11-05 12:05:00, 2023-11-05 12:10:00]|LEN |39.098            |33.66013333333333 |[2023-11-05 12:00:00, 2023-11-05 12:05:00]|\n",
      "+------------------------------------------+----+------------------+------------------+------------------------------------------+\n",
      "only showing top 20 rows\n",
      "\n"
     ]
    },
    {
     "name": "stderr",
     "output_type": "stream",
     "text": [
      "                                                                                \r"
     ]
    },
    {
     "name": "stdout",
     "output_type": "stream",
     "text": [
      "+------------------------------------------+----+------------------+------------------+------------------------------------------+\n",
      "|window                                    |name|avg(price)        |previous_price    |previous_window                           |\n",
      "+------------------------------------------+----+------------------+------------------+------------------------------------------+\n",
      "|[2023-11-05 11:20:00, 2023-11-05 11:25:00]|ALXN|164.66            |180.2             |[2023-11-05 11:15:00, 2023-11-05 11:20:00]|\n",
      "|[2023-11-05 11:45:00, 2023-11-05 11:50:00]|ALXN|127.81            |201.66995         |[2023-11-05 11:30:00, 2023-11-05 11:35:00]|\n",
      "|[2023-11-05 11:55:00, 2023-11-05 12:00:00]|ALXN|104.12333333333333|139.99            |[2023-11-05 11:50:00, 2023-11-05 11:55:00]|\n",
      "|[2023-11-05 11:10:00, 2023-11-05 11:15:00]|GIS |49.35666666666666 |50.5207           |[2023-11-05 11:05:00, 2023-11-05 11:10:00]|\n",
      "|[2023-11-05 11:15:00, 2023-11-05 11:20:00]|GIS |48.6              |49.35666666666666 |[2023-11-05 11:10:00, 2023-11-05 11:15:00]|\n",
      "|[2023-11-05 11:50:00, 2023-11-05 11:55:00]|GIS |51.80505          |60.67             |[2023-11-05 11:45:00, 2023-11-05 11:50:00]|\n",
      "|[2023-11-05 12:00:00, 2023-11-05 12:05:00]|GIS |51.05             |53.275000000000006|[2023-11-05 11:55:00, 2023-11-05 12:00:00]|\n",
      "|[2023-11-05 12:05:00, 2023-11-05 12:10:00]|GIS |51.010000000000005|51.05             |[2023-11-05 12:00:00, 2023-11-05 12:05:00]|\n",
      "|[2023-11-05 11:20:00, 2023-11-05 11:25:00]|K   |66.23             |67.63             |[2023-11-05 11:15:00, 2023-11-05 11:20:00]|\n",
      "|[2023-11-05 11:25:00, 2023-11-05 11:30:00]|K   |62.1798           |66.23             |[2023-11-05 11:20:00, 2023-11-05 11:25:00]|\n",
      "|[2023-11-05 11:50:00, 2023-11-05 11:55:00]|K   |71.255            |73.32             |[2023-11-05 11:45:00, 2023-11-05 11:50:00]|\n",
      "|[2023-11-05 11:55:00, 2023-11-05 12:00:00]|K   |66.625            |71.255            |[2023-11-05 11:50:00, 2023-11-05 11:55:00]|\n",
      "|[2023-11-05 12:00:00, 2023-11-05 12:05:00]|K   |61.11             |66.625            |[2023-11-05 11:55:00, 2023-11-05 12:00:00]|\n",
      "|[2023-11-05 11:20:00, 2023-11-05 11:25:00]|LEN |35.5196           |38.958349999999996|[2023-11-05 11:15:00, 2023-11-05 11:20:00]|\n",
      "|[2023-11-05 11:30:00, 2023-11-05 11:35:00]|LEN |49.5392           |49.676500000000004|[2023-11-05 11:25:00, 2023-11-05 11:30:00]|\n",
      "|[2023-11-05 11:35:00, 2023-11-05 11:40:00]|LEN |47.4216           |49.5392           |[2023-11-05 11:30:00, 2023-11-05 11:35:00]|\n",
      "|[2023-11-05 11:40:00, 2023-11-05 11:45:00]|LEN |46.4265           |47.4216           |[2023-11-05 11:35:00, 2023-11-05 11:40:00]|\n",
      "|[2023-11-05 12:00:00, 2023-11-05 12:05:00]|LEN |33.66013333333333 |61.82             |[2023-11-05 11:55:00, 2023-11-05 12:00:00]|\n",
      "|[2023-11-05 11:35:00, 2023-11-05 11:40:00]|SPGI|92.65             |97.46             |[2023-11-05 11:30:00, 2023-11-05 11:35:00]|\n",
      "|[2023-11-05 12:05:00, 2023-11-05 12:10:00]|SPGI|77.875            |154.8399          |[2023-11-05 11:50:00, 2023-11-05 11:55:00]|\n",
      "+------------------------------------------+----+------------------+------------------+------------------------------------------+\n",
      "only showing top 20 rows\n",
      "\n"
     ]
    },
    {
     "name": "stderr",
     "output_type": "stream",
     "text": [
      "                                                                                \r"
     ]
    },
    {
     "name": "stdout",
     "output_type": "stream",
     "text": [
      "+------------------------------------------+----+------------------+------------------+------------------------------------------+\n",
      "|window                                    |name|avg(price)        |previous_price    |previous_window                           |\n",
      "+------------------------------------------+----+------------------+------------------+------------------------------------------+\n",
      "|[2023-11-05 11:15:00, 2023-11-05 11:20:00]|ALXN|180.2             |108.02            |[2023-11-05 11:10:00, 2023-11-05 11:15:00]|\n",
      "|[2023-11-05 11:25:00, 2023-11-05 11:30:00]|ALXN|186.99            |164.66            |[2023-11-05 11:20:00, 2023-11-05 11:25:00]|\n",
      "|[2023-11-05 11:30:00, 2023-11-05 11:35:00]|ALXN|201.66995         |186.99            |[2023-11-05 11:25:00, 2023-11-05 11:30:00]|\n",
      "|[2023-11-05 11:50:00, 2023-11-05 11:55:00]|ALXN|139.99            |127.81            |[2023-11-05 11:45:00, 2023-11-05 11:50:00]|\n",
      "|[2023-11-05 12:00:00, 2023-11-05 12:05:00]|ALXN|116.72            |104.12333333333333|[2023-11-05 11:55:00, 2023-11-05 12:00:00]|\n",
      "|[2023-11-05 12:05:00, 2023-11-05 12:10:00]|ALXN|161.12666666666667|116.72            |[2023-11-05 12:00:00, 2023-11-05 12:05:00]|\n",
      "|[2023-11-05 11:20:00, 2023-11-05 11:25:00]|GIS |50.92             |48.6              |[2023-11-05 11:15:00, 2023-11-05 11:20:00]|\n",
      "|[2023-11-05 11:30:00, 2023-11-05 11:35:00]|GIS |57.61             |50.92             |[2023-11-05 11:20:00, 2023-11-05 11:25:00]|\n",
      "|[2023-11-05 11:45:00, 2023-11-05 11:50:00]|GIS |60.67             |57.61             |[2023-11-05 11:30:00, 2023-11-05 11:35:00]|\n",
      "|[2023-11-05 11:55:00, 2023-11-05 12:00:00]|GIS |53.275000000000006|51.80505          |[2023-11-05 11:50:00, 2023-11-05 11:55:00]|\n",
      "|[2023-11-05 12:10:00, 2023-11-05 12:15:00]|GIS |53.3              |51.010000000000005|[2023-11-05 12:05:00, 2023-11-05 12:10:00]|\n",
      "|[2023-11-05 11:15:00, 2023-11-05 11:20:00]|K   |67.63             |65.865            |[2023-11-05 11:10:00, 2023-11-05 11:15:00]|\n",
      "|[2023-11-05 11:30:00, 2023-11-05 11:35:00]|K   |66.81             |62.1798           |[2023-11-05 11:25:00, 2023-11-05 11:30:00]|\n",
      "|[2023-11-05 11:45:00, 2023-11-05 11:50:00]|K   |73.32             |66.81             |[2023-11-05 11:30:00, 2023-11-05 11:35:00]|\n",
      "|[2023-11-05 12:05:00, 2023-11-05 12:10:00]|K   |64.26             |61.11             |[2023-11-05 12:00:00, 2023-11-05 12:05:00]|\n",
      "|[2023-11-05 11:15:00, 2023-11-05 11:20:00]|LEN |38.958349999999996|33.89705          |[2023-11-05 11:10:00, 2023-11-05 11:15:00]|\n",
      "|[2023-11-05 11:25:00, 2023-11-05 11:30:00]|LEN |49.676500000000004|35.5196           |[2023-11-05 11:20:00, 2023-11-05 11:25:00]|\n",
      "|[2023-11-05 11:45:00, 2023-11-05 11:50:00]|LEN |51.2647           |46.4265           |[2023-11-05 11:40:00, 2023-11-05 11:45:00]|\n",
      "|[2023-11-05 11:55:00, 2023-11-05 12:00:00]|LEN |61.82             |51.2647           |[2023-11-05 11:45:00, 2023-11-05 11:50:00]|\n",
      "|[2023-11-05 12:05:00, 2023-11-05 12:10:00]|LEN |39.098            |33.66013333333333 |[2023-11-05 12:00:00, 2023-11-05 12:05:00]|\n",
      "+------------------------------------------+----+------------------+------------------+------------------------------------------+\n",
      "only showing top 20 rows\n",
      "\n"
     ]
    },
    {
     "name": "stderr",
     "output_type": "stream",
     "text": [
      "                                                                                \r"
     ]
    },
    {
     "name": "stdout",
     "output_type": "stream",
     "text": [
      "+------------------------------------------+----+------------------+------------------+------------------------------------------+\n",
      "|window                                    |name|avg(price)        |previous_price    |previous_window                           |\n",
      "+------------------------------------------+----+------------------+------------------+------------------------------------------+\n",
      "|[2023-11-05 11:20:00, 2023-11-05 11:25:00]|ALXN|164.66            |180.2             |[2023-11-05 11:15:00, 2023-11-05 11:20:00]|\n",
      "|[2023-11-05 11:45:00, 2023-11-05 11:50:00]|ALXN|127.81            |201.66995         |[2023-11-05 11:30:00, 2023-11-05 11:35:00]|\n",
      "|[2023-11-05 11:55:00, 2023-11-05 12:00:00]|ALXN|104.12333333333333|139.99            |[2023-11-05 11:50:00, 2023-11-05 11:55:00]|\n",
      "|[2023-11-05 11:10:00, 2023-11-05 11:15:00]|GIS |49.35666666666666 |50.5207           |[2023-11-05 11:05:00, 2023-11-05 11:10:00]|\n",
      "|[2023-11-05 11:15:00, 2023-11-05 11:20:00]|GIS |48.6              |49.35666666666666 |[2023-11-05 11:10:00, 2023-11-05 11:15:00]|\n",
      "|[2023-11-05 11:50:00, 2023-11-05 11:55:00]|GIS |51.80505          |60.67             |[2023-11-05 11:45:00, 2023-11-05 11:50:00]|\n",
      "|[2023-11-05 12:00:00, 2023-11-05 12:05:00]|GIS |51.05             |53.275000000000006|[2023-11-05 11:55:00, 2023-11-05 12:00:00]|\n",
      "|[2023-11-05 12:05:00, 2023-11-05 12:10:00]|GIS |51.010000000000005|51.05             |[2023-11-05 12:00:00, 2023-11-05 12:05:00]|\n",
      "|[2023-11-05 11:20:00, 2023-11-05 11:25:00]|K   |66.23             |67.63             |[2023-11-05 11:15:00, 2023-11-05 11:20:00]|\n",
      "|[2023-11-05 11:25:00, 2023-11-05 11:30:00]|K   |62.1798           |66.23             |[2023-11-05 11:20:00, 2023-11-05 11:25:00]|\n",
      "|[2023-11-05 11:50:00, 2023-11-05 11:55:00]|K   |71.255            |73.32             |[2023-11-05 11:45:00, 2023-11-05 11:50:00]|\n",
      "|[2023-11-05 11:55:00, 2023-11-05 12:00:00]|K   |66.625            |71.255            |[2023-11-05 11:50:00, 2023-11-05 11:55:00]|\n",
      "|[2023-11-05 12:00:00, 2023-11-05 12:05:00]|K   |61.11             |66.625            |[2023-11-05 11:55:00, 2023-11-05 12:00:00]|\n",
      "|[2023-11-05 11:20:00, 2023-11-05 11:25:00]|LEN |35.5196           |38.958349999999996|[2023-11-05 11:15:00, 2023-11-05 11:20:00]|\n",
      "|[2023-11-05 11:30:00, 2023-11-05 11:35:00]|LEN |49.5392           |49.676500000000004|[2023-11-05 11:25:00, 2023-11-05 11:30:00]|\n",
      "|[2023-11-05 11:35:00, 2023-11-05 11:40:00]|LEN |47.4216           |49.5392           |[2023-11-05 11:30:00, 2023-11-05 11:35:00]|\n",
      "|[2023-11-05 11:40:00, 2023-11-05 11:45:00]|LEN |46.4265           |47.4216           |[2023-11-05 11:35:00, 2023-11-05 11:40:00]|\n",
      "|[2023-11-05 12:00:00, 2023-11-05 12:05:00]|LEN |33.66013333333333 |61.82             |[2023-11-05 11:55:00, 2023-11-05 12:00:00]|\n",
      "|[2023-11-05 11:35:00, 2023-11-05 11:40:00]|SPGI|92.65             |97.46             |[2023-11-05 11:30:00, 2023-11-05 11:35:00]|\n",
      "|[2023-11-05 12:05:00, 2023-11-05 12:10:00]|SPGI|77.875            |154.8399          |[2023-11-05 11:50:00, 2023-11-05 11:55:00]|\n",
      "+------------------------------------------+----+------------------+------------------+------------------------------------------+\n",
      "only showing top 20 rows\n",
      "\n"
     ]
    },
    {
     "name": "stderr",
     "output_type": "stream",
     "text": [
      "                                                                                \r"
     ]
    },
    {
     "name": "stdout",
     "output_type": "stream",
     "text": [
      "+------------------------------------------+----+------------------+------------------+------------------------------------------+\n",
      "|window                                    |name|avg(price)        |previous_price    |previous_window                           |\n",
      "+------------------------------------------+----+------------------+------------------+------------------------------------------+\n",
      "|[2023-11-05 11:15:00, 2023-11-05 11:20:00]|ALXN|180.2             |108.02            |[2023-11-05 11:10:00, 2023-11-05 11:15:00]|\n",
      "|[2023-11-05 11:25:00, 2023-11-05 11:30:00]|ALXN|186.99            |164.66            |[2023-11-05 11:20:00, 2023-11-05 11:25:00]|\n",
      "|[2023-11-05 11:30:00, 2023-11-05 11:35:00]|ALXN|201.66995         |186.99            |[2023-11-05 11:25:00, 2023-11-05 11:30:00]|\n",
      "|[2023-11-05 11:50:00, 2023-11-05 11:55:00]|ALXN|139.99            |127.81            |[2023-11-05 11:45:00, 2023-11-05 11:50:00]|\n",
      "|[2023-11-05 12:00:00, 2023-11-05 12:05:00]|ALXN|116.72            |104.12333333333333|[2023-11-05 11:55:00, 2023-11-05 12:00:00]|\n",
      "|[2023-11-05 12:05:00, 2023-11-05 12:10:00]|ALXN|161.12666666666667|116.72            |[2023-11-05 12:00:00, 2023-11-05 12:05:00]|\n",
      "|[2023-11-05 11:20:00, 2023-11-05 11:25:00]|GIS |50.92             |48.6              |[2023-11-05 11:15:00, 2023-11-05 11:20:00]|\n",
      "|[2023-11-05 11:30:00, 2023-11-05 11:35:00]|GIS |57.61             |50.92             |[2023-11-05 11:20:00, 2023-11-05 11:25:00]|\n",
      "|[2023-11-05 11:45:00, 2023-11-05 11:50:00]|GIS |60.67             |57.61             |[2023-11-05 11:30:00, 2023-11-05 11:35:00]|\n",
      "|[2023-11-05 11:55:00, 2023-11-05 12:00:00]|GIS |53.275000000000006|51.80505          |[2023-11-05 11:50:00, 2023-11-05 11:55:00]|\n",
      "|[2023-11-05 12:10:00, 2023-11-05 12:15:00]|GIS |53.3              |51.010000000000005|[2023-11-05 12:05:00, 2023-11-05 12:10:00]|\n",
      "|[2023-11-05 11:15:00, 2023-11-05 11:20:00]|K   |67.63             |65.865            |[2023-11-05 11:10:00, 2023-11-05 11:15:00]|\n",
      "|[2023-11-05 11:30:00, 2023-11-05 11:35:00]|K   |66.81             |62.1798           |[2023-11-05 11:25:00, 2023-11-05 11:30:00]|\n",
      "|[2023-11-05 11:45:00, 2023-11-05 11:50:00]|K   |73.32             |66.81             |[2023-11-05 11:30:00, 2023-11-05 11:35:00]|\n",
      "|[2023-11-05 12:05:00, 2023-11-05 12:10:00]|K   |64.26             |61.11             |[2023-11-05 12:00:00, 2023-11-05 12:05:00]|\n",
      "|[2023-11-05 11:15:00, 2023-11-05 11:20:00]|LEN |38.958349999999996|33.89705          |[2023-11-05 11:10:00, 2023-11-05 11:15:00]|\n",
      "|[2023-11-05 11:25:00, 2023-11-05 11:30:00]|LEN |49.676500000000004|35.5196           |[2023-11-05 11:20:00, 2023-11-05 11:25:00]|\n",
      "|[2023-11-05 11:45:00, 2023-11-05 11:50:00]|LEN |51.2647           |46.4265           |[2023-11-05 11:40:00, 2023-11-05 11:45:00]|\n",
      "|[2023-11-05 11:55:00, 2023-11-05 12:00:00]|LEN |61.82             |51.2647           |[2023-11-05 11:45:00, 2023-11-05 11:50:00]|\n",
      "|[2023-11-05 12:05:00, 2023-11-05 12:10:00]|LEN |39.098            |33.66013333333333 |[2023-11-05 12:00:00, 2023-11-05 12:05:00]|\n",
      "+------------------------------------------+----+------------------+------------------+------------------------------------------+\n",
      "only showing top 20 rows\n",
      "\n"
     ]
    },
    {
     "name": "stderr",
     "output_type": "stream",
     "text": [
      "                                                                                \r"
     ]
    },
    {
     "name": "stdout",
     "output_type": "stream",
     "text": [
      "+------------------------------------------+----+------------------+------------------+------------------------------------------+\n",
      "|window                                    |name|avg(price)        |previous_price    |previous_window                           |\n",
      "+------------------------------------------+----+------------------+------------------+------------------------------------------+\n",
      "|[2023-11-05 11:20:00, 2023-11-05 11:25:00]|ALXN|164.66            |180.2             |[2023-11-05 11:15:00, 2023-11-05 11:20:00]|\n",
      "|[2023-11-05 11:45:00, 2023-11-05 11:50:00]|ALXN|127.81            |201.66995         |[2023-11-05 11:30:00, 2023-11-05 11:35:00]|\n",
      "|[2023-11-05 11:55:00, 2023-11-05 12:00:00]|ALXN|104.12333333333333|139.99            |[2023-11-05 11:50:00, 2023-11-05 11:55:00]|\n",
      "|[2023-11-05 11:10:00, 2023-11-05 11:15:00]|GIS |49.35666666666666 |50.5207           |[2023-11-05 11:05:00, 2023-11-05 11:10:00]|\n",
      "|[2023-11-05 11:15:00, 2023-11-05 11:20:00]|GIS |48.6              |49.35666666666666 |[2023-11-05 11:10:00, 2023-11-05 11:15:00]|\n",
      "|[2023-11-05 11:50:00, 2023-11-05 11:55:00]|GIS |51.80505          |60.67             |[2023-11-05 11:45:00, 2023-11-05 11:50:00]|\n",
      "|[2023-11-05 12:00:00, 2023-11-05 12:05:00]|GIS |51.05             |53.275000000000006|[2023-11-05 11:55:00, 2023-11-05 12:00:00]|\n",
      "|[2023-11-05 12:05:00, 2023-11-05 12:10:00]|GIS |51.010000000000005|51.05             |[2023-11-05 12:00:00, 2023-11-05 12:05:00]|\n",
      "|[2023-11-05 12:15:00, 2023-11-05 12:20:00]|GIS |52.66             |53.3              |[2023-11-05 12:10:00, 2023-11-05 12:15:00]|\n",
      "|[2023-11-05 11:20:00, 2023-11-05 11:25:00]|K   |66.23             |67.63             |[2023-11-05 11:15:00, 2023-11-05 11:20:00]|\n",
      "|[2023-11-05 11:25:00, 2023-11-05 11:30:00]|K   |62.1798           |66.23             |[2023-11-05 11:20:00, 2023-11-05 11:25:00]|\n",
      "|[2023-11-05 11:50:00, 2023-11-05 11:55:00]|K   |71.255            |73.32             |[2023-11-05 11:45:00, 2023-11-05 11:50:00]|\n",
      "|[2023-11-05 11:55:00, 2023-11-05 12:00:00]|K   |66.625            |71.255            |[2023-11-05 11:50:00, 2023-11-05 11:55:00]|\n",
      "|[2023-11-05 12:00:00, 2023-11-05 12:05:00]|K   |61.11             |66.625            |[2023-11-05 11:55:00, 2023-11-05 12:00:00]|\n",
      "|[2023-11-05 11:20:00, 2023-11-05 11:25:00]|LEN |35.5196           |38.958349999999996|[2023-11-05 11:15:00, 2023-11-05 11:20:00]|\n",
      "|[2023-11-05 11:30:00, 2023-11-05 11:35:00]|LEN |49.5392           |49.676500000000004|[2023-11-05 11:25:00, 2023-11-05 11:30:00]|\n",
      "|[2023-11-05 11:35:00, 2023-11-05 11:40:00]|LEN |47.4216           |49.5392           |[2023-11-05 11:30:00, 2023-11-05 11:35:00]|\n",
      "|[2023-11-05 11:40:00, 2023-11-05 11:45:00]|LEN |46.4265           |47.4216           |[2023-11-05 11:35:00, 2023-11-05 11:40:00]|\n",
      "|[2023-11-05 12:00:00, 2023-11-05 12:05:00]|LEN |33.66013333333333 |61.82             |[2023-11-05 11:55:00, 2023-11-05 12:00:00]|\n",
      "|[2023-11-05 11:35:00, 2023-11-05 11:40:00]|SPGI|92.65             |97.46             |[2023-11-05 11:30:00, 2023-11-05 11:35:00]|\n",
      "+------------------------------------------+----+------------------+------------------+------------------------------------------+\n",
      "only showing top 20 rows\n",
      "\n"
     ]
    },
    {
     "name": "stderr",
     "output_type": "stream",
     "text": [
      "                                                                                \r"
     ]
    },
    {
     "name": "stdout",
     "output_type": "stream",
     "text": [
      "+------------------------------------------+----+------------------+------------------+------------------------------------------+\n",
      "|window                                    |name|avg(price)        |previous_price    |previous_window                           |\n",
      "+------------------------------------------+----+------------------+------------------+------------------------------------------+\n",
      "|[2023-11-05 11:15:00, 2023-11-05 11:20:00]|ALXN|180.2             |108.02            |[2023-11-05 11:10:00, 2023-11-05 11:15:00]|\n",
      "|[2023-11-05 11:25:00, 2023-11-05 11:30:00]|ALXN|186.99            |164.66            |[2023-11-05 11:20:00, 2023-11-05 11:25:00]|\n",
      "|[2023-11-05 11:30:00, 2023-11-05 11:35:00]|ALXN|201.66995         |186.99            |[2023-11-05 11:25:00, 2023-11-05 11:30:00]|\n",
      "|[2023-11-05 11:50:00, 2023-11-05 11:55:00]|ALXN|139.99            |127.81            |[2023-11-05 11:45:00, 2023-11-05 11:50:00]|\n",
      "|[2023-11-05 12:00:00, 2023-11-05 12:05:00]|ALXN|116.72            |104.12333333333333|[2023-11-05 11:55:00, 2023-11-05 12:00:00]|\n",
      "|[2023-11-05 12:05:00, 2023-11-05 12:10:00]|ALXN|161.12666666666667|116.72            |[2023-11-05 12:00:00, 2023-11-05 12:05:00]|\n",
      "|[2023-11-05 11:20:00, 2023-11-05 11:25:00]|GIS |50.92             |48.6              |[2023-11-05 11:15:00, 2023-11-05 11:20:00]|\n",
      "|[2023-11-05 11:30:00, 2023-11-05 11:35:00]|GIS |57.61             |50.92             |[2023-11-05 11:20:00, 2023-11-05 11:25:00]|\n",
      "|[2023-11-05 11:45:00, 2023-11-05 11:50:00]|GIS |60.67             |57.61             |[2023-11-05 11:30:00, 2023-11-05 11:35:00]|\n",
      "|[2023-11-05 11:55:00, 2023-11-05 12:00:00]|GIS |53.275000000000006|51.80505          |[2023-11-05 11:50:00, 2023-11-05 11:55:00]|\n",
      "|[2023-11-05 12:10:00, 2023-11-05 12:15:00]|GIS |53.3              |51.010000000000005|[2023-11-05 12:05:00, 2023-11-05 12:10:00]|\n",
      "|[2023-11-05 11:15:00, 2023-11-05 11:20:00]|K   |67.63             |65.865            |[2023-11-05 11:10:00, 2023-11-05 11:15:00]|\n",
      "|[2023-11-05 11:30:00, 2023-11-05 11:35:00]|K   |66.81             |62.1798           |[2023-11-05 11:25:00, 2023-11-05 11:30:00]|\n",
      "|[2023-11-05 11:45:00, 2023-11-05 11:50:00]|K   |73.32             |66.81             |[2023-11-05 11:30:00, 2023-11-05 11:35:00]|\n",
      "|[2023-11-05 12:05:00, 2023-11-05 12:10:00]|K   |64.26             |61.11             |[2023-11-05 12:00:00, 2023-11-05 12:05:00]|\n",
      "|[2023-11-05 11:15:00, 2023-11-05 11:20:00]|LEN |38.958349999999996|33.89705          |[2023-11-05 11:10:00, 2023-11-05 11:15:00]|\n",
      "|[2023-11-05 11:25:00, 2023-11-05 11:30:00]|LEN |49.676500000000004|35.5196           |[2023-11-05 11:20:00, 2023-11-05 11:25:00]|\n",
      "|[2023-11-05 11:45:00, 2023-11-05 11:50:00]|LEN |51.2647           |46.4265           |[2023-11-05 11:40:00, 2023-11-05 11:45:00]|\n",
      "|[2023-11-05 11:55:00, 2023-11-05 12:00:00]|LEN |61.82             |51.2647           |[2023-11-05 11:45:00, 2023-11-05 11:50:00]|\n",
      "|[2023-11-05 12:05:00, 2023-11-05 12:10:00]|LEN |39.098            |33.66013333333333 |[2023-11-05 12:00:00, 2023-11-05 12:05:00]|\n",
      "+------------------------------------------+----+------------------+------------------+------------------------------------------+\n",
      "only showing top 20 rows\n",
      "\n"
     ]
    },
    {
     "name": "stderr",
     "output_type": "stream",
     "text": [
      "                                                                                \r"
     ]
    },
    {
     "name": "stdout",
     "output_type": "stream",
     "text": [
      "+------------------------------------------+----+------------------+------------------+------------------------------------------+\n",
      "|window                                    |name|avg(price)        |previous_price    |previous_window                           |\n",
      "+------------------------------------------+----+------------------+------------------+------------------------------------------+\n",
      "|[2023-11-05 11:20:00, 2023-11-05 11:25:00]|ALXN|164.66            |180.2             |[2023-11-05 11:15:00, 2023-11-05 11:20:00]|\n",
      "|[2023-11-05 11:45:00, 2023-11-05 11:50:00]|ALXN|127.81            |201.66995         |[2023-11-05 11:30:00, 2023-11-05 11:35:00]|\n",
      "|[2023-11-05 11:55:00, 2023-11-05 12:00:00]|ALXN|104.12333333333333|139.99            |[2023-11-05 11:50:00, 2023-11-05 11:55:00]|\n",
      "|[2023-11-05 11:10:00, 2023-11-05 11:15:00]|GIS |49.35666666666666 |50.5207           |[2023-11-05 11:05:00, 2023-11-05 11:10:00]|\n",
      "|[2023-11-05 11:15:00, 2023-11-05 11:20:00]|GIS |48.6              |49.35666666666666 |[2023-11-05 11:10:00, 2023-11-05 11:15:00]|\n",
      "|[2023-11-05 11:50:00, 2023-11-05 11:55:00]|GIS |51.80505          |60.67             |[2023-11-05 11:45:00, 2023-11-05 11:50:00]|\n",
      "|[2023-11-05 12:00:00, 2023-11-05 12:05:00]|GIS |51.05             |53.275000000000006|[2023-11-05 11:55:00, 2023-11-05 12:00:00]|\n",
      "|[2023-11-05 12:05:00, 2023-11-05 12:10:00]|GIS |51.010000000000005|51.05             |[2023-11-05 12:00:00, 2023-11-05 12:05:00]|\n",
      "|[2023-11-05 12:15:00, 2023-11-05 12:20:00]|GIS |52.66             |53.3              |[2023-11-05 12:10:00, 2023-11-05 12:15:00]|\n",
      "|[2023-11-05 11:20:00, 2023-11-05 11:25:00]|K   |66.23             |67.63             |[2023-11-05 11:15:00, 2023-11-05 11:20:00]|\n",
      "|[2023-11-05 11:25:00, 2023-11-05 11:30:00]|K   |62.1798           |66.23             |[2023-11-05 11:20:00, 2023-11-05 11:25:00]|\n",
      "|[2023-11-05 11:50:00, 2023-11-05 11:55:00]|K   |71.255            |73.32             |[2023-11-05 11:45:00, 2023-11-05 11:50:00]|\n",
      "|[2023-11-05 11:55:00, 2023-11-05 12:00:00]|K   |66.625            |71.255            |[2023-11-05 11:50:00, 2023-11-05 11:55:00]|\n",
      "|[2023-11-05 12:00:00, 2023-11-05 12:05:00]|K   |61.11             |66.625            |[2023-11-05 11:55:00, 2023-11-05 12:00:00]|\n",
      "|[2023-11-05 11:20:00, 2023-11-05 11:25:00]|LEN |35.5196           |38.958349999999996|[2023-11-05 11:15:00, 2023-11-05 11:20:00]|\n",
      "|[2023-11-05 11:30:00, 2023-11-05 11:35:00]|LEN |49.5392           |49.676500000000004|[2023-11-05 11:25:00, 2023-11-05 11:30:00]|\n",
      "|[2023-11-05 11:35:00, 2023-11-05 11:40:00]|LEN |47.4216           |49.5392           |[2023-11-05 11:30:00, 2023-11-05 11:35:00]|\n",
      "|[2023-11-05 11:40:00, 2023-11-05 11:45:00]|LEN |46.4265           |47.4216           |[2023-11-05 11:35:00, 2023-11-05 11:40:00]|\n",
      "|[2023-11-05 12:00:00, 2023-11-05 12:05:00]|LEN |33.66013333333333 |61.82             |[2023-11-05 11:55:00, 2023-11-05 12:00:00]|\n",
      "|[2023-11-05 11:35:00, 2023-11-05 11:40:00]|SPGI|92.65             |97.46             |[2023-11-05 11:30:00, 2023-11-05 11:35:00]|\n",
      "+------------------------------------------+----+------------------+------------------+------------------------------------------+\n",
      "only showing top 20 rows\n",
      "\n"
     ]
    },
    {
     "name": "stderr",
     "output_type": "stream",
     "text": [
      "[Stage 3164:> (0 + 0) / 1][Stage 3168:(0 + 0) / 200][Stage 3171:> (0 + 0) / 1]1]\r"
     ]
    },
    {
     "name": "stdout",
     "output_type": "stream",
     "text": [
      "+------------------------------------------+----+------------------+------------------+------------------------------------------+\n",
      "|window                                    |name|avg(price)        |previous_price    |previous_window                           |\n",
      "+------------------------------------------+----+------------------+------------------+------------------------------------------+\n",
      "|[2023-11-05 11:15:00, 2023-11-05 11:20:00]|ALXN|180.2             |108.02            |[2023-11-05 11:10:00, 2023-11-05 11:15:00]|\n",
      "|[2023-11-05 11:25:00, 2023-11-05 11:30:00]|ALXN|186.99            |164.66            |[2023-11-05 11:20:00, 2023-11-05 11:25:00]|\n",
      "|[2023-11-05 11:30:00, 2023-11-05 11:35:00]|ALXN|201.66995         |186.99            |[2023-11-05 11:25:00, 2023-11-05 11:30:00]|\n",
      "|[2023-11-05 11:50:00, 2023-11-05 11:55:00]|ALXN|139.99            |127.81            |[2023-11-05 11:45:00, 2023-11-05 11:50:00]|\n",
      "|[2023-11-05 12:00:00, 2023-11-05 12:05:00]|ALXN|116.72            |104.12333333333333|[2023-11-05 11:55:00, 2023-11-05 12:00:00]|\n",
      "|[2023-11-05 12:05:00, 2023-11-05 12:10:00]|ALXN|161.12666666666667|116.72            |[2023-11-05 12:00:00, 2023-11-05 12:05:00]|\n",
      "|[2023-11-05 11:20:00, 2023-11-05 11:25:00]|GIS |50.92             |48.6              |[2023-11-05 11:15:00, 2023-11-05 11:20:00]|\n",
      "|[2023-11-05 11:30:00, 2023-11-05 11:35:00]|GIS |57.61             |50.92             |[2023-11-05 11:20:00, 2023-11-05 11:25:00]|\n",
      "|[2023-11-05 11:45:00, 2023-11-05 11:50:00]|GIS |60.67             |57.61             |[2023-11-05 11:30:00, 2023-11-05 11:35:00]|\n",
      "|[2023-11-05 11:55:00, 2023-11-05 12:00:00]|GIS |53.275000000000006|51.80505          |[2023-11-05 11:50:00, 2023-11-05 11:55:00]|\n",
      "|[2023-11-05 12:10:00, 2023-11-05 12:15:00]|GIS |53.3              |51.010000000000005|[2023-11-05 12:05:00, 2023-11-05 12:10:00]|\n",
      "|[2023-11-05 11:15:00, 2023-11-05 11:20:00]|K   |67.63             |65.865            |[2023-11-05 11:10:00, 2023-11-05 11:15:00]|\n",
      "|[2023-11-05 11:30:00, 2023-11-05 11:35:00]|K   |66.81             |62.1798           |[2023-11-05 11:25:00, 2023-11-05 11:30:00]|\n",
      "|[2023-11-05 11:45:00, 2023-11-05 11:50:00]|K   |73.32             |66.81             |[2023-11-05 11:30:00, 2023-11-05 11:35:00]|\n",
      "|[2023-11-05 12:05:00, 2023-11-05 12:10:00]|K   |64.26             |61.11             |[2023-11-05 12:00:00, 2023-11-05 12:05:00]|\n",
      "|[2023-11-05 11:15:00, 2023-11-05 11:20:00]|LEN |38.958349999999996|33.89705          |[2023-11-05 11:10:00, 2023-11-05 11:15:00]|\n",
      "|[2023-11-05 11:25:00, 2023-11-05 11:30:00]|LEN |49.676500000000004|35.5196           |[2023-11-05 11:20:00, 2023-11-05 11:25:00]|\n",
      "|[2023-11-05 11:45:00, 2023-11-05 11:50:00]|LEN |51.2647           |46.4265           |[2023-11-05 11:40:00, 2023-11-05 11:45:00]|\n",
      "|[2023-11-05 11:55:00, 2023-11-05 12:00:00]|LEN |61.82             |51.2647           |[2023-11-05 11:45:00, 2023-11-05 11:50:00]|\n",
      "|[2023-11-05 12:05:00, 2023-11-05 12:10:00]|LEN |39.098            |33.66013333333333 |[2023-11-05 12:00:00, 2023-11-05 12:05:00]|\n",
      "+------------------------------------------+----+------------------+------------------+------------------------------------------+\n",
      "only showing top 20 rows\n",
      "\n"
     ]
    },
    {
     "name": "stderr",
     "output_type": "stream",
     "text": [
      "                                                                                \r"
     ]
    },
    {
     "name": "stdout",
     "output_type": "stream",
     "text": [
      "+------------------------------------------+----+------------------+------------------+------------------------------------------+\n",
      "|window                                    |name|avg(price)        |previous_price    |previous_window                           |\n",
      "+------------------------------------------+----+------------------+------------------+------------------------------------------+\n",
      "|[2023-11-05 11:20:00, 2023-11-05 11:25:00]|ALXN|164.66            |180.2             |[2023-11-05 11:15:00, 2023-11-05 11:20:00]|\n",
      "|[2023-11-05 11:45:00, 2023-11-05 11:50:00]|ALXN|127.81            |201.66995         |[2023-11-05 11:30:00, 2023-11-05 11:35:00]|\n",
      "|[2023-11-05 11:55:00, 2023-11-05 12:00:00]|ALXN|104.12333333333333|139.99            |[2023-11-05 11:50:00, 2023-11-05 11:55:00]|\n",
      "|[2023-11-05 11:10:00, 2023-11-05 11:15:00]|GIS |49.35666666666666 |50.5207           |[2023-11-05 11:05:00, 2023-11-05 11:10:00]|\n",
      "|[2023-11-05 11:15:00, 2023-11-05 11:20:00]|GIS |48.6              |49.35666666666666 |[2023-11-05 11:10:00, 2023-11-05 11:15:00]|\n",
      "|[2023-11-05 11:50:00, 2023-11-05 11:55:00]|GIS |51.80505          |60.67             |[2023-11-05 11:45:00, 2023-11-05 11:50:00]|\n",
      "|[2023-11-05 12:00:00, 2023-11-05 12:05:00]|GIS |51.05             |53.275000000000006|[2023-11-05 11:55:00, 2023-11-05 12:00:00]|\n",
      "|[2023-11-05 12:05:00, 2023-11-05 12:10:00]|GIS |51.010000000000005|51.05             |[2023-11-05 12:00:00, 2023-11-05 12:05:00]|\n",
      "|[2023-11-05 12:15:00, 2023-11-05 12:20:00]|GIS |52.66             |53.3              |[2023-11-05 12:10:00, 2023-11-05 12:15:00]|\n",
      "|[2023-11-05 11:20:00, 2023-11-05 11:25:00]|K   |66.23             |67.63             |[2023-11-05 11:15:00, 2023-11-05 11:20:00]|\n",
      "|[2023-11-05 11:25:00, 2023-11-05 11:30:00]|K   |62.1798           |66.23             |[2023-11-05 11:20:00, 2023-11-05 11:25:00]|\n",
      "|[2023-11-05 11:50:00, 2023-11-05 11:55:00]|K   |71.255            |73.32             |[2023-11-05 11:45:00, 2023-11-05 11:50:00]|\n",
      "|[2023-11-05 11:55:00, 2023-11-05 12:00:00]|K   |66.625            |71.255            |[2023-11-05 11:50:00, 2023-11-05 11:55:00]|\n",
      "|[2023-11-05 12:00:00, 2023-11-05 12:05:00]|K   |61.11             |66.625            |[2023-11-05 11:55:00, 2023-11-05 12:00:00]|\n",
      "|[2023-11-05 11:20:00, 2023-11-05 11:25:00]|LEN |35.5196           |38.958349999999996|[2023-11-05 11:15:00, 2023-11-05 11:20:00]|\n",
      "|[2023-11-05 11:30:00, 2023-11-05 11:35:00]|LEN |49.5392           |49.676500000000004|[2023-11-05 11:25:00, 2023-11-05 11:30:00]|\n",
      "|[2023-11-05 11:35:00, 2023-11-05 11:40:00]|LEN |47.4216           |49.5392           |[2023-11-05 11:30:00, 2023-11-05 11:35:00]|\n",
      "|[2023-11-05 11:40:00, 2023-11-05 11:45:00]|LEN |46.4265           |47.4216           |[2023-11-05 11:35:00, 2023-11-05 11:40:00]|\n",
      "|[2023-11-05 12:00:00, 2023-11-05 12:05:00]|LEN |33.66013333333333 |61.82             |[2023-11-05 11:55:00, 2023-11-05 12:00:00]|\n",
      "|[2023-11-05 11:35:00, 2023-11-05 11:40:00]|SPGI|92.65             |97.46             |[2023-11-05 11:30:00, 2023-11-05 11:35:00]|\n",
      "+------------------------------------------+----+------------------+------------------+------------------------------------------+\n",
      "only showing top 20 rows\n",
      "\n"
     ]
    },
    {
     "name": "stderr",
     "output_type": "stream",
     "text": [
      "                                                                                \r"
     ]
    },
    {
     "name": "stdout",
     "output_type": "stream",
     "text": [
      "+------------------------------------------+----+------------------+------------------+------------------------------------------+\n",
      "|window                                    |name|avg(price)        |previous_price    |previous_window                           |\n",
      "+------------------------------------------+----+------------------+------------------+------------------------------------------+\n",
      "|[2023-11-05 11:15:00, 2023-11-05 11:20:00]|ALXN|180.2             |108.02            |[2023-11-05 11:10:00, 2023-11-05 11:15:00]|\n",
      "|[2023-11-05 11:25:00, 2023-11-05 11:30:00]|ALXN|186.99            |164.66            |[2023-11-05 11:20:00, 2023-11-05 11:25:00]|\n",
      "|[2023-11-05 11:30:00, 2023-11-05 11:35:00]|ALXN|201.66995         |186.99            |[2023-11-05 11:25:00, 2023-11-05 11:30:00]|\n",
      "|[2023-11-05 11:50:00, 2023-11-05 11:55:00]|ALXN|139.99            |127.81            |[2023-11-05 11:45:00, 2023-11-05 11:50:00]|\n",
      "|[2023-11-05 12:00:00, 2023-11-05 12:05:00]|ALXN|116.72            |104.12333333333333|[2023-11-05 11:55:00, 2023-11-05 12:00:00]|\n",
      "|[2023-11-05 12:05:00, 2023-11-05 12:10:00]|ALXN|161.12666666666667|116.72            |[2023-11-05 12:00:00, 2023-11-05 12:05:00]|\n",
      "|[2023-11-05 11:20:00, 2023-11-05 11:25:00]|GIS |50.92             |48.6              |[2023-11-05 11:15:00, 2023-11-05 11:20:00]|\n",
      "|[2023-11-05 11:30:00, 2023-11-05 11:35:00]|GIS |57.61             |50.92             |[2023-11-05 11:20:00, 2023-11-05 11:25:00]|\n",
      "|[2023-11-05 11:45:00, 2023-11-05 11:50:00]|GIS |60.67             |57.61             |[2023-11-05 11:30:00, 2023-11-05 11:35:00]|\n",
      "|[2023-11-05 11:55:00, 2023-11-05 12:00:00]|GIS |53.275000000000006|51.80505          |[2023-11-05 11:50:00, 2023-11-05 11:55:00]|\n",
      "|[2023-11-05 12:10:00, 2023-11-05 12:15:00]|GIS |53.3              |51.010000000000005|[2023-11-05 12:05:00, 2023-11-05 12:10:00]|\n",
      "|[2023-11-05 11:15:00, 2023-11-05 11:20:00]|K   |67.63             |65.865            |[2023-11-05 11:10:00, 2023-11-05 11:15:00]|\n",
      "|[2023-11-05 11:30:00, 2023-11-05 11:35:00]|K   |66.81             |62.1798           |[2023-11-05 11:25:00, 2023-11-05 11:30:00]|\n",
      "|[2023-11-05 11:45:00, 2023-11-05 11:50:00]|K   |73.32             |66.81             |[2023-11-05 11:30:00, 2023-11-05 11:35:00]|\n",
      "|[2023-11-05 12:05:00, 2023-11-05 12:10:00]|K   |64.26             |61.11             |[2023-11-05 12:00:00, 2023-11-05 12:05:00]|\n",
      "|[2023-11-05 12:15:00, 2023-11-05 12:20:00]|K   |66.89             |64.26             |[2023-11-05 12:05:00, 2023-11-05 12:10:00]|\n",
      "|[2023-11-05 11:15:00, 2023-11-05 11:20:00]|LEN |38.958349999999996|33.89705          |[2023-11-05 11:10:00, 2023-11-05 11:15:00]|\n",
      "|[2023-11-05 11:25:00, 2023-11-05 11:30:00]|LEN |49.676500000000004|35.5196           |[2023-11-05 11:20:00, 2023-11-05 11:25:00]|\n",
      "|[2023-11-05 11:45:00, 2023-11-05 11:50:00]|LEN |51.2647           |46.4265           |[2023-11-05 11:40:00, 2023-11-05 11:45:00]|\n",
      "|[2023-11-05 11:55:00, 2023-11-05 12:00:00]|LEN |61.82             |51.2647           |[2023-11-05 11:45:00, 2023-11-05 11:50:00]|\n",
      "+------------------------------------------+----+------------------+------------------+------------------------------------------+\n",
      "only showing top 20 rows\n",
      "\n"
     ]
    },
    {
     "name": "stderr",
     "output_type": "stream",
     "text": [
      "                                                                                \r"
     ]
    },
    {
     "name": "stdout",
     "output_type": "stream",
     "text": [
      "+------------------------------------------+----+------------------+------------------+------------------------------------------+\n",
      "|window                                    |name|avg(price)        |previous_price    |previous_window                           |\n",
      "+------------------------------------------+----+------------------+------------------+------------------------------------------+\n",
      "|[2023-11-05 11:20:00, 2023-11-05 11:25:00]|ALXN|164.66            |180.2             |[2023-11-05 11:15:00, 2023-11-05 11:20:00]|\n",
      "|[2023-11-05 11:45:00, 2023-11-05 11:50:00]|ALXN|127.81            |201.66995         |[2023-11-05 11:30:00, 2023-11-05 11:35:00]|\n",
      "|[2023-11-05 11:55:00, 2023-11-05 12:00:00]|ALXN|104.12333333333333|139.99            |[2023-11-05 11:50:00, 2023-11-05 11:55:00]|\n",
      "|[2023-11-05 11:10:00, 2023-11-05 11:15:00]|GIS |49.35666666666666 |50.5207           |[2023-11-05 11:05:00, 2023-11-05 11:10:00]|\n",
      "|[2023-11-05 11:15:00, 2023-11-05 11:20:00]|GIS |48.6              |49.35666666666666 |[2023-11-05 11:10:00, 2023-11-05 11:15:00]|\n",
      "|[2023-11-05 11:50:00, 2023-11-05 11:55:00]|GIS |51.80505          |60.67             |[2023-11-05 11:45:00, 2023-11-05 11:50:00]|\n",
      "|[2023-11-05 12:00:00, 2023-11-05 12:05:00]|GIS |51.05             |53.275000000000006|[2023-11-05 11:55:00, 2023-11-05 12:00:00]|\n",
      "|[2023-11-05 12:05:00, 2023-11-05 12:10:00]|GIS |51.010000000000005|51.05             |[2023-11-05 12:00:00, 2023-11-05 12:05:00]|\n",
      "|[2023-11-05 12:15:00, 2023-11-05 12:20:00]|GIS |52.66             |53.3              |[2023-11-05 12:10:00, 2023-11-05 12:15:00]|\n",
      "|[2023-11-05 11:20:00, 2023-11-05 11:25:00]|K   |66.23             |67.63             |[2023-11-05 11:15:00, 2023-11-05 11:20:00]|\n",
      "|[2023-11-05 11:25:00, 2023-11-05 11:30:00]|K   |62.1798           |66.23             |[2023-11-05 11:20:00, 2023-11-05 11:25:00]|\n",
      "|[2023-11-05 11:50:00, 2023-11-05 11:55:00]|K   |71.255            |73.32             |[2023-11-05 11:45:00, 2023-11-05 11:50:00]|\n",
      "|[2023-11-05 11:55:00, 2023-11-05 12:00:00]|K   |66.625            |71.255            |[2023-11-05 11:50:00, 2023-11-05 11:55:00]|\n",
      "|[2023-11-05 12:00:00, 2023-11-05 12:05:00]|K   |61.11             |66.625            |[2023-11-05 11:55:00, 2023-11-05 12:00:00]|\n",
      "|[2023-11-05 12:20:00, 2023-11-05 12:25:00]|K   |62.16             |64.2625           |[2023-11-05 12:15:00, 2023-11-05 12:20:00]|\n",
      "|[2023-11-05 11:20:00, 2023-11-05 11:25:00]|LEN |35.5196           |38.958349999999996|[2023-11-05 11:15:00, 2023-11-05 11:20:00]|\n",
      "|[2023-11-05 11:30:00, 2023-11-05 11:35:00]|LEN |49.5392           |49.676500000000004|[2023-11-05 11:25:00, 2023-11-05 11:30:00]|\n",
      "|[2023-11-05 11:35:00, 2023-11-05 11:40:00]|LEN |47.4216           |49.5392           |[2023-11-05 11:30:00, 2023-11-05 11:35:00]|\n",
      "|[2023-11-05 11:40:00, 2023-11-05 11:45:00]|LEN |46.4265           |47.4216           |[2023-11-05 11:35:00, 2023-11-05 11:40:00]|\n",
      "|[2023-11-05 12:00:00, 2023-11-05 12:05:00]|LEN |33.66013333333333 |61.82             |[2023-11-05 11:55:00, 2023-11-05 12:00:00]|\n",
      "+------------------------------------------+----+------------------+------------------+------------------------------------------+\n",
      "only showing top 20 rows\n",
      "\n"
     ]
    },
    {
     "name": "stderr",
     "output_type": "stream",
     "text": [
      "                                                                                \r"
     ]
    },
    {
     "name": "stdout",
     "output_type": "stream",
     "text": [
      "+------------------------------------------+----+------------------+------------------+------------------------------------------+\n",
      "|window                                    |name|avg(price)        |previous_price    |previous_window                           |\n",
      "+------------------------------------------+----+------------------+------------------+------------------------------------------+\n",
      "|[2023-11-05 11:15:00, 2023-11-05 11:20:00]|ALXN|180.2             |108.02            |[2023-11-05 11:10:00, 2023-11-05 11:15:00]|\n",
      "|[2023-11-05 11:25:00, 2023-11-05 11:30:00]|ALXN|186.99            |164.66            |[2023-11-05 11:20:00, 2023-11-05 11:25:00]|\n",
      "|[2023-11-05 11:30:00, 2023-11-05 11:35:00]|ALXN|201.66995         |186.99            |[2023-11-05 11:25:00, 2023-11-05 11:30:00]|\n",
      "|[2023-11-05 11:50:00, 2023-11-05 11:55:00]|ALXN|139.99            |127.81            |[2023-11-05 11:45:00, 2023-11-05 11:50:00]|\n",
      "|[2023-11-05 12:00:00, 2023-11-05 12:05:00]|ALXN|116.72            |104.12333333333333|[2023-11-05 11:55:00, 2023-11-05 12:00:00]|\n",
      "|[2023-11-05 12:05:00, 2023-11-05 12:10:00]|ALXN|161.12666666666667|116.72            |[2023-11-05 12:00:00, 2023-11-05 12:05:00]|\n",
      "|[2023-11-05 11:20:00, 2023-11-05 11:25:00]|GIS |50.92             |48.6              |[2023-11-05 11:15:00, 2023-11-05 11:20:00]|\n",
      "|[2023-11-05 11:30:00, 2023-11-05 11:35:00]|GIS |57.61             |50.92             |[2023-11-05 11:20:00, 2023-11-05 11:25:00]|\n",
      "|[2023-11-05 11:45:00, 2023-11-05 11:50:00]|GIS |60.67             |57.61             |[2023-11-05 11:30:00, 2023-11-05 11:35:00]|\n",
      "|[2023-11-05 11:55:00, 2023-11-05 12:00:00]|GIS |53.275000000000006|51.80505          |[2023-11-05 11:50:00, 2023-11-05 11:55:00]|\n",
      "|[2023-11-05 12:10:00, 2023-11-05 12:15:00]|GIS |53.3              |51.010000000000005|[2023-11-05 12:05:00, 2023-11-05 12:10:00]|\n",
      "|[2023-11-05 11:15:00, 2023-11-05 11:20:00]|K   |67.63             |65.865            |[2023-11-05 11:10:00, 2023-11-05 11:15:00]|\n",
      "|[2023-11-05 11:30:00, 2023-11-05 11:35:00]|K   |66.81             |62.1798           |[2023-11-05 11:25:00, 2023-11-05 11:30:00]|\n",
      "|[2023-11-05 11:45:00, 2023-11-05 11:50:00]|K   |73.32             |66.81             |[2023-11-05 11:30:00, 2023-11-05 11:35:00]|\n",
      "|[2023-11-05 12:05:00, 2023-11-05 12:10:00]|K   |64.26             |61.11             |[2023-11-05 12:00:00, 2023-11-05 12:05:00]|\n",
      "|[2023-11-05 12:15:00, 2023-11-05 12:20:00]|K   |64.62             |64.26             |[2023-11-05 12:05:00, 2023-11-05 12:10:00]|\n",
      "|[2023-11-05 11:15:00, 2023-11-05 11:20:00]|LEN |38.958349999999996|33.89705          |[2023-11-05 11:10:00, 2023-11-05 11:15:00]|\n",
      "|[2023-11-05 11:25:00, 2023-11-05 11:30:00]|LEN |49.676500000000004|35.5196           |[2023-11-05 11:20:00, 2023-11-05 11:25:00]|\n",
      "|[2023-11-05 11:45:00, 2023-11-05 11:50:00]|LEN |51.2647           |46.4265           |[2023-11-05 11:40:00, 2023-11-05 11:45:00]|\n",
      "|[2023-11-05 11:55:00, 2023-11-05 12:00:00]|LEN |61.82             |51.2647           |[2023-11-05 11:45:00, 2023-11-05 11:50:00]|\n",
      "+------------------------------------------+----+------------------+------------------+------------------------------------------+\n",
      "only showing top 20 rows\n",
      "\n"
     ]
    },
    {
     "name": "stderr",
     "output_type": "stream",
     "text": [
      "                                                                                \r"
     ]
    },
    {
     "name": "stdout",
     "output_type": "stream",
     "text": [
      "+------------------------------------------+----+------------------+------------------+------------------------------------------+\n",
      "|window                                    |name|avg(price)        |previous_price    |previous_window                           |\n",
      "+------------------------------------------+----+------------------+------------------+------------------------------------------+\n",
      "|[2023-11-05 11:20:00, 2023-11-05 11:25:00]|ALXN|164.66            |180.2             |[2023-11-05 11:15:00, 2023-11-05 11:20:00]|\n",
      "|[2023-11-05 11:45:00, 2023-11-05 11:50:00]|ALXN|127.81            |201.66995         |[2023-11-05 11:30:00, 2023-11-05 11:35:00]|\n",
      "|[2023-11-05 11:55:00, 2023-11-05 12:00:00]|ALXN|104.12333333333333|139.99            |[2023-11-05 11:50:00, 2023-11-05 11:55:00]|\n",
      "|[2023-11-05 11:10:00, 2023-11-05 11:15:00]|GIS |49.35666666666666 |50.5207           |[2023-11-05 11:05:00, 2023-11-05 11:10:00]|\n",
      "|[2023-11-05 11:15:00, 2023-11-05 11:20:00]|GIS |48.6              |49.35666666666666 |[2023-11-05 11:10:00, 2023-11-05 11:15:00]|\n",
      "|[2023-11-05 11:50:00, 2023-11-05 11:55:00]|GIS |51.80505          |60.67             |[2023-11-05 11:45:00, 2023-11-05 11:50:00]|\n",
      "|[2023-11-05 12:00:00, 2023-11-05 12:05:00]|GIS |51.05             |53.275000000000006|[2023-11-05 11:55:00, 2023-11-05 12:00:00]|\n",
      "|[2023-11-05 12:05:00, 2023-11-05 12:10:00]|GIS |51.010000000000005|51.05             |[2023-11-05 12:00:00, 2023-11-05 12:05:00]|\n",
      "|[2023-11-05 12:15:00, 2023-11-05 12:20:00]|GIS |52.66             |53.3              |[2023-11-05 12:10:00, 2023-11-05 12:15:00]|\n",
      "|[2023-11-05 11:20:00, 2023-11-05 11:25:00]|K   |66.23             |67.63             |[2023-11-05 11:15:00, 2023-11-05 11:20:00]|\n",
      "|[2023-11-05 11:25:00, 2023-11-05 11:30:00]|K   |62.1798           |66.23             |[2023-11-05 11:20:00, 2023-11-05 11:25:00]|\n",
      "|[2023-11-05 11:50:00, 2023-11-05 11:55:00]|K   |71.255            |73.32             |[2023-11-05 11:45:00, 2023-11-05 11:50:00]|\n",
      "|[2023-11-05 11:55:00, 2023-11-05 12:00:00]|K   |66.625            |71.255            |[2023-11-05 11:50:00, 2023-11-05 11:55:00]|\n",
      "|[2023-11-05 12:00:00, 2023-11-05 12:05:00]|K   |61.11             |66.625            |[2023-11-05 11:55:00, 2023-11-05 12:00:00]|\n",
      "|[2023-11-05 12:20:00, 2023-11-05 12:25:00]|K   |62.16             |64.2625           |[2023-11-05 12:15:00, 2023-11-05 12:20:00]|\n",
      "|[2023-11-05 11:20:00, 2023-11-05 11:25:00]|LEN |35.5196           |38.958349999999996|[2023-11-05 11:15:00, 2023-11-05 11:20:00]|\n",
      "|[2023-11-05 11:30:00, 2023-11-05 11:35:00]|LEN |49.5392           |49.676500000000004|[2023-11-05 11:25:00, 2023-11-05 11:30:00]|\n",
      "|[2023-11-05 11:35:00, 2023-11-05 11:40:00]|LEN |47.4216           |49.5392           |[2023-11-05 11:30:00, 2023-11-05 11:35:00]|\n",
      "|[2023-11-05 11:40:00, 2023-11-05 11:45:00]|LEN |46.4265           |47.4216           |[2023-11-05 11:35:00, 2023-11-05 11:40:00]|\n",
      "|[2023-11-05 12:00:00, 2023-11-05 12:05:00]|LEN |33.66013333333333 |61.82             |[2023-11-05 11:55:00, 2023-11-05 12:00:00]|\n",
      "+------------------------------------------+----+------------------+------------------+------------------------------------------+\n",
      "only showing top 20 rows\n",
      "\n"
     ]
    },
    {
     "name": "stderr",
     "output_type": "stream",
     "text": [
      "                                                                                \r"
     ]
    },
    {
     "name": "stdout",
     "output_type": "stream",
     "text": [
      "+------------------------------------------+----+------------------+------------------+------------------------------------------+\n",
      "|window                                    |name|avg(price)        |previous_price    |previous_window                           |\n",
      "+------------------------------------------+----+------------------+------------------+------------------------------------------+\n",
      "|[2023-11-05 11:15:00, 2023-11-05 11:20:00]|ALXN|180.2             |108.02            |[2023-11-05 11:10:00, 2023-11-05 11:15:00]|\n",
      "|[2023-11-05 11:25:00, 2023-11-05 11:30:00]|ALXN|186.99            |164.66            |[2023-11-05 11:20:00, 2023-11-05 11:25:00]|\n",
      "|[2023-11-05 11:30:00, 2023-11-05 11:35:00]|ALXN|201.66995         |186.99            |[2023-11-05 11:25:00, 2023-11-05 11:30:00]|\n",
      "|[2023-11-05 11:50:00, 2023-11-05 11:55:00]|ALXN|139.99            |127.81            |[2023-11-05 11:45:00, 2023-11-05 11:50:00]|\n",
      "|[2023-11-05 12:00:00, 2023-11-05 12:05:00]|ALXN|116.72            |104.12333333333333|[2023-11-05 11:55:00, 2023-11-05 12:00:00]|\n",
      "|[2023-11-05 12:05:00, 2023-11-05 12:10:00]|ALXN|161.12666666666667|116.72            |[2023-11-05 12:00:00, 2023-11-05 12:05:00]|\n",
      "|[2023-11-05 11:20:00, 2023-11-05 11:25:00]|GIS |50.92             |48.6              |[2023-11-05 11:15:00, 2023-11-05 11:20:00]|\n",
      "|[2023-11-05 11:30:00, 2023-11-05 11:35:00]|GIS |57.61             |50.92             |[2023-11-05 11:20:00, 2023-11-05 11:25:00]|\n",
      "|[2023-11-05 11:45:00, 2023-11-05 11:50:00]|GIS |60.67             |57.61             |[2023-11-05 11:30:00, 2023-11-05 11:35:00]|\n",
      "|[2023-11-05 11:55:00, 2023-11-05 12:00:00]|GIS |53.275000000000006|51.80505          |[2023-11-05 11:50:00, 2023-11-05 11:55:00]|\n",
      "|[2023-11-05 12:10:00, 2023-11-05 12:15:00]|GIS |53.3              |51.010000000000005|[2023-11-05 12:05:00, 2023-11-05 12:10:00]|\n",
      "|[2023-11-05 11:15:00, 2023-11-05 11:20:00]|K   |67.63             |65.865            |[2023-11-05 11:10:00, 2023-11-05 11:15:00]|\n",
      "|[2023-11-05 11:30:00, 2023-11-05 11:35:00]|K   |66.81             |62.1798           |[2023-11-05 11:25:00, 2023-11-05 11:30:00]|\n",
      "|[2023-11-05 11:45:00, 2023-11-05 11:50:00]|K   |73.32             |66.81             |[2023-11-05 11:30:00, 2023-11-05 11:35:00]|\n",
      "|[2023-11-05 12:05:00, 2023-11-05 12:10:00]|K   |64.26             |61.11             |[2023-11-05 12:00:00, 2023-11-05 12:05:00]|\n",
      "|[2023-11-05 12:15:00, 2023-11-05 12:20:00]|K   |64.62             |64.26             |[2023-11-05 12:05:00, 2023-11-05 12:10:00]|\n",
      "|[2023-11-05 11:15:00, 2023-11-05 11:20:00]|LEN |38.958349999999996|33.89705          |[2023-11-05 11:10:00, 2023-11-05 11:15:00]|\n",
      "|[2023-11-05 11:25:00, 2023-11-05 11:30:00]|LEN |49.676500000000004|35.5196           |[2023-11-05 11:20:00, 2023-11-05 11:25:00]|\n",
      "|[2023-11-05 11:45:00, 2023-11-05 11:50:00]|LEN |51.2647           |46.4265           |[2023-11-05 11:40:00, 2023-11-05 11:45:00]|\n",
      "|[2023-11-05 11:55:00, 2023-11-05 12:00:00]|LEN |61.82             |51.2647           |[2023-11-05 11:45:00, 2023-11-05 11:50:00]|\n",
      "+------------------------------------------+----+------------------+------------------+------------------------------------------+\n",
      "only showing top 20 rows\n",
      "\n"
     ]
    },
    {
     "name": "stderr",
     "output_type": "stream",
     "text": [
      "                                                                                \r"
     ]
    },
    {
     "name": "stdout",
     "output_type": "stream",
     "text": [
      "+------------------------------------------+----+------------------+------------------+------------------------------------------+\n",
      "|window                                    |name|avg(price)        |previous_price    |previous_window                           |\n",
      "+------------------------------------------+----+------------------+------------------+------------------------------------------+\n",
      "|[2023-11-05 11:20:00, 2023-11-05 11:25:00]|ALXN|164.66            |180.2             |[2023-11-05 11:15:00, 2023-11-05 11:20:00]|\n",
      "|[2023-11-05 11:45:00, 2023-11-05 11:50:00]|ALXN|127.81            |201.66995         |[2023-11-05 11:30:00, 2023-11-05 11:35:00]|\n",
      "|[2023-11-05 11:55:00, 2023-11-05 12:00:00]|ALXN|104.12333333333333|139.99            |[2023-11-05 11:50:00, 2023-11-05 11:55:00]|\n",
      "|[2023-11-05 11:10:00, 2023-11-05 11:15:00]|GIS |49.35666666666666 |50.5207           |[2023-11-05 11:05:00, 2023-11-05 11:10:00]|\n",
      "|[2023-11-05 11:15:00, 2023-11-05 11:20:00]|GIS |48.6              |49.35666666666666 |[2023-11-05 11:10:00, 2023-11-05 11:15:00]|\n",
      "|[2023-11-05 11:50:00, 2023-11-05 11:55:00]|GIS |51.80505          |60.67             |[2023-11-05 11:45:00, 2023-11-05 11:50:00]|\n",
      "|[2023-11-05 12:00:00, 2023-11-05 12:05:00]|GIS |51.05             |53.275000000000006|[2023-11-05 11:55:00, 2023-11-05 12:00:00]|\n",
      "|[2023-11-05 12:05:00, 2023-11-05 12:10:00]|GIS |51.010000000000005|51.05             |[2023-11-05 12:00:00, 2023-11-05 12:05:00]|\n",
      "|[2023-11-05 12:15:00, 2023-11-05 12:20:00]|GIS |52.66             |53.3              |[2023-11-05 12:10:00, 2023-11-05 12:15:00]|\n",
      "|[2023-11-05 11:20:00, 2023-11-05 11:25:00]|K   |66.23             |67.63             |[2023-11-05 11:15:00, 2023-11-05 11:20:00]|\n",
      "|[2023-11-05 11:25:00, 2023-11-05 11:30:00]|K   |62.1798           |66.23             |[2023-11-05 11:20:00, 2023-11-05 11:25:00]|\n",
      "|[2023-11-05 11:50:00, 2023-11-05 11:55:00]|K   |71.255            |73.32             |[2023-11-05 11:45:00, 2023-11-05 11:50:00]|\n",
      "|[2023-11-05 11:55:00, 2023-11-05 12:00:00]|K   |66.625            |71.255            |[2023-11-05 11:50:00, 2023-11-05 11:55:00]|\n",
      "|[2023-11-05 12:00:00, 2023-11-05 12:05:00]|K   |61.11             |66.625            |[2023-11-05 11:55:00, 2023-11-05 12:00:00]|\n",
      "|[2023-11-05 12:20:00, 2023-11-05 12:25:00]|K   |62.16             |64.2625           |[2023-11-05 12:15:00, 2023-11-05 12:20:00]|\n",
      "|[2023-11-05 11:20:00, 2023-11-05 11:25:00]|LEN |35.5196           |38.958349999999996|[2023-11-05 11:15:00, 2023-11-05 11:20:00]|\n",
      "|[2023-11-05 11:30:00, 2023-11-05 11:35:00]|LEN |49.5392           |49.676500000000004|[2023-11-05 11:25:00, 2023-11-05 11:30:00]|\n",
      "|[2023-11-05 11:35:00, 2023-11-05 11:40:00]|LEN |47.4216           |49.5392           |[2023-11-05 11:30:00, 2023-11-05 11:35:00]|\n",
      "|[2023-11-05 11:40:00, 2023-11-05 11:45:00]|LEN |46.4265           |47.4216           |[2023-11-05 11:35:00, 2023-11-05 11:40:00]|\n",
      "|[2023-11-05 12:00:00, 2023-11-05 12:05:00]|LEN |33.66013333333333 |61.82             |[2023-11-05 11:55:00, 2023-11-05 12:00:00]|\n",
      "+------------------------------------------+----+------------------+------------------+------------------------------------------+\n",
      "only showing top 20 rows\n",
      "\n"
     ]
    },
    {
     "name": "stderr",
     "output_type": "stream",
     "text": [
      "                                                                                \r"
     ]
    }
   ],
   "source": [
    "# The stocks that I own, along with the amount of each stock\n",
    "stock_portfolio = spark.createDataFrame([\n",
    "    ('ISRG', 10.0),\n",
    "    ('BBT', 15.0),\n",
    "    ('FITB', 15.0),\n",
    "    ('ZION', 5.0),\n",
    "    ('CL', 15.0),\n",
    "    ('KR', 90.0),\n",
    "    ('WEC', 80.0),\n",
    "    ('VRTX', 40.0),\n",
    "    ('PNW', 15.0),\n",
    "    ('DTE', 16.0)], [\"name\", \"amount_of_stocks_owned\"])\n",
    "\n",
    "stock_portfolio.show()\n",
    "\n",
    "# Join two DataFrames based on the stock name.\n",
    "portfolio_with_prices = stock_portfolio.join(df, \"name\", \"inner\")\n",
    "\n",
    "# Compute asset \n",
    "portfolio_with_prices = portfolio_with_prices.withColumn(\"asset_value\", col(\"amount_of_stocks_owned\") * col(\"price\"))\n",
    "\n",
    "# Compute total asset\n",
    "total_asset_value = portfolio_with_prices.selectExpr(\"sum(asset_value) as total_asset_value\")\n",
    "\n",
    "\n",
    "query_5 = (total_asset_value.writeStream\n",
    "        .outputMode(\"update\")\n",
    "        .format(\"memory\")\n",
    "        .queryName(\"AssetValue\").start())\n"
   ]
  },
  {
   "cell_type": "markdown",
   "id": "e91fca8a",
   "metadata": {},
   "source": [
    "The code you provided is plotting a line chart using Matplotlib to visualize \n",
    "the \"total_asset_value\" data from a Pandas DataFrame obtained from a Spark SQL query result. \n",
    "The data represents changes in total asset value over time."
   ]
  },
  {
   "cell_type": "code",
   "execution_count": 15,
   "id": "496f5dc7",
   "metadata": {
    "scrolled": true
   },
   "outputs": [
    {
     "name": "stderr",
     "output_type": "stream",
     "text": [
      "[Stage 3266:(106 + 4) / 200][Stage 3267:=>(3 + 0) / 4][Stage 3268:> (0 + 0) / 1]\r"
     ]
    },
    {
     "data": {
      "text/plain": [
       "Text(0, 0.5, 'Total Asset Value')"
      ]
     },
     "execution_count": 15,
     "metadata": {},
     "output_type": "execute_result"
    },
    {
     "data": {
      "image/png": "[encoded data removed]",
      "text/plain": [
       "<Figure size 640x480 with 1 Axes>"
      ]
     },
     "metadata": {},
     "output_type": "display_data"
    },
    {
     "name": "stderr",
     "output_type": "stream",
     "text": [
      "                                                                                \r"
     ]
    },
    {
     "name": "stdout",
     "output_type": "stream",
     "text": [
      "+------------------------------------------+----+------------------+------------------+------------------------------------------+\n",
      "|window                                    |name|avg(price)        |previous_price    |previous_window                           |\n",
      "+------------------------------------------+----+------------------+------------------+------------------------------------------+\n",
      "|[2023-11-05 11:15:00, 2023-11-05 11:20:00]|ALXN|180.2             |108.02            |[2023-11-05 11:10:00, 2023-11-05 11:15:00]|\n",
      "|[2023-11-05 11:25:00, 2023-11-05 11:30:00]|ALXN|186.99            |164.66            |[2023-11-05 11:20:00, 2023-11-05 11:25:00]|\n",
      "|[2023-11-05 11:30:00, 2023-11-05 11:35:00]|ALXN|201.66995         |186.99            |[2023-11-05 11:25:00, 2023-11-05 11:30:00]|\n",
      "|[2023-11-05 11:50:00, 2023-11-05 11:55:00]|ALXN|139.99            |127.81            |[2023-11-05 11:45:00, 2023-11-05 11:50:00]|\n",
      "|[2023-11-05 12:00:00, 2023-11-05 12:05:00]|ALXN|116.72            |104.12333333333333|[2023-11-05 11:55:00, 2023-11-05 12:00:00]|\n",
      "|[2023-11-05 12:05:00, 2023-11-05 12:10:00]|ALXN|161.12666666666667|116.72            |[2023-11-05 12:00:00, 2023-11-05 12:05:00]|\n",
      "|[2023-11-05 11:20:00, 2023-11-05 11:25:00]|GIS |50.92             |48.6              |[2023-11-05 11:15:00, 2023-11-05 11:20:00]|\n",
      "|[2023-11-05 11:30:00, 2023-11-05 11:35:00]|GIS |57.61             |50.92             |[2023-11-05 11:20:00, 2023-11-05 11:25:00]|\n",
      "|[2023-11-05 11:45:00, 2023-11-05 11:50:00]|GIS |60.67             |57.61             |[2023-11-05 11:30:00, 2023-11-05 11:35:00]|\n",
      "|[2023-11-05 11:55:00, 2023-11-05 12:00:00]|GIS |53.275000000000006|51.80505          |[2023-11-05 11:50:00, 2023-11-05 11:55:00]|\n",
      "|[2023-11-05 12:10:00, 2023-11-05 12:15:00]|GIS |53.3              |51.010000000000005|[2023-11-05 12:05:00, 2023-11-05 12:10:00]|\n",
      "|[2023-11-05 11:15:00, 2023-11-05 11:20:00]|K   |67.63             |65.865            |[2023-11-05 11:10:00, 2023-11-05 11:15:00]|\n",
      "|[2023-11-05 11:30:00, 2023-11-05 11:35:00]|K   |66.81             |62.1798           |[2023-11-05 11:25:00, 2023-11-05 11:30:00]|\n",
      "|[2023-11-05 11:45:00, 2023-11-05 11:50:00]|K   |73.32             |66.81             |[2023-11-05 11:30:00, 2023-11-05 11:35:00]|\n",
      "|[2023-11-05 12:05:00, 2023-11-05 12:10:00]|K   |64.26             |61.11             |[2023-11-05 12:00:00, 2023-11-05 12:05:00]|\n",
      "|[2023-11-05 12:15:00, 2023-11-05 12:20:00]|K   |64.68666666666667 |64.26             |[2023-11-05 12:05:00, 2023-11-05 12:10:00]|\n",
      "|[2023-11-05 11:15:00, 2023-11-05 11:20:00]|LEN |38.958349999999996|33.89705          |[2023-11-05 11:10:00, 2023-11-05 11:15:00]|\n",
      "|[2023-11-05 11:25:00, 2023-11-05 11:30:00]|LEN |49.676500000000004|35.5196           |[2023-11-05 11:20:00, 2023-11-05 11:25:00]|\n",
      "|[2023-11-05 11:45:00, 2023-11-05 11:50:00]|LEN |51.2647           |46.4265           |[2023-11-05 11:40:00, 2023-11-05 11:45:00]|\n",
      "|[2023-11-05 11:55:00, 2023-11-05 12:00:00]|LEN |61.82             |51.2647           |[2023-11-05 11:45:00, 2023-11-05 11:50:00]|\n",
      "+------------------------------------------+----+------------------+------------------+------------------------------------------+\n",
      "only showing top 20 rows\n",
      "\n"
     ]
    },
    {
     "name": "stderr",
     "output_type": "stream",
     "text": [
      "                                                                                \r"
     ]
    },
    {
     "name": "stdout",
     "output_type": "stream",
     "text": [
      "+------------------------------------------+----+------------------+------------------+------------------------------------------+\n",
      "|window                                    |name|avg(price)        |previous_price    |previous_window                           |\n",
      "+------------------------------------------+----+------------------+------------------+------------------------------------------+\n",
      "|[2023-11-05 11:20:00, 2023-11-05 11:25:00]|ALXN|164.66            |180.2             |[2023-11-05 11:15:00, 2023-11-05 11:20:00]|\n",
      "|[2023-11-05 11:45:00, 2023-11-05 11:50:00]|ALXN|127.81            |201.66995         |[2023-11-05 11:30:00, 2023-11-05 11:35:00]|\n",
      "|[2023-11-05 11:55:00, 2023-11-05 12:00:00]|ALXN|104.12333333333333|139.99            |[2023-11-05 11:50:00, 2023-11-05 11:55:00]|\n",
      "|[2023-11-05 11:10:00, 2023-11-05 11:15:00]|GIS |49.35666666666666 |50.5207           |[2023-11-05 11:05:00, 2023-11-05 11:10:00]|\n",
      "|[2023-11-05 11:15:00, 2023-11-05 11:20:00]|GIS |48.6              |49.35666666666666 |[2023-11-05 11:10:00, 2023-11-05 11:15:00]|\n",
      "|[2023-11-05 11:50:00, 2023-11-05 11:55:00]|GIS |51.80505          |60.67             |[2023-11-05 11:45:00, 2023-11-05 11:50:00]|\n",
      "|[2023-11-05 12:00:00, 2023-11-05 12:05:00]|GIS |51.05             |53.275000000000006|[2023-11-05 11:55:00, 2023-11-05 12:00:00]|\n",
      "|[2023-11-05 12:05:00, 2023-11-05 12:10:00]|GIS |51.010000000000005|51.05             |[2023-11-05 12:00:00, 2023-11-05 12:05:00]|\n",
      "|[2023-11-05 12:15:00, 2023-11-05 12:20:00]|GIS |52.66             |53.3              |[2023-11-05 12:10:00, 2023-11-05 12:15:00]|\n",
      "|[2023-11-05 11:20:00, 2023-11-05 11:25:00]|K   |66.23             |67.63             |[2023-11-05 11:15:00, 2023-11-05 11:20:00]|\n",
      "|[2023-11-05 11:25:00, 2023-11-05 11:30:00]|K   |62.1798           |66.23             |[2023-11-05 11:20:00, 2023-11-05 11:25:00]|\n",
      "|[2023-11-05 11:50:00, 2023-11-05 11:55:00]|K   |71.255            |73.32             |[2023-11-05 11:45:00, 2023-11-05 11:50:00]|\n",
      "|[2023-11-05 11:55:00, 2023-11-05 12:00:00]|K   |66.625            |71.255            |[2023-11-05 11:50:00, 2023-11-05 11:55:00]|\n",
      "|[2023-11-05 12:00:00, 2023-11-05 12:05:00]|K   |61.11             |66.625            |[2023-11-05 11:55:00, 2023-11-05 12:00:00]|\n",
      "|[2023-11-05 11:20:00, 2023-11-05 11:25:00]|LEN |35.5196           |38.958349999999996|[2023-11-05 11:15:00, 2023-11-05 11:20:00]|\n",
      "|[2023-11-05 11:30:00, 2023-11-05 11:35:00]|LEN |49.5392           |49.676500000000004|[2023-11-05 11:25:00, 2023-11-05 11:30:00]|\n",
      "|[2023-11-05 11:35:00, 2023-11-05 11:40:00]|LEN |47.4216           |49.5392           |[2023-11-05 11:30:00, 2023-11-05 11:35:00]|\n",
      "|[2023-11-05 11:40:00, 2023-11-05 11:45:00]|LEN |46.4265           |47.4216           |[2023-11-05 11:35:00, 2023-11-05 11:40:00]|\n",
      "|[2023-11-05 12:00:00, 2023-11-05 12:05:00]|LEN |33.66013333333333 |61.82             |[2023-11-05 11:55:00, 2023-11-05 12:00:00]|\n",
      "|[2023-11-05 11:35:00, 2023-11-05 11:40:00]|SPGI|92.65             |97.46             |[2023-11-05 11:30:00, 2023-11-05 11:35:00]|\n",
      "+------------------------------------------+----+------------------+------------------+------------------------------------------+\n",
      "only showing top 20 rows\n",
      "\n"
     ]
    },
    {
     "name": "stderr",
     "output_type": "stream",
     "text": [
      "                                                                                \r"
     ]
    }
   ],
   "source": [
    "from matplotlib import pyplot as plt\n",
    "import mplcursors\n",
    "\n",
    "test = spark.sql(\"SELECT * FROM AssetValue\")\n",
    "test = test.toPandas()\n",
    "# Vẽ biểu đồ đường\n",
    "plt.plot(test.index, test[\"total_asset_value\"], marker='o', linestyle='-', color='b')\n",
    "plt.ylabel(\"Total Asset Value\")"
   ]
  },
  {
   "cell_type": "code",
   "execution_count": null,
   "id": "6a03b226",
   "metadata": {
    "scrolled": true
   },
   "outputs": [
    {
     "name": "stderr",
     "output_type": "stream",
     "text": [
      "[Stage 3416:> (0 + 0) / 1][Stage 3420:(0 + 0) / 200][Stage 3423:> (0 + 0) / 1]1]\r"
     ]
    },
    {
     "name": "stdout",
     "output_type": "stream",
     "text": [
      "+------------------------------------------+----+------------------+------------------+------------------------------------------+\n",
      "|window                                    |name|avg(price)        |previous_price    |previous_window                           |\n",
      "+------------------------------------------+----+------------------+------------------+------------------------------------------+\n",
      "|[2023-11-05 11:15:00, 2023-11-05 11:20:00]|ALXN|180.2             |108.02            |[2023-11-05 11:10:00, 2023-11-05 11:15:00]|\n",
      "|[2023-11-05 11:25:00, 2023-11-05 11:30:00]|ALXN|186.99            |164.66            |[2023-11-05 11:20:00, 2023-11-05 11:25:00]|\n",
      "|[2023-11-05 11:30:00, 2023-11-05 11:35:00]|ALXN|201.66995         |186.99            |[2023-11-05 11:25:00, 2023-11-05 11:30:00]|\n",
      "|[2023-11-05 11:50:00, 2023-11-05 11:55:00]|ALXN|139.99            |127.81            |[2023-11-05 11:45:00, 2023-11-05 11:50:00]|\n",
      "|[2023-11-05 12:00:00, 2023-11-05 12:05:00]|ALXN|116.72            |104.12333333333333|[2023-11-05 11:55:00, 2023-11-05 12:00:00]|\n",
      "|[2023-11-05 12:05:00, 2023-11-05 12:10:00]|ALXN|161.12666666666667|116.72            |[2023-11-05 12:00:00, 2023-11-05 12:05:00]|\n",
      "|[2023-11-05 11:20:00, 2023-11-05 11:25:00]|GIS |50.92             |48.6              |[2023-11-05 11:15:00, 2023-11-05 11:20:00]|\n",
      "|[2023-11-05 11:30:00, 2023-11-05 11:35:00]|GIS |57.61             |50.92             |[2023-11-05 11:20:00, 2023-11-05 11:25:00]|\n",
      "|[2023-11-05 11:45:00, 2023-11-05 11:50:00]|GIS |60.67             |57.61             |[2023-11-05 11:30:00, 2023-11-05 11:35:00]|\n",
      "|[2023-11-05 11:55:00, 2023-11-05 12:00:00]|GIS |53.275000000000006|51.80505          |[2023-11-05 11:50:00, 2023-11-05 11:55:00]|\n",
      "|[2023-11-05 12:10:00, 2023-11-05 12:15:00]|GIS |53.3              |51.010000000000005|[2023-11-05 12:05:00, 2023-11-05 12:10:00]|\n",
      "|[2023-11-05 12:20:00, 2023-11-05 12:25:00]|GIS |57.754999999999995|52.66             |[2023-11-05 12:15:00, 2023-11-05 12:20:00]|\n",
      "|[2023-11-05 11:15:00, 2023-11-05 11:20:00]|K   |67.63             |65.865            |[2023-11-05 11:10:00, 2023-11-05 11:15:00]|\n",
      "|[2023-11-05 11:30:00, 2023-11-05 11:35:00]|K   |66.81             |62.1798           |[2023-11-05 11:25:00, 2023-11-05 11:30:00]|\n",
      "|[2023-11-05 11:45:00, 2023-11-05 11:50:00]|K   |73.32             |66.81             |[2023-11-05 11:30:00, 2023-11-05 11:35:00]|\n",
      "|[2023-11-05 12:05:00, 2023-11-05 12:10:00]|K   |64.26             |61.11             |[2023-11-05 12:00:00, 2023-11-05 12:05:00]|\n",
      "|[2023-11-05 12:15:00, 2023-11-05 12:20:00]|K   |64.2625           |64.26             |[2023-11-05 12:05:00, 2023-11-05 12:10:00]|\n",
      "|[2023-11-05 12:20:00, 2023-11-05 12:25:00]|K   |65.02             |64.2625           |[2023-11-05 12:15:00, 2023-11-05 12:20:00]|\n",
      "|[2023-11-05 11:15:00, 2023-11-05 11:20:00]|LEN |38.958349999999996|33.89705          |[2023-11-05 11:10:00, 2023-11-05 11:15:00]|\n",
      "|[2023-11-05 11:25:00, 2023-11-05 11:30:00]|LEN |49.676500000000004|35.5196           |[2023-11-05 11:20:00, 2023-11-05 11:25:00]|\n",
      "+------------------------------------------+----+------------------+------------------+------------------------------------------+\n",
      "only showing top 20 rows\n",
      "\n"
     ]
    },
    {
     "name": "stderr",
     "output_type": "stream",
     "text": [
      "                                                                                \r"
     ]
    },
    {
     "name": "stdout",
     "output_type": "stream",
     "text": [
      "+------------------------------------------+----+------------------+------------------+------------------------------------------+\n",
      "|window                                    |name|avg(price)        |previous_price    |previous_window                           |\n",
      "+------------------------------------------+----+------------------+------------------+------------------------------------------+\n",
      "|[2023-11-05 11:20:00, 2023-11-05 11:25:00]|ALXN|164.66            |180.2             |[2023-11-05 11:15:00, 2023-11-05 11:20:00]|\n",
      "|[2023-11-05 11:45:00, 2023-11-05 11:50:00]|ALXN|127.81            |201.66995         |[2023-11-05 11:30:00, 2023-11-05 11:35:00]|\n",
      "|[2023-11-05 11:55:00, 2023-11-05 12:00:00]|ALXN|104.12333333333333|139.99            |[2023-11-05 11:50:00, 2023-11-05 11:55:00]|\n",
      "|[2023-11-05 12:25:00, 2023-11-05 12:30:00]|ALXN|159.48            |173.71            |[2023-11-05 12:20:00, 2023-11-05 12:25:00]|\n",
      "|[2023-11-05 11:10:00, 2023-11-05 11:15:00]|GIS |49.35666666666666 |50.5207           |[2023-11-05 11:05:00, 2023-11-05 11:10:00]|\n",
      "|[2023-11-05 11:15:00, 2023-11-05 11:20:00]|GIS |48.6              |49.35666666666666 |[2023-11-05 11:10:00, 2023-11-05 11:15:00]|\n",
      "|[2023-11-05 11:50:00, 2023-11-05 11:55:00]|GIS |51.80505          |60.67             |[2023-11-05 11:45:00, 2023-11-05 11:50:00]|\n",
      "|[2023-11-05 12:00:00, 2023-11-05 12:05:00]|GIS |51.05             |53.275000000000006|[2023-11-05 11:55:00, 2023-11-05 12:00:00]|\n",
      "|[2023-11-05 12:05:00, 2023-11-05 12:10:00]|GIS |51.010000000000005|51.05             |[2023-11-05 12:00:00, 2023-11-05 12:05:00]|\n",
      "|[2023-11-05 12:15:00, 2023-11-05 12:20:00]|GIS |52.66             |53.3              |[2023-11-05 12:10:00, 2023-11-05 12:15:00]|\n",
      "|[2023-11-05 11:20:00, 2023-11-05 11:25:00]|K   |66.23             |67.63             |[2023-11-05 11:15:00, 2023-11-05 11:20:00]|\n",
      "|[2023-11-05 11:25:00, 2023-11-05 11:30:00]|K   |62.1798           |66.23             |[2023-11-05 11:20:00, 2023-11-05 11:25:00]|\n",
      "|[2023-11-05 11:50:00, 2023-11-05 11:55:00]|K   |71.255            |73.32             |[2023-11-05 11:45:00, 2023-11-05 11:50:00]|\n",
      "|[2023-11-05 11:55:00, 2023-11-05 12:00:00]|K   |66.625            |71.255            |[2023-11-05 11:50:00, 2023-11-05 11:55:00]|\n",
      "|[2023-11-05 12:00:00, 2023-11-05 12:05:00]|K   |61.11             |66.625            |[2023-11-05 11:55:00, 2023-11-05 12:00:00]|\n",
      "|[2023-11-05 11:20:00, 2023-11-05 11:25:00]|LEN |35.5196           |38.958349999999996|[2023-11-05 11:15:00, 2023-11-05 11:20:00]|\n",
      "|[2023-11-05 11:30:00, 2023-11-05 11:35:00]|LEN |49.5392           |49.676500000000004|[2023-11-05 11:25:00, 2023-11-05 11:30:00]|\n",
      "|[2023-11-05 11:35:00, 2023-11-05 11:40:00]|LEN |47.4216           |49.5392           |[2023-11-05 11:30:00, 2023-11-05 11:35:00]|\n",
      "|[2023-11-05 11:40:00, 2023-11-05 11:45:00]|LEN |46.4265           |47.4216           |[2023-11-05 11:35:00, 2023-11-05 11:40:00]|\n",
      "|[2023-11-05 12:00:00, 2023-11-05 12:05:00]|LEN |33.66013333333333 |61.82             |[2023-11-05 11:55:00, 2023-11-05 12:00:00]|\n",
      "+------------------------------------------+----+------------------+------------------+------------------------------------------+\n",
      "only showing top 20 rows\n",
      "\n"
     ]
    },
    {
     "name": "stderr",
     "output_type": "stream",
     "text": [
      "                                                                                \r"
     ]
    },
    {
     "name": "stdout",
     "output_type": "stream",
     "text": [
      "+------------------------------------------+----+------------------+------------------+------------------------------------------+\n",
      "|window                                    |name|avg(price)        |previous_price    |previous_window                           |\n",
      "+------------------------------------------+----+------------------+------------------+------------------------------------------+\n",
      "|[2023-11-05 11:15:00, 2023-11-05 11:20:00]|ALXN|180.2             |108.02            |[2023-11-05 11:10:00, 2023-11-05 11:15:00]|\n",
      "|[2023-11-05 11:25:00, 2023-11-05 11:30:00]|ALXN|186.99            |164.66            |[2023-11-05 11:20:00, 2023-11-05 11:25:00]|\n",
      "|[2023-11-05 11:30:00, 2023-11-05 11:35:00]|ALXN|201.66995         |186.99            |[2023-11-05 11:25:00, 2023-11-05 11:30:00]|\n",
      "|[2023-11-05 11:50:00, 2023-11-05 11:55:00]|ALXN|139.99            |127.81            |[2023-11-05 11:45:00, 2023-11-05 11:50:00]|\n",
      "|[2023-11-05 12:00:00, 2023-11-05 12:05:00]|ALXN|116.72            |104.12333333333333|[2023-11-05 11:55:00, 2023-11-05 12:00:00]|\n",
      "|[2023-11-05 12:05:00, 2023-11-05 12:10:00]|ALXN|161.12666666666667|116.72            |[2023-11-05 12:00:00, 2023-11-05 12:05:00]|\n",
      "|[2023-11-05 11:20:00, 2023-11-05 11:25:00]|GIS |50.92             |48.6              |[2023-11-05 11:15:00, 2023-11-05 11:20:00]|\n",
      "|[2023-11-05 11:30:00, 2023-11-05 11:35:00]|GIS |57.61             |50.92             |[2023-11-05 11:20:00, 2023-11-05 11:25:00]|\n",
      "|[2023-11-05 11:45:00, 2023-11-05 11:50:00]|GIS |60.67             |57.61             |[2023-11-05 11:30:00, 2023-11-05 11:35:00]|\n",
      "|[2023-11-05 11:55:00, 2023-11-05 12:00:00]|GIS |53.275000000000006|51.80505          |[2023-11-05 11:50:00, 2023-11-05 11:55:00]|\n",
      "|[2023-11-05 12:10:00, 2023-11-05 12:15:00]|GIS |53.3              |51.010000000000005|[2023-11-05 12:05:00, 2023-11-05 12:10:00]|\n",
      "|[2023-11-05 12:20:00, 2023-11-05 12:25:00]|GIS |57.754999999999995|52.66             |[2023-11-05 12:15:00, 2023-11-05 12:20:00]|\n",
      "|[2023-11-05 11:15:00, 2023-11-05 11:20:00]|K   |67.63             |65.865            |[2023-11-05 11:10:00, 2023-11-05 11:15:00]|\n",
      "|[2023-11-05 11:30:00, 2023-11-05 11:35:00]|K   |66.81             |62.1798           |[2023-11-05 11:25:00, 2023-11-05 11:30:00]|\n",
      "|[2023-11-05 11:45:00, 2023-11-05 11:50:00]|K   |73.32             |66.81             |[2023-11-05 11:30:00, 2023-11-05 11:35:00]|\n",
      "|[2023-11-05 12:05:00, 2023-11-05 12:10:00]|K   |64.26             |61.11             |[2023-11-05 12:00:00, 2023-11-05 12:05:00]|\n",
      "|[2023-11-05 12:15:00, 2023-11-05 12:20:00]|K   |64.2625           |64.26             |[2023-11-05 12:05:00, 2023-11-05 12:10:00]|\n",
      "|[2023-11-05 12:20:00, 2023-11-05 12:25:00]|K   |65.02             |64.2625           |[2023-11-05 12:15:00, 2023-11-05 12:20:00]|\n",
      "|[2023-11-05 11:15:00, 2023-11-05 11:20:00]|LEN |38.958349999999996|33.89705          |[2023-11-05 11:10:00, 2023-11-05 11:15:00]|\n",
      "|[2023-11-05 11:25:00, 2023-11-05 11:30:00]|LEN |49.676500000000004|35.5196           |[2023-11-05 11:20:00, 2023-11-05 11:25:00]|\n",
      "+------------------------------------------+----+------------------+------------------+------------------------------------------+\n",
      "only showing top 20 rows\n",
      "\n"
     ]
    },
    {
     "name": "stderr",
     "output_type": "stream",
     "text": [
      "                                                                                \r"
     ]
    },
    {
     "name": "stdout",
     "output_type": "stream",
     "text": [
      "+------------------------------------------+----+------------------+------------------+------------------------------------------+\n",
      "|window                                    |name|avg(price)        |previous_price    |previous_window                           |\n",
      "+------------------------------------------+----+------------------+------------------+------------------------------------------+\n",
      "|[2023-11-05 11:20:00, 2023-11-05 11:25:00]|ALXN|164.66            |180.2             |[2023-11-05 11:15:00, 2023-11-05 11:20:00]|\n",
      "|[2023-11-05 11:45:00, 2023-11-05 11:50:00]|ALXN|127.81            |201.66995         |[2023-11-05 11:30:00, 2023-11-05 11:35:00]|\n",
      "|[2023-11-05 11:55:00, 2023-11-05 12:00:00]|ALXN|104.12333333333333|139.99            |[2023-11-05 11:50:00, 2023-11-05 11:55:00]|\n",
      "|[2023-11-05 12:25:00, 2023-11-05 12:30:00]|ALXN|151.95499999999998|173.71            |[2023-11-05 12:20:00, 2023-11-05 12:25:00]|\n",
      "|[2023-11-05 11:10:00, 2023-11-05 11:15:00]|GIS |49.35666666666666 |50.5207           |[2023-11-05 11:05:00, 2023-11-05 11:10:00]|\n",
      "|[2023-11-05 11:15:00, 2023-11-05 11:20:00]|GIS |48.6              |49.35666666666666 |[2023-11-05 11:10:00, 2023-11-05 11:15:00]|\n",
      "|[2023-11-05 11:50:00, 2023-11-05 11:55:00]|GIS |51.80505          |60.67             |[2023-11-05 11:45:00, 2023-11-05 11:50:00]|\n",
      "|[2023-11-05 12:00:00, 2023-11-05 12:05:00]|GIS |51.05             |53.275000000000006|[2023-11-05 11:55:00, 2023-11-05 12:00:00]|\n",
      "|[2023-11-05 12:05:00, 2023-11-05 12:10:00]|GIS |51.010000000000005|51.05             |[2023-11-05 12:00:00, 2023-11-05 12:05:00]|\n",
      "|[2023-11-05 12:15:00, 2023-11-05 12:20:00]|GIS |52.66             |53.3              |[2023-11-05 12:10:00, 2023-11-05 12:15:00]|\n",
      "|[2023-11-05 11:20:00, 2023-11-05 11:25:00]|K   |66.23             |67.63             |[2023-11-05 11:15:00, 2023-11-05 11:20:00]|\n",
      "|[2023-11-05 11:25:00, 2023-11-05 11:30:00]|K   |62.1798           |66.23             |[2023-11-05 11:20:00, 2023-11-05 11:25:00]|\n",
      "|[2023-11-05 11:50:00, 2023-11-05 11:55:00]|K   |71.255            |73.32             |[2023-11-05 11:45:00, 2023-11-05 11:50:00]|\n",
      "|[2023-11-05 11:55:00, 2023-11-05 12:00:00]|K   |66.625            |71.255            |[2023-11-05 11:50:00, 2023-11-05 11:55:00]|\n",
      "|[2023-11-05 12:00:00, 2023-11-05 12:05:00]|K   |61.11             |66.625            |[2023-11-05 11:55:00, 2023-11-05 12:00:00]|\n",
      "|[2023-11-05 11:20:00, 2023-11-05 11:25:00]|LEN |35.5196           |38.958349999999996|[2023-11-05 11:15:00, 2023-11-05 11:20:00]|\n",
      "|[2023-11-05 11:30:00, 2023-11-05 11:35:00]|LEN |49.5392           |49.676500000000004|[2023-11-05 11:25:00, 2023-11-05 11:30:00]|\n",
      "|[2023-11-05 11:35:00, 2023-11-05 11:40:00]|LEN |47.4216           |49.5392           |[2023-11-05 11:30:00, 2023-11-05 11:35:00]|\n",
      "|[2023-11-05 11:40:00, 2023-11-05 11:45:00]|LEN |46.4265           |47.4216           |[2023-11-05 11:35:00, 2023-11-05 11:40:00]|\n",
      "|[2023-11-05 12:00:00, 2023-11-05 12:05:00]|LEN |33.66013333333333 |61.82             |[2023-11-05 11:55:00, 2023-11-05 12:00:00]|\n",
      "+------------------------------------------+----+------------------+------------------+------------------------------------------+\n",
      "only showing top 20 rows\n",
      "\n"
     ]
    },
    {
     "name": "stderr",
     "output_type": "stream",
     "text": [
      "                                                                                \r"
     ]
    },
    {
     "name": "stdout",
     "output_type": "stream",
     "text": [
      "+------------------------------------------+----+------------------+------------------+------------------------------------------+\n",
      "|window                                    |name|avg(price)        |previous_price    |previous_window                           |\n",
      "+------------------------------------------+----+------------------+------------------+------------------------------------------+\n",
      "|[2023-11-05 11:15:00, 2023-11-05 11:20:00]|ALXN|180.2             |108.02            |[2023-11-05 11:10:00, 2023-11-05 11:15:00]|\n",
      "|[2023-11-05 11:25:00, 2023-11-05 11:30:00]|ALXN|186.99            |164.66            |[2023-11-05 11:20:00, 2023-11-05 11:25:00]|\n",
      "|[2023-11-05 11:30:00, 2023-11-05 11:35:00]|ALXN|201.66995         |186.99            |[2023-11-05 11:25:00, 2023-11-05 11:30:00]|\n",
      "|[2023-11-05 11:50:00, 2023-11-05 11:55:00]|ALXN|139.99            |127.81            |[2023-11-05 11:45:00, 2023-11-05 11:50:00]|\n",
      "|[2023-11-05 12:00:00, 2023-11-05 12:05:00]|ALXN|116.72            |104.12333333333333|[2023-11-05 11:55:00, 2023-11-05 12:00:00]|\n",
      "|[2023-11-05 12:05:00, 2023-11-05 12:10:00]|ALXN|161.12666666666667|116.72            |[2023-11-05 12:00:00, 2023-11-05 12:05:00]|\n",
      "|[2023-11-05 12:20:00, 2023-11-05 12:25:00]|ALXN|173.71            |161.12666666666667|[2023-11-05 12:05:00, 2023-11-05 12:10:00]|\n",
      "|[2023-11-05 11:20:00, 2023-11-05 11:25:00]|GIS |50.92             |48.6              |[2023-11-05 11:15:00, 2023-11-05 11:20:00]|\n",
      "|[2023-11-05 11:30:00, 2023-11-05 11:35:00]|GIS |57.61             |50.92             |[2023-11-05 11:20:00, 2023-11-05 11:25:00]|\n",
      "|[2023-11-05 11:45:00, 2023-11-05 11:50:00]|GIS |60.67             |57.61             |[2023-11-05 11:30:00, 2023-11-05 11:35:00]|\n",
      "|[2023-11-05 11:55:00, 2023-11-05 12:00:00]|GIS |53.275000000000006|51.80505          |[2023-11-05 11:50:00, 2023-11-05 11:55:00]|\n",
      "|[2023-11-05 12:10:00, 2023-11-05 12:15:00]|GIS |53.3              |51.010000000000005|[2023-11-05 12:05:00, 2023-11-05 12:10:00]|\n",
      "|[2023-11-05 12:20:00, 2023-11-05 12:25:00]|GIS |57.754999999999995|52.66             |[2023-11-05 12:15:00, 2023-11-05 12:20:00]|\n",
      "|[2023-11-05 11:15:00, 2023-11-05 11:20:00]|K   |67.63             |65.865            |[2023-11-05 11:10:00, 2023-11-05 11:15:00]|\n",
      "|[2023-11-05 11:30:00, 2023-11-05 11:35:00]|K   |66.81             |62.1798           |[2023-11-05 11:25:00, 2023-11-05 11:30:00]|\n",
      "|[2023-11-05 11:45:00, 2023-11-05 11:50:00]|K   |73.32             |66.81             |[2023-11-05 11:30:00, 2023-11-05 11:35:00]|\n",
      "|[2023-11-05 12:05:00, 2023-11-05 12:10:00]|K   |64.26             |61.11             |[2023-11-05 12:00:00, 2023-11-05 12:05:00]|\n",
      "|[2023-11-05 12:15:00, 2023-11-05 12:20:00]|K   |64.2625           |64.26             |[2023-11-05 12:05:00, 2023-11-05 12:10:00]|\n",
      "|[2023-11-05 12:20:00, 2023-11-05 12:25:00]|K   |65.02             |64.2625           |[2023-11-05 12:15:00, 2023-11-05 12:20:00]|\n",
      "|[2023-11-05 11:15:00, 2023-11-05 11:20:00]|LEN |38.958349999999996|33.89705          |[2023-11-05 11:10:00, 2023-11-05 11:15:00]|\n",
      "+------------------------------------------+----+------------------+------------------+------------------------------------------+\n",
      "only showing top 20 rows\n",
      "\n"
     ]
    },
    {
     "name": "stderr",
     "output_type": "stream",
     "text": [
      "                                                                                \r"
     ]
    },
    {
     "name": "stdout",
     "output_type": "stream",
     "text": [
      "+------------------------------------------+----+------------------+------------------+------------------------------------------+\n",
      "|window                                    |name|avg(price)        |previous_price    |previous_window                           |\n",
      "+------------------------------------------+----+------------------+------------------+------------------------------------------+\n",
      "|[2023-11-05 11:20:00, 2023-11-05 11:25:00]|ALXN|164.66            |180.2             |[2023-11-05 11:15:00, 2023-11-05 11:20:00]|\n",
      "|[2023-11-05 11:45:00, 2023-11-05 11:50:00]|ALXN|127.81            |201.66995         |[2023-11-05 11:30:00, 2023-11-05 11:35:00]|\n",
      "|[2023-11-05 11:55:00, 2023-11-05 12:00:00]|ALXN|104.12333333333333|139.99            |[2023-11-05 11:50:00, 2023-11-05 11:55:00]|\n",
      "|[2023-11-05 12:25:00, 2023-11-05 12:30:00]|ALXN|151.95499999999998|173.71            |[2023-11-05 12:20:00, 2023-11-05 12:25:00]|\n",
      "|[2023-11-05 11:10:00, 2023-11-05 11:15:00]|GIS |49.35666666666666 |50.5207           |[2023-11-05 11:05:00, 2023-11-05 11:10:00]|\n",
      "|[2023-11-05 11:15:00, 2023-11-05 11:20:00]|GIS |48.6              |49.35666666666666 |[2023-11-05 11:10:00, 2023-11-05 11:15:00]|\n",
      "|[2023-11-05 11:50:00, 2023-11-05 11:55:00]|GIS |51.80505          |60.67             |[2023-11-05 11:45:00, 2023-11-05 11:50:00]|\n",
      "|[2023-11-05 12:00:00, 2023-11-05 12:05:00]|GIS |51.05             |53.275000000000006|[2023-11-05 11:55:00, 2023-11-05 12:00:00]|\n",
      "|[2023-11-05 12:05:00, 2023-11-05 12:10:00]|GIS |51.010000000000005|51.05             |[2023-11-05 12:00:00, 2023-11-05 12:05:00]|\n",
      "|[2023-11-05 12:15:00, 2023-11-05 12:20:00]|GIS |52.66             |53.3              |[2023-11-05 12:10:00, 2023-11-05 12:15:00]|\n",
      "|[2023-11-05 11:20:00, 2023-11-05 11:25:00]|K   |66.23             |67.63             |[2023-11-05 11:15:00, 2023-11-05 11:20:00]|\n",
      "|[2023-11-05 11:25:00, 2023-11-05 11:30:00]|K   |62.1798           |66.23             |[2023-11-05 11:20:00, 2023-11-05 11:25:00]|\n",
      "|[2023-11-05 11:50:00, 2023-11-05 11:55:00]|K   |71.255            |73.32             |[2023-11-05 11:45:00, 2023-11-05 11:50:00]|\n",
      "|[2023-11-05 11:55:00, 2023-11-05 12:00:00]|K   |66.625            |71.255            |[2023-11-05 11:50:00, 2023-11-05 11:55:00]|\n",
      "|[2023-11-05 12:00:00, 2023-11-05 12:05:00]|K   |61.11             |66.625            |[2023-11-05 11:55:00, 2023-11-05 12:00:00]|\n",
      "|[2023-11-05 11:20:00, 2023-11-05 11:25:00]|LEN |35.5196           |38.958349999999996|[2023-11-05 11:15:00, 2023-11-05 11:20:00]|\n",
      "|[2023-11-05 11:30:00, 2023-11-05 11:35:00]|LEN |49.5392           |49.676500000000004|[2023-11-05 11:25:00, 2023-11-05 11:30:00]|\n",
      "|[2023-11-05 11:35:00, 2023-11-05 11:40:00]|LEN |47.4216           |49.5392           |[2023-11-05 11:30:00, 2023-11-05 11:35:00]|\n",
      "|[2023-11-05 11:40:00, 2023-11-05 11:45:00]|LEN |46.4265           |47.4216           |[2023-11-05 11:35:00, 2023-11-05 11:40:00]|\n",
      "|[2023-11-05 12:00:00, 2023-11-05 12:05:00]|LEN |33.66013333333333 |61.82             |[2023-11-05 11:55:00, 2023-11-05 12:00:00]|\n",
      "+------------------------------------------+----+------------------+------------------+------------------------------------------+\n",
      "only showing top 20 rows\n",
      "\n"
     ]
    },
    {
     "name": "stderr",
     "output_type": "stream",
     "text": [
      "                                                                                \r"
     ]
    },
    {
     "name": "stdout",
     "output_type": "stream",
     "text": [
      "+------------------------------------------+----+------------------+------------------+------------------------------------------+\n",
      "|window                                    |name|avg(price)        |previous_price    |previous_window                           |\n",
      "+------------------------------------------+----+------------------+------------------+------------------------------------------+\n",
      "|[2023-11-05 11:15:00, 2023-11-05 11:20:00]|ALXN|180.2             |108.02            |[2023-11-05 11:10:00, 2023-11-05 11:15:00]|\n",
      "|[2023-11-05 11:25:00, 2023-11-05 11:30:00]|ALXN|186.99            |164.66            |[2023-11-05 11:20:00, 2023-11-05 11:25:00]|\n",
      "|[2023-11-05 11:30:00, 2023-11-05 11:35:00]|ALXN|201.66995         |186.99            |[2023-11-05 11:25:00, 2023-11-05 11:30:00]|\n",
      "|[2023-11-05 11:50:00, 2023-11-05 11:55:00]|ALXN|139.99            |127.81            |[2023-11-05 11:45:00, 2023-11-05 11:50:00]|\n",
      "|[2023-11-05 12:00:00, 2023-11-05 12:05:00]|ALXN|116.72            |104.12333333333333|[2023-11-05 11:55:00, 2023-11-05 12:00:00]|\n",
      "|[2023-11-05 12:05:00, 2023-11-05 12:10:00]|ALXN|161.12666666666667|116.72            |[2023-11-05 12:00:00, 2023-11-05 12:05:00]|\n",
      "|[2023-11-05 12:20:00, 2023-11-05 12:25:00]|ALXN|173.71            |161.12666666666667|[2023-11-05 12:05:00, 2023-11-05 12:10:00]|\n",
      "|[2023-11-05 11:20:00, 2023-11-05 11:25:00]|GIS |50.92             |48.6              |[2023-11-05 11:15:00, 2023-11-05 11:20:00]|\n",
      "|[2023-11-05 11:30:00, 2023-11-05 11:35:00]|GIS |57.61             |50.92             |[2023-11-05 11:20:00, 2023-11-05 11:25:00]|\n",
      "|[2023-11-05 11:45:00, 2023-11-05 11:50:00]|GIS |60.67             |57.61             |[2023-11-05 11:30:00, 2023-11-05 11:35:00]|\n",
      "|[2023-11-05 11:55:00, 2023-11-05 12:00:00]|GIS |53.275000000000006|51.80505          |[2023-11-05 11:50:00, 2023-11-05 11:55:00]|\n",
      "|[2023-11-05 12:10:00, 2023-11-05 12:15:00]|GIS |53.3              |51.010000000000005|[2023-11-05 12:05:00, 2023-11-05 12:10:00]|\n",
      "|[2023-11-05 12:20:00, 2023-11-05 12:25:00]|GIS |57.754999999999995|52.66             |[2023-11-05 12:15:00, 2023-11-05 12:20:00]|\n",
      "|[2023-11-05 11:15:00, 2023-11-05 11:20:00]|K   |67.63             |65.865            |[2023-11-05 11:10:00, 2023-11-05 11:15:00]|\n",
      "|[2023-11-05 11:30:00, 2023-11-05 11:35:00]|K   |66.81             |62.1798           |[2023-11-05 11:25:00, 2023-11-05 11:30:00]|\n",
      "|[2023-11-05 11:45:00, 2023-11-05 11:50:00]|K   |73.32             |66.81             |[2023-11-05 11:30:00, 2023-11-05 11:35:00]|\n",
      "|[2023-11-05 12:05:00, 2023-11-05 12:10:00]|K   |64.26             |61.11             |[2023-11-05 12:00:00, 2023-11-05 12:05:00]|\n",
      "|[2023-11-05 12:15:00, 2023-11-05 12:20:00]|K   |64.2625           |64.26             |[2023-11-05 12:05:00, 2023-11-05 12:10:00]|\n",
      "|[2023-11-05 12:20:00, 2023-11-05 12:25:00]|K   |65.02             |64.2625           |[2023-11-05 12:15:00, 2023-11-05 12:20:00]|\n",
      "|[2023-11-05 11:15:00, 2023-11-05 11:20:00]|LEN |38.958349999999996|33.89705          |[2023-11-05 11:10:00, 2023-11-05 11:15:00]|\n",
      "+------------------------------------------+----+------------------+------------------+------------------------------------------+\n",
      "only showing top 20 rows\n",
      "\n"
     ]
    },
    {
     "name": "stderr",
     "output_type": "stream",
     "text": [
      "                                                                                \r"
     ]
    },
    {
     "name": "stdout",
     "output_type": "stream",
     "text": [
      "+------------------------------------------+----+------------------+------------------+------------------------------------------+\n",
      "|window                                    |name|avg(price)        |previous_price    |previous_window                           |\n",
      "+------------------------------------------+----+------------------+------------------+------------------------------------------+\n",
      "|[2023-11-05 11:20:00, 2023-11-05 11:25:00]|ALXN|164.66            |180.2             |[2023-11-05 11:15:00, 2023-11-05 11:20:00]|\n",
      "|[2023-11-05 11:45:00, 2023-11-05 11:50:00]|ALXN|127.81            |201.66995         |[2023-11-05 11:30:00, 2023-11-05 11:35:00]|\n",
      "|[2023-11-05 11:55:00, 2023-11-05 12:00:00]|ALXN|104.12333333333333|139.99            |[2023-11-05 11:50:00, 2023-11-05 11:55:00]|\n",
      "|[2023-11-05 12:25:00, 2023-11-05 12:30:00]|ALXN|151.95499999999998|173.71            |[2023-11-05 12:20:00, 2023-11-05 12:25:00]|\n",
      "|[2023-11-05 11:10:00, 2023-11-05 11:15:00]|GIS |49.35666666666666 |50.5207           |[2023-11-05 11:05:00, 2023-11-05 11:10:00]|\n",
      "|[2023-11-05 11:15:00, 2023-11-05 11:20:00]|GIS |48.6              |49.35666666666666 |[2023-11-05 11:10:00, 2023-11-05 11:15:00]|\n",
      "|[2023-11-05 11:50:00, 2023-11-05 11:55:00]|GIS |51.80505          |60.67             |[2023-11-05 11:45:00, 2023-11-05 11:50:00]|\n",
      "|[2023-11-05 12:00:00, 2023-11-05 12:05:00]|GIS |51.05             |53.275000000000006|[2023-11-05 11:55:00, 2023-11-05 12:00:00]|\n",
      "|[2023-11-05 12:05:00, 2023-11-05 12:10:00]|GIS |51.010000000000005|51.05             |[2023-11-05 12:00:00, 2023-11-05 12:05:00]|\n",
      "|[2023-11-05 12:15:00, 2023-11-05 12:20:00]|GIS |52.66             |53.3              |[2023-11-05 12:10:00, 2023-11-05 12:15:00]|\n",
      "|[2023-11-05 11:20:00, 2023-11-05 11:25:00]|K   |66.23             |67.63             |[2023-11-05 11:15:00, 2023-11-05 11:20:00]|\n",
      "|[2023-11-05 11:25:00, 2023-11-05 11:30:00]|K   |62.1798           |66.23             |[2023-11-05 11:20:00, 2023-11-05 11:25:00]|\n",
      "|[2023-11-05 11:50:00, 2023-11-05 11:55:00]|K   |71.255            |73.32             |[2023-11-05 11:45:00, 2023-11-05 11:50:00]|\n",
      "|[2023-11-05 11:55:00, 2023-11-05 12:00:00]|K   |66.625            |71.255            |[2023-11-05 11:50:00, 2023-11-05 11:55:00]|\n",
      "|[2023-11-05 12:00:00, 2023-11-05 12:05:00]|K   |61.11             |66.625            |[2023-11-05 11:55:00, 2023-11-05 12:00:00]|\n",
      "|[2023-11-05 11:20:00, 2023-11-05 11:25:00]|LEN |35.5196           |38.958349999999996|[2023-11-05 11:15:00, 2023-11-05 11:20:00]|\n",
      "|[2023-11-05 11:30:00, 2023-11-05 11:35:00]|LEN |49.5392           |49.676500000000004|[2023-11-05 11:25:00, 2023-11-05 11:30:00]|\n",
      "|[2023-11-05 11:35:00, 2023-11-05 11:40:00]|LEN |47.4216           |49.5392           |[2023-11-05 11:30:00, 2023-11-05 11:35:00]|\n",
      "|[2023-11-05 11:40:00, 2023-11-05 11:45:00]|LEN |46.4265           |47.4216           |[2023-11-05 11:35:00, 2023-11-05 11:40:00]|\n",
      "|[2023-11-05 12:00:00, 2023-11-05 12:05:00]|LEN |33.66013333333333 |61.82             |[2023-11-05 11:55:00, 2023-11-05 12:00:00]|\n",
      "+------------------------------------------+----+------------------+------------------+------------------------------------------+\n",
      "only showing top 20 rows\n",
      "\n"
     ]
    },
    {
     "name": "stderr",
     "output_type": "stream",
     "text": [
      "                                                                                \r"
     ]
    },
    {
     "name": "stdout",
     "output_type": "stream",
     "text": [
      "+------------------------------------------+----+------------------+------------------+------------------------------------------+\n",
      "|window                                    |name|avg(price)        |previous_price    |previous_window                           |\n",
      "+------------------------------------------+----+------------------+------------------+------------------------------------------+\n",
      "|[2023-11-05 11:15:00, 2023-11-05 11:20:00]|ALXN|180.2             |108.02            |[2023-11-05 11:10:00, 2023-11-05 11:15:00]|\n",
      "|[2023-11-05 11:25:00, 2023-11-05 11:30:00]|ALXN|186.99            |164.66            |[2023-11-05 11:20:00, 2023-11-05 11:25:00]|\n",
      "|[2023-11-05 11:30:00, 2023-11-05 11:35:00]|ALXN|201.66995         |186.99            |[2023-11-05 11:25:00, 2023-11-05 11:30:00]|\n",
      "|[2023-11-05 11:50:00, 2023-11-05 11:55:00]|ALXN|139.99            |127.81            |[2023-11-05 11:45:00, 2023-11-05 11:50:00]|\n",
      "|[2023-11-05 12:00:00, 2023-11-05 12:05:00]|ALXN|116.72            |104.12333333333333|[2023-11-05 11:55:00, 2023-11-05 12:00:00]|\n",
      "|[2023-11-05 12:05:00, 2023-11-05 12:10:00]|ALXN|161.12666666666667|116.72            |[2023-11-05 12:00:00, 2023-11-05 12:05:00]|\n",
      "|[2023-11-05 12:20:00, 2023-11-05 12:25:00]|ALXN|173.71            |161.12666666666667|[2023-11-05 12:05:00, 2023-11-05 12:10:00]|\n",
      "|[2023-11-05 11:20:00, 2023-11-05 11:25:00]|GIS |50.92             |48.6              |[2023-11-05 11:15:00, 2023-11-05 11:20:00]|\n",
      "|[2023-11-05 11:30:00, 2023-11-05 11:35:00]|GIS |57.61             |50.92             |[2023-11-05 11:20:00, 2023-11-05 11:25:00]|\n",
      "|[2023-11-05 11:45:00, 2023-11-05 11:50:00]|GIS |60.67             |57.61             |[2023-11-05 11:30:00, 2023-11-05 11:35:00]|\n",
      "|[2023-11-05 11:55:00, 2023-11-05 12:00:00]|GIS |53.275000000000006|51.80505          |[2023-11-05 11:50:00, 2023-11-05 11:55:00]|\n",
      "|[2023-11-05 12:10:00, 2023-11-05 12:15:00]|GIS |53.3              |51.010000000000005|[2023-11-05 12:05:00, 2023-11-05 12:10:00]|\n",
      "|[2023-11-05 12:20:00, 2023-11-05 12:25:00]|GIS |57.754999999999995|52.66             |[2023-11-05 12:15:00, 2023-11-05 12:20:00]|\n",
      "|[2023-11-05 11:15:00, 2023-11-05 11:20:00]|K   |67.63             |65.865            |[2023-11-05 11:10:00, 2023-11-05 11:15:00]|\n",
      "|[2023-11-05 11:30:00, 2023-11-05 11:35:00]|K   |66.81             |62.1798           |[2023-11-05 11:25:00, 2023-11-05 11:30:00]|\n",
      "|[2023-11-05 11:45:00, 2023-11-05 11:50:00]|K   |73.32             |66.81             |[2023-11-05 11:30:00, 2023-11-05 11:35:00]|\n",
      "|[2023-11-05 12:05:00, 2023-11-05 12:10:00]|K   |64.26             |61.11             |[2023-11-05 12:00:00, 2023-11-05 12:05:00]|\n",
      "|[2023-11-05 12:15:00, 2023-11-05 12:20:00]|K   |64.2625           |64.26             |[2023-11-05 12:05:00, 2023-11-05 12:10:00]|\n",
      "|[2023-11-05 12:20:00, 2023-11-05 12:25:00]|K   |65.02             |64.2625           |[2023-11-05 12:15:00, 2023-11-05 12:20:00]|\n",
      "|[2023-11-05 11:15:00, 2023-11-05 11:20:00]|LEN |38.958349999999996|33.89705          |[2023-11-05 11:10:00, 2023-11-05 11:15:00]|\n",
      "+------------------------------------------+----+------------------+------------------+------------------------------------------+\n",
      "only showing top 20 rows\n",
      "\n"
     ]
    },
    {
     "name": "stderr",
     "output_type": "stream",
     "text": [
      "[Stage 3536:> (0 + 0) / 1][Stage 3539:> (0 + 0) / 1][Stage 3541:> (0 + 0) / 1]1]\r"
     ]
    },
    {
     "name": "stdout",
     "output_type": "stream",
     "text": [
      "+------------------------------------------+----+------------------+------------------+------------------------------------------+\n",
      "|window                                    |name|avg(price)        |previous_price    |previous_window                           |\n",
      "+------------------------------------------+----+------------------+------------------+------------------------------------------+\n",
      "|[2023-11-05 11:20:00, 2023-11-05 11:25:00]|ALXN|164.66            |180.2             |[2023-11-05 11:15:00, 2023-11-05 11:20:00]|\n",
      "|[2023-11-05 11:45:00, 2023-11-05 11:50:00]|ALXN|127.81            |201.66995         |[2023-11-05 11:30:00, 2023-11-05 11:35:00]|\n",
      "|[2023-11-05 11:55:00, 2023-11-05 12:00:00]|ALXN|104.12333333333333|139.99            |[2023-11-05 11:50:00, 2023-11-05 11:55:00]|\n",
      "|[2023-11-05 12:25:00, 2023-11-05 12:30:00]|ALXN|148.73833333333332|173.71            |[2023-11-05 12:20:00, 2023-11-05 12:25:00]|\n",
      "|[2023-11-05 11:10:00, 2023-11-05 11:15:00]|GIS |49.35666666666666 |50.5207           |[2023-11-05 11:05:00, 2023-11-05 11:10:00]|\n",
      "|[2023-11-05 11:15:00, 2023-11-05 11:20:00]|GIS |48.6              |49.35666666666666 |[2023-11-05 11:10:00, 2023-11-05 11:15:00]|\n",
      "|[2023-11-05 11:50:00, 2023-11-05 11:55:00]|GIS |51.80505          |60.67             |[2023-11-05 11:45:00, 2023-11-05 11:50:00]|\n",
      "|[2023-11-05 12:00:00, 2023-11-05 12:05:00]|GIS |51.05             |53.275000000000006|[2023-11-05 11:55:00, 2023-11-05 12:00:00]|\n",
      "|[2023-11-05 12:05:00, 2023-11-05 12:10:00]|GIS |51.010000000000005|51.05             |[2023-11-05 12:00:00, 2023-11-05 12:05:00]|\n",
      "|[2023-11-05 12:15:00, 2023-11-05 12:20:00]|GIS |52.66             |53.3              |[2023-11-05 12:10:00, 2023-11-05 12:15:00]|\n",
      "|[2023-11-05 11:20:00, 2023-11-05 11:25:00]|K   |66.23             |67.63             |[2023-11-05 11:15:00, 2023-11-05 11:20:00]|\n",
      "|[2023-11-05 11:25:00, 2023-11-05 11:30:00]|K   |62.1798           |66.23             |[2023-11-05 11:20:00, 2023-11-05 11:25:00]|\n",
      "|[2023-11-05 11:50:00, 2023-11-05 11:55:00]|K   |71.255            |73.32             |[2023-11-05 11:45:00, 2023-11-05 11:50:00]|\n",
      "|[2023-11-05 11:55:00, 2023-11-05 12:00:00]|K   |66.625            |71.255            |[2023-11-05 11:50:00, 2023-11-05 11:55:00]|\n",
      "|[2023-11-05 12:00:00, 2023-11-05 12:05:00]|K   |61.11             |66.625            |[2023-11-05 11:55:00, 2023-11-05 12:00:00]|\n",
      "|[2023-11-05 11:20:00, 2023-11-05 11:25:00]|LEN |35.5196           |38.958349999999996|[2023-11-05 11:15:00, 2023-11-05 11:20:00]|\n",
      "|[2023-11-05 11:30:00, 2023-11-05 11:35:00]|LEN |49.5392           |49.676500000000004|[2023-11-05 11:25:00, 2023-11-05 11:30:00]|\n",
      "|[2023-11-05 11:35:00, 2023-11-05 11:40:00]|LEN |47.4216           |49.5392           |[2023-11-05 11:30:00, 2023-11-05 11:35:00]|\n",
      "|[2023-11-05 11:40:00, 2023-11-05 11:45:00]|LEN |46.4265           |47.4216           |[2023-11-05 11:35:00, 2023-11-05 11:40:00]|\n",
      "|[2023-11-05 12:00:00, 2023-11-05 12:05:00]|LEN |33.66013333333333 |61.82             |[2023-11-05 11:55:00, 2023-11-05 12:00:00]|\n",
      "+------------------------------------------+----+------------------+------------------+------------------------------------------+\n",
      "only showing top 20 rows\n",
      "\n"
     ]
    },
    {
     "name": "stderr",
     "output_type": "stream",
     "text": [
      "                                                                                \r"
     ]
    },
    {
     "name": "stdout",
     "output_type": "stream",
     "text": [
      "+------------------------------------------+----+------------------+------------------+------------------------------------------+\n",
      "|window                                    |name|avg(price)        |previous_price    |previous_window                           |\n",
      "+------------------------------------------+----+------------------+------------------+------------------------------------------+\n",
      "|[2023-11-05 11:15:00, 2023-11-05 11:20:00]|ALXN|180.2             |108.02            |[2023-11-05 11:10:00, 2023-11-05 11:15:00]|\n",
      "|[2023-11-05 11:25:00, 2023-11-05 11:30:00]|ALXN|186.99            |164.66            |[2023-11-05 11:20:00, 2023-11-05 11:25:00]|\n",
      "|[2023-11-05 11:30:00, 2023-11-05 11:35:00]|ALXN|201.66995         |186.99            |[2023-11-05 11:25:00, 2023-11-05 11:30:00]|\n",
      "|[2023-11-05 11:50:00, 2023-11-05 11:55:00]|ALXN|139.99            |127.81            |[2023-11-05 11:45:00, 2023-11-05 11:50:00]|\n",
      "|[2023-11-05 12:00:00, 2023-11-05 12:05:00]|ALXN|116.72            |104.12333333333333|[2023-11-05 11:55:00, 2023-11-05 12:00:00]|\n",
      "|[2023-11-05 12:05:00, 2023-11-05 12:10:00]|ALXN|161.12666666666667|116.72            |[2023-11-05 12:00:00, 2023-11-05 12:05:00]|\n",
      "|[2023-11-05 12:20:00, 2023-11-05 12:25:00]|ALXN|173.71            |161.12666666666667|[2023-11-05 12:05:00, 2023-11-05 12:10:00]|\n",
      "|[2023-11-05 11:20:00, 2023-11-05 11:25:00]|GIS |50.92             |48.6              |[2023-11-05 11:15:00, 2023-11-05 11:20:00]|\n",
      "|[2023-11-05 11:30:00, 2023-11-05 11:35:00]|GIS |57.61             |50.92             |[2023-11-05 11:20:00, 2023-11-05 11:25:00]|\n",
      "|[2023-11-05 11:45:00, 2023-11-05 11:50:00]|GIS |60.67             |57.61             |[2023-11-05 11:30:00, 2023-11-05 11:35:00]|\n",
      "|[2023-11-05 11:55:00, 2023-11-05 12:00:00]|GIS |53.275000000000006|51.80505          |[2023-11-05 11:50:00, 2023-11-05 11:55:00]|\n",
      "|[2023-11-05 12:10:00, 2023-11-05 12:15:00]|GIS |53.3              |51.010000000000005|[2023-11-05 12:05:00, 2023-11-05 12:10:00]|\n",
      "|[2023-11-05 12:20:00, 2023-11-05 12:25:00]|GIS |57.754999999999995|52.66             |[2023-11-05 12:15:00, 2023-11-05 12:20:00]|\n",
      "|[2023-11-05 11:15:00, 2023-11-05 11:20:00]|K   |67.63             |65.865            |[2023-11-05 11:10:00, 2023-11-05 11:15:00]|\n",
      "|[2023-11-05 11:30:00, 2023-11-05 11:35:00]|K   |66.81             |62.1798           |[2023-11-05 11:25:00, 2023-11-05 11:30:00]|\n",
      "|[2023-11-05 11:45:00, 2023-11-05 11:50:00]|K   |73.32             |66.81             |[2023-11-05 11:30:00, 2023-11-05 11:35:00]|\n",
      "|[2023-11-05 12:05:00, 2023-11-05 12:10:00]|K   |64.26             |61.11             |[2023-11-05 12:00:00, 2023-11-05 12:05:00]|\n",
      "|[2023-11-05 12:15:00, 2023-11-05 12:20:00]|K   |64.2625           |64.26             |[2023-11-05 12:05:00, 2023-11-05 12:10:00]|\n",
      "|[2023-11-05 12:20:00, 2023-11-05 12:25:00]|K   |65.02             |64.2625           |[2023-11-05 12:15:00, 2023-11-05 12:20:00]|\n",
      "|[2023-11-05 11:15:00, 2023-11-05 11:20:00]|LEN |38.958349999999996|33.89705          |[2023-11-05 11:10:00, 2023-11-05 11:15:00]|\n",
      "+------------------------------------------+----+------------------+------------------+------------------------------------------+\n",
      "only showing top 20 rows\n",
      "\n"
     ]
    },
    {
     "name": "stderr",
     "output_type": "stream",
     "text": [
      "                                                                                \r"
     ]
    },
    {
     "name": "stdout",
     "output_type": "stream",
     "text": [
      "+------------------------------------------+----+------------------+------------------+------------------------------------------+\n",
      "|window                                    |name|avg(price)        |previous_price    |previous_window                           |\n",
      "+------------------------------------------+----+------------------+------------------+------------------------------------------+\n",
      "|[2023-11-05 11:20:00, 2023-11-05 11:25:00]|ALXN|164.66            |180.2             |[2023-11-05 11:15:00, 2023-11-05 11:20:00]|\n",
      "|[2023-11-05 11:45:00, 2023-11-05 11:50:00]|ALXN|127.81            |201.66995         |[2023-11-05 11:30:00, 2023-11-05 11:35:00]|\n",
      "|[2023-11-05 11:55:00, 2023-11-05 12:00:00]|ALXN|104.12333333333333|139.99            |[2023-11-05 11:50:00, 2023-11-05 11:55:00]|\n",
      "|[2023-11-05 12:25:00, 2023-11-05 12:30:00]|ALXN|148.73833333333332|173.71            |[2023-11-05 12:20:00, 2023-11-05 12:25:00]|\n",
      "|[2023-11-05 11:10:00, 2023-11-05 11:15:00]|GIS |49.35666666666666 |50.5207           |[2023-11-05 11:05:00, 2023-11-05 11:10:00]|\n",
      "|[2023-11-05 11:15:00, 2023-11-05 11:20:00]|GIS |48.6              |49.35666666666666 |[2023-11-05 11:10:00, 2023-11-05 11:15:00]|\n",
      "|[2023-11-05 11:50:00, 2023-11-05 11:55:00]|GIS |51.80505          |60.67             |[2023-11-05 11:45:00, 2023-11-05 11:50:00]|\n",
      "|[2023-11-05 12:00:00, 2023-11-05 12:05:00]|GIS |51.05             |53.275000000000006|[2023-11-05 11:55:00, 2023-11-05 12:00:00]|\n",
      "|[2023-11-05 12:05:00, 2023-11-05 12:10:00]|GIS |51.010000000000005|51.05             |[2023-11-05 12:00:00, 2023-11-05 12:05:00]|\n",
      "|[2023-11-05 12:15:00, 2023-11-05 12:20:00]|GIS |52.66             |53.3              |[2023-11-05 12:10:00, 2023-11-05 12:15:00]|\n",
      "|[2023-11-05 11:20:00, 2023-11-05 11:25:00]|K   |66.23             |67.63             |[2023-11-05 11:15:00, 2023-11-05 11:20:00]|\n",
      "|[2023-11-05 11:25:00, 2023-11-05 11:30:00]|K   |62.1798           |66.23             |[2023-11-05 11:20:00, 2023-11-05 11:25:00]|\n",
      "|[2023-11-05 11:50:00, 2023-11-05 11:55:00]|K   |71.255            |73.32             |[2023-11-05 11:45:00, 2023-11-05 11:50:00]|\n",
      "|[2023-11-05 11:55:00, 2023-11-05 12:00:00]|K   |66.625            |71.255            |[2023-11-05 11:50:00, 2023-11-05 11:55:00]|\n",
      "|[2023-11-05 12:00:00, 2023-11-05 12:05:00]|K   |61.11             |66.625            |[2023-11-05 11:55:00, 2023-11-05 12:00:00]|\n",
      "|[2023-11-05 11:20:00, 2023-11-05 11:25:00]|LEN |35.5196           |38.958349999999996|[2023-11-05 11:15:00, 2023-11-05 11:20:00]|\n",
      "|[2023-11-05 11:30:00, 2023-11-05 11:35:00]|LEN |49.5392           |49.676500000000004|[2023-11-05 11:25:00, 2023-11-05 11:30:00]|\n",
      "|[2023-11-05 11:35:00, 2023-11-05 11:40:00]|LEN |47.4216           |49.5392           |[2023-11-05 11:30:00, 2023-11-05 11:35:00]|\n",
      "|[2023-11-05 11:40:00, 2023-11-05 11:45:00]|LEN |46.4265           |47.4216           |[2023-11-05 11:35:00, 2023-11-05 11:40:00]|\n",
      "|[2023-11-05 12:00:00, 2023-11-05 12:05:00]|LEN |33.66013333333333 |61.82             |[2023-11-05 11:55:00, 2023-11-05 12:00:00]|\n",
      "+------------------------------------------+----+------------------+------------------+------------------------------------------+\n",
      "only showing top 20 rows\n",
      "\n"
     ]
    },
    {
     "name": "stderr",
     "output_type": "stream",
     "text": [
      "                                                                                \r"
     ]
    },
    {
     "name": "stdout",
     "output_type": "stream",
     "text": [
      "+------------------------------------------+----+------------------+------------------+------------------------------------------+\n",
      "|window                                    |name|avg(price)        |previous_price    |previous_window                           |\n",
      "+------------------------------------------+----+------------------+------------------+------------------------------------------+\n",
      "|[2023-11-05 11:15:00, 2023-11-05 11:20:00]|ALXN|180.2             |108.02            |[2023-11-05 11:10:00, 2023-11-05 11:15:00]|\n",
      "|[2023-11-05 11:25:00, 2023-11-05 11:30:00]|ALXN|186.99            |164.66            |[2023-11-05 11:20:00, 2023-11-05 11:25:00]|\n",
      "|[2023-11-05 11:30:00, 2023-11-05 11:35:00]|ALXN|201.66995         |186.99            |[2023-11-05 11:25:00, 2023-11-05 11:30:00]|\n",
      "|[2023-11-05 11:50:00, 2023-11-05 11:55:00]|ALXN|139.99            |127.81            |[2023-11-05 11:45:00, 2023-11-05 11:50:00]|\n",
      "|[2023-11-05 12:00:00, 2023-11-05 12:05:00]|ALXN|116.72            |104.12333333333333|[2023-11-05 11:55:00, 2023-11-05 12:00:00]|\n",
      "|[2023-11-05 12:05:00, 2023-11-05 12:10:00]|ALXN|161.12666666666667|116.72            |[2023-11-05 12:00:00, 2023-11-05 12:05:00]|\n",
      "|[2023-11-05 12:20:00, 2023-11-05 12:25:00]|ALXN|173.71            |161.12666666666667|[2023-11-05 12:05:00, 2023-11-05 12:10:00]|\n",
      "|[2023-11-05 11:20:00, 2023-11-05 11:25:00]|GIS |50.92             |48.6              |[2023-11-05 11:15:00, 2023-11-05 11:20:00]|\n",
      "|[2023-11-05 11:30:00, 2023-11-05 11:35:00]|GIS |57.61             |50.92             |[2023-11-05 11:20:00, 2023-11-05 11:25:00]|\n",
      "|[2023-11-05 11:45:00, 2023-11-05 11:50:00]|GIS |60.67             |57.61             |[2023-11-05 11:30:00, 2023-11-05 11:35:00]|\n",
      "|[2023-11-05 11:55:00, 2023-11-05 12:00:00]|GIS |53.275000000000006|51.80505          |[2023-11-05 11:50:00, 2023-11-05 11:55:00]|\n",
      "|[2023-11-05 12:10:00, 2023-11-05 12:15:00]|GIS |53.3              |51.010000000000005|[2023-11-05 12:05:00, 2023-11-05 12:10:00]|\n",
      "|[2023-11-05 12:20:00, 2023-11-05 12:25:00]|GIS |57.754999999999995|52.66             |[2023-11-05 12:15:00, 2023-11-05 12:20:00]|\n",
      "|[2023-11-05 11:15:00, 2023-11-05 11:20:00]|K   |67.63             |65.865            |[2023-11-05 11:10:00, 2023-11-05 11:15:00]|\n",
      "|[2023-11-05 11:30:00, 2023-11-05 11:35:00]|K   |66.81             |62.1798           |[2023-11-05 11:25:00, 2023-11-05 11:30:00]|\n",
      "|[2023-11-05 11:45:00, 2023-11-05 11:50:00]|K   |73.32             |66.81             |[2023-11-05 11:30:00, 2023-11-05 11:35:00]|\n",
      "|[2023-11-05 12:05:00, 2023-11-05 12:10:00]|K   |64.26             |61.11             |[2023-11-05 12:00:00, 2023-11-05 12:05:00]|\n",
      "|[2023-11-05 12:15:00, 2023-11-05 12:20:00]|K   |64.2625           |64.26             |[2023-11-05 12:05:00, 2023-11-05 12:10:00]|\n",
      "|[2023-11-05 12:20:00, 2023-11-05 12:25:00]|K   |65.02             |64.2625           |[2023-11-05 12:15:00, 2023-11-05 12:20:00]|\n",
      "|[2023-11-05 12:25:00, 2023-11-05 12:30:00]|K   |76.58             |65.02             |[2023-11-05 12:20:00, 2023-11-05 12:25:00]|\n",
      "+------------------------------------------+----+------------------+------------------+------------------------------------------+\n",
      "only showing top 20 rows\n",
      "\n"
     ]
    },
    {
     "name": "stderr",
     "output_type": "stream",
     "text": [
      "[Stage 3595:> (0 + 0) / 1][Stage 3597:> (0 + 0) / 4][Stage 3598:> (0 + 0) / 1]4]\r"
     ]
    },
    {
     "name": "stdout",
     "output_type": "stream",
     "text": [
      "+------------------------------------------+----+------------------+------------------+------------------------------------------+\n",
      "|window                                    |name|avg(price)        |previous_price    |previous_window                           |\n",
      "+------------------------------------------+----+------------------+------------------+------------------------------------------+\n",
      "|[2023-11-05 11:20:00, 2023-11-05 11:25:00]|ALXN|164.66            |180.2             |[2023-11-05 11:15:00, 2023-11-05 11:20:00]|\n",
      "|[2023-11-05 11:45:00, 2023-11-05 11:50:00]|ALXN|127.81            |201.66995         |[2023-11-05 11:30:00, 2023-11-05 11:35:00]|\n",
      "|[2023-11-05 11:55:00, 2023-11-05 12:00:00]|ALXN|104.12333333333333|139.99            |[2023-11-05 11:50:00, 2023-11-05 11:55:00]|\n",
      "|[2023-11-05 12:25:00, 2023-11-05 12:30:00]|ALXN|148.73833333333332|173.71            |[2023-11-05 12:20:00, 2023-11-05 12:25:00]|\n",
      "|[2023-11-05 12:30:00, 2023-11-05 12:35:00]|ALXN|125.715           |148.73833333333332|[2023-11-05 12:25:00, 2023-11-05 12:30:00]|\n",
      "|[2023-11-05 11:10:00, 2023-11-05 11:15:00]|GIS |49.35666666666666 |50.5207           |[2023-11-05 11:05:00, 2023-11-05 11:10:00]|\n",
      "|[2023-11-05 11:15:00, 2023-11-05 11:20:00]|GIS |48.6              |49.35666666666666 |[2023-11-05 11:10:00, 2023-11-05 11:15:00]|\n",
      "|[2023-11-05 11:50:00, 2023-11-05 11:55:00]|GIS |51.80505          |60.67             |[2023-11-05 11:45:00, 2023-11-05 11:50:00]|\n",
      "|[2023-11-05 12:00:00, 2023-11-05 12:05:00]|GIS |51.05             |53.275000000000006|[2023-11-05 11:55:00, 2023-11-05 12:00:00]|\n",
      "|[2023-11-05 12:05:00, 2023-11-05 12:10:00]|GIS |51.010000000000005|51.05             |[2023-11-05 12:00:00, 2023-11-05 12:05:00]|\n",
      "|[2023-11-05 12:15:00, 2023-11-05 12:20:00]|GIS |52.66             |53.3              |[2023-11-05 12:10:00, 2023-11-05 12:15:00]|\n",
      "|[2023-11-05 11:20:00, 2023-11-05 11:25:00]|K   |66.23             |67.63             |[2023-11-05 11:15:00, 2023-11-05 11:20:00]|\n",
      "|[2023-11-05 11:25:00, 2023-11-05 11:30:00]|K   |62.1798           |66.23             |[2023-11-05 11:20:00, 2023-11-05 11:25:00]|\n",
      "|[2023-11-05 11:50:00, 2023-11-05 11:55:00]|K   |71.255            |73.32             |[2023-11-05 11:45:00, 2023-11-05 11:50:00]|\n",
      "|[2023-11-05 11:55:00, 2023-11-05 12:00:00]|K   |66.625            |71.255            |[2023-11-05 11:50:00, 2023-11-05 11:55:00]|\n",
      "|[2023-11-05 12:00:00, 2023-11-05 12:05:00]|K   |61.11             |66.625            |[2023-11-05 11:55:00, 2023-11-05 12:00:00]|\n",
      "|[2023-11-05 11:20:00, 2023-11-05 11:25:00]|LEN |35.5196           |38.958349999999996|[2023-11-05 11:15:00, 2023-11-05 11:20:00]|\n",
      "|[2023-11-05 11:30:00, 2023-11-05 11:35:00]|LEN |49.5392           |49.676500000000004|[2023-11-05 11:25:00, 2023-11-05 11:30:00]|\n",
      "|[2023-11-05 11:35:00, 2023-11-05 11:40:00]|LEN |47.4216           |49.5392           |[2023-11-05 11:30:00, 2023-11-05 11:35:00]|\n",
      "|[2023-11-05 11:40:00, 2023-11-05 11:45:00]|LEN |46.4265           |47.4216           |[2023-11-05 11:35:00, 2023-11-05 11:40:00]|\n",
      "+------------------------------------------+----+------------------+------------------+------------------------------------------+\n",
      "only showing top 20 rows\n",
      "\n"
     ]
    },
    {
     "name": "stderr",
     "output_type": "stream",
     "text": [
      "                                                                                \r"
     ]
    },
    {
     "name": "stdout",
     "output_type": "stream",
     "text": [
      "+------------------------------------------+----+------------------+------------------+------------------------------------------+\n",
      "|window                                    |name|avg(price)        |previous_price    |previous_window                           |\n",
      "+------------------------------------------+----+------------------+------------------+------------------------------------------+\n",
      "|[2023-11-05 11:15:00, 2023-11-05 11:20:00]|ALXN|180.2             |108.02            |[2023-11-05 11:10:00, 2023-11-05 11:15:00]|\n",
      "|[2023-11-05 11:25:00, 2023-11-05 11:30:00]|ALXN|186.99            |164.66            |[2023-11-05 11:20:00, 2023-11-05 11:25:00]|\n",
      "|[2023-11-05 11:30:00, 2023-11-05 11:35:00]|ALXN|201.66995         |186.99            |[2023-11-05 11:25:00, 2023-11-05 11:30:00]|\n",
      "|[2023-11-05 11:50:00, 2023-11-05 11:55:00]|ALXN|139.99            |127.81            |[2023-11-05 11:45:00, 2023-11-05 11:50:00]|\n",
      "|[2023-11-05 12:00:00, 2023-11-05 12:05:00]|ALXN|116.72            |104.12333333333333|[2023-11-05 11:55:00, 2023-11-05 12:00:00]|\n",
      "|[2023-11-05 12:05:00, 2023-11-05 12:10:00]|ALXN|161.12666666666667|116.72            |[2023-11-05 12:00:00, 2023-11-05 12:05:00]|\n",
      "|[2023-11-05 12:20:00, 2023-11-05 12:25:00]|ALXN|173.71            |161.12666666666667|[2023-11-05 12:05:00, 2023-11-05 12:10:00]|\n",
      "|[2023-11-05 11:20:00, 2023-11-05 11:25:00]|GIS |50.92             |48.6              |[2023-11-05 11:15:00, 2023-11-05 11:20:00]|\n",
      "|[2023-11-05 11:30:00, 2023-11-05 11:35:00]|GIS |57.61             |50.92             |[2023-11-05 11:20:00, 2023-11-05 11:25:00]|\n",
      "|[2023-11-05 11:45:00, 2023-11-05 11:50:00]|GIS |60.67             |57.61             |[2023-11-05 11:30:00, 2023-11-05 11:35:00]|\n",
      "|[2023-11-05 11:55:00, 2023-11-05 12:00:00]|GIS |53.275000000000006|51.80505          |[2023-11-05 11:50:00, 2023-11-05 11:55:00]|\n",
      "|[2023-11-05 12:10:00, 2023-11-05 12:15:00]|GIS |53.3              |51.010000000000005|[2023-11-05 12:05:00, 2023-11-05 12:10:00]|\n",
      "|[2023-11-05 12:20:00, 2023-11-05 12:25:00]|GIS |57.754999999999995|52.66             |[2023-11-05 12:15:00, 2023-11-05 12:20:00]|\n",
      "|[2023-11-05 11:15:00, 2023-11-05 11:20:00]|K   |67.63             |65.865            |[2023-11-05 11:10:00, 2023-11-05 11:15:00]|\n",
      "|[2023-11-05 11:30:00, 2023-11-05 11:35:00]|K   |66.81             |62.1798           |[2023-11-05 11:25:00, 2023-11-05 11:30:00]|\n",
      "|[2023-11-05 11:45:00, 2023-11-05 11:50:00]|K   |73.32             |66.81             |[2023-11-05 11:30:00, 2023-11-05 11:35:00]|\n",
      "|[2023-11-05 12:05:00, 2023-11-05 12:10:00]|K   |64.26             |61.11             |[2023-11-05 12:00:00, 2023-11-05 12:05:00]|\n",
      "|[2023-11-05 12:15:00, 2023-11-05 12:20:00]|K   |64.2625           |64.26             |[2023-11-05 12:05:00, 2023-11-05 12:10:00]|\n",
      "|[2023-11-05 12:20:00, 2023-11-05 12:25:00]|K   |65.02             |64.2625           |[2023-11-05 12:15:00, 2023-11-05 12:20:00]|\n",
      "|[2023-11-05 12:25:00, 2023-11-05 12:30:00]|K   |77.03999999999999 |65.02             |[2023-11-05 12:20:00, 2023-11-05 12:25:00]|\n",
      "+------------------------------------------+----+------------------+------------------+------------------------------------------+\n",
      "only showing top 20 rows\n",
      "\n"
     ]
    },
    {
     "name": "stderr",
     "output_type": "stream",
     "text": [
      "                                                                                \r"
     ]
    },
    {
     "name": "stdout",
     "output_type": "stream",
     "text": [
      "+------------------------------------------+----+------------------+------------------+------------------------------------------+\n",
      "|window                                    |name|avg(price)        |previous_price    |previous_window                           |\n",
      "+------------------------------------------+----+------------------+------------------+------------------------------------------+\n",
      "|[2023-11-05 11:20:00, 2023-11-05 11:25:00]|ALXN|164.66            |180.2             |[2023-11-05 11:15:00, 2023-11-05 11:20:00]|\n",
      "|[2023-11-05 11:45:00, 2023-11-05 11:50:00]|ALXN|127.81            |201.66995         |[2023-11-05 11:30:00, 2023-11-05 11:35:00]|\n",
      "|[2023-11-05 11:55:00, 2023-11-05 12:00:00]|ALXN|104.12333333333333|139.99            |[2023-11-05 11:50:00, 2023-11-05 11:55:00]|\n",
      "|[2023-11-05 12:25:00, 2023-11-05 12:30:00]|ALXN|148.73833333333332|173.71            |[2023-11-05 12:20:00, 2023-11-05 12:25:00]|\n",
      "|[2023-11-05 12:30:00, 2023-11-05 12:35:00]|ALXN|130.35750000000002|148.73833333333332|[2023-11-05 12:25:00, 2023-11-05 12:30:00]|\n",
      "|[2023-11-05 11:10:00, 2023-11-05 11:15:00]|GIS |49.35666666666666 |50.5207           |[2023-11-05 11:05:00, 2023-11-05 11:10:00]|\n",
      "|[2023-11-05 11:15:00, 2023-11-05 11:20:00]|GIS |48.6              |49.35666666666666 |[2023-11-05 11:10:00, 2023-11-05 11:15:00]|\n",
      "|[2023-11-05 11:50:00, 2023-11-05 11:55:00]|GIS |51.80505          |60.67             |[2023-11-05 11:45:00, 2023-11-05 11:50:00]|\n",
      "|[2023-11-05 12:00:00, 2023-11-05 12:05:00]|GIS |51.05             |53.275000000000006|[2023-11-05 11:55:00, 2023-11-05 12:00:00]|\n",
      "|[2023-11-05 12:05:00, 2023-11-05 12:10:00]|GIS |51.010000000000005|51.05             |[2023-11-05 12:00:00, 2023-11-05 12:05:00]|\n",
      "|[2023-11-05 12:15:00, 2023-11-05 12:20:00]|GIS |52.66             |53.3              |[2023-11-05 12:10:00, 2023-11-05 12:15:00]|\n",
      "|[2023-11-05 11:20:00, 2023-11-05 11:25:00]|K   |66.23             |67.63             |[2023-11-05 11:15:00, 2023-11-05 11:20:00]|\n",
      "|[2023-11-05 11:25:00, 2023-11-05 11:30:00]|K   |62.1798           |66.23             |[2023-11-05 11:20:00, 2023-11-05 11:25:00]|\n",
      "|[2023-11-05 11:50:00, 2023-11-05 11:55:00]|K   |71.255            |73.32             |[2023-11-05 11:45:00, 2023-11-05 11:50:00]|\n",
      "|[2023-11-05 11:55:00, 2023-11-05 12:00:00]|K   |66.625            |71.255            |[2023-11-05 11:50:00, 2023-11-05 11:55:00]|\n",
      "|[2023-11-05 12:00:00, 2023-11-05 12:05:00]|K   |61.11             |66.625            |[2023-11-05 11:55:00, 2023-11-05 12:00:00]|\n",
      "|[2023-11-05 11:20:00, 2023-11-05 11:25:00]|LEN |35.5196           |38.958349999999996|[2023-11-05 11:15:00, 2023-11-05 11:20:00]|\n",
      "|[2023-11-05 11:30:00, 2023-11-05 11:35:00]|LEN |49.5392           |49.676500000000004|[2023-11-05 11:25:00, 2023-11-05 11:30:00]|\n",
      "|[2023-11-05 11:35:00, 2023-11-05 11:40:00]|LEN |47.4216           |49.5392           |[2023-11-05 11:30:00, 2023-11-05 11:35:00]|\n",
      "|[2023-11-05 11:40:00, 2023-11-05 11:45:00]|LEN |46.4265           |47.4216           |[2023-11-05 11:35:00, 2023-11-05 11:40:00]|\n",
      "+------------------------------------------+----+------------------+------------------+------------------------------------------+\n",
      "only showing top 20 rows\n",
      "\n"
     ]
    },
    {
     "name": "stderr",
     "output_type": "stream",
     "text": [
      "                                                                                \r"
     ]
    },
    {
     "name": "stdout",
     "output_type": "stream",
     "text": [
      "+------------------------------------------+----+------------------+------------------+------------------------------------------+\n",
      "|window                                    |name|avg(price)        |previous_price    |previous_window                           |\n",
      "+------------------------------------------+----+------------------+------------------+------------------------------------------+\n",
      "|[2023-11-05 11:15:00, 2023-11-05 11:20:00]|ALXN|180.2             |108.02            |[2023-11-05 11:10:00, 2023-11-05 11:15:00]|\n",
      "|[2023-11-05 11:25:00, 2023-11-05 11:30:00]|ALXN|186.99            |164.66            |[2023-11-05 11:20:00, 2023-11-05 11:25:00]|\n",
      "|[2023-11-05 11:30:00, 2023-11-05 11:35:00]|ALXN|201.66995         |186.99            |[2023-11-05 11:25:00, 2023-11-05 11:30:00]|\n",
      "|[2023-11-05 11:50:00, 2023-11-05 11:55:00]|ALXN|139.99            |127.81            |[2023-11-05 11:45:00, 2023-11-05 11:50:00]|\n",
      "|[2023-11-05 12:00:00, 2023-11-05 12:05:00]|ALXN|116.72            |104.12333333333333|[2023-11-05 11:55:00, 2023-11-05 12:00:00]|\n",
      "|[2023-11-05 12:05:00, 2023-11-05 12:10:00]|ALXN|161.12666666666667|116.72            |[2023-11-05 12:00:00, 2023-11-05 12:05:00]|\n",
      "|[2023-11-05 12:20:00, 2023-11-05 12:25:00]|ALXN|173.71            |161.12666666666667|[2023-11-05 12:05:00, 2023-11-05 12:10:00]|\n",
      "|[2023-11-05 11:20:00, 2023-11-05 11:25:00]|GIS |50.92             |48.6              |[2023-11-05 11:15:00, 2023-11-05 11:20:00]|\n",
      "|[2023-11-05 11:30:00, 2023-11-05 11:35:00]|GIS |57.61             |50.92             |[2023-11-05 11:20:00, 2023-11-05 11:25:00]|\n",
      "|[2023-11-05 11:45:00, 2023-11-05 11:50:00]|GIS |60.67             |57.61             |[2023-11-05 11:30:00, 2023-11-05 11:35:00]|\n",
      "|[2023-11-05 11:55:00, 2023-11-05 12:00:00]|GIS |53.275000000000006|51.80505          |[2023-11-05 11:50:00, 2023-11-05 11:55:00]|\n",
      "|[2023-11-05 12:10:00, 2023-11-05 12:15:00]|GIS |53.3              |51.010000000000005|[2023-11-05 12:05:00, 2023-11-05 12:10:00]|\n",
      "|[2023-11-05 12:20:00, 2023-11-05 12:25:00]|GIS |57.754999999999995|52.66             |[2023-11-05 12:15:00, 2023-11-05 12:20:00]|\n",
      "|[2023-11-05 11:15:00, 2023-11-05 11:20:00]|K   |67.63             |65.865            |[2023-11-05 11:10:00, 2023-11-05 11:15:00]|\n",
      "|[2023-11-05 11:30:00, 2023-11-05 11:35:00]|K   |66.81             |62.1798           |[2023-11-05 11:25:00, 2023-11-05 11:30:00]|\n",
      "|[2023-11-05 11:45:00, 2023-11-05 11:50:00]|K   |73.32             |66.81             |[2023-11-05 11:30:00, 2023-11-05 11:35:00]|\n",
      "|[2023-11-05 12:05:00, 2023-11-05 12:10:00]|K   |64.26             |61.11             |[2023-11-05 12:00:00, 2023-11-05 12:05:00]|\n",
      "|[2023-11-05 12:15:00, 2023-11-05 12:20:00]|K   |64.2625           |64.26             |[2023-11-05 12:05:00, 2023-11-05 12:10:00]|\n",
      "|[2023-11-05 12:20:00, 2023-11-05 12:25:00]|K   |65.02             |64.2625           |[2023-11-05 12:15:00, 2023-11-05 12:20:00]|\n",
      "|[2023-11-05 12:25:00, 2023-11-05 12:30:00]|K   |77.03999999999999 |65.02             |[2023-11-05 12:20:00, 2023-11-05 12:25:00]|\n",
      "+------------------------------------------+----+------------------+------------------+------------------------------------------+\n",
      "only showing top 20 rows\n",
      "\n"
     ]
    },
    {
     "name": "stderr",
     "output_type": "stream",
     "text": [
      "                                                                                \r"
     ]
    },
    {
     "name": "stdout",
     "output_type": "stream",
     "text": [
      "+------------------------------------------+----+------------------+------------------+------------------------------------------+\n",
      "|window                                    |name|avg(price)        |previous_price    |previous_window                           |\n",
      "+------------------------------------------+----+------------------+------------------+------------------------------------------+\n",
      "|[2023-11-05 11:20:00, 2023-11-05 11:25:00]|ALXN|164.66            |180.2             |[2023-11-05 11:15:00, 2023-11-05 11:20:00]|\n",
      "|[2023-11-05 11:45:00, 2023-11-05 11:50:00]|ALXN|127.81            |201.66995         |[2023-11-05 11:30:00, 2023-11-05 11:35:00]|\n",
      "|[2023-11-05 11:55:00, 2023-11-05 12:00:00]|ALXN|104.12333333333333|139.99            |[2023-11-05 11:50:00, 2023-11-05 11:55:00]|\n",
      "|[2023-11-05 12:25:00, 2023-11-05 12:30:00]|ALXN|148.73833333333332|173.71            |[2023-11-05 12:20:00, 2023-11-05 12:25:00]|\n",
      "|[2023-11-05 12:30:00, 2023-11-05 12:35:00]|ALXN|130.35750000000002|148.73833333333332|[2023-11-05 12:25:00, 2023-11-05 12:30:00]|\n",
      "|[2023-11-05 11:10:00, 2023-11-05 11:15:00]|GIS |49.35666666666666 |50.5207           |[2023-11-05 11:05:00, 2023-11-05 11:10:00]|\n",
      "|[2023-11-05 11:15:00, 2023-11-05 11:20:00]|GIS |48.6              |49.35666666666666 |[2023-11-05 11:10:00, 2023-11-05 11:15:00]|\n",
      "|[2023-11-05 11:50:00, 2023-11-05 11:55:00]|GIS |51.80505          |60.67             |[2023-11-05 11:45:00, 2023-11-05 11:50:00]|\n",
      "|[2023-11-05 12:00:00, 2023-11-05 12:05:00]|GIS |51.05             |53.275000000000006|[2023-11-05 11:55:00, 2023-11-05 12:00:00]|\n",
      "|[2023-11-05 12:05:00, 2023-11-05 12:10:00]|GIS |51.010000000000005|51.05             |[2023-11-05 12:00:00, 2023-11-05 12:05:00]|\n",
      "|[2023-11-05 12:15:00, 2023-11-05 12:20:00]|GIS |52.66             |53.3              |[2023-11-05 12:10:00, 2023-11-05 12:15:00]|\n",
      "|[2023-11-05 11:20:00, 2023-11-05 11:25:00]|K   |66.23             |67.63             |[2023-11-05 11:15:00, 2023-11-05 11:20:00]|\n",
      "|[2023-11-05 11:25:00, 2023-11-05 11:30:00]|K   |62.1798           |66.23             |[2023-11-05 11:20:00, 2023-11-05 11:25:00]|\n",
      "|[2023-11-05 11:50:00, 2023-11-05 11:55:00]|K   |71.255            |73.32             |[2023-11-05 11:45:00, 2023-11-05 11:50:00]|\n",
      "|[2023-11-05 11:55:00, 2023-11-05 12:00:00]|K   |66.625            |71.255            |[2023-11-05 11:50:00, 2023-11-05 11:55:00]|\n",
      "|[2023-11-05 12:00:00, 2023-11-05 12:05:00]|K   |61.11             |66.625            |[2023-11-05 11:55:00, 2023-11-05 12:00:00]|\n",
      "|[2023-11-05 11:20:00, 2023-11-05 11:25:00]|LEN |35.5196           |38.958349999999996|[2023-11-05 11:15:00, 2023-11-05 11:20:00]|\n",
      "|[2023-11-05 11:30:00, 2023-11-05 11:35:00]|LEN |49.5392           |49.676500000000004|[2023-11-05 11:25:00, 2023-11-05 11:30:00]|\n",
      "|[2023-11-05 11:35:00, 2023-11-05 11:40:00]|LEN |47.4216           |49.5392           |[2023-11-05 11:30:00, 2023-11-05 11:35:00]|\n",
      "|[2023-11-05 11:40:00, 2023-11-05 11:45:00]|LEN |46.4265           |47.4216           |[2023-11-05 11:35:00, 2023-11-05 11:40:00]|\n",
      "+------------------------------------------+----+------------------+------------------+------------------------------------------+\n",
      "only showing top 20 rows\n",
      "\n"
     ]
    },
    {
     "name": "stderr",
     "output_type": "stream",
     "text": [
      "                                                                                \r"
     ]
    },
    {
     "name": "stdout",
     "output_type": "stream",
     "text": [
      "+------------------------------------------+----+------------------+------------------+------------------------------------------+\n",
      "|window                                    |name|avg(price)        |previous_price    |previous_window                           |\n",
      "+------------------------------------------+----+------------------+------------------+------------------------------------------+\n",
      "|[2023-11-05 11:15:00, 2023-11-05 11:20:00]|ALXN|180.2             |108.02            |[2023-11-05 11:10:00, 2023-11-05 11:15:00]|\n",
      "|[2023-11-05 11:25:00, 2023-11-05 11:30:00]|ALXN|186.99            |164.66            |[2023-11-05 11:20:00, 2023-11-05 11:25:00]|\n",
      "|[2023-11-05 11:30:00, 2023-11-05 11:35:00]|ALXN|201.66995         |186.99            |[2023-11-05 11:25:00, 2023-11-05 11:30:00]|\n",
      "|[2023-11-05 11:50:00, 2023-11-05 11:55:00]|ALXN|139.99            |127.81            |[2023-11-05 11:45:00, 2023-11-05 11:50:00]|\n",
      "|[2023-11-05 12:00:00, 2023-11-05 12:05:00]|ALXN|116.72            |104.12333333333333|[2023-11-05 11:55:00, 2023-11-05 12:00:00]|\n",
      "|[2023-11-05 12:05:00, 2023-11-05 12:10:00]|ALXN|161.12666666666667|116.72            |[2023-11-05 12:00:00, 2023-11-05 12:05:00]|\n",
      "|[2023-11-05 12:20:00, 2023-11-05 12:25:00]|ALXN|173.71            |161.12666666666667|[2023-11-05 12:05:00, 2023-11-05 12:10:00]|\n",
      "|[2023-11-05 11:20:00, 2023-11-05 11:25:00]|GIS |50.92             |48.6              |[2023-11-05 11:15:00, 2023-11-05 11:20:00]|\n",
      "|[2023-11-05 11:30:00, 2023-11-05 11:35:00]|GIS |57.61             |50.92             |[2023-11-05 11:20:00, 2023-11-05 11:25:00]|\n",
      "|[2023-11-05 11:45:00, 2023-11-05 11:50:00]|GIS |60.67             |57.61             |[2023-11-05 11:30:00, 2023-11-05 11:35:00]|\n",
      "|[2023-11-05 11:55:00, 2023-11-05 12:00:00]|GIS |53.275000000000006|51.80505          |[2023-11-05 11:50:00, 2023-11-05 11:55:00]|\n",
      "|[2023-11-05 12:10:00, 2023-11-05 12:15:00]|GIS |53.3              |51.010000000000005|[2023-11-05 12:05:00, 2023-11-05 12:10:00]|\n",
      "|[2023-11-05 12:20:00, 2023-11-05 12:25:00]|GIS |57.754999999999995|52.66             |[2023-11-05 12:15:00, 2023-11-05 12:20:00]|\n",
      "|[2023-11-05 12:30:00, 2023-11-05 12:35:00]|GIS |63.89             |57.754999999999995|[2023-11-05 12:20:00, 2023-11-05 12:25:00]|\n",
      "|[2023-11-05 11:15:00, 2023-11-05 11:20:00]|K   |67.63             |65.865            |[2023-11-05 11:10:00, 2023-11-05 11:15:00]|\n",
      "|[2023-11-05 11:30:00, 2023-11-05 11:35:00]|K   |66.81             |62.1798           |[2023-11-05 11:25:00, 2023-11-05 11:30:00]|\n",
      "|[2023-11-05 11:45:00, 2023-11-05 11:50:00]|K   |73.32             |66.81             |[2023-11-05 11:30:00, 2023-11-05 11:35:00]|\n",
      "|[2023-11-05 12:05:00, 2023-11-05 12:10:00]|K   |64.26             |61.11             |[2023-11-05 12:00:00, 2023-11-05 12:05:00]|\n",
      "|[2023-11-05 12:15:00, 2023-11-05 12:20:00]|K   |64.2625           |64.26             |[2023-11-05 12:05:00, 2023-11-05 12:10:00]|\n",
      "|[2023-11-05 12:20:00, 2023-11-05 12:25:00]|K   |65.02             |64.2625           |[2023-11-05 12:15:00, 2023-11-05 12:20:00]|\n",
      "+------------------------------------------+----+------------------+------------------+------------------------------------------+\n",
      "only showing top 20 rows\n",
      "\n"
     ]
    },
    {
     "name": "stderr",
     "output_type": "stream",
     "text": [
      "[Stage 3679:> (0 + 0) / 1][Stage 3681:> (0 + 0) / 1][Stage 3682:> (0 + 0) / 4]4]\r"
     ]
    },
    {
     "name": "stdout",
     "output_type": "stream",
     "text": [
      "+------------------------------------------+----+------------------+------------------+------------------------------------------+\n",
      "|window                                    |name|avg(price)        |previous_price    |previous_window                           |\n",
      "+------------------------------------------+----+------------------+------------------+------------------------------------------+\n",
      "|[2023-11-05 11:20:00, 2023-11-05 11:25:00]|ALXN|164.66            |180.2             |[2023-11-05 11:15:00, 2023-11-05 11:20:00]|\n",
      "|[2023-11-05 11:45:00, 2023-11-05 11:50:00]|ALXN|127.81            |201.66995         |[2023-11-05 11:30:00, 2023-11-05 11:35:00]|\n",
      "|[2023-11-05 11:55:00, 2023-11-05 12:00:00]|ALXN|104.12333333333333|139.99            |[2023-11-05 11:50:00, 2023-11-05 11:55:00]|\n",
      "|[2023-11-05 12:25:00, 2023-11-05 12:30:00]|ALXN|148.73833333333332|173.71            |[2023-11-05 12:20:00, 2023-11-05 12:25:00]|\n",
      "|[2023-11-05 12:30:00, 2023-11-05 12:35:00]|ALXN|128.63833333333335|148.73833333333332|[2023-11-05 12:25:00, 2023-11-05 12:30:00]|\n",
      "|[2023-11-05 11:10:00, 2023-11-05 11:15:00]|GIS |49.35666666666666 |50.5207           |[2023-11-05 11:05:00, 2023-11-05 11:10:00]|\n",
      "|[2023-11-05 11:15:00, 2023-11-05 11:20:00]|GIS |48.6              |49.35666666666666 |[2023-11-05 11:10:00, 2023-11-05 11:15:00]|\n",
      "|[2023-11-05 11:50:00, 2023-11-05 11:55:00]|GIS |51.80505          |60.67             |[2023-11-05 11:45:00, 2023-11-05 11:50:00]|\n",
      "|[2023-11-05 12:00:00, 2023-11-05 12:05:00]|GIS |51.05             |53.275000000000006|[2023-11-05 11:55:00, 2023-11-05 12:00:00]|\n",
      "|[2023-11-05 12:05:00, 2023-11-05 12:10:00]|GIS |51.010000000000005|51.05             |[2023-11-05 12:00:00, 2023-11-05 12:05:00]|\n",
      "|[2023-11-05 12:15:00, 2023-11-05 12:20:00]|GIS |52.66             |53.3              |[2023-11-05 12:10:00, 2023-11-05 12:15:00]|\n",
      "|[2023-11-05 11:20:00, 2023-11-05 11:25:00]|K   |66.23             |67.63             |[2023-11-05 11:15:00, 2023-11-05 11:20:00]|\n",
      "|[2023-11-05 11:25:00, 2023-11-05 11:30:00]|K   |62.1798           |66.23             |[2023-11-05 11:20:00, 2023-11-05 11:25:00]|\n",
      "|[2023-11-05 11:50:00, 2023-11-05 11:55:00]|K   |71.255            |73.32             |[2023-11-05 11:45:00, 2023-11-05 11:50:00]|\n",
      "|[2023-11-05 11:55:00, 2023-11-05 12:00:00]|K   |66.625            |71.255            |[2023-11-05 11:50:00, 2023-11-05 11:55:00]|\n",
      "|[2023-11-05 12:00:00, 2023-11-05 12:05:00]|K   |61.11             |66.625            |[2023-11-05 11:55:00, 2023-11-05 12:00:00]|\n",
      "|[2023-11-05 12:30:00, 2023-11-05 12:35:00]|K   |76.47             |77.03999999999999 |[2023-11-05 12:25:00, 2023-11-05 12:30:00]|\n",
      "|[2023-11-05 11:20:00, 2023-11-05 11:25:00]|LEN |35.5196           |38.958349999999996|[2023-11-05 11:15:00, 2023-11-05 11:20:00]|\n",
      "|[2023-11-05 11:30:00, 2023-11-05 11:35:00]|LEN |49.5392           |49.676500000000004|[2023-11-05 11:25:00, 2023-11-05 11:30:00]|\n",
      "|[2023-11-05 11:35:00, 2023-11-05 11:40:00]|LEN |47.4216           |49.5392           |[2023-11-05 11:30:00, 2023-11-05 11:35:00]|\n",
      "+------------------------------------------+----+------------------+------------------+------------------------------------------+\n",
      "only showing top 20 rows\n",
      "\n"
     ]
    },
    {
     "name": "stderr",
     "output_type": "stream",
     "text": [
      "                                                                                \r"
     ]
    },
    {
     "name": "stdout",
     "output_type": "stream",
     "text": [
      "+------------------------------------------+----+------------------+------------------+------------------------------------------+\n",
      "|window                                    |name|avg(price)        |previous_price    |previous_window                           |\n",
      "+------------------------------------------+----+------------------+------------------+------------------------------------------+\n",
      "|[2023-11-05 11:15:00, 2023-11-05 11:20:00]|ALXN|180.2             |108.02            |[2023-11-05 11:10:00, 2023-11-05 11:15:00]|\n",
      "|[2023-11-05 11:25:00, 2023-11-05 11:30:00]|ALXN|186.99            |164.66            |[2023-11-05 11:20:00, 2023-11-05 11:25:00]|\n",
      "|[2023-11-05 11:30:00, 2023-11-05 11:35:00]|ALXN|201.66995         |186.99            |[2023-11-05 11:25:00, 2023-11-05 11:30:00]|\n",
      "|[2023-11-05 11:50:00, 2023-11-05 11:55:00]|ALXN|139.99            |127.81            |[2023-11-05 11:45:00, 2023-11-05 11:50:00]|\n",
      "|[2023-11-05 12:00:00, 2023-11-05 12:05:00]|ALXN|116.72            |104.12333333333333|[2023-11-05 11:55:00, 2023-11-05 12:00:00]|\n",
      "|[2023-11-05 12:05:00, 2023-11-05 12:10:00]|ALXN|161.12666666666667|116.72            |[2023-11-05 12:00:00, 2023-11-05 12:05:00]|\n",
      "|[2023-11-05 12:20:00, 2023-11-05 12:25:00]|ALXN|173.71            |161.12666666666667|[2023-11-05 12:05:00, 2023-11-05 12:10:00]|\n",
      "|[2023-11-05 11:20:00, 2023-11-05 11:25:00]|GIS |50.92             |48.6              |[2023-11-05 11:15:00, 2023-11-05 11:20:00]|\n",
      "|[2023-11-05 11:30:00, 2023-11-05 11:35:00]|GIS |57.61             |50.92             |[2023-11-05 11:20:00, 2023-11-05 11:25:00]|\n",
      "|[2023-11-05 11:45:00, 2023-11-05 11:50:00]|GIS |60.67             |57.61             |[2023-11-05 11:30:00, 2023-11-05 11:35:00]|\n",
      "|[2023-11-05 11:55:00, 2023-11-05 12:00:00]|GIS |53.275000000000006|51.80505          |[2023-11-05 11:50:00, 2023-11-05 11:55:00]|\n",
      "|[2023-11-05 12:10:00, 2023-11-05 12:15:00]|GIS |53.3              |51.010000000000005|[2023-11-05 12:05:00, 2023-11-05 12:10:00]|\n",
      "|[2023-11-05 12:20:00, 2023-11-05 12:25:00]|GIS |57.754999999999995|52.66             |[2023-11-05 12:15:00, 2023-11-05 12:20:00]|\n",
      "|[2023-11-05 12:30:00, 2023-11-05 12:35:00]|GIS |63.89             |57.754999999999995|[2023-11-05 12:20:00, 2023-11-05 12:25:00]|\n",
      "|[2023-11-05 11:15:00, 2023-11-05 11:20:00]|K   |67.63             |65.865            |[2023-11-05 11:10:00, 2023-11-05 11:15:00]|\n",
      "|[2023-11-05 11:30:00, 2023-11-05 11:35:00]|K   |66.81             |62.1798           |[2023-11-05 11:25:00, 2023-11-05 11:30:00]|\n",
      "|[2023-11-05 11:45:00, 2023-11-05 11:50:00]|K   |73.32             |66.81             |[2023-11-05 11:30:00, 2023-11-05 11:35:00]|\n",
      "|[2023-11-05 12:05:00, 2023-11-05 12:10:00]|K   |64.26             |61.11             |[2023-11-05 12:00:00, 2023-11-05 12:05:00]|\n",
      "|[2023-11-05 12:15:00, 2023-11-05 12:20:00]|K   |64.2625           |64.26             |[2023-11-05 12:05:00, 2023-11-05 12:10:00]|\n",
      "|[2023-11-05 12:20:00, 2023-11-05 12:25:00]|K   |65.02             |64.2625           |[2023-11-05 12:15:00, 2023-11-05 12:20:00]|\n",
      "+------------------------------------------+----+------------------+------------------+------------------------------------------+\n",
      "only showing top 20 rows\n",
      "\n"
     ]
    },
    {
     "name": "stderr",
     "output_type": "stream",
     "text": [
      "                                                                                \r"
     ]
    },
    {
     "name": "stdout",
     "output_type": "stream",
     "text": [
      "+------------------------------------------+----+------------------+------------------+------------------------------------------+\n",
      "|window                                    |name|avg(price)        |previous_price    |previous_window                           |\n",
      "+------------------------------------------+----+------------------+------------------+------------------------------------------+\n",
      "|[2023-11-05 11:20:00, 2023-11-05 11:25:00]|ALXN|164.66            |180.2             |[2023-11-05 11:15:00, 2023-11-05 11:20:00]|\n",
      "|[2023-11-05 11:45:00, 2023-11-05 11:50:00]|ALXN|127.81            |201.66995         |[2023-11-05 11:30:00, 2023-11-05 11:35:00]|\n",
      "|[2023-11-05 11:55:00, 2023-11-05 12:00:00]|ALXN|104.12333333333333|139.99            |[2023-11-05 11:50:00, 2023-11-05 11:55:00]|\n",
      "|[2023-11-05 12:25:00, 2023-11-05 12:30:00]|ALXN|148.73833333333332|173.71            |[2023-11-05 12:20:00, 2023-11-05 12:25:00]|\n",
      "|[2023-11-05 12:30:00, 2023-11-05 12:35:00]|ALXN|128.63833333333335|148.73833333333332|[2023-11-05 12:25:00, 2023-11-05 12:30:00]|\n",
      "|[2023-11-05 11:10:00, 2023-11-05 11:15:00]|GIS |49.35666666666666 |50.5207           |[2023-11-05 11:05:00, 2023-11-05 11:10:00]|\n",
      "|[2023-11-05 11:15:00, 2023-11-05 11:20:00]|GIS |48.6              |49.35666666666666 |[2023-11-05 11:10:00, 2023-11-05 11:15:00]|\n",
      "|[2023-11-05 11:50:00, 2023-11-05 11:55:00]|GIS |51.80505          |60.67             |[2023-11-05 11:45:00, 2023-11-05 11:50:00]|\n",
      "|[2023-11-05 12:00:00, 2023-11-05 12:05:00]|GIS |51.05             |53.275000000000006|[2023-11-05 11:55:00, 2023-11-05 12:00:00]|\n",
      "|[2023-11-05 12:05:00, 2023-11-05 12:10:00]|GIS |51.010000000000005|51.05             |[2023-11-05 12:00:00, 2023-11-05 12:05:00]|\n",
      "|[2023-11-05 12:15:00, 2023-11-05 12:20:00]|GIS |52.66             |53.3              |[2023-11-05 12:10:00, 2023-11-05 12:15:00]|\n",
      "|[2023-11-05 11:20:00, 2023-11-05 11:25:00]|K   |66.23             |67.63             |[2023-11-05 11:15:00, 2023-11-05 11:20:00]|\n",
      "|[2023-11-05 11:25:00, 2023-11-05 11:30:00]|K   |62.1798           |66.23             |[2023-11-05 11:20:00, 2023-11-05 11:25:00]|\n",
      "|[2023-11-05 11:50:00, 2023-11-05 11:55:00]|K   |71.255            |73.32             |[2023-11-05 11:45:00, 2023-11-05 11:50:00]|\n",
      "|[2023-11-05 11:55:00, 2023-11-05 12:00:00]|K   |66.625            |71.255            |[2023-11-05 11:50:00, 2023-11-05 11:55:00]|\n",
      "|[2023-11-05 12:00:00, 2023-11-05 12:05:00]|K   |61.11             |66.625            |[2023-11-05 11:55:00, 2023-11-05 12:00:00]|\n",
      "|[2023-11-05 12:30:00, 2023-11-05 12:35:00]|K   |76.47             |77.03999999999999 |[2023-11-05 12:25:00, 2023-11-05 12:30:00]|\n",
      "|[2023-11-05 11:20:00, 2023-11-05 11:25:00]|LEN |35.5196           |38.958349999999996|[2023-11-05 11:15:00, 2023-11-05 11:20:00]|\n",
      "|[2023-11-05 11:30:00, 2023-11-05 11:35:00]|LEN |49.5392           |49.676500000000004|[2023-11-05 11:25:00, 2023-11-05 11:30:00]|\n",
      "|[2023-11-05 11:35:00, 2023-11-05 11:40:00]|LEN |47.4216           |49.5392           |[2023-11-05 11:30:00, 2023-11-05 11:35:00]|\n",
      "+------------------------------------------+----+------------------+------------------+------------------------------------------+\n",
      "only showing top 20 rows\n",
      "\n"
     ]
    },
    {
     "name": "stderr",
     "output_type": "stream",
     "text": [
      "                                                                                \r"
     ]
    },
    {
     "name": "stdout",
     "output_type": "stream",
     "text": [
      "+------------------------------------------+----+------------------+------------------+------------------------------------------+\n",
      "|window                                    |name|avg(price)        |previous_price    |previous_window                           |\n",
      "+------------------------------------------+----+------------------+------------------+------------------------------------------+\n",
      "|[2023-11-05 11:15:00, 2023-11-05 11:20:00]|ALXN|180.2             |108.02            |[2023-11-05 11:10:00, 2023-11-05 11:15:00]|\n",
      "|[2023-11-05 11:25:00, 2023-11-05 11:30:00]|ALXN|186.99            |164.66            |[2023-11-05 11:20:00, 2023-11-05 11:25:00]|\n",
      "|[2023-11-05 11:30:00, 2023-11-05 11:35:00]|ALXN|201.66995         |186.99            |[2023-11-05 11:25:00, 2023-11-05 11:30:00]|\n",
      "|[2023-11-05 11:50:00, 2023-11-05 11:55:00]|ALXN|139.99            |127.81            |[2023-11-05 11:45:00, 2023-11-05 11:50:00]|\n",
      "|[2023-11-05 12:00:00, 2023-11-05 12:05:00]|ALXN|116.72            |104.12333333333333|[2023-11-05 11:55:00, 2023-11-05 12:00:00]|\n",
      "|[2023-11-05 12:05:00, 2023-11-05 12:10:00]|ALXN|161.12666666666667|116.72            |[2023-11-05 12:00:00, 2023-11-05 12:05:00]|\n",
      "|[2023-11-05 12:20:00, 2023-11-05 12:25:00]|ALXN|173.71            |161.12666666666667|[2023-11-05 12:05:00, 2023-11-05 12:10:00]|\n",
      "|[2023-11-05 11:20:00, 2023-11-05 11:25:00]|GIS |50.92             |48.6              |[2023-11-05 11:15:00, 2023-11-05 11:20:00]|\n",
      "|[2023-11-05 11:30:00, 2023-11-05 11:35:00]|GIS |57.61             |50.92             |[2023-11-05 11:20:00, 2023-11-05 11:25:00]|\n",
      "|[2023-11-05 11:45:00, 2023-11-05 11:50:00]|GIS |60.67             |57.61             |[2023-11-05 11:30:00, 2023-11-05 11:35:00]|\n",
      "|[2023-11-05 11:55:00, 2023-11-05 12:00:00]|GIS |53.275000000000006|51.80505          |[2023-11-05 11:50:00, 2023-11-05 11:55:00]|\n",
      "|[2023-11-05 12:10:00, 2023-11-05 12:15:00]|GIS |53.3              |51.010000000000005|[2023-11-05 12:05:00, 2023-11-05 12:10:00]|\n",
      "|[2023-11-05 12:20:00, 2023-11-05 12:25:00]|GIS |57.754999999999995|52.66             |[2023-11-05 12:15:00, 2023-11-05 12:20:00]|\n",
      "|[2023-11-05 12:30:00, 2023-11-05 12:35:00]|GIS |63.89             |57.754999999999995|[2023-11-05 12:20:00, 2023-11-05 12:25:00]|\n",
      "|[2023-11-05 11:15:00, 2023-11-05 11:20:00]|K   |67.63             |65.865            |[2023-11-05 11:10:00, 2023-11-05 11:15:00]|\n",
      "|[2023-11-05 11:30:00, 2023-11-05 11:35:00]|K   |66.81             |62.1798           |[2023-11-05 11:25:00, 2023-11-05 11:30:00]|\n",
      "|[2023-11-05 11:45:00, 2023-11-05 11:50:00]|K   |73.32             |66.81             |[2023-11-05 11:30:00, 2023-11-05 11:35:00]|\n",
      "|[2023-11-05 12:05:00, 2023-11-05 12:10:00]|K   |64.26             |61.11             |[2023-11-05 12:00:00, 2023-11-05 12:05:00]|\n",
      "|[2023-11-05 12:15:00, 2023-11-05 12:20:00]|K   |64.2625           |64.26             |[2023-11-05 12:05:00, 2023-11-05 12:10:00]|\n",
      "|[2023-11-05 12:20:00, 2023-11-05 12:25:00]|K   |65.02             |64.2625           |[2023-11-05 12:15:00, 2023-11-05 12:20:00]|\n",
      "+------------------------------------------+----+------------------+------------------+------------------------------------------+\n",
      "only showing top 20 rows\n",
      "\n"
     ]
    },
    {
     "name": "stderr",
     "output_type": "stream",
     "text": [
      "                                                                                \r"
     ]
    },
    {
     "name": "stdout",
     "output_type": "stream",
     "text": [
      "+------------------------------------------+----+------------------+------------------+------------------------------------------+\n",
      "|window                                    |name|avg(price)        |previous_price    |previous_window                           |\n",
      "+------------------------------------------+----+------------------+------------------+------------------------------------------+\n",
      "|[2023-11-05 11:20:00, 2023-11-05 11:25:00]|ALXN|164.66            |180.2             |[2023-11-05 11:15:00, 2023-11-05 11:20:00]|\n",
      "|[2023-11-05 11:45:00, 2023-11-05 11:50:00]|ALXN|127.81            |201.66995         |[2023-11-05 11:30:00, 2023-11-05 11:35:00]|\n",
      "|[2023-11-05 11:55:00, 2023-11-05 12:00:00]|ALXN|104.12333333333333|139.99            |[2023-11-05 11:50:00, 2023-11-05 11:55:00]|\n",
      "|[2023-11-05 12:25:00, 2023-11-05 12:30:00]|ALXN|148.73833333333332|173.71            |[2023-11-05 12:20:00, 2023-11-05 12:25:00]|\n",
      "|[2023-11-05 12:30:00, 2023-11-05 12:35:00]|ALXN|128.63833333333335|148.73833333333332|[2023-11-05 12:25:00, 2023-11-05 12:30:00]|\n",
      "|[2023-11-05 11:10:00, 2023-11-05 11:15:00]|GIS |49.35666666666666 |50.5207           |[2023-11-05 11:05:00, 2023-11-05 11:10:00]|\n",
      "|[2023-11-05 11:15:00, 2023-11-05 11:20:00]|GIS |48.6              |49.35666666666666 |[2023-11-05 11:10:00, 2023-11-05 11:15:00]|\n",
      "|[2023-11-05 11:50:00, 2023-11-05 11:55:00]|GIS |51.80505          |60.67             |[2023-11-05 11:45:00, 2023-11-05 11:50:00]|\n",
      "|[2023-11-05 12:00:00, 2023-11-05 12:05:00]|GIS |51.05             |53.275000000000006|[2023-11-05 11:55:00, 2023-11-05 12:00:00]|\n",
      "|[2023-11-05 12:05:00, 2023-11-05 12:10:00]|GIS |51.010000000000005|51.05             |[2023-11-05 12:00:00, 2023-11-05 12:05:00]|\n",
      "|[2023-11-05 12:15:00, 2023-11-05 12:20:00]|GIS |52.66             |53.3              |[2023-11-05 12:10:00, 2023-11-05 12:15:00]|\n",
      "|[2023-11-05 11:20:00, 2023-11-05 11:25:00]|K   |66.23             |67.63             |[2023-11-05 11:15:00, 2023-11-05 11:20:00]|\n",
      "|[2023-11-05 11:25:00, 2023-11-05 11:30:00]|K   |62.1798           |66.23             |[2023-11-05 11:20:00, 2023-11-05 11:25:00]|\n",
      "|[2023-11-05 11:50:00, 2023-11-05 11:55:00]|K   |71.255            |73.32             |[2023-11-05 11:45:00, 2023-11-05 11:50:00]|\n",
      "|[2023-11-05 11:55:00, 2023-11-05 12:00:00]|K   |66.625            |71.255            |[2023-11-05 11:50:00, 2023-11-05 11:55:00]|\n",
      "|[2023-11-05 12:00:00, 2023-11-05 12:05:00]|K   |61.11             |66.625            |[2023-11-05 11:55:00, 2023-11-05 12:00:00]|\n",
      "|[2023-11-05 12:30:00, 2023-11-05 12:35:00]|K   |76.47             |77.03999999999999 |[2023-11-05 12:25:00, 2023-11-05 12:30:00]|\n",
      "|[2023-11-05 11:20:00, 2023-11-05 11:25:00]|LEN |35.5196           |38.958349999999996|[2023-11-05 11:15:00, 2023-11-05 11:20:00]|\n",
      "|[2023-11-05 11:30:00, 2023-11-05 11:35:00]|LEN |49.5392           |49.676500000000004|[2023-11-05 11:25:00, 2023-11-05 11:30:00]|\n",
      "|[2023-11-05 11:35:00, 2023-11-05 11:40:00]|LEN |47.4216           |49.5392           |[2023-11-05 11:30:00, 2023-11-05 11:35:00]|\n",
      "+------------------------------------------+----+------------------+------------------+------------------------------------------+\n",
      "only showing top 20 rows\n",
      "\n"
     ]
    },
    {
     "name": "stderr",
     "output_type": "stream",
     "text": [
      "                                                                                \r"
     ]
    },
    {
     "name": "stdout",
     "output_type": "stream",
     "text": [
      "+------------------------------------------+----+------------------+------------------+------------------------------------------+\n",
      "|window                                    |name|avg(price)        |previous_price    |previous_window                           |\n",
      "+------------------------------------------+----+------------------+------------------+------------------------------------------+\n",
      "|[2023-11-05 11:15:00, 2023-11-05 11:20:00]|ALXN|180.2             |108.02            |[2023-11-05 11:10:00, 2023-11-05 11:15:00]|\n",
      "|[2023-11-05 11:25:00, 2023-11-05 11:30:00]|ALXN|186.99            |164.66            |[2023-11-05 11:20:00, 2023-11-05 11:25:00]|\n",
      "|[2023-11-05 11:30:00, 2023-11-05 11:35:00]|ALXN|201.66995         |186.99            |[2023-11-05 11:25:00, 2023-11-05 11:30:00]|\n",
      "|[2023-11-05 11:50:00, 2023-11-05 11:55:00]|ALXN|139.99            |127.81            |[2023-11-05 11:45:00, 2023-11-05 11:50:00]|\n",
      "|[2023-11-05 12:00:00, 2023-11-05 12:05:00]|ALXN|116.72            |104.12333333333333|[2023-11-05 11:55:00, 2023-11-05 12:00:00]|\n",
      "|[2023-11-05 12:05:00, 2023-11-05 12:10:00]|ALXN|161.12666666666667|116.72            |[2023-11-05 12:00:00, 2023-11-05 12:05:00]|\n",
      "|[2023-11-05 12:20:00, 2023-11-05 12:25:00]|ALXN|173.71            |161.12666666666667|[2023-11-05 12:05:00, 2023-11-05 12:10:00]|\n",
      "|[2023-11-05 11:20:00, 2023-11-05 11:25:00]|GIS |50.92             |48.6              |[2023-11-05 11:15:00, 2023-11-05 11:20:00]|\n",
      "|[2023-11-05 11:30:00, 2023-11-05 11:35:00]|GIS |57.61             |50.92             |[2023-11-05 11:20:00, 2023-11-05 11:25:00]|\n",
      "|[2023-11-05 11:45:00, 2023-11-05 11:50:00]|GIS |60.67             |57.61             |[2023-11-05 11:30:00, 2023-11-05 11:35:00]|\n",
      "|[2023-11-05 11:55:00, 2023-11-05 12:00:00]|GIS |53.275000000000006|51.80505          |[2023-11-05 11:50:00, 2023-11-05 11:55:00]|\n",
      "|[2023-11-05 12:10:00, 2023-11-05 12:15:00]|GIS |53.3              |51.010000000000005|[2023-11-05 12:05:00, 2023-11-05 12:10:00]|\n",
      "|[2023-11-05 12:20:00, 2023-11-05 12:25:00]|GIS |57.754999999999995|52.66             |[2023-11-05 12:15:00, 2023-11-05 12:20:00]|\n",
      "|[2023-11-05 12:30:00, 2023-11-05 12:35:00]|GIS |68.85996666666666 |57.754999999999995|[2023-11-05 12:20:00, 2023-11-05 12:25:00]|\n",
      "|[2023-11-05 11:15:00, 2023-11-05 11:20:00]|K   |67.63             |65.865            |[2023-11-05 11:10:00, 2023-11-05 11:15:00]|\n",
      "|[2023-11-05 11:30:00, 2023-11-05 11:35:00]|K   |66.81             |62.1798           |[2023-11-05 11:25:00, 2023-11-05 11:30:00]|\n",
      "|[2023-11-05 11:45:00, 2023-11-05 11:50:00]|K   |73.32             |66.81             |[2023-11-05 11:30:00, 2023-11-05 11:35:00]|\n",
      "|[2023-11-05 12:05:00, 2023-11-05 12:10:00]|K   |64.26             |61.11             |[2023-11-05 12:00:00, 2023-11-05 12:05:00]|\n",
      "|[2023-11-05 12:15:00, 2023-11-05 12:20:00]|K   |64.2625           |64.26             |[2023-11-05 12:05:00, 2023-11-05 12:10:00]|\n",
      "|[2023-11-05 12:20:00, 2023-11-05 12:25:00]|K   |65.02             |64.2625           |[2023-11-05 12:15:00, 2023-11-05 12:20:00]|\n",
      "+------------------------------------------+----+------------------+------------------+------------------------------------------+\n",
      "only showing top 20 rows\n",
      "\n"
     ]
    },
    {
     "name": "stderr",
     "output_type": "stream",
     "text": [
      "                                                                                \r"
     ]
    },
    {
     "name": "stdout",
     "output_type": "stream",
     "text": [
      "+------------------------------------------+----+------------------+------------------+------------------------------------------+\n",
      "|window                                    |name|avg(price)        |previous_price    |previous_window                           |\n",
      "+------------------------------------------+----+------------------+------------------+------------------------------------------+\n",
      "|[2023-11-05 11:20:00, 2023-11-05 11:25:00]|ALXN|164.66            |180.2             |[2023-11-05 11:15:00, 2023-11-05 11:20:00]|\n",
      "|[2023-11-05 11:45:00, 2023-11-05 11:50:00]|ALXN|127.81            |201.66995         |[2023-11-05 11:30:00, 2023-11-05 11:35:00]|\n",
      "|[2023-11-05 11:55:00, 2023-11-05 12:00:00]|ALXN|104.12333333333333|139.99            |[2023-11-05 11:50:00, 2023-11-05 11:55:00]|\n",
      "|[2023-11-05 12:25:00, 2023-11-05 12:30:00]|ALXN|148.73833333333332|173.71            |[2023-11-05 12:20:00, 2023-11-05 12:25:00]|\n",
      "|[2023-11-05 12:30:00, 2023-11-05 12:35:00]|ALXN|128.63833333333335|148.73833333333332|[2023-11-05 12:25:00, 2023-11-05 12:30:00]|\n",
      "|[2023-11-05 11:10:00, 2023-11-05 11:15:00]|GIS |49.35666666666666 |50.5207           |[2023-11-05 11:05:00, 2023-11-05 11:10:00]|\n",
      "|[2023-11-05 11:15:00, 2023-11-05 11:20:00]|GIS |48.6              |49.35666666666666 |[2023-11-05 11:10:00, 2023-11-05 11:15:00]|\n",
      "|[2023-11-05 11:50:00, 2023-11-05 11:55:00]|GIS |51.80505          |60.67             |[2023-11-05 11:45:00, 2023-11-05 11:50:00]|\n",
      "|[2023-11-05 12:00:00, 2023-11-05 12:05:00]|GIS |51.05             |53.275000000000006|[2023-11-05 11:55:00, 2023-11-05 12:00:00]|\n",
      "|[2023-11-05 12:05:00, 2023-11-05 12:10:00]|GIS |51.010000000000005|51.05             |[2023-11-05 12:00:00, 2023-11-05 12:05:00]|\n",
      "|[2023-11-05 12:15:00, 2023-11-05 12:20:00]|GIS |52.66             |53.3              |[2023-11-05 12:10:00, 2023-11-05 12:15:00]|\n",
      "|[2023-11-05 12:35:00, 2023-11-05 12:40:00]|GIS |62.19             |66.929975         |[2023-11-05 12:30:00, 2023-11-05 12:35:00]|\n",
      "|[2023-11-05 11:20:00, 2023-11-05 11:25:00]|K   |66.23             |67.63             |[2023-11-05 11:15:00, 2023-11-05 11:20:00]|\n",
      "|[2023-11-05 11:25:00, 2023-11-05 11:30:00]|K   |62.1798           |66.23             |[2023-11-05 11:20:00, 2023-11-05 11:25:00]|\n",
      "|[2023-11-05 11:50:00, 2023-11-05 11:55:00]|K   |71.255            |73.32             |[2023-11-05 11:45:00, 2023-11-05 11:50:00]|\n",
      "|[2023-11-05 11:55:00, 2023-11-05 12:00:00]|K   |66.625            |71.255            |[2023-11-05 11:50:00, 2023-11-05 11:55:00]|\n",
      "|[2023-11-05 12:00:00, 2023-11-05 12:05:00]|K   |61.11             |66.625            |[2023-11-05 11:55:00, 2023-11-05 12:00:00]|\n",
      "|[2023-11-05 12:30:00, 2023-11-05 12:35:00]|K   |76.47             |77.03999999999999 |[2023-11-05 12:25:00, 2023-11-05 12:30:00]|\n",
      "|[2023-11-05 11:20:00, 2023-11-05 11:25:00]|LEN |35.5196           |38.958349999999996|[2023-11-05 11:15:00, 2023-11-05 11:20:00]|\n",
      "|[2023-11-05 11:30:00, 2023-11-05 11:35:00]|LEN |49.5392           |49.676500000000004|[2023-11-05 11:25:00, 2023-11-05 11:30:00]|\n",
      "+------------------------------------------+----+------------------+------------------+------------------------------------------+\n",
      "only showing top 20 rows\n",
      "\n"
     ]
    },
    {
     "name": "stderr",
     "output_type": "stream",
     "text": [
      "                                                                                \r"
     ]
    },
    {
     "name": "stdout",
     "output_type": "stream",
     "text": [
      "+------------------------------------------+----+------------------+------------------+------------------------------------------+\n",
      "|window                                    |name|avg(price)        |previous_price    |previous_window                           |\n",
      "+------------------------------------------+----+------------------+------------------+------------------------------------------+\n",
      "|[2023-11-05 11:15:00, 2023-11-05 11:20:00]|ALXN|180.2             |108.02            |[2023-11-05 11:10:00, 2023-11-05 11:15:00]|\n",
      "|[2023-11-05 11:25:00, 2023-11-05 11:30:00]|ALXN|186.99            |164.66            |[2023-11-05 11:20:00, 2023-11-05 11:25:00]|\n",
      "|[2023-11-05 11:30:00, 2023-11-05 11:35:00]|ALXN|201.66995         |186.99            |[2023-11-05 11:25:00, 2023-11-05 11:30:00]|\n",
      "|[2023-11-05 11:50:00, 2023-11-05 11:55:00]|ALXN|139.99            |127.81            |[2023-11-05 11:45:00, 2023-11-05 11:50:00]|\n",
      "|[2023-11-05 12:00:00, 2023-11-05 12:05:00]|ALXN|116.72            |104.12333333333333|[2023-11-05 11:55:00, 2023-11-05 12:00:00]|\n",
      "|[2023-11-05 12:05:00, 2023-11-05 12:10:00]|ALXN|161.12666666666667|116.72            |[2023-11-05 12:00:00, 2023-11-05 12:05:00]|\n",
      "|[2023-11-05 12:20:00, 2023-11-05 12:25:00]|ALXN|173.71            |161.12666666666667|[2023-11-05 12:05:00, 2023-11-05 12:10:00]|\n",
      "|[2023-11-05 11:20:00, 2023-11-05 11:25:00]|GIS |50.92             |48.6              |[2023-11-05 11:15:00, 2023-11-05 11:20:00]|\n",
      "|[2023-11-05 11:30:00, 2023-11-05 11:35:00]|GIS |57.61             |50.92             |[2023-11-05 11:20:00, 2023-11-05 11:25:00]|\n",
      "|[2023-11-05 11:45:00, 2023-11-05 11:50:00]|GIS |60.67             |57.61             |[2023-11-05 11:30:00, 2023-11-05 11:35:00]|\n",
      "|[2023-11-05 11:55:00, 2023-11-05 12:00:00]|GIS |53.275000000000006|51.80505          |[2023-11-05 11:50:00, 2023-11-05 11:55:00]|\n",
      "|[2023-11-05 12:10:00, 2023-11-05 12:15:00]|GIS |53.3              |51.010000000000005|[2023-11-05 12:05:00, 2023-11-05 12:10:00]|\n",
      "|[2023-11-05 12:20:00, 2023-11-05 12:25:00]|GIS |57.754999999999995|52.66             |[2023-11-05 12:15:00, 2023-11-05 12:20:00]|\n",
      "|[2023-11-05 12:30:00, 2023-11-05 12:35:00]|GIS |68.85996666666666 |57.754999999999995|[2023-11-05 12:20:00, 2023-11-05 12:25:00]|\n",
      "|[2023-11-05 11:15:00, 2023-11-05 11:20:00]|K   |67.63             |65.865            |[2023-11-05 11:10:00, 2023-11-05 11:15:00]|\n",
      "|[2023-11-05 11:30:00, 2023-11-05 11:35:00]|K   |66.81             |62.1798           |[2023-11-05 11:25:00, 2023-11-05 11:30:00]|\n",
      "|[2023-11-05 11:45:00, 2023-11-05 11:50:00]|K   |73.32             |66.81             |[2023-11-05 11:30:00, 2023-11-05 11:35:00]|\n",
      "|[2023-11-05 12:05:00, 2023-11-05 12:10:00]|K   |64.26             |61.11             |[2023-11-05 12:00:00, 2023-11-05 12:05:00]|\n",
      "|[2023-11-05 12:15:00, 2023-11-05 12:20:00]|K   |64.2625           |64.26             |[2023-11-05 12:05:00, 2023-11-05 12:10:00]|\n",
      "|[2023-11-05 12:20:00, 2023-11-05 12:25:00]|K   |65.02             |64.2625           |[2023-11-05 12:15:00, 2023-11-05 12:20:00]|\n",
      "+------------------------------------------+----+------------------+------------------+------------------------------------------+\n",
      "only showing top 20 rows\n",
      "\n"
     ]
    },
    {
     "name": "stderr",
     "output_type": "stream",
     "text": [
      "                                                                                \r"
     ]
    },
    {
     "name": "stdout",
     "output_type": "stream",
     "text": [
      "+------------------------------------------+----+------------------+------------------+------------------------------------------+\n",
      "|window                                    |name|avg(price)        |previous_price    |previous_window                           |\n",
      "+------------------------------------------+----+------------------+------------------+------------------------------------------+\n",
      "|[2023-11-05 11:20:00, 2023-11-05 11:25:00]|ALXN|164.66            |180.2             |[2023-11-05 11:15:00, 2023-11-05 11:20:00]|\n",
      "|[2023-11-05 11:45:00, 2023-11-05 11:50:00]|ALXN|127.81            |201.66995         |[2023-11-05 11:30:00, 2023-11-05 11:35:00]|\n",
      "|[2023-11-05 11:55:00, 2023-11-05 12:00:00]|ALXN|104.12333333333333|139.99            |[2023-11-05 11:50:00, 2023-11-05 11:55:00]|\n",
      "|[2023-11-05 12:25:00, 2023-11-05 12:30:00]|ALXN|148.73833333333332|173.71            |[2023-11-05 12:20:00, 2023-11-05 12:25:00]|\n",
      "|[2023-11-05 12:30:00, 2023-11-05 12:35:00]|ALXN|128.63833333333335|148.73833333333332|[2023-11-05 12:25:00, 2023-11-05 12:30:00]|\n",
      "|[2023-11-05 11:10:00, 2023-11-05 11:15:00]|GIS |49.35666666666666 |50.5207           |[2023-11-05 11:05:00, 2023-11-05 11:10:00]|\n",
      "|[2023-11-05 11:15:00, 2023-11-05 11:20:00]|GIS |48.6              |49.35666666666666 |[2023-11-05 11:10:00, 2023-11-05 11:15:00]|\n",
      "|[2023-11-05 11:50:00, 2023-11-05 11:55:00]|GIS |51.80505          |60.67             |[2023-11-05 11:45:00, 2023-11-05 11:50:00]|\n",
      "|[2023-11-05 12:00:00, 2023-11-05 12:05:00]|GIS |51.05             |53.275000000000006|[2023-11-05 11:55:00, 2023-11-05 12:00:00]|\n",
      "|[2023-11-05 12:05:00, 2023-11-05 12:10:00]|GIS |51.010000000000005|51.05             |[2023-11-05 12:00:00, 2023-11-05 12:05:00]|\n",
      "|[2023-11-05 12:15:00, 2023-11-05 12:20:00]|GIS |52.66             |53.3              |[2023-11-05 12:10:00, 2023-11-05 12:15:00]|\n",
      "|[2023-11-05 12:35:00, 2023-11-05 12:40:00]|GIS |62.19             |66.929975         |[2023-11-05 12:30:00, 2023-11-05 12:35:00]|\n",
      "|[2023-11-05 11:20:00, 2023-11-05 11:25:00]|K   |66.23             |67.63             |[2023-11-05 11:15:00, 2023-11-05 11:20:00]|\n",
      "|[2023-11-05 11:25:00, 2023-11-05 11:30:00]|K   |62.1798           |66.23             |[2023-11-05 11:20:00, 2023-11-05 11:25:00]|\n",
      "|[2023-11-05 11:50:00, 2023-11-05 11:55:00]|K   |71.255            |73.32             |[2023-11-05 11:45:00, 2023-11-05 11:50:00]|\n",
      "|[2023-11-05 11:55:00, 2023-11-05 12:00:00]|K   |66.625            |71.255            |[2023-11-05 11:50:00, 2023-11-05 11:55:00]|\n",
      "|[2023-11-05 12:00:00, 2023-11-05 12:05:00]|K   |61.11             |66.625            |[2023-11-05 11:55:00, 2023-11-05 12:00:00]|\n",
      "|[2023-11-05 12:30:00, 2023-11-05 12:35:00]|K   |76.47             |77.03999999999999 |[2023-11-05 12:25:00, 2023-11-05 12:30:00]|\n",
      "|[2023-11-05 11:20:00, 2023-11-05 11:25:00]|LEN |35.5196           |38.958349999999996|[2023-11-05 11:15:00, 2023-11-05 11:20:00]|\n",
      "|[2023-11-05 11:30:00, 2023-11-05 11:35:00]|LEN |49.5392           |49.676500000000004|[2023-11-05 11:25:00, 2023-11-05 11:30:00]|\n",
      "+------------------------------------------+----+------------------+------------------+------------------------------------------+\n",
      "only showing top 20 rows\n",
      "\n"
     ]
    },
    {
     "name": "stderr",
     "output_type": "stream",
     "text": [
      "                                                                                \r"
     ]
    },
    {
     "name": "stdout",
     "output_type": "stream",
     "text": [
      "+------------------------------------------+----+------------------+------------------+------------------------------------------+\n",
      "|window                                    |name|avg(price)        |previous_price    |previous_window                           |\n",
      "+------------------------------------------+----+------------------+------------------+------------------------------------------+\n",
      "|[2023-11-05 11:15:00, 2023-11-05 11:20:00]|ALXN|180.2             |108.02            |[2023-11-05 11:10:00, 2023-11-05 11:15:00]|\n",
      "|[2023-11-05 11:25:00, 2023-11-05 11:30:00]|ALXN|186.99            |164.66            |[2023-11-05 11:20:00, 2023-11-05 11:25:00]|\n",
      "|[2023-11-05 11:30:00, 2023-11-05 11:35:00]|ALXN|201.66995         |186.99            |[2023-11-05 11:25:00, 2023-11-05 11:30:00]|\n",
      "|[2023-11-05 11:50:00, 2023-11-05 11:55:00]|ALXN|139.99            |127.81            |[2023-11-05 11:45:00, 2023-11-05 11:50:00]|\n",
      "|[2023-11-05 12:00:00, 2023-11-05 12:05:00]|ALXN|116.72            |104.12333333333333|[2023-11-05 11:55:00, 2023-11-05 12:00:00]|\n",
      "|[2023-11-05 12:05:00, 2023-11-05 12:10:00]|ALXN|161.12666666666667|116.72            |[2023-11-05 12:00:00, 2023-11-05 12:05:00]|\n",
      "|[2023-11-05 12:20:00, 2023-11-05 12:25:00]|ALXN|173.71            |161.12666666666667|[2023-11-05 12:05:00, 2023-11-05 12:10:00]|\n",
      "|[2023-11-05 11:20:00, 2023-11-05 11:25:00]|GIS |50.92             |48.6              |[2023-11-05 11:15:00, 2023-11-05 11:20:00]|\n",
      "|[2023-11-05 11:30:00, 2023-11-05 11:35:00]|GIS |57.61             |50.92             |[2023-11-05 11:20:00, 2023-11-05 11:25:00]|\n",
      "|[2023-11-05 11:45:00, 2023-11-05 11:50:00]|GIS |60.67             |57.61             |[2023-11-05 11:30:00, 2023-11-05 11:35:00]|\n",
      "|[2023-11-05 11:55:00, 2023-11-05 12:00:00]|GIS |53.275000000000006|51.80505          |[2023-11-05 11:50:00, 2023-11-05 11:55:00]|\n",
      "|[2023-11-05 12:10:00, 2023-11-05 12:15:00]|GIS |53.3              |51.010000000000005|[2023-11-05 12:05:00, 2023-11-05 12:10:00]|\n",
      "|[2023-11-05 12:20:00, 2023-11-05 12:25:00]|GIS |57.754999999999995|52.66             |[2023-11-05 12:15:00, 2023-11-05 12:20:00]|\n",
      "|[2023-11-05 12:30:00, 2023-11-05 12:35:00]|GIS |66.929975         |57.754999999999995|[2023-11-05 12:20:00, 2023-11-05 12:25:00]|\n",
      "|[2023-11-05 11:15:00, 2023-11-05 11:20:00]|K   |67.63             |65.865            |[2023-11-05 11:10:00, 2023-11-05 11:15:00]|\n",
      "|[2023-11-05 11:30:00, 2023-11-05 11:35:00]|K   |66.81             |62.1798           |[2023-11-05 11:25:00, 2023-11-05 11:30:00]|\n",
      "|[2023-11-05 11:45:00, 2023-11-05 11:50:00]|K   |73.32             |66.81             |[2023-11-05 11:30:00, 2023-11-05 11:35:00]|\n",
      "|[2023-11-05 12:05:00, 2023-11-05 12:10:00]|K   |64.26             |61.11             |[2023-11-05 12:00:00, 2023-11-05 12:05:00]|\n",
      "|[2023-11-05 12:15:00, 2023-11-05 12:20:00]|K   |64.2625           |64.26             |[2023-11-05 12:05:00, 2023-11-05 12:10:00]|\n",
      "|[2023-11-05 12:20:00, 2023-11-05 12:25:00]|K   |65.02             |64.2625           |[2023-11-05 12:15:00, 2023-11-05 12:20:00]|\n",
      "+------------------------------------------+----+------------------+------------------+------------------------------------------+\n",
      "only showing top 20 rows\n",
      "\n"
     ]
    },
    {
     "name": "stderr",
     "output_type": "stream",
     "text": [
      "                                                                                \r"
     ]
    },
    {
     "name": "stdout",
     "output_type": "stream",
     "text": [
      "+------------------------------------------+----+------------------+------------------+------------------------------------------+\n",
      "|window                                    |name|avg(price)        |previous_price    |previous_window                           |\n",
      "+------------------------------------------+----+------------------+------------------+------------------------------------------+\n",
      "|[2023-11-05 11:20:00, 2023-11-05 11:25:00]|ALXN|164.66            |180.2             |[2023-11-05 11:15:00, 2023-11-05 11:20:00]|\n",
      "|[2023-11-05 11:45:00, 2023-11-05 11:50:00]|ALXN|127.81            |201.66995         |[2023-11-05 11:30:00, 2023-11-05 11:35:00]|\n",
      "|[2023-11-05 11:55:00, 2023-11-05 12:00:00]|ALXN|104.12333333333333|139.99            |[2023-11-05 11:50:00, 2023-11-05 11:55:00]|\n",
      "|[2023-11-05 12:25:00, 2023-11-05 12:30:00]|ALXN|148.73833333333332|173.71            |[2023-11-05 12:20:00, 2023-11-05 12:25:00]|\n",
      "|[2023-11-05 12:30:00, 2023-11-05 12:35:00]|ALXN|128.63833333333335|148.73833333333332|[2023-11-05 12:25:00, 2023-11-05 12:30:00]|\n",
      "|[2023-11-05 11:10:00, 2023-11-05 11:15:00]|GIS |49.35666666666666 |50.5207           |[2023-11-05 11:05:00, 2023-11-05 11:10:00]|\n",
      "|[2023-11-05 11:15:00, 2023-11-05 11:20:00]|GIS |48.6              |49.35666666666666 |[2023-11-05 11:10:00, 2023-11-05 11:15:00]|\n",
      "|[2023-11-05 11:50:00, 2023-11-05 11:55:00]|GIS |51.80505          |60.67             |[2023-11-05 11:45:00, 2023-11-05 11:50:00]|\n",
      "|[2023-11-05 12:00:00, 2023-11-05 12:05:00]|GIS |51.05             |53.275000000000006|[2023-11-05 11:55:00, 2023-11-05 12:00:00]|\n",
      "|[2023-11-05 12:05:00, 2023-11-05 12:10:00]|GIS |51.010000000000005|51.05             |[2023-11-05 12:00:00, 2023-11-05 12:05:00]|\n",
      "|[2023-11-05 12:15:00, 2023-11-05 12:20:00]|GIS |52.66             |53.3              |[2023-11-05 12:10:00, 2023-11-05 12:15:00]|\n",
      "|[2023-11-05 12:35:00, 2023-11-05 12:40:00]|GIS |62.19             |66.929975         |[2023-11-05 12:30:00, 2023-11-05 12:35:00]|\n",
      "|[2023-11-05 11:20:00, 2023-11-05 11:25:00]|K   |66.23             |67.63             |[2023-11-05 11:15:00, 2023-11-05 11:20:00]|\n",
      "|[2023-11-05 11:25:00, 2023-11-05 11:30:00]|K   |62.1798           |66.23             |[2023-11-05 11:20:00, 2023-11-05 11:25:00]|\n",
      "|[2023-11-05 11:50:00, 2023-11-05 11:55:00]|K   |71.255            |73.32             |[2023-11-05 11:45:00, 2023-11-05 11:50:00]|\n",
      "|[2023-11-05 11:55:00, 2023-11-05 12:00:00]|K   |66.625            |71.255            |[2023-11-05 11:50:00, 2023-11-05 11:55:00]|\n",
      "|[2023-11-05 12:00:00, 2023-11-05 12:05:00]|K   |61.11             |66.625            |[2023-11-05 11:55:00, 2023-11-05 12:00:00]|\n",
      "|[2023-11-05 12:30:00, 2023-11-05 12:35:00]|K   |76.47             |77.03999999999999 |[2023-11-05 12:25:00, 2023-11-05 12:30:00]|\n",
      "|[2023-11-05 11:20:00, 2023-11-05 11:25:00]|LEN |35.5196           |38.958349999999996|[2023-11-05 11:15:00, 2023-11-05 11:20:00]|\n",
      "|[2023-11-05 11:30:00, 2023-11-05 11:35:00]|LEN |49.5392           |49.676500000000004|[2023-11-05 11:25:00, 2023-11-05 11:30:00]|\n",
      "+------------------------------------------+----+------------------+------------------+------------------------------------------+\n",
      "only showing top 20 rows\n",
      "\n"
     ]
    },
    {
     "name": "stderr",
     "output_type": "stream",
     "text": [
      "                                                                                \r"
     ]
    },
    {
     "name": "stdout",
     "output_type": "stream",
     "text": [
      "+------------------------------------------+----+------------------+------------------+------------------------------------------+\n",
      "|window                                    |name|avg(price)        |previous_price    |previous_window                           |\n",
      "+------------------------------------------+----+------------------+------------------+------------------------------------------+\n",
      "|[2023-11-05 11:15:00, 2023-11-05 11:20:00]|ALXN|180.2             |108.02            |[2023-11-05 11:10:00, 2023-11-05 11:15:00]|\n",
      "|[2023-11-05 11:25:00, 2023-11-05 11:30:00]|ALXN|186.99            |164.66            |[2023-11-05 11:20:00, 2023-11-05 11:25:00]|\n",
      "|[2023-11-05 11:30:00, 2023-11-05 11:35:00]|ALXN|201.66995         |186.99            |[2023-11-05 11:25:00, 2023-11-05 11:30:00]|\n",
      "|[2023-11-05 11:50:00, 2023-11-05 11:55:00]|ALXN|139.99            |127.81            |[2023-11-05 11:45:00, 2023-11-05 11:50:00]|\n",
      "|[2023-11-05 12:00:00, 2023-11-05 12:05:00]|ALXN|116.72            |104.12333333333333|[2023-11-05 11:55:00, 2023-11-05 12:00:00]|\n",
      "|[2023-11-05 12:05:00, 2023-11-05 12:10:00]|ALXN|161.12666666666667|116.72            |[2023-11-05 12:00:00, 2023-11-05 12:05:00]|\n",
      "|[2023-11-05 12:20:00, 2023-11-05 12:25:00]|ALXN|173.71            |161.12666666666667|[2023-11-05 12:05:00, 2023-11-05 12:10:00]|\n",
      "|[2023-11-05 11:20:00, 2023-11-05 11:25:00]|GIS |50.92             |48.6              |[2023-11-05 11:15:00, 2023-11-05 11:20:00]|\n",
      "|[2023-11-05 11:30:00, 2023-11-05 11:35:00]|GIS |57.61             |50.92             |[2023-11-05 11:20:00, 2023-11-05 11:25:00]|\n",
      "|[2023-11-05 11:45:00, 2023-11-05 11:50:00]|GIS |60.67             |57.61             |[2023-11-05 11:30:00, 2023-11-05 11:35:00]|\n",
      "|[2023-11-05 11:55:00, 2023-11-05 12:00:00]|GIS |53.275000000000006|51.80505          |[2023-11-05 11:50:00, 2023-11-05 11:55:00]|\n",
      "|[2023-11-05 12:10:00, 2023-11-05 12:15:00]|GIS |53.3              |51.010000000000005|[2023-11-05 12:05:00, 2023-11-05 12:10:00]|\n",
      "|[2023-11-05 12:20:00, 2023-11-05 12:25:00]|GIS |57.754999999999995|52.66             |[2023-11-05 12:15:00, 2023-11-05 12:20:00]|\n",
      "|[2023-11-05 12:30:00, 2023-11-05 12:35:00]|GIS |66.929975         |57.754999999999995|[2023-11-05 12:20:00, 2023-11-05 12:25:00]|\n",
      "|[2023-11-05 11:15:00, 2023-11-05 11:20:00]|K   |67.63             |65.865            |[2023-11-05 11:10:00, 2023-11-05 11:15:00]|\n",
      "|[2023-11-05 11:30:00, 2023-11-05 11:35:00]|K   |66.81             |62.1798           |[2023-11-05 11:25:00, 2023-11-05 11:30:00]|\n",
      "|[2023-11-05 11:45:00, 2023-11-05 11:50:00]|K   |73.32             |66.81             |[2023-11-05 11:30:00, 2023-11-05 11:35:00]|\n",
      "|[2023-11-05 12:05:00, 2023-11-05 12:10:00]|K   |64.26             |61.11             |[2023-11-05 12:00:00, 2023-11-05 12:05:00]|\n",
      "|[2023-11-05 12:15:00, 2023-11-05 12:20:00]|K   |64.2625           |64.26             |[2023-11-05 12:05:00, 2023-11-05 12:10:00]|\n",
      "|[2023-11-05 12:20:00, 2023-11-05 12:25:00]|K   |65.02             |64.2625           |[2023-11-05 12:15:00, 2023-11-05 12:20:00]|\n",
      "+------------------------------------------+----+------------------+------------------+------------------------------------------+\n",
      "only showing top 20 rows\n",
      "\n"
     ]
    },
    {
     "name": "stderr",
     "output_type": "stream",
     "text": [
      "                                                                                \r"
     ]
    },
    {
     "name": "stdout",
     "output_type": "stream",
     "text": [
      "+------------------------------------------+----+------------------+------------------+------------------------------------------+\n",
      "|window                                    |name|avg(price)        |previous_price    |previous_window                           |\n",
      "+------------------------------------------+----+------------------+------------------+------------------------------------------+\n",
      "|[2023-11-05 11:20:00, 2023-11-05 11:25:00]|ALXN|164.66            |180.2             |[2023-11-05 11:15:00, 2023-11-05 11:20:00]|\n",
      "|[2023-11-05 11:45:00, 2023-11-05 11:50:00]|ALXN|127.81            |201.66995         |[2023-11-05 11:30:00, 2023-11-05 11:35:00]|\n",
      "|[2023-11-05 11:55:00, 2023-11-05 12:00:00]|ALXN|104.12333333333333|139.99            |[2023-11-05 11:50:00, 2023-11-05 11:55:00]|\n",
      "|[2023-11-05 12:25:00, 2023-11-05 12:30:00]|ALXN|148.73833333333332|173.71            |[2023-11-05 12:20:00, 2023-11-05 12:25:00]|\n",
      "|[2023-11-05 12:30:00, 2023-11-05 12:35:00]|ALXN|128.63833333333335|148.73833333333332|[2023-11-05 12:25:00, 2023-11-05 12:30:00]|\n",
      "|[2023-11-05 11:10:00, 2023-11-05 11:15:00]|GIS |49.35666666666666 |50.5207           |[2023-11-05 11:05:00, 2023-11-05 11:10:00]|\n",
      "|[2023-11-05 11:15:00, 2023-11-05 11:20:00]|GIS |48.6              |49.35666666666666 |[2023-11-05 11:10:00, 2023-11-05 11:15:00]|\n",
      "|[2023-11-05 11:50:00, 2023-11-05 11:55:00]|GIS |51.80505          |60.67             |[2023-11-05 11:45:00, 2023-11-05 11:50:00]|\n",
      "|[2023-11-05 12:00:00, 2023-11-05 12:05:00]|GIS |51.05             |53.275000000000006|[2023-11-05 11:55:00, 2023-11-05 12:00:00]|\n",
      "|[2023-11-05 12:05:00, 2023-11-05 12:10:00]|GIS |51.010000000000005|51.05             |[2023-11-05 12:00:00, 2023-11-05 12:05:00]|\n",
      "|[2023-11-05 12:15:00, 2023-11-05 12:20:00]|GIS |52.66             |53.3              |[2023-11-05 12:10:00, 2023-11-05 12:15:00]|\n",
      "|[2023-11-05 12:35:00, 2023-11-05 12:40:00]|GIS |62.19             |66.929975         |[2023-11-05 12:30:00, 2023-11-05 12:35:00]|\n",
      "|[2023-11-05 11:20:00, 2023-11-05 11:25:00]|K   |66.23             |67.63             |[2023-11-05 11:15:00, 2023-11-05 11:20:00]|\n",
      "|[2023-11-05 11:25:00, 2023-11-05 11:30:00]|K   |62.1798           |66.23             |[2023-11-05 11:20:00, 2023-11-05 11:25:00]|\n",
      "|[2023-11-05 11:50:00, 2023-11-05 11:55:00]|K   |71.255            |73.32             |[2023-11-05 11:45:00, 2023-11-05 11:50:00]|\n",
      "|[2023-11-05 11:55:00, 2023-11-05 12:00:00]|K   |66.625            |71.255            |[2023-11-05 11:50:00, 2023-11-05 11:55:00]|\n",
      "|[2023-11-05 12:00:00, 2023-11-05 12:05:00]|K   |61.11             |66.625            |[2023-11-05 11:55:00, 2023-11-05 12:00:00]|\n",
      "|[2023-11-05 12:30:00, 2023-11-05 12:35:00]|K   |76.47             |77.03999999999999 |[2023-11-05 12:25:00, 2023-11-05 12:30:00]|\n",
      "|[2023-11-05 11:20:00, 2023-11-05 11:25:00]|LEN |35.5196           |38.958349999999996|[2023-11-05 11:15:00, 2023-11-05 11:20:00]|\n",
      "|[2023-11-05 11:30:00, 2023-11-05 11:35:00]|LEN |49.5392           |49.676500000000004|[2023-11-05 11:25:00, 2023-11-05 11:30:00]|\n",
      "+------------------------------------------+----+------------------+------------------+------------------------------------------+\n",
      "only showing top 20 rows\n",
      "\n"
     ]
    },
    {
     "name": "stderr",
     "output_type": "stream",
     "text": [
      "                                                                                \r"
     ]
    },
    {
     "name": "stdout",
     "output_type": "stream",
     "text": [
      "+------------------------------------------+----+------------------+------------------+------------------------------------------+\n",
      "|window                                    |name|avg(price)        |previous_price    |previous_window                           |\n",
      "+------------------------------------------+----+------------------+------------------+------------------------------------------+\n",
      "|[2023-11-05 11:15:00, 2023-11-05 11:20:00]|ALXN|180.2             |108.02            |[2023-11-05 11:10:00, 2023-11-05 11:15:00]|\n",
      "|[2023-11-05 11:25:00, 2023-11-05 11:30:00]|ALXN|186.99            |164.66            |[2023-11-05 11:20:00, 2023-11-05 11:25:00]|\n",
      "|[2023-11-05 11:30:00, 2023-11-05 11:35:00]|ALXN|201.66995         |186.99            |[2023-11-05 11:25:00, 2023-11-05 11:30:00]|\n",
      "|[2023-11-05 11:50:00, 2023-11-05 11:55:00]|ALXN|139.99            |127.81            |[2023-11-05 11:45:00, 2023-11-05 11:50:00]|\n",
      "|[2023-11-05 12:00:00, 2023-11-05 12:05:00]|ALXN|116.72            |104.12333333333333|[2023-11-05 11:55:00, 2023-11-05 12:00:00]|\n",
      "|[2023-11-05 12:05:00, 2023-11-05 12:10:00]|ALXN|161.12666666666667|116.72            |[2023-11-05 12:00:00, 2023-11-05 12:05:00]|\n",
      "|[2023-11-05 12:20:00, 2023-11-05 12:25:00]|ALXN|173.71            |161.12666666666667|[2023-11-05 12:05:00, 2023-11-05 12:10:00]|\n",
      "|[2023-11-05 11:20:00, 2023-11-05 11:25:00]|GIS |50.92             |48.6              |[2023-11-05 11:15:00, 2023-11-05 11:20:00]|\n",
      "|[2023-11-05 11:30:00, 2023-11-05 11:35:00]|GIS |57.61             |50.92             |[2023-11-05 11:20:00, 2023-11-05 11:25:00]|\n",
      "|[2023-11-05 11:45:00, 2023-11-05 11:50:00]|GIS |60.67             |57.61             |[2023-11-05 11:30:00, 2023-11-05 11:35:00]|\n",
      "|[2023-11-05 11:55:00, 2023-11-05 12:00:00]|GIS |53.275000000000006|51.80505          |[2023-11-05 11:50:00, 2023-11-05 11:55:00]|\n",
      "|[2023-11-05 12:10:00, 2023-11-05 12:15:00]|GIS |53.3              |51.010000000000005|[2023-11-05 12:05:00, 2023-11-05 12:10:00]|\n",
      "|[2023-11-05 12:20:00, 2023-11-05 12:25:00]|GIS |57.754999999999995|52.66             |[2023-11-05 12:15:00, 2023-11-05 12:20:00]|\n",
      "|[2023-11-05 12:30:00, 2023-11-05 12:35:00]|GIS |66.929975         |57.754999999999995|[2023-11-05 12:20:00, 2023-11-05 12:25:00]|\n",
      "|[2023-11-05 11:15:00, 2023-11-05 11:20:00]|K   |67.63             |65.865            |[2023-11-05 11:10:00, 2023-11-05 11:15:00]|\n",
      "|[2023-11-05 11:30:00, 2023-11-05 11:35:00]|K   |66.81             |62.1798           |[2023-11-05 11:25:00, 2023-11-05 11:30:00]|\n",
      "|[2023-11-05 11:45:00, 2023-11-05 11:50:00]|K   |73.32             |66.81             |[2023-11-05 11:30:00, 2023-11-05 11:35:00]|\n",
      "|[2023-11-05 12:05:00, 2023-11-05 12:10:00]|K   |64.26             |61.11             |[2023-11-05 12:00:00, 2023-11-05 12:05:00]|\n",
      "|[2023-11-05 12:15:00, 2023-11-05 12:20:00]|K   |64.2625           |64.26             |[2023-11-05 12:05:00, 2023-11-05 12:10:00]|\n",
      "|[2023-11-05 12:20:00, 2023-11-05 12:25:00]|K   |65.02             |64.2625           |[2023-11-05 12:15:00, 2023-11-05 12:20:00]|\n",
      "+------------------------------------------+----+------------------+------------------+------------------------------------------+\n",
      "only showing top 20 rows\n",
      "\n"
     ]
    },
    {
     "name": "stderr",
     "output_type": "stream",
     "text": [
      "                                                                                \r"
     ]
    },
    {
     "name": "stdout",
     "output_type": "stream",
     "text": [
      "+------------------------------------------+----+------------------+------------------+------------------------------------------+\n",
      "|window                                    |name|avg(price)        |previous_price    |previous_window                           |\n",
      "+------------------------------------------+----+------------------+------------------+------------------------------------------+\n",
      "|[2023-11-05 11:20:00, 2023-11-05 11:25:00]|ALXN|164.66            |180.2             |[2023-11-05 11:15:00, 2023-11-05 11:20:00]|\n",
      "|[2023-11-05 11:45:00, 2023-11-05 11:50:00]|ALXN|127.81            |201.66995         |[2023-11-05 11:30:00, 2023-11-05 11:35:00]|\n",
      "|[2023-11-05 11:55:00, 2023-11-05 12:00:00]|ALXN|104.12333333333333|139.99            |[2023-11-05 11:50:00, 2023-11-05 11:55:00]|\n",
      "|[2023-11-05 12:25:00, 2023-11-05 12:30:00]|ALXN|148.73833333333332|173.71            |[2023-11-05 12:20:00, 2023-11-05 12:25:00]|\n",
      "|[2023-11-05 12:30:00, 2023-11-05 12:35:00]|ALXN|128.63833333333335|148.73833333333332|[2023-11-05 12:25:00, 2023-11-05 12:30:00]|\n",
      "|[2023-11-05 11:10:00, 2023-11-05 11:15:00]|GIS |49.35666666666666 |50.5207           |[2023-11-05 11:05:00, 2023-11-05 11:10:00]|\n",
      "|[2023-11-05 11:15:00, 2023-11-05 11:20:00]|GIS |48.6              |49.35666666666666 |[2023-11-05 11:10:00, 2023-11-05 11:15:00]|\n",
      "|[2023-11-05 11:50:00, 2023-11-05 11:55:00]|GIS |51.80505          |60.67             |[2023-11-05 11:45:00, 2023-11-05 11:50:00]|\n",
      "|[2023-11-05 12:00:00, 2023-11-05 12:05:00]|GIS |51.05             |53.275000000000006|[2023-11-05 11:55:00, 2023-11-05 12:00:00]|\n",
      "|[2023-11-05 12:05:00, 2023-11-05 12:10:00]|GIS |51.010000000000005|51.05             |[2023-11-05 12:00:00, 2023-11-05 12:05:00]|\n",
      "|[2023-11-05 12:15:00, 2023-11-05 12:20:00]|GIS |52.66             |53.3              |[2023-11-05 12:10:00, 2023-11-05 12:15:00]|\n",
      "|[2023-11-05 12:35:00, 2023-11-05 12:40:00]|GIS |62.19             |66.929975         |[2023-11-05 12:30:00, 2023-11-05 12:35:00]|\n",
      "|[2023-11-05 11:20:00, 2023-11-05 11:25:00]|K   |66.23             |67.63             |[2023-11-05 11:15:00, 2023-11-05 11:20:00]|\n",
      "|[2023-11-05 11:25:00, 2023-11-05 11:30:00]|K   |62.1798           |66.23             |[2023-11-05 11:20:00, 2023-11-05 11:25:00]|\n",
      "|[2023-11-05 11:50:00, 2023-11-05 11:55:00]|K   |71.255            |73.32             |[2023-11-05 11:45:00, 2023-11-05 11:50:00]|\n",
      "|[2023-11-05 11:55:00, 2023-11-05 12:00:00]|K   |66.625            |71.255            |[2023-11-05 11:50:00, 2023-11-05 11:55:00]|\n",
      "|[2023-11-05 12:00:00, 2023-11-05 12:05:00]|K   |61.11             |66.625            |[2023-11-05 11:55:00, 2023-11-05 12:00:00]|\n",
      "|[2023-11-05 12:30:00, 2023-11-05 12:35:00]|K   |76.47             |77.03999999999999 |[2023-11-05 12:25:00, 2023-11-05 12:30:00]|\n",
      "|[2023-11-05 11:20:00, 2023-11-05 11:25:00]|LEN |35.5196           |38.958349999999996|[2023-11-05 11:15:00, 2023-11-05 11:20:00]|\n",
      "|[2023-11-05 11:30:00, 2023-11-05 11:35:00]|LEN |49.5392           |49.676500000000004|[2023-11-05 11:25:00, 2023-11-05 11:30:00]|\n",
      "+------------------------------------------+----+------------------+------------------+------------------------------------------+\n",
      "only showing top 20 rows\n",
      "\n"
     ]
    },
    {
     "name": "stderr",
     "output_type": "stream",
     "text": [
      "                                                                                \r"
     ]
    },
    {
     "name": "stdout",
     "output_type": "stream",
     "text": [
      "+------------------------------------------+----+------------------+------------------+------------------------------------------+\n",
      "|window                                    |name|avg(price)        |previous_price    |previous_window                           |\n",
      "+------------------------------------------+----+------------------+------------------+------------------------------------------+\n",
      "|[2023-11-05 11:15:00, 2023-11-05 11:20:00]|ALXN|180.2             |108.02            |[2023-11-05 11:10:00, 2023-11-05 11:15:00]|\n",
      "|[2023-11-05 11:25:00, 2023-11-05 11:30:00]|ALXN|186.99            |164.66            |[2023-11-05 11:20:00, 2023-11-05 11:25:00]|\n",
      "|[2023-11-05 11:30:00, 2023-11-05 11:35:00]|ALXN|201.66995         |186.99            |[2023-11-05 11:25:00, 2023-11-05 11:30:00]|\n",
      "|[2023-11-05 11:50:00, 2023-11-05 11:55:00]|ALXN|139.99            |127.81            |[2023-11-05 11:45:00, 2023-11-05 11:50:00]|\n",
      "|[2023-11-05 12:00:00, 2023-11-05 12:05:00]|ALXN|116.72            |104.12333333333333|[2023-11-05 11:55:00, 2023-11-05 12:00:00]|\n",
      "|[2023-11-05 12:05:00, 2023-11-05 12:10:00]|ALXN|161.12666666666667|116.72            |[2023-11-05 12:00:00, 2023-11-05 12:05:00]|\n",
      "|[2023-11-05 12:20:00, 2023-11-05 12:25:00]|ALXN|173.71            |161.12666666666667|[2023-11-05 12:05:00, 2023-11-05 12:10:00]|\n",
      "|[2023-11-05 12:35:00, 2023-11-05 12:40:00]|ALXN|133.66719999999998|128.63833333333335|[2023-11-05 12:30:00, 2023-11-05 12:35:00]|\n",
      "|[2023-11-05 11:20:00, 2023-11-05 11:25:00]|GIS |50.92             |48.6              |[2023-11-05 11:15:00, 2023-11-05 11:20:00]|\n",
      "|[2023-11-05 11:30:00, 2023-11-05 11:35:00]|GIS |57.61             |50.92             |[2023-11-05 11:20:00, 2023-11-05 11:25:00]|\n",
      "|[2023-11-05 11:45:00, 2023-11-05 11:50:00]|GIS |60.67             |57.61             |[2023-11-05 11:30:00, 2023-11-05 11:35:00]|\n",
      "|[2023-11-05 11:55:00, 2023-11-05 12:00:00]|GIS |53.275000000000006|51.80505          |[2023-11-05 11:50:00, 2023-11-05 11:55:00]|\n",
      "|[2023-11-05 12:10:00, 2023-11-05 12:15:00]|GIS |53.3              |51.010000000000005|[2023-11-05 12:05:00, 2023-11-05 12:10:00]|\n",
      "|[2023-11-05 12:20:00, 2023-11-05 12:25:00]|GIS |57.754999999999995|52.66             |[2023-11-05 12:15:00, 2023-11-05 12:20:00]|\n",
      "|[2023-11-05 12:30:00, 2023-11-05 12:35:00]|GIS |66.929975         |57.754999999999995|[2023-11-05 12:20:00, 2023-11-05 12:25:00]|\n",
      "|[2023-11-05 11:15:00, 2023-11-05 11:20:00]|K   |67.63             |65.865            |[2023-11-05 11:10:00, 2023-11-05 11:15:00]|\n",
      "|[2023-11-05 11:30:00, 2023-11-05 11:35:00]|K   |66.81             |62.1798           |[2023-11-05 11:25:00, 2023-11-05 11:30:00]|\n",
      "|[2023-11-05 11:45:00, 2023-11-05 11:50:00]|K   |73.32             |66.81             |[2023-11-05 11:30:00, 2023-11-05 11:35:00]|\n",
      "|[2023-11-05 12:05:00, 2023-11-05 12:10:00]|K   |64.26             |61.11             |[2023-11-05 12:00:00, 2023-11-05 12:05:00]|\n",
      "|[2023-11-05 12:15:00, 2023-11-05 12:20:00]|K   |64.2625           |64.26             |[2023-11-05 12:05:00, 2023-11-05 12:10:00]|\n",
      "+------------------------------------------+----+------------------+------------------+------------------------------------------+\n",
      "only showing top 20 rows\n",
      "\n"
     ]
    },
    {
     "name": "stderr",
     "output_type": "stream",
     "text": [
      "                                                                                \r"
     ]
    },
    {
     "name": "stdout",
     "output_type": "stream",
     "text": [
      "+------------------------------------------+----+------------------+------------------+------------------------------------------+\n",
      "|window                                    |name|avg(price)        |previous_price    |previous_window                           |\n",
      "+------------------------------------------+----+------------------+------------------+------------------------------------------+\n",
      "|[2023-11-05 11:20:00, 2023-11-05 11:25:00]|ALXN|164.66            |180.2             |[2023-11-05 11:15:00, 2023-11-05 11:20:00]|\n",
      "|[2023-11-05 11:45:00, 2023-11-05 11:50:00]|ALXN|127.81            |201.66995         |[2023-11-05 11:30:00, 2023-11-05 11:35:00]|\n",
      "|[2023-11-05 11:55:00, 2023-11-05 12:00:00]|ALXN|104.12333333333333|139.99            |[2023-11-05 11:50:00, 2023-11-05 11:55:00]|\n",
      "|[2023-11-05 12:25:00, 2023-11-05 12:30:00]|ALXN|148.73833333333332|173.71            |[2023-11-05 12:20:00, 2023-11-05 12:25:00]|\n",
      "|[2023-11-05 12:30:00, 2023-11-05 12:35:00]|ALXN|128.63833333333335|148.73833333333332|[2023-11-05 12:25:00, 2023-11-05 12:30:00]|\n",
      "|[2023-11-05 11:10:00, 2023-11-05 11:15:00]|GIS |49.35666666666666 |50.5207           |[2023-11-05 11:05:00, 2023-11-05 11:10:00]|\n",
      "|[2023-11-05 11:15:00, 2023-11-05 11:20:00]|GIS |48.6              |49.35666666666666 |[2023-11-05 11:10:00, 2023-11-05 11:15:00]|\n",
      "|[2023-11-05 11:50:00, 2023-11-05 11:55:00]|GIS |51.80505          |60.67             |[2023-11-05 11:45:00, 2023-11-05 11:50:00]|\n",
      "|[2023-11-05 12:00:00, 2023-11-05 12:05:00]|GIS |51.05             |53.275000000000006|[2023-11-05 11:55:00, 2023-11-05 12:00:00]|\n",
      "|[2023-11-05 12:05:00, 2023-11-05 12:10:00]|GIS |51.010000000000005|51.05             |[2023-11-05 12:00:00, 2023-11-05 12:05:00]|\n",
      "|[2023-11-05 12:15:00, 2023-11-05 12:20:00]|GIS |52.66             |53.3              |[2023-11-05 12:10:00, 2023-11-05 12:15:00]|\n",
      "|[2023-11-05 12:35:00, 2023-11-05 12:40:00]|GIS |62.19             |66.929975         |[2023-11-05 12:30:00, 2023-11-05 12:35:00]|\n",
      "|[2023-11-05 11:20:00, 2023-11-05 11:25:00]|K   |66.23             |67.63             |[2023-11-05 11:15:00, 2023-11-05 11:20:00]|\n",
      "|[2023-11-05 11:25:00, 2023-11-05 11:30:00]|K   |62.1798           |66.23             |[2023-11-05 11:20:00, 2023-11-05 11:25:00]|\n",
      "|[2023-11-05 11:50:00, 2023-11-05 11:55:00]|K   |71.255            |73.32             |[2023-11-05 11:45:00, 2023-11-05 11:50:00]|\n",
      "|[2023-11-05 11:55:00, 2023-11-05 12:00:00]|K   |66.625            |71.255            |[2023-11-05 11:50:00, 2023-11-05 11:55:00]|\n",
      "|[2023-11-05 12:00:00, 2023-11-05 12:05:00]|K   |61.11             |66.625            |[2023-11-05 11:55:00, 2023-11-05 12:00:00]|\n",
      "|[2023-11-05 12:30:00, 2023-11-05 12:35:00]|K   |76.47             |77.03999999999999 |[2023-11-05 12:25:00, 2023-11-05 12:30:00]|\n",
      "|[2023-11-05 11:20:00, 2023-11-05 11:25:00]|LEN |35.5196           |38.958349999999996|[2023-11-05 11:15:00, 2023-11-05 11:20:00]|\n",
      "|[2023-11-05 11:30:00, 2023-11-05 11:35:00]|LEN |49.5392           |49.676500000000004|[2023-11-05 11:25:00, 2023-11-05 11:30:00]|\n",
      "+------------------------------------------+----+------------------+------------------+------------------------------------------+\n",
      "only showing top 20 rows\n",
      "\n"
     ]
    },
    {
     "name": "stderr",
     "output_type": "stream",
     "text": [
      "                                                                                \r"
     ]
    },
    {
     "name": "stdout",
     "output_type": "stream",
     "text": [
      "+------------------------------------------+----+------------------+------------------+------------------------------------------+\n",
      "|window                                    |name|avg(price)        |previous_price    |previous_window                           |\n",
      "+------------------------------------------+----+------------------+------------------+------------------------------------------+\n",
      "|[2023-11-05 11:15:00, 2023-11-05 11:20:00]|ALXN|180.2             |108.02            |[2023-11-05 11:10:00, 2023-11-05 11:15:00]|\n",
      "|[2023-11-05 11:25:00, 2023-11-05 11:30:00]|ALXN|186.99            |164.66            |[2023-11-05 11:20:00, 2023-11-05 11:25:00]|\n",
      "|[2023-11-05 11:30:00, 2023-11-05 11:35:00]|ALXN|201.66995         |186.99            |[2023-11-05 11:25:00, 2023-11-05 11:30:00]|\n",
      "|[2023-11-05 11:50:00, 2023-11-05 11:55:00]|ALXN|139.99            |127.81            |[2023-11-05 11:45:00, 2023-11-05 11:50:00]|\n",
      "|[2023-11-05 12:00:00, 2023-11-05 12:05:00]|ALXN|116.72            |104.12333333333333|[2023-11-05 11:55:00, 2023-11-05 12:00:00]|\n",
      "|[2023-11-05 12:05:00, 2023-11-05 12:10:00]|ALXN|161.12666666666667|116.72            |[2023-11-05 12:00:00, 2023-11-05 12:05:00]|\n",
      "|[2023-11-05 12:20:00, 2023-11-05 12:25:00]|ALXN|173.71            |161.12666666666667|[2023-11-05 12:05:00, 2023-11-05 12:10:00]|\n",
      "|[2023-11-05 12:35:00, 2023-11-05 12:40:00]|ALXN|133.66719999999998|128.63833333333335|[2023-11-05 12:30:00, 2023-11-05 12:35:00]|\n",
      "|[2023-11-05 11:20:00, 2023-11-05 11:25:00]|GIS |50.92             |48.6              |[2023-11-05 11:15:00, 2023-11-05 11:20:00]|\n",
      "|[2023-11-05 11:30:00, 2023-11-05 11:35:00]|GIS |57.61             |50.92             |[2023-11-05 11:20:00, 2023-11-05 11:25:00]|\n",
      "|[2023-11-05 11:45:00, 2023-11-05 11:50:00]|GIS |60.67             |57.61             |[2023-11-05 11:30:00, 2023-11-05 11:35:00]|\n",
      "|[2023-11-05 11:55:00, 2023-11-05 12:00:00]|GIS |53.275000000000006|51.80505          |[2023-11-05 11:50:00, 2023-11-05 11:55:00]|\n",
      "|[2023-11-05 12:10:00, 2023-11-05 12:15:00]|GIS |53.3              |51.010000000000005|[2023-11-05 12:05:00, 2023-11-05 12:10:00]|\n",
      "|[2023-11-05 12:20:00, 2023-11-05 12:25:00]|GIS |57.754999999999995|52.66             |[2023-11-05 12:15:00, 2023-11-05 12:20:00]|\n",
      "|[2023-11-05 12:30:00, 2023-11-05 12:35:00]|GIS |66.929975         |57.754999999999995|[2023-11-05 12:20:00, 2023-11-05 12:25:00]|\n",
      "|[2023-11-05 11:15:00, 2023-11-05 11:20:00]|K   |67.63             |65.865            |[2023-11-05 11:10:00, 2023-11-05 11:15:00]|\n",
      "|[2023-11-05 11:30:00, 2023-11-05 11:35:00]|K   |66.81             |62.1798           |[2023-11-05 11:25:00, 2023-11-05 11:30:00]|\n",
      "|[2023-11-05 11:45:00, 2023-11-05 11:50:00]|K   |73.32             |66.81             |[2023-11-05 11:30:00, 2023-11-05 11:35:00]|\n",
      "|[2023-11-05 12:05:00, 2023-11-05 12:10:00]|K   |64.26             |61.11             |[2023-11-05 12:00:00, 2023-11-05 12:05:00]|\n",
      "|[2023-11-05 12:15:00, 2023-11-05 12:20:00]|K   |64.2625           |64.26             |[2023-11-05 12:05:00, 2023-11-05 12:10:00]|\n",
      "+------------------------------------------+----+------------------+------------------+------------------------------------------+\n",
      "only showing top 20 rows\n",
      "\n"
     ]
    },
    {
     "name": "stderr",
     "output_type": "stream",
     "text": [
      "                                                                                \r"
     ]
    },
    {
     "name": "stdout",
     "output_type": "stream",
     "text": [
      "+------------------------------------------+----+------------------+------------------+------------------------------------------+\n",
      "|window                                    |name|avg(price)        |previous_price    |previous_window                           |\n",
      "+------------------------------------------+----+------------------+------------------+------------------------------------------+\n",
      "|[2023-11-05 11:20:00, 2023-11-05 11:25:00]|ALXN|164.66            |180.2             |[2023-11-05 11:15:00, 2023-11-05 11:20:00]|\n",
      "|[2023-11-05 11:45:00, 2023-11-05 11:50:00]|ALXN|127.81            |201.66995         |[2023-11-05 11:30:00, 2023-11-05 11:35:00]|\n",
      "|[2023-11-05 11:55:00, 2023-11-05 12:00:00]|ALXN|104.12333333333333|139.99            |[2023-11-05 11:50:00, 2023-11-05 11:55:00]|\n",
      "|[2023-11-05 12:25:00, 2023-11-05 12:30:00]|ALXN|148.73833333333332|173.71            |[2023-11-05 12:20:00, 2023-11-05 12:25:00]|\n",
      "|[2023-11-05 12:30:00, 2023-11-05 12:35:00]|ALXN|128.63833333333335|148.73833333333332|[2023-11-05 12:25:00, 2023-11-05 12:30:00]|\n",
      "|[2023-11-05 12:40:00, 2023-11-05 12:45:00]|ALXN|126.68            |129.4448          |[2023-11-05 12:35:00, 2023-11-05 12:40:00]|\n",
      "|[2023-11-05 11:10:00, 2023-11-05 11:15:00]|GIS |49.35666666666666 |50.5207           |[2023-11-05 11:05:00, 2023-11-05 11:10:00]|\n",
      "|[2023-11-05 11:15:00, 2023-11-05 11:20:00]|GIS |48.6              |49.35666666666666 |[2023-11-05 11:10:00, 2023-11-05 11:15:00]|\n",
      "|[2023-11-05 11:50:00, 2023-11-05 11:55:00]|GIS |51.80505          |60.67             |[2023-11-05 11:45:00, 2023-11-05 11:50:00]|\n",
      "|[2023-11-05 12:00:00, 2023-11-05 12:05:00]|GIS |51.05             |53.275000000000006|[2023-11-05 11:55:00, 2023-11-05 12:00:00]|\n",
      "|[2023-11-05 12:05:00, 2023-11-05 12:10:00]|GIS |51.010000000000005|51.05             |[2023-11-05 12:00:00, 2023-11-05 12:05:00]|\n",
      "|[2023-11-05 12:15:00, 2023-11-05 12:20:00]|GIS |52.66             |53.3              |[2023-11-05 12:10:00, 2023-11-05 12:15:00]|\n",
      "|[2023-11-05 12:35:00, 2023-11-05 12:40:00]|GIS |62.19             |66.929975         |[2023-11-05 12:30:00, 2023-11-05 12:35:00]|\n",
      "|[2023-11-05 11:20:00, 2023-11-05 11:25:00]|K   |66.23             |67.63             |[2023-11-05 11:15:00, 2023-11-05 11:20:00]|\n",
      "|[2023-11-05 11:25:00, 2023-11-05 11:30:00]|K   |62.1798           |66.23             |[2023-11-05 11:20:00, 2023-11-05 11:25:00]|\n",
      "|[2023-11-05 11:50:00, 2023-11-05 11:55:00]|K   |71.255            |73.32             |[2023-11-05 11:45:00, 2023-11-05 11:50:00]|\n",
      "|[2023-11-05 11:55:00, 2023-11-05 12:00:00]|K   |66.625            |71.255            |[2023-11-05 11:50:00, 2023-11-05 11:55:00]|\n",
      "|[2023-11-05 12:00:00, 2023-11-05 12:05:00]|K   |61.11             |66.625            |[2023-11-05 11:55:00, 2023-11-05 12:00:00]|\n",
      "|[2023-11-05 12:30:00, 2023-11-05 12:35:00]|K   |76.47             |77.03999999999999 |[2023-11-05 12:25:00, 2023-11-05 12:30:00]|\n",
      "|[2023-11-05 11:20:00, 2023-11-05 11:25:00]|LEN |35.5196           |38.958349999999996|[2023-11-05 11:15:00, 2023-11-05 11:20:00]|\n",
      "+------------------------------------------+----+------------------+------------------+------------------------------------------+\n",
      "only showing top 20 rows\n",
      "\n"
     ]
    },
    {
     "name": "stderr",
     "output_type": "stream",
     "text": [
      "                                                                                \r"
     ]
    },
    {
     "name": "stdout",
     "output_type": "stream",
     "text": [
      "+------------------------------------------+----+------------------+------------------+------------------------------------------+\n",
      "|window                                    |name|avg(price)        |previous_price    |previous_window                           |\n",
      "+------------------------------------------+----+------------------+------------------+------------------------------------------+\n",
      "|[2023-11-05 11:15:00, 2023-11-05 11:20:00]|ALXN|180.2             |108.02            |[2023-11-05 11:10:00, 2023-11-05 11:15:00]|\n",
      "|[2023-11-05 11:25:00, 2023-11-05 11:30:00]|ALXN|186.99            |164.66            |[2023-11-05 11:20:00, 2023-11-05 11:25:00]|\n",
      "|[2023-11-05 11:30:00, 2023-11-05 11:35:00]|ALXN|201.66995         |186.99            |[2023-11-05 11:25:00, 2023-11-05 11:30:00]|\n",
      "|[2023-11-05 11:50:00, 2023-11-05 11:55:00]|ALXN|139.99            |127.81            |[2023-11-05 11:45:00, 2023-11-05 11:50:00]|\n",
      "|[2023-11-05 12:00:00, 2023-11-05 12:05:00]|ALXN|116.72            |104.12333333333333|[2023-11-05 11:55:00, 2023-11-05 12:00:00]|\n",
      "|[2023-11-05 12:05:00, 2023-11-05 12:10:00]|ALXN|161.12666666666667|116.72            |[2023-11-05 12:00:00, 2023-11-05 12:05:00]|\n",
      "|[2023-11-05 12:20:00, 2023-11-05 12:25:00]|ALXN|173.71            |161.12666666666667|[2023-11-05 12:05:00, 2023-11-05 12:10:00]|\n",
      "|[2023-11-05 12:35:00, 2023-11-05 12:40:00]|ALXN|133.66719999999998|128.63833333333335|[2023-11-05 12:30:00, 2023-11-05 12:35:00]|\n",
      "|[2023-11-05 11:20:00, 2023-11-05 11:25:00]|GIS |50.92             |48.6              |[2023-11-05 11:15:00, 2023-11-05 11:20:00]|\n",
      "|[2023-11-05 11:30:00, 2023-11-05 11:35:00]|GIS |57.61             |50.92             |[2023-11-05 11:20:00, 2023-11-05 11:25:00]|\n",
      "|[2023-11-05 11:45:00, 2023-11-05 11:50:00]|GIS |60.67             |57.61             |[2023-11-05 11:30:00, 2023-11-05 11:35:00]|\n",
      "|[2023-11-05 11:55:00, 2023-11-05 12:00:00]|GIS |53.275000000000006|51.80505          |[2023-11-05 11:50:00, 2023-11-05 11:55:00]|\n",
      "|[2023-11-05 12:10:00, 2023-11-05 12:15:00]|GIS |53.3              |51.010000000000005|[2023-11-05 12:05:00, 2023-11-05 12:10:00]|\n",
      "|[2023-11-05 12:20:00, 2023-11-05 12:25:00]|GIS |57.754999999999995|52.66             |[2023-11-05 12:15:00, 2023-11-05 12:20:00]|\n",
      "|[2023-11-05 12:30:00, 2023-11-05 12:35:00]|GIS |66.929975         |57.754999999999995|[2023-11-05 12:20:00, 2023-11-05 12:25:00]|\n",
      "|[2023-11-05 11:15:00, 2023-11-05 11:20:00]|K   |67.63             |65.865            |[2023-11-05 11:10:00, 2023-11-05 11:15:00]|\n",
      "|[2023-11-05 11:30:00, 2023-11-05 11:35:00]|K   |66.81             |62.1798           |[2023-11-05 11:25:00, 2023-11-05 11:30:00]|\n",
      "|[2023-11-05 11:45:00, 2023-11-05 11:50:00]|K   |73.32             |66.81             |[2023-11-05 11:30:00, 2023-11-05 11:35:00]|\n",
      "|[2023-11-05 12:05:00, 2023-11-05 12:10:00]|K   |64.26             |61.11             |[2023-11-05 12:00:00, 2023-11-05 12:05:00]|\n",
      "|[2023-11-05 12:15:00, 2023-11-05 12:20:00]|K   |64.2625           |64.26             |[2023-11-05 12:05:00, 2023-11-05 12:10:00]|\n",
      "+------------------------------------------+----+------------------+------------------+------------------------------------------+\n",
      "only showing top 20 rows\n",
      "\n"
     ]
    },
    {
     "name": "stderr",
     "output_type": "stream",
     "text": [
      "                                                                                \r"
     ]
    },
    {
     "name": "stdout",
     "output_type": "stream",
     "text": [
      "+------------------------------------------+----+------------------+------------------+------------------------------------------+\n",
      "|window                                    |name|avg(price)        |previous_price    |previous_window                           |\n",
      "+------------------------------------------+----+------------------+------------------+------------------------------------------+\n",
      "|[2023-11-05 11:20:00, 2023-11-05 11:25:00]|ALXN|164.66            |180.2             |[2023-11-05 11:15:00, 2023-11-05 11:20:00]|\n",
      "|[2023-11-05 11:45:00, 2023-11-05 11:50:00]|ALXN|127.81            |201.66995         |[2023-11-05 11:30:00, 2023-11-05 11:35:00]|\n",
      "|[2023-11-05 11:55:00, 2023-11-05 12:00:00]|ALXN|104.12333333333333|139.99            |[2023-11-05 11:50:00, 2023-11-05 11:55:00]|\n",
      "|[2023-11-05 12:25:00, 2023-11-05 12:30:00]|ALXN|148.73833333333332|173.71            |[2023-11-05 12:20:00, 2023-11-05 12:25:00]|\n",
      "|[2023-11-05 12:30:00, 2023-11-05 12:35:00]|ALXN|128.63833333333335|148.73833333333332|[2023-11-05 12:25:00, 2023-11-05 12:30:00]|\n",
      "|[2023-11-05 12:40:00, 2023-11-05 12:45:00]|ALXN|126.68            |129.4448          |[2023-11-05 12:35:00, 2023-11-05 12:40:00]|\n",
      "|[2023-11-05 11:10:00, 2023-11-05 11:15:00]|GIS |49.35666666666666 |50.5207           |[2023-11-05 11:05:00, 2023-11-05 11:10:00]|\n",
      "|[2023-11-05 11:15:00, 2023-11-05 11:20:00]|GIS |48.6              |49.35666666666666 |[2023-11-05 11:10:00, 2023-11-05 11:15:00]|\n",
      "|[2023-11-05 11:50:00, 2023-11-05 11:55:00]|GIS |51.80505          |60.67             |[2023-11-05 11:45:00, 2023-11-05 11:50:00]|\n",
      "|[2023-11-05 12:00:00, 2023-11-05 12:05:00]|GIS |51.05             |53.275000000000006|[2023-11-05 11:55:00, 2023-11-05 12:00:00]|\n",
      "|[2023-11-05 12:05:00, 2023-11-05 12:10:00]|GIS |51.010000000000005|51.05             |[2023-11-05 12:00:00, 2023-11-05 12:05:00]|\n",
      "|[2023-11-05 12:15:00, 2023-11-05 12:20:00]|GIS |52.66             |53.3              |[2023-11-05 12:10:00, 2023-11-05 12:15:00]|\n",
      "|[2023-11-05 12:35:00, 2023-11-05 12:40:00]|GIS |62.19             |66.929975         |[2023-11-05 12:30:00, 2023-11-05 12:35:00]|\n",
      "|[2023-11-05 11:20:00, 2023-11-05 11:25:00]|K   |66.23             |67.63             |[2023-11-05 11:15:00, 2023-11-05 11:20:00]|\n",
      "|[2023-11-05 11:25:00, 2023-11-05 11:30:00]|K   |62.1798           |66.23             |[2023-11-05 11:20:00, 2023-11-05 11:25:00]|\n",
      "|[2023-11-05 11:50:00, 2023-11-05 11:55:00]|K   |71.255            |73.32             |[2023-11-05 11:45:00, 2023-11-05 11:50:00]|\n",
      "|[2023-11-05 11:55:00, 2023-11-05 12:00:00]|K   |66.625            |71.255            |[2023-11-05 11:50:00, 2023-11-05 11:55:00]|\n",
      "|[2023-11-05 12:00:00, 2023-11-05 12:05:00]|K   |61.11             |66.625            |[2023-11-05 11:55:00, 2023-11-05 12:00:00]|\n",
      "|[2023-11-05 12:30:00, 2023-11-05 12:35:00]|K   |76.47             |77.03999999999999 |[2023-11-05 12:25:00, 2023-11-05 12:30:00]|\n",
      "|[2023-11-05 11:20:00, 2023-11-05 11:25:00]|LEN |35.5196           |38.958349999999996|[2023-11-05 11:15:00, 2023-11-05 11:20:00]|\n",
      "+------------------------------------------+----+------------------+------------------+------------------------------------------+\n",
      "only showing top 20 rows\n",
      "\n"
     ]
    },
    {
     "name": "stderr",
     "output_type": "stream",
     "text": [
      "[Stage 3980:(0 + 0) / 200][Stage 3983:> (0 + 0) / 4][Stage 3984:> (0 + 0) / 1]4]\r"
     ]
    },
    {
     "name": "stdout",
     "output_type": "stream",
     "text": [
      "+------------------------------------------+----+------------------+------------------+------------------------------------------+\n",
      "|window                                    |name|avg(price)        |previous_price    |previous_window                           |\n",
      "+------------------------------------------+----+------------------+------------------+------------------------------------------+\n",
      "|[2023-11-05 11:15:00, 2023-11-05 11:20:00]|ALXN|180.2             |108.02            |[2023-11-05 11:10:00, 2023-11-05 11:15:00]|\n",
      "|[2023-11-05 11:25:00, 2023-11-05 11:30:00]|ALXN|186.99            |164.66            |[2023-11-05 11:20:00, 2023-11-05 11:25:00]|\n",
      "|[2023-11-05 11:30:00, 2023-11-05 11:35:00]|ALXN|201.66995         |186.99            |[2023-11-05 11:25:00, 2023-11-05 11:30:00]|\n",
      "|[2023-11-05 11:50:00, 2023-11-05 11:55:00]|ALXN|139.99            |127.81            |[2023-11-05 11:45:00, 2023-11-05 11:50:00]|\n",
      "|[2023-11-05 12:00:00, 2023-11-05 12:05:00]|ALXN|116.72            |104.12333333333333|[2023-11-05 11:55:00, 2023-11-05 12:00:00]|\n",
      "|[2023-11-05 12:05:00, 2023-11-05 12:10:00]|ALXN|161.12666666666667|116.72            |[2023-11-05 12:00:00, 2023-11-05 12:05:00]|\n",
      "|[2023-11-05 12:20:00, 2023-11-05 12:25:00]|ALXN|173.71            |161.12666666666667|[2023-11-05 12:05:00, 2023-11-05 12:10:00]|\n",
      "|[2023-11-05 12:35:00, 2023-11-05 12:40:00]|ALXN|129.4448          |128.63833333333335|[2023-11-05 12:30:00, 2023-11-05 12:35:00]|\n",
      "|[2023-11-05 11:20:00, 2023-11-05 11:25:00]|GIS |50.92             |48.6              |[2023-11-05 11:15:00, 2023-11-05 11:20:00]|\n",
      "|[2023-11-05 11:30:00, 2023-11-05 11:35:00]|GIS |57.61             |50.92             |[2023-11-05 11:20:00, 2023-11-05 11:25:00]|\n",
      "|[2023-11-05 11:45:00, 2023-11-05 11:50:00]|GIS |60.67             |57.61             |[2023-11-05 11:30:00, 2023-11-05 11:35:00]|\n",
      "|[2023-11-05 11:55:00, 2023-11-05 12:00:00]|GIS |53.275000000000006|51.80505          |[2023-11-05 11:50:00, 2023-11-05 11:55:00]|\n",
      "|[2023-11-05 12:10:00, 2023-11-05 12:15:00]|GIS |53.3              |51.010000000000005|[2023-11-05 12:05:00, 2023-11-05 12:10:00]|\n",
      "|[2023-11-05 12:20:00, 2023-11-05 12:25:00]|GIS |57.754999999999995|52.66             |[2023-11-05 12:15:00, 2023-11-05 12:20:00]|\n",
      "|[2023-11-05 12:30:00, 2023-11-05 12:35:00]|GIS |66.929975         |57.754999999999995|[2023-11-05 12:20:00, 2023-11-05 12:25:00]|\n",
      "|[2023-11-05 11:15:00, 2023-11-05 11:20:00]|K   |67.63             |65.865            |[2023-11-05 11:10:00, 2023-11-05 11:15:00]|\n",
      "|[2023-11-05 11:30:00, 2023-11-05 11:35:00]|K   |66.81             |62.1798           |[2023-11-05 11:25:00, 2023-11-05 11:30:00]|\n",
      "|[2023-11-05 11:45:00, 2023-11-05 11:50:00]|K   |73.32             |66.81             |[2023-11-05 11:30:00, 2023-11-05 11:35:00]|\n",
      "|[2023-11-05 12:05:00, 2023-11-05 12:10:00]|K   |64.26             |61.11             |[2023-11-05 12:00:00, 2023-11-05 12:05:00]|\n",
      "|[2023-11-05 12:15:00, 2023-11-05 12:20:00]|K   |64.2625           |64.26             |[2023-11-05 12:05:00, 2023-11-05 12:10:00]|\n",
      "+------------------------------------------+----+------------------+------------------+------------------------------------------+\n",
      "only showing top 20 rows\n",
      "\n"
     ]
    },
    {
     "name": "stderr",
     "output_type": "stream",
     "text": [
      "                                                                                \r"
     ]
    },
    {
     "name": "stdout",
     "output_type": "stream",
     "text": [
      "+------------------------------------------+----+------------------+------------------+------------------------------------------+\n",
      "|window                                    |name|avg(price)        |previous_price    |previous_window                           |\n",
      "+------------------------------------------+----+------------------+------------------+------------------------------------------+\n",
      "|[2023-11-05 11:20:00, 2023-11-05 11:25:00]|ALXN|164.66            |180.2             |[2023-11-05 11:15:00, 2023-11-05 11:20:00]|\n",
      "|[2023-11-05 11:45:00, 2023-11-05 11:50:00]|ALXN|127.81            |201.66995         |[2023-11-05 11:30:00, 2023-11-05 11:35:00]|\n",
      "|[2023-11-05 11:55:00, 2023-11-05 12:00:00]|ALXN|104.12333333333333|139.99            |[2023-11-05 11:50:00, 2023-11-05 11:55:00]|\n",
      "|[2023-11-05 12:25:00, 2023-11-05 12:30:00]|ALXN|148.73833333333332|173.71            |[2023-11-05 12:20:00, 2023-11-05 12:25:00]|\n",
      "|[2023-11-05 12:30:00, 2023-11-05 12:35:00]|ALXN|128.63833333333335|148.73833333333332|[2023-11-05 12:25:00, 2023-11-05 12:30:00]|\n",
      "|[2023-11-05 11:10:00, 2023-11-05 11:15:00]|GIS |49.35666666666666 |50.5207           |[2023-11-05 11:05:00, 2023-11-05 11:10:00]|\n",
      "|[2023-11-05 11:15:00, 2023-11-05 11:20:00]|GIS |48.6              |49.35666666666666 |[2023-11-05 11:10:00, 2023-11-05 11:15:00]|\n",
      "|[2023-11-05 11:50:00, 2023-11-05 11:55:00]|GIS |51.80505          |60.67             |[2023-11-05 11:45:00, 2023-11-05 11:50:00]|\n",
      "|[2023-11-05 12:00:00, 2023-11-05 12:05:00]|GIS |51.05             |53.275000000000006|[2023-11-05 11:55:00, 2023-11-05 12:00:00]|\n",
      "|[2023-11-05 12:05:00, 2023-11-05 12:10:00]|GIS |51.010000000000005|51.05             |[2023-11-05 12:00:00, 2023-11-05 12:05:00]|\n",
      "|[2023-11-05 12:15:00, 2023-11-05 12:20:00]|GIS |52.66             |53.3              |[2023-11-05 12:10:00, 2023-11-05 12:15:00]|\n",
      "|[2023-11-05 12:35:00, 2023-11-05 12:40:00]|GIS |62.19             |66.929975         |[2023-11-05 12:30:00, 2023-11-05 12:35:00]|\n",
      "|[2023-11-05 11:20:00, 2023-11-05 11:25:00]|K   |66.23             |67.63             |[2023-11-05 11:15:00, 2023-11-05 11:20:00]|\n",
      "|[2023-11-05 11:25:00, 2023-11-05 11:30:00]|K   |62.1798           |66.23             |[2023-11-05 11:20:00, 2023-11-05 11:25:00]|\n",
      "|[2023-11-05 11:50:00, 2023-11-05 11:55:00]|K   |71.255            |73.32             |[2023-11-05 11:45:00, 2023-11-05 11:50:00]|\n",
      "|[2023-11-05 11:55:00, 2023-11-05 12:00:00]|K   |66.625            |71.255            |[2023-11-05 11:50:00, 2023-11-05 11:55:00]|\n",
      "|[2023-11-05 12:00:00, 2023-11-05 12:05:00]|K   |61.11             |66.625            |[2023-11-05 11:55:00, 2023-11-05 12:00:00]|\n",
      "|[2023-11-05 12:30:00, 2023-11-05 12:35:00]|K   |76.47             |77.03999999999999 |[2023-11-05 12:25:00, 2023-11-05 12:30:00]|\n",
      "|[2023-11-05 11:20:00, 2023-11-05 11:25:00]|LEN |35.5196           |38.958349999999996|[2023-11-05 11:15:00, 2023-11-05 11:20:00]|\n",
      "|[2023-11-05 11:30:00, 2023-11-05 11:35:00]|LEN |49.5392           |49.676500000000004|[2023-11-05 11:25:00, 2023-11-05 11:30:00]|\n",
      "+------------------------------------------+----+------------------+------------------+------------------------------------------+\n",
      "only showing top 20 rows\n",
      "\n"
     ]
    },
    {
     "name": "stderr",
     "output_type": "stream",
     "text": [
      "                                                                                \r"
     ]
    },
    {
     "name": "stdout",
     "output_type": "stream",
     "text": [
      "+------------------------------------------+----+------------------+------------------+------------------------------------------+\n",
      "|window                                    |name|avg(price)        |previous_price    |previous_window                           |\n",
      "+------------------------------------------+----+------------------+------------------+------------------------------------------+\n",
      "|[2023-11-05 11:15:00, 2023-11-05 11:20:00]|ALXN|180.2             |108.02            |[2023-11-05 11:10:00, 2023-11-05 11:15:00]|\n",
      "|[2023-11-05 11:25:00, 2023-11-05 11:30:00]|ALXN|186.99            |164.66            |[2023-11-05 11:20:00, 2023-11-05 11:25:00]|\n",
      "|[2023-11-05 11:30:00, 2023-11-05 11:35:00]|ALXN|201.66995         |186.99            |[2023-11-05 11:25:00, 2023-11-05 11:30:00]|\n",
      "|[2023-11-05 11:50:00, 2023-11-05 11:55:00]|ALXN|139.99            |127.81            |[2023-11-05 11:45:00, 2023-11-05 11:50:00]|\n",
      "|[2023-11-05 12:00:00, 2023-11-05 12:05:00]|ALXN|116.72            |104.12333333333333|[2023-11-05 11:55:00, 2023-11-05 12:00:00]|\n",
      "|[2023-11-05 12:05:00, 2023-11-05 12:10:00]|ALXN|161.12666666666667|116.72            |[2023-11-05 12:00:00, 2023-11-05 12:05:00]|\n",
      "|[2023-11-05 12:20:00, 2023-11-05 12:25:00]|ALXN|173.71            |161.12666666666667|[2023-11-05 12:05:00, 2023-11-05 12:10:00]|\n",
      "|[2023-11-05 12:35:00, 2023-11-05 12:40:00]|ALXN|129.4448          |128.63833333333335|[2023-11-05 12:30:00, 2023-11-05 12:35:00]|\n",
      "|[2023-11-05 11:20:00, 2023-11-05 11:25:00]|GIS |50.92             |48.6              |[2023-11-05 11:15:00, 2023-11-05 11:20:00]|\n",
      "|[2023-11-05 11:30:00, 2023-11-05 11:35:00]|GIS |57.61             |50.92             |[2023-11-05 11:20:00, 2023-11-05 11:25:00]|\n",
      "|[2023-11-05 11:45:00, 2023-11-05 11:50:00]|GIS |60.67             |57.61             |[2023-11-05 11:30:00, 2023-11-05 11:35:00]|\n",
      "|[2023-11-05 11:55:00, 2023-11-05 12:00:00]|GIS |53.275000000000006|51.80505          |[2023-11-05 11:50:00, 2023-11-05 11:55:00]|\n",
      "|[2023-11-05 12:10:00, 2023-11-05 12:15:00]|GIS |53.3              |51.010000000000005|[2023-11-05 12:05:00, 2023-11-05 12:10:00]|\n",
      "|[2023-11-05 12:20:00, 2023-11-05 12:25:00]|GIS |57.754999999999995|52.66             |[2023-11-05 12:15:00, 2023-11-05 12:20:00]|\n",
      "|[2023-11-05 12:30:00, 2023-11-05 12:35:00]|GIS |66.929975         |57.754999999999995|[2023-11-05 12:20:00, 2023-11-05 12:25:00]|\n",
      "|[2023-11-05 11:15:00, 2023-11-05 11:20:00]|K   |67.63             |65.865            |[2023-11-05 11:10:00, 2023-11-05 11:15:00]|\n",
      "|[2023-11-05 11:30:00, 2023-11-05 11:35:00]|K   |66.81             |62.1798           |[2023-11-05 11:25:00, 2023-11-05 11:30:00]|\n",
      "|[2023-11-05 11:45:00, 2023-11-05 11:50:00]|K   |73.32             |66.81             |[2023-11-05 11:30:00, 2023-11-05 11:35:00]|\n",
      "|[2023-11-05 12:05:00, 2023-11-05 12:10:00]|K   |64.26             |61.11             |[2023-11-05 12:00:00, 2023-11-05 12:05:00]|\n",
      "|[2023-11-05 12:15:00, 2023-11-05 12:20:00]|K   |64.2625           |64.26             |[2023-11-05 12:05:00, 2023-11-05 12:10:00]|\n",
      "+------------------------------------------+----+------------------+------------------+------------------------------------------+\n",
      "only showing top 20 rows\n",
      "\n"
     ]
    },
    {
     "name": "stderr",
     "output_type": "stream",
     "text": [
      "                                                                                \r"
     ]
    },
    {
     "name": "stdout",
     "output_type": "stream",
     "text": [
      "+------------------------------------------+----+------------------+------------------+------------------------------------------+\n",
      "|window                                    |name|avg(price)        |previous_price    |previous_window                           |\n",
      "+------------------------------------------+----+------------------+------------------+------------------------------------------+\n",
      "|[2023-11-05 11:20:00, 2023-11-05 11:25:00]|ALXN|164.66            |180.2             |[2023-11-05 11:15:00, 2023-11-05 11:20:00]|\n",
      "|[2023-11-05 11:45:00, 2023-11-05 11:50:00]|ALXN|127.81            |201.66995         |[2023-11-05 11:30:00, 2023-11-05 11:35:00]|\n",
      "|[2023-11-05 11:55:00, 2023-11-05 12:00:00]|ALXN|104.12333333333333|139.99            |[2023-11-05 11:50:00, 2023-11-05 11:55:00]|\n",
      "|[2023-11-05 12:25:00, 2023-11-05 12:30:00]|ALXN|148.73833333333332|173.71            |[2023-11-05 12:20:00, 2023-11-05 12:25:00]|\n",
      "|[2023-11-05 12:30:00, 2023-11-05 12:35:00]|ALXN|128.63833333333335|148.73833333333332|[2023-11-05 12:25:00, 2023-11-05 12:30:00]|\n",
      "|[2023-11-05 11:10:00, 2023-11-05 11:15:00]|GIS |49.35666666666666 |50.5207           |[2023-11-05 11:05:00, 2023-11-05 11:10:00]|\n",
      "|[2023-11-05 11:15:00, 2023-11-05 11:20:00]|GIS |48.6              |49.35666666666666 |[2023-11-05 11:10:00, 2023-11-05 11:15:00]|\n",
      "|[2023-11-05 11:50:00, 2023-11-05 11:55:00]|GIS |51.80505          |60.67             |[2023-11-05 11:45:00, 2023-11-05 11:50:00]|\n",
      "|[2023-11-05 12:00:00, 2023-11-05 12:05:00]|GIS |51.05             |53.275000000000006|[2023-11-05 11:55:00, 2023-11-05 12:00:00]|\n",
      "|[2023-11-05 12:05:00, 2023-11-05 12:10:00]|GIS |51.010000000000005|51.05             |[2023-11-05 12:00:00, 2023-11-05 12:05:00]|\n",
      "|[2023-11-05 12:15:00, 2023-11-05 12:20:00]|GIS |52.66             |53.3              |[2023-11-05 12:10:00, 2023-11-05 12:15:00]|\n",
      "|[2023-11-05 12:35:00, 2023-11-05 12:40:00]|GIS |62.19             |66.929975         |[2023-11-05 12:30:00, 2023-11-05 12:35:00]|\n",
      "|[2023-11-05 12:40:00, 2023-11-05 12:45:00]|GIS |51.97             |62.19             |[2023-11-05 12:35:00, 2023-11-05 12:40:00]|\n",
      "|[2023-11-05 11:20:00, 2023-11-05 11:25:00]|K   |66.23             |67.63             |[2023-11-05 11:15:00, 2023-11-05 11:20:00]|\n",
      "|[2023-11-05 11:25:00, 2023-11-05 11:30:00]|K   |62.1798           |66.23             |[2023-11-05 11:20:00, 2023-11-05 11:25:00]|\n",
      "|[2023-11-05 11:50:00, 2023-11-05 11:55:00]|K   |71.255            |73.32             |[2023-11-05 11:45:00, 2023-11-05 11:50:00]|\n",
      "|[2023-11-05 11:55:00, 2023-11-05 12:00:00]|K   |66.625            |71.255            |[2023-11-05 11:50:00, 2023-11-05 11:55:00]|\n",
      "|[2023-11-05 12:00:00, 2023-11-05 12:05:00]|K   |61.11             |66.625            |[2023-11-05 11:55:00, 2023-11-05 12:00:00]|\n",
      "|[2023-11-05 12:30:00, 2023-11-05 12:35:00]|K   |76.47             |77.03999999999999 |[2023-11-05 12:25:00, 2023-11-05 12:30:00]|\n",
      "|[2023-11-05 11:20:00, 2023-11-05 11:25:00]|LEN |35.5196           |38.958349999999996|[2023-11-05 11:15:00, 2023-11-05 11:20:00]|\n",
      "+------------------------------------------+----+------------------+------------------+------------------------------------------+\n",
      "only showing top 20 rows\n",
      "\n"
     ]
    },
    {
     "name": "stderr",
     "output_type": "stream",
     "text": [
      "[Stage 4032:> (0 + 0) / 1][Stage 4036:(0 + 0) / 200][Stage 4039:> (0 + 0) / 1]1]\r"
     ]
    },
    {
     "name": "stdout",
     "output_type": "stream",
     "text": [
      "+------------------------------------------+----+------------------+------------------+------------------------------------------+\n",
      "|window                                    |name|avg(price)        |previous_price    |previous_window                           |\n",
      "+------------------------------------------+----+------------------+------------------+------------------------------------------+\n",
      "|[2023-11-05 11:15:00, 2023-11-05 11:20:00]|ALXN|180.2             |108.02            |[2023-11-05 11:10:00, 2023-11-05 11:15:00]|\n",
      "|[2023-11-05 11:25:00, 2023-11-05 11:30:00]|ALXN|186.99            |164.66            |[2023-11-05 11:20:00, 2023-11-05 11:25:00]|\n",
      "|[2023-11-05 11:30:00, 2023-11-05 11:35:00]|ALXN|201.66995         |186.99            |[2023-11-05 11:25:00, 2023-11-05 11:30:00]|\n",
      "|[2023-11-05 11:50:00, 2023-11-05 11:55:00]|ALXN|139.99            |127.81            |[2023-11-05 11:45:00, 2023-11-05 11:50:00]|\n",
      "|[2023-11-05 12:00:00, 2023-11-05 12:05:00]|ALXN|116.72            |104.12333333333333|[2023-11-05 11:55:00, 2023-11-05 12:00:00]|\n",
      "|[2023-11-05 12:05:00, 2023-11-05 12:10:00]|ALXN|161.12666666666667|116.72            |[2023-11-05 12:00:00, 2023-11-05 12:05:00]|\n",
      "|[2023-11-05 12:20:00, 2023-11-05 12:25:00]|ALXN|173.71            |161.12666666666667|[2023-11-05 12:05:00, 2023-11-05 12:10:00]|\n",
      "|[2023-11-05 12:35:00, 2023-11-05 12:40:00]|ALXN|129.4448          |128.63833333333335|[2023-11-05 12:30:00, 2023-11-05 12:35:00]|\n",
      "|[2023-11-05 11:20:00, 2023-11-05 11:25:00]|GIS |50.92             |48.6              |[2023-11-05 11:15:00, 2023-11-05 11:20:00]|\n",
      "|[2023-11-05 11:30:00, 2023-11-05 11:35:00]|GIS |57.61             |50.92             |[2023-11-05 11:20:00, 2023-11-05 11:25:00]|\n",
      "|[2023-11-05 11:45:00, 2023-11-05 11:50:00]|GIS |60.67             |57.61             |[2023-11-05 11:30:00, 2023-11-05 11:35:00]|\n",
      "|[2023-11-05 11:55:00, 2023-11-05 12:00:00]|GIS |53.275000000000006|51.80505          |[2023-11-05 11:50:00, 2023-11-05 11:55:00]|\n",
      "|[2023-11-05 12:10:00, 2023-11-05 12:15:00]|GIS |53.3              |51.010000000000005|[2023-11-05 12:05:00, 2023-11-05 12:10:00]|\n",
      "|[2023-11-05 12:20:00, 2023-11-05 12:25:00]|GIS |57.754999999999995|52.66             |[2023-11-05 12:15:00, 2023-11-05 12:20:00]|\n",
      "|[2023-11-05 12:30:00, 2023-11-05 12:35:00]|GIS |66.929975         |57.754999999999995|[2023-11-05 12:20:00, 2023-11-05 12:25:00]|\n",
      "|[2023-11-05 11:15:00, 2023-11-05 11:20:00]|K   |67.63             |65.865            |[2023-11-05 11:10:00, 2023-11-05 11:15:00]|\n",
      "|[2023-11-05 11:30:00, 2023-11-05 11:35:00]|K   |66.81             |62.1798           |[2023-11-05 11:25:00, 2023-11-05 11:30:00]|\n",
      "|[2023-11-05 11:45:00, 2023-11-05 11:50:00]|K   |73.32             |66.81             |[2023-11-05 11:30:00, 2023-11-05 11:35:00]|\n",
      "|[2023-11-05 12:05:00, 2023-11-05 12:10:00]|K   |64.26             |61.11             |[2023-11-05 12:00:00, 2023-11-05 12:05:00]|\n",
      "|[2023-11-05 12:15:00, 2023-11-05 12:20:00]|K   |64.2625           |64.26             |[2023-11-05 12:05:00, 2023-11-05 12:10:00]|\n",
      "+------------------------------------------+----+------------------+------------------+------------------------------------------+\n",
      "only showing top 20 rows\n",
      "\n"
     ]
    },
    {
     "name": "stderr",
     "output_type": "stream",
     "text": [
      "                                                                                \r"
     ]
    },
    {
     "name": "stdout",
     "output_type": "stream",
     "text": [
      "+------------------------------------------+----+------------------+------------------+------------------------------------------+\n",
      "|window                                    |name|avg(price)        |previous_price    |previous_window                           |\n",
      "+------------------------------------------+----+------------------+------------------+------------------------------------------+\n",
      "|[2023-11-05 11:20:00, 2023-11-05 11:25:00]|ALXN|164.66            |180.2             |[2023-11-05 11:15:00, 2023-11-05 11:20:00]|\n",
      "|[2023-11-05 11:45:00, 2023-11-05 11:50:00]|ALXN|127.81            |201.66995         |[2023-11-05 11:30:00, 2023-11-05 11:35:00]|\n",
      "|[2023-11-05 11:55:00, 2023-11-05 12:00:00]|ALXN|104.12333333333333|139.99            |[2023-11-05 11:50:00, 2023-11-05 11:55:00]|\n",
      "|[2023-11-05 12:25:00, 2023-11-05 12:30:00]|ALXN|148.73833333333332|173.71            |[2023-11-05 12:20:00, 2023-11-05 12:25:00]|\n",
      "|[2023-11-05 12:30:00, 2023-11-05 12:35:00]|ALXN|128.63833333333335|148.73833333333332|[2023-11-05 12:25:00, 2023-11-05 12:30:00]|\n",
      "|[2023-11-05 11:10:00, 2023-11-05 11:15:00]|GIS |49.35666666666666 |50.5207           |[2023-11-05 11:05:00, 2023-11-05 11:10:00]|\n",
      "|[2023-11-05 11:15:00, 2023-11-05 11:20:00]|GIS |48.6              |49.35666666666666 |[2023-11-05 11:10:00, 2023-11-05 11:15:00]|\n",
      "|[2023-11-05 11:50:00, 2023-11-05 11:55:00]|GIS |51.80505          |60.67             |[2023-11-05 11:45:00, 2023-11-05 11:50:00]|\n",
      "|[2023-11-05 12:00:00, 2023-11-05 12:05:00]|GIS |51.05             |53.275000000000006|[2023-11-05 11:55:00, 2023-11-05 12:00:00]|\n",
      "|[2023-11-05 12:05:00, 2023-11-05 12:10:00]|GIS |51.010000000000005|51.05             |[2023-11-05 12:00:00, 2023-11-05 12:05:00]|\n",
      "|[2023-11-05 12:15:00, 2023-11-05 12:20:00]|GIS |52.66             |53.3              |[2023-11-05 12:10:00, 2023-11-05 12:15:00]|\n",
      "|[2023-11-05 12:35:00, 2023-11-05 12:40:00]|GIS |62.19             |66.929975         |[2023-11-05 12:30:00, 2023-11-05 12:35:00]|\n",
      "|[2023-11-05 12:40:00, 2023-11-05 12:45:00]|GIS |51.97             |62.19             |[2023-11-05 12:35:00, 2023-11-05 12:40:00]|\n",
      "|[2023-11-05 11:20:00, 2023-11-05 11:25:00]|K   |66.23             |67.63             |[2023-11-05 11:15:00, 2023-11-05 11:20:00]|\n",
      "|[2023-11-05 11:25:00, 2023-11-05 11:30:00]|K   |62.1798           |66.23             |[2023-11-05 11:20:00, 2023-11-05 11:25:00]|\n",
      "|[2023-11-05 11:50:00, 2023-11-05 11:55:00]|K   |71.255            |73.32             |[2023-11-05 11:45:00, 2023-11-05 11:50:00]|\n",
      "|[2023-11-05 11:55:00, 2023-11-05 12:00:00]|K   |66.625            |71.255            |[2023-11-05 11:50:00, 2023-11-05 11:55:00]|\n",
      "|[2023-11-05 12:00:00, 2023-11-05 12:05:00]|K   |61.11             |66.625            |[2023-11-05 11:55:00, 2023-11-05 12:00:00]|\n",
      "|[2023-11-05 12:30:00, 2023-11-05 12:35:00]|K   |76.47             |77.03999999999999 |[2023-11-05 12:25:00, 2023-11-05 12:30:00]|\n",
      "|[2023-11-05 11:20:00, 2023-11-05 11:25:00]|LEN |35.5196           |38.958349999999996|[2023-11-05 11:15:00, 2023-11-05 11:20:00]|\n",
      "+------------------------------------------+----+------------------+------------------+------------------------------------------+\n",
      "only showing top 20 rows\n",
      "\n"
     ]
    },
    {
     "name": "stderr",
     "output_type": "stream",
     "text": [
      "                                                                                \r"
     ]
    },
    {
     "name": "stdout",
     "output_type": "stream",
     "text": [
      "+------------------------------------------+----+------------------+------------------+------------------------------------------+\n",
      "|window                                    |name|avg(price)        |previous_price    |previous_window                           |\n",
      "+------------------------------------------+----+------------------+------------------+------------------------------------------+\n",
      "|[2023-11-05 11:15:00, 2023-11-05 11:20:00]|ALXN|180.2             |108.02            |[2023-11-05 11:10:00, 2023-11-05 11:15:00]|\n",
      "|[2023-11-05 11:25:00, 2023-11-05 11:30:00]|ALXN|186.99            |164.66            |[2023-11-05 11:20:00, 2023-11-05 11:25:00]|\n",
      "|[2023-11-05 11:30:00, 2023-11-05 11:35:00]|ALXN|201.66995         |186.99            |[2023-11-05 11:25:00, 2023-11-05 11:30:00]|\n",
      "|[2023-11-05 11:50:00, 2023-11-05 11:55:00]|ALXN|139.99            |127.81            |[2023-11-05 11:45:00, 2023-11-05 11:50:00]|\n",
      "|[2023-11-05 12:00:00, 2023-11-05 12:05:00]|ALXN|116.72            |104.12333333333333|[2023-11-05 11:55:00, 2023-11-05 12:00:00]|\n",
      "|[2023-11-05 12:05:00, 2023-11-05 12:10:00]|ALXN|161.12666666666667|116.72            |[2023-11-05 12:00:00, 2023-11-05 12:05:00]|\n",
      "|[2023-11-05 12:20:00, 2023-11-05 12:25:00]|ALXN|173.71            |161.12666666666667|[2023-11-05 12:05:00, 2023-11-05 12:10:00]|\n",
      "|[2023-11-05 12:35:00, 2023-11-05 12:40:00]|ALXN|129.4448          |128.63833333333335|[2023-11-05 12:30:00, 2023-11-05 12:35:00]|\n",
      "|[2023-11-05 11:20:00, 2023-11-05 11:25:00]|GIS |50.92             |48.6              |[2023-11-05 11:15:00, 2023-11-05 11:20:00]|\n",
      "|[2023-11-05 11:30:00, 2023-11-05 11:35:00]|GIS |57.61             |50.92             |[2023-11-05 11:20:00, 2023-11-05 11:25:00]|\n",
      "|[2023-11-05 11:45:00, 2023-11-05 11:50:00]|GIS |60.67             |57.61             |[2023-11-05 11:30:00, 2023-11-05 11:35:00]|\n",
      "|[2023-11-05 11:55:00, 2023-11-05 12:00:00]|GIS |53.275000000000006|51.80505          |[2023-11-05 11:50:00, 2023-11-05 11:55:00]|\n",
      "|[2023-11-05 12:10:00, 2023-11-05 12:15:00]|GIS |53.3              |51.010000000000005|[2023-11-05 12:05:00, 2023-11-05 12:10:00]|\n",
      "|[2023-11-05 12:20:00, 2023-11-05 12:25:00]|GIS |57.754999999999995|52.66             |[2023-11-05 12:15:00, 2023-11-05 12:20:00]|\n",
      "|[2023-11-05 12:30:00, 2023-11-05 12:35:00]|GIS |66.929975         |57.754999999999995|[2023-11-05 12:20:00, 2023-11-05 12:25:00]|\n",
      "|[2023-11-05 11:15:00, 2023-11-05 11:20:00]|K   |67.63             |65.865            |[2023-11-05 11:10:00, 2023-11-05 11:15:00]|\n",
      "|[2023-11-05 11:30:00, 2023-11-05 11:35:00]|K   |66.81             |62.1798           |[2023-11-05 11:25:00, 2023-11-05 11:30:00]|\n",
      "|[2023-11-05 11:45:00, 2023-11-05 11:50:00]|K   |73.32             |66.81             |[2023-11-05 11:30:00, 2023-11-05 11:35:00]|\n",
      "|[2023-11-05 12:05:00, 2023-11-05 12:10:00]|K   |64.26             |61.11             |[2023-11-05 12:00:00, 2023-11-05 12:05:00]|\n",
      "|[2023-11-05 12:15:00, 2023-11-05 12:20:00]|K   |64.2625           |64.26             |[2023-11-05 12:05:00, 2023-11-05 12:10:00]|\n",
      "+------------------------------------------+----+------------------+------------------+------------------------------------------+\n",
      "only showing top 20 rows\n",
      "\n"
     ]
    },
    {
     "name": "stderr",
     "output_type": "stream",
     "text": [
      "                                                                                \r"
     ]
    },
    {
     "name": "stdout",
     "output_type": "stream",
     "text": [
      "+------------------------------------------+----+------------------+------------------+------------------------------------------+\n",
      "|window                                    |name|avg(price)        |previous_price    |previous_window                           |\n",
      "+------------------------------------------+----+------------------+------------------+------------------------------------------+\n",
      "|[2023-11-05 11:20:00, 2023-11-05 11:25:00]|ALXN|164.66            |180.2             |[2023-11-05 11:15:00, 2023-11-05 11:20:00]|\n",
      "|[2023-11-05 11:45:00, 2023-11-05 11:50:00]|ALXN|127.81            |201.66995         |[2023-11-05 11:30:00, 2023-11-05 11:35:00]|\n",
      "|[2023-11-05 11:55:00, 2023-11-05 12:00:00]|ALXN|104.12333333333333|139.99            |[2023-11-05 11:50:00, 2023-11-05 11:55:00]|\n",
      "|[2023-11-05 12:25:00, 2023-11-05 12:30:00]|ALXN|148.73833333333332|173.71            |[2023-11-05 12:20:00, 2023-11-05 12:25:00]|\n",
      "|[2023-11-05 12:30:00, 2023-11-05 12:35:00]|ALXN|128.63833333333335|148.73833333333332|[2023-11-05 12:25:00, 2023-11-05 12:30:00]|\n",
      "|[2023-11-05 12:45:00, 2023-11-05 12:50:00]|ALXN|113.5             |131.575           |[2023-11-05 12:40:00, 2023-11-05 12:45:00]|\n",
      "|[2023-11-05 11:10:00, 2023-11-05 11:15:00]|GIS |49.35666666666666 |50.5207           |[2023-11-05 11:05:00, 2023-11-05 11:10:00]|\n",
      "|[2023-11-05 11:15:00, 2023-11-05 11:20:00]|GIS |48.6              |49.35666666666666 |[2023-11-05 11:10:00, 2023-11-05 11:15:00]|\n",
      "|[2023-11-05 11:50:00, 2023-11-05 11:55:00]|GIS |51.80505          |60.67             |[2023-11-05 11:45:00, 2023-11-05 11:50:00]|\n",
      "|[2023-11-05 12:00:00, 2023-11-05 12:05:00]|GIS |51.05             |53.275000000000006|[2023-11-05 11:55:00, 2023-11-05 12:00:00]|\n",
      "|[2023-11-05 12:05:00, 2023-11-05 12:10:00]|GIS |51.010000000000005|51.05             |[2023-11-05 12:00:00, 2023-11-05 12:05:00]|\n",
      "|[2023-11-05 12:15:00, 2023-11-05 12:20:00]|GIS |52.66             |53.3              |[2023-11-05 12:10:00, 2023-11-05 12:15:00]|\n",
      "|[2023-11-05 12:35:00, 2023-11-05 12:40:00]|GIS |62.19             |66.929975         |[2023-11-05 12:30:00, 2023-11-05 12:35:00]|\n",
      "|[2023-11-05 12:40:00, 2023-11-05 12:45:00]|GIS |51.97             |62.19             |[2023-11-05 12:35:00, 2023-11-05 12:40:00]|\n",
      "|[2023-11-05 11:20:00, 2023-11-05 11:25:00]|K   |66.23             |67.63             |[2023-11-05 11:15:00, 2023-11-05 11:20:00]|\n",
      "|[2023-11-05 11:25:00, 2023-11-05 11:30:00]|K   |62.1798           |66.23             |[2023-11-05 11:20:00, 2023-11-05 11:25:00]|\n",
      "|[2023-11-05 11:50:00, 2023-11-05 11:55:00]|K   |71.255            |73.32             |[2023-11-05 11:45:00, 2023-11-05 11:50:00]|\n",
      "|[2023-11-05 11:55:00, 2023-11-05 12:00:00]|K   |66.625            |71.255            |[2023-11-05 11:50:00, 2023-11-05 11:55:00]|\n",
      "|[2023-11-05 12:00:00, 2023-11-05 12:05:00]|K   |61.11             |66.625            |[2023-11-05 11:55:00, 2023-11-05 12:00:00]|\n",
      "|[2023-11-05 12:30:00, 2023-11-05 12:35:00]|K   |76.47             |77.03999999999999 |[2023-11-05 12:25:00, 2023-11-05 12:30:00]|\n",
      "+------------------------------------------+----+------------------+------------------+------------------------------------------+\n",
      "only showing top 20 rows\n",
      "\n"
     ]
    },
    {
     "name": "stderr",
     "output_type": "stream",
     "text": [
      "                                                                                \r"
     ]
    },
    {
     "name": "stdout",
     "output_type": "stream",
     "text": [
      "+------------------------------------------+----+------------------+------------------+------------------------------------------+\n",
      "|window                                    |name|avg(price)        |previous_price    |previous_window                           |\n",
      "+------------------------------------------+----+------------------+------------------+------------------------------------------+\n",
      "|[2023-11-05 11:15:00, 2023-11-05 11:20:00]|ALXN|180.2             |108.02            |[2023-11-05 11:10:00, 2023-11-05 11:15:00]|\n",
      "|[2023-11-05 11:25:00, 2023-11-05 11:30:00]|ALXN|186.99            |164.66            |[2023-11-05 11:20:00, 2023-11-05 11:25:00]|\n",
      "|[2023-11-05 11:30:00, 2023-11-05 11:35:00]|ALXN|201.66995         |186.99            |[2023-11-05 11:25:00, 2023-11-05 11:30:00]|\n",
      "|[2023-11-05 11:50:00, 2023-11-05 11:55:00]|ALXN|139.99            |127.81            |[2023-11-05 11:45:00, 2023-11-05 11:50:00]|\n",
      "|[2023-11-05 12:00:00, 2023-11-05 12:05:00]|ALXN|116.72            |104.12333333333333|[2023-11-05 11:55:00, 2023-11-05 12:00:00]|\n",
      "|[2023-11-05 12:05:00, 2023-11-05 12:10:00]|ALXN|161.12666666666667|116.72            |[2023-11-05 12:00:00, 2023-11-05 12:05:00]|\n",
      "|[2023-11-05 12:20:00, 2023-11-05 12:25:00]|ALXN|173.71            |161.12666666666667|[2023-11-05 12:05:00, 2023-11-05 12:10:00]|\n",
      "|[2023-11-05 12:35:00, 2023-11-05 12:40:00]|ALXN|129.4448          |128.63833333333335|[2023-11-05 12:30:00, 2023-11-05 12:35:00]|\n",
      "|[2023-11-05 12:40:00, 2023-11-05 12:45:00]|ALXN|131.575           |129.4448          |[2023-11-05 12:35:00, 2023-11-05 12:40:00]|\n",
      "|[2023-11-05 11:20:00, 2023-11-05 11:25:00]|GIS |50.92             |48.6              |[2023-11-05 11:15:00, 2023-11-05 11:20:00]|\n",
      "|[2023-11-05 11:30:00, 2023-11-05 11:35:00]|GIS |57.61             |50.92             |[2023-11-05 11:20:00, 2023-11-05 11:25:00]|\n",
      "|[2023-11-05 11:45:00, 2023-11-05 11:50:00]|GIS |60.67             |57.61             |[2023-11-05 11:30:00, 2023-11-05 11:35:00]|\n",
      "|[2023-11-05 11:55:00, 2023-11-05 12:00:00]|GIS |53.275000000000006|51.80505          |[2023-11-05 11:50:00, 2023-11-05 11:55:00]|\n",
      "|[2023-11-05 12:10:00, 2023-11-05 12:15:00]|GIS |53.3              |51.010000000000005|[2023-11-05 12:05:00, 2023-11-05 12:10:00]|\n",
      "|[2023-11-05 12:20:00, 2023-11-05 12:25:00]|GIS |57.754999999999995|52.66             |[2023-11-05 12:15:00, 2023-11-05 12:20:00]|\n",
      "|[2023-11-05 12:30:00, 2023-11-05 12:35:00]|GIS |66.929975         |57.754999999999995|[2023-11-05 12:20:00, 2023-11-05 12:25:00]|\n",
      "|[2023-11-05 11:15:00, 2023-11-05 11:20:00]|K   |67.63             |65.865            |[2023-11-05 11:10:00, 2023-11-05 11:15:00]|\n",
      "|[2023-11-05 11:30:00, 2023-11-05 11:35:00]|K   |66.81             |62.1798           |[2023-11-05 11:25:00, 2023-11-05 11:30:00]|\n",
      "|[2023-11-05 11:45:00, 2023-11-05 11:50:00]|K   |73.32             |66.81             |[2023-11-05 11:30:00, 2023-11-05 11:35:00]|\n",
      "|[2023-11-05 12:05:00, 2023-11-05 12:10:00]|K   |64.26             |61.11             |[2023-11-05 12:00:00, 2023-11-05 12:05:00]|\n",
      "+------------------------------------------+----+------------------+------------------+------------------------------------------+\n",
      "only showing top 20 rows\n",
      "\n"
     ]
    },
    {
     "name": "stderr",
     "output_type": "stream",
     "text": [
      "                                                                                \r"
     ]
    },
    {
     "name": "stdout",
     "output_type": "stream",
     "text": [
      "+------------------------------------------+----+------------------+------------------+------------------------------------------+\n",
      "|window                                    |name|avg(price)        |previous_price    |previous_window                           |\n",
      "+------------------------------------------+----+------------------+------------------+------------------------------------------+\n",
      "|[2023-11-05 11:20:00, 2023-11-05 11:25:00]|ALXN|164.66            |180.2             |[2023-11-05 11:15:00, 2023-11-05 11:20:00]|\n",
      "|[2023-11-05 11:45:00, 2023-11-05 11:50:00]|ALXN|127.81            |201.66995         |[2023-11-05 11:30:00, 2023-11-05 11:35:00]|\n",
      "|[2023-11-05 11:55:00, 2023-11-05 12:00:00]|ALXN|104.12333333333333|139.99            |[2023-11-05 11:50:00, 2023-11-05 11:55:00]|\n",
      "|[2023-11-05 12:25:00, 2023-11-05 12:30:00]|ALXN|148.73833333333332|173.71            |[2023-11-05 12:20:00, 2023-11-05 12:25:00]|\n",
      "|[2023-11-05 12:30:00, 2023-11-05 12:35:00]|ALXN|128.63833333333335|148.73833333333332|[2023-11-05 12:25:00, 2023-11-05 12:30:00]|\n",
      "|[2023-11-05 12:45:00, 2023-11-05 12:50:00]|ALXN|113.5             |131.575           |[2023-11-05 12:40:00, 2023-11-05 12:45:00]|\n",
      "|[2023-11-05 11:10:00, 2023-11-05 11:15:00]|GIS |49.35666666666666 |50.5207           |[2023-11-05 11:05:00, 2023-11-05 11:10:00]|\n",
      "|[2023-11-05 11:15:00, 2023-11-05 11:20:00]|GIS |48.6              |49.35666666666666 |[2023-11-05 11:10:00, 2023-11-05 11:15:00]|\n",
      "|[2023-11-05 11:50:00, 2023-11-05 11:55:00]|GIS |51.80505          |60.67             |[2023-11-05 11:45:00, 2023-11-05 11:50:00]|\n",
      "|[2023-11-05 12:00:00, 2023-11-05 12:05:00]|GIS |51.05             |53.275000000000006|[2023-11-05 11:55:00, 2023-11-05 12:00:00]|\n",
      "|[2023-11-05 12:05:00, 2023-11-05 12:10:00]|GIS |51.010000000000005|51.05             |[2023-11-05 12:00:00, 2023-11-05 12:05:00]|\n",
      "|[2023-11-05 12:15:00, 2023-11-05 12:20:00]|GIS |52.66             |53.3              |[2023-11-05 12:10:00, 2023-11-05 12:15:00]|\n",
      "|[2023-11-05 12:35:00, 2023-11-05 12:40:00]|GIS |62.19             |66.929975         |[2023-11-05 12:30:00, 2023-11-05 12:35:00]|\n",
      "|[2023-11-05 12:40:00, 2023-11-05 12:45:00]|GIS |51.97             |62.19             |[2023-11-05 12:35:00, 2023-11-05 12:40:00]|\n",
      "|[2023-11-05 11:20:00, 2023-11-05 11:25:00]|K   |66.23             |67.63             |[2023-11-05 11:15:00, 2023-11-05 11:20:00]|\n",
      "|[2023-11-05 11:25:00, 2023-11-05 11:30:00]|K   |62.1798           |66.23             |[2023-11-05 11:20:00, 2023-11-05 11:25:00]|\n",
      "|[2023-11-05 11:50:00, 2023-11-05 11:55:00]|K   |71.255            |73.32             |[2023-11-05 11:45:00, 2023-11-05 11:50:00]|\n",
      "|[2023-11-05 11:55:00, 2023-11-05 12:00:00]|K   |66.625            |71.255            |[2023-11-05 11:50:00, 2023-11-05 11:55:00]|\n",
      "|[2023-11-05 12:00:00, 2023-11-05 12:05:00]|K   |61.11             |66.625            |[2023-11-05 11:55:00, 2023-11-05 12:00:00]|\n",
      "|[2023-11-05 12:30:00, 2023-11-05 12:35:00]|K   |76.47             |77.03999999999999 |[2023-11-05 12:25:00, 2023-11-05 12:30:00]|\n",
      "+------------------------------------------+----+------------------+------------------+------------------------------------------+\n",
      "only showing top 20 rows\n",
      "\n"
     ]
    },
    {
     "name": "stderr",
     "output_type": "stream",
     "text": [
      "                                                                                \r"
     ]
    },
    {
     "name": "stdout",
     "output_type": "stream",
     "text": [
      "+------------------------------------------+----+------------------+------------------+------------------------------------------+\n",
      "|window                                    |name|avg(price)        |previous_price    |previous_window                           |\n",
      "+------------------------------------------+----+------------------+------------------+------------------------------------------+\n",
      "|[2023-11-05 11:15:00, 2023-11-05 11:20:00]|ALXN|180.2             |108.02            |[2023-11-05 11:10:00, 2023-11-05 11:15:00]|\n",
      "|[2023-11-05 11:25:00, 2023-11-05 11:30:00]|ALXN|186.99            |164.66            |[2023-11-05 11:20:00, 2023-11-05 11:25:00]|\n",
      "|[2023-11-05 11:30:00, 2023-11-05 11:35:00]|ALXN|201.66995         |186.99            |[2023-11-05 11:25:00, 2023-11-05 11:30:00]|\n",
      "|[2023-11-05 11:50:00, 2023-11-05 11:55:00]|ALXN|139.99            |127.81            |[2023-11-05 11:45:00, 2023-11-05 11:50:00]|\n",
      "|[2023-11-05 12:00:00, 2023-11-05 12:05:00]|ALXN|116.72            |104.12333333333333|[2023-11-05 11:55:00, 2023-11-05 12:00:00]|\n",
      "|[2023-11-05 12:05:00, 2023-11-05 12:10:00]|ALXN|161.12666666666667|116.72            |[2023-11-05 12:00:00, 2023-11-05 12:05:00]|\n",
      "|[2023-11-05 12:20:00, 2023-11-05 12:25:00]|ALXN|173.71            |161.12666666666667|[2023-11-05 12:05:00, 2023-11-05 12:10:00]|\n",
      "|[2023-11-05 12:35:00, 2023-11-05 12:40:00]|ALXN|129.4448          |128.63833333333335|[2023-11-05 12:30:00, 2023-11-05 12:35:00]|\n",
      "|[2023-11-05 12:40:00, 2023-11-05 12:45:00]|ALXN|131.575           |129.4448          |[2023-11-05 12:35:00, 2023-11-05 12:40:00]|\n",
      "|[2023-11-05 11:20:00, 2023-11-05 11:25:00]|GIS |50.92             |48.6              |[2023-11-05 11:15:00, 2023-11-05 11:20:00]|\n",
      "|[2023-11-05 11:30:00, 2023-11-05 11:35:00]|GIS |57.61             |50.92             |[2023-11-05 11:20:00, 2023-11-05 11:25:00]|\n",
      "|[2023-11-05 11:45:00, 2023-11-05 11:50:00]|GIS |60.67             |57.61             |[2023-11-05 11:30:00, 2023-11-05 11:35:00]|\n",
      "|[2023-11-05 11:55:00, 2023-11-05 12:00:00]|GIS |53.275000000000006|51.80505          |[2023-11-05 11:50:00, 2023-11-05 11:55:00]|\n",
      "|[2023-11-05 12:10:00, 2023-11-05 12:15:00]|GIS |53.3              |51.010000000000005|[2023-11-05 12:05:00, 2023-11-05 12:10:00]|\n",
      "|[2023-11-05 12:20:00, 2023-11-05 12:25:00]|GIS |57.754999999999995|52.66             |[2023-11-05 12:15:00, 2023-11-05 12:20:00]|\n",
      "|[2023-11-05 12:30:00, 2023-11-05 12:35:00]|GIS |66.929975         |57.754999999999995|[2023-11-05 12:20:00, 2023-11-05 12:25:00]|\n",
      "|[2023-11-05 11:15:00, 2023-11-05 11:20:00]|K   |67.63             |65.865            |[2023-11-05 11:10:00, 2023-11-05 11:15:00]|\n",
      "|[2023-11-05 11:30:00, 2023-11-05 11:35:00]|K   |66.81             |62.1798           |[2023-11-05 11:25:00, 2023-11-05 11:30:00]|\n",
      "|[2023-11-05 11:45:00, 2023-11-05 11:50:00]|K   |73.32             |66.81             |[2023-11-05 11:30:00, 2023-11-05 11:35:00]|\n",
      "|[2023-11-05 12:05:00, 2023-11-05 12:10:00]|K   |64.26             |61.11             |[2023-11-05 12:00:00, 2023-11-05 12:05:00]|\n",
      "+------------------------------------------+----+------------------+------------------+------------------------------------------+\n",
      "only showing top 20 rows\n",
      "\n"
     ]
    },
    {
     "name": "stderr",
     "output_type": "stream",
     "text": [
      "                                                                                \r"
     ]
    },
    {
     "name": "stdout",
     "output_type": "stream",
     "text": [
      "+------------------------------------------+----+------------------+------------------+------------------------------------------+\n",
      "|window                                    |name|avg(price)        |previous_price    |previous_window                           |\n",
      "+------------------------------------------+----+------------------+------------------+------------------------------------------+\n",
      "|[2023-11-05 11:20:00, 2023-11-05 11:25:00]|ALXN|164.66            |180.2             |[2023-11-05 11:15:00, 2023-11-05 11:20:00]|\n",
      "|[2023-11-05 11:45:00, 2023-11-05 11:50:00]|ALXN|127.81            |201.66995         |[2023-11-05 11:30:00, 2023-11-05 11:35:00]|\n",
      "|[2023-11-05 11:55:00, 2023-11-05 12:00:00]|ALXN|104.12333333333333|139.99            |[2023-11-05 11:50:00, 2023-11-05 11:55:00]|\n",
      "|[2023-11-05 12:25:00, 2023-11-05 12:30:00]|ALXN|148.73833333333332|173.71            |[2023-11-05 12:20:00, 2023-11-05 12:25:00]|\n",
      "|[2023-11-05 12:30:00, 2023-11-05 12:35:00]|ALXN|128.63833333333335|148.73833333333332|[2023-11-05 12:25:00, 2023-11-05 12:30:00]|\n",
      "|[2023-11-05 12:45:00, 2023-11-05 12:50:00]|ALXN|113.5             |131.575           |[2023-11-05 12:40:00, 2023-11-05 12:45:00]|\n",
      "|[2023-11-05 11:10:00, 2023-11-05 11:15:00]|GIS |49.35666666666666 |50.5207           |[2023-11-05 11:05:00, 2023-11-05 11:10:00]|\n",
      "|[2023-11-05 11:15:00, 2023-11-05 11:20:00]|GIS |48.6              |49.35666666666666 |[2023-11-05 11:10:00, 2023-11-05 11:15:00]|\n",
      "|[2023-11-05 11:50:00, 2023-11-05 11:55:00]|GIS |51.80505          |60.67             |[2023-11-05 11:45:00, 2023-11-05 11:50:00]|\n",
      "|[2023-11-05 12:00:00, 2023-11-05 12:05:00]|GIS |51.05             |53.275000000000006|[2023-11-05 11:55:00, 2023-11-05 12:00:00]|\n",
      "|[2023-11-05 12:05:00, 2023-11-05 12:10:00]|GIS |51.010000000000005|51.05             |[2023-11-05 12:00:00, 2023-11-05 12:05:00]|\n",
      "|[2023-11-05 12:15:00, 2023-11-05 12:20:00]|GIS |52.66             |53.3              |[2023-11-05 12:10:00, 2023-11-05 12:15:00]|\n",
      "|[2023-11-05 12:35:00, 2023-11-05 12:40:00]|GIS |62.19             |66.929975         |[2023-11-05 12:30:00, 2023-11-05 12:35:00]|\n",
      "|[2023-11-05 12:40:00, 2023-11-05 12:45:00]|GIS |51.97             |62.19             |[2023-11-05 12:35:00, 2023-11-05 12:40:00]|\n",
      "|[2023-11-05 11:20:00, 2023-11-05 11:25:00]|K   |66.23             |67.63             |[2023-11-05 11:15:00, 2023-11-05 11:20:00]|\n",
      "|[2023-11-05 11:25:00, 2023-11-05 11:30:00]|K   |62.1798           |66.23             |[2023-11-05 11:20:00, 2023-11-05 11:25:00]|\n",
      "|[2023-11-05 11:50:00, 2023-11-05 11:55:00]|K   |71.255            |73.32             |[2023-11-05 11:45:00, 2023-11-05 11:50:00]|\n",
      "|[2023-11-05 11:55:00, 2023-11-05 12:00:00]|K   |66.625            |71.255            |[2023-11-05 11:50:00, 2023-11-05 11:55:00]|\n",
      "|[2023-11-05 12:00:00, 2023-11-05 12:05:00]|K   |61.11             |66.625            |[2023-11-05 11:55:00, 2023-11-05 12:00:00]|\n",
      "|[2023-11-05 12:30:00, 2023-11-05 12:35:00]|K   |76.47             |77.03999999999999 |[2023-11-05 12:25:00, 2023-11-05 12:30:00]|\n",
      "+------------------------------------------+----+------------------+------------------+------------------------------------------+\n",
      "only showing top 20 rows\n",
      "\n"
     ]
    },
    {
     "name": "stderr",
     "output_type": "stream",
     "text": [
      "[Stage 4140:(178 + 4) / 200][Stage 4143:> (0 + 0) / 1][Stage 4144:> (0 + 0) / 4]\r"
     ]
    }
   ],
   "source": [
    "query_1.awaitTermination()\n",
    "query_2.awaitTermination()\n",
    "query_3.awaitTermination()\n",
    "query_4.awaitTermination()\n",
    "query_5.awaitTermination()"
   ]
  },
  {
   "cell_type": "code",
   "execution_count": null,
   "id": "dbb2be93",
   "metadata": {},
   "outputs": [],
   "source": []
  }
 ],
 "metadata": {
  "kernelspec": {
   "display_name": "Python 3 (ipykernel)",
   "language": "python",
   "name": "python3"
  },
  "language_info": {
   "codemirror_mode": {
    "name": "ipython",
    "version": 3
   },
   "file_extension": ".py",
   "mimetype": "text/x-python",
   "name": "python",
   "nbconvert_exporter": "python",
   "pygments_lexer": "ipython3",
   "version": "3.9.2"
  }
 },
 "nbformat": 4,
 "nbformat_minor": 5
}
