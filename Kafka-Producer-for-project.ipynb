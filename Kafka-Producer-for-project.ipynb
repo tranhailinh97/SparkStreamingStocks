{
 "cells": [
  {
   "cell_type": "code",
   "execution_count": 1,
   "id": "2b7da794",
   "metadata": {},
   "outputs": [
    {
     "name": "stdout",
     "output_type": "stream",
     "text": [
      "Requirement already satisfied: confluent_kafka in /usr/local/lib/python3.9/dist-packages (2.2.0)\n",
      "Requirement already satisfied: sseclient in /usr/local/lib/python3.9/dist-packages (0.0.27)\n",
      "Requirement already satisfied: requests>=2.9 in /usr/local/lib/python3.9/dist-packages (from sseclient) (2.31.0)\n",
      "Requirement already satisfied: six in /usr/local/lib/python3.9/dist-packages (from sseclient) (1.16.0)\n",
      "Requirement already satisfied: charset-normalizer<4,>=2 in /usr/local/lib/python3.9/dist-packages (from requests>=2.9->sseclient) (3.2.0)\n",
      "Requirement already satisfied: idna<4,>=2.5 in /usr/local/lib/python3.9/dist-packages (from requests>=2.9->sseclient) (3.4)\n",
      "Requirement already satisfied: urllib3<3,>=1.21.1 in /usr/local/lib/python3.9/dist-packages (from requests>=2.9->sseclient) (2.0.5)\n",
      "Requirement already satisfied: certifi>=2017.4.17 in /usr/local/lib/python3.9/dist-packages (from requests>=2.9->sseclient) (2023.7.22)\n",
      "\u001b[33mWARNING: Running pip as the 'root' user can result in broken permissions and conflicting behaviour with the system package manager. It is recommended to use a virtual environment instead: https://pip.pypa.io/warnings/venv\u001b[0m\u001b[33m\n",
      "\u001b[0m"
     ]
    }
   ],
   "source": [
    "!pip install confluent_kafka sseclient"
   ]
  },
  {
   "cell_type": "code",
   "execution_count": 2,
   "id": "dd6228e4",
   "metadata": {},
   "outputs": [],
   "source": [
    "from confluent_kafka import SerializingProducer, DeserializingConsumer\n",
    "from confluent_kafka.serialization import StringSerializer, StringDeserializer\n",
    "from confluent_kafka.admin import AdminClient, NewTopic\n",
    "from uuid import uuid4\n",
    "import sys, random\n",
    "\n",
    "brokers = \"kafka1:9092,kafka2:9093\""
   ]
  },
  {
   "cell_type": "code",
   "execution_count": 3,
   "id": "d9851070",
   "metadata": {},
   "outputs": [],
   "source": [
    "pconf = {\n",
    "    'bootstrap.servers': brokers,\n",
    "    'partitioner': 'murmur2_random',\n",
    "    'key.serializer': StringSerializer('utf_8'),\n",
    "    'value.serializer':  StringSerializer('utf_8')\n",
    "}"
   ]
  },
  {
   "cell_type": "code",
   "execution_count": 8,
   "id": "c3896496",
   "metadata": {},
   "outputs": [],
   "source": [
    "p = SerializingProducer(pconf)"
   ]
  },
  {
   "cell_type": "code",
   "execution_count": 9,
   "id": "2c27ce56",
   "metadata": {},
   "outputs": [],
   "source": [
    "stocks = \"stocks.csv\""
   ]
  },
  {
   "cell_type": "code",
   "execution_count": 10,
   "id": "7af4058d",
   "metadata": {},
   "outputs": [],
   "source": [
    "from datetime import datetime  \n",
    "  #2023-10-13T08:16:13Z\n",
    "def construct_stock(row):\n",
    "    time_stamp = time.time()\n",
    "    date_time = datetime.fromtimestamp(time_stamp)\n",
    "    str_date_time = date_time.strftime(\"%Y-%m-%dT%H:%M:%SZ\") #\"%d-%m-%Y, %H:%M:%S\"\n",
    "    stock = {\"name\": row[6],\n",
    "             \"price\": float(row[2]),\n",
    "             \"timestamp\":str_date_time\n",
    "             }\n",
    "    return stock"
   ]
  },
  {
   "cell_type": "code",
   "execution_count": 11,
   "id": "0bf466d9",
   "metadata": {},
   "outputs": [
    {
     "name": "stdout",
     "output_type": "stream",
     "text": [
      "{'name': 'ISRG', 'price': 192.6465, 'timestamp': '2023-11-05T23:51:23Z'}\n",
      "{'name': 'BBT', 'price': 30.8, 'timestamp': '2023-11-05T23:51:24Z'}\n",
      "{'name': 'FITB', 'price': 16.63, 'timestamp': '2023-11-05T23:51:25Z'}\n",
      "{'name': 'ZION', 'price': 24.57, 'timestamp': '2023-11-05T23:51:25Z'}\n",
      "{'name': 'HCP', 'price': 47.08, 'timestamp': '2023-11-05T23:51:26Z'}\n",
      "{'name': 'LLY', 'price': 53.91, 'timestamp': '2023-11-05T23:51:26Z'}\n",
      "{'name': 'MAC', 'price': 62.01, 'timestamp': '2023-11-05T23:51:27Z'}\n",
      "{'name': 'ADBE', 'price': 39.15, 'timestamp': '2023-11-05T23:51:27Z'}\n",
      "{'name': 'AZO', 'price': 384.01, 'timestamp': '2023-11-05T23:51:28Z'}\n",
      "{'name': 'CL', 'price': 54.165, 'timestamp': '2023-11-05T23:51:28Z'}\n",
      "{'name': 'PPG', 'price': 69.885, 'timestamp': '2023-11-05T23:51:29Z'}\n",
      "{'name': 'KMB', 'price': 90.08, 'timestamp': '2023-11-05T23:51:29Z'}\n",
      "{'name': 'AMAT', 'price': 13.99, 'timestamp': '2023-11-05T23:51:30Z'}\n",
      "{'name': 'KR', 'price': 14.205, 'timestamp': '2023-11-05T23:51:30Z'}\n",
      "{'name': 'WEC', 'price': 39.9, 'timestamp': '2023-11-05T23:51:31Z'}\n",
      "{'name': 'VRTX', 'price': 46.46, 'timestamp': '2023-11-05T23:51:31Z'}\n",
      "{'name': 'PNW', 'price': 54.63, 'timestamp': '2023-11-05T23:51:32Z'}\n",
      "{'name': 'DTE', 'price': 64.56, 'timestamp': '2023-11-05T23:51:32Z'}\n",
      "{'name': 'YUM', 'price': 64.536, 'timestamp': '2023-11-05T23:51:33Z'}\n",
      "{'name': 'LH', 'price': 90.065, 'timestamp': '2023-11-05T23:51:33Z'}\n",
      "{'name': 'CMI', 'price': 119.79, 'timestamp': '2023-11-05T23:51:34Z'}\n",
      "{'name': 'FITB', 'price': 16.16, 'timestamp': '2023-11-05T23:51:34Z'}\n",
      "{'name': 'DFS', 'price': 39.82, 'timestamp': '2023-11-05T23:51:35Z'}\n",
      "{'name': 'AIZ', 'price': 42.13, 'timestamp': '2023-11-05T23:51:35Z'}\n",
      "{'name': 'IT', 'price': 48.93, 'timestamp': '2023-11-05T23:51:36Z'}\n",
      "{'name': 'KORS', 'price': 64.04, 'timestamp': '2023-11-05T23:51:36Z'}\n",
      "{'name': 'UNP', 'price': 68.515, 'timestamp': '2023-11-05T23:51:37Z'}\n",
      "{'name': 'GE', 'price': 23.75, 'timestamp': '2023-11-05T23:51:37Z'}\n",
      "{'name': 'HAS', 'price': 40.93, 'timestamp': '2023-11-05T23:51:38Z'}\n",
      "{'name': 'IT', 'price': 49.27, 'timestamp': '2023-11-05T23:51:38Z'}\n",
      "{'name': 'FLS', 'price': 53.4833, 'timestamp': '2023-11-05T23:51:39Z'}\n",
      "{'name': 'PFE', 'price': 27.75, 'timestamp': '2023-11-05T23:51:39Z'}\n",
      "{'name': 'AKAM', 'price': 38.76, 'timestamp': '2023-11-05T23:51:40Z'}\n",
      "{'name': 'ILMN', 'price': 49.74, 'timestamp': '2023-11-05T23:51:40Z'}\n",
      "{'name': 'FLS', 'price': 53.4166, 'timestamp': '2023-11-05T23:51:41Z'}\n",
      "{'name': 'TGT', 'price': 63.21, 'timestamp': '2023-11-05T23:51:41Z'}\n",
      "{'name': 'XYL', 'price': 28.05, 'timestamp': '2023-11-05T23:51:42Z'}\n",
      "{'name': 'PDCO', 'price': 37.26, 'timestamp': '2023-11-05T23:51:42Z'}\n",
      "{'name': 'PKG', 'price': 41.33, 'timestamp': '2023-11-05T23:51:43Z'}\n",
      "{'name': 'O', 'price': 44.83, 'timestamp': '2023-11-05T23:51:43Z'}\n",
      "{'name': 'PNR', 'price': 51.33, 'timestamp': '2023-11-05T23:51:44Z'}\n",
      "{'name': 'UHS', 'price': 57.52, 'timestamp': '2023-11-05T23:51:44Z'}\n",
      "{'name': 'EOG', 'price': 63.53, 'timestamp': '2023-11-05T23:51:45Z'}\n",
      "{'name': 'WU', 'price': 14.09, 'timestamp': '2023-11-05T23:51:45Z'}\n",
      "{'name': 'BBY', 'price': 17.41, 'timestamp': '2023-11-05T23:51:46Z'}\n",
      "{'name': 'ADM', 'price': 32.46, 'timestamp': '2023-11-05T23:51:46Z'}\n",
      "{'name': 'USB', 'price': 33.95, 'timestamp': '2023-11-05T23:51:47Z'}\n",
      "{'name': 'VFC', 'price': 38.1929, 'timestamp': '2023-11-05T23:51:47Z'}\n",
      "{'name': 'DHR', 'price': 61.46, 'timestamp': '2023-11-05T23:51:48Z'}\n",
      "{'name': 'BAX', 'price': 67.3899, 'timestamp': '2023-11-05T23:51:48Z'}\n",
      "{'name': 'UAA', 'price': 12.0525, 'timestamp': '2023-11-05T23:51:49Z'}\n",
      "{'name': 'MS', 'price': 23.85, 'timestamp': '2023-11-05T23:51:49Z'}\n",
      "{'name': 'FB', 'price': 27.64, 'timestamp': '2023-11-05T23:51:50Z'}\n",
      "{'name': 'DISH', 'price': 35.4, 'timestamp': '2023-11-05T23:51:50Z'}\n",
      "{'name': 'TEL', 'price': 41.17, 'timestamp': '2023-11-05T23:51:51Z'}\n",
      "{'name': 'PXD', 'price': 124.69, 'timestamp': '2023-11-05T23:51:51Z'}\n",
      "{'name': 'UAL', 'price': 26.4, 'timestamp': '2023-11-05T23:51:52Z'}\n",
      "{'name': 'ADSK', 'price': 38.08, 'timestamp': '2023-11-05T23:51:52Z'}\n",
      "{'name': 'ARE', 'price': 71.155, 'timestamp': '2023-11-05T23:51:53Z'}\n",
      "{'name': 'MDLZ', 'price': 27.67, 'timestamp': '2023-11-05T23:51:53Z'}\n",
      "{'name': 'COG', 'price': 31.31, 'timestamp': '2023-11-05T23:51:54Z'}\n",
      "{'name': 'SYY', 'price': 32.21, 'timestamp': '2023-11-05T23:51:54Z'}\n",
      "{'name': 'FISV', 'price': 40.795, 'timestamp': '2023-11-05T23:51:55Z'}\n",
      "{'name': 'AES', 'price': 11.79, 'timestamp': '2023-11-05T23:51:55Z'}\n",
      "{'name': 'PHM', 'price': 19.69, 'timestamp': '2023-11-05T23:51:56Z'}\n",
      "{'name': 'GM', 'price': 27.57, 'timestamp': '2023-11-05T23:51:56Z'}\n",
      "{'name': 'DFS', 'price': 38.82, 'timestamp': '2023-11-05T23:51:57Z'}\n",
      "{'name': 'OMC', 'price': 57.85, 'timestamp': '2023-11-05T23:51:57Z'}\n",
      "{'name': 'ADP', 'price': 61.715, 'timestamp': '2023-11-05T23:51:58Z'}\n",
      "{'name': 'AWK', 'price': 39.895, 'timestamp': '2023-11-05T23:51:58Z'}\n",
      "{'name': 'MPC', 'price': 42.505, 'timestamp': '2023-11-05T23:51:59Z'}\n",
      "{'name': 'BEN', 'price': 47.025, 'timestamp': '2023-11-05T23:51:59Z'}\n",
      "{'name': 'MCO', 'price': 48.96, 'timestamp': '2023-11-05T23:52:00Z'}\n",
      "{'name': 'TSN', 'price': 23.58, 'timestamp': '2023-11-05T23:52:00Z'}\n",
      "{'name': 'AIZ', 'price': 42.76, 'timestamp': '2023-11-05T23:52:01Z'}\n",
      "{'name': 'CBS', 'price': 45.18, 'timestamp': '2023-11-05T23:52:01Z'}\n",
      "{'name': 'VTR', 'price': 72.1, 'timestamp': '2023-11-05T23:52:02Z'}\n",
      "{'name': 'ACN', 'price': 77.0, 'timestamp': '2023-11-05T23:52:02Z'}\n",
      "{'name': 'INCY', 'price': 23.0, 'timestamp': '2023-11-05T23:52:03Z'}\n",
      "{'name': 'UDR', 'price': 24.45, 'timestamp': '2023-11-05T23:52:03Z'}\n",
      "{'name': 'FLIR', 'price': 26.44, 'timestamp': '2023-11-05T23:52:04Z'}\n",
      "{'name': 'JPM', 'price': 50.19, 'timestamp': '2023-11-05T23:52:04Z'}\n",
      "{'name': 'PXD', 'price': 128.0, 'timestamp': '2023-11-05T23:52:05Z'}\n",
      "{'name': 'HST', 'price': 16.61, 'timestamp': '2023-11-05T23:52:05Z'}\n",
      "{'name': 'TSS', 'price': 24.3, 'timestamp': '2023-11-05T23:52:06Z'}\n",
      "{'name': 'AIV', 'price': 30.63, 'timestamp': '2023-11-05T23:52:06Z'}\n",
      "{'name': 'CHRW', 'price': 57.82, 'timestamp': '2023-11-05T23:52:07Z'}\n",
      "{'name': 'MU', 'price': 8.945, 'timestamp': '2023-11-05T23:52:07Z'}\n",
      "{'name': 'EA', 'price': 18.82, 'timestamp': '2023-11-05T23:52:08Z'}\n",
      "{'name': 'CBG', 'price': 24.8, 'timestamp': '2023-11-05T23:52:08Z'}\n",
      "{'name': 'FISV', 'price': 42.385, 'timestamp': '2023-11-05T23:52:09Z'}\n",
      "{'name': 'KLAC', 'price': 55.75, 'timestamp': '2023-11-05T23:52:09Z'}\n",
      "{'name': 'WYN', 'price': 63.58, 'timestamp': '2023-11-05T23:52:10Z'}\n",
      "{'name': 'NVDA', 'price': 12.75, 'timestamp': '2023-11-05T23:52:10Z'}\n",
      "{'name': 'MRO', 'price': 33.82, 'timestamp': '2023-11-05T23:52:11Z'}\n",
      "{'name': 'NEM', 'price': 39.43, 'timestamp': '2023-11-05T23:52:11Z'}\n",
      "{'name': 'RE', 'price': 128.37, 'timestamp': '2023-11-05T23:52:12Z'}\n",
      "{'name': 'CMA', 'price': 36.74, 'timestamp': '2023-11-05T23:52:12Z'}\n",
      "{'name': 'SIG', 'price': 62.35, 'timestamp': '2023-11-05T23:52:13Z'}\n",
      "{'name': 'ETN', 'price': 63.29, 'timestamp': '2023-11-05T23:52:13Z'}\n",
      "{'name': 'DOV', 'price': 73.76, 'timestamp': '2023-11-05T23:52:14Z'}\n"
     ]
    }
   ],
   "source": [
    "import csv, json\n",
    "import time\n",
    "n = 0\n",
    "with open(stocks) as csv_file:\n",
    "    csv_reader = csv.reader(csv_file, delimiter=',')\n",
    "    try:\n",
    "        for row in csv_reader:\n",
    "            #if n == 100:\n",
    "             #  break\n",
    "            stock = construct_stock(row)\n",
    "            print(stock)\n",
    "            p.produce('stock', value=json.dumps(stock))\n",
    "            p.poll(0)\n",
    "            p.flush()\n",
    "            time.sleep(0.5)\n",
    "            #n = n + 1\n",
    "    except BufferError:\n",
    "        sys.stderr.write('%% Local producer queue is full (%d messages awaiting delivery): try again\\n' % len(p))\n",
    "\n",
    "    \n",
    "        \n",
    "    \n",
    "    \n",
    "    "
   ]
  },
  {
   "cell_type": "markdown",
   "id": "63243fac",
   "metadata": {},
   "source": [
    "### Use only if you need to purge all the messages in the queue"
   ]
  },
  {
   "cell_type": "code",
   "execution_count": 7,
   "id": "1e839852",
   "metadata": {},
   "outputs": [
    {
     "data": {
      "text/plain": [
       "{'stock': <Future at 0xffff980d7940 state=running>}"
      ]
     },
     "execution_count": 7,
     "metadata": {},
     "output_type": "execute_result"
    }
   ],
   "source": [
    "brokers = \"kafka1:9092,kafka2:9093\"\n",
    "\n",
    "admin_client = AdminClient({\"bootstrap.servers\":brokers})\n",
    "admin_client.delete_topics(topics=['stock'])"
   ]
  },
  {
   "cell_type": "code",
   "execution_count": 8,
   "id": "ee783535",
   "metadata": {},
   "outputs": [
    {
     "ename": "NameError",
     "evalue": "name 'call' is not defined",
     "output_type": "error",
     "traceback": [
      "\u001b[0;31m---------------------------------------------------------------------------\u001b[0m",
      "\u001b[0;31mNameError\u001b[0m                                 Traceback (most recent call last)",
      "Cell \u001b[0;32mIn[8], line 1\u001b[0m\n\u001b[0;32m----> 1\u001b[0m \u001b[43mdelete_kafka_topic\u001b[49m\u001b[43m(\u001b[49m\u001b[38;5;124;43m\"\u001b[39;49m\u001b[38;5;124;43mstock\u001b[39;49m\u001b[38;5;124;43m\"\u001b[39;49m\u001b[43m)\u001b[49m\n",
      "Cell \u001b[0;32mIn[7], line 2\u001b[0m, in \u001b[0;36mdelete_kafka_topic\u001b[0;34m(topic_name)\u001b[0m\n\u001b[1;32m      1\u001b[0m \u001b[38;5;28;01mdef\u001b[39;00m \u001b[38;5;21mdelete_kafka_topic\u001b[39m(topic_name):\n\u001b[0;32m----> 2\u001b[0m     \u001b[43mcall\u001b[49m([\u001b[38;5;124m\"\u001b[39m\u001b[38;5;124m/usr/bin/kafka-topics\u001b[39m\u001b[38;5;124m\"\u001b[39m, \u001b[38;5;124m\"\u001b[39m\u001b[38;5;124m--zookeeper\u001b[39m\u001b[38;5;124m\"\u001b[39m, \u001b[38;5;124m\"\u001b[39m\u001b[38;5;124mzookeeper-1:2181\u001b[39m\u001b[38;5;124m\"\u001b[39m, \u001b[38;5;124m\"\u001b[39m\u001b[38;5;124m--delete\u001b[39m\u001b[38;5;124m\"\u001b[39m, \u001b[38;5;124m\"\u001b[39m\u001b[38;5;124m--topic\u001b[39m\u001b[38;5;124m\"\u001b[39m, topic_name])\n",
      "\u001b[0;31mNameError\u001b[0m: name 'call' is not defined"
     ]
    }
   ],
   "source": []
  },
  {
   "cell_type": "code",
   "execution_count": 20,
   "id": "381cbb44",
   "metadata": {},
   "outputs": [
    {
     "name": "stdout",
     "output_type": "stream",
     "text": [
      "/bin/sh: 1: kafka-topics.sh: not found\n"
     ]
    }
   ],
   "source": [
    "!kafka-topics.sh --list --bootstrap-server kafka1:9092"
   ]
  },
  {
   "cell_type": "code",
   "execution_count": null,
   "id": "959078d6",
   "metadata": {},
   "outputs": [],
   "source": []
  }
 ],
 "metadata": {
  "kernelspec": {
   "display_name": "Python 3 (ipykernel)",
   "language": "python",
   "name": "python3"
  },
  "language_info": {
   "codemirror_mode": {
    "name": "ipython",
    "version": 3
   },
   "file_extension": ".py",
   "mimetype": "text/x-python",
   "name": "python",
   "nbconvert_exporter": "python",
   "pygments_lexer": "ipython3",
   "version": "3.9.2"
  }
 },
 "nbformat": 4,
 "nbformat_minor": 5
}
